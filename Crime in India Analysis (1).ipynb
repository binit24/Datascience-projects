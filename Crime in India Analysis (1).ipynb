{
 "cells": [
  {
   "cell_type": "markdown",
   "metadata": {},
   "source": [
    "# Crime Dataset Prediction:"
   ]
  },
  {
   "cell_type": "markdown",
   "metadata": {},
   "source": [
    "# Importing Libraries"
   ]
  },
  {
   "cell_type": "code",
   "execution_count": 1,
   "metadata": {},
   "outputs": [],
   "source": [
    "import pandas as pd\n",
    "import numpy as np\n",
    "import matplotlib.pyplot as plt\n",
    "import seaborn as sns\n",
    "import warnings\n",
    "warnings.filterwarnings('ignore')\n",
    "from sklearn.metrics import mean_squared_error,mean_absolute_error\n",
    "from sklearn.model_selection import train_test_split\n",
    "from sklearn import linear_model\n",
    "from sklearn.metrics import r2_score\n",
    "from sklearn.model_selection import GridSearchCV"
   ]
  },
  {
   "cell_type": "markdown",
   "metadata": {},
   "source": [
    "# Reading the Dataset"
   ]
  },
  {
   "cell_type": "code",
   "execution_count": 2,
   "metadata": {},
   "outputs": [],
   "source": [
    "crime = pd.read_csv(\"crimedata.csv\")"
   ]
  },
  {
   "cell_type": "code",
   "execution_count": 3,
   "metadata": {},
   "outputs": [
    {
     "name": "stdout",
     "output_type": "stream",
     "text": [
      "(9017, 33)\n"
     ]
    },
    {
     "data": {
      "text/html": [
       "<div>\n",
       "<style scoped>\n",
       "    .dataframe tbody tr th:only-of-type {\n",
       "        vertical-align: middle;\n",
       "    }\n",
       "\n",
       "    .dataframe tbody tr th {\n",
       "        vertical-align: top;\n",
       "    }\n",
       "\n",
       "    .dataframe thead th {\n",
       "        text-align: right;\n",
       "    }\n",
       "</style>\n",
       "<table border=\"1\" class=\"dataframe\">\n",
       "  <thead>\n",
       "    <tr style=\"text-align: right;\">\n",
       "      <th></th>\n",
       "      <th>STATE/UT</th>\n",
       "      <th>DISTRICT</th>\n",
       "      <th>YEAR</th>\n",
       "      <th>MURDER</th>\n",
       "      <th>ATTEMPT TO MURDER</th>\n",
       "      <th>CULPABLE HOMICIDE NOT AMOUNTING TO MURDER</th>\n",
       "      <th>RAPE</th>\n",
       "      <th>CUSTODIAL RAPE</th>\n",
       "      <th>OTHER RAPE</th>\n",
       "      <th>KIDNAPPING and ABDUCTION</th>\n",
       "      <th>...</th>\n",
       "      <th>ARSON</th>\n",
       "      <th>HURT/GREVIOUS HURT</th>\n",
       "      <th>DOWRY DEATHS</th>\n",
       "      <th>ASSAULT ON WOMEN WITH INTENT TO OUTRAGE HER MODESTY</th>\n",
       "      <th>INSULT TO MODESTY OF WOMEN</th>\n",
       "      <th>CRUELTY BY HUSBAND OR HIS RELATIVES</th>\n",
       "      <th>IMPORTATION OF GIRLS FROM FOREIGN COUNTRIES</th>\n",
       "      <th>CAUSING DEATH BY NEGLIGENCE</th>\n",
       "      <th>OTHER IPC CRIMES</th>\n",
       "      <th>TOTAL IPC CRIMES</th>\n",
       "    </tr>\n",
       "  </thead>\n",
       "  <tbody>\n",
       "    <tr>\n",
       "      <th>0</th>\n",
       "      <td>ANDHRA PRADESH</td>\n",
       "      <td>ADILABAD</td>\n",
       "      <td>2001</td>\n",
       "      <td>101</td>\n",
       "      <td>60</td>\n",
       "      <td>17</td>\n",
       "      <td>50</td>\n",
       "      <td>0</td>\n",
       "      <td>50</td>\n",
       "      <td>46</td>\n",
       "      <td>...</td>\n",
       "      <td>30</td>\n",
       "      <td>1131</td>\n",
       "      <td>16</td>\n",
       "      <td>149</td>\n",
       "      <td>34</td>\n",
       "      <td>175</td>\n",
       "      <td>0</td>\n",
       "      <td>181</td>\n",
       "      <td>1518</td>\n",
       "      <td>4154</td>\n",
       "    </tr>\n",
       "    <tr>\n",
       "      <th>1</th>\n",
       "      <td>ANDHRA PRADESH</td>\n",
       "      <td>ANANTAPUR</td>\n",
       "      <td>2001</td>\n",
       "      <td>151</td>\n",
       "      <td>125</td>\n",
       "      <td>1</td>\n",
       "      <td>23</td>\n",
       "      <td>0</td>\n",
       "      <td>23</td>\n",
       "      <td>53</td>\n",
       "      <td>...</td>\n",
       "      <td>69</td>\n",
       "      <td>1543</td>\n",
       "      <td>7</td>\n",
       "      <td>118</td>\n",
       "      <td>24</td>\n",
       "      <td>154</td>\n",
       "      <td>0</td>\n",
       "      <td>270</td>\n",
       "      <td>754</td>\n",
       "      <td>4125</td>\n",
       "    </tr>\n",
       "    <tr>\n",
       "      <th>2</th>\n",
       "      <td>ANDHRA PRADESH</td>\n",
       "      <td>CHITTOOR</td>\n",
       "      <td>2001</td>\n",
       "      <td>101</td>\n",
       "      <td>57</td>\n",
       "      <td>2</td>\n",
       "      <td>27</td>\n",
       "      <td>0</td>\n",
       "      <td>27</td>\n",
       "      <td>59</td>\n",
       "      <td>...</td>\n",
       "      <td>38</td>\n",
       "      <td>2088</td>\n",
       "      <td>14</td>\n",
       "      <td>112</td>\n",
       "      <td>83</td>\n",
       "      <td>186</td>\n",
       "      <td>0</td>\n",
       "      <td>404</td>\n",
       "      <td>1262</td>\n",
       "      <td>5818</td>\n",
       "    </tr>\n",
       "    <tr>\n",
       "      <th>3</th>\n",
       "      <td>ANDHRA PRADESH</td>\n",
       "      <td>CUDDAPAH</td>\n",
       "      <td>2001</td>\n",
       "      <td>80</td>\n",
       "      <td>53</td>\n",
       "      <td>1</td>\n",
       "      <td>20</td>\n",
       "      <td>0</td>\n",
       "      <td>20</td>\n",
       "      <td>25</td>\n",
       "      <td>...</td>\n",
       "      <td>23</td>\n",
       "      <td>795</td>\n",
       "      <td>17</td>\n",
       "      <td>126</td>\n",
       "      <td>38</td>\n",
       "      <td>57</td>\n",
       "      <td>0</td>\n",
       "      <td>233</td>\n",
       "      <td>1181</td>\n",
       "      <td>3140</td>\n",
       "    </tr>\n",
       "    <tr>\n",
       "      <th>4</th>\n",
       "      <td>ANDHRA PRADESH</td>\n",
       "      <td>EAST GODAVARI</td>\n",
       "      <td>2001</td>\n",
       "      <td>82</td>\n",
       "      <td>67</td>\n",
       "      <td>1</td>\n",
       "      <td>23</td>\n",
       "      <td>0</td>\n",
       "      <td>23</td>\n",
       "      <td>49</td>\n",
       "      <td>...</td>\n",
       "      <td>41</td>\n",
       "      <td>1244</td>\n",
       "      <td>12</td>\n",
       "      <td>109</td>\n",
       "      <td>58</td>\n",
       "      <td>247</td>\n",
       "      <td>0</td>\n",
       "      <td>431</td>\n",
       "      <td>2313</td>\n",
       "      <td>6507</td>\n",
       "    </tr>\n",
       "  </tbody>\n",
       "</table>\n",
       "<p>5 rows × 33 columns</p>\n",
       "</div>"
      ],
      "text/plain": [
       "         STATE/UT       DISTRICT  YEAR  MURDER  ATTEMPT TO MURDER  \\\n",
       "0  ANDHRA PRADESH       ADILABAD  2001     101                 60   \n",
       "1  ANDHRA PRADESH      ANANTAPUR  2001     151                125   \n",
       "2  ANDHRA PRADESH       CHITTOOR  2001     101                 57   \n",
       "3  ANDHRA PRADESH       CUDDAPAH  2001      80                 53   \n",
       "4  ANDHRA PRADESH  EAST GODAVARI  2001      82                 67   \n",
       "\n",
       "   CULPABLE HOMICIDE NOT AMOUNTING TO MURDER  RAPE  CUSTODIAL RAPE  \\\n",
       "0                                         17    50               0   \n",
       "1                                          1    23               0   \n",
       "2                                          2    27               0   \n",
       "3                                          1    20               0   \n",
       "4                                          1    23               0   \n",
       "\n",
       "   OTHER RAPE  KIDNAPPING and ABDUCTION        ...         ARSON  \\\n",
       "0          50                        46        ...            30   \n",
       "1          23                        53        ...            69   \n",
       "2          27                        59        ...            38   \n",
       "3          20                        25        ...            23   \n",
       "4          23                        49        ...            41   \n",
       "\n",
       "   HURT/GREVIOUS HURT  DOWRY DEATHS  \\\n",
       "0                1131            16   \n",
       "1                1543             7   \n",
       "2                2088            14   \n",
       "3                 795            17   \n",
       "4                1244            12   \n",
       "\n",
       "   ASSAULT ON WOMEN WITH INTENT TO OUTRAGE HER MODESTY  \\\n",
       "0                                                149     \n",
       "1                                                118     \n",
       "2                                                112     \n",
       "3                                                126     \n",
       "4                                                109     \n",
       "\n",
       "   INSULT TO MODESTY OF WOMEN  CRUELTY BY HUSBAND OR HIS RELATIVES  \\\n",
       "0                          34                                  175   \n",
       "1                          24                                  154   \n",
       "2                          83                                  186   \n",
       "3                          38                                   57   \n",
       "4                          58                                  247   \n",
       "\n",
       "   IMPORTATION OF GIRLS FROM FOREIGN COUNTRIES  CAUSING DEATH BY NEGLIGENCE  \\\n",
       "0                                            0                          181   \n",
       "1                                            0                          270   \n",
       "2                                            0                          404   \n",
       "3                                            0                          233   \n",
       "4                                            0                          431   \n",
       "\n",
       "   OTHER IPC CRIMES  TOTAL IPC CRIMES  \n",
       "0              1518              4154  \n",
       "1               754              4125  \n",
       "2              1262              5818  \n",
       "3              1181              3140  \n",
       "4              2313              6507  \n",
       "\n",
       "[5 rows x 33 columns]"
      ]
     },
     "execution_count": 3,
     "metadata": {},
     "output_type": "execute_result"
    }
   ],
   "source": [
    "print(crime.shape)\n",
    "crime.head()"
   ]
  },
  {
   "cell_type": "code",
   "execution_count": 4,
   "metadata": {},
   "outputs": [
    {
     "name": "stdout",
     "output_type": "stream",
     "text": [
      "Rows in the dataset :  9017\n",
      "Columns in the dataset :  33\n",
      "\n",
      "Features : \n",
      " ['STATE/UT', 'DISTRICT', 'YEAR', 'MURDER', 'ATTEMPT TO MURDER', 'CULPABLE HOMICIDE NOT AMOUNTING TO MURDER', 'RAPE', 'CUSTODIAL RAPE', 'OTHER RAPE', 'KIDNAPPING and ABDUCTION', 'KIDNAPPING AND ABDUCTION OF WOMEN AND GIRLS', 'KIDNAPPING AND ABDUCTION OF OTHERS', 'DACOITY', 'PREPARATION AND ASSEMBLY FOR DACOITY', 'ROBBERY', 'BURGLARY', 'THEFT', 'AUTO THEFT', 'OTHER THEFT', 'RIOTS', 'CRIMINAL BREACH OF TRUST', 'CHEATING', 'COUNTERFIETING', 'ARSON', 'HURT/GREVIOUS HURT', 'DOWRY DEATHS', 'ASSAULT ON WOMEN WITH INTENT TO OUTRAGE HER MODESTY', 'INSULT TO MODESTY OF WOMEN', 'CRUELTY BY HUSBAND OR HIS RELATIVES', 'IMPORTATION OF GIRLS FROM FOREIGN COUNTRIES', 'CAUSING DEATH BY NEGLIGENCE', 'OTHER IPC CRIMES', 'TOTAL IPC CRIMES']\n"
     ]
    }
   ],
   "source": [
    "# Summarize our dataset \n",
    "print (\"Rows in the dataset : \" ,crime.shape[0])\n",
    "print (\"Columns in the dataset : \" ,crime.shape[1])\n",
    "print (\"\\nFeatures : \\n\" ,crime.columns.tolist())"
   ]
  },
  {
   "cell_type": "code",
   "execution_count": 5,
   "metadata": {},
   "outputs": [
    {
     "data": {
      "text/plain": [
       "STATE/UT                                               object\n",
       "DISTRICT                                               object\n",
       "YEAR                                                    int64\n",
       "MURDER                                                  int64\n",
       "ATTEMPT TO MURDER                                       int64\n",
       "CULPABLE HOMICIDE NOT AMOUNTING TO MURDER               int64\n",
       "RAPE                                                    int64\n",
       "CUSTODIAL RAPE                                          int64\n",
       "OTHER RAPE                                              int64\n",
       "KIDNAPPING and ABDUCTION                                int64\n",
       "KIDNAPPING AND ABDUCTION OF WOMEN AND GIRLS             int64\n",
       "KIDNAPPING AND ABDUCTION OF OTHERS                      int64\n",
       "DACOITY                                                 int64\n",
       "PREPARATION AND ASSEMBLY FOR DACOITY                    int64\n",
       "ROBBERY                                                 int64\n",
       "BURGLARY                                                int64\n",
       "THEFT                                                   int64\n",
       "AUTO THEFT                                              int64\n",
       "OTHER THEFT                                             int64\n",
       "RIOTS                                                   int64\n",
       "CRIMINAL BREACH OF TRUST                                int64\n",
       "CHEATING                                                int64\n",
       "COUNTERFIETING                                          int64\n",
       "ARSON                                                   int64\n",
       "HURT/GREVIOUS HURT                                      int64\n",
       "DOWRY DEATHS                                            int64\n",
       "ASSAULT ON WOMEN WITH INTENT TO OUTRAGE HER MODESTY     int64\n",
       "INSULT TO MODESTY OF WOMEN                              int64\n",
       "CRUELTY BY HUSBAND OR HIS RELATIVES                     int64\n",
       "IMPORTATION OF GIRLS FROM FOREIGN COUNTRIES             int64\n",
       "CAUSING DEATH BY NEGLIGENCE                             int64\n",
       "OTHER IPC CRIMES                                        int64\n",
       "TOTAL IPC CRIMES                                        int64\n",
       "dtype: object"
      ]
     },
     "execution_count": 5,
     "metadata": {},
     "output_type": "execute_result"
    }
   ],
   "source": [
    "#Checking dtypes\n",
    "crime.dtypes"
   ]
  },
  {
   "cell_type": "markdown",
   "metadata": {},
   "source": [
    "# Checking the categorical Columns"
   ]
  },
  {
   "cell_type": "code",
   "execution_count": 6,
   "metadata": {},
   "outputs": [
    {
     "name": "stdout",
     "output_type": "stream",
     "text": [
      "catagorical columns: ['STATE/UT', 'DISTRICT'] "
     ]
    }
   ],
   "source": [
    "cat_col = []\n",
    "for x in crime.dtypes.index:\n",
    "    if crime.dtypes[x] == 'object':\n",
    "        cat_col.append(x)\n",
    "print(\"catagorical columns:\",cat_col,end =\" \")"
   ]
  },
  {
   "cell_type": "markdown",
   "metadata": {},
   "source": [
    "# Checking Null Values"
   ]
  },
  {
   "cell_type": "code",
   "execution_count": 7,
   "metadata": {},
   "outputs": [
    {
     "name": "stdout",
     "output_type": "stream",
     "text": [
      "Are There Missing Data? : False\n"
     ]
    }
   ],
   "source": [
    "print(\"Are There Missing Data? :\",crime.isnull().any().any())"
   ]
  },
  {
   "cell_type": "markdown",
   "metadata": {},
   "source": [
    "# Exploratory Data Analysis:\n",
    "Checking the features that are mostly influencing the target Variable.\n",
    "\n",
    "1.Univariate Analysis\n",
    "\n",
    "2.Multivariate Analysis\n",
    "\n",
    "3.Bivariate Analysis"
   ]
  },
  {
   "cell_type": "code",
   "execution_count": 8,
   "metadata": {},
   "outputs": [
    {
     "data": {
      "text/html": [
       "<div>\n",
       "<style scoped>\n",
       "    .dataframe tbody tr th:only-of-type {\n",
       "        vertical-align: middle;\n",
       "    }\n",
       "\n",
       "    .dataframe tbody tr th {\n",
       "        vertical-align: top;\n",
       "    }\n",
       "\n",
       "    .dataframe thead th {\n",
       "        text-align: right;\n",
       "    }\n",
       "</style>\n",
       "<table border=\"1\" class=\"dataframe\">\n",
       "  <thead>\n",
       "    <tr style=\"text-align: right;\">\n",
       "      <th></th>\n",
       "      <th>YEAR</th>\n",
       "      <th>MURDER</th>\n",
       "      <th>ATTEMPT TO MURDER</th>\n",
       "      <th>CULPABLE HOMICIDE NOT AMOUNTING TO MURDER</th>\n",
       "      <th>RAPE</th>\n",
       "      <th>CUSTODIAL RAPE</th>\n",
       "      <th>OTHER RAPE</th>\n",
       "      <th>KIDNAPPING and ABDUCTION</th>\n",
       "      <th>KIDNAPPING AND ABDUCTION OF WOMEN AND GIRLS</th>\n",
       "      <th>KIDNAPPING AND ABDUCTION OF OTHERS</th>\n",
       "      <th>...</th>\n",
       "      <th>ARSON</th>\n",
       "      <th>HURT/GREVIOUS HURT</th>\n",
       "      <th>DOWRY DEATHS</th>\n",
       "      <th>ASSAULT ON WOMEN WITH INTENT TO OUTRAGE HER MODESTY</th>\n",
       "      <th>INSULT TO MODESTY OF WOMEN</th>\n",
       "      <th>CRUELTY BY HUSBAND OR HIS RELATIVES</th>\n",
       "      <th>IMPORTATION OF GIRLS FROM FOREIGN COUNTRIES</th>\n",
       "      <th>CAUSING DEATH BY NEGLIGENCE</th>\n",
       "      <th>OTHER IPC CRIMES</th>\n",
       "      <th>TOTAL IPC CRIMES</th>\n",
       "    </tr>\n",
       "  </thead>\n",
       "  <tbody>\n",
       "    <tr>\n",
       "      <th>count</th>\n",
       "      <td>9017.000000</td>\n",
       "      <td>9017.00000</td>\n",
       "      <td>9017.000000</td>\n",
       "      <td>9017.000000</td>\n",
       "      <td>9017.000000</td>\n",
       "      <td>9017.000000</td>\n",
       "      <td>9017.000000</td>\n",
       "      <td>9017.000000</td>\n",
       "      <td>9017.000000</td>\n",
       "      <td>9017.000000</td>\n",
       "      <td>...</td>\n",
       "      <td>9017.000000</td>\n",
       "      <td>9017.000000</td>\n",
       "      <td>9017.000000</td>\n",
       "      <td>9017.000000</td>\n",
       "      <td>9017.000000</td>\n",
       "      <td>9017.000000</td>\n",
       "      <td>9017.000000</td>\n",
       "      <td>9017.000000</td>\n",
       "      <td>9017.000000</td>\n",
       "      <td>9017.000000</td>\n",
       "    </tr>\n",
       "    <tr>\n",
       "      <th>mean</th>\n",
       "      <td>2006.629034</td>\n",
       "      <td>89.28535</td>\n",
       "      <td>78.069646</td>\n",
       "      <td>9.895531</td>\n",
       "      <td>53.041366</td>\n",
       "      <td>0.005767</td>\n",
       "      <td>53.035599</td>\n",
       "      <td>79.152046</td>\n",
       "      <td>58.535433</td>\n",
       "      <td>20.616613</td>\n",
       "      <td>...</td>\n",
       "      <td>25.219918</td>\n",
       "      <td>747.893091</td>\n",
       "      <td>20.228901</td>\n",
       "      <td>100.511257</td>\n",
       "      <td>27.515582</td>\n",
       "      <td>194.122435</td>\n",
       "      <td>0.197849</td>\n",
       "      <td>222.216702</td>\n",
       "      <td>2174.299434</td>\n",
       "      <td>5310.115116</td>\n",
       "    </tr>\n",
       "    <tr>\n",
       "      <th>std</th>\n",
       "      <td>3.463623</td>\n",
       "      <td>327.27503</td>\n",
       "      <td>303.446020</td>\n",
       "      <td>59.521657</td>\n",
       "      <td>190.741450</td>\n",
       "      <td>0.115223</td>\n",
       "      <td>190.725474</td>\n",
       "      <td>317.630964</td>\n",
       "      <td>246.937464</td>\n",
       "      <td>88.586415</td>\n",
       "      <td>...</td>\n",
       "      <td>98.880282</td>\n",
       "      <td>3024.106467</td>\n",
       "      <td>96.970466</td>\n",
       "      <td>394.059436</td>\n",
       "      <td>167.237522</td>\n",
       "      <td>831.986594</td>\n",
       "      <td>2.415039</td>\n",
       "      <td>936.002540</td>\n",
       "      <td>7988.438462</td>\n",
       "      <td>18524.381119</td>\n",
       "    </tr>\n",
       "    <tr>\n",
       "      <th>min</th>\n",
       "      <td>2001.000000</td>\n",
       "      <td>0.00000</td>\n",
       "      <td>0.000000</td>\n",
       "      <td>0.000000</td>\n",
       "      <td>0.000000</td>\n",
       "      <td>0.000000</td>\n",
       "      <td>0.000000</td>\n",
       "      <td>0.000000</td>\n",
       "      <td>0.000000</td>\n",
       "      <td>0.000000</td>\n",
       "      <td>...</td>\n",
       "      <td>0.000000</td>\n",
       "      <td>0.000000</td>\n",
       "      <td>0.000000</td>\n",
       "      <td>0.000000</td>\n",
       "      <td>0.000000</td>\n",
       "      <td>0.000000</td>\n",
       "      <td>0.000000</td>\n",
       "      <td>0.000000</td>\n",
       "      <td>0.000000</td>\n",
       "      <td>0.000000</td>\n",
       "    </tr>\n",
       "    <tr>\n",
       "      <th>25%</th>\n",
       "      <td>2004.000000</td>\n",
       "      <td>18.00000</td>\n",
       "      <td>10.000000</td>\n",
       "      <td>0.000000</td>\n",
       "      <td>8.000000</td>\n",
       "      <td>0.000000</td>\n",
       "      <td>8.000000</td>\n",
       "      <td>10.000000</td>\n",
       "      <td>6.000000</td>\n",
       "      <td>1.000000</td>\n",
       "      <td>...</td>\n",
       "      <td>2.000000</td>\n",
       "      <td>43.000000</td>\n",
       "      <td>1.000000</td>\n",
       "      <td>10.000000</td>\n",
       "      <td>0.000000</td>\n",
       "      <td>11.000000</td>\n",
       "      <td>0.000000</td>\n",
       "      <td>5.000000</td>\n",
       "      <td>265.000000</td>\n",
       "      <td>853.000000</td>\n",
       "    </tr>\n",
       "    <tr>\n",
       "      <th>50%</th>\n",
       "      <td>2007.000000</td>\n",
       "      <td>38.00000</td>\n",
       "      <td>28.000000</td>\n",
       "      <td>2.000000</td>\n",
       "      <td>20.000000</td>\n",
       "      <td>0.000000</td>\n",
       "      <td>20.000000</td>\n",
       "      <td>25.000000</td>\n",
       "      <td>18.000000</td>\n",
       "      <td>5.000000</td>\n",
       "      <td>...</td>\n",
       "      <td>8.000000</td>\n",
       "      <td>199.000000</td>\n",
       "      <td>5.000000</td>\n",
       "      <td>31.000000</td>\n",
       "      <td>2.000000</td>\n",
       "      <td>47.000000</td>\n",
       "      <td>0.000000</td>\n",
       "      <td>68.000000</td>\n",
       "      <td>745.000000</td>\n",
       "      <td>2096.000000</td>\n",
       "    </tr>\n",
       "    <tr>\n",
       "      <th>75%</th>\n",
       "      <td>2010.000000</td>\n",
       "      <td>66.00000</td>\n",
       "      <td>56.000000</td>\n",
       "      <td>6.000000</td>\n",
       "      <td>41.000000</td>\n",
       "      <td>0.000000</td>\n",
       "      <td>41.000000</td>\n",
       "      <td>56.000000</td>\n",
       "      <td>42.000000</td>\n",
       "      <td>13.000000</td>\n",
       "      <td>...</td>\n",
       "      <td>20.000000</td>\n",
       "      <td>529.000000</td>\n",
       "      <td>16.000000</td>\n",
       "      <td>76.000000</td>\n",
       "      <td>13.000000</td>\n",
       "      <td>135.000000</td>\n",
       "      <td>0.000000</td>\n",
       "      <td>177.000000</td>\n",
       "      <td>1608.000000</td>\n",
       "      <td>3972.000000</td>\n",
       "    </tr>\n",
       "    <tr>\n",
       "      <th>max</th>\n",
       "      <td>2012.000000</td>\n",
       "      <td>7601.00000</td>\n",
       "      <td>7964.000000</td>\n",
       "      <td>1616.000000</td>\n",
       "      <td>3425.000000</td>\n",
       "      <td>5.000000</td>\n",
       "      <td>3425.000000</td>\n",
       "      <td>8878.000000</td>\n",
       "      <td>7910.000000</td>\n",
       "      <td>2416.000000</td>\n",
       "      <td>...</td>\n",
       "      <td>2830.000000</td>\n",
       "      <td>56768.000000</td>\n",
       "      <td>2322.000000</td>\n",
       "      <td>7118.000000</td>\n",
       "      <td>4970.000000</td>\n",
       "      <td>19865.000000</td>\n",
       "      <td>83.000000</td>\n",
       "      <td>16076.000000</td>\n",
       "      <td>124176.000000</td>\n",
       "      <td>220335.000000</td>\n",
       "    </tr>\n",
       "  </tbody>\n",
       "</table>\n",
       "<p>8 rows × 31 columns</p>\n",
       "</div>"
      ],
      "text/plain": [
       "              YEAR      MURDER  ATTEMPT TO MURDER  \\\n",
       "count  9017.000000  9017.00000        9017.000000   \n",
       "mean   2006.629034    89.28535          78.069646   \n",
       "std       3.463623   327.27503         303.446020   \n",
       "min    2001.000000     0.00000           0.000000   \n",
       "25%    2004.000000    18.00000          10.000000   \n",
       "50%    2007.000000    38.00000          28.000000   \n",
       "75%    2010.000000    66.00000          56.000000   \n",
       "max    2012.000000  7601.00000        7964.000000   \n",
       "\n",
       "       CULPABLE HOMICIDE NOT AMOUNTING TO MURDER         RAPE  CUSTODIAL RAPE  \\\n",
       "count                                9017.000000  9017.000000     9017.000000   \n",
       "mean                                    9.895531    53.041366        0.005767   \n",
       "std                                    59.521657   190.741450        0.115223   \n",
       "min                                     0.000000     0.000000        0.000000   \n",
       "25%                                     0.000000     8.000000        0.000000   \n",
       "50%                                     2.000000    20.000000        0.000000   \n",
       "75%                                     6.000000    41.000000        0.000000   \n",
       "max                                  1616.000000  3425.000000        5.000000   \n",
       "\n",
       "        OTHER RAPE  KIDNAPPING and ABDUCTION  \\\n",
       "count  9017.000000               9017.000000   \n",
       "mean     53.035599                 79.152046   \n",
       "std     190.725474                317.630964   \n",
       "min       0.000000                  0.000000   \n",
       "25%       8.000000                 10.000000   \n",
       "50%      20.000000                 25.000000   \n",
       "75%      41.000000                 56.000000   \n",
       "max    3425.000000               8878.000000   \n",
       "\n",
       "       KIDNAPPING AND ABDUCTION OF WOMEN AND GIRLS  \\\n",
       "count                                  9017.000000   \n",
       "mean                                     58.535433   \n",
       "std                                     246.937464   \n",
       "min                                       0.000000   \n",
       "25%                                       6.000000   \n",
       "50%                                      18.000000   \n",
       "75%                                      42.000000   \n",
       "max                                    7910.000000   \n",
       "\n",
       "       KIDNAPPING AND ABDUCTION OF OTHERS        ...               ARSON  \\\n",
       "count                         9017.000000        ...         9017.000000   \n",
       "mean                            20.616613        ...           25.219918   \n",
       "std                             88.586415        ...           98.880282   \n",
       "min                              0.000000        ...            0.000000   \n",
       "25%                              1.000000        ...            2.000000   \n",
       "50%                              5.000000        ...            8.000000   \n",
       "75%                             13.000000        ...           20.000000   \n",
       "max                           2416.000000        ...         2830.000000   \n",
       "\n",
       "       HURT/GREVIOUS HURT  DOWRY DEATHS  \\\n",
       "count         9017.000000   9017.000000   \n",
       "mean           747.893091     20.228901   \n",
       "std           3024.106467     96.970466   \n",
       "min              0.000000      0.000000   \n",
       "25%             43.000000      1.000000   \n",
       "50%            199.000000      5.000000   \n",
       "75%            529.000000     16.000000   \n",
       "max          56768.000000   2322.000000   \n",
       "\n",
       "       ASSAULT ON WOMEN WITH INTENT TO OUTRAGE HER MODESTY  \\\n",
       "count                                        9017.000000     \n",
       "mean                                          100.511257     \n",
       "std                                           394.059436     \n",
       "min                                             0.000000     \n",
       "25%                                            10.000000     \n",
       "50%                                            31.000000     \n",
       "75%                                            76.000000     \n",
       "max                                          7118.000000     \n",
       "\n",
       "       INSULT TO MODESTY OF WOMEN  CRUELTY BY HUSBAND OR HIS RELATIVES  \\\n",
       "count                 9017.000000                          9017.000000   \n",
       "mean                    27.515582                           194.122435   \n",
       "std                    167.237522                           831.986594   \n",
       "min                      0.000000                             0.000000   \n",
       "25%                      0.000000                            11.000000   \n",
       "50%                      2.000000                            47.000000   \n",
       "75%                     13.000000                           135.000000   \n",
       "max                   4970.000000                         19865.000000   \n",
       "\n",
       "       IMPORTATION OF GIRLS FROM FOREIGN COUNTRIES  \\\n",
       "count                                  9017.000000   \n",
       "mean                                      0.197849   \n",
       "std                                       2.415039   \n",
       "min                                       0.000000   \n",
       "25%                                       0.000000   \n",
       "50%                                       0.000000   \n",
       "75%                                       0.000000   \n",
       "max                                      83.000000   \n",
       "\n",
       "       CAUSING DEATH BY NEGLIGENCE  OTHER IPC CRIMES  TOTAL IPC CRIMES  \n",
       "count                  9017.000000       9017.000000       9017.000000  \n",
       "mean                    222.216702       2174.299434       5310.115116  \n",
       "std                     936.002540       7988.438462      18524.381119  \n",
       "min                       0.000000          0.000000          0.000000  \n",
       "25%                       5.000000        265.000000        853.000000  \n",
       "50%                      68.000000        745.000000       2096.000000  \n",
       "75%                     177.000000       1608.000000       3972.000000  \n",
       "max                   16076.000000     124176.000000     220335.000000  \n",
       "\n",
       "[8 rows x 31 columns]"
      ]
     },
     "execution_count": 8,
     "metadata": {},
     "output_type": "execute_result"
    }
   ],
   "source": [
    "crime.describe()"
   ]
  },
  {
   "cell_type": "code",
   "execution_count": 22,
   "metadata": {},
   "outputs": [
    {
     "name": "stdout",
     "output_type": "stream",
     "text": [
      "        STATE/UT  KIDNAPPING AND ABDUCTION OF WOMEN AND GIRLS\n",
      "0  UTTAR PRADESH                                        95180\n",
      "1      RAJASTHAN                                        49342\n",
      "2          ASSAM                                        45840\n",
      "3    WEST BENGAL                                        43546\n",
      "4          BIHAR                                        38778\n"
     ]
    },
    {
     "data": {
      "image/png": "[encoded data removed]",
      "text/plain": [
       "<Figure size 576x360 with 1 Axes>"
      ]
     },
     "metadata": {
      "needs_background": "light"
     },
     "output_type": "display_data"
    }
   ],
   "source": [
    "# Top 5 States with kidnapping and abduction of women and girl:\n",
    "top_5 = crime.groupby(by='STATE/UT')['KIDNAPPING AND ABDUCTION OF WOMEN AND GIRLS'].sum().sort_values(ascending=False).head(5).reset_index()\n",
    "print(top_5)\n",
    "# Visualizing by bar plot\n",
    "plt.figure(figsize=(8,5))\n",
    "ax = sns.barplot(top_5['STATE/UT'],top_5['KIDNAPPING AND ABDUCTION OF WOMEN AND GIRLS'])\n",
    "plt.xticks(rotation= 45)\n",
    "plt.title(\"Top 5 states with highest kidnapping and abduction of women and girls\")\n",
    "for p in ax.patches:\n",
    "    ax.annotate(int(p.get_height()), (p.get_x()+0.25, p.get_height()+1), va='bottom',color= 'black')"
   ]
  },
  {
   "cell_type": "code",
   "execution_count": 29,
   "metadata": {},
   "outputs": [
    {
     "data": {
      "text/plain": [
       "Text(0.5, 1.0, 'no of rape cases happened in uttar pradesh year wise')"
      ]
     },
     "execution_count": 29,
     "metadata": {},
     "output_type": "execute_result"
    },
    {
     "data": {
      "image/png": "[encoded data removed]",
      "text/plain": [
       "<Figure size 576x360 with 1 Axes>"
      ]
     },
     "metadata": {
      "needs_background": "light"
     },
     "output_type": "display_data"
    }
   ],
   "source": [
    "#Lets check no of rape cases happened in uttar pradesh year wise:\n",
    "UP = crime[crime['STATE/UT'] == 'UTTAR PRADESH']\n",
    "UP.groupby(by ='YEAR')['RAPE'].sum().sort_values(ascending=True).head(10).reset_index\n",
    "# Visualizing by bar plot\n",
    "plt.figure(figsize=(8,5))\n",
    "ax = sns.pointplot(x='YEAR',y='RAPE',data=UP,color='red')\n",
    "plt.xticks(rotation= 45)\n",
    "plt.title(\"no of rape cases happened in uttar pradesh year wise\")"
   ]
  },
  {
   "cell_type": "code",
   "execution_count": 9,
   "metadata": {},
   "outputs": [
    {
     "name": "stdout",
     "output_type": "stream",
     "text": [
      "         STATE/UT   RAPE\n",
      "0  MADHYA PRADESH  72174\n",
      "1     WEST BENGAL  41574\n",
      "2   UTTAR PRADESH  38116\n",
      "3     MAHARASHTRA  35972\n",
      "4           ASSAM  32356\n"
     ]
    },
    {
     "data": {
      "image/png": "[encoded data removed]",
      "text/plain": [
       "<Figure size 432x288 with 1 Axes>"
      ]
     },
     "metadata": {
      "needs_background": "light"
     },
     "output_type": "display_data"
    }
   ],
   "source": [
    "# Top 5 states with highest Rape count:\n",
    "top_5 = crime.groupby(by ='STATE/UT')['RAPE'].sum().sort_values(ascending=False).head(5).reset_index()\n",
    "print(top_5)\n",
    "# Visualizing by bar plot\n",
    "ax = sns.barplot(top_5['STATE/UT'],top_5['RAPE'])\n",
    "plt.xticks(rotation= 45)\n",
    "plt.title(\"Top 5 states with highest rape count\")\n",
    "for p in ax.patches:\n",
    "    ax.annotate(int(p.get_height()), (p.get_x()+0.25, p.get_height()+1), va='bottom',color= 'black')"
   ]
  },
  {
   "cell_type": "code",
   "execution_count": 10,
   "metadata": {},
   "outputs": [
    {
     "name": "stdout",
     "output_type": "stream",
     "text": [
      "   YEAR   RAPE\n",
      "0  2012  49846\n",
      "1  2011  48412\n",
      "2  2010  44344\n",
      "3  2008  42934\n",
      "4  2009  42794\n"
     ]
    },
    {
     "data": {
      "image/png": "[encoded data removed]",
      "text/plain": [
       "<Figure size 432x288 with 1 Axes>"
      ]
     },
     "metadata": {
      "needs_background": "light"
     },
     "output_type": "display_data"
    }
   ],
   "source": [
    "# Determing the highest no of Rape cases on the bais of year.\n",
    "top_5 = crime.groupby(by ='YEAR')['RAPE'].sum().sort_values(ascending=False).head(5).reset_index()\n",
    "print(top_5)\n",
    "# Visualizing by bar plot\n",
    "ax = sns.barplot(top_5['YEAR'],top_5['RAPE'])\n",
    "plt.xticks(rotation= 45)\n",
    "plt.title(\"highest no of Rape cases on the bais of year\")\n",
    "for p in ax.patches:\n",
    "    ax.annotate(int(p.get_height()), (p.get_x()+0.25, p.get_height()+1), va='bottom',color= 'black')"
   ]
  },
  {
   "cell_type": "code",
   "execution_count": 11,
   "metadata": {},
   "outputs": [
    {
     "name": "stdout",
     "output_type": "stream",
     "text": [
      "182404\n"
     ]
    }
   ],
   "source": [
    "# No of Deaths cases due to Dowry\n",
    "deaths_due_to_dowry = crime['DOWRY DEATHS'].sum()\n",
    "print(deaths_due_to_dowry)"
   ]
  },
  {
   "cell_type": "code",
   "execution_count": 12,
   "metadata": {},
   "outputs": [
    {
     "name": "stdout",
     "output_type": "stream",
     "text": [
      "2003728\n"
     ]
    }
   ],
   "source": [
    "# No of Deaths due to negligence \n",
    "death_due_to_negligence = crime['CAUSING DEATH BY NEGLIGENCE'].sum()\n",
    "print(death_due_to_negligence)"
   ]
  },
  {
   "cell_type": "code",
   "execution_count": 13,
   "metadata": {},
   "outputs": [
    {
     "data": {
      "text/plain": [
       "Text(0.5, 1.0, 'no of Rape cases in Maharatra')"
      ]
     },
     "execution_count": 13,
     "metadata": {},
     "output_type": "execute_result"
    },
    {
     "data": {
      "image/png": "[encoded data removed]",
      "text/plain": [
       "<Figure size 432x288 with 1 Axes>"
      ]
     },
     "metadata": {
      "needs_background": "light"
     },
     "output_type": "display_data"
    }
   ],
   "source": [
    "#Checking no of Rape cases in Maharatra.\n",
    "maharashtra = crime.loc[crime['STATE/UT'] == 'MAHARASHTRA']\n",
    "maharashtra.groupby(by='YEAR')['RAPE'].sum().sort_values(ascending=False).head(5).reset_index()\n",
    "# Visualizing the data:\n",
    "sns.barplot(x='YEAR',y='RAPE',data=maharashtra)\n",
    "plt.xlabel(\"years\")\n",
    "plt.ylabel(\"RAPE\")\n",
    "plt.title('no of Rape cases in Maharatra')"
   ]
  },
  {
   "cell_type": "code",
   "execution_count": 14,
   "metadata": {},
   "outputs": [
    {
     "data": {
      "text/html": [
       "<div>\n",
       "<style scoped>\n",
       "    .dataframe tbody tr th:only-of-type {\n",
       "        vertical-align: middle;\n",
       "    }\n",
       "\n",
       "    .dataframe tbody tr th {\n",
       "        vertical-align: top;\n",
       "    }\n",
       "\n",
       "    .dataframe thead th {\n",
       "        text-align: right;\n",
       "    }\n",
       "</style>\n",
       "<table border=\"1\" class=\"dataframe\">\n",
       "  <thead>\n",
       "    <tr style=\"text-align: right;\">\n",
       "      <th></th>\n",
       "      <th></th>\n",
       "      <th>ATTEMPT TO MURDER</th>\n",
       "    </tr>\n",
       "    <tr>\n",
       "      <th>STATE/UT</th>\n",
       "      <th>YEAR</th>\n",
       "      <th></th>\n",
       "    </tr>\n",
       "  </thead>\n",
       "  <tbody>\n",
       "    <tr>\n",
       "      <th rowspan=\"12\" valign=\"top\">A &amp; N ISLANDS</th>\n",
       "      <th>2001</th>\n",
       "      <td>0</td>\n",
       "    </tr>\n",
       "    <tr>\n",
       "      <th>2002</th>\n",
       "      <td>6</td>\n",
       "    </tr>\n",
       "    <tr>\n",
       "      <th>2003</th>\n",
       "      <td>8</td>\n",
       "    </tr>\n",
       "    <tr>\n",
       "      <th>2004</th>\n",
       "      <td>2</td>\n",
       "    </tr>\n",
       "    <tr>\n",
       "      <th>2005</th>\n",
       "      <td>6</td>\n",
       "    </tr>\n",
       "    <tr>\n",
       "      <th>2006</th>\n",
       "      <td>8</td>\n",
       "    </tr>\n",
       "    <tr>\n",
       "      <th>2007</th>\n",
       "      <td>38</td>\n",
       "    </tr>\n",
       "    <tr>\n",
       "      <th>2008</th>\n",
       "      <td>22</td>\n",
       "    </tr>\n",
       "    <tr>\n",
       "      <th>2009</th>\n",
       "      <td>8</td>\n",
       "    </tr>\n",
       "    <tr>\n",
       "      <th>2010</th>\n",
       "      <td>14</td>\n",
       "    </tr>\n",
       "    <tr>\n",
       "      <th>2011</th>\n",
       "      <td>12</td>\n",
       "    </tr>\n",
       "    <tr>\n",
       "      <th>2012</th>\n",
       "      <td>6</td>\n",
       "    </tr>\n",
       "    <tr>\n",
       "      <th rowspan=\"12\" valign=\"top\">ANDHRA PRADESH</th>\n",
       "      <th>2001</th>\n",
       "      <td>3110</td>\n",
       "    </tr>\n",
       "    <tr>\n",
       "      <th>2002</th>\n",
       "      <td>3288</td>\n",
       "    </tr>\n",
       "    <tr>\n",
       "      <th>2003</th>\n",
       "      <td>3356</td>\n",
       "    </tr>\n",
       "    <tr>\n",
       "      <th>2004</th>\n",
       "      <td>3816</td>\n",
       "    </tr>\n",
       "    <tr>\n",
       "      <th>2005</th>\n",
       "      <td>3448</td>\n",
       "    </tr>\n",
       "    <tr>\n",
       "      <th>2006</th>\n",
       "      <td>3720</td>\n",
       "    </tr>\n",
       "    <tr>\n",
       "      <th>2007</th>\n",
       "      <td>3770</td>\n",
       "    </tr>\n",
       "    <tr>\n",
       "      <th>2008</th>\n",
       "      <td>3884</td>\n",
       "    </tr>\n",
       "    <tr>\n",
       "      <th>2009</th>\n",
       "      <td>3718</td>\n",
       "    </tr>\n",
       "    <tr>\n",
       "      <th>2010</th>\n",
       "      <td>3906</td>\n",
       "    </tr>\n",
       "    <tr>\n",
       "      <th>2011</th>\n",
       "      <td>4458</td>\n",
       "    </tr>\n",
       "    <tr>\n",
       "      <th>2012</th>\n",
       "      <td>4366</td>\n",
       "    </tr>\n",
       "    <tr>\n",
       "      <th rowspan=\"6\" valign=\"top\">ARUNACHAL PRADESH</th>\n",
       "      <th>2001</th>\n",
       "      <td>106</td>\n",
       "    </tr>\n",
       "    <tr>\n",
       "      <th>2002</th>\n",
       "      <td>76</td>\n",
       "    </tr>\n",
       "    <tr>\n",
       "      <th>2003</th>\n",
       "      <td>40</td>\n",
       "    </tr>\n",
       "    <tr>\n",
       "      <th>2004</th>\n",
       "      <td>90</td>\n",
       "    </tr>\n",
       "    <tr>\n",
       "      <th>2005</th>\n",
       "      <td>74</td>\n",
       "    </tr>\n",
       "    <tr>\n",
       "      <th>2006</th>\n",
       "      <td>66</td>\n",
       "    </tr>\n",
       "  </tbody>\n",
       "</table>\n",
       "</div>"
      ],
      "text/plain": [
       "                        ATTEMPT TO MURDER\n",
       "STATE/UT          YEAR                   \n",
       "A & N ISLANDS     2001                  0\n",
       "                  2002                  6\n",
       "                  2003                  8\n",
       "                  2004                  2\n",
       "                  2005                  6\n",
       "                  2006                  8\n",
       "                  2007                 38\n",
       "                  2008                 22\n",
       "                  2009                  8\n",
       "                  2010                 14\n",
       "                  2011                 12\n",
       "                  2012                  6\n",
       "ANDHRA PRADESH    2001               3110\n",
       "                  2002               3288\n",
       "                  2003               3356\n",
       "                  2004               3816\n",
       "                  2005               3448\n",
       "                  2006               3720\n",
       "                  2007               3770\n",
       "                  2008               3884\n",
       "                  2009               3718\n",
       "                  2010               3906\n",
       "                  2011               4458\n",
       "                  2012               4366\n",
       "ARUNACHAL PRADESH 2001                106\n",
       "                  2002                 76\n",
       "                  2003                 40\n",
       "                  2004                 90\n",
       "                  2005                 74\n",
       "                  2006                 66"
      ]
     },
     "execution_count": 14,
     "metadata": {},
     "output_type": "execute_result"
    }
   ],
   "source": [
    "# Attempt to murder cases in different states year wise:\n",
    "pd.pivot_table(index=['STATE/UT','YEAR'],values=['ATTEMPT TO MURDER'],aggfunc='sum',data=crime,margins_name='STATE/UT').head(30)"
   ]
  },
  {
   "cell_type": "code",
   "execution_count": 15,
   "metadata": {},
   "outputs": [
    {
     "data": {
      "text/plain": [
       "Text(0.5, 1.0, 'Assult cases on women')"
      ]
     },
     "execution_count": 15,
     "metadata": {},
     "output_type": "execute_result"
    },
    {
     "data": {
      "image/png": "[encoded data removed]",
      "text/plain": [
       "<Figure size 576x360 with 1 Axes>"
      ]
     },
     "metadata": {
      "needs_background": "light"
     },
     "output_type": "display_data"
    }
   ],
   "source": [
    "# ASSAULT CASES ON WOMEN WITH INTENT TO OUTRAGE HER MODESTY\n",
    "plt.figure(figsize=(8,5))\n",
    "sns.barplot(x='YEAR',y='ASSAULT ON WOMEN WITH INTENT TO OUTRAGE HER MODESTY',data=crime)\n",
    "plt.xlabel(\"YEAR\")\n",
    "plt.ylabel('assault on women with intent to outrage her modesty')\n",
    "plt.xlabel(\"years\")\n",
    "plt.ylabel(\"ASSAULT ON WOMEN WITH INTENT TO OUTRAGE HER MODESTY\")\n",
    "plt.title('Assult cases on women')"
   ]
  },
  {
   "cell_type": "code",
   "execution_count": 18,
   "metadata": {},
   "outputs": [
    {
     "data": {
      "text/plain": [
       "Text(0.5, 1.0, 'No of DOWRY DEATHS in Bihar')"
      ]
     },
     "execution_count": 18,
     "metadata": {},
     "output_type": "execute_result"
    },
    {
     "data": {
      "image/png": "[encoded data removed]",
      "text/plain": [
       "<Figure size 432x288 with 1 Axes>"
      ]
     },
     "metadata": {
      "needs_background": "light"
     },
     "output_type": "display_data"
    }
   ],
   "source": [
    "#Checking no of dowry deaths in bihar.\n",
    "bihar = crime.loc[crime['STATE/UT'] == 'BIHAR']\n",
    "bihar.groupby(by='YEAR')['DOWRY DEATHS'].sum().sort_values(ascending=False).head(5).reset_index()\n",
    "# Visualizing the data:\n",
    "sns.barplot(x='YEAR',y='DOWRY DEATHS',data=bihar)\n",
    "plt.xlabel(\"years\")\n",
    "plt.ylabel(\"DOWRY DEATHS\")\n",
    "plt.title('No of DOWRY DEATHS in Bihar')"
   ]
  },
  {
   "cell_type": "code",
   "execution_count": 17,
   "metadata": {},
   "outputs": [
    {
     "data": {
      "text/html": [
       "<div>\n",
       "<style scoped>\n",
       "    .dataframe tbody tr th:only-of-type {\n",
       "        vertical-align: middle;\n",
       "    }\n",
       "\n",
       "    .dataframe tbody tr th {\n",
       "        vertical-align: top;\n",
       "    }\n",
       "\n",
       "    .dataframe thead th {\n",
       "        text-align: right;\n",
       "    }\n",
       "</style>\n",
       "<table border=\"1\" class=\"dataframe\">\n",
       "  <thead>\n",
       "    <tr style=\"text-align: right;\">\n",
       "      <th></th>\n",
       "      <th></th>\n",
       "      <th>MURDER</th>\n",
       "    </tr>\n",
       "    <tr>\n",
       "      <th>STATE/UT</th>\n",
       "      <th>DISTRICT</th>\n",
       "      <th></th>\n",
       "    </tr>\n",
       "  </thead>\n",
       "  <tbody>\n",
       "    <tr>\n",
       "      <th rowspan=\"30\" valign=\"top\">WEST BENGAL</th>\n",
       "      <th>24 PARGANAS SOUTH</th>\n",
       "      <td>2114</td>\n",
       "    </tr>\n",
       "    <tr>\n",
       "      <th>ASANSOL</th>\n",
       "      <td>395</td>\n",
       "    </tr>\n",
       "    <tr>\n",
       "      <th>BANKURA</th>\n",
       "      <td>665</td>\n",
       "    </tr>\n",
       "    <tr>\n",
       "      <th>BDN CP</th>\n",
       "      <td>15</td>\n",
       "    </tr>\n",
       "    <tr>\n",
       "      <th>BIRBHUM</th>\n",
       "      <td>908</td>\n",
       "    </tr>\n",
       "    <tr>\n",
       "      <th>BKP CP</th>\n",
       "      <td>89</td>\n",
       "    </tr>\n",
       "    <tr>\n",
       "      <th>BURDWAN</th>\n",
       "      <td>1290</td>\n",
       "    </tr>\n",
       "    <tr>\n",
       "      <th>COOCHBEHAR</th>\n",
       "      <td>485</td>\n",
       "    </tr>\n",
       "    <tr>\n",
       "      <th>DAKSHIN DINAJPUR</th>\n",
       "      <td>369</td>\n",
       "    </tr>\n",
       "    <tr>\n",
       "      <th>DARJEELING</th>\n",
       "      <td>583</td>\n",
       "    </tr>\n",
       "    <tr>\n",
       "      <th>HOOGHLY</th>\n",
       "      <td>1115</td>\n",
       "    </tr>\n",
       "    <tr>\n",
       "      <th>HOWRAH</th>\n",
       "      <td>666</td>\n",
       "    </tr>\n",
       "    <tr>\n",
       "      <th>HOWRAH CITY</th>\n",
       "      <td>201</td>\n",
       "    </tr>\n",
       "    <tr>\n",
       "      <th>HOWRAH G.R.P.</th>\n",
       "      <td>123</td>\n",
       "    </tr>\n",
       "    <tr>\n",
       "      <th>JALPAIGURI</th>\n",
       "      <td>1345</td>\n",
       "    </tr>\n",
       "    <tr>\n",
       "      <th>JHARGRAM</th>\n",
       "      <td>30</td>\n",
       "    </tr>\n",
       "    <tr>\n",
       "      <th>KHARAGPUR G.R.P.</th>\n",
       "      <td>44</td>\n",
       "    </tr>\n",
       "    <tr>\n",
       "      <th>KOLKATA</th>\n",
       "      <td>596</td>\n",
       "    </tr>\n",
       "    <tr>\n",
       "      <th>MALDA</th>\n",
       "      <td>885</td>\n",
       "    </tr>\n",
       "    <tr>\n",
       "      <th>MIDNAPUR</th>\n",
       "      <td>120</td>\n",
       "    </tr>\n",
       "    <tr>\n",
       "      <th>MURSHIDABAD</th>\n",
       "      <td>1644</td>\n",
       "    </tr>\n",
       "    <tr>\n",
       "      <th>NADIA</th>\n",
       "      <td>1355</td>\n",
       "    </tr>\n",
       "    <tr>\n",
       "      <th>PASCHIM MIDNAPUR</th>\n",
       "      <td>1350</td>\n",
       "    </tr>\n",
       "    <tr>\n",
       "      <th>PURAB MIDNAPUR</th>\n",
       "      <td>707</td>\n",
       "    </tr>\n",
       "    <tr>\n",
       "      <th>PURULIA</th>\n",
       "      <td>733</td>\n",
       "    </tr>\n",
       "    <tr>\n",
       "      <th>SEALDAH G.R.P.</th>\n",
       "      <td>188</td>\n",
       "    </tr>\n",
       "    <tr>\n",
       "      <th>SILIGURI G.R.P.</th>\n",
       "      <td>42</td>\n",
       "    </tr>\n",
       "    <tr>\n",
       "      <th>SILIGURI_PC</th>\n",
       "      <td>32</td>\n",
       "    </tr>\n",
       "    <tr>\n",
       "      <th>TOTAL</th>\n",
       "      <td>21056</td>\n",
       "    </tr>\n",
       "    <tr>\n",
       "      <th>UTTAR DINAJPUR</th>\n",
       "      <td>638</td>\n",
       "    </tr>\n",
       "  </tbody>\n",
       "</table>\n",
       "</div>"
      ],
      "text/plain": [
       "                               MURDER\n",
       "STATE/UT    DISTRICT                 \n",
       "WEST BENGAL 24 PARGANAS SOUTH    2114\n",
       "            ASANSOL               395\n",
       "            BANKURA               665\n",
       "            BDN CP                 15\n",
       "            BIRBHUM               908\n",
       "            BKP CP                 89\n",
       "            BURDWAN              1290\n",
       "            COOCHBEHAR            485\n",
       "            DAKSHIN DINAJPUR      369\n",
       "            DARJEELING            583\n",
       "            HOOGHLY              1115\n",
       "            HOWRAH                666\n",
       "            HOWRAH CITY           201\n",
       "            HOWRAH G.R.P.         123\n",
       "            JALPAIGURI           1345\n",
       "            JHARGRAM               30\n",
       "            KHARAGPUR G.R.P.       44\n",
       "            KOLKATA               596\n",
       "            MALDA                 885\n",
       "            MIDNAPUR              120\n",
       "            MURSHIDABAD          1644\n",
       "            NADIA                1355\n",
       "            PASCHIM MIDNAPUR     1350\n",
       "            PURAB MIDNAPUR        707\n",
       "            PURULIA               733\n",
       "            SEALDAH G.R.P.        188\n",
       "            SILIGURI G.R.P.        42\n",
       "            SILIGURI_PC            32\n",
       "            TOTAL               21056\n",
       "            UTTAR DINAJPUR        638"
      ]
     },
     "execution_count": 17,
     "metadata": {},
     "output_type": "execute_result"
    }
   ],
   "source": [
    "# Murder cases of different states District wise:\n",
    "pd.pivot_table(index=['STATE/UT','DISTRICT'],values=['MURDER'],aggfunc='sum',data=crime,margins_name='STATE/UT').tail(30)"
   ]
  },
  {
   "cell_type": "code",
   "execution_count": 102,
   "metadata": {},
   "outputs": [
    {
     "data": {
      "text/plain": [
       "Text(0.5, 1.0, 'Murder and Rape of Girls')"
      ]
     },
     "execution_count": 102,
     "metadata": {},
     "output_type": "execute_result"
    },
    {
     "data": {
      "image/png": "[encoded data removed]",
      "text/plain": [
       "<Figure size 576x360 with 1 Axes>"
      ]
     },
     "metadata": {
      "needs_background": "light"
     },
     "output_type": "display_data"
    }
   ],
   "source": [
    "# Bivariate Analysis Checking relationship between rape and murder\n",
    "plt.figure(figsize=(8,5))\n",
    "sns.lineplot(x='RAPE',y='MURDER',data=crime,color='red')\n",
    "plt.xlabel(\"RAPE\")\n",
    "plt.ylabel(\"Murder\")\n",
    "plt.title(\"Murder and Rape of Girls\")"
   ]
  },
  {
   "cell_type": "code",
   "execution_count": 103,
   "metadata": {},
   "outputs": [
    {
     "data": {
      "text/plain": [
       "Text(0.5, 1.0, 'YEAR WISE MURDER')"
      ]
     },
     "execution_count": 103,
     "metadata": {},
     "output_type": "execute_result"
    },
    {
     "data": {
      "image/png": "[encoded data removed]",
      "text/plain": [
       "<Figure size 576x360 with 1 Axes>"
      ]
     },
     "metadata": {
      "needs_background": "light"
     },
     "output_type": "display_data"
    }
   ],
   "source": [
    "# Bivarite Analysis Checking Year Wise Murder rate:\n",
    "plt.figure(figsize=(8,5))\n",
    "sns.pointplot(x='YEAR',y='MURDER',data=crime,color='red')\n",
    "plt.xlabel(\"YEAR\")\n",
    "plt.ylabel(\"Murder\")\n",
    "plt.title(\"YEAR WISE MURDER\")"
   ]
  },
  {
   "cell_type": "code",
   "execution_count": null,
   "metadata": {},
   "outputs": [],
   "source": []
  },
  {
   "cell_type": "markdown",
   "metadata": {},
   "source": [
    "# Removing Unwanted Columns:"
   ]
  },
  {
   "cell_type": "code",
   "execution_count": 104,
   "metadata": {},
   "outputs": [],
   "source": [
    "crime.drop(columns=['STATE/UT','DISTRICT','YEAR'],axis=1,inplace=True)"
   ]
  },
  {
   "cell_type": "code",
   "execution_count": 105,
   "metadata": {},
   "outputs": [
    {
     "data": {
      "text/html": [
       "<div>\n",
       "<style scoped>\n",
       "    .dataframe tbody tr th:only-of-type {\n",
       "        vertical-align: middle;\n",
       "    }\n",
       "\n",
       "    .dataframe tbody tr th {\n",
       "        vertical-align: top;\n",
       "    }\n",
       "\n",
       "    .dataframe thead th {\n",
       "        text-align: right;\n",
       "    }\n",
       "</style>\n",
       "<table border=\"1\" class=\"dataframe\">\n",
       "  <thead>\n",
       "    <tr style=\"text-align: right;\">\n",
       "      <th></th>\n",
       "      <th>MURDER</th>\n",
       "      <th>ATTEMPT TO MURDER</th>\n",
       "      <th>CULPABLE HOMICIDE NOT AMOUNTING TO MURDER</th>\n",
       "      <th>RAPE</th>\n",
       "      <th>CUSTODIAL RAPE</th>\n",
       "      <th>OTHER RAPE</th>\n",
       "      <th>KIDNAPPING and ABDUCTION</th>\n",
       "      <th>KIDNAPPING AND ABDUCTION OF WOMEN AND GIRLS</th>\n",
       "      <th>KIDNAPPING AND ABDUCTION OF OTHERS</th>\n",
       "      <th>DACOITY</th>\n",
       "      <th>...</th>\n",
       "      <th>ARSON</th>\n",
       "      <th>HURT/GREVIOUS HURT</th>\n",
       "      <th>DOWRY DEATHS</th>\n",
       "      <th>ASSAULT ON WOMEN WITH INTENT TO OUTRAGE HER MODESTY</th>\n",
       "      <th>INSULT TO MODESTY OF WOMEN</th>\n",
       "      <th>CRUELTY BY HUSBAND OR HIS RELATIVES</th>\n",
       "      <th>IMPORTATION OF GIRLS FROM FOREIGN COUNTRIES</th>\n",
       "      <th>CAUSING DEATH BY NEGLIGENCE</th>\n",
       "      <th>OTHER IPC CRIMES</th>\n",
       "      <th>TOTAL IPC CRIMES</th>\n",
       "    </tr>\n",
       "  </thead>\n",
       "  <tbody>\n",
       "    <tr>\n",
       "      <th>0</th>\n",
       "      <td>101</td>\n",
       "      <td>60</td>\n",
       "      <td>17</td>\n",
       "      <td>50</td>\n",
       "      <td>0</td>\n",
       "      <td>50</td>\n",
       "      <td>46</td>\n",
       "      <td>30</td>\n",
       "      <td>16</td>\n",
       "      <td>9</td>\n",
       "      <td>...</td>\n",
       "      <td>30</td>\n",
       "      <td>1131</td>\n",
       "      <td>16</td>\n",
       "      <td>149</td>\n",
       "      <td>34</td>\n",
       "      <td>175</td>\n",
       "      <td>0</td>\n",
       "      <td>181</td>\n",
       "      <td>1518</td>\n",
       "      <td>4154</td>\n",
       "    </tr>\n",
       "    <tr>\n",
       "      <th>1</th>\n",
       "      <td>151</td>\n",
       "      <td>125</td>\n",
       "      <td>1</td>\n",
       "      <td>23</td>\n",
       "      <td>0</td>\n",
       "      <td>23</td>\n",
       "      <td>53</td>\n",
       "      <td>30</td>\n",
       "      <td>23</td>\n",
       "      <td>8</td>\n",
       "      <td>...</td>\n",
       "      <td>69</td>\n",
       "      <td>1543</td>\n",
       "      <td>7</td>\n",
       "      <td>118</td>\n",
       "      <td>24</td>\n",
       "      <td>154</td>\n",
       "      <td>0</td>\n",
       "      <td>270</td>\n",
       "      <td>754</td>\n",
       "      <td>4125</td>\n",
       "    </tr>\n",
       "    <tr>\n",
       "      <th>2</th>\n",
       "      <td>101</td>\n",
       "      <td>57</td>\n",
       "      <td>2</td>\n",
       "      <td>27</td>\n",
       "      <td>0</td>\n",
       "      <td>27</td>\n",
       "      <td>59</td>\n",
       "      <td>34</td>\n",
       "      <td>25</td>\n",
       "      <td>4</td>\n",
       "      <td>...</td>\n",
       "      <td>38</td>\n",
       "      <td>2088</td>\n",
       "      <td>14</td>\n",
       "      <td>112</td>\n",
       "      <td>83</td>\n",
       "      <td>186</td>\n",
       "      <td>0</td>\n",
       "      <td>404</td>\n",
       "      <td>1262</td>\n",
       "      <td>5818</td>\n",
       "    </tr>\n",
       "    <tr>\n",
       "      <th>3</th>\n",
       "      <td>80</td>\n",
       "      <td>53</td>\n",
       "      <td>1</td>\n",
       "      <td>20</td>\n",
       "      <td>0</td>\n",
       "      <td>20</td>\n",
       "      <td>25</td>\n",
       "      <td>20</td>\n",
       "      <td>5</td>\n",
       "      <td>1</td>\n",
       "      <td>...</td>\n",
       "      <td>23</td>\n",
       "      <td>795</td>\n",
       "      <td>17</td>\n",
       "      <td>126</td>\n",
       "      <td>38</td>\n",
       "      <td>57</td>\n",
       "      <td>0</td>\n",
       "      <td>233</td>\n",
       "      <td>1181</td>\n",
       "      <td>3140</td>\n",
       "    </tr>\n",
       "    <tr>\n",
       "      <th>4</th>\n",
       "      <td>82</td>\n",
       "      <td>67</td>\n",
       "      <td>1</td>\n",
       "      <td>23</td>\n",
       "      <td>0</td>\n",
       "      <td>23</td>\n",
       "      <td>49</td>\n",
       "      <td>26</td>\n",
       "      <td>23</td>\n",
       "      <td>4</td>\n",
       "      <td>...</td>\n",
       "      <td>41</td>\n",
       "      <td>1244</td>\n",
       "      <td>12</td>\n",
       "      <td>109</td>\n",
       "      <td>58</td>\n",
       "      <td>247</td>\n",
       "      <td>0</td>\n",
       "      <td>431</td>\n",
       "      <td>2313</td>\n",
       "      <td>6507</td>\n",
       "    </tr>\n",
       "  </tbody>\n",
       "</table>\n",
       "<p>5 rows × 30 columns</p>\n",
       "</div>"
      ],
      "text/plain": [
       "   MURDER  ATTEMPT TO MURDER  CULPABLE HOMICIDE NOT AMOUNTING TO MURDER  RAPE  \\\n",
       "0     101                 60                                         17    50   \n",
       "1     151                125                                          1    23   \n",
       "2     101                 57                                          2    27   \n",
       "3      80                 53                                          1    20   \n",
       "4      82                 67                                          1    23   \n",
       "\n",
       "   CUSTODIAL RAPE  OTHER RAPE  KIDNAPPING and ABDUCTION  \\\n",
       "0               0          50                        46   \n",
       "1               0          23                        53   \n",
       "2               0          27                        59   \n",
       "3               0          20                        25   \n",
       "4               0          23                        49   \n",
       "\n",
       "   KIDNAPPING AND ABDUCTION OF WOMEN AND GIRLS  \\\n",
       "0                                           30   \n",
       "1                                           30   \n",
       "2                                           34   \n",
       "3                                           20   \n",
       "4                                           26   \n",
       "\n",
       "   KIDNAPPING AND ABDUCTION OF OTHERS  DACOITY        ...         ARSON  \\\n",
       "0                                  16        9        ...            30   \n",
       "1                                  23        8        ...            69   \n",
       "2                                  25        4        ...            38   \n",
       "3                                   5        1        ...            23   \n",
       "4                                  23        4        ...            41   \n",
       "\n",
       "   HURT/GREVIOUS HURT  DOWRY DEATHS  \\\n",
       "0                1131            16   \n",
       "1                1543             7   \n",
       "2                2088            14   \n",
       "3                 795            17   \n",
       "4                1244            12   \n",
       "\n",
       "   ASSAULT ON WOMEN WITH INTENT TO OUTRAGE HER MODESTY  \\\n",
       "0                                                149     \n",
       "1                                                118     \n",
       "2                                                112     \n",
       "3                                                126     \n",
       "4                                                109     \n",
       "\n",
       "   INSULT TO MODESTY OF WOMEN  CRUELTY BY HUSBAND OR HIS RELATIVES  \\\n",
       "0                          34                                  175   \n",
       "1                          24                                  154   \n",
       "2                          83                                  186   \n",
       "3                          38                                   57   \n",
       "4                          58                                  247   \n",
       "\n",
       "   IMPORTATION OF GIRLS FROM FOREIGN COUNTRIES  CAUSING DEATH BY NEGLIGENCE  \\\n",
       "0                                            0                          181   \n",
       "1                                            0                          270   \n",
       "2                                            0                          404   \n",
       "3                                            0                          233   \n",
       "4                                            0                          431   \n",
       "\n",
       "   OTHER IPC CRIMES  TOTAL IPC CRIMES  \n",
       "0              1518              4154  \n",
       "1               754              4125  \n",
       "2              1262              5818  \n",
       "3              1181              3140  \n",
       "4              2313              6507  \n",
       "\n",
       "[5 rows x 30 columns]"
      ]
     },
     "execution_count": 105,
     "metadata": {},
     "output_type": "execute_result"
    }
   ],
   "source": [
    "crime.head()"
   ]
  },
  {
   "cell_type": "markdown",
   "metadata": {},
   "source": [
    "# Checking for Outliers and Neutralizing them"
   ]
  },
  {
   "cell_type": "code",
   "execution_count": 106,
   "metadata": {},
   "outputs": [
    {
     "name": "stdout",
     "output_type": "stream",
     "text": [
      "(9017, 30)\n",
      "(8669, 30)\n"
     ]
    }
   ],
   "source": [
    "# Let check wheather any outliers are present or not\n",
    "from scipy.stats import zscore\n",
    "zscore = abs(zscore(crime))\n",
    "print(crime.shape)\n",
    "crime_final = crime.loc[(zscore<3).all(axis=1)]\n",
    "print(crime_final.shape)"
   ]
  },
  {
   "cell_type": "code",
   "execution_count": 107,
   "metadata": {},
   "outputs": [
    {
     "data": {
      "text/plain": [
       "(8669, 30)"
      ]
     },
     "execution_count": 107,
     "metadata": {},
     "output_type": "execute_result"
    }
   ],
   "source": [
    "crime_final.shape"
   ]
  },
  {
   "cell_type": "markdown",
   "metadata": {},
   "source": [
    "# Selecting X and Y Values"
   ]
  },
  {
   "cell_type": "code",
   "execution_count": 108,
   "metadata": {},
   "outputs": [
    {
     "name": "stdout",
     "output_type": "stream",
     "text": [
      "(8669, 29)\n",
      "(8669,)\n"
     ]
    }
   ],
   "source": [
    "X = crime_final.drop('MURDER',axis=1)\n",
    "y = crime_final['MURDER']\n",
    "print(X.shape)\n",
    "print(y.shape)"
   ]
  },
  {
   "cell_type": "code",
   "execution_count": 109,
   "metadata": {},
   "outputs": [
    {
     "data": {
      "text/plain": [
       "ExtraTreesRegressor()"
      ]
     },
     "execution_count": 109,
     "metadata": {},
     "output_type": "execute_result"
    }
   ],
   "source": [
    "# Important feature using ExtraTreesRegressor\n",
    "from sklearn.ensemble import ExtraTreesRegressor\n",
    "selection = ExtraTreesRegressor()\n",
    "selection.fit(X, y)"
   ]
  },
  {
   "cell_type": "code",
   "execution_count": 110,
   "metadata": {},
   "outputs": [
    {
     "name": "stdout",
     "output_type": "stream",
     "text": [
      "[0.19359052 0.04484192 0.0242549  0.         0.04292562 0.06460763\n",
      " 0.01646206 0.06903817 0.05999197 0.00650992 0.06571514 0.01441874\n",
      " 0.01028313 0.00892741 0.01670023 0.02175703 0.02151122 0.00995536\n",
      " 0.00795605 0.01835931 0.01730355 0.12093231 0.01505825 0.02176235\n",
      " 0.01322539 0.00286301 0.03466173 0.01500225 0.04138482]\n"
     ]
    }
   ],
   "source": [
    "print(selection.feature_importances_)"
   ]
  },
  {
   "cell_type": "code",
   "execution_count": 111,
   "metadata": {},
   "outputs": [
    {
     "data": {
      "image/png": "[encoded data removed]",
      "text/plain": [
       "<Figure size 864x576 with 1 Axes>"
      ]
     },
     "metadata": {
      "needs_background": "light"
     },
     "output_type": "display_data"
    }
   ],
   "source": [
    "#plot graph of feature importances for better visualization\n",
    "plt.figure(figsize = (12,8))\n",
    "feat_importances = pd.Series(selection.feature_importances_, index=X.columns)\n",
    "feat_importances.nlargest(20).plot(kind='barh')\n",
    "plt.show()"
   ]
  },
  {
   "cell_type": "code",
   "execution_count": 112,
   "metadata": {},
   "outputs": [
    {
     "name": "stdout",
     "output_type": "stream",
     "text": [
      "Total Murder  X_train dataset:  (6935, 29)\n",
      "Total Murder  y_train dataset:  (6935,)\n",
      "Total Murder  X_test dataset:  (1734, 29)\n",
      "Total Murder  y_test dataset:  (1734,)\n"
     ]
    }
   ],
   "source": [
    "from sklearn.model_selection import train_test_split\n",
    "X_train, X_test, y_train, y_test = train_test_split(X, y, test_size = 0.2, random_state = 42)\n",
    "\n",
    "print(\"Total Murder  X_train dataset: \", X_train.shape)\n",
    "print(\"Total Murder  y_train dataset: \", y_train.shape)\n",
    "print(\"Total Murder  X_test dataset: \", X_test.shape)\n",
    "print(\"Total Murder  y_test dataset: \", y_test.shape)"
   ]
  },
  {
   "cell_type": "markdown",
   "metadata": {},
   "source": [
    "# Scaling out Model"
   ]
  },
  {
   "cell_type": "code",
   "execution_count": 113,
   "metadata": {},
   "outputs": [],
   "source": [
    "#Feature Scaling\n",
    "from sklearn.preprocessing import StandardScaler\n",
    "scaler = StandardScaler()\n",
    "scaler.fit(X_train)\n",
    "X_train = scaler.transform(X_train)\n",
    "X_test = scaler.transform(X_test)"
   ]
  },
  {
   "cell_type": "markdown",
   "metadata": {},
   "source": [
    "# Linear Regresion"
   ]
  },
  {
   "cell_type": "code",
   "execution_count": 115,
   "metadata": {},
   "outputs": [],
   "source": [
    "from sklearn.metrics import mean_squared_error,mean_absolute_error\n",
    "from sklearn.model_selection import train_test_split\n",
    "from sklearn import linear_model\n",
    "from sklearn.metrics import r2_score\n",
    "def classify(regr,X,y):\n",
    "    max_r_score = 0\n",
    "    for r_state in range(42,101):\n",
    "        X_train, X_test, y_train, y_test = train_test_split(X, y, test_size=0.2, random_state=r_state)\n",
    "        regr.fit(X_train,y_train)\n",
    "        y_pred = regr.predict(X_test)\n",
    "        r2_scr = r2_score(y_test,y_pred)\n",
    "        print('r2_score corresponding to random state: ',r_state,\"is \",r2_scr)\n",
    "        if r2_scr>max_r_score:\n",
    "            max_r_score = r2_scr\n",
    "            final_r_state = r_state\n",
    "    print(\"max_r_score corresponding to:\",final_r_state,\"is\",max_r_score)\n",
    "    return final_r_state"
   ]
  },
  {
   "cell_type": "code",
   "execution_count": 116,
   "metadata": {},
   "outputs": [
    {
     "name": "stdout",
     "output_type": "stream",
     "text": [
      "r2_score corresponding to random state:  42 is  0.9999746655598851\n",
      "r2_score corresponding to random state:  43 is  0.999974329039926\n",
      "r2_score corresponding to random state:  44 is  0.9999765249144481\n",
      "r2_score corresponding to random state:  45 is  0.9999999935037915\n",
      "r2_score corresponding to random state:  46 is  0.9999999905592974\n",
      "r2_score corresponding to random state:  47 is  0.9999547206954031\n",
      "r2_score corresponding to random state:  48 is  0.9999510626405079\n",
      "r2_score corresponding to random state:  49 is  0.9999761882133902\n",
      "r2_score corresponding to random state:  50 is  0.9999720157794807\n",
      "r2_score corresponding to random state:  51 is  0.9999999929533787\n",
      "r2_score corresponding to random state:  52 is  0.9999752544961223\n",
      "r2_score corresponding to random state:  53 is  0.9999999929174117\n",
      "r2_score corresponding to random state:  54 is  0.9999999931632377\n",
      "r2_score corresponding to random state:  55 is  0.9999999930308594\n",
      "r2_score corresponding to random state:  56 is  0.9999740774102057\n",
      "r2_score corresponding to random state:  57 is  0.9999449823649705\n",
      "r2_score corresponding to random state:  58 is  0.9999999911957396\n",
      "r2_score corresponding to random state:  59 is  0.9999999906315433\n",
      "r2_score corresponding to random state:  60 is  0.9999553400991389\n",
      "r2_score corresponding to random state:  61 is  0.9999999923730354\n",
      "r2_score corresponding to random state:  62 is  0.9999718294848019\n",
      "r2_score corresponding to random state:  63 is  0.9999999926318043\n",
      "r2_score corresponding to random state:  64 is  0.9999999931482564\n",
      "r2_score corresponding to random state:  65 is  0.999999993281727\n",
      "r2_score corresponding to random state:  66 is  0.9999720844219497\n",
      "r2_score corresponding to random state:  67 is  0.9999999932295658\n",
      "r2_score corresponding to random state:  68 is  0.9999999924486817\n",
      "r2_score corresponding to random state:  69 is  0.9999999940200907\n",
      "r2_score corresponding to random state:  70 is  0.9999999925430947\n",
      "r2_score corresponding to random state:  71 is  0.999999991300085\n",
      "r2_score corresponding to random state:  72 is  0.9999708161424002\n",
      "r2_score corresponding to random state:  73 is  0.9999999922665648\n",
      "r2_score corresponding to random state:  74 is  0.9999999936929325\n",
      "r2_score corresponding to random state:  75 is  0.9999999937801075\n",
      "r2_score corresponding to random state:  76 is  0.9999736661417788\n",
      "r2_score corresponding to random state:  77 is  0.9999999913780696\n",
      "r2_score corresponding to random state:  78 is  0.9999999929899349\n",
      "r2_score corresponding to random state:  79 is  0.9999999907583346\n",
      "r2_score corresponding to random state:  80 is  0.9999999911931554\n",
      "r2_score corresponding to random state:  81 is  0.9999740673042887\n",
      "r2_score corresponding to random state:  82 is  0.999975368904582\n",
      "r2_score corresponding to random state:  83 is  0.9999999916716229\n",
      "r2_score corresponding to random state:  84 is  0.99997365476315\n",
      "r2_score corresponding to random state:  85 is  0.9999727972824667\n",
      "r2_score corresponding to random state:  86 is  0.9999999925485209\n",
      "r2_score corresponding to random state:  87 is  0.9999720801679677\n",
      "r2_score corresponding to random state:  88 is  0.9999726788481555\n",
      "r2_score corresponding to random state:  89 is  0.9999750560826044\n",
      "r2_score corresponding to random state:  90 is  0.9999788338731177\n",
      "r2_score corresponding to random state:  91 is  0.9999999920212482\n",
      "r2_score corresponding to random state:  92 is  0.9999492360420544\n",
      "r2_score corresponding to random state:  93 is  0.999999992862513\n",
      "r2_score corresponding to random state:  94 is  0.9999999912902755\n",
      "r2_score corresponding to random state:  95 is  0.9999999915040392\n",
      "r2_score corresponding to random state:  96 is  0.9999751047129121\n",
      "r2_score corresponding to random state:  97 is  0.9999999913625044\n",
      "r2_score corresponding to random state:  98 is  0.9999999920185066\n",
      "r2_score corresponding to random state:  99 is  0.9999999935637672\n",
      "r2_score corresponding to random state:  100 is  0.9999732200288118\n",
      "max_r_score corresponding to: 69 is 0.9999999940200907\n"
     ]
    }
   ],
   "source": [
    "from sklearn.linear_model import LinearRegression\n",
    "lr = LinearRegression()\n",
    "r_state = classify(lr,X,y)"
   ]
  },
  {
   "cell_type": "code",
   "execution_count": 117,
   "metadata": {},
   "outputs": [
    {
     "name": "stdout",
     "output_type": "stream",
     "text": [
      "mean r2_score for Linear Regression: 0.9999917291059081\n",
      "standard deviation in r2_score for linear Regression: 1.65226667909245e-05\n"
     ]
    }
   ],
   "source": [
    "####Lets do cross Validation.\n",
    "from sklearn.model_selection import cross_val_score\n",
    "print(\"mean r2_score for Linear Regression:\",cross_val_score(lr,X,y,cv=5,scoring=\"r2\").mean())\n",
    "print(\"standard deviation in r2_score for linear Regression:\",cross_val_score(lr,X,y,cv=5,scoring=\"r2\").std())"
   ]
  },
  {
   "cell_type": "code",
   "execution_count": 118,
   "metadata": {},
   "outputs": [
    {
     "name": "stdout",
     "output_type": "stream",
     "text": [
      "0.9999999940200907\n"
     ]
    }
   ],
   "source": [
    "# Fitting the model with best random state:\n",
    "X_train, X_test, y_train, y_test = train_test_split(X, y, test_size=0.2, random_state=69)\n",
    "lr = linear_model.LinearRegression()\n",
    "lr.fit(X_train,y_train)\n",
    "y_pred = lr.predict(X_test)\n",
    "r2_scr = r2_score(y_test,y_pred)\n",
    "print(r2_scr)"
   ]
  },
  {
   "cell_type": "code",
   "execution_count": 119,
   "metadata": {},
   "outputs": [
    {
     "data": {
      "image/png": "[encoded data removed]",
      "text/plain": [
       "<Figure size 432x288 with 1 Axes>"
      ]
     },
     "metadata": {
      "needs_background": "light"
     },
     "output_type": "display_data"
    }
   ],
   "source": [
    "plt.scatter(y_test, y_pred, alpha = 0.5)\n",
    "plt.xlabel(\"y_test\")\n",
    "plt.ylabel(\"y_pred\")\n",
    "plt.show()"
   ]
  },
  {
   "cell_type": "markdown",
   "metadata": {},
   "source": [
    "# Lasso Regression"
   ]
  },
  {
   "cell_type": "code",
   "execution_count": 120,
   "metadata": {},
   "outputs": [],
   "source": [
    "from sklearn.linear_model import Lasso\n",
    "lasso = Lasso()"
   ]
  },
  {
   "cell_type": "code",
   "execution_count": 121,
   "metadata": {},
   "outputs": [],
   "source": [
    "param = {'alpha':[0.001,0.01,0.1,1]}"
   ]
  },
  {
   "cell_type": "code",
   "execution_count": 122,
   "metadata": {},
   "outputs": [
    {
     "data": {
      "text/plain": [
       "GridSearchCV(cv=5, estimator=Lasso(),\n",
       "             param_grid={'alpha': [0.001, 0.01, 0.1, 1]})"
      ]
     },
     "execution_count": 122,
     "metadata": {},
     "output_type": "execute_result"
    }
   ],
   "source": [
    "grid = GridSearchCV(estimator=lasso,param_grid=param,cv=5,return_train_score=False)\n",
    "grid.fit(X_train,y_train)"
   ]
  },
  {
   "cell_type": "code",
   "execution_count": 123,
   "metadata": {},
   "outputs": [
    {
     "name": "stdout",
     "output_type": "stream",
     "text": [
      "{'alpha': 1}\n",
      "0.7915988644772158\n"
     ]
    }
   ],
   "source": [
    "print(grid.best_params_)\n",
    "print(grid.best_score_)"
   ]
  },
  {
   "cell_type": "code",
   "execution_count": 124,
   "metadata": {},
   "outputs": [
    {
     "name": "stdout",
     "output_type": "stream",
     "text": [
      "r2_score corresponding to random state:  42 is  0.8157723248409922\n",
      "r2_score corresponding to random state:  43 is  0.798324380332221\n",
      "r2_score corresponding to random state:  44 is  0.7997682899536558\n",
      "r2_score corresponding to random state:  45 is  0.7941217730842149\n",
      "r2_score corresponding to random state:  46 is  0.8002276754921749\n",
      "r2_score corresponding to random state:  47 is  0.7964095143347176\n",
      "r2_score corresponding to random state:  48 is  0.8042640491400108\n",
      "r2_score corresponding to random state:  49 is  0.7996765691473665\n",
      "r2_score corresponding to random state:  50 is  0.7930321040121605\n",
      "r2_score corresponding to random state:  51 is  0.7916358036464836\n",
      "r2_score corresponding to random state:  52 is  0.8033243589067466\n",
      "r2_score corresponding to random state:  53 is  0.8015977776713339\n",
      "r2_score corresponding to random state:  54 is  0.7778887368163995\n",
      "r2_score corresponding to random state:  55 is  0.8012216351310285\n",
      "r2_score corresponding to random state:  56 is  0.7762251925701581\n",
      "r2_score corresponding to random state:  57 is  0.7614383217573535\n",
      "r2_score corresponding to random state:  58 is  0.8057906367974861\n",
      "r2_score corresponding to random state:  59 is  0.7636501723817852\n",
      "r2_score corresponding to random state:  60 is  0.7869227686330716\n",
      "r2_score corresponding to random state:  61 is  0.783889800459468\n",
      "r2_score corresponding to random state:  62 is  0.7942572573829019\n",
      "r2_score corresponding to random state:  63 is  0.8055672003710789\n",
      "r2_score corresponding to random state:  64 is  0.7886037093382815\n",
      "r2_score corresponding to random state:  65 is  0.8049188799354666\n",
      "r2_score corresponding to random state:  66 is  0.7919930612115378\n",
      "r2_score corresponding to random state:  67 is  0.8027645760430501\n",
      "r2_score corresponding to random state:  68 is  0.7797203990324827\n",
      "r2_score corresponding to random state:  69 is  0.7634199496713963\n",
      "r2_score corresponding to random state:  70 is  0.7859287041563013\n",
      "r2_score corresponding to random state:  71 is  0.7943466523674114\n",
      "r2_score corresponding to random state:  72 is  0.7783877468921498\n",
      "r2_score corresponding to random state:  73 is  0.7804540405768516\n",
      "r2_score corresponding to random state:  74 is  0.7919033931332449\n",
      "r2_score corresponding to random state:  75 is  0.8079165210100732\n",
      "r2_score corresponding to random state:  76 is  0.8015655751848053\n",
      "r2_score corresponding to random state:  77 is  0.7555673844905088\n",
      "r2_score corresponding to random state:  78 is  0.7780487506430428\n",
      "r2_score corresponding to random state:  79 is  0.8060249939517842\n",
      "r2_score corresponding to random state:  80 is  0.7748746777291373\n",
      "r2_score corresponding to random state:  81 is  0.7955200696034229\n",
      "r2_score corresponding to random state:  82 is  0.7965125688215996\n",
      "r2_score corresponding to random state:  83 is  0.7844343046663955\n",
      "r2_score corresponding to random state:  84 is  0.802489449009291\n",
      "r2_score corresponding to random state:  85 is  0.7882963179773823\n",
      "r2_score corresponding to random state:  86 is  0.795736159456535\n",
      "r2_score corresponding to random state:  87 is  0.7500859244023852\n",
      "r2_score corresponding to random state:  88 is  0.8000545350240006\n",
      "r2_score corresponding to random state:  89 is  0.7729990472440481\n",
      "r2_score corresponding to random state:  90 is  0.8135074369264741\n",
      "r2_score corresponding to random state:  91 is  0.767808184871666\n",
      "r2_score corresponding to random state:  92 is  0.7963116629083178\n",
      "r2_score corresponding to random state:  93 is  0.8008348036892077\n",
      "r2_score corresponding to random state:  94 is  0.7744786577519498\n",
      "r2_score corresponding to random state:  95 is  0.7878349837806546\n",
      "r2_score corresponding to random state:  96 is  0.7830167626295742\n",
      "r2_score corresponding to random state:  97 is  0.7917770507376987\n",
      "r2_score corresponding to random state:  98 is  0.8069240091031004\n",
      "r2_score corresponding to random state:  99 is  0.8065941395159403\n",
      "r2_score corresponding to random state:  100 is  0.7604849674412646\n",
      "max_r_score corresponding to: 42 is 0.8157723248409922\n"
     ]
    }
   ],
   "source": [
    "lasso = Lasso(alpha=1)\n",
    "r_state = classify(lasso,X,y)"
   ]
  },
  {
   "cell_type": "code",
   "execution_count": 125,
   "metadata": {},
   "outputs": [
    {
     "name": "stdout",
     "output_type": "stream",
     "text": [
      "mean r2_score for Lasso Regression: 0.7766406736201211\n",
      "standard deviation in r2_score for lasso Regression: 0.03328851899714968\n"
     ]
    }
   ],
   "source": [
    "from sklearn.model_selection import cross_val_score\n",
    "print(\"mean r2_score for Lasso Regression:\",cross_val_score(lasso,X,y,cv=5,scoring=\"r2\").mean())\n",
    "print(\"standard deviation in r2_score for lasso Regression:\",cross_val_score(lasso,X,y,cv=5,scoring=\"r2\").std())"
   ]
  },
  {
   "cell_type": "markdown",
   "metadata": {},
   "source": [
    "# Ridge Regression"
   ]
  },
  {
   "cell_type": "code",
   "execution_count": 126,
   "metadata": {},
   "outputs": [],
   "source": [
    "from sklearn.linear_model import Ridge\n",
    "ridge = Ridge()"
   ]
  },
  {
   "cell_type": "code",
   "execution_count": 127,
   "metadata": {},
   "outputs": [],
   "source": [
    "param = {'alpha':[0.001,0.01,0.1,1]}"
   ]
  },
  {
   "cell_type": "code",
   "execution_count": 128,
   "metadata": {},
   "outputs": [
    {
     "data": {
      "text/plain": [
       "GridSearchCV(cv=5, estimator=Ridge(),\n",
       "             param_grid={'alpha': [0.001, 0.01, 0.1, 1]})"
      ]
     },
     "execution_count": 128,
     "metadata": {},
     "output_type": "execute_result"
    }
   ],
   "source": [
    "gk = GridSearchCV(estimator=ridge,param_grid=param,cv=5,return_train_score=False)\n",
    "gk.fit(X_train,y_train)"
   ]
  },
  {
   "cell_type": "code",
   "execution_count": 129,
   "metadata": {},
   "outputs": [
    {
     "name": "stdout",
     "output_type": "stream",
     "text": [
      "{'alpha': 0.001}\n",
      "0.9999860842851284\n"
     ]
    }
   ],
   "source": [
    "print(gk.best_params_)\n",
    "print(gk.best_score_)"
   ]
  },
  {
   "cell_type": "code",
   "execution_count": 130,
   "metadata": {},
   "outputs": [
    {
     "name": "stdout",
     "output_type": "stream",
     "text": [
      "r2_score corresponding to random state:  42 is  0.9999746655600495\n",
      "r2_score corresponding to random state:  43 is  0.9999743290388778\n",
      "r2_score corresponding to random state:  44 is  0.9999765249145876\n",
      "r2_score corresponding to random state:  45 is  0.9999999935041376\n",
      "r2_score corresponding to random state:  46 is  0.9999999905593008\n",
      "r2_score corresponding to random state:  47 is  0.999954720694549\n",
      "r2_score corresponding to random state:  48 is  0.9999510626396753\n",
      "r2_score corresponding to random state:  49 is  0.9999761882136669\n",
      "r2_score corresponding to random state:  50 is  0.9999720157785336\n",
      "r2_score corresponding to random state:  51 is  0.9999999929537283\n",
      "r2_score corresponding to random state:  52 is  0.9999752544963111\n",
      "r2_score corresponding to random state:  53 is  0.9999999929176189\n",
      "r2_score corresponding to random state:  54 is  0.9999999931633984\n",
      "r2_score corresponding to random state:  55 is  0.9999999930310604\n",
      "r2_score corresponding to random state:  56 is  0.999974077410726\n",
      "r2_score corresponding to random state:  57 is  0.9999449823641128\n",
      "r2_score corresponding to random state:  58 is  0.9999999911960414\n",
      "r2_score corresponding to random state:  59 is  0.9999999906316953\n",
      "r2_score corresponding to random state:  60 is  0.9999553400984047\n",
      "r2_score corresponding to random state:  61 is  0.9999999923731993\n",
      "r2_score corresponding to random state:  62 is  0.9999718294837427\n",
      "r2_score corresponding to random state:  63 is  0.9999999926320638\n",
      "r2_score corresponding to random state:  64 is  0.9999999931484649\n",
      "r2_score corresponding to random state:  65 is  0.9999999932819162\n",
      "r2_score corresponding to random state:  66 is  0.9999720844225779\n",
      "r2_score corresponding to random state:  67 is  0.9999999932297794\n",
      "r2_score corresponding to random state:  68 is  0.9999999924489417\n",
      "r2_score corresponding to random state:  69 is  0.9999999940202838\n",
      "r2_score corresponding to random state:  70 is  0.999999992543356\n",
      "r2_score corresponding to random state:  71 is  0.9999999913001272\n",
      "r2_score corresponding to random state:  72 is  0.9999708161425133\n",
      "r2_score corresponding to random state:  73 is  0.9999999922669626\n",
      "r2_score corresponding to random state:  74 is  0.999999993693064\n",
      "r2_score corresponding to random state:  75 is  0.9999999937801913\n",
      "r2_score corresponding to random state:  76 is  0.9999736661408959\n",
      "r2_score corresponding to random state:  77 is  0.9999999913783262\n",
      "r2_score corresponding to random state:  78 is  0.9999999929900764\n",
      "r2_score corresponding to random state:  79 is  0.9999999907584994\n",
      "r2_score corresponding to random state:  80 is  0.9999999911934089\n",
      "r2_score corresponding to random state:  81 is  0.9999740673031255\n",
      "r2_score corresponding to random state:  82 is  0.9999753689037254\n",
      "r2_score corresponding to random state:  83 is  0.9999999916719651\n",
      "r2_score corresponding to random state:  84 is  0.9999736547633507\n",
      "r2_score corresponding to random state:  85 is  0.9999727972828\n",
      "r2_score corresponding to random state:  86 is  0.9999999925489184\n",
      "r2_score corresponding to random state:  87 is  0.9999720801669505\n",
      "r2_score corresponding to random state:  88 is  0.9999726788485411\n",
      "r2_score corresponding to random state:  89 is  0.9999750560827895\n",
      "r2_score corresponding to random state:  90 is  0.9999788338722289\n",
      "r2_score corresponding to random state:  91 is  0.999999992021529\n",
      "r2_score corresponding to random state:  92 is  0.9999492360411316\n",
      "r2_score corresponding to random state:  93 is  0.9999999928627231\n",
      "r2_score corresponding to random state:  94 is  0.9999999912907462\n",
      "r2_score corresponding to random state:  95 is  0.9999999915043972\n",
      "r2_score corresponding to random state:  96 is  0.9999751047119526\n",
      "r2_score corresponding to random state:  97 is  0.9999999913626612\n",
      "r2_score corresponding to random state:  98 is  0.9999999920187889\n",
      "r2_score corresponding to random state:  99 is  0.9999999935639458\n",
      "r2_score corresponding to random state:  100 is  0.999973220029092\n",
      "max_r_score corresponding to: 69 is 0.9999999940202838\n"
     ]
    }
   ],
   "source": [
    "ridge = Ridge(alpha=0.001)\n",
    "r_state = classify(ridge,X,y)"
   ]
  },
  {
   "cell_type": "code",
   "execution_count": 131,
   "metadata": {},
   "outputs": [
    {
     "name": "stdout",
     "output_type": "stream",
     "text": [
      "mean r2_score for Ridge Regression: 0.9999917291058953\n",
      "standard deviation in r2_score Ridge Regression: 1.6522667218050248e-05\n"
     ]
    }
   ],
   "source": [
    "from sklearn.model_selection import cross_val_score\n",
    "print(\"mean r2_score for Ridge Regression:\",cross_val_score(ridge,X,y,cv=5,scoring=\"r2\").mean())\n",
    "print(\"standard deviation in r2_score Ridge Regression:\",cross_val_score(ridge,X,y,cv=5,scoring=\"r2\").std())"
   ]
  },
  {
   "cell_type": "markdown",
   "metadata": {},
   "source": [
    "# Saving the best model"
   ]
  },
  {
   "cell_type": "code",
   "execution_count": 132,
   "metadata": {},
   "outputs": [
    {
     "data": {
      "text/plain": [
       "array([76.01131332, 58.00210523, 98.99410795, ..., 78.99892294,\n",
       "       14.00145585, 74.99944055])"
      ]
     },
     "execution_count": 132,
     "metadata": {},
     "output_type": "execute_result"
    }
   ],
   "source": [
    "import joblib\n",
    "joblib.dump(lr,'lr.obj')\n",
    "lr_from_joblib = joblib.load('lr.obj')\n",
    "lr_from_joblib.predict(X_test)"
   ]
  }
 ],
 "metadata": {
  "kernelspec": {
   "display_name": "Python 3",
   "language": "python",
   "name": "python3"
  },
  "language_info": {
   "codemirror_mode": {
    "name": "ipython",
    "version": 3
   },
   "file_extension": ".py",
   "mimetype": "text/x-python",
   "name": "python",
   "nbconvert_exporter": "python",
   "pygments_lexer": "ipython3",
   "version": "3.7.1"
  }
 },
 "nbformat": 4,
 "nbformat_minor": 2
}
