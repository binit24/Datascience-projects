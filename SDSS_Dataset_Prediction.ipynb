{
  "nbformat": 4,
  "nbformat_minor": 0,
  "metadata": {
    "colab": {
      "name": "SDSS Dataset Prediction",
      "provenance": [],
      "authorship_tag": "ABX9TyPYpDs5NfTuGPWphACTccZI",
      "include_colab_link": true
    },
    "kernelspec": {
      "name": "python3",
      "display_name": "Python 3"
    }
  },
  "cells": [
    {
      "cell_type": "markdown",
      "metadata": {
        "id": "view-in-github",
        "colab_type": "text"
      },
      "source": [
        "<a href=\"https://colab.research.google.com/github/binit24/Datascience-projects/blob/main/SDSS_Dataset_Prediction.ipynb\" target=\"_parent\"><img src=\"https://colab.research.google.com/assets/colab-badge.svg\" alt=\"Open In Colab\"/></a>"
      ]
    },
    {
      "cell_type": "code",
      "metadata": {
        "id": "whD9jL6zlnGT"
      },
      "source": [
        "#Importing Libraries.\n",
        "import pandas as pd\n",
        "import numpy as np\n",
        "import matplotlib.pyplot as plt\n",
        "import seaborn as sns\n",
        "import os\n",
        "#import warnings:\n",
        "import warnings\n",
        "warnings.filterwarnings('ignore')"
      ],
      "execution_count": 452,
      "outputs": []
    },
    {
      "cell_type": "code",
      "metadata": {
        "colab": {
          "base_uri": "https://localhost:8080/"
        },
        "id": "T0Jgtu_ymlb3",
        "outputId": "6b626280-52df-45dc-f86d-b6c75a9f77ed"
      },
      "source": [
        "from google.colab import drive\n",
        "drive.mount('/content/drive')"
      ],
      "execution_count": 453,
      "outputs": [
        {
          "output_type": "stream",
          "text": [
            "Drive already mounted at /content/drive; to attempt to forcibly remount, call drive.mount(\"/content/drive\", force_remount=True).\n"
          ],
          "name": "stdout"
        }
      ]
    },
    {
      "cell_type": "code",
      "metadata": {
        "id": "8rxTQY-amle7"
      },
      "source": [
        "f = open(\"spacedata.csv\")"
      ],
      "execution_count": 454,
      "outputs": []
    },
    {
      "cell_type": "code",
      "metadata": {
        "colab": {
          "base_uri": "https://localhost:8080/",
          "height": 212
        },
        "id": "b40QpzsHmlkM",
        "outputId": "530060e0-ed0b-46d5-dab3-514f1f4d429f"
      },
      "source": [
        "#Reading the Dataset:\n",
        "df = pd.read_csv('spacedata.csv')\n",
        "print(df.shape) #checking no of rows and columns in the dataset.\n",
        "df.head()"
      ],
      "execution_count": 455,
      "outputs": [
        {
          "output_type": "stream",
          "text": [
            "(10000, 18)\n"
          ],
          "name": "stdout"
        },
        {
          "output_type": "execute_result",
          "data": {
            "text/html": [
              "<div>\n",
              "<style scoped>\n",
              "    .dataframe tbody tr th:only-of-type {\n",
              "        vertical-align: middle;\n",
              "    }\n",
              "\n",
              "    .dataframe tbody tr th {\n",
              "        vertical-align: top;\n",
              "    }\n",
              "\n",
              "    .dataframe thead th {\n",
              "        text-align: right;\n",
              "    }\n",
              "</style>\n",
              "<table border=\"1\" class=\"dataframe\">\n",
              "  <thead>\n",
              "    <tr style=\"text-align: right;\">\n",
              "      <th></th>\n",
              "      <th>objid</th>\n",
              "      <th>ra</th>\n",
              "      <th>dec</th>\n",
              "      <th>u</th>\n",
              "      <th>g</th>\n",
              "      <th>r</th>\n",
              "      <th>i</th>\n",
              "      <th>z</th>\n",
              "      <th>run</th>\n",
              "      <th>rerun</th>\n",
              "      <th>camcol</th>\n",
              "      <th>field</th>\n",
              "      <th>specobjid</th>\n",
              "      <th>class</th>\n",
              "      <th>redshift</th>\n",
              "      <th>plate</th>\n",
              "      <th>mjd</th>\n",
              "      <th>fiberid</th>\n",
              "    </tr>\n",
              "  </thead>\n",
              "  <tbody>\n",
              "    <tr>\n",
              "      <th>0</th>\n",
              "      <td>1.237650e+18</td>\n",
              "      <td>183.531326</td>\n",
              "      <td>0.089693</td>\n",
              "      <td>19.47406</td>\n",
              "      <td>17.04240</td>\n",
              "      <td>15.94699</td>\n",
              "      <td>15.50342</td>\n",
              "      <td>15.22531</td>\n",
              "      <td>752</td>\n",
              "      <td>301</td>\n",
              "      <td>4</td>\n",
              "      <td>267</td>\n",
              "      <td>3.722360e+18</td>\n",
              "      <td>STAR</td>\n",
              "      <td>-0.000009</td>\n",
              "      <td>3306</td>\n",
              "      <td>54922</td>\n",
              "      <td>491</td>\n",
              "    </tr>\n",
              "    <tr>\n",
              "      <th>1</th>\n",
              "      <td>1.237650e+18</td>\n",
              "      <td>183.598371</td>\n",
              "      <td>0.135285</td>\n",
              "      <td>18.66280</td>\n",
              "      <td>17.21449</td>\n",
              "      <td>16.67637</td>\n",
              "      <td>16.48922</td>\n",
              "      <td>16.39150</td>\n",
              "      <td>752</td>\n",
              "      <td>301</td>\n",
              "      <td>4</td>\n",
              "      <td>267</td>\n",
              "      <td>3.638140e+17</td>\n",
              "      <td>STAR</td>\n",
              "      <td>-0.000055</td>\n",
              "      <td>323</td>\n",
              "      <td>51615</td>\n",
              "      <td>541</td>\n",
              "    </tr>\n",
              "    <tr>\n",
              "      <th>2</th>\n",
              "      <td>1.237650e+18</td>\n",
              "      <td>183.680207</td>\n",
              "      <td>0.126185</td>\n",
              "      <td>19.38298</td>\n",
              "      <td>18.19169</td>\n",
              "      <td>17.47428</td>\n",
              "      <td>17.08732</td>\n",
              "      <td>16.80125</td>\n",
              "      <td>752</td>\n",
              "      <td>301</td>\n",
              "      <td>4</td>\n",
              "      <td>268</td>\n",
              "      <td>3.232740e+17</td>\n",
              "      <td>GALAXY</td>\n",
              "      <td>0.123111</td>\n",
              "      <td>287</td>\n",
              "      <td>52023</td>\n",
              "      <td>513</td>\n",
              "    </tr>\n",
              "    <tr>\n",
              "      <th>3</th>\n",
              "      <td>1.237650e+18</td>\n",
              "      <td>183.870529</td>\n",
              "      <td>0.049911</td>\n",
              "      <td>17.76536</td>\n",
              "      <td>16.60272</td>\n",
              "      <td>16.16116</td>\n",
              "      <td>15.98233</td>\n",
              "      <td>15.90438</td>\n",
              "      <td>752</td>\n",
              "      <td>301</td>\n",
              "      <td>4</td>\n",
              "      <td>269</td>\n",
              "      <td>3.722370e+18</td>\n",
              "      <td>STAR</td>\n",
              "      <td>-0.000111</td>\n",
              "      <td>3306</td>\n",
              "      <td>54922</td>\n",
              "      <td>510</td>\n",
              "    </tr>\n",
              "    <tr>\n",
              "      <th>4</th>\n",
              "      <td>1.237650e+18</td>\n",
              "      <td>183.883288</td>\n",
              "      <td>0.102557</td>\n",
              "      <td>17.55025</td>\n",
              "      <td>16.26342</td>\n",
              "      <td>16.43869</td>\n",
              "      <td>16.55492</td>\n",
              "      <td>16.61326</td>\n",
              "      <td>752</td>\n",
              "      <td>301</td>\n",
              "      <td>4</td>\n",
              "      <td>269</td>\n",
              "      <td>3.722370e+18</td>\n",
              "      <td>STAR</td>\n",
              "      <td>0.000590</td>\n",
              "      <td>3306</td>\n",
              "      <td>54922</td>\n",
              "      <td>512</td>\n",
              "    </tr>\n",
              "  </tbody>\n",
              "</table>\n",
              "</div>"
            ],
            "text/plain": [
              "          objid          ra       dec  ...  plate    mjd  fiberid\n",
              "0  1.237650e+18  183.531326  0.089693  ...   3306  54922      491\n",
              "1  1.237650e+18  183.598371  0.135285  ...    323  51615      541\n",
              "2  1.237650e+18  183.680207  0.126185  ...    287  52023      513\n",
              "3  1.237650e+18  183.870529  0.049911  ...   3306  54922      510\n",
              "4  1.237650e+18  183.883288  0.102557  ...   3306  54922      512\n",
              "\n",
              "[5 rows x 18 columns]"
            ]
          },
          "metadata": {
            "tags": []
          },
          "execution_count": 455
        }
      ]
    },
    {
      "cell_type": "code",
      "metadata": {
        "colab": {
          "base_uri": "https://localhost:8080/"
        },
        "id": "oVRjaQVxmlnG",
        "outputId": "6d116003-5d89-472e-9db5-944fd33e6b49"
      },
      "source": [
        "#Checking datatypes:\n",
        "df.dtypes"
      ],
      "execution_count": 456,
      "outputs": [
        {
          "output_type": "execute_result",
          "data": {
            "text/plain": [
              "objid        float64\n",
              "ra           float64\n",
              "dec          float64\n",
              "u            float64\n",
              "g            float64\n",
              "r            float64\n",
              "i            float64\n",
              "z            float64\n",
              "run            int64\n",
              "rerun          int64\n",
              "camcol         int64\n",
              "field          int64\n",
              "specobjid    float64\n",
              "class         object\n",
              "redshift     float64\n",
              "plate          int64\n",
              "mjd            int64\n",
              "fiberid        int64\n",
              "dtype: object"
            ]
          },
          "metadata": {
            "tags": []
          },
          "execution_count": 456
        }
      ]
    },
    {
      "cell_type": "code",
      "metadata": {
        "colab": {
          "base_uri": "https://localhost:8080/"
        },
        "id": "IcHD51blmlqg",
        "outputId": "738cf75c-9fbd-49b3-eeac-03fc2025be48"
      },
      "source": [
        "#Checking for categorical columns:\n",
        "cat_col = []\n",
        "for x in df.dtypes.index:\n",
        "    if df.dtypes[x] == 'object':\n",
        "        cat_col.append(x)\n",
        "print(\"Categorical Columns:\",cat_col)"
      ],
      "execution_count": 457,
      "outputs": [
        {
          "output_type": "stream",
          "text": [
            "Categorical Columns: ['class']\n"
          ],
          "name": "stdout"
        }
      ]
    },
    {
      "cell_type": "code",
      "metadata": {
        "colab": {
          "base_uri": "https://localhost:8080/"
        },
        "id": "QwiHsSWXmlto",
        "outputId": "8926711c-39dc-43e0-cbba-58b725728c03"
      },
      "source": [
        "#Checking the value count and unique value of each categorical feature:\n",
        "for col in df.columns:\n",
        "    if df[col].dtypes == object:\n",
        "        print(str(col)+':'+str(df[col].unique()))\n",
        "        print(df[col].value_counts())\n",
        "        print('********************************************')"
      ],
      "execution_count": 458,
      "outputs": [
        {
          "output_type": "stream",
          "text": [
            "class:['STAR' 'GALAXY' 'QSO']\n",
            "GALAXY    4998\n",
            "STAR      4152\n",
            "QSO        850\n",
            "Name: class, dtype: int64\n",
            "********************************************\n"
          ],
          "name": "stdout"
        }
      ]
    },
    {
      "cell_type": "code",
      "metadata": {
        "colab": {
          "base_uri": "https://localhost:8080/",
          "height": 643
        },
        "id": "PszRAwxZoFi4",
        "outputId": "4d328322-9a32-4870-eb1b-cb25ab34b5ce"
      },
      "source": [
        "#Checking the null values in the dataset:\n",
        "missing_value = pd.DataFrame(df.isnull().sum(),columns=['Total Missing Value'])\n",
        "print(missing_value)\n",
        "sns.heatmap(df.isnull(),cmap='summer')"
      ],
      "execution_count": 459,
      "outputs": [
        {
          "output_type": "stream",
          "text": [
            "           Total Missing Value\n",
            "objid                        0\n",
            "ra                           0\n",
            "dec                          0\n",
            "u                            0\n",
            "g                            0\n",
            "r                            0\n",
            "i                            0\n",
            "z                            0\n",
            "run                          0\n",
            "rerun                        0\n",
            "camcol                       0\n",
            "field                        0\n",
            "specobjid                    0\n",
            "class                        0\n",
            "redshift                     0\n",
            "plate                        0\n",
            "mjd                          0\n",
            "fiberid                      0\n"
          ],
          "name": "stdout"
        },
        {
          "output_type": "execute_result",
          "data": {
            "text/plain": [
              "<matplotlib.axes._subplots.AxesSubplot at 0x7f60486f10f0>"
            ]
          },
          "metadata": {
            "tags": []
          },
          "execution_count": 459
        },
        {
          "output_type": "display_data",
          "data": {
            "image/png": "[encoded data removed]",
            "text/plain": [
              "<Figure size 432x288 with 2 Axes>"
            ]
          },
          "metadata": {
            "tags": []
          }
        }
      ]
    },
    {
      "cell_type": "code",
      "metadata": {
        "id": "KmNX3OnIoFo2"
      },
      "source": [
        "#Dropping the unnecessary and useless columns:\n",
        "df = df.drop(['objid','rerun','specobjid','fiberid'], axis=1)"
      ],
      "execution_count": 460,
      "outputs": []
    },
    {
      "cell_type": "code",
      "metadata": {
        "colab": {
          "base_uri": "https://localhost:8080/"
        },
        "id": "Rz_FKGnroFsl",
        "outputId": "93e14ae0-2d01-4dc7-c71e-d456950dbc92"
      },
      "source": [
        "#checking the Columns:\n",
        "columns = list(df.columns)\n",
        "print(df.shape)\n",
        "print(columns)"
      ],
      "execution_count": 461,
      "outputs": [
        {
          "output_type": "stream",
          "text": [
            "(10000, 14)\n",
            "['ra', 'dec', 'u', 'g', 'r', 'i', 'z', 'run', 'camcol', 'field', 'class', 'redshift', 'plate', 'mjd']\n"
          ],
          "name": "stdout"
        }
      ]
    },
    {
      "cell_type": "code",
      "metadata": {
        "colab": {
          "base_uri": "https://localhost:8080/",
          "height": 284
        },
        "id": "LQmwkN-hoFwJ",
        "outputId": "dc46046c-9495-4a89-a9b9-5c08e49aefdc"
      },
      "source": [
        "#Doing Statistical Analysis by using Describe Function\n",
        "#Checking interquantile range.\n",
        "#Checking mean median mode\n",
        "df.describe()"
      ],
      "execution_count": 462,
      "outputs": [
        {
          "output_type": "execute_result",
          "data": {
            "text/html": [
              "<div>\n",
              "<style scoped>\n",
              "    .dataframe tbody tr th:only-of-type {\n",
              "        vertical-align: middle;\n",
              "    }\n",
              "\n",
              "    .dataframe tbody tr th {\n",
              "        vertical-align: top;\n",
              "    }\n",
              "\n",
              "    .dataframe thead th {\n",
              "        text-align: right;\n",
              "    }\n",
              "</style>\n",
              "<table border=\"1\" class=\"dataframe\">\n",
              "  <thead>\n",
              "    <tr style=\"text-align: right;\">\n",
              "      <th></th>\n",
              "      <th>ra</th>\n",
              "      <th>dec</th>\n",
              "      <th>u</th>\n",
              "      <th>g</th>\n",
              "      <th>r</th>\n",
              "      <th>i</th>\n",
              "      <th>z</th>\n",
              "      <th>run</th>\n",
              "      <th>camcol</th>\n",
              "      <th>field</th>\n",
              "      <th>redshift</th>\n",
              "      <th>plate</th>\n",
              "      <th>mjd</th>\n",
              "    </tr>\n",
              "  </thead>\n",
              "  <tbody>\n",
              "    <tr>\n",
              "      <th>count</th>\n",
              "      <td>10000.000000</td>\n",
              "      <td>10000.000000</td>\n",
              "      <td>10000.000000</td>\n",
              "      <td>10000.000000</td>\n",
              "      <td>10000.000000</td>\n",
              "      <td>10000.000000</td>\n",
              "      <td>10000.000000</td>\n",
              "      <td>10000.000000</td>\n",
              "      <td>10000.000000</td>\n",
              "      <td>10000.000000</td>\n",
              "      <td>10000.000000</td>\n",
              "      <td>10000.000000</td>\n",
              "      <td>10000.000000</td>\n",
              "    </tr>\n",
              "    <tr>\n",
              "      <th>mean</th>\n",
              "      <td>175.529987</td>\n",
              "      <td>14.836148</td>\n",
              "      <td>18.619355</td>\n",
              "      <td>17.371931</td>\n",
              "      <td>16.840963</td>\n",
              "      <td>16.583579</td>\n",
              "      <td>16.422833</td>\n",
              "      <td>981.034800</td>\n",
              "      <td>3.648700</td>\n",
              "      <td>302.380100</td>\n",
              "      <td>0.143726</td>\n",
              "      <td>1460.986400</td>\n",
              "      <td>52943.533300</td>\n",
              "    </tr>\n",
              "    <tr>\n",
              "      <th>std</th>\n",
              "      <td>47.783439</td>\n",
              "      <td>25.212207</td>\n",
              "      <td>0.828656</td>\n",
              "      <td>0.945457</td>\n",
              "      <td>1.067764</td>\n",
              "      <td>1.141805</td>\n",
              "      <td>1.203188</td>\n",
              "      <td>273.305024</td>\n",
              "      <td>1.666183</td>\n",
              "      <td>162.577763</td>\n",
              "      <td>0.388774</td>\n",
              "      <td>1788.778371</td>\n",
              "      <td>1511.150651</td>\n",
              "    </tr>\n",
              "    <tr>\n",
              "      <th>min</th>\n",
              "      <td>8.235100</td>\n",
              "      <td>-5.382632</td>\n",
              "      <td>12.988970</td>\n",
              "      <td>12.799550</td>\n",
              "      <td>12.431600</td>\n",
              "      <td>11.947210</td>\n",
              "      <td>11.610410</td>\n",
              "      <td>308.000000</td>\n",
              "      <td>1.000000</td>\n",
              "      <td>11.000000</td>\n",
              "      <td>-0.004136</td>\n",
              "      <td>266.000000</td>\n",
              "      <td>51578.000000</td>\n",
              "    </tr>\n",
              "    <tr>\n",
              "      <th>25%</th>\n",
              "      <td>157.370946</td>\n",
              "      <td>-0.539035</td>\n",
              "      <td>18.178035</td>\n",
              "      <td>16.815100</td>\n",
              "      <td>16.173333</td>\n",
              "      <td>15.853705</td>\n",
              "      <td>15.618285</td>\n",
              "      <td>752.000000</td>\n",
              "      <td>2.000000</td>\n",
              "      <td>184.000000</td>\n",
              "      <td>0.000081</td>\n",
              "      <td>301.000000</td>\n",
              "      <td>51900.000000</td>\n",
              "    </tr>\n",
              "    <tr>\n",
              "      <th>50%</th>\n",
              "      <td>180.394514</td>\n",
              "      <td>0.404166</td>\n",
              "      <td>18.853095</td>\n",
              "      <td>17.495135</td>\n",
              "      <td>16.858770</td>\n",
              "      <td>16.554985</td>\n",
              "      <td>16.389945</td>\n",
              "      <td>756.000000</td>\n",
              "      <td>4.000000</td>\n",
              "      <td>299.000000</td>\n",
              "      <td>0.042591</td>\n",
              "      <td>441.000000</td>\n",
              "      <td>51997.000000</td>\n",
              "    </tr>\n",
              "    <tr>\n",
              "      <th>75%</th>\n",
              "      <td>201.547279</td>\n",
              "      <td>35.649397</td>\n",
              "      <td>19.259232</td>\n",
              "      <td>18.010145</td>\n",
              "      <td>17.512675</td>\n",
              "      <td>17.258550</td>\n",
              "      <td>17.141447</td>\n",
              "      <td>1331.000000</td>\n",
              "      <td>5.000000</td>\n",
              "      <td>414.000000</td>\n",
              "      <td>0.092579</td>\n",
              "      <td>2559.000000</td>\n",
              "      <td>54468.000000</td>\n",
              "    </tr>\n",
              "    <tr>\n",
              "      <th>max</th>\n",
              "      <td>260.884382</td>\n",
              "      <td>68.542265</td>\n",
              "      <td>19.599900</td>\n",
              "      <td>19.918970</td>\n",
              "      <td>24.802040</td>\n",
              "      <td>28.179630</td>\n",
              "      <td>22.833060</td>\n",
              "      <td>1412.000000</td>\n",
              "      <td>6.000000</td>\n",
              "      <td>768.000000</td>\n",
              "      <td>5.353854</td>\n",
              "      <td>8410.000000</td>\n",
              "      <td>57481.000000</td>\n",
              "    </tr>\n",
              "  </tbody>\n",
              "</table>\n",
              "</div>"
            ],
            "text/plain": [
              "                 ra           dec  ...         plate           mjd\n",
              "count  10000.000000  10000.000000  ...  10000.000000  10000.000000\n",
              "mean     175.529987     14.836148  ...   1460.986400  52943.533300\n",
              "std       47.783439     25.212207  ...   1788.778371   1511.150651\n",
              "min        8.235100     -5.382632  ...    266.000000  51578.000000\n",
              "25%      157.370946     -0.539035  ...    301.000000  51900.000000\n",
              "50%      180.394514      0.404166  ...    441.000000  51997.000000\n",
              "75%      201.547279     35.649397  ...   2559.000000  54468.000000\n",
              "max      260.884382     68.542265  ...   8410.000000  57481.000000\n",
              "\n",
              "[8 rows x 13 columns]"
            ]
          },
          "metadata": {
            "tags": []
          },
          "execution_count": 462
        }
      ]
    },
    {
      "cell_type": "code",
      "metadata": {
        "id": "TD8VnTcaoF1s"
      },
      "source": [
        "#There is possibility of presence of outliers as mean of some features are greater than median.\n",
        "#In some of features theres an huge difference between 75% and max which confirm the presence of outl"
      ],
      "execution_count": 463,
      "outputs": []
    },
    {
      "cell_type": "code",
      "metadata": {
        "id": "5C7e9ZiDoF5U"
      },
      "source": [
        "#Exploratory Data Analysis\n",
        "\n",
        "#Univarite Analysis\n",
        "\n",
        "#Multivariate Analysis\n",
        "\n",
        "#Bivariate Analysis\n",
        "\n",
        "#Here we check the relationship between different independant and dependant variable."
      ],
      "execution_count": 464,
      "outputs": []
    },
    {
      "cell_type": "code",
      "metadata": {
        "colab": {
          "base_uri": "https://localhost:8080/",
          "height": 345
        },
        "id": "G2pWDGNX3-DL",
        "outputId": "1202e004-ef22-4016-ca3a-523f4b3db620"
      },
      "source": [
        "#Checking the value count and unique value of each categorical feature:\r\n",
        "df['class'].value_counts()[:5]\r\n",
        "plt.figure(figsize=(5,5))\r\n",
        "plt.bar(list(df['class'].value_counts()[:5].keys()),list(df['class'].value_counts()[:5]),color='green')\r\n",
        "plt.xticks(rotation=45)\r\n",
        "plt.show()"
      ],
      "execution_count": 465,
      "outputs": [
        {
          "output_type": "display_data",
          "data": {
            "image/png": "[encoded data removed]",
            "text/plain": [
              "<Figure size 360x360 with 1 Axes>"
            ]
          },
          "metadata": {
            "tags": []
          }
        }
      ]
    },
    {
      "cell_type": "code",
      "metadata": {
        "colab": {
          "base_uri": "https://localhost:8080/",
          "height": 330
        },
        "id": "nY3q5WX_oF8k",
        "outputId": "c13202bf-b374-4c3e-9f02-1ee0410dc64a"
      },
      "source": [
        "#Univariate Analysis:\n",
        "#Checking Count of Target Varibale:\n",
        "sns.set_style('ticks')\n",
        "ax = sns.countplot(df['class'])\n",
        "star, galaxy, qso = df['class'].value_counts()\n",
        "print(\"Total no of stars:{}\".format(star))\n",
        "print(\"Total no of galaxy:{}\".format(galaxy))\n",
        "print(\"Total no of qso:{}\".format(qso))\n",
        "for p in ax.patches:\n",
        "       ax.annotate(int(p.get_height()), (p.get_x()+0.25, p.get_height()+1), va='bottom',color= 'black')"
      ],
      "execution_count": 466,
      "outputs": [
        {
          "output_type": "stream",
          "text": [
            "Total no of stars:4998\n",
            "Total no of galaxy:4152\n",
            "Total no of qso:850\n"
          ],
          "name": "stdout"
        },
        {
          "output_type": "display_data",
          "data": {
            "image/png": "[encoded data removed]",
            "text/plain": [
              "<Figure size 432x288 with 1 Axes>"
            ]
          },
          "metadata": {
            "tags": []
          }
        }
      ]
    },
    {
      "cell_type": "code",
      "metadata": {
        "colab": {
          "base_uri": "https://localhost:8080/",
          "height": 350
        },
        "id": "eCvsrz2KoGAX",
        "outputId": "6ce4cd6c-047b-4aa5-a821-e13bc846c624"
      },
      "source": [
        "#Univarite Analysis checking the distribution of class variable respective to redshift:\n",
        "#In physics, redshift happens when light or other electromagnetic radiation from an object is increased in wavelength, or shifted to the red end of the spectrum.\n",
        "fig, axes = plt.subplots(nrows=1, ncols=3,figsize=(15, 5))\n",
        "ax = sns.distplot(df[df['class']=='STAR']['redshift'], bins = 20, ax = axes[0], kde = True)\n",
        "ax.set_title('Star vs redshift')\n",
        "ax = sns.distplot(df[df['class']=='GALAXY']['redshift'], bins = 20, ax = axes[1], kde = True)\n",
        "ax.set_title('Galaxy vs redshift')\n",
        "ax = sns.distplot(df[df['class']=='QSO']['redshift'], bins = 20, ax = axes[2], kde = True)\n",
        "ax = ax.set_title('QSO vs redshift')"
      ],
      "execution_count": 467,
      "outputs": [
        {
          "output_type": "display_data",
          "data": {
            "image/png": "[encoded data removed]",
            "text/plain": [
              "<Figure size 1080x360 with 3 Axes>"
            ]
          },
          "metadata": {
            "tags": []
          }
        }
      ]
    },
    {
      "cell_type": "code",
      "metadata": {
        "id": "QoKoKf19oGGR"
      },
      "source": [
        "#Here we can observe the redshif for stars are somehow normally distributed.\n",
        "#redshift for Galaxy and QSO are somehow positive skewed / right skewed."
      ],
      "execution_count": 468,
      "outputs": []
    },
    {
      "cell_type": "code",
      "metadata": {
        "id": "ifn3_F4soGJ_"
      },
      "source": [
        "#objid = Object Identifier\n",
        "#ra = J2000 Right Ascension (r-band)\n",
        "#dec = J2000 Declination (r-band)"
      ],
      "execution_count": 469,
      "outputs": []
    },
    {
      "cell_type": "code",
      "metadata": {
        "id": "EJOjlHjAoGNX"
      },
      "source": [
        "#Right ascension (abbreviated RA) is the angular distance measured eastward along the celestial equator from the Sun at the March equinox to the hour circle of the point above \n",
        "#the earth in question. When paired with declination (abbreviated dec), these astronomical coordinates specify the direction of a point on the celestial sphere (traditionally called in English the skies or the sky) in the equatorial coordinate system."
      ],
      "execution_count": 470,
      "outputs": []
    },
    {
      "cell_type": "code",
      "metadata": {
        "colab": {
          "base_uri": "https://localhost:8080/",
          "height": 558
        },
        "id": "aG7u5mpIoGVp",
        "outputId": "52376a30-8c73-4243-ecb4-bfd4e13e4c92"
      },
      "source": [
        "#Bivariate Analysis:\n",
        "#Checking relationship between dec and class:\n",
        "plt.figure(figsize=(7,5))\n",
        "sns.violinplot(x='class',y='dec',data=df)\n",
        "plt.xlabel('class')\n",
        "plt.ylabel('direction of a point on the celestial sphere')\n",
        "plt.title('direction of a point on the celestial sphere vs class')\n",
        "pd.crosstab(index=df['dec'],columns=df['class'],normalize='index').head()"
      ],
      "execution_count": 471,
      "outputs": [
        {
          "output_type": "execute_result",
          "data": {
            "text/html": [
              "<div>\n",
              "<style scoped>\n",
              "    .dataframe tbody tr th:only-of-type {\n",
              "        vertical-align: middle;\n",
              "    }\n",
              "\n",
              "    .dataframe tbody tr th {\n",
              "        vertical-align: top;\n",
              "    }\n",
              "\n",
              "    .dataframe thead th {\n",
              "        text-align: right;\n",
              "    }\n",
              "</style>\n",
              "<table border=\"1\" class=\"dataframe\">\n",
              "  <thead>\n",
              "    <tr style=\"text-align: right;\">\n",
              "      <th>class</th>\n",
              "      <th>GALAXY</th>\n",
              "      <th>QSO</th>\n",
              "      <th>STAR</th>\n",
              "    </tr>\n",
              "    <tr>\n",
              "      <th>dec</th>\n",
              "      <th></th>\n",
              "      <th></th>\n",
              "      <th></th>\n",
              "    </tr>\n",
              "  </thead>\n",
              "  <tbody>\n",
              "    <tr>\n",
              "      <th>-5.382632</th>\n",
              "      <td>0.0</td>\n",
              "      <td>0.0</td>\n",
              "      <td>1.0</td>\n",
              "    </tr>\n",
              "    <tr>\n",
              "      <th>-5.378794</th>\n",
              "      <td>1.0</td>\n",
              "      <td>0.0</td>\n",
              "      <td>0.0</td>\n",
              "    </tr>\n",
              "    <tr>\n",
              "      <th>-5.371988</th>\n",
              "      <td>1.0</td>\n",
              "      <td>0.0</td>\n",
              "      <td>0.0</td>\n",
              "    </tr>\n",
              "    <tr>\n",
              "      <th>-5.354572</th>\n",
              "      <td>1.0</td>\n",
              "      <td>0.0</td>\n",
              "      <td>0.0</td>\n",
              "    </tr>\n",
              "    <tr>\n",
              "      <th>-5.349621</th>\n",
              "      <td>1.0</td>\n",
              "      <td>0.0</td>\n",
              "      <td>0.0</td>\n",
              "    </tr>\n",
              "  </tbody>\n",
              "</table>\n",
              "</div>"
            ],
            "text/plain": [
              "class      GALAXY  QSO  STAR\n",
              "dec                         \n",
              "-5.382632     0.0  0.0   1.0\n",
              "-5.378794     1.0  0.0   0.0\n",
              "-5.371988     1.0  0.0   0.0\n",
              "-5.354572     1.0  0.0   0.0\n",
              "-5.349621     1.0  0.0   0.0"
            ]
          },
          "metadata": {
            "tags": []
          },
          "execution_count": 471
        },
        {
          "output_type": "display_data",
          "data": {
            "image/png": "[encoded data removed]",
            "text/plain": [
              "<Figure size 504x360 with 1 Axes>"
            ]
          },
          "metadata": {
            "tags": []
          }
        }
      ]
    },
    {
      "cell_type": "code",
      "metadata": {
        "colab": {
          "base_uri": "https://localhost:8080/",
          "height": 558
        },
        "id": "Lc5cZCF2oGcJ",
        "outputId": "1d783d64-1b19-42e5-85a5-b59a56786506"
      },
      "source": [
        "#Bivariate Analysis:\n",
        "#Checking relationship between Right ascension and class:\n",
        "plt.figure(figsize=(7,5))\n",
        "sns.barplot(x='class',y='ra',data=df)\n",
        "plt.xlabel('class')\n",
        "plt.ylabel('Right ascension')\n",
        "plt.title('Right ascension vs class')\n",
        "pd.crosstab(index=df['ra'],columns=df['class'],normalize='index').head()"
      ],
      "execution_count": 472,
      "outputs": [
        {
          "output_type": "execute_result",
          "data": {
            "text/html": [
              "<div>\n",
              "<style scoped>\n",
              "    .dataframe tbody tr th:only-of-type {\n",
              "        vertical-align: middle;\n",
              "    }\n",
              "\n",
              "    .dataframe tbody tr th {\n",
              "        vertical-align: top;\n",
              "    }\n",
              "\n",
              "    .dataframe thead th {\n",
              "        text-align: right;\n",
              "    }\n",
              "</style>\n",
              "<table border=\"1\" class=\"dataframe\">\n",
              "  <thead>\n",
              "    <tr style=\"text-align: right;\">\n",
              "      <th>class</th>\n",
              "      <th>GALAXY</th>\n",
              "      <th>QSO</th>\n",
              "      <th>STAR</th>\n",
              "    </tr>\n",
              "    <tr>\n",
              "      <th>ra</th>\n",
              "      <th></th>\n",
              "      <th></th>\n",
              "      <th></th>\n",
              "    </tr>\n",
              "  </thead>\n",
              "  <tbody>\n",
              "    <tr>\n",
              "      <th>8.235100</th>\n",
              "      <td>0.0</td>\n",
              "      <td>0.0</td>\n",
              "      <td>1.0</td>\n",
              "    </tr>\n",
              "    <tr>\n",
              "      <th>8.245963</th>\n",
              "      <td>0.0</td>\n",
              "      <td>0.0</td>\n",
              "      <td>1.0</td>\n",
              "    </tr>\n",
              "    <tr>\n",
              "      <th>8.291367</th>\n",
              "      <td>1.0</td>\n",
              "      <td>0.0</td>\n",
              "      <td>0.0</td>\n",
              "    </tr>\n",
              "    <tr>\n",
              "      <th>8.386869</th>\n",
              "      <td>0.0</td>\n",
              "      <td>0.0</td>\n",
              "      <td>1.0</td>\n",
              "    </tr>\n",
              "    <tr>\n",
              "      <th>8.487886</th>\n",
              "      <td>0.0</td>\n",
              "      <td>0.0</td>\n",
              "      <td>1.0</td>\n",
              "    </tr>\n",
              "  </tbody>\n",
              "</table>\n",
              "</div>"
            ],
            "text/plain": [
              "class     GALAXY  QSO  STAR\n",
              "ra                         \n",
              "8.235100     0.0  0.0   1.0\n",
              "8.245963     0.0  0.0   1.0\n",
              "8.291367     1.0  0.0   0.0\n",
              "8.386869     0.0  0.0   1.0\n",
              "8.487886     0.0  0.0   1.0"
            ]
          },
          "metadata": {
            "tags": []
          },
          "execution_count": 472
        },
        {
          "output_type": "display_data",
          "data": {
            "image/png": "[encoded data removed]",
            "text/plain": [
              "<Figure size 504x360 with 1 Axes>"
            ]
          },
          "metadata": {
            "tags": []
          }
        }
      ]
    },
    {
      "cell_type": "code",
      "metadata": {
        "id": "2hE_-inJmlz4"
      },
      "source": [
        "#using Label Encoder to convert Categorical data into neumeric:\n",
        "from sklearn.preprocessing import LabelEncoder\n",
        "le = LabelEncoder()\n",
        "columns = [\"class\"]\n",
        "for col in columns:\n",
        "    df[col] = le.fit_transform(df[col])"
      ],
      "execution_count": 473,
      "outputs": []
    },
    {
      "cell_type": "code",
      "metadata": {
        "colab": {
          "base_uri": "https://localhost:8080/"
        },
        "id": "aXsSBhMQsvUz",
        "outputId": "3dc9dccd-8c02-4ce4-f952-f95d39b5be87"
      },
      "source": [
        "#Checking for outliers\n",
        "#outlier is a data point that differs significantly from other observations. \n",
        "#Any datapoint greater than +3 Standard Deviations and -3 SD are called Outliers\n",
        "#Zscore is Automated method used to handle outliers.\n",
        "#Let check wheather any outliers are present or not and if yes lets normalize them:\n",
        "from scipy.stats import zscore\n",
        "zscore = abs(zscore(df))\n",
        "print(\"Before removal of outliers:\",df.shape)\n",
        "df_final = df.loc[(zscore<3).all(axis=1)]\n",
        "print(\"After removal of outliers:\",df_final.shape)"
      ],
      "execution_count": 474,
      "outputs": [
        {
          "output_type": "stream",
          "text": [
            "Before removal of outliers: (10000, 14)\n",
            "After removal of outliers: (8713, 14)\n"
          ],
          "name": "stdout"
        }
      ]
    },
    {
      "cell_type": "code",
      "metadata": {
        "colab": {
          "base_uri": "https://localhost:8080/"
        },
        "id": "kMLepS-ysvYU",
        "outputId": "ff928700-2999-4a1f-a170-8f6d7f24ed7e"
      },
      "source": [
        "#Checking for skewness:\n",
        "#whether the features are right or left skewed.\n",
        "#for right and left skewed we can use logarthim transformation.\n",
        "#if the skewness value is greater than o.55 then the features are skewed.\n",
        "df_final.skew()"
      ],
      "execution_count": 475,
      "outputs": [
        {
          "output_type": "execute_result",
          "data": {
            "text/plain": [
              "ra         -0.131080\n",
              "dec         1.214165\n",
              "u          -0.982213\n",
              "g          -0.528614\n",
              "r          -0.151366\n",
              "i           0.059073\n",
              "z           0.170787\n",
              "run         0.517015\n",
              "camcol     -0.143107\n",
              "field       0.220889\n",
              "class       0.289700\n",
              "redshift    4.949300\n",
              "plate       1.315894\n",
              "mjd         0.959917\n",
              "dtype: float64"
            ]
          },
          "metadata": {
            "tags": []
          },
          "execution_count": 475
        }
      ]
    },
    {
      "cell_type": "code",
      "metadata": {
        "id": "w2hUTs5usveu"
      },
      "source": [
        "import scipy.stats as stat\n",
        "import pylab"
      ],
      "execution_count": 476,
      "outputs": []
    },
    {
      "cell_type": "code",
      "metadata": {
        "id": "pmjbfiHpsviI"
      },
      "source": [
        "#If you want to check whether feature is guassian or normal distributed\n",
        "# Q-Q plot is used to check wheather the data are normally distributed or not by graphically.\n",
        "def plot_data(df,feature):\n",
        "    plt.figure(figsize=(10,6))\n",
        "    plt.subplot(1,2,1)\n",
        "    df[feature].hist()\n",
        "    plt.subplot(1,2,2)\n",
        "    stat.probplot(df_final[feature],dist='norm',plot=pylab)\n",
        "    plt.show()"
      ],
      "execution_count": 477,
      "outputs": []
    },
    {
      "cell_type": "code",
      "metadata": {
        "colab": {
          "base_uri": "https://localhost:8080/",
          "height": 404
        },
        "id": "7Oq-dua-svle",
        "outputId": "d769942d-44d9-426b-bceb-adfc2dacbb70"
      },
      "source": [
        "#checking distribution for dec:\n",
        "plot_data(df_final,'dec')"
      ],
      "execution_count": 478,
      "outputs": [
        {
          "output_type": "display_data",
          "data": {
            "image/png": "[encoded data removed]",
            "text/plain": [
              "<Figure size 720x432 with 2 Axes>"
            ]
          },
          "metadata": {
            "tags": []
          }
        }
      ]
    },
    {
      "cell_type": "code",
      "metadata": {
        "colab": {
          "base_uri": "https://localhost:8080/",
          "height": 404
        },
        "id": "4j1vlekvv3uz",
        "outputId": "e852fe3d-4af4-465a-c82f-5718d9d78ec0"
      },
      "source": [
        "#checking distribution for mjd:\n",
        "plot_data(df_final,'mjd')"
      ],
      "execution_count": 479,
      "outputs": [
        {
          "output_type": "display_data",
          "data": {
            "image/png": "[encoded data removed]",
            "text/plain": [
              "<Figure size 720x432 with 2 Axes>"
            ]
          },
          "metadata": {
            "tags": []
          }
        }
      ]
    },
    {
      "cell_type": "code",
      "metadata": {
        "id": "UVlZRZZAv3zg"
      },
      "source": [
        "#We can clearly see data points are not been normally distributed.\n",
        "#All of them are right skewed.\n",
        "#for skewed data logarthim transformation will work fine.\n",
        "for col in df_final.columns:\n",
        "    if col!= 'class':\n",
        "        if df.skew().loc[col]>0.55:\n",
        "            df[col] = np.log1p(df[col])"
      ],
      "execution_count": 480,
      "outputs": []
    },
    {
      "cell_type": "code",
      "metadata": {
        "colab": {
          "base_uri": "https://localhost:8080/"
        },
        "id": "8z28FUvXv32k",
        "outputId": "2aac9789-0214-405c-86d1-bf0a4e00bfb6"
      },
      "source": [
        "#Let Separate the input and output variable:\n",
        "#Let select input and output value:\n",
        "X = df_final.drop('class',axis=1)\n",
        "y = df_final['class']\n",
        "print('shape of X is {}'.format(X.shape))\n",
        "print('shape of y is {}'.format(y.shape))"
      ],
      "execution_count": 481,
      "outputs": [
        {
          "output_type": "stream",
          "text": [
            "shape of X is (8713, 13)\n",
            "shape of y is (8713,)\n"
          ],
          "name": "stdout"
        }
      ]
    },
    {
      "cell_type": "code",
      "metadata": {
        "id": "861U8MaZ064H"
      },
      "source": [
        "#Using StandardScaler to Preprocess the data:\r\n",
        "#StandardScaler is used to bring the datapoints to standard normal distribution where mean = 0 and SD(+-)1:\r\n",
        "from sklearn.preprocessing import StandardScaler\r\n",
        "scaler = StandardScaler()\r\n",
        "X = scaler.fit_transform(X)\r\n",
        "X = pd.DataFrame(X)"
      ],
      "execution_count": 482,
      "outputs": []
    },
    {
      "cell_type": "code",
      "metadata": {
        "id": "zULO7rz_v35C"
      },
      "source": [
        "#Breaking the model into training and testing split:\n",
        "from sklearn.model_selection import train_test_split\n",
        "X_train, X_test, y_train, y_test = train_test_split(X,y,test_size=0.2,random_state=42)"
      ],
      "execution_count": 483,
      "outputs": []
    },
    {
      "cell_type": "code",
      "metadata": {
        "id": "FTmbrr84jOhA"
      },
      "source": [
        "#Lets check for corelation again and remove highly corelated feature as discussed above:\r\n",
        "#Checking the coerelation:\r\n",
        "#how the different neumerical features are corelated to each other \r\n",
        "#Their strength of relationship\r\n",
        "#Their influence on target variable\r\n",
        "corrmat = X_train.corr()"
      ],
      "execution_count": 484,
      "outputs": []
    },
    {
      "cell_type": "code",
      "metadata": {
        "colab": {
          "base_uri": "https://localhost:8080/",
          "height": 596
        },
        "id": "OAd1jrbMjOoE",
        "outputId": "3e57b1d5-1306-4737-aa8b-bf57a2f15adc"
      },
      "source": [
        "f,ax=plt.subplots(figsize=(15,10))\r\n",
        "sns.heatmap(corrmat,annot=True,fmt=\".1f\",linewidths=.2,cmap=\"Spectral\",ax=ax,linecolor=\"black\")\r\n",
        "plt.show()"
      ],
      "execution_count": 485,
      "outputs": [
        {
          "output_type": "display_data",
          "data": {
            "image/png": "[encoded data removed]",
            "text/plain": [
              "<Figure size 1080x720 with 2 Axes>"
            ]
          },
          "metadata": {
            "tags": []
          }
        }
      ]
    },
    {
      "cell_type": "code",
      "metadata": {
        "id": "-QoAwiosmNpX"
      },
      "source": [
        "#Here we can see that some of the features are highly corealted with each hence these both feature will act as same.\r\n",
        "#u , g , r, i, z represent the response of the 5 bands of the telescope and we can see they are highly corealated with each other.\r\n",
        "# so as these features are highly corelated with each other they can behave as duplicate feature."
      ],
      "execution_count": 486,
      "outputs": []
    },
    {
      "cell_type": "code",
      "metadata": {
        "colab": {
          "base_uri": "https://localhost:8080/",
          "height": 544
        },
        "id": "R8r83WCJmOwT",
        "outputId": "f0e2f49f-42e7-42ec-d169-41ce8c507fb4"
      },
      "source": [
        "#corelation with target column:\r\n",
        "plt.figure(figsize=(10,8))\r\n",
        "df.drop('class',axis=1).corrwith(df['class']).plot(kind='bar',grid=True)\r\n",
        "plt.xticks(rotation='vertical')\r\n",
        "plt.title('corelation with target variable')"
      ],
      "execution_count": 487,
      "outputs": [
        {
          "output_type": "execute_result",
          "data": {
            "text/plain": [
              "Text(0.5, 1.0, 'corelation with target variable')"
            ]
          },
          "metadata": {
            "tags": []
          },
          "execution_count": 487
        },
        {
          "output_type": "display_data",
          "data": {
            "image/png": "[encoded data removed]",
            "text/plain": [
              "<Figure size 720x576 with 1 Axes>"
            ]
          },
          "metadata": {
            "tags": []
          }
        }
      ]
    },
    {
      "cell_type": "code",
      "metadata": {
        "id": "cVwejj97jOrV"
      },
      "source": [
        "#Lets define a function and set a minimum threshold value to tackle the highly corelated feature:\r\n",
        "def get_corelations(data, threshold):\r\n",
        "    corr_col = set()  \r\n",
        "    corrmat = data.corr()\r\n",
        "    for i in range(len(corrmat.columns)):\r\n",
        "        for j in range(i):\r\n",
        "            if abs(corrmat.iloc[i, j]) > threshold:\r\n",
        "                colname = corrmat.columns[i]\r\n",
        "                corr_col.add(colname)\r\n",
        "    return corr_col"
      ],
      "execution_count": 488,
      "outputs": []
    },
    {
      "cell_type": "code",
      "metadata": {
        "colab": {
          "base_uri": "https://localhost:8080/"
        },
        "id": "n04x3dRijOvB",
        "outputId": "3737bddb-ff35-433b-e660-23fc0c697dc0"
      },
      "source": [
        "corr_features = get_corelations(X_train, 0.85)\r\n",
        "len(set(corr_features))"
      ],
      "execution_count": 489,
      "outputs": [
        {
          "output_type": "execute_result",
          "data": {
            "text/plain": [
              "5"
            ]
          },
          "metadata": {
            "tags": []
          },
          "execution_count": 489
        }
      ]
    },
    {
      "cell_type": "code",
      "metadata": {
        "id": "W6o6E5lsjOzl"
      },
      "source": [
        "#Dropping the highly corelated columns:\r\n",
        "X_train_uncorr = X_train.drop(labels=corr_features,axis=1)\r\n",
        "X_test_uncorr = X_test.drop(labels=corr_features,axis=1)"
      ],
      "execution_count": 490,
      "outputs": []
    },
    {
      "cell_type": "code",
      "metadata": {
        "colab": {
          "base_uri": "https://localhost:8080/"
        },
        "id": "yTLDnqE4x_PN",
        "outputId": "d07d2ec5-c42d-4f89-eb58-4a3f835e46b9"
      },
      "source": [
        "X_train_uncorr.shape, X_test_uncorr.shape"
      ],
      "execution_count": 491,
      "outputs": [
        {
          "output_type": "execute_result",
          "data": {
            "text/plain": [
              "((6970, 8), (1743, 8))"
            ]
          },
          "metadata": {
            "tags": []
          },
          "execution_count": 491
        }
      ]
    },
    {
      "cell_type": "code",
      "metadata": {
        "colab": {
          "base_uri": "https://localhost:8080/"
        },
        "id": "GSX8PG4jzgKF",
        "outputId": "6f03647d-59cf-48b2-f887-ffea87fbc007"
      },
      "source": [
        "#As we know that output of the model is imbalance Dataset so we have to balance it:\r\n",
        "from imblearn.over_sampling import SMOTE\r\n",
        "\r\n",
        "from sklearn.model_selection import train_test_split\r\n",
        "\r\n",
        "print(\"Attrition Rate in X_train dataset: \", X_train_uncorr.shape)\r\n",
        "print(\"Attrition Rate in y_train dataset: \", y_train.shape)\r\n",
        "print(\"Attrition Rate in X_test dataset: \", X_test_uncorr.shape)\r\n",
        "print(\"Attrition Rate in y_test dataset: \", y_test.shape)"
      ],
      "execution_count": 496,
      "outputs": [
        {
          "output_type": "stream",
          "text": [
            "Attrition Rate in X_train dataset:  (6970, 8)\n",
            "Attrition Rate in y_train dataset:  (6970,)\n",
            "Attrition Rate in X_test dataset:  (1743, 8)\n",
            "Attrition Rate in y_test dataset:  (1743,)\n"
          ],
          "name": "stdout"
        }
      ]
    },
    {
      "cell_type": "code",
      "metadata": {
        "colab": {
          "base_uri": "https://localhost:8080/"
        },
        "id": "YnEFq513aX-u",
        "outputId": "a97a46da-05b5-4b8e-e972-e03d6f58c217"
      },
      "source": [
        "#Synthetic Minority Oversampling Technique\r\n",
        "sm = SMOTE(\"minority\")\r\n",
        "X_train_uncorr_res, y_train_res = sm.fit_sample(X_train_uncorr, y_train)\r\n",
        "\r\n",
        "print('After OverSampling, the shape of train_X: {}'.format(X_train_uncorr_res.shape))\r\n",
        "print('After OverSampling, the shape of train_y: {} \\n'.format(y_train_res.shape))"
      ],
      "execution_count": 497,
      "outputs": [
        {
          "output_type": "stream",
          "text": [
            "After OverSampling, the shape of train_X: (10464, 8)\n",
            "After OverSampling, the shape of train_y: (10464,) \n",
            "\n"
          ],
          "name": "stdout"
        }
      ]
    },
    {
      "cell_type": "code",
      "metadata": {
        "id": "lpQy5LrAwddv"
      },
      "source": [
        "#Importing Models for Predictions:\n",
        "from sklearn.linear_model import LogisticRegression\n",
        "from sklearn.svm import SVC\n",
        "from sklearn.neighbors import KNeighborsClassifier\n",
        "from sklearn.tree import DecisionTreeClassifier\n",
        "from sklearn.ensemble import RandomForestClassifier\n",
        "from sklearn.model_selection import cross_val_score\n",
        "#import metrics\n",
        "from sklearn.metrics import classification_report,confusion_matrix\n",
        "from sklearn.metrics import classification_report\n",
        "from sklearn.metrics import accuracy_score"
      ],
      "execution_count": 498,
      "outputs": []
    },
    {
      "cell_type": "code",
      "metadata": {
        "colab": {
          "base_uri": "https://localhost:8080/"
        },
        "id": "ir9oDSoOwdgl",
        "outputId": "3c4686dd-0c79-4150-9b5f-86ee2ccab038"
      },
      "source": [
        "model = [LogisticRegression(),SVC(),KNeighborsClassifier(),DecisionTreeClassifier(),RandomForestClassifier()]\n",
        "for m in model:\n",
        "    m.fit(X_train_uncorr_res,y_train_res)\n",
        "    print(\"Score of\",m, \"is:\",m.score(X_train_uncorr_res,y_train_res))\n",
        "    y_predict= m.predict(X_test_uncorr)\n",
        "    print(\"accuracy_score:\",accuracy_score(y_test,y_predict))\n",
        "    score = cross_val_score(m,X_train_uncorr_res,y_train_res,cv=5,scoring='accuracy').mean()\n",
        "    print(\"Cross validation is\",np.mean(score)*100)\n",
        "    print(confusion_matrix(y_test,y_predict))\n",
        "    print(classification_report(y_test,y_predict))\n",
        "    print(confusion_matrix(y_test,y_predict))\n",
        "    print('******************************************************************')\n",
        "    print('\\n')"
      ],
      "execution_count": 500,
      "outputs": [
        {
          "output_type": "stream",
          "text": [
            "Score of LogisticRegression(C=1.0, class_weight=None, dual=False, fit_intercept=True,\n",
            "                   intercept_scaling=1, l1_ratio=None, max_iter=100,\n",
            "                   multi_class='auto', n_jobs=None, penalty='l2',\n",
            "                   random_state=None, solver='lbfgs', tol=0.0001, verbose=0,\n",
            "                   warm_start=False) is: 0.9610091743119266\n",
            "accuracy_score: 0.9822145725760184\n",
            "Cross validation is 96.06267454384506\n",
            "[[921  12  12]\n",
            " [  7  70   0]\n",
            " [  0   0 721]]\n",
            "              precision    recall  f1-score   support\n",
            "\n",
            "           0       0.99      0.97      0.98       945\n",
            "           1       0.85      0.91      0.88        77\n",
            "           2       0.98      1.00      0.99       721\n",
            "\n",
            "    accuracy                           0.98      1743\n",
            "   macro avg       0.94      0.96      0.95      1743\n",
            "weighted avg       0.98      0.98      0.98      1743\n",
            "\n",
            "[[921  12  12]\n",
            " [  7  70   0]\n",
            " [  0   0 721]]\n",
            "******************************************************************\n",
            "\n",
            "\n",
            "Score of SVC(C=1.0, break_ties=False, cache_size=200, class_weight=None, coef0=0.0,\n",
            "    decision_function_shape='ovr', degree=3, gamma='scale', kernel='rbf',\n",
            "    max_iter=-1, probability=False, random_state=None, shrinking=True,\n",
            "    tol=0.001, verbose=False) is: 0.9636850152905199\n",
            "accuracy_score: 0.9747561675272519\n",
            "Cross validation is 95.81419993258052\n",
            "[[909  11  25]\n",
            " [  7  70   0]\n",
            " [  1   0 720]]\n",
            "              precision    recall  f1-score   support\n",
            "\n",
            "           0       0.99      0.96      0.98       945\n",
            "           1       0.86      0.91      0.89        77\n",
            "           2       0.97      1.00      0.98       721\n",
            "\n",
            "    accuracy                           0.97      1743\n",
            "   macro avg       0.94      0.96      0.95      1743\n",
            "weighted avg       0.98      0.97      0.97      1743\n",
            "\n",
            "[[909  11  25]\n",
            " [  7  70   0]\n",
            " [  1   0 720]]\n",
            "******************************************************************\n",
            "\n",
            "\n",
            "Score of KNeighborsClassifier(algorithm='auto', leaf_size=30, metric='minkowski',\n",
            "                     metric_params=None, n_jobs=None, n_neighbors=5, p=2,\n",
            "                     weights='uniform') is: 0.957855504587156\n",
            "accuracy_score: 0.9133677567412507\n",
            "Cross validation is 92.96634324192725\n",
            "[[880  25  40]\n",
            " [  9  68   0]\n",
            " [ 77   0 644]]\n",
            "              precision    recall  f1-score   support\n",
            "\n",
            "           0       0.91      0.93      0.92       945\n",
            "           1       0.73      0.88      0.80        77\n",
            "           2       0.94      0.89      0.92       721\n",
            "\n",
            "    accuracy                           0.91      1743\n",
            "   macro avg       0.86      0.90      0.88      1743\n",
            "weighted avg       0.92      0.91      0.91      1743\n",
            "\n",
            "[[880  25  40]\n",
            " [  9  68   0]\n",
            " [ 77   0 644]]\n",
            "******************************************************************\n",
            "\n",
            "\n",
            "Score of DecisionTreeClassifier(ccp_alpha=0.0, class_weight=None, criterion='gini',\n",
            "                       max_depth=None, max_features=None, max_leaf_nodes=None,\n",
            "                       min_impurity_decrease=0.0, min_impurity_split=None,\n",
            "                       min_samples_leaf=1, min_samples_split=2,\n",
            "                       min_weight_fraction_leaf=0.0, presort='deprecated',\n",
            "                       random_state=None, splitter='best') is: 1.0\n",
            "accuracy_score: 0.9793459552495697\n",
            "Cross validation is 97.67775038163266\n",
            "[[916  28   1]\n",
            " [  6  71   0]\n",
            " [  1   0 720]]\n",
            "              precision    recall  f1-score   support\n",
            "\n",
            "           0       0.99      0.97      0.98       945\n",
            "           1       0.72      0.92      0.81        77\n",
            "           2       1.00      1.00      1.00       721\n",
            "\n",
            "    accuracy                           0.98      1743\n",
            "   macro avg       0.90      0.96      0.93      1743\n",
            "weighted avg       0.98      0.98      0.98      1743\n",
            "\n",
            "[[916  28   1]\n",
            " [  6  71   0]\n",
            " [  1   0 720]]\n",
            "******************************************************************\n",
            "\n",
            "\n",
            "Score of RandomForestClassifier(bootstrap=True, ccp_alpha=0.0, class_weight=None,\n",
            "                       criterion='gini', max_depth=None, max_features='auto',\n",
            "                       max_leaf_nodes=None, max_samples=None,\n",
            "                       min_impurity_decrease=0.0, min_impurity_split=None,\n",
            "                       min_samples_leaf=1, min_samples_split=2,\n",
            "                       min_weight_fraction_leaf=0.0, n_estimators=100,\n",
            "                       n_jobs=None, oob_score=False, random_state=None,\n",
            "                       verbose=0, warm_start=False) is: 1.0\n",
            "accuracy_score: 0.9862306368330465\n",
            "Cross validation is 98.65250552922014\n",
            "[[928  13   4]\n",
            " [  6  71   0]\n",
            " [  1   0 720]]\n",
            "              precision    recall  f1-score   support\n",
            "\n",
            "           0       0.99      0.98      0.99       945\n",
            "           1       0.85      0.92      0.88        77\n",
            "           2       0.99      1.00      1.00       721\n",
            "\n",
            "    accuracy                           0.99      1743\n",
            "   macro avg       0.94      0.97      0.96      1743\n",
            "weighted avg       0.99      0.99      0.99      1743\n",
            "\n",
            "[[928  13   4]\n",
            " [  6  71   0]\n",
            " [  1   0 720]]\n",
            "******************************************************************\n",
            "\n",
            "\n"
          ],
          "name": "stdout"
        }
      ]
    },
    {
      "cell_type": "code",
      "metadata": {
        "id": "FNcFSyJgsvrp"
      },
      "source": [
        "#It looks like the All Regression has a good F1 score on the test set, but keep in mind this is just a single training/test split; we need to confirm this performance holds for other splits. In addition, we need to tune the regularization hyperparameter. \n",
        "#Fortunately, there's a way to tackle both at the same time without introducing additional bias"
      ],
      "execution_count": null,
      "outputs": []
    },
    {
      "cell_type": "code",
      "metadata": {
        "colab": {
          "base_uri": "https://localhost:8080/"
        },
        "id": "lLSUNV2zml6x",
        "outputId": "ddd1cd13-c36a-4ad9-9618-b150ce0e1b44"
      },
      "source": [
        "#Implementing Algorithim\n",
        "model = LogisticRegression()\n",
        "model.fit(X_train_uncorr_res,y_train_res)"
      ],
      "execution_count": 501,
      "outputs": [
        {
          "output_type": "execute_result",
          "data": {
            "text/plain": [
              "LogisticRegression(C=1.0, class_weight=None, dual=False, fit_intercept=True,\n",
              "                   intercept_scaling=1, l1_ratio=None, max_iter=100,\n",
              "                   multi_class='auto', n_jobs=None, penalty='l2',\n",
              "                   random_state=None, solver='lbfgs', tol=0.0001, verbose=0,\n",
              "                   warm_start=False)"
            ]
          },
          "metadata": {
            "tags": []
          },
          "execution_count": 501
        }
      ]
    },
    {
      "cell_type": "code",
      "metadata": {
        "id": "PJF-LBnMy4-l"
      },
      "source": [
        "#Lets perform Hyperparametre Tuning:\n",
        "from sklearn.model_selection import cross_val_score\n",
        "from sklearn.model_selection import GridSearchCV\n",
        "from sklearn.model_selection import StratifiedShuffleSplit\n",
        "param_grid = {'C': np.logspace(-3, 3, 10),'penalty':['l2','l1']}  \n",
        "grid_search = GridSearchCV(estimator=model,param_grid=param_grid,cv=StratifiedShuffleSplit(n_splits=10, test_size=0.2, random_state=42),scoring='accuracy',verbose=0,n_jobs=-1)"
      ],
      "execution_count": 504,
      "outputs": []
    },
    {
      "cell_type": "code",
      "metadata": {
        "colab": {
          "base_uri": "https://localhost:8080/"
        },
        "id": "58SPReWGy5Bs",
        "outputId": "c245aace-aa3d-4bb3-c70c-d59dbc086a66"
      },
      "source": [
        "grid_search.fit(X_train_uncorr_res,y_train_res)\n",
        "grid_search.best_params_"
      ],
      "execution_count": 505,
      "outputs": [
        {
          "output_type": "execute_result",
          "data": {
            "text/plain": [
              "{'C': 1000.0, 'penalty': 'l2'}"
            ]
          },
          "metadata": {
            "tags": []
          },
          "execution_count": 505
        }
      ]
    },
    {
      "cell_type": "code",
      "metadata": {
        "colab": {
          "base_uri": "https://localhost:8080/"
        },
        "id": "Za9EOWjq7PPD",
        "outputId": "9e8b2c6e-fc66-4ade-f3ee-47334fda902f"
      },
      "source": [
        "#Getting best Score:\n",
        "print(grid_search.best_score_)"
      ],
      "execution_count": 506,
      "outputs": [
        {
          "output_type": "stream",
          "text": [
            "0.9651218346870521\n"
          ],
          "name": "stdout"
        }
      ]
    },
    {
      "cell_type": "code",
      "metadata": {
        "colab": {
          "base_uri": "https://localhost:8080/",
          "height": 531
        },
        "id": "gskpUnXFy5Gf",
        "outputId": "32f3a9c1-84db-4773-ff00-afe38ef4145b"
      },
      "source": [
        "model = LogisticRegression(C=1000.0,penalty='l2')\n",
        "model.fit(X_train_uncorr_res,y_train_res)\n",
        "y_predict= model.predict(X_test_uncorr)\n",
        "print(\"accuracy_score:\",accuracy_score(y_test,y_predict))\n",
        "print(confusion_matrix(y_test,y_predict))\n",
        "print(classification_report(y_test,y_predict))\n",
        "cm = confusion_matrix(y_test,y_predict)\n",
        "sns.heatmap(cm, annot=True, annot_kws={\"size\":10}, cmap='Blues', square=True, fmt='.3f')\n",
        "plt.ylabel('True label')\n",
        "plt.xlabel('Predicted label')"
      ],
      "execution_count": 508,
      "outputs": [
        {
          "output_type": "stream",
          "text": [
            "accuracy_score: 0.985083189902467\n",
            "[[926  13   6]\n",
            " [  7  70   0]\n",
            " [  0   0 721]]\n",
            "              precision    recall  f1-score   support\n",
            "\n",
            "           0       0.99      0.98      0.99       945\n",
            "           1       0.84      0.91      0.88        77\n",
            "           2       0.99      1.00      1.00       721\n",
            "\n",
            "    accuracy                           0.99      1743\n",
            "   macro avg       0.94      0.96      0.95      1743\n",
            "weighted avg       0.99      0.99      0.99      1743\n",
            "\n"
          ],
          "name": "stdout"
        },
        {
          "output_type": "execute_result",
          "data": {
            "text/plain": [
              "Text(0.5, 15.0, 'Predicted label')"
            ]
          },
          "metadata": {
            "tags": []
          },
          "execution_count": 508
        },
        {
          "output_type": "display_data",
          "data": {
            "image/png": "[encoded data removed]",
            "text/plain": [
              "<Figure size 432x288 with 2 Axes>"
            ]
          },
          "metadata": {
            "tags": []
          }
        }
      ]
    },
    {
      "cell_type": "code",
      "metadata": {
        "colab": {
          "base_uri": "https://localhost:8080/"
        },
        "id": "7AsV7PU46ux6",
        "outputId": "f9895cca-bc1f-4125-e41a-63f0b35b201b"
      },
      "source": [
        "from sklearn.metrics import precision_score\r\n",
        "from sklearn.metrics import recall_score\r\n",
        "print(\"Precision Score : \",precision_score(y_test, y_predict, pos_label='positive',average='micro'))\r\n",
        "print(\"Recall Score : \",recall_score(y_test, y_predict, pos_label='positive',average='micro'))"
      ],
      "execution_count": 524,
      "outputs": [
        {
          "output_type": "stream",
          "text": [
            "Precision Score :  0.985083189902467\n",
            "Recall Score :  0.985083189902467\n"
          ],
          "name": "stdout"
        }
      ]
    },
    {
      "cell_type": "code",
      "metadata": {
        "colab": {
          "base_uri": "https://localhost:8080/"
        },
        "id": "u3Wedz1uy5Mc",
        "outputId": "499c4461-5716-4197-fa77-26cc67f4cfee"
      },
      "source": [
        "#AUC and ROC Curve:\n",
        "from sklearn.metrics import roc_curve\n",
        "from sklearn.metrics import roc_auc_score\n",
        "y_pred_prob = model.predict_proba(X_test_uncorr)\n",
        "\n",
        "auc_score = roc_auc_score(y_test,y_pred_prob,multi_class='ovr')\n",
        "print(\"Auc and Roc Score for model is:\",auc_score)"
      ],
      "execution_count": 515,
      "outputs": [
        {
          "output_type": "stream",
          "text": [
            "Auc and Roc Score for model is: 0.9958124251129328\n"
          ],
          "name": "stdout"
        }
      ]
    },
    {
      "cell_type": "code",
      "metadata": {
        "colab": {
          "base_uri": "https://localhost:8080/"
        },
        "id": "pcvs1ftsy5lG",
        "outputId": "901f1a3c-8352-4fb8-fdda-e69c3941eaee"
      },
      "source": [
        "#Saving the best Model:\n",
        "import joblib\n",
        "joblib.dump(model,'model.obj')\n",
        "model_from_joblib = joblib.load('model.obj')\n",
        "model_from_joblib.predict(X_test_uncorr)"
      ],
      "execution_count": 526,
      "outputs": [
        {
          "output_type": "execute_result",
          "data": {
            "text/plain": [
              "array([0, 0, 0, ..., 0, 2, 0])"
            ]
          },
          "metadata": {
            "tags": []
          },
          "execution_count": 526
        }
      ]
    }
  ]
}