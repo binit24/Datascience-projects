{
  "nbformat": 4,
  "nbformat_minor": 0,
  "metadata": {
    "colab": {
      "name": "Customer Churn Dataset Analysis",
      "provenance": [],
      "collapsed_sections": [],
      "authorship_tag": "ABX9TyP2nyST+qVMjMbxZlFYaZPV",
      "include_colab_link": true
    },
    "kernelspec": {
      "name": "python3",
      "display_name": "Python 3"
    }
  },
  "cells": [
    {
      "cell_type": "markdown",
      "metadata": {
        "id": "view-in-github",
        "colab_type": "text"
      },
      "source": [
        "<a href=\"https://colab.research.google.com/github/binit24/Datascience.com/blob/main/Customer_Churn_Dataset_Analysis.ipynb\" target=\"_parent\"><img src=\"https://colab.research.google.com/assets/colab-badge.svg\" alt=\"Open In Colab\"/></a>"
      ]
    },
    {
      "cell_type": "code",
      "metadata": {
        "id": "8VBf0X8Hrfi0"
      },
      "source": [
        "#Importing Libraries.\r\n",
        "import pandas as pd\r\n",
        "import numpy as np\r\n",
        "import matplotlib.pyplot as plt\r\n",
        "import seaborn as sns\r\n",
        "import os\r\n",
        "#import warnings:\r\n",
        "import warnings\r\n",
        "warnings.filterwarnings('ignore')"
      ],
      "execution_count": 1,
      "outputs": []
    },
    {
      "cell_type": "code",
      "metadata": {
        "colab": {
          "base_uri": "https://localhost:8080/"
        },
        "id": "GDbYwC9Cr13x",
        "outputId": "4baf8f35-7fc0-4afb-a81f-e2d041e25aca"
      },
      "source": [
        "from google.colab import drive\r\n",
        "drive.mount('/content/drive')"
      ],
      "execution_count": 2,
      "outputs": [
        {
          "output_type": "stream",
          "text": [
            "Mounted at /content/drive\n"
          ],
          "name": "stdout"
        }
      ]
    },
    {
      "cell_type": "code",
      "metadata": {
        "id": "DGAHqrdQr16s"
      },
      "source": [
        "f = open(\"bigml_59c28831336c6604c800002a.csv\")"
      ],
      "execution_count": 3,
      "outputs": []
    },
    {
      "cell_type": "code",
      "metadata": {
        "colab": {
          "base_uri": "https://localhost:8080/",
          "height": 330
        },
        "id": "oayrw55wr1-X",
        "outputId": "3a5a52d9-aab3-4725-aa49-023817213356"
      },
      "source": [
        "#Reading the Dataset:\r\n",
        "df = pd.read_csv('bigml_59c28831336c6604c800002a.csv')\r\n",
        "print(df.shape) #checking no of rows and columns in the dataset.\r\n",
        "df.head()"
      ],
      "execution_count": 135,
      "outputs": [
        {
          "output_type": "stream",
          "text": [
            "(3333, 21)\n"
          ],
          "name": "stdout"
        },
        {
          "output_type": "execute_result",
          "data": {
            "text/html": [
              "<div>\n",
              "<style scoped>\n",
              "    .dataframe tbody tr th:only-of-type {\n",
              "        vertical-align: middle;\n",
              "    }\n",
              "\n",
              "    .dataframe tbody tr th {\n",
              "        vertical-align: top;\n",
              "    }\n",
              "\n",
              "    .dataframe thead th {\n",
              "        text-align: right;\n",
              "    }\n",
              "</style>\n",
              "<table border=\"1\" class=\"dataframe\">\n",
              "  <thead>\n",
              "    <tr style=\"text-align: right;\">\n",
              "      <th></th>\n",
              "      <th>state</th>\n",
              "      <th>account length</th>\n",
              "      <th>area code</th>\n",
              "      <th>phone number</th>\n",
              "      <th>international plan</th>\n",
              "      <th>voice mail plan</th>\n",
              "      <th>number vmail messages</th>\n",
              "      <th>total day minutes</th>\n",
              "      <th>total day calls</th>\n",
              "      <th>total day charge</th>\n",
              "      <th>total eve minutes</th>\n",
              "      <th>total eve calls</th>\n",
              "      <th>total eve charge</th>\n",
              "      <th>total night minutes</th>\n",
              "      <th>total night calls</th>\n",
              "      <th>total night charge</th>\n",
              "      <th>total intl minutes</th>\n",
              "      <th>total intl calls</th>\n",
              "      <th>total intl charge</th>\n",
              "      <th>customer service calls</th>\n",
              "      <th>churn</th>\n",
              "    </tr>\n",
              "  </thead>\n",
              "  <tbody>\n",
              "    <tr>\n",
              "      <th>0</th>\n",
              "      <td>KS</td>\n",
              "      <td>128</td>\n",
              "      <td>415</td>\n",
              "      <td>382-4657</td>\n",
              "      <td>no</td>\n",
              "      <td>yes</td>\n",
              "      <td>25</td>\n",
              "      <td>265.1</td>\n",
              "      <td>110</td>\n",
              "      <td>45.07</td>\n",
              "      <td>197.4</td>\n",
              "      <td>99</td>\n",
              "      <td>16.78</td>\n",
              "      <td>244.7</td>\n",
              "      <td>91</td>\n",
              "      <td>11.01</td>\n",
              "      <td>10.0</td>\n",
              "      <td>3</td>\n",
              "      <td>2.70</td>\n",
              "      <td>1</td>\n",
              "      <td>False</td>\n",
              "    </tr>\n",
              "    <tr>\n",
              "      <th>1</th>\n",
              "      <td>OH</td>\n",
              "      <td>107</td>\n",
              "      <td>415</td>\n",
              "      <td>371-7191</td>\n",
              "      <td>no</td>\n",
              "      <td>yes</td>\n",
              "      <td>26</td>\n",
              "      <td>161.6</td>\n",
              "      <td>123</td>\n",
              "      <td>27.47</td>\n",
              "      <td>195.5</td>\n",
              "      <td>103</td>\n",
              "      <td>16.62</td>\n",
              "      <td>254.4</td>\n",
              "      <td>103</td>\n",
              "      <td>11.45</td>\n",
              "      <td>13.7</td>\n",
              "      <td>3</td>\n",
              "      <td>3.70</td>\n",
              "      <td>1</td>\n",
              "      <td>False</td>\n",
              "    </tr>\n",
              "    <tr>\n",
              "      <th>2</th>\n",
              "      <td>NJ</td>\n",
              "      <td>137</td>\n",
              "      <td>415</td>\n",
              "      <td>358-1921</td>\n",
              "      <td>no</td>\n",
              "      <td>no</td>\n",
              "      <td>0</td>\n",
              "      <td>243.4</td>\n",
              "      <td>114</td>\n",
              "      <td>41.38</td>\n",
              "      <td>121.2</td>\n",
              "      <td>110</td>\n",
              "      <td>10.30</td>\n",
              "      <td>162.6</td>\n",
              "      <td>104</td>\n",
              "      <td>7.32</td>\n",
              "      <td>12.2</td>\n",
              "      <td>5</td>\n",
              "      <td>3.29</td>\n",
              "      <td>0</td>\n",
              "      <td>False</td>\n",
              "    </tr>\n",
              "    <tr>\n",
              "      <th>3</th>\n",
              "      <td>OH</td>\n",
              "      <td>84</td>\n",
              "      <td>408</td>\n",
              "      <td>375-9999</td>\n",
              "      <td>yes</td>\n",
              "      <td>no</td>\n",
              "      <td>0</td>\n",
              "      <td>299.4</td>\n",
              "      <td>71</td>\n",
              "      <td>50.90</td>\n",
              "      <td>61.9</td>\n",
              "      <td>88</td>\n",
              "      <td>5.26</td>\n",
              "      <td>196.9</td>\n",
              "      <td>89</td>\n",
              "      <td>8.86</td>\n",
              "      <td>6.6</td>\n",
              "      <td>7</td>\n",
              "      <td>1.78</td>\n",
              "      <td>2</td>\n",
              "      <td>False</td>\n",
              "    </tr>\n",
              "    <tr>\n",
              "      <th>4</th>\n",
              "      <td>OK</td>\n",
              "      <td>75</td>\n",
              "      <td>415</td>\n",
              "      <td>330-6626</td>\n",
              "      <td>yes</td>\n",
              "      <td>no</td>\n",
              "      <td>0</td>\n",
              "      <td>166.7</td>\n",
              "      <td>113</td>\n",
              "      <td>28.34</td>\n",
              "      <td>148.3</td>\n",
              "      <td>122</td>\n",
              "      <td>12.61</td>\n",
              "      <td>186.9</td>\n",
              "      <td>121</td>\n",
              "      <td>8.41</td>\n",
              "      <td>10.1</td>\n",
              "      <td>3</td>\n",
              "      <td>2.73</td>\n",
              "      <td>3</td>\n",
              "      <td>False</td>\n",
              "    </tr>\n",
              "  </tbody>\n",
              "</table>\n",
              "</div>"
            ],
            "text/plain": [
              "  state  account length  area code phone number international plan  \\\n",
              "0    KS             128        415     382-4657                 no   \n",
              "1    OH             107        415     371-7191                 no   \n",
              "2    NJ             137        415     358-1921                 no   \n",
              "3    OH              84        408     375-9999                yes   \n",
              "4    OK              75        415     330-6626                yes   \n",
              "\n",
              "  voice mail plan  number vmail messages  total day minutes  total day calls  \\\n",
              "0             yes                     25              265.1              110   \n",
              "1             yes                     26              161.6              123   \n",
              "2              no                      0              243.4              114   \n",
              "3              no                      0              299.4               71   \n",
              "4              no                      0              166.7              113   \n",
              "\n",
              "   total day charge  total eve minutes  total eve calls  total eve charge  \\\n",
              "0             45.07              197.4               99             16.78   \n",
              "1             27.47              195.5              103             16.62   \n",
              "2             41.38              121.2              110             10.30   \n",
              "3             50.90               61.9               88              5.26   \n",
              "4             28.34              148.3              122             12.61   \n",
              "\n",
              "   total night minutes  total night calls  total night charge  \\\n",
              "0                244.7                 91               11.01   \n",
              "1                254.4                103               11.45   \n",
              "2                162.6                104                7.32   \n",
              "3                196.9                 89                8.86   \n",
              "4                186.9                121                8.41   \n",
              "\n",
              "   total intl minutes  total intl calls  total intl charge  \\\n",
              "0                10.0                 3               2.70   \n",
              "1                13.7                 3               3.70   \n",
              "2                12.2                 5               3.29   \n",
              "3                 6.6                 7               1.78   \n",
              "4                10.1                 3               2.73   \n",
              "\n",
              "   customer service calls  churn  \n",
              "0                       1  False  \n",
              "1                       1  False  \n",
              "2                       0  False  \n",
              "3                       2  False  \n",
              "4                       3  False  "
            ]
          },
          "metadata": {
            "tags": []
          },
          "execution_count": 135
        }
      ]
    },
    {
      "cell_type": "code",
      "metadata": {
        "id": "S48b4YZjr2EH"
      },
      "source": [
        "#using Pd.options display max columns to check entire rows and columns in dataset.\r\n",
        "pd.options.display.max_columns = None\r\n",
        "pd.options.display.max_rows = None"
      ],
      "execution_count": 5,
      "outputs": []
    },
    {
      "cell_type": "code",
      "metadata": {
        "colab": {
          "base_uri": "https://localhost:8080/"
        },
        "id": "M9AHB3Bir2G7",
        "outputId": "58ed4158-70d8-483d-8064-895a0d357be5"
      },
      "source": [
        "#Checking the info:\r\n",
        "df.dtypes"
      ],
      "execution_count": 7,
      "outputs": [
        {
          "output_type": "execute_result",
          "data": {
            "text/plain": [
              "state                      object\n",
              "account length              int64\n",
              "area code                   int64\n",
              "phone number               object\n",
              "international plan         object\n",
              "voice mail plan            object\n",
              "number vmail messages       int64\n",
              "total day minutes         float64\n",
              "total day calls             int64\n",
              "total day charge          float64\n",
              "total eve minutes         float64\n",
              "total eve calls             int64\n",
              "total eve charge          float64\n",
              "total night minutes       float64\n",
              "total night calls           int64\n",
              "total night charge        float64\n",
              "total intl minutes        float64\n",
              "total intl calls            int64\n",
              "total intl charge         float64\n",
              "customer service calls      int64\n",
              "churn                        bool\n",
              "dtype: object"
            ]
          },
          "metadata": {
            "tags": []
          },
          "execution_count": 7
        }
      ]
    },
    {
      "cell_type": "code",
      "metadata": {
        "colab": {
          "base_uri": "https://localhost:8080/"
        },
        "id": "wcHairU7r2Jo",
        "outputId": "b31c00d3-627b-4b05-b541-0be64399a833"
      },
      "source": [
        "#cheking Duplicate columns:\r\n",
        "df.duplicated().sum()"
      ],
      "execution_count": 8,
      "outputs": [
        {
          "output_type": "execute_result",
          "data": {
            "text/plain": [
              "0"
            ]
          },
          "metadata": {
            "tags": []
          },
          "execution_count": 8
        }
      ]
    },
    {
      "cell_type": "code",
      "metadata": {
        "colab": {
          "base_uri": "https://localhost:8080/"
        },
        "id": "E3N4dIsos1Bn",
        "outputId": "2b154db6-a96f-4baa-a330-944d1074128a"
      },
      "source": [
        "#Checking for categorical columns:\r\n",
        "cat_col = []\r\n",
        "for x in df.dtypes.index:\r\n",
        "    if df.dtypes[x] == 'object':\r\n",
        "        cat_col.append(x)\r\n",
        "print(\"Categorical Columns:\",cat_col)"
      ],
      "execution_count": 9,
      "outputs": [
        {
          "output_type": "stream",
          "text": [
            "Categorical Columns: ['state', 'phone number', 'international plan', 'voice mail plan']\n"
          ],
          "name": "stdout"
        }
      ]
    },
    {
      "cell_type": "code",
      "metadata": {
        "colab": {
          "base_uri": "https://localhost:8080/"
        },
        "id": "80fzYg7ps1FR",
        "outputId": "76164a79-12d1-47a9-e3cb-ba574875eaaf"
      },
      "source": [
        "#Checking the value count and unique value of each categorical feature:\r\n",
        "for col in df.columns:\r\n",
        "    if df[col].dtypes == object:\r\n",
        "        print(str(col)+':'+str(df[col].unique()))\r\n",
        "        print('********************************************')"
      ],
      "execution_count": 11,
      "outputs": [
        {
          "output_type": "stream",
          "text": [
            "state:['KS' 'OH' 'NJ' 'OK' 'AL' 'MA' 'MO' 'LA' 'WV' 'IN' 'RI' 'IA' 'MT' 'NY'\n",
            " 'ID' 'VT' 'VA' 'TX' 'FL' 'CO' 'AZ' 'SC' 'NE' 'WY' 'HI' 'IL' 'NH' 'GA'\n",
            " 'AK' 'MD' 'AR' 'WI' 'OR' 'MI' 'DE' 'UT' 'CA' 'MN' 'SD' 'NC' 'WA' 'NM'\n",
            " 'NV' 'DC' 'KY' 'ME' 'MS' 'TN' 'PA' 'CT' 'ND']\n",
            "********************************************\n",
            "phone number:['382-4657' '371-7191' '358-1921' ... '328-8230' '364-6381' '400-4344']\n",
            "********************************************\n",
            "international plan:['no' 'yes']\n",
            "********************************************\n",
            "voice mail plan:['yes' 'no']\n",
            "********************************************\n"
          ],
          "name": "stdout"
        }
      ]
    },
    {
      "cell_type": "code",
      "metadata": {
        "colab": {
          "base_uri": "https://localhost:8080/"
        },
        "id": "m9-9u3ZJxJB2",
        "outputId": "e99c1991-7e73-4118-b6f2-6954574739e9"
      },
      "source": [
        "#Checking the value counts for every feature:\r\n",
        "df.apply(lambda x:len(x.value_counts()))"
      ],
      "execution_count": 29,
      "outputs": [
        {
          "output_type": "execute_result",
          "data": {
            "text/plain": [
              "state                       51\n",
              "account length             212\n",
              "area code                    3\n",
              "phone number              3333\n",
              "international plan           2\n",
              "voice mail plan              2\n",
              "number vmail messages       46\n",
              "total day minutes         1667\n",
              "total day calls            119\n",
              "total day charge          1667\n",
              "total eve minutes         1611\n",
              "total eve calls            123\n",
              "total eve charge          1440\n",
              "total night minutes       1591\n",
              "total night calls          120\n",
              "total night charge         933\n",
              "total intl minutes         162\n",
              "total intl calls            21\n",
              "total intl charge          162\n",
              "customer service calls      10\n",
              "churn                        2\n",
              "dtype: int64"
            ]
          },
          "metadata": {
            "tags": []
          },
          "execution_count": 29
        }
      ]
    },
    {
      "cell_type": "code",
      "metadata": {
        "colab": {
          "base_uri": "https://localhost:8080/",
          "height": 769
        },
        "id": "T1vfDRvssl4K",
        "outputId": "f96b66cd-1c84-490c-9d1f-6787f04039b0"
      },
      "source": [
        "#Checking the null values in the dataset:\r\n",
        "missing_value = pd.DataFrame(df.isnull().sum(),columns=['Total Missing Value'])\r\n",
        "print(missing_value)\r\n",
        "sns.heatmap(df.isnull(),cmap='summer')"
      ],
      "execution_count": 12,
      "outputs": [
        {
          "output_type": "stream",
          "text": [
            "                        Total Missing Value\n",
            "state                                     0\n",
            "account length                            0\n",
            "area code                                 0\n",
            "phone number                              0\n",
            "international plan                        0\n",
            "voice mail plan                           0\n",
            "number vmail messages                     0\n",
            "total day minutes                         0\n",
            "total day calls                           0\n",
            "total day charge                          0\n",
            "total eve minutes                         0\n",
            "total eve calls                           0\n",
            "total eve charge                          0\n",
            "total night minutes                       0\n",
            "total night calls                         0\n",
            "total night charge                        0\n",
            "total intl minutes                        0\n",
            "total intl calls                          0\n",
            "total intl charge                         0\n",
            "customer service calls                    0\n",
            "churn                                     0\n"
          ],
          "name": "stdout"
        },
        {
          "output_type": "execute_result",
          "data": {
            "text/plain": [
              "<matplotlib.axes._subplots.AxesSubplot at 0x7f3f6dba8ba8>"
            ]
          },
          "metadata": {
            "tags": []
          },
          "execution_count": 12
        },
        {
          "output_type": "display_data",
          "data": {
            "image/png": "[encoded data removed]",
            "text/plain": [
              "<Figure size 432x288 with 2 Axes>"
            ]
          },
          "metadata": {
            "tags": [],
            "needs_background": "light"
          }
        }
      ]
    },
    {
      "cell_type": "code",
      "metadata": {
        "id": "QODmhOOhsl7N"
      },
      "source": [
        "#No Missing Value in Dataset thats great its and balance Dataset:"
      ],
      "execution_count": 13,
      "outputs": []
    },
    {
      "cell_type": "code",
      "metadata": {
        "colab": {
          "base_uri": "https://localhost:8080/"
        },
        "id": "3Cy0pICHsl-V",
        "outputId": "ab421101-72f3-4308-eea2-054278723772"
      },
      "source": [
        "#Lets Do some Feature Engineering:\r\n",
        "df['churn'].value_counts()"
      ],
      "execution_count": 24,
      "outputs": [
        {
          "output_type": "execute_result",
          "data": {
            "text/plain": [
              "False    2850\n",
              "True      483\n",
              "Name: churn, dtype: int64"
            ]
          },
          "metadata": {
            "tags": []
          },
          "execution_count": 24
        }
      ]
    },
    {
      "cell_type": "code",
      "metadata": {
        "id": "B4H84R_8smB-"
      },
      "source": [
        "#Converting it into binary format:\r\n",
        "chrun_map = {True: 1,False: 0}\r\n",
        "df['churn'] = df['churn'].map(chrun_map)"
      ],
      "execution_count": 79,
      "outputs": []
    },
    {
      "cell_type": "code",
      "metadata": {
        "colab": {
          "base_uri": "https://localhost:8080/"
        },
        "id": "7So8qsXKsmFF",
        "outputId": "97ed6080-780d-4cec-aedc-3d1b021e1abd"
      },
      "source": [
        "df['churn'].value_counts()"
      ],
      "execution_count": 26,
      "outputs": [
        {
          "output_type": "execute_result",
          "data": {
            "text/plain": [
              "0    2850\n",
              "1     483\n",
              "Name: churn, dtype: int64"
            ]
          },
          "metadata": {
            "tags": []
          },
          "execution_count": 26
        }
      ]
    },
    {
      "cell_type": "code",
      "metadata": {
        "id": "W4s9aN6csmHv"
      },
      "source": [
        "#Working With othet Categorical Column and converting them into binary:\r\n",
        "df['international plan'] = df['international plan'].map({'no':0,'yes':1})\r\n",
        "df['voice mail plan'] = df['voice mail plan'].map({'no':0,'yes':1})"
      ],
      "execution_count": 80,
      "outputs": []
    },
    {
      "cell_type": "code",
      "metadata": {
        "colab": {
          "base_uri": "https://localhost:8080/"
        },
        "id": "Vik3DkVhsmNu",
        "outputId": "852236cb-dcfb-4db1-8951-acddf616d505"
      },
      "source": [
        "#checking the Columns:\r\n",
        "columns = list(df.columns)\r\n",
        "print(df.shape)\r\n",
        "print(columns)"
      ],
      "execution_count": 30,
      "outputs": [
        {
          "output_type": "stream",
          "text": [
            "(3333, 21)\n",
            "['state', 'account length', 'area code', 'phone number', 'international plan', 'voice mail plan', 'number vmail messages', 'total day minutes', 'total day calls', 'total day charge', 'total eve minutes', 'total eve calls', 'total eve charge', 'total night minutes', 'total night calls', 'total night charge', 'total intl minutes', 'total intl calls', 'total intl charge', 'customer service calls', 'churn']\n"
          ],
          "name": "stdout"
        }
      ]
    },
    {
      "cell_type": "code",
      "metadata": {
        "colab": {
          "base_uri": "https://localhost:8080/",
          "height": 338
        },
        "id": "vTGkcoQaxBVG",
        "outputId": "1fd9a501-8ded-4642-b5ad-a0e37b29815d"
      },
      "source": [
        "#Doing Statistical Analysis by using Describe Function\r\n",
        "#Checking interquantile range.\r\n",
        "#Checking mean median mode\r\n",
        "df.describe()"
      ],
      "execution_count": 31,
      "outputs": [
        {
          "output_type": "execute_result",
          "data": {
            "text/html": [
              "<div>\n",
              "<style scoped>\n",
              "    .dataframe tbody tr th:only-of-type {\n",
              "        vertical-align: middle;\n",
              "    }\n",
              "\n",
              "    .dataframe tbody tr th {\n",
              "        vertical-align: top;\n",
              "    }\n",
              "\n",
              "    .dataframe thead th {\n",
              "        text-align: right;\n",
              "    }\n",
              "</style>\n",
              "<table border=\"1\" class=\"dataframe\">\n",
              "  <thead>\n",
              "    <tr style=\"text-align: right;\">\n",
              "      <th></th>\n",
              "      <th>account length</th>\n",
              "      <th>area code</th>\n",
              "      <th>international plan</th>\n",
              "      <th>voice mail plan</th>\n",
              "      <th>number vmail messages</th>\n",
              "      <th>total day minutes</th>\n",
              "      <th>total day calls</th>\n",
              "      <th>total day charge</th>\n",
              "      <th>total eve minutes</th>\n",
              "      <th>total eve calls</th>\n",
              "      <th>total eve charge</th>\n",
              "      <th>total night minutes</th>\n",
              "      <th>total night calls</th>\n",
              "      <th>total night charge</th>\n",
              "      <th>total intl minutes</th>\n",
              "      <th>total intl calls</th>\n",
              "      <th>total intl charge</th>\n",
              "      <th>customer service calls</th>\n",
              "      <th>churn</th>\n",
              "    </tr>\n",
              "  </thead>\n",
              "  <tbody>\n",
              "    <tr>\n",
              "      <th>count</th>\n",
              "      <td>3333.000000</td>\n",
              "      <td>3333.000000</td>\n",
              "      <td>3333.000000</td>\n",
              "      <td>3333.000000</td>\n",
              "      <td>3333.000000</td>\n",
              "      <td>3333.000000</td>\n",
              "      <td>3333.000000</td>\n",
              "      <td>3333.000000</td>\n",
              "      <td>3333.000000</td>\n",
              "      <td>3333.000000</td>\n",
              "      <td>3333.000000</td>\n",
              "      <td>3333.000000</td>\n",
              "      <td>3333.000000</td>\n",
              "      <td>3333.000000</td>\n",
              "      <td>3333.000000</td>\n",
              "      <td>3333.000000</td>\n",
              "      <td>3333.000000</td>\n",
              "      <td>3333.000000</td>\n",
              "      <td>3333.000000</td>\n",
              "    </tr>\n",
              "    <tr>\n",
              "      <th>mean</th>\n",
              "      <td>101.064806</td>\n",
              "      <td>437.182418</td>\n",
              "      <td>0.096910</td>\n",
              "      <td>0.276628</td>\n",
              "      <td>8.099010</td>\n",
              "      <td>179.775098</td>\n",
              "      <td>100.435644</td>\n",
              "      <td>30.562307</td>\n",
              "      <td>200.980348</td>\n",
              "      <td>100.114311</td>\n",
              "      <td>17.083540</td>\n",
              "      <td>200.872037</td>\n",
              "      <td>100.107711</td>\n",
              "      <td>9.039325</td>\n",
              "      <td>10.237294</td>\n",
              "      <td>4.479448</td>\n",
              "      <td>2.764581</td>\n",
              "      <td>1.562856</td>\n",
              "      <td>0.144914</td>\n",
              "    </tr>\n",
              "    <tr>\n",
              "      <th>std</th>\n",
              "      <td>39.822106</td>\n",
              "      <td>42.371290</td>\n",
              "      <td>0.295879</td>\n",
              "      <td>0.447398</td>\n",
              "      <td>13.688365</td>\n",
              "      <td>54.467389</td>\n",
              "      <td>20.069084</td>\n",
              "      <td>9.259435</td>\n",
              "      <td>50.713844</td>\n",
              "      <td>19.922625</td>\n",
              "      <td>4.310668</td>\n",
              "      <td>50.573847</td>\n",
              "      <td>19.568609</td>\n",
              "      <td>2.275873</td>\n",
              "      <td>2.791840</td>\n",
              "      <td>2.461214</td>\n",
              "      <td>0.753773</td>\n",
              "      <td>1.315491</td>\n",
              "      <td>0.352067</td>\n",
              "    </tr>\n",
              "    <tr>\n",
              "      <th>min</th>\n",
              "      <td>1.000000</td>\n",
              "      <td>408.000000</td>\n",
              "      <td>0.000000</td>\n",
              "      <td>0.000000</td>\n",
              "      <td>0.000000</td>\n",
              "      <td>0.000000</td>\n",
              "      <td>0.000000</td>\n",
              "      <td>0.000000</td>\n",
              "      <td>0.000000</td>\n",
              "      <td>0.000000</td>\n",
              "      <td>0.000000</td>\n",
              "      <td>23.200000</td>\n",
              "      <td>33.000000</td>\n",
              "      <td>1.040000</td>\n",
              "      <td>0.000000</td>\n",
              "      <td>0.000000</td>\n",
              "      <td>0.000000</td>\n",
              "      <td>0.000000</td>\n",
              "      <td>0.000000</td>\n",
              "    </tr>\n",
              "    <tr>\n",
              "      <th>25%</th>\n",
              "      <td>74.000000</td>\n",
              "      <td>408.000000</td>\n",
              "      <td>0.000000</td>\n",
              "      <td>0.000000</td>\n",
              "      <td>0.000000</td>\n",
              "      <td>143.700000</td>\n",
              "      <td>87.000000</td>\n",
              "      <td>24.430000</td>\n",
              "      <td>166.600000</td>\n",
              "      <td>87.000000</td>\n",
              "      <td>14.160000</td>\n",
              "      <td>167.000000</td>\n",
              "      <td>87.000000</td>\n",
              "      <td>7.520000</td>\n",
              "      <td>8.500000</td>\n",
              "      <td>3.000000</td>\n",
              "      <td>2.300000</td>\n",
              "      <td>1.000000</td>\n",
              "      <td>0.000000</td>\n",
              "    </tr>\n",
              "    <tr>\n",
              "      <th>50%</th>\n",
              "      <td>101.000000</td>\n",
              "      <td>415.000000</td>\n",
              "      <td>0.000000</td>\n",
              "      <td>0.000000</td>\n",
              "      <td>0.000000</td>\n",
              "      <td>179.400000</td>\n",
              "      <td>101.000000</td>\n",
              "      <td>30.500000</td>\n",
              "      <td>201.400000</td>\n",
              "      <td>100.000000</td>\n",
              "      <td>17.120000</td>\n",
              "      <td>201.200000</td>\n",
              "      <td>100.000000</td>\n",
              "      <td>9.050000</td>\n",
              "      <td>10.300000</td>\n",
              "      <td>4.000000</td>\n",
              "      <td>2.780000</td>\n",
              "      <td>1.000000</td>\n",
              "      <td>0.000000</td>\n",
              "    </tr>\n",
              "    <tr>\n",
              "      <th>75%</th>\n",
              "      <td>127.000000</td>\n",
              "      <td>510.000000</td>\n",
              "      <td>0.000000</td>\n",
              "      <td>1.000000</td>\n",
              "      <td>20.000000</td>\n",
              "      <td>216.400000</td>\n",
              "      <td>114.000000</td>\n",
              "      <td>36.790000</td>\n",
              "      <td>235.300000</td>\n",
              "      <td>114.000000</td>\n",
              "      <td>20.000000</td>\n",
              "      <td>235.300000</td>\n",
              "      <td>113.000000</td>\n",
              "      <td>10.590000</td>\n",
              "      <td>12.100000</td>\n",
              "      <td>6.000000</td>\n",
              "      <td>3.270000</td>\n",
              "      <td>2.000000</td>\n",
              "      <td>0.000000</td>\n",
              "    </tr>\n",
              "    <tr>\n",
              "      <th>max</th>\n",
              "      <td>243.000000</td>\n",
              "      <td>510.000000</td>\n",
              "      <td>1.000000</td>\n",
              "      <td>1.000000</td>\n",
              "      <td>51.000000</td>\n",
              "      <td>350.800000</td>\n",
              "      <td>165.000000</td>\n",
              "      <td>59.640000</td>\n",
              "      <td>363.700000</td>\n",
              "      <td>170.000000</td>\n",
              "      <td>30.910000</td>\n",
              "      <td>395.000000</td>\n",
              "      <td>175.000000</td>\n",
              "      <td>17.770000</td>\n",
              "      <td>20.000000</td>\n",
              "      <td>20.000000</td>\n",
              "      <td>5.400000</td>\n",
              "      <td>9.000000</td>\n",
              "      <td>1.000000</td>\n",
              "    </tr>\n",
              "  </tbody>\n",
              "</table>\n",
              "</div>"
            ],
            "text/plain": [
              "       account length    area code  international plan  voice mail plan  \\\n",
              "count     3333.000000  3333.000000         3333.000000      3333.000000   \n",
              "mean       101.064806   437.182418            0.096910         0.276628   \n",
              "std         39.822106    42.371290            0.295879         0.447398   \n",
              "min          1.000000   408.000000            0.000000         0.000000   \n",
              "25%         74.000000   408.000000            0.000000         0.000000   \n",
              "50%        101.000000   415.000000            0.000000         0.000000   \n",
              "75%        127.000000   510.000000            0.000000         1.000000   \n",
              "max        243.000000   510.000000            1.000000         1.000000   \n",
              "\n",
              "       number vmail messages  total day minutes  total day calls  \\\n",
              "count            3333.000000        3333.000000      3333.000000   \n",
              "mean                8.099010         179.775098       100.435644   \n",
              "std                13.688365          54.467389        20.069084   \n",
              "min                 0.000000           0.000000         0.000000   \n",
              "25%                 0.000000         143.700000        87.000000   \n",
              "50%                 0.000000         179.400000       101.000000   \n",
              "75%                20.000000         216.400000       114.000000   \n",
              "max                51.000000         350.800000       165.000000   \n",
              "\n",
              "       total day charge  total eve minutes  total eve calls  total eve charge  \\\n",
              "count       3333.000000        3333.000000      3333.000000       3333.000000   \n",
              "mean          30.562307         200.980348       100.114311         17.083540   \n",
              "std            9.259435          50.713844        19.922625          4.310668   \n",
              "min            0.000000           0.000000         0.000000          0.000000   \n",
              "25%           24.430000         166.600000        87.000000         14.160000   \n",
              "50%           30.500000         201.400000       100.000000         17.120000   \n",
              "75%           36.790000         235.300000       114.000000         20.000000   \n",
              "max           59.640000         363.700000       170.000000         30.910000   \n",
              "\n",
              "       total night minutes  total night calls  total night charge  \\\n",
              "count          3333.000000        3333.000000         3333.000000   \n",
              "mean            200.872037         100.107711            9.039325   \n",
              "std              50.573847          19.568609            2.275873   \n",
              "min              23.200000          33.000000            1.040000   \n",
              "25%             167.000000          87.000000            7.520000   \n",
              "50%             201.200000         100.000000            9.050000   \n",
              "75%             235.300000         113.000000           10.590000   \n",
              "max             395.000000         175.000000           17.770000   \n",
              "\n",
              "       total intl minutes  total intl calls  total intl charge  \\\n",
              "count         3333.000000       3333.000000        3333.000000   \n",
              "mean            10.237294          4.479448           2.764581   \n",
              "std              2.791840          2.461214           0.753773   \n",
              "min              0.000000          0.000000           0.000000   \n",
              "25%              8.500000          3.000000           2.300000   \n",
              "50%             10.300000          4.000000           2.780000   \n",
              "75%             12.100000          6.000000           3.270000   \n",
              "max             20.000000         20.000000           5.400000   \n",
              "\n",
              "       customer service calls        churn  \n",
              "count             3333.000000  3333.000000  \n",
              "mean                 1.562856     0.144914  \n",
              "std                  1.315491     0.352067  \n",
              "min                  0.000000     0.000000  \n",
              "25%                  1.000000     0.000000  \n",
              "50%                  1.000000     0.000000  \n",
              "75%                  2.000000     0.000000  \n",
              "max                  9.000000     1.000000  "
            ]
          },
          "metadata": {
            "tags": []
          },
          "execution_count": 31
        }
      ]
    },
    {
      "cell_type": "code",
      "metadata": {
        "id": "1Im2sRaUxBYT"
      },
      "source": [
        "#Avg total day calls is around 100.435644\r\n",
        "#Avg total night minutes calls is around 200.872037\r\n",
        "#Avg customer service calls 1.562856\r\n",
        "#Ang total night charge 9.039325\r\n",
        "#There is possibility of presence of outliers as mean of some features are greater than median.\r\n",
        "#In some of features theres an huge difference between 75% and max which confirm the presence of outliers."
      ],
      "execution_count": 32,
      "outputs": []
    },
    {
      "cell_type": "code",
      "metadata": {
        "id": "7xFOmTZtxBb0"
      },
      "source": [
        "#Exploratory Data Analysis\r\n",
        "\r\n",
        "#Univarite Analysis\r\n",
        "\r\n",
        "#Multivariate Analysis\r\n",
        "\r\n",
        "#Bivariate Analysis\r\n",
        "\r\n",
        "#Here we check the relationship between different independant and dependant variable"
      ],
      "execution_count": 33,
      "outputs": []
    },
    {
      "cell_type": "code",
      "metadata": {
        "colab": {
          "base_uri": "https://localhost:8080/",
          "height": 478
        },
        "id": "mkT81h3hxBeu",
        "outputId": "2148ce64-e752-47b8-f183-e1cc7086134f"
      },
      "source": [
        "# univariate Analysis: checking customer chrun breakdown:\r\n",
        "# Cheking Count of target variable:\r\n",
        "from pylab import rcParams\r\n",
        "labels = df['churn'].value_counts(sort = True).index\r\n",
        "sizes = df['churn'].value_counts(sort = True)\r\n",
        "\r\n",
        "colors = [\"lightblue\",\"red\"]\r\n",
        "explode = (0.05,0)\r\n",
        "\r\n",
        "rcParams['figure.figsize'] = 7,7\r\n",
        "plt.pie(sizes, explode=explode, labels=labels, colors=colors, autopct='%1.1f%%', shadow=True, startangle=90,)\r\n",
        "plt.title('Customer chrun breakdown')\r\n",
        "plt.show()\r\n",
        "print(df['churn'].value_counts())"
      ],
      "execution_count": 65,
      "outputs": [
        {
          "output_type": "display_data",
          "data": {
            "image/png": "[encoded data removed]",
            "text/plain": [
              "<Figure size 504x504 with 1 Axes>"
            ]
          },
          "metadata": {
            "tags": []
          }
        },
        {
          "output_type": "stream",
          "text": [
            "0    2850\n",
            "1     483\n",
            "Name: churn, dtype: int64\n"
          ],
          "name": "stdout"
        }
      ]
    },
    {
      "cell_type": "code",
      "metadata": {
        "colab": {
          "base_uri": "https://localhost:8080/",
          "height": 350
        },
        "id": "YmdooMfFxBh9",
        "outputId": "6949a574-1efd-403d-e823-89a6c20da012"
      },
      "source": [
        "#Univariate Analysis:\r\n",
        "#Checking the count of international plan:\r\n",
        "sns.set_style('ticks')\r\n",
        "plt.figure(figsize=(5,5))\r\n",
        "ax = sns.countplot(df['international plan'])\r\n",
        "plt.title(\"international plan Count\")\r\n",
        "for p in ax.patches:\r\n",
        "       ax.annotate(int(p.get_height()), (p.get_x()+0.25, p.get_height()+1), va='bottom',color= 'black')"
      ],
      "execution_count": 37,
      "outputs": [
        {
          "output_type": "display_data",
          "data": {
            "image/png": "[encoded data removed]",
            "text/plain": [
              "<Figure size 360x360 with 1 Axes>"
            ]
          },
          "metadata": {
            "tags": []
          }
        }
      ]
    },
    {
      "cell_type": "code",
      "metadata": {
        "colab": {
          "base_uri": "https://localhost:8080/",
          "height": 350
        },
        "id": "fxV8mn62xBkf",
        "outputId": "4b54118e-d029-45e1-c73e-e04e3a16b58f"
      },
      "source": [
        "#Univariate Analysis:\r\n",
        "#Checking the count of voice mail plan:\r\n",
        "sns.set_style('ticks')\r\n",
        "plt.figure(figsize=(5,5))\r\n",
        "ax = sns.countplot(df['voice mail plan'])\r\n",
        "plt.title(\"voice mail plan\")\r\n",
        "for p in ax.patches:\r\n",
        "       ax.annotate(int(p.get_height()), (p.get_x()+0.25, p.get_height()+1), va='bottom',color= 'black')"
      ],
      "execution_count": 38,
      "outputs": [
        {
          "output_type": "display_data",
          "data": {
            "image/png": "[encoded data removed]",
            "text/plain": [
              "<Figure size 360x360 with 1 Axes>"
            ]
          },
          "metadata": {
            "tags": []
          }
        }
      ]
    },
    {
      "cell_type": "code",
      "metadata": {
        "colab": {
          "base_uri": "https://localhost:8080/",
          "height": 313
        },
        "id": "BHqsc0k1WzPj",
        "outputId": "dccb7472-6de0-463c-afe5-98fdad76031d"
      },
      "source": [
        "df.head()"
      ],
      "execution_count": 136,
      "outputs": [
        {
          "output_type": "execute_result",
          "data": {
            "text/html": [
              "<div>\n",
              "<style scoped>\n",
              "    .dataframe tbody tr th:only-of-type {\n",
              "        vertical-align: middle;\n",
              "    }\n",
              "\n",
              "    .dataframe tbody tr th {\n",
              "        vertical-align: top;\n",
              "    }\n",
              "\n",
              "    .dataframe thead th {\n",
              "        text-align: right;\n",
              "    }\n",
              "</style>\n",
              "<table border=\"1\" class=\"dataframe\">\n",
              "  <thead>\n",
              "    <tr style=\"text-align: right;\">\n",
              "      <th></th>\n",
              "      <th>state</th>\n",
              "      <th>account length</th>\n",
              "      <th>area code</th>\n",
              "      <th>phone number</th>\n",
              "      <th>international plan</th>\n",
              "      <th>voice mail plan</th>\n",
              "      <th>number vmail messages</th>\n",
              "      <th>total day minutes</th>\n",
              "      <th>total day calls</th>\n",
              "      <th>total day charge</th>\n",
              "      <th>total eve minutes</th>\n",
              "      <th>total eve calls</th>\n",
              "      <th>total eve charge</th>\n",
              "      <th>total night minutes</th>\n",
              "      <th>total night calls</th>\n",
              "      <th>total night charge</th>\n",
              "      <th>total intl minutes</th>\n",
              "      <th>total intl calls</th>\n",
              "      <th>total intl charge</th>\n",
              "      <th>customer service calls</th>\n",
              "      <th>churn</th>\n",
              "    </tr>\n",
              "  </thead>\n",
              "  <tbody>\n",
              "    <tr>\n",
              "      <th>0</th>\n",
              "      <td>KS</td>\n",
              "      <td>128</td>\n",
              "      <td>415</td>\n",
              "      <td>382-4657</td>\n",
              "      <td>no</td>\n",
              "      <td>yes</td>\n",
              "      <td>25</td>\n",
              "      <td>265.1</td>\n",
              "      <td>110</td>\n",
              "      <td>45.07</td>\n",
              "      <td>197.4</td>\n",
              "      <td>99</td>\n",
              "      <td>16.78</td>\n",
              "      <td>244.7</td>\n",
              "      <td>91</td>\n",
              "      <td>11.01</td>\n",
              "      <td>10.0</td>\n",
              "      <td>3</td>\n",
              "      <td>2.70</td>\n",
              "      <td>1</td>\n",
              "      <td>False</td>\n",
              "    </tr>\n",
              "    <tr>\n",
              "      <th>1</th>\n",
              "      <td>OH</td>\n",
              "      <td>107</td>\n",
              "      <td>415</td>\n",
              "      <td>371-7191</td>\n",
              "      <td>no</td>\n",
              "      <td>yes</td>\n",
              "      <td>26</td>\n",
              "      <td>161.6</td>\n",
              "      <td>123</td>\n",
              "      <td>27.47</td>\n",
              "      <td>195.5</td>\n",
              "      <td>103</td>\n",
              "      <td>16.62</td>\n",
              "      <td>254.4</td>\n",
              "      <td>103</td>\n",
              "      <td>11.45</td>\n",
              "      <td>13.7</td>\n",
              "      <td>3</td>\n",
              "      <td>3.70</td>\n",
              "      <td>1</td>\n",
              "      <td>False</td>\n",
              "    </tr>\n",
              "    <tr>\n",
              "      <th>2</th>\n",
              "      <td>NJ</td>\n",
              "      <td>137</td>\n",
              "      <td>415</td>\n",
              "      <td>358-1921</td>\n",
              "      <td>no</td>\n",
              "      <td>no</td>\n",
              "      <td>0</td>\n",
              "      <td>243.4</td>\n",
              "      <td>114</td>\n",
              "      <td>41.38</td>\n",
              "      <td>121.2</td>\n",
              "      <td>110</td>\n",
              "      <td>10.30</td>\n",
              "      <td>162.6</td>\n",
              "      <td>104</td>\n",
              "      <td>7.32</td>\n",
              "      <td>12.2</td>\n",
              "      <td>5</td>\n",
              "      <td>3.29</td>\n",
              "      <td>0</td>\n",
              "      <td>False</td>\n",
              "    </tr>\n",
              "    <tr>\n",
              "      <th>3</th>\n",
              "      <td>OH</td>\n",
              "      <td>84</td>\n",
              "      <td>408</td>\n",
              "      <td>375-9999</td>\n",
              "      <td>yes</td>\n",
              "      <td>no</td>\n",
              "      <td>0</td>\n",
              "      <td>299.4</td>\n",
              "      <td>71</td>\n",
              "      <td>50.90</td>\n",
              "      <td>61.9</td>\n",
              "      <td>88</td>\n",
              "      <td>5.26</td>\n",
              "      <td>196.9</td>\n",
              "      <td>89</td>\n",
              "      <td>8.86</td>\n",
              "      <td>6.6</td>\n",
              "      <td>7</td>\n",
              "      <td>1.78</td>\n",
              "      <td>2</td>\n",
              "      <td>False</td>\n",
              "    </tr>\n",
              "    <tr>\n",
              "      <th>4</th>\n",
              "      <td>OK</td>\n",
              "      <td>75</td>\n",
              "      <td>415</td>\n",
              "      <td>330-6626</td>\n",
              "      <td>yes</td>\n",
              "      <td>no</td>\n",
              "      <td>0</td>\n",
              "      <td>166.7</td>\n",
              "      <td>113</td>\n",
              "      <td>28.34</td>\n",
              "      <td>148.3</td>\n",
              "      <td>122</td>\n",
              "      <td>12.61</td>\n",
              "      <td>186.9</td>\n",
              "      <td>121</td>\n",
              "      <td>8.41</td>\n",
              "      <td>10.1</td>\n",
              "      <td>3</td>\n",
              "      <td>2.73</td>\n",
              "      <td>3</td>\n",
              "      <td>False</td>\n",
              "    </tr>\n",
              "  </tbody>\n",
              "</table>\n",
              "</div>"
            ],
            "text/plain": [
              "  state  account length  area code phone number international plan  \\\n",
              "0    KS             128        415     382-4657                 no   \n",
              "1    OH             107        415     371-7191                 no   \n",
              "2    NJ             137        415     358-1921                 no   \n",
              "3    OH              84        408     375-9999                yes   \n",
              "4    OK              75        415     330-6626                yes   \n",
              "\n",
              "  voice mail plan  number vmail messages  total day minutes  total day calls  \\\n",
              "0             yes                     25              265.1              110   \n",
              "1             yes                     26              161.6              123   \n",
              "2              no                      0              243.4              114   \n",
              "3              no                      0              299.4               71   \n",
              "4              no                      0              166.7              113   \n",
              "\n",
              "   total day charge  total eve minutes  total eve calls  total eve charge  \\\n",
              "0             45.07              197.4               99             16.78   \n",
              "1             27.47              195.5              103             16.62   \n",
              "2             41.38              121.2              110             10.30   \n",
              "3             50.90               61.9               88              5.26   \n",
              "4             28.34              148.3              122             12.61   \n",
              "\n",
              "   total night minutes  total night calls  total night charge  \\\n",
              "0                244.7                 91               11.01   \n",
              "1                254.4                103               11.45   \n",
              "2                162.6                104                7.32   \n",
              "3                196.9                 89                8.86   \n",
              "4                186.9                121                8.41   \n",
              "\n",
              "   total intl minutes  total intl calls  total intl charge  \\\n",
              "0                10.0                 3               2.70   \n",
              "1                13.7                 3               3.70   \n",
              "2                12.2                 5               3.29   \n",
              "3                 6.6                 7               1.78   \n",
              "4                10.1                 3               2.73   \n",
              "\n",
              "   customer service calls  churn  \n",
              "0                       1  False  \n",
              "1                       1  False  \n",
              "2                       0  False  \n",
              "3                       2  False  \n",
              "4                       3  False  "
            ]
          },
          "metadata": {
            "tags": []
          },
          "execution_count": 136
        }
      ]
    },
    {
      "cell_type": "code",
      "metadata": {
        "colab": {
          "base_uri": "https://localhost:8080/",
          "height": 367
        },
        "id": "-bG-U9wHxBqU",
        "outputId": "8b94c455-39fb-4bb3-a3fa-1a8b74b4475e"
      },
      "source": [
        "# Bivariate Analysis chrun VS total night charge:\r\n",
        "chrun_yes = df.loc[df['churn'] == 1]['total night charge']\r\n",
        "chrun_No = df.loc[df['churn'] == 0]['total night charge']\r\n",
        "plt.figure(figsize=(7,5))\r\n",
        "plt.xlabel(\"total night charge\")\r\n",
        "plt.ylabel(\"chrun\")\r\n",
        "plt.title(\"chrun VS total night charge\")\r\n",
        "plt.hist([chrun_yes, chrun_No], rwidth=0.95, color=['green','red'],label=['chrun=Yes','chrun=No'])\r\n",
        "plt.legend()"
      ],
      "execution_count": 60,
      "outputs": [
        {
          "output_type": "execute_result",
          "data": {
            "text/plain": [
              "<matplotlib.legend.Legend at 0x7f3f62e9ea58>"
            ]
          },
          "metadata": {
            "tags": []
          },
          "execution_count": 60
        },
        {
          "output_type": "display_data",
          "data": {
            "image/png": "[encoded data removed]",
            "text/plain": [
              "<Figure size 504x360 with 1 Axes>"
            ]
          },
          "metadata": {
            "tags": []
          }
        }
      ]
    },
    {
      "cell_type": "code",
      "metadata": {
        "colab": {
          "base_uri": "https://localhost:8080/",
          "height": 367
        },
        "id": "cN-Tj3c4xBtJ",
        "outputId": "768f4515-7980-445b-f943-c48cc6b90e73"
      },
      "source": [
        "# Bivariate Analysis chrun VS total day calls per minite:\r\n",
        "chrun_yes = df.loc[df['churn'] == 1]['total day minutes']\r\n",
        "chrun_No = df.loc[df['churn'] == 0]['total day minutes']\r\n",
        "plt.figure(figsize=(7,5))\r\n",
        "plt.xlabel(\"total day minutes\")\r\n",
        "plt.ylabel(\"chrun\")\r\n",
        "plt.title(\"chrun VS total day calls per minite:\")\r\n",
        "plt.hist([chrun_yes, chrun_No], rwidth=0.95, color=['green','red'],label=['chrun=Yes','chrun=No'])\r\n",
        "plt.legend()"
      ],
      "execution_count": 61,
      "outputs": [
        {
          "output_type": "execute_result",
          "data": {
            "text/plain": [
              "<matplotlib.legend.Legend at 0x7f3f61c8cf28>"
            ]
          },
          "metadata": {
            "tags": []
          },
          "execution_count": 61
        },
        {
          "output_type": "display_data",
          "data": {
            "image/png": "[encoded data removed]",
            "text/plain": [
              "<Figure size 504x360 with 1 Axes>"
            ]
          },
          "metadata": {
            "tags": []
          }
        }
      ]
    },
    {
      "cell_type": "code",
      "metadata": {
        "colab": {
          "base_uri": "https://localhost:8080/",
          "height": 367
        },
        "id": "8_wJ6HvQxBv6",
        "outputId": "03c86163-7cf9-475c-9a52-2cfc2455ae14"
      },
      "source": [
        "# Bivariate Analysis chrun VS total day charge:\r\n",
        "chrun_yes = df.loc[df['churn'] == 1]['total day charge']\r\n",
        "chrun_No = df.loc[df['churn'] == 0]['total day charge']\r\n",
        "plt.figure(figsize=(7,5))\r\n",
        "plt.xlabel(\"total day charge\")\r\n",
        "plt.ylabel(\"chrun\")\r\n",
        "plt.title(\"chrun VS total day charge\")\r\n",
        "plt.hist([chrun_yes, chrun_No], rwidth=0.95, color=['green','red'],label=['chrun=Yes','chrun=No'])\r\n",
        "plt.legend()"
      ],
      "execution_count": 62,
      "outputs": [
        {
          "output_type": "execute_result",
          "data": {
            "text/plain": [
              "<matplotlib.legend.Legend at 0x7f3f5fd53518>"
            ]
          },
          "metadata": {
            "tags": []
          },
          "execution_count": 62
        },
        {
          "output_type": "display_data",
          "data": {
            "image/png": "[encoded data removed]",
            "text/plain": [
              "<Figure size 504x360 with 1 Axes>"
            ]
          },
          "metadata": {
            "tags": []
          }
        }
      ]
    },
    {
      "cell_type": "code",
      "metadata": {
        "colab": {
          "base_uri": "https://localhost:8080/",
          "height": 367
        },
        "id": "8LJtkos_xBzA",
        "outputId": "16111284-6ab4-4dd8-d349-8d13f6afcc5b"
      },
      "source": [
        "# Bivariate Analysis chrun VS total night calls in minute:\r\n",
        "chrun_yes = df.loc[df['churn'] == 1]['total night minutes']\r\n",
        "chrun_No = df.loc[df['churn'] == 0]['total night minutes']\r\n",
        "plt.figure(figsize=(7,5))\r\n",
        "plt.xlabel(\"total night minutes\")\r\n",
        "plt.ylabel(\"chrun\")\r\n",
        "plt.title(\"total night calls in minute\")\r\n",
        "plt.hist([chrun_yes, chrun_No], rwidth=0.95, color=['green','red'],label=['chrun=Yes','chrun=No'])\r\n",
        "plt.legend()"
      ],
      "execution_count": 63,
      "outputs": [
        {
          "output_type": "execute_result",
          "data": {
            "text/plain": [
              "<matplotlib.legend.Legend at 0x7f3f62e44a58>"
            ]
          },
          "metadata": {
            "tags": []
          },
          "execution_count": 63
        },
        {
          "output_type": "display_data",
          "data": {
            "image/png": "[encoded data removed]",
            "text/plain": [
              "<Figure size 504x360 with 1 Axes>"
            ]
          },
          "metadata": {
            "tags": []
          }
        }
      ]
    },
    {
      "cell_type": "code",
      "metadata": {
        "colab": {
          "base_uri": "https://localhost:8080/",
          "height": 367
        },
        "id": "VjO446qDWmwz",
        "outputId": "cd8291b6-1a2a-4853-e288-b2d8246b7c5d"
      },
      "source": [
        "# Bivariate Analysis chrun VS total intl charge per minute:\r\n",
        "chrun_yes = df.loc[df['churn'] == 1]['total intl charge']\r\n",
        "chrun_No = df.loc[df['churn'] == 0]['total intl charge']\r\n",
        "plt.figure(figsize=(7,5))\r\n",
        "plt.xlabel(\"total intl charge\")\r\n",
        "plt.ylabel(\"chrun\")\r\n",
        "plt.title(\"chrun VS total intl charge per minute\")\r\n",
        "plt.hist([chrun_yes, chrun_No], rwidth=0.95, color=['green','red'],label=['chrun=Yes','chrun=No'])\r\n",
        "plt.legend()"
      ],
      "execution_count": 137,
      "outputs": [
        {
          "output_type": "execute_result",
          "data": {
            "text/plain": [
              "<matplotlib.legend.Legend at 0x7f3f58a96cc0>"
            ]
          },
          "metadata": {
            "tags": []
          },
          "execution_count": 137
        },
        {
          "output_type": "display_data",
          "data": {
            "image/png": "[encoded data removed]",
            "text/plain": [
              "<Figure size 504x360 with 1 Axes>"
            ]
          },
          "metadata": {
            "tags": []
          }
        }
      ]
    },
    {
      "cell_type": "code",
      "metadata": {
        "colab": {
          "base_uri": "https://localhost:8080/",
          "height": 367
        },
        "id": "fJ-3JB5tWm1N",
        "outputId": "108ae562-df1a-4476-d259-bd89796384de"
      },
      "source": [
        "# Bivariate Analysis chrun VS total eve charge per minute:\r\n",
        "chrun_yes = df.loc[df['churn'] == 1]['total eve charge']\r\n",
        "chrun_No = df.loc[df['churn'] == 0]['total eve charge']\r\n",
        "plt.figure(figsize=(7,5))\r\n",
        "plt.xlabel(\"total eve charge\")\r\n",
        "plt.ylabel(\"chrun\")\r\n",
        "plt.title(\"chrun VS total eve charge per minute\")\r\n",
        "plt.hist([chrun_yes, chrun_No], rwidth=0.95, color=['green','red'],label=['chrun=Yes','chrun=No'])\r\n",
        "plt.legend()"
      ],
      "execution_count": 138,
      "outputs": [
        {
          "output_type": "execute_result",
          "data": {
            "text/plain": [
              "<matplotlib.legend.Legend at 0x7f3f58896fd0>"
            ]
          },
          "metadata": {
            "tags": []
          },
          "execution_count": 138
        },
        {
          "output_type": "display_data",
          "data": {
            "image/png": "[encoded data removed]",
            "text/plain": [
              "<Figure size 504x360 with 1 Axes>"
            ]
          },
          "metadata": {
            "tags": []
          }
        }
      ]
    },
    {
      "cell_type": "code",
      "metadata": {
        "colab": {
          "base_uri": "https://localhost:8080/",
          "height": 383
        },
        "id": "xG4NNlNWxB4K",
        "outputId": "b8b6281b-f447-497d-aa02-e2d2dad82180"
      },
      "source": [
        "#Bivariate Analysis:\r\n",
        "# Create a Volin Plot showing how total night charges relate to Churn:\r\n",
        "g = sns.factorplot(x=\"churn\", y = \"total night charge\",data = df, kind=\"violin\", palette = \"Pastel1\")"
      ],
      "execution_count": 68,
      "outputs": [
        {
          "output_type": "display_data",
          "data": {
            "image/png": "[encoded data removed]",
            "text/plain": [
              "<Figure size 360x360 with 1 Axes>"
            ]
          },
          "metadata": {
            "tags": []
          }
        }
      ]
    },
    {
      "cell_type": "code",
      "metadata": {
        "id": "4exvbXa_xCAb"
      },
      "source": [
        "#Dropping Phone and state column:\r\n",
        "df.drop(columns=['phone number','state'],axis=1,inplace=True)"
      ],
      "execution_count": 81,
      "outputs": []
    },
    {
      "cell_type": "code",
      "metadata": {
        "colab": {
          "base_uri": "https://localhost:8080/",
          "height": 708
        },
        "id": "m5mw4giDxCDA",
        "outputId": "12aaf99c-6c27-4a2b-b9d8-2c6ea09bc569"
      },
      "source": [
        "#Checking the coerelation:\r\n",
        "#how the different neumerical features are corelated to each other \r\n",
        "#Their strength of relationship\r\n",
        "#Their influence on target variable.\r\n",
        "f,ax=plt.subplots(figsize=(15,10))\r\n",
        "sns.heatmap(df.corr(),annot=True,fmt=\".1f\",linewidths=.2,cmap=\"Spectral\",ax=ax,linecolor=\"black\")\r\n",
        "plt.show()"
      ],
      "execution_count": 72,
      "outputs": [
        {
          "output_type": "display_data",
          "data": {
            "image/png": "[encoded data removed]",
            "text/plain": [
              "<Figure size 1080x720 with 2 Axes>"
            ]
          },
          "metadata": {
            "tags": []
          }
        }
      ]
    },
    {
      "cell_type": "code",
      "metadata": {
        "id": "nNesRU5rxCFg"
      },
      "source": [
        "#Here we can see that some of the features are highly corealted with each hence these both feature will act as same.\r\n",
        "# so as these features are highly corelated with each other they can behave as duplicate feature."
      ],
      "execution_count": 73,
      "outputs": []
    },
    {
      "cell_type": "code",
      "metadata": {
        "colab": {
          "base_uri": "https://localhost:8080/",
          "height": 628
        },
        "id": "q_E8HNskB5Pv",
        "outputId": "ca92efd1-8d59-48f2-dce9-2959a1bd7d9f"
      },
      "source": [
        "#corelation with target column:\r\n",
        "plt.figure(figsize=(10,8))\r\n",
        "df.drop('churn',axis=1).corrwith(df['churn']).plot(kind='bar',grid=True)\r\n",
        "plt.xticks(rotation='vertical')\r\n",
        "plt.title('corelation with target variable')"
      ],
      "execution_count": 75,
      "outputs": [
        {
          "output_type": "execute_result",
          "data": {
            "text/plain": [
              "Text(0.5, 1.0, 'corelation with target variable')"
            ]
          },
          "metadata": {
            "tags": []
          },
          "execution_count": 75
        },
        {
          "output_type": "display_data",
          "data": {
            "image/png": "[encoded data removed]",
            "text/plain": [
              "<Figure size 720x576 with 1 Axes>"
            ]
          },
          "metadata": {
            "tags": []
          }
        }
      ]
    },
    {
      "cell_type": "code",
      "metadata": {
        "colab": {
          "base_uri": "https://localhost:8080/",
          "height": 229
        },
        "id": "ZM6oaYBYsmTu",
        "outputId": "8a0cdd31-ffce-4971-e7d4-fa419f0ff8fd"
      },
      "source": [
        "#Using head function to read top 5 rows in dataset:\r\n",
        "df.head()"
      ],
      "execution_count": 82,
      "outputs": [
        {
          "output_type": "execute_result",
          "data": {
            "text/html": [
              "<div>\n",
              "<style scoped>\n",
              "    .dataframe tbody tr th:only-of-type {\n",
              "        vertical-align: middle;\n",
              "    }\n",
              "\n",
              "    .dataframe tbody tr th {\n",
              "        vertical-align: top;\n",
              "    }\n",
              "\n",
              "    .dataframe thead th {\n",
              "        text-align: right;\n",
              "    }\n",
              "</style>\n",
              "<table border=\"1\" class=\"dataframe\">\n",
              "  <thead>\n",
              "    <tr style=\"text-align: right;\">\n",
              "      <th></th>\n",
              "      <th>account length</th>\n",
              "      <th>area code</th>\n",
              "      <th>international plan</th>\n",
              "      <th>voice mail plan</th>\n",
              "      <th>number vmail messages</th>\n",
              "      <th>total day minutes</th>\n",
              "      <th>total day calls</th>\n",
              "      <th>total day charge</th>\n",
              "      <th>total eve minutes</th>\n",
              "      <th>total eve calls</th>\n",
              "      <th>total eve charge</th>\n",
              "      <th>total night minutes</th>\n",
              "      <th>total night calls</th>\n",
              "      <th>total night charge</th>\n",
              "      <th>total intl minutes</th>\n",
              "      <th>total intl calls</th>\n",
              "      <th>total intl charge</th>\n",
              "      <th>customer service calls</th>\n",
              "      <th>churn</th>\n",
              "    </tr>\n",
              "  </thead>\n",
              "  <tbody>\n",
              "    <tr>\n",
              "      <th>0</th>\n",
              "      <td>128</td>\n",
              "      <td>415</td>\n",
              "      <td>0</td>\n",
              "      <td>1</td>\n",
              "      <td>25</td>\n",
              "      <td>265.1</td>\n",
              "      <td>110</td>\n",
              "      <td>45.07</td>\n",
              "      <td>197.4</td>\n",
              "      <td>99</td>\n",
              "      <td>16.78</td>\n",
              "      <td>244.7</td>\n",
              "      <td>91</td>\n",
              "      <td>11.01</td>\n",
              "      <td>10.0</td>\n",
              "      <td>3</td>\n",
              "      <td>2.70</td>\n",
              "      <td>1</td>\n",
              "      <td>0</td>\n",
              "    </tr>\n",
              "    <tr>\n",
              "      <th>1</th>\n",
              "      <td>107</td>\n",
              "      <td>415</td>\n",
              "      <td>0</td>\n",
              "      <td>1</td>\n",
              "      <td>26</td>\n",
              "      <td>161.6</td>\n",
              "      <td>123</td>\n",
              "      <td>27.47</td>\n",
              "      <td>195.5</td>\n",
              "      <td>103</td>\n",
              "      <td>16.62</td>\n",
              "      <td>254.4</td>\n",
              "      <td>103</td>\n",
              "      <td>11.45</td>\n",
              "      <td>13.7</td>\n",
              "      <td>3</td>\n",
              "      <td>3.70</td>\n",
              "      <td>1</td>\n",
              "      <td>0</td>\n",
              "    </tr>\n",
              "    <tr>\n",
              "      <th>2</th>\n",
              "      <td>137</td>\n",
              "      <td>415</td>\n",
              "      <td>0</td>\n",
              "      <td>0</td>\n",
              "      <td>0</td>\n",
              "      <td>243.4</td>\n",
              "      <td>114</td>\n",
              "      <td>41.38</td>\n",
              "      <td>121.2</td>\n",
              "      <td>110</td>\n",
              "      <td>10.30</td>\n",
              "      <td>162.6</td>\n",
              "      <td>104</td>\n",
              "      <td>7.32</td>\n",
              "      <td>12.2</td>\n",
              "      <td>5</td>\n",
              "      <td>3.29</td>\n",
              "      <td>0</td>\n",
              "      <td>0</td>\n",
              "    </tr>\n",
              "    <tr>\n",
              "      <th>3</th>\n",
              "      <td>84</td>\n",
              "      <td>408</td>\n",
              "      <td>1</td>\n",
              "      <td>0</td>\n",
              "      <td>0</td>\n",
              "      <td>299.4</td>\n",
              "      <td>71</td>\n",
              "      <td>50.90</td>\n",
              "      <td>61.9</td>\n",
              "      <td>88</td>\n",
              "      <td>5.26</td>\n",
              "      <td>196.9</td>\n",
              "      <td>89</td>\n",
              "      <td>8.86</td>\n",
              "      <td>6.6</td>\n",
              "      <td>7</td>\n",
              "      <td>1.78</td>\n",
              "      <td>2</td>\n",
              "      <td>0</td>\n",
              "    </tr>\n",
              "    <tr>\n",
              "      <th>4</th>\n",
              "      <td>75</td>\n",
              "      <td>415</td>\n",
              "      <td>1</td>\n",
              "      <td>0</td>\n",
              "      <td>0</td>\n",
              "      <td>166.7</td>\n",
              "      <td>113</td>\n",
              "      <td>28.34</td>\n",
              "      <td>148.3</td>\n",
              "      <td>122</td>\n",
              "      <td>12.61</td>\n",
              "      <td>186.9</td>\n",
              "      <td>121</td>\n",
              "      <td>8.41</td>\n",
              "      <td>10.1</td>\n",
              "      <td>3</td>\n",
              "      <td>2.73</td>\n",
              "      <td>3</td>\n",
              "      <td>0</td>\n",
              "    </tr>\n",
              "  </tbody>\n",
              "</table>\n",
              "</div>"
            ],
            "text/plain": [
              "   account length  area code  international plan  voice mail plan  \\\n",
              "0             128        415                   0                1   \n",
              "1             107        415                   0                1   \n",
              "2             137        415                   0                0   \n",
              "3              84        408                   1                0   \n",
              "4              75        415                   1                0   \n",
              "\n",
              "   number vmail messages  total day minutes  total day calls  \\\n",
              "0                     25              265.1              110   \n",
              "1                     26              161.6              123   \n",
              "2                      0              243.4              114   \n",
              "3                      0              299.4               71   \n",
              "4                      0              166.7              113   \n",
              "\n",
              "   total day charge  total eve minutes  total eve calls  total eve charge  \\\n",
              "0             45.07              197.4               99             16.78   \n",
              "1             27.47              195.5              103             16.62   \n",
              "2             41.38              121.2              110             10.30   \n",
              "3             50.90               61.9               88              5.26   \n",
              "4             28.34              148.3              122             12.61   \n",
              "\n",
              "   total night minutes  total night calls  total night charge  \\\n",
              "0                244.7                 91               11.01   \n",
              "1                254.4                103               11.45   \n",
              "2                162.6                104                7.32   \n",
              "3                196.9                 89                8.86   \n",
              "4                186.9                121                8.41   \n",
              "\n",
              "   total intl minutes  total intl calls  total intl charge  \\\n",
              "0                10.0                 3               2.70   \n",
              "1                13.7                 3               3.70   \n",
              "2                12.2                 5               3.29   \n",
              "3                 6.6                 7               1.78   \n",
              "4                10.1                 3               2.73   \n",
              "\n",
              "   customer service calls  churn  \n",
              "0                       1      0  \n",
              "1                       1      0  \n",
              "2                       0      0  \n",
              "3                       2      0  \n",
              "4                       3      0  "
            ]
          },
          "metadata": {
            "tags": []
          },
          "execution_count": 82
        }
      ]
    },
    {
      "cell_type": "code",
      "metadata": {
        "colab": {
          "base_uri": "https://localhost:8080/",
          "height": 229
        },
        "id": "_rwLNWJrsmWl",
        "outputId": "3faa9dab-b17a-4328-ff5d-77beef347d43"
      },
      "source": [
        "#Using Min Max Scaler: Transform features by scaling each feature to a given range. This estimator scales and translates each feature individually such that it is in the given range on the training set e.g. between zero and one.\r\n",
        "from sklearn.preprocessing import MinMaxScaler\r\n",
        "scaler = MinMaxScaler() # default=(0, 1)\r\n",
        "numerical = ['number vmail messages','total day minutes','total day calls','total day charge','total eve minutes','total eve calls','total eve charge','total night minutes','total night calls','total night charge','total intl minutes','total intl calls','total intl charge']\r\n",
        "df_minmax_transform = pd.DataFrame(data = df)\r\n",
        "df_minmax_transform[numerical] = scaler.fit_transform(df_minmax_transform[numerical])\r\n",
        "df_minmax_transform.head()"
      ],
      "execution_count": 83,
      "outputs": [
        {
          "output_type": "execute_result",
          "data": {
            "text/html": [
              "<div>\n",
              "<style scoped>\n",
              "    .dataframe tbody tr th:only-of-type {\n",
              "        vertical-align: middle;\n",
              "    }\n",
              "\n",
              "    .dataframe tbody tr th {\n",
              "        vertical-align: top;\n",
              "    }\n",
              "\n",
              "    .dataframe thead th {\n",
              "        text-align: right;\n",
              "    }\n",
              "</style>\n",
              "<table border=\"1\" class=\"dataframe\">\n",
              "  <thead>\n",
              "    <tr style=\"text-align: right;\">\n",
              "      <th></th>\n",
              "      <th>account length</th>\n",
              "      <th>area code</th>\n",
              "      <th>international plan</th>\n",
              "      <th>voice mail plan</th>\n",
              "      <th>number vmail messages</th>\n",
              "      <th>total day minutes</th>\n",
              "      <th>total day calls</th>\n",
              "      <th>total day charge</th>\n",
              "      <th>total eve minutes</th>\n",
              "      <th>total eve calls</th>\n",
              "      <th>total eve charge</th>\n",
              "      <th>total night minutes</th>\n",
              "      <th>total night calls</th>\n",
              "      <th>total night charge</th>\n",
              "      <th>total intl minutes</th>\n",
              "      <th>total intl calls</th>\n",
              "      <th>total intl charge</th>\n",
              "      <th>customer service calls</th>\n",
              "      <th>churn</th>\n",
              "    </tr>\n",
              "  </thead>\n",
              "  <tbody>\n",
              "    <tr>\n",
              "      <th>0</th>\n",
              "      <td>128</td>\n",
              "      <td>415</td>\n",
              "      <td>0</td>\n",
              "      <td>1</td>\n",
              "      <td>0.490196</td>\n",
              "      <td>0.755701</td>\n",
              "      <td>0.666667</td>\n",
              "      <td>0.755701</td>\n",
              "      <td>0.542755</td>\n",
              "      <td>0.582353</td>\n",
              "      <td>0.542866</td>\n",
              "      <td>0.595750</td>\n",
              "      <td>0.408451</td>\n",
              "      <td>0.595935</td>\n",
              "      <td>0.500</td>\n",
              "      <td>0.15</td>\n",
              "      <td>0.500000</td>\n",
              "      <td>1</td>\n",
              "      <td>0</td>\n",
              "    </tr>\n",
              "    <tr>\n",
              "      <th>1</th>\n",
              "      <td>107</td>\n",
              "      <td>415</td>\n",
              "      <td>0</td>\n",
              "      <td>1</td>\n",
              "      <td>0.509804</td>\n",
              "      <td>0.460661</td>\n",
              "      <td>0.745455</td>\n",
              "      <td>0.460597</td>\n",
              "      <td>0.537531</td>\n",
              "      <td>0.605882</td>\n",
              "      <td>0.537690</td>\n",
              "      <td>0.621840</td>\n",
              "      <td>0.492958</td>\n",
              "      <td>0.622236</td>\n",
              "      <td>0.685</td>\n",
              "      <td>0.15</td>\n",
              "      <td>0.685185</td>\n",
              "      <td>1</td>\n",
              "      <td>0</td>\n",
              "    </tr>\n",
              "    <tr>\n",
              "      <th>2</th>\n",
              "      <td>137</td>\n",
              "      <td>415</td>\n",
              "      <td>0</td>\n",
              "      <td>0</td>\n",
              "      <td>0.000000</td>\n",
              "      <td>0.693843</td>\n",
              "      <td>0.690909</td>\n",
              "      <td>0.693830</td>\n",
              "      <td>0.333242</td>\n",
              "      <td>0.647059</td>\n",
              "      <td>0.333225</td>\n",
              "      <td>0.374933</td>\n",
              "      <td>0.500000</td>\n",
              "      <td>0.375374</td>\n",
              "      <td>0.610</td>\n",
              "      <td>0.25</td>\n",
              "      <td>0.609259</td>\n",
              "      <td>0</td>\n",
              "      <td>0</td>\n",
              "    </tr>\n",
              "    <tr>\n",
              "      <th>3</th>\n",
              "      <td>84</td>\n",
              "      <td>408</td>\n",
              "      <td>1</td>\n",
              "      <td>0</td>\n",
              "      <td>0.000000</td>\n",
              "      <td>0.853478</td>\n",
              "      <td>0.430303</td>\n",
              "      <td>0.853454</td>\n",
              "      <td>0.170195</td>\n",
              "      <td>0.517647</td>\n",
              "      <td>0.170171</td>\n",
              "      <td>0.467187</td>\n",
              "      <td>0.394366</td>\n",
              "      <td>0.467424</td>\n",
              "      <td>0.330</td>\n",
              "      <td>0.35</td>\n",
              "      <td>0.329630</td>\n",
              "      <td>2</td>\n",
              "      <td>0</td>\n",
              "    </tr>\n",
              "    <tr>\n",
              "      <th>4</th>\n",
              "      <td>75</td>\n",
              "      <td>415</td>\n",
              "      <td>1</td>\n",
              "      <td>0</td>\n",
              "      <td>0.000000</td>\n",
              "      <td>0.475200</td>\n",
              "      <td>0.684848</td>\n",
              "      <td>0.475184</td>\n",
              "      <td>0.407754</td>\n",
              "      <td>0.717647</td>\n",
              "      <td>0.407959</td>\n",
              "      <td>0.440290</td>\n",
              "      <td>0.619718</td>\n",
              "      <td>0.440526</td>\n",
              "      <td>0.505</td>\n",
              "      <td>0.15</td>\n",
              "      <td>0.505556</td>\n",
              "      <td>3</td>\n",
              "      <td>0</td>\n",
              "    </tr>\n",
              "  </tbody>\n",
              "</table>\n",
              "</div>"
            ],
            "text/plain": [
              "   account length  area code  international plan  voice mail plan  \\\n",
              "0             128        415                   0                1   \n",
              "1             107        415                   0                1   \n",
              "2             137        415                   0                0   \n",
              "3              84        408                   1                0   \n",
              "4              75        415                   1                0   \n",
              "\n",
              "   number vmail messages  total day minutes  total day calls  \\\n",
              "0               0.490196           0.755701         0.666667   \n",
              "1               0.509804           0.460661         0.745455   \n",
              "2               0.000000           0.693843         0.690909   \n",
              "3               0.000000           0.853478         0.430303   \n",
              "4               0.000000           0.475200         0.684848   \n",
              "\n",
              "   total day charge  total eve minutes  total eve calls  total eve charge  \\\n",
              "0          0.755701           0.542755         0.582353          0.542866   \n",
              "1          0.460597           0.537531         0.605882          0.537690   \n",
              "2          0.693830           0.333242         0.647059          0.333225   \n",
              "3          0.853454           0.170195         0.517647          0.170171   \n",
              "4          0.475184           0.407754         0.717647          0.407959   \n",
              "\n",
              "   total night minutes  total night calls  total night charge  \\\n",
              "0             0.595750           0.408451            0.595935   \n",
              "1             0.621840           0.492958            0.622236   \n",
              "2             0.374933           0.500000            0.375374   \n",
              "3             0.467187           0.394366            0.467424   \n",
              "4             0.440290           0.619718            0.440526   \n",
              "\n",
              "   total intl minutes  total intl calls  total intl charge  \\\n",
              "0               0.500              0.15           0.500000   \n",
              "1               0.685              0.15           0.685185   \n",
              "2               0.610              0.25           0.609259   \n",
              "3               0.330              0.35           0.329630   \n",
              "4               0.505              0.15           0.505556   \n",
              "\n",
              "   customer service calls  churn  \n",
              "0                       1      0  \n",
              "1                       1      0  \n",
              "2                       0      0  \n",
              "3                       2      0  \n",
              "4                       3      0  "
            ]
          },
          "metadata": {
            "tags": []
          },
          "execution_count": 83
        }
      ]
    },
    {
      "cell_type": "code",
      "metadata": {
        "colab": {
          "base_uri": "https://localhost:8080/"
        },
        "id": "2pkFVLCJsmb2",
        "outputId": "e58c8b56-1420-4a40-b76a-e389d6d361a0"
      },
      "source": [
        "#Checking for outliers\r\n",
        "#outlier is a data point that differs significantly from other observations. \r\n",
        "#Any datapoint greater than +3 Standard Deviations and -3 SD are called Outliers\r\n",
        "#Zscore is Automated method used to handle outliers.\r\n",
        "#Let check wheather any outliers are present or not and if yes lets normalize them:\r\n",
        "from scipy.stats import zscore\r\n",
        "zscore = abs(zscore(df))\r\n",
        "print(\"Before removal of outliers:\",df.shape)\r\n",
        "df_final = df.loc[(zscore<3).all(axis=1)]\r\n",
        "print(\"After removal of outliers:\",df_final.shape)"
      ],
      "execution_count": 84,
      "outputs": [
        {
          "output_type": "stream",
          "text": [
            "Before removal of outliers: (3333, 19)\n",
            "After removal of outliers: (2860, 19)\n"
          ],
          "name": "stdout"
        }
      ]
    },
    {
      "cell_type": "code",
      "metadata": {
        "colab": {
          "base_uri": "https://localhost:8080/"
        },
        "id": "xVsHpL2vr2M9",
        "outputId": "4574c5fe-494b-4cb2-9a7d-2c49b7293591"
      },
      "source": [
        "#Let Separate the input and output variable:\r\n",
        "#Let select input and output value:\r\n",
        "X = df_final.drop('churn',axis=1)\r\n",
        "y = df_final['churn']\r\n",
        "print('shape of X is {}'.format(X.shape))\r\n",
        "print('shape of y is {}'.format(y.shape))"
      ],
      "execution_count": 85,
      "outputs": [
        {
          "output_type": "stream",
          "text": [
            "shape of X is (2860, 18)\n",
            "shape of y is (2860,)\n"
          ],
          "name": "stdout"
        }
      ]
    },
    {
      "cell_type": "code",
      "metadata": {
        "id": "P36yTL6br2Sn"
      },
      "source": [
        "#Breaking the model into training and testing split:\r\n",
        "from sklearn.model_selection import train_test_split\r\n",
        "X_train, X_test, y_train, y_test = train_test_split(X,y,test_size=0.2,random_state=42)"
      ],
      "execution_count": 86,
      "outputs": []
    },
    {
      "cell_type": "code",
      "metadata": {
        "id": "Tq9_M5oBGf4R"
      },
      "source": [
        "#Checking the coerelation:\r\n",
        "#how the different neumerical features are corelated to each other \r\n",
        "#Their strength of relationship\r\n",
        "#Their influence on target variable.\r\n",
        "#From Above corelation digram we know some of the features are highly corelated lets normalize them:\r\n",
        "corrmat = X_train.corr()"
      ],
      "execution_count": 87,
      "outputs": []
    },
    {
      "cell_type": "code",
      "metadata": {
        "id": "yk_PXWWCEr1j"
      },
      "source": [
        "#Here we can see that some of the features are highly corealted with each hence these both feature will act as same.\r\n",
        "#so as these features are highly corelated with each other they can behave as duplicate feature.\r\n",
        "#Lets define a function and set a minimum threshold value to tackle the highly corelated feature:\r\n",
        "def get_corelations(data, threshold):\r\n",
        "    corr_col = set()  \r\n",
        "    corrmat = data.corr()\r\n",
        "    for i in range(len(corrmat.columns)):\r\n",
        "        for j in range(i):\r\n",
        "            if abs(corrmat.iloc[i, j]) > threshold:\r\n",
        "                colname = corrmat.columns[i]\r\n",
        "                corr_col.add(colname)\r\n",
        "    return corr_col"
      ],
      "execution_count": 88,
      "outputs": []
    },
    {
      "cell_type": "code",
      "metadata": {
        "colab": {
          "base_uri": "https://localhost:8080/"
        },
        "id": "50NMRWFFEr5X",
        "outputId": "e73161b7-78ed-4973-af70-20c302298fbe"
      },
      "source": [
        "corr_features = get_corelations(X_train, 0.85)\r\n",
        "len(set(corr_features))"
      ],
      "execution_count": 89,
      "outputs": [
        {
          "output_type": "execute_result",
          "data": {
            "text/plain": [
              "5"
            ]
          },
          "metadata": {
            "tags": []
          },
          "execution_count": 89
        }
      ]
    },
    {
      "cell_type": "code",
      "metadata": {
        "id": "1a12vNl5Er9L"
      },
      "source": [
        "#Dropping the highly corelated columns:\r\n",
        "X_train_uncorr = X_train.drop(labels=corr_features,axis=1)\r\n",
        "X_test_uncorr =  X_test.drop(labels=corr_features,axis=1)"
      ],
      "execution_count": 90,
      "outputs": []
    },
    {
      "cell_type": "code",
      "metadata": {
        "colab": {
          "base_uri": "https://localhost:8080/"
        },
        "id": "l4g4hhECEsAy",
        "outputId": "eced433f-7e0c-42d1-8be5-6ff976ff70d8"
      },
      "source": [
        "X_train_uncorr.shape, X_test_uncorr.shape"
      ],
      "execution_count": 91,
      "outputs": [
        {
          "output_type": "execute_result",
          "data": {
            "text/plain": [
              "((2288, 13), (572, 13))"
            ]
          },
          "metadata": {
            "tags": []
          },
          "execution_count": 91
        }
      ]
    },
    {
      "cell_type": "code",
      "metadata": {
        "id": "LwNtS4G5G6rL"
      },
      "source": [
        "#Redefining traing and testing data:\r\n",
        "X_train_uncorr, X_test_uncorr, y_train, y_test = train_test_split(X,y,test_size=0.2,random_state=42)"
      ],
      "execution_count": 92,
      "outputs": []
    },
    {
      "cell_type": "code",
      "metadata": {
        "id": "VziB7WAlG6vL"
      },
      "source": [
        "#Using StandardScaler to Preprocess the data:\r\n",
        "#StandardScaler is used to bring the datapoints to standard normal distribution where mean = 0 and SD(+-)1:\r\n",
        "from sklearn.preprocessing import StandardScaler\r\n",
        "scaler = StandardScaler()\r\n",
        "X = scaler.fit_transform(X)"
      ],
      "execution_count": 93,
      "outputs": []
    },
    {
      "cell_type": "code",
      "metadata": {
        "id": "mnSNPvmtG61r"
      },
      "source": [
        "from sklearn.linear_model import LogisticRegression\r\n",
        "from sklearn.svm import SVC\r\n",
        "from sklearn.neighbors import KNeighborsClassifier\r\n",
        "from sklearn.tree import DecisionTreeClassifier\r\n",
        "from sklearn.ensemble import RandomForestClassifier\r\n",
        "from sklearn.model_selection import cross_val_score\r\n",
        "from sklearn.model_selection import GridSearchCV\r\n",
        "#import metrics\r\n",
        "from sklearn.metrics import classification_report,confusion_matrix\r\n",
        "from sklearn.metrics import classification_report\r\n",
        "from sklearn.metrics import accuracy_score"
      ],
      "execution_count": 100,
      "outputs": []
    },
    {
      "cell_type": "code",
      "metadata": {
        "colab": {
          "base_uri": "https://localhost:8080/"
        },
        "id": "S1VdIMtnG64t",
        "outputId": "cb61b6fe-968b-499d-ceae-548c66f41666"
      },
      "source": [
        "model = [LogisticRegression(),SVC(),KNeighborsClassifier(),DecisionTreeClassifier(),RandomForestClassifier()]\r\n",
        "for m in model:\r\n",
        "    m.fit(X_train_uncorr,y_train)\r\n",
        "    print(\"Score of\",m, \"is:\",m.score(X_train_uncorr,y_train))\r\n",
        "    y_predict= m.predict(X_test_uncorr)\r\n",
        "    print(\"accuracy_score:\",accuracy_score(y_test,y_predict))\r\n",
        "    score = cross_val_score(m,X,y,cv=5,scoring='accuracy').mean()\r\n",
        "    print(\"Cross validation is\",np.mean(score)*100)\r\n",
        "    print(confusion_matrix(y_test,y_predict))\r\n",
        "    print(classification_report(y_test,y_predict))\r\n",
        "    print(confusion_matrix(y_test,y_predict))\r\n",
        "    print('******************************************************************')\r\n",
        "    print('\\n')"
      ],
      "execution_count": 98,
      "outputs": [
        {
          "output_type": "stream",
          "text": [
            "Score of LogisticRegression(C=1.0, class_weight=None, dual=False, fit_intercept=True,\n",
            "                   intercept_scaling=1, l1_ratio=None, max_iter=100,\n",
            "                   multi_class='auto', n_jobs=None, penalty='l2',\n",
            "                   random_state=None, solver='lbfgs', tol=0.0001, verbose=0,\n",
            "                   warm_start=False) is: 0.8994755244755245\n",
            "accuracy_score: 0.8951048951048951\n",
            "Cross validation is 89.89510489510491\n",
            "[[503   4]\n",
            " [ 56   9]]\n",
            "              precision    recall  f1-score   support\n",
            "\n",
            "           0       0.90      0.99      0.94       507\n",
            "           1       0.69      0.14      0.23        65\n",
            "\n",
            "    accuracy                           0.90       572\n",
            "   macro avg       0.80      0.57      0.59       572\n",
            "weighted avg       0.88      0.90      0.86       572\n",
            "\n",
            "[[503   4]\n",
            " [ 56   9]]\n",
            "******************************************************************\n",
            "\n",
            "\n",
            "Score of SVC(C=1.0, break_ties=False, cache_size=200, class_weight=None, coef0=0.0,\n",
            "    decision_function_shape='ovr', degree=3, gamma='scale', kernel='rbf',\n",
            "    max_iter=-1, probability=False, random_state=None, shrinking=True,\n",
            "    tol=0.001, verbose=False) is: 0.8911713286713286\n",
            "accuracy_score: 0.8863636363636364\n",
            "Cross validation is 93.46153846153847\n",
            "[[507   0]\n",
            " [ 65   0]]\n",
            "              precision    recall  f1-score   support\n",
            "\n",
            "           0       0.89      1.00      0.94       507\n",
            "           1       0.00      0.00      0.00        65\n",
            "\n",
            "    accuracy                           0.89       572\n",
            "   macro avg       0.44      0.50      0.47       572\n",
            "weighted avg       0.79      0.89      0.83       572\n",
            "\n",
            "[[507   0]\n",
            " [ 65   0]]\n",
            "******************************************************************\n",
            "\n",
            "\n",
            "Score of KNeighborsClassifier(algorithm='auto', leaf_size=30, metric='minkowski',\n",
            "                     metric_params=None, n_jobs=None, n_neighbors=5, p=2,\n",
            "                     weights='uniform') is: 0.9007867132867133\n",
            "accuracy_score: 0.8863636363636364\n",
            "Cross validation is 91.6083916083916\n",
            "[[502   5]\n",
            " [ 60   5]]\n",
            "              precision    recall  f1-score   support\n",
            "\n",
            "           0       0.89      0.99      0.94       507\n",
            "           1       0.50      0.08      0.13        65\n",
            "\n",
            "    accuracy                           0.89       572\n",
            "   macro avg       0.70      0.53      0.54       572\n",
            "weighted avg       0.85      0.89      0.85       572\n",
            "\n",
            "[[502   5]\n",
            " [ 60   5]]\n",
            "******************************************************************\n",
            "\n",
            "\n",
            "Score of DecisionTreeClassifier(ccp_alpha=0.0, class_weight=None, criterion='gini',\n",
            "                       max_depth=None, max_features=None, max_leaf_nodes=None,\n",
            "                       min_impurity_decrease=0.0, min_impurity_split=None,\n",
            "                       min_samples_leaf=1, min_samples_split=2,\n",
            "                       min_weight_fraction_leaf=0.0, presort='deprecated',\n",
            "                       random_state=None, splitter='best') is: 1.0\n",
            "accuracy_score: 0.9143356643356644\n",
            "Cross validation is 91.88811188811188\n",
            "[[485  22]\n",
            " [ 27  38]]\n",
            "              precision    recall  f1-score   support\n",
            "\n",
            "           0       0.95      0.96      0.95       507\n",
            "           1       0.63      0.58      0.61        65\n",
            "\n",
            "    accuracy                           0.91       572\n",
            "   macro avg       0.79      0.77      0.78       572\n",
            "weighted avg       0.91      0.91      0.91       572\n",
            "\n",
            "[[485  22]\n",
            " [ 27  38]]\n",
            "******************************************************************\n",
            "\n",
            "\n",
            "Score of RandomForestClassifier(bootstrap=True, ccp_alpha=0.0, class_weight=None,\n",
            "                       criterion='gini', max_depth=None, max_features='auto',\n",
            "                       max_leaf_nodes=None, max_samples=None,\n",
            "                       min_impurity_decrease=0.0, min_impurity_split=None,\n",
            "                       min_samples_leaf=1, min_samples_split=2,\n",
            "                       min_weight_fraction_leaf=0.0, n_estimators=100,\n",
            "                       n_jobs=None, oob_score=False, random_state=None,\n",
            "                       verbose=0, warm_start=False) is: 1.0\n",
            "accuracy_score: 0.9562937062937062\n",
            "Cross validation is 95.62937062937064\n",
            "[[504   3]\n",
            " [ 22  43]]\n",
            "              precision    recall  f1-score   support\n",
            "\n",
            "           0       0.96      0.99      0.98       507\n",
            "           1       0.93      0.66      0.77        65\n",
            "\n",
            "    accuracy                           0.96       572\n",
            "   macro avg       0.95      0.83      0.88       572\n",
            "weighted avg       0.96      0.96      0.95       572\n",
            "\n",
            "[[504   3]\n",
            " [ 22  43]]\n",
            "******************************************************************\n",
            "\n",
            "\n"
          ],
          "name": "stdout"
        }
      ]
    },
    {
      "cell_type": "code",
      "metadata": {
        "id": "-NdxfCdAG679"
      },
      "source": [
        "#It looks like the All Regression has a good accuracy score on the test set, but keep in mind this is just a single training/test split; we need to confirm this performance holds for other splits. In addition, we need to tune the regularization hyperparameter. \r\n",
        "#Fortunately, there's a way to tackle both at the same time without introducing additional bias"
      ],
      "execution_count": 99,
      "outputs": []
    },
    {
      "cell_type": "code",
      "metadata": {
        "id": "Trb-mWMCEsH6"
      },
      "source": [
        "#Lets try with Random Forest classifier and check the scores without adding any bias:"
      ],
      "execution_count": null,
      "outputs": []
    },
    {
      "cell_type": "code",
      "metadata": {
        "colab": {
          "base_uri": "https://localhost:8080/"
        },
        "id": "7xXJbmp0RqxK",
        "outputId": "81703f5d-8bfb-4103-e4d0-e14927e7dc28"
      },
      "source": [
        "from sklearn.ensemble import RandomForestClassifier\r\n",
        "classifier = RandomForestClassifier()\r\n",
        "classifier.fit(X_train_uncorr, y_train)"
      ],
      "execution_count": 117,
      "outputs": [
        {
          "output_type": "execute_result",
          "data": {
            "text/plain": [
              "RandomForestClassifier(bootstrap=True, ccp_alpha=0.0, class_weight=None,\n",
              "                       criterion='gini', max_depth=None, max_features='auto',\n",
              "                       max_leaf_nodes=None, max_samples=None,\n",
              "                       min_impurity_decrease=0.0, min_impurity_split=None,\n",
              "                       min_samples_leaf=1, min_samples_split=2,\n",
              "                       min_weight_fraction_leaf=0.0, n_estimators=100,\n",
              "                       n_jobs=None, oob_score=False, random_state=None,\n",
              "                       verbose=0, warm_start=False)"
            ]
          },
          "metadata": {
            "tags": []
          },
          "execution_count": 117
        }
      ]
    },
    {
      "cell_type": "code",
      "metadata": {
        "id": "ftUQDP59Rq0g"
      },
      "source": [
        "from sklearn.model_selection import RandomizedSearchCV\r\n",
        "from scipy.stats import randint\r\n",
        "from sklearn.model_selection import StratifiedShuffleSplit"
      ],
      "execution_count": 118,
      "outputs": []
    },
    {
      "cell_type": "code",
      "metadata": {
        "id": "M7wr77JfRq3r"
      },
      "source": [
        "# Create Hyperparametre tuning\r\n",
        "param_grid = {'max_depth':[3,5,10,None],'n_estimators':[10,100,200,300,400,500],'max_features':randint(1,3),'criterion':['gini','entropy'],'bootstrap':[True,False],'min_samples_leaf':randint(1,4)}"
      ],
      "execution_count": 120,
      "outputs": []
    },
    {
      "cell_type": "code",
      "metadata": {
        "colab": {
          "base_uri": "https://localhost:8080/"
        },
        "id": "ro1sJaaBSUZs",
        "outputId": "ade24b83-4002-4b43-ea03-b2fd5d39df71"
      },
      "source": [
        "random_grid = RandomizedSearchCV(classifier,param_distributions= param_grid,cv=StratifiedShuffleSplit(n_splits=10, test_size=0.2, random_state=42),scoring='f1',n_jobs=-1)\r\n",
        "random_grid.fit(X_train_uncorr,y_train)"
      ],
      "execution_count": 123,
      "outputs": [
        {
          "output_type": "execute_result",
          "data": {
            "text/plain": [
              "RandomizedSearchCV(cv=StratifiedShuffleSplit(n_splits=10, random_state=42, test_size=0.2,\n",
              "            train_size=None),\n",
              "                   error_score=nan,\n",
              "                   estimator=RandomForestClassifier(bootstrap=True,\n",
              "                                                    ccp_alpha=0.0,\n",
              "                                                    class_weight=None,\n",
              "                                                    criterion='gini',\n",
              "                                                    max_depth=None,\n",
              "                                                    max_features='auto',\n",
              "                                                    max_leaf_nodes=None,\n",
              "                                                    max_samples=None,\n",
              "                                                    min_impurity_decrease=0.0,\n",
              "                                                    min_impurity_split=None,\n",
              "                                                    min_samples...\n",
              "                                        'criterion': ['gini', 'entropy'],\n",
              "                                        'max_depth': [3, 5, 10, None],\n",
              "                                        'max_features': <scipy.stats._distn_infrastructure.rv_frozen object at 0x7f3f58accef0>,\n",
              "                                        'min_samples_leaf': <scipy.stats._distn_infrastructure.rv_frozen object at 0x7f3f58b56128>,\n",
              "                                        'n_estimators': [10, 100, 200, 300, 400,\n",
              "                                                         500]},\n",
              "                   pre_dispatch='2*n_jobs', random_state=None, refit=True,\n",
              "                   return_train_score=False, scoring='f1', verbose=0)"
            ]
          },
          "metadata": {
            "tags": []
          },
          "execution_count": 123
        }
      ]
    },
    {
      "cell_type": "code",
      "metadata": {
        "colab": {
          "base_uri": "https://localhost:8080/"
        },
        "id": "tzhIZbdRSUdQ",
        "outputId": "3833dd79-5d6c-4370-9bc0-0645a9c82068"
      },
      "source": [
        "#Fetching best parametre:\r\n",
        "random_grid.best_params_"
      ],
      "execution_count": 124,
      "outputs": [
        {
          "output_type": "execute_result",
          "data": {
            "text/plain": [
              "{'bootstrap': True,\n",
              " 'criterion': 'gini',\n",
              " 'max_depth': None,\n",
              " 'max_features': 2,\n",
              " 'min_samples_leaf': 1,\n",
              " 'n_estimators': 100}"
            ]
          },
          "metadata": {
            "tags": []
          },
          "execution_count": 124
        }
      ]
    },
    {
      "cell_type": "code",
      "metadata": {
        "colab": {
          "base_uri": "https://localhost:8080/",
          "height": 530
        },
        "id": "5bYbmNBWSUgZ",
        "outputId": "7e9a5726-6775-4dbb-f3ef-89e8beae13ab"
      },
      "source": [
        "classifier = RandomForestClassifier(bootstrap=True,criterion='gini',max_features=2,min_samples_leaf=1,n_estimators=100)\r\n",
        "classifier.fit(X_train_uncorr,y_train)\r\n",
        "y_predict= classifier.predict(X_test_uncorr)\r\n",
        "print(\"accuracy_score:\",accuracy_score(y_test,y_predict))\r\n",
        "print(confusion_matrix(y_test,y_predict))\r\n",
        "print(classification_report(y_test,y_predict))\r\n",
        "cm = confusion_matrix(y_test,y_predict)\r\n",
        "plt.figure(figsize=(5,5))\r\n",
        "sns.heatmap(cm, annot=True, annot_kws={\"size\":10}, cmap='Blues', square=True, fmt='.3f')\r\n",
        "plt.ylabel('True label')\r\n",
        "plt.xlabel('Predicted label')"
      ],
      "execution_count": 125,
      "outputs": [
        {
          "output_type": "stream",
          "text": [
            "accuracy_score: 0.9458041958041958\n",
            "[[505   2]\n",
            " [ 29  36]]\n",
            "              precision    recall  f1-score   support\n",
            "\n",
            "           0       0.95      1.00      0.97       507\n",
            "           1       0.95      0.55      0.70        65\n",
            "\n",
            "    accuracy                           0.95       572\n",
            "   macro avg       0.95      0.77      0.83       572\n",
            "weighted avg       0.95      0.95      0.94       572\n",
            "\n"
          ],
          "name": "stdout"
        },
        {
          "output_type": "execute_result",
          "data": {
            "text/plain": [
              "Text(0.5, 48.29999999999998, 'Predicted label')"
            ]
          },
          "metadata": {
            "tags": []
          },
          "execution_count": 125
        },
        {
          "output_type": "display_data",
          "data": {
            "image/png": "[encoded data removed]",
            "text/plain": [
              "<Figure size 360x360 with 2 Axes>"
            ]
          },
          "metadata": {
            "tags": []
          }
        }
      ]
    },
    {
      "cell_type": "code",
      "metadata": {
        "id": "RbJc8-DkSUjS"
      },
      "source": [
        "from sklearn.model_selection import cross_val_score\r\n",
        "scores = cross_val_score(classifier,X,y,cv=StratifiedShuffleSplit(n_splits=10, test_size=0.2, random_state=42),scoring='f1',n_jobs=-1)"
      ],
      "execution_count": 126,
      "outputs": []
    },
    {
      "cell_type": "code",
      "metadata": {
        "colab": {
          "base_uri": "https://localhost:8080/"
        },
        "id": "dHnkyDlhSUoE",
        "outputId": "36079667-f523-4df9-81e0-ed763dd6ec45"
      },
      "source": [
        "scores.mean()"
      ],
      "execution_count": 127,
      "outputs": [
        {
          "output_type": "execute_result",
          "data": {
            "text/plain": [
              "0.6214284691675005"
            ]
          },
          "metadata": {
            "tags": []
          },
          "execution_count": 127
        }
      ]
    },
    {
      "cell_type": "code",
      "metadata": {
        "id": "cB4NL90CRq6c"
      },
      "source": [
        "#Its our final model score performance:"
      ],
      "execution_count": null,
      "outputs": []
    },
    {
      "cell_type": "code",
      "metadata": {
        "colab": {
          "base_uri": "https://localhost:8080/",
          "height": 367
        },
        "id": "tz08b-20Rq9S",
        "outputId": "394eed7d-b5fb-48ab-f615-0a989ea0860a"
      },
      "source": [
        "#AUC and ROC Curve:\r\n",
        "from sklearn.metrics import roc_curve\r\n",
        "from sklearn.metrics import roc_auc_score\r\n",
        "y_pred_prob = classifier.predict_proba(X_test)[:,1]\r\n",
        "tpr,fpr,thresholds = roc_curve(y_test,y_pred_prob)\r\n",
        "plt.figure(figsize=(5,5))\r\n",
        "plt.plot([0,1],[0,1],'k--')\r\n",
        "plt.plot(tpr,fpr,label ='Random Forest classification')\r\n",
        "plt.xlabel('False positive Rate')\r\n",
        "plt.ylabel('True Positive Rate')\r\n",
        "plt.title('Random Forest clasiification')\r\n",
        "plt.show()\r\n",
        "\r\n",
        "auc_score = roc_auc_score(y_test,y_predict)\r\n",
        "print(auc_score)"
      ],
      "execution_count": 132,
      "outputs": [
        {
          "output_type": "display_data",
          "data": {
            "image/png": "[encoded data removed]",
            "text/plain": [
              "<Figure size 360x360 with 1 Axes>"
            ]
          },
          "metadata": {
            "tags": []
          }
        },
        {
          "output_type": "stream",
          "text": [
            "0.7749506903353057\n"
          ],
          "name": "stdout"
        }
      ]
    },
    {
      "cell_type": "code",
      "metadata": {
        "id": "Lh04M-yoUGuM"
      },
      "source": [
        "#Saving the best Model:\r\n",
        "import joblib\r\n",
        "joblib.dump(classifier,'classifier.obj')\r\n",
        "classifier_from_joblib = joblib.load('classifier.obj')"
      ],
      "execution_count": 134,
      "outputs": []
    }
  ]
}