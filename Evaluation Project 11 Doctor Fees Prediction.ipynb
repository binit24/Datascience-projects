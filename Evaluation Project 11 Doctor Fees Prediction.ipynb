{
 "cells": [
  {
   "cell_type": "markdown",
   "metadata": {},
   "source": [
    "# Doctor Price Predictions:"
   ]
  },
  {
   "cell_type": "code",
   "execution_count": 497,
   "metadata": {},
   "outputs": [],
   "source": [
    "#Importing Libraries.\n",
    "import pandas as pd\n",
    "import numpy as np\n",
    "import matplotlib.pyplot as plt\n",
    "import seaborn as sns\n",
    "import os\n",
    "#import warnings:\n",
    "import warnings\n",
    "warnings.filterwarnings('ignore')"
   ]
  },
  {
   "cell_type": "code",
   "execution_count": 498,
   "metadata": {},
   "outputs": [],
   "source": [
    "#Reading the Dataset:\n",
    "raw_data_csv = pd.read_excel('C:\\\\Users\\\\MI Laptop\\\\Downloads\\\\Final_Train.xlsx')"
   ]
  },
  {
   "cell_type": "code",
   "execution_count": 499,
   "metadata": {},
   "outputs": [
    {
     "data": {
      "text/plain": [
       "pandas.core.frame.DataFrame"
      ]
     },
     "execution_count": 499,
     "metadata": {},
     "output_type": "execute_result"
    }
   ],
   "source": [
    "type(raw_data_csv)"
   ]
  },
  {
   "cell_type": "code",
   "execution_count": 500,
   "metadata": {},
   "outputs": [
    {
     "data": {
      "text/html": [
       "<div>\n",
       "<style scoped>\n",
       "    .dataframe tbody tr th:only-of-type {\n",
       "        vertical-align: middle;\n",
       "    }\n",
       "\n",
       "    .dataframe tbody tr th {\n",
       "        vertical-align: top;\n",
       "    }\n",
       "\n",
       "    .dataframe thead th {\n",
       "        text-align: right;\n",
       "    }\n",
       "</style>\n",
       "<table border=\"1\" class=\"dataframe\">\n",
       "  <thead>\n",
       "    <tr style=\"text-align: right;\">\n",
       "      <th></th>\n",
       "      <th>Qualification</th>\n",
       "      <th>Experience</th>\n",
       "      <th>Rating</th>\n",
       "      <th>Place</th>\n",
       "      <th>Profile</th>\n",
       "      <th>Miscellaneous_Info</th>\n",
       "      <th>Fees</th>\n",
       "    </tr>\n",
       "  </thead>\n",
       "  <tbody>\n",
       "    <tr>\n",
       "      <th>0</th>\n",
       "      <td>BHMS, MD - Homeopathy</td>\n",
       "      <td>24 years experience</td>\n",
       "      <td>100%</td>\n",
       "      <td>Kakkanad, Ernakulam</td>\n",
       "      <td>Homeopath</td>\n",
       "      <td>100% 16 Feedback Kakkanad, Ernakulam</td>\n",
       "      <td>100</td>\n",
       "    </tr>\n",
       "    <tr>\n",
       "      <th>1</th>\n",
       "      <td>BAMS, MD - Ayurveda Medicine</td>\n",
       "      <td>12 years experience</td>\n",
       "      <td>98%</td>\n",
       "      <td>Whitefield, Bangalore</td>\n",
       "      <td>Ayurveda</td>\n",
       "      <td>98% 76 Feedback Whitefield, Bangalore</td>\n",
       "      <td>350</td>\n",
       "    </tr>\n",
       "    <tr>\n",
       "      <th>2</th>\n",
       "      <td>MBBS, MS - Otorhinolaryngology</td>\n",
       "      <td>9 years experience</td>\n",
       "      <td>NaN</td>\n",
       "      <td>Mathikere - BEL, Bangalore</td>\n",
       "      <td>ENT Specialist</td>\n",
       "      <td>NaN</td>\n",
       "      <td>300</td>\n",
       "    </tr>\n",
       "    <tr>\n",
       "      <th>3</th>\n",
       "      <td>BSc - Zoology, BAMS</td>\n",
       "      <td>12 years experience</td>\n",
       "      <td>NaN</td>\n",
       "      <td>Bannerghatta Road, Bangalore</td>\n",
       "      <td>Ayurveda</td>\n",
       "      <td>Bannerghatta Road, Bangalore ₹250 Available on...</td>\n",
       "      <td>250</td>\n",
       "    </tr>\n",
       "    <tr>\n",
       "      <th>4</th>\n",
       "      <td>BAMS</td>\n",
       "      <td>20 years experience</td>\n",
       "      <td>100%</td>\n",
       "      <td>Keelkattalai, Chennai</td>\n",
       "      <td>Ayurveda</td>\n",
       "      <td>100% 4 Feedback Keelkattalai, Chennai</td>\n",
       "      <td>250</td>\n",
       "    </tr>\n",
       "  </tbody>\n",
       "</table>\n",
       "</div>"
      ],
      "text/plain": [
       "                    Qualification           Experience Rating  \\\n",
       "0           BHMS, MD - Homeopathy  24 years experience   100%   \n",
       "1    BAMS, MD - Ayurveda Medicine  12 years experience    98%   \n",
       "2  MBBS, MS - Otorhinolaryngology   9 years experience    NaN   \n",
       "3             BSc - Zoology, BAMS  12 years experience    NaN   \n",
       "4                            BAMS  20 years experience   100%   \n",
       "\n",
       "                          Place         Profile  \\\n",
       "0           Kakkanad, Ernakulam       Homeopath   \n",
       "1         Whitefield, Bangalore        Ayurveda   \n",
       "2    Mathikere - BEL, Bangalore  ENT Specialist   \n",
       "3  Bannerghatta Road, Bangalore        Ayurveda   \n",
       "4         Keelkattalai, Chennai        Ayurveda   \n",
       "\n",
       "                                  Miscellaneous_Info  Fees  \n",
       "0               100% 16 Feedback Kakkanad, Ernakulam   100  \n",
       "1              98% 76 Feedback Whitefield, Bangalore   350  \n",
       "2                                                NaN   300  \n",
       "3  Bannerghatta Road, Bangalore ₹250 Available on...   250  \n",
       "4              100% 4 Feedback Keelkattalai, Chennai   250  "
      ]
     },
     "execution_count": 500,
     "metadata": {},
     "output_type": "execute_result"
    }
   ],
   "source": [
    "raw_data_csv.head()"
   ]
  },
  {
   "cell_type": "code",
   "execution_count": 501,
   "metadata": {},
   "outputs": [],
   "source": [
    "#Taking a copy of main dataset:\n",
    "df = raw_data_csv.copy()"
   ]
  },
  {
   "cell_type": "code",
   "execution_count": 502,
   "metadata": {},
   "outputs": [],
   "source": [
    "#using Pd.options display max columns to check entire rows and columns in dataset.\n",
    "pd.options.display.max_columns = None\n",
    "pd.options.display.max_rows = None"
   ]
  },
  {
   "cell_type": "code",
   "execution_count": 503,
   "metadata": {},
   "outputs": [
    {
     "data": {
      "text/html": [
       "<div>\n",
       "<style scoped>\n",
       "    .dataframe tbody tr th:only-of-type {\n",
       "        vertical-align: middle;\n",
       "    }\n",
       "\n",
       "    .dataframe tbody tr th {\n",
       "        vertical-align: top;\n",
       "    }\n",
       "\n",
       "    .dataframe thead th {\n",
       "        text-align: right;\n",
       "    }\n",
       "</style>\n",
       "<table border=\"1\" class=\"dataframe\">\n",
       "  <thead>\n",
       "    <tr style=\"text-align: right;\">\n",
       "      <th></th>\n",
       "      <th>Qualification</th>\n",
       "      <th>Experience</th>\n",
       "      <th>Rating</th>\n",
       "      <th>Place</th>\n",
       "      <th>Profile</th>\n",
       "      <th>Miscellaneous_Info</th>\n",
       "      <th>Fees</th>\n",
       "    </tr>\n",
       "  </thead>\n",
       "  <tbody>\n",
       "    <tr>\n",
       "      <th>0</th>\n",
       "      <td>BHMS, MD - Homeopathy</td>\n",
       "      <td>24 years experience</td>\n",
       "      <td>100%</td>\n",
       "      <td>Kakkanad, Ernakulam</td>\n",
       "      <td>Homeopath</td>\n",
       "      <td>100% 16 Feedback Kakkanad, Ernakulam</td>\n",
       "      <td>100</td>\n",
       "    </tr>\n",
       "    <tr>\n",
       "      <th>1</th>\n",
       "      <td>BAMS, MD - Ayurveda Medicine</td>\n",
       "      <td>12 years experience</td>\n",
       "      <td>98%</td>\n",
       "      <td>Whitefield, Bangalore</td>\n",
       "      <td>Ayurveda</td>\n",
       "      <td>98% 76 Feedback Whitefield, Bangalore</td>\n",
       "      <td>350</td>\n",
       "    </tr>\n",
       "    <tr>\n",
       "      <th>2</th>\n",
       "      <td>MBBS, MS - Otorhinolaryngology</td>\n",
       "      <td>9 years experience</td>\n",
       "      <td>NaN</td>\n",
       "      <td>Mathikere - BEL, Bangalore</td>\n",
       "      <td>ENT Specialist</td>\n",
       "      <td>NaN</td>\n",
       "      <td>300</td>\n",
       "    </tr>\n",
       "    <tr>\n",
       "      <th>3</th>\n",
       "      <td>BSc - Zoology, BAMS</td>\n",
       "      <td>12 years experience</td>\n",
       "      <td>NaN</td>\n",
       "      <td>Bannerghatta Road, Bangalore</td>\n",
       "      <td>Ayurveda</td>\n",
       "      <td>Bannerghatta Road, Bangalore ₹250 Available on...</td>\n",
       "      <td>250</td>\n",
       "    </tr>\n",
       "    <tr>\n",
       "      <th>4</th>\n",
       "      <td>BAMS</td>\n",
       "      <td>20 years experience</td>\n",
       "      <td>100%</td>\n",
       "      <td>Keelkattalai, Chennai</td>\n",
       "      <td>Ayurveda</td>\n",
       "      <td>100% 4 Feedback Keelkattalai, Chennai</td>\n",
       "      <td>250</td>\n",
       "    </tr>\n",
       "  </tbody>\n",
       "</table>\n",
       "</div>"
      ],
      "text/plain": [
       "                    Qualification           Experience Rating  \\\n",
       "0           BHMS, MD - Homeopathy  24 years experience   100%   \n",
       "1    BAMS, MD - Ayurveda Medicine  12 years experience    98%   \n",
       "2  MBBS, MS - Otorhinolaryngology   9 years experience    NaN   \n",
       "3             BSc - Zoology, BAMS  12 years experience    NaN   \n",
       "4                            BAMS  20 years experience   100%   \n",
       "\n",
       "                          Place         Profile  \\\n",
       "0           Kakkanad, Ernakulam       Homeopath   \n",
       "1         Whitefield, Bangalore        Ayurveda   \n",
       "2    Mathikere - BEL, Bangalore  ENT Specialist   \n",
       "3  Bannerghatta Road, Bangalore        Ayurveda   \n",
       "4         Keelkattalai, Chennai        Ayurveda   \n",
       "\n",
       "                                  Miscellaneous_Info  Fees  \n",
       "0               100% 16 Feedback Kakkanad, Ernakulam   100  \n",
       "1              98% 76 Feedback Whitefield, Bangalore   350  \n",
       "2                                                NaN   300  \n",
       "3  Bannerghatta Road, Bangalore ₹250 Available on...   250  \n",
       "4              100% 4 Feedback Keelkattalai, Chennai   250  "
      ]
     },
     "execution_count": 503,
     "metadata": {},
     "output_type": "execute_result"
    }
   ],
   "source": [
    "df.head()"
   ]
  },
  {
   "cell_type": "code",
   "execution_count": 504,
   "metadata": {},
   "outputs": [
    {
     "data": {
      "text/plain": [
       "(5961, 7)"
      ]
     },
     "execution_count": 504,
     "metadata": {},
     "output_type": "execute_result"
    }
   ],
   "source": [
    "#Lets Check the shape of dataset:\n",
    "df.shape"
   ]
  },
  {
   "cell_type": "code",
   "execution_count": 505,
   "metadata": {},
   "outputs": [
    {
     "data": {
      "text/plain": [
       "Qualification         object\n",
       "Experience            object\n",
       "Rating                object\n",
       "Place                 object\n",
       "Profile               object\n",
       "Miscellaneous_Info    object\n",
       "Fees                   int64\n",
       "dtype: object"
      ]
     },
     "execution_count": 505,
     "metadata": {},
     "output_type": "execute_result"
    }
   ],
   "source": [
    "#Lets Check the datatypes:\n",
    "df.dtypes"
   ]
  },
  {
   "cell_type": "code",
   "execution_count": 506,
   "metadata": {},
   "outputs": [
    {
     "name": "stdout",
     "output_type": "stream",
     "text": [
      "Categorical Columns: ['Qualification', 'Experience', 'Rating', 'Place', 'Profile', 'Miscellaneous_Info']\n"
     ]
    }
   ],
   "source": [
    "#Checking for categorical columns:\n",
    "cat_col = []\n",
    "for x in df.dtypes.index:\n",
    "    if df.dtypes[x] == 'object':\n",
    "        cat_col.append(x)\n",
    "print(\"Categorical Columns:\",cat_col)"
   ]
  },
  {
   "cell_type": "code",
   "execution_count": 507,
   "metadata": {},
   "outputs": [
    {
     "name": "stdout",
     "output_type": "stream",
     "text": [
      "Qualification: 1420\n",
      "Experience: 64\n",
      "Rating: 51\n",
      "Place: 877\n",
      "Profile 6\n"
     ]
    }
   ],
   "source": [
    "#Checking Unique value of different Features:\n",
    "print('Qualification:', df['Qualification'].nunique())\n",
    "print('Experience:', df['Experience'].nunique())\n",
    "print('Rating:', df['Rating'].nunique())\n",
    "print('Place:', df['Place'].nunique())\n",
    "print('Profile', df['Profile'].nunique())"
   ]
  },
  {
   "cell_type": "code",
   "execution_count": 508,
   "metadata": {},
   "outputs": [
    {
     "name": "stdout",
     "output_type": "stream",
     "text": [
      "Qualification            0\n",
      "Experience               0\n",
      "Rating                3302\n",
      "Place                   25\n",
      "Profile                  0\n",
      "Miscellaneous_Info    2620\n",
      "Fees                     0\n",
      "dtype: int64\n"
     ]
    },
    {
     "data": {
      "text/plain": [
       "<matplotlib.axes._subplots.AxesSubplot at 0x221d1e25610>"
      ]
     },
     "execution_count": 508,
     "metadata": {},
     "output_type": "execute_result"
    },
    {
     "data": {
      "image/png": "[encoded data removed]",
      "text/plain": [
       "<Figure size 432x288 with 2 Axes>"
      ]
     },
     "metadata": {
      "needs_background": "light"
     },
     "output_type": "display_data"
    }
   ],
   "source": [
    "#Checking for null values:\n",
    "print(df.isnull().sum())\n",
    "sns.heatmap(df.isnull())"
   ]
  },
  {
   "cell_type": "code",
   "execution_count": 509,
   "metadata": {},
   "outputs": [],
   "source": [
    "#Before removing the null values lets do some Data-Preprocessing:"
   ]
  },
  {
   "cell_type": "code",
   "execution_count": 510,
   "metadata": {},
   "outputs": [],
   "source": [
    "#Extracting the no from year of Experience:\n",
    "df['Experience'] = df['Experience'].str.replace(\"years experience\",'').astype('int')#Converting to int datatype\n",
    "#we have replaced Year of experience with blank value."
   ]
  },
  {
   "cell_type": "code",
   "execution_count": 511,
   "metadata": {},
   "outputs": [
    {
     "data": {
      "text/plain": [
       "0    24\n",
       "1    12\n",
       "2     9\n",
       "3    12\n",
       "4    20\n",
       "Name: Experience, dtype: int32"
      ]
     },
     "execution_count": 511,
     "metadata": {},
     "output_type": "execute_result"
    }
   ],
   "source": [
    "df['Experience'].head()"
   ]
  },
  {
   "cell_type": "code",
   "execution_count": 512,
   "metadata": {},
   "outputs": [],
   "source": [
    "#Removing the %Column from Rating and eventually filling up the null values with 0%:\n",
    "df['Rating'].fillna('0%',inplace = True) #Replacing the null values.\n",
    "df['Rating'] = df['Rating'].str.replace(\"%\",'').astype('int')\n",
    "#Replacing % with blank."
   ]
  },
  {
   "cell_type": "code",
   "execution_count": 513,
   "metadata": {},
   "outputs": [
    {
     "data": {
      "text/plain": [
       "0    100\n",
       "1     98\n",
       "2      0\n",
       "3      0\n",
       "4    100\n",
       "Name: Rating, dtype: int32"
      ]
     },
     "execution_count": 513,
     "metadata": {},
     "output_type": "execute_result"
    }
   ],
   "source": [
    "df['Rating'].head()"
   ]
  },
  {
   "cell_type": "code",
   "execution_count": 514,
   "metadata": {},
   "outputs": [],
   "source": [
    "#Extracting City and Area from Place Column:\n",
    "df['City'] = df['Place'].str.split(',',1).str.get(1)\n",
    "df['Area'] = df['Place'].str.split(',',1).str.get(0)"
   ]
  },
  {
   "cell_type": "code",
   "execution_count": 515,
   "metadata": {},
   "outputs": [],
   "source": [
    "#Dropping Place column:\n",
    "df.drop(columns='Place',axis=1,inplace=True)"
   ]
  },
  {
   "cell_type": "code",
   "execution_count": 516,
   "metadata": {},
   "outputs": [
    {
     "data": {
      "text/plain": [
       "Qualification            0\n",
       "Experience               0\n",
       "Rating                   0\n",
       "Profile                  0\n",
       "Miscellaneous_Info    2620\n",
       "Fees                     0\n",
       "City                    26\n",
       "Area                    25\n",
       "dtype: int64"
      ]
     },
     "execution_count": 516,
     "metadata": {},
     "output_type": "execute_result"
    }
   ],
   "source": [
    "#Cheking for null values Again:\n",
    "df.isnull().sum()"
   ]
  },
  {
   "cell_type": "code",
   "execution_count": 517,
   "metadata": {},
   "outputs": [],
   "source": [
    "#Filling up null values in City and Area Column:\n",
    "df['City'].fillna('unknown',inplace=True)\n",
    "df['Area'].fillna('unknown',inplace=True)\n",
    "#Here we replaced null values with unknown values:"
   ]
  },
  {
   "cell_type": "code",
   "execution_count": 518,
   "metadata": {},
   "outputs": [],
   "source": [
    "#Working With Miscellaneous_Info Column:\n",
    "#We are going to create new column that contain only Miscellaneous_Info:\n",
    "df['Has_M_info'] = (~df['Miscellaneous_Info'].isnull())\n",
    "df['Has_M_info'] = df['Has_M_info'].astype(int)"
   ]
  },
  {
   "cell_type": "code",
   "execution_count": 519,
   "metadata": {},
   "outputs": [
    {
     "data": {
      "text/plain": [
       "1    3341\n",
       "0    2620\n",
       "Name: Has_M_info, dtype: int64"
      ]
     },
     "execution_count": 519,
     "metadata": {},
     "output_type": "execute_result"
    }
   ],
   "source": [
    "df['Has_M_info'].value_counts()"
   ]
  },
  {
   "cell_type": "code",
   "execution_count": 520,
   "metadata": {},
   "outputs": [],
   "source": [
    "#Dropping Miscellaneous_Info Columns:\n",
    "df.drop(columns='Miscellaneous_Info',axis=1,inplace=True)"
   ]
  },
  {
   "cell_type": "code",
   "execution_count": 521,
   "metadata": {},
   "outputs": [
    {
     "name": "stdout",
     "output_type": "stream",
     "text": [
      "Qualification    0\n",
      "Experience       0\n",
      "Rating           0\n",
      "Profile          0\n",
      "Fees             0\n",
      "City             0\n",
      "Area             0\n",
      "Has_M_info       0\n",
      "dtype: int64\n"
     ]
    },
    {
     "data": {
      "text/plain": [
       "<matplotlib.axes._subplots.AxesSubplot at 0x221ce8accd0>"
      ]
     },
     "execution_count": 521,
     "metadata": {},
     "output_type": "execute_result"
    },
    {
     "data": {
      "image/png": "[encoded data removed]",
      "text/plain": [
       "<Figure size 432x288 with 2 Axes>"
      ]
     },
     "metadata": {
      "needs_background": "light"
     },
     "output_type": "display_data"
    }
   ],
   "source": [
    "# Final Checking for null values:\n",
    "print(df.isnull().sum())\n",
    "sns.heatmap(df.isnull(),cmap='summer')"
   ]
  },
  {
   "cell_type": "code",
   "execution_count": 522,
   "metadata": {},
   "outputs": [
    {
     "data": {
      "text/html": [
       "<div>\n",
       "<style scoped>\n",
       "    .dataframe tbody tr th:only-of-type {\n",
       "        vertical-align: middle;\n",
       "    }\n",
       "\n",
       "    .dataframe tbody tr th {\n",
       "        vertical-align: top;\n",
       "    }\n",
       "\n",
       "    .dataframe thead th {\n",
       "        text-align: right;\n",
       "    }\n",
       "</style>\n",
       "<table border=\"1\" class=\"dataframe\">\n",
       "  <thead>\n",
       "    <tr style=\"text-align: right;\">\n",
       "      <th></th>\n",
       "      <th>Qualification</th>\n",
       "      <th>Experience</th>\n",
       "      <th>Rating</th>\n",
       "      <th>Profile</th>\n",
       "      <th>Fees</th>\n",
       "      <th>City</th>\n",
       "      <th>Area</th>\n",
       "      <th>Has_M_info</th>\n",
       "    </tr>\n",
       "  </thead>\n",
       "  <tbody>\n",
       "    <tr>\n",
       "      <th>0</th>\n",
       "      <td>BHMS, MD - Homeopathy</td>\n",
       "      <td>24</td>\n",
       "      <td>100</td>\n",
       "      <td>Homeopath</td>\n",
       "      <td>100</td>\n",
       "      <td>Ernakulam</td>\n",
       "      <td>Kakkanad</td>\n",
       "      <td>1</td>\n",
       "    </tr>\n",
       "    <tr>\n",
       "      <th>1</th>\n",
       "      <td>BAMS, MD - Ayurveda Medicine</td>\n",
       "      <td>12</td>\n",
       "      <td>98</td>\n",
       "      <td>Ayurveda</td>\n",
       "      <td>350</td>\n",
       "      <td>Bangalore</td>\n",
       "      <td>Whitefield</td>\n",
       "      <td>1</td>\n",
       "    </tr>\n",
       "    <tr>\n",
       "      <th>2</th>\n",
       "      <td>MBBS, MS - Otorhinolaryngology</td>\n",
       "      <td>9</td>\n",
       "      <td>0</td>\n",
       "      <td>ENT Specialist</td>\n",
       "      <td>300</td>\n",
       "      <td>Bangalore</td>\n",
       "      <td>Mathikere - BEL</td>\n",
       "      <td>0</td>\n",
       "    </tr>\n",
       "    <tr>\n",
       "      <th>3</th>\n",
       "      <td>BSc - Zoology, BAMS</td>\n",
       "      <td>12</td>\n",
       "      <td>0</td>\n",
       "      <td>Ayurveda</td>\n",
       "      <td>250</td>\n",
       "      <td>Bangalore</td>\n",
       "      <td>Bannerghatta Road</td>\n",
       "      <td>1</td>\n",
       "    </tr>\n",
       "    <tr>\n",
       "      <th>4</th>\n",
       "      <td>BAMS</td>\n",
       "      <td>20</td>\n",
       "      <td>100</td>\n",
       "      <td>Ayurveda</td>\n",
       "      <td>250</td>\n",
       "      <td>Chennai</td>\n",
       "      <td>Keelkattalai</td>\n",
       "      <td>1</td>\n",
       "    </tr>\n",
       "  </tbody>\n",
       "</table>\n",
       "</div>"
      ],
      "text/plain": [
       "                    Qualification  Experience  Rating         Profile  Fees  \\\n",
       "0           BHMS, MD - Homeopathy          24     100       Homeopath   100   \n",
       "1    BAMS, MD - Ayurveda Medicine          12      98        Ayurveda   350   \n",
       "2  MBBS, MS - Otorhinolaryngology           9       0  ENT Specialist   300   \n",
       "3             BSc - Zoology, BAMS          12       0        Ayurveda   250   \n",
       "4                            BAMS          20     100        Ayurveda   250   \n",
       "\n",
       "         City               Area  Has_M_info  \n",
       "0   Ernakulam           Kakkanad           1  \n",
       "1   Bangalore         Whitefield           1  \n",
       "2   Bangalore    Mathikere - BEL           0  \n",
       "3   Bangalore  Bannerghatta Road           1  \n",
       "4     Chennai       Keelkattalai           1  "
      ]
     },
     "execution_count": 522,
     "metadata": {},
     "output_type": "execute_result"
    }
   ],
   "source": [
    "df.head()"
   ]
  },
  {
   "cell_type": "markdown",
   "metadata": {},
   "source": [
    "Exploratory Data Analysis\n",
    "\n",
    "1.Univarite Analysis\n",
    "\n",
    "2.Bivariate Analysis\n",
    "\n",
    "3.Mulvariate Analysis\n",
    "\n",
    "4.Here we check the relationship between different independant and dependant variable"
   ]
  },
  {
   "cell_type": "code",
   "execution_count": 523,
   "metadata": {},
   "outputs": [
    {
     "data": {
      "text/plain": [
       "Text(0.5, 1.0, 'Count of Fees')"
      ]
     },
     "execution_count": 523,
     "metadata": {},
     "output_type": "execute_result"
    },
    {
     "data": {
      "image/png": "[encoded data removed]",
      "text/plain": [
       "<Figure size 720x360 with 1 Axes>"
      ]
     },
     "metadata": {
      "needs_background": "light"
     },
     "output_type": "display_data"
    }
   ],
   "source": [
    "#Univariate Analysis:\n",
    "#Checking Count of Target Varibale:\n",
    "plt.figure(figsize=(10,5))\n",
    "plt.xticks(rotation=90)\n",
    "sns.countplot(df['Fees'].sort_values())\n",
    "plt.title('Count of Fees')"
   ]
  },
  {
   "cell_type": "code",
   "execution_count": 524,
   "metadata": {},
   "outputs": [
    {
     "data": {
      "text/plain": [
       "950"
      ]
     },
     "execution_count": 524,
     "metadata": {},
     "output_type": "execute_result"
    }
   ],
   "source": [
    "df['Fees'].max() #Checking Max Fees"
   ]
  },
  {
   "cell_type": "code",
   "execution_count": 525,
   "metadata": {},
   "outputs": [
    {
     "data": {
      "text/html": [
       "<div>\n",
       "<style scoped>\n",
       "    .dataframe tbody tr th:only-of-type {\n",
       "        vertical-align: middle;\n",
       "    }\n",
       "\n",
       "    .dataframe tbody tr th {\n",
       "        vertical-align: top;\n",
       "    }\n",
       "\n",
       "    .dataframe thead th {\n",
       "        text-align: right;\n",
       "    }\n",
       "</style>\n",
       "<table border=\"1\" class=\"dataframe\">\n",
       "  <thead>\n",
       "    <tr style=\"text-align: right;\">\n",
       "      <th></th>\n",
       "      <th>Qualification</th>\n",
       "      <th>Experience</th>\n",
       "      <th>Rating</th>\n",
       "      <th>Profile</th>\n",
       "      <th>Fees</th>\n",
       "      <th>City</th>\n",
       "      <th>Area</th>\n",
       "      <th>Has_M_info</th>\n",
       "    </tr>\n",
       "  </thead>\n",
       "  <tbody>\n",
       "    <tr>\n",
       "      <th>293</th>\n",
       "      <td>MBBS, MD - Internal Medicine, FRCP</td>\n",
       "      <td>29</td>\n",
       "      <td>100</td>\n",
       "      <td>General Medicine</td>\n",
       "      <td>950</td>\n",
       "      <td>Chennai</td>\n",
       "      <td>Adyar</td>\n",
       "      <td>1</td>\n",
       "    </tr>\n",
       "  </tbody>\n",
       "</table>\n",
       "</div>"
      ],
      "text/plain": [
       "                          Qualification  Experience  Rating           Profile  \\\n",
       "293  MBBS, MD - Internal Medicine, FRCP          29     100  General Medicine   \n",
       "\n",
       "     Fees      City   Area  Has_M_info  \n",
       "293   950   Chennai  Adyar           1  "
      ]
     },
     "execution_count": 525,
     "metadata": {},
     "output_type": "execute_result"
    }
   ],
   "source": [
    "df.loc[df['Fees'] == 950] #Checking the details of doctor"
   ]
  },
  {
   "cell_type": "code",
   "execution_count": 526,
   "metadata": {},
   "outputs": [],
   "source": [
    "#Highest Fees is 950 rupees and the doctor having 29 years of experience."
   ]
  },
  {
   "cell_type": "code",
   "execution_count": 527,
   "metadata": {},
   "outputs": [
    {
     "data": {
      "text/plain": [
       "Text(0.5, 1.0, 'Experience in years')"
      ]
     },
     "execution_count": 527,
     "metadata": {},
     "output_type": "execute_result"
    },
    {
     "data": {
      "image/png": "[encoded data removed]",
      "text/plain": [
       "<Figure size 1080x360 with 1 Axes>"
      ]
     },
     "metadata": {
      "needs_background": "light"
     },
     "output_type": "display_data"
    }
   ],
   "source": [
    "#Univariate Analysis:\n",
    "#Checking Count of Experience:\n",
    "plt.figure(figsize=(15,5))\n",
    "plt.xticks(rotation=90)\n",
    "sns.countplot(df['Experience'])\n",
    "plt.title('Experience in years')"
   ]
  },
  {
   "cell_type": "code",
   "execution_count": 528,
   "metadata": {},
   "outputs": [
    {
     "data": {
      "text/plain": [
       "66"
      ]
     },
     "execution_count": 528,
     "metadata": {},
     "output_type": "execute_result"
    }
   ],
   "source": [
    "df['Experience'].max() #Checking Max years of Experience."
   ]
  },
  {
   "cell_type": "code",
   "execution_count": 529,
   "metadata": {},
   "outputs": [
    {
     "data": {
      "text/html": [
       "<div>\n",
       "<style scoped>\n",
       "    .dataframe tbody tr th:only-of-type {\n",
       "        vertical-align: middle;\n",
       "    }\n",
       "\n",
       "    .dataframe tbody tr th {\n",
       "        vertical-align: top;\n",
       "    }\n",
       "\n",
       "    .dataframe thead th {\n",
       "        text-align: right;\n",
       "    }\n",
       "</style>\n",
       "<table border=\"1\" class=\"dataframe\">\n",
       "  <thead>\n",
       "    <tr style=\"text-align: right;\">\n",
       "      <th></th>\n",
       "      <th>Qualification</th>\n",
       "      <th>Experience</th>\n",
       "      <th>Rating</th>\n",
       "      <th>Profile</th>\n",
       "      <th>Fees</th>\n",
       "      <th>City</th>\n",
       "      <th>Area</th>\n",
       "      <th>Has_M_info</th>\n",
       "    </tr>\n",
       "  </thead>\n",
       "  <tbody>\n",
       "    <tr>\n",
       "      <th>372</th>\n",
       "      <td>MBBS, Diploma in Otorhinolaryngology (DLO)</td>\n",
       "      <td>66</td>\n",
       "      <td>0</td>\n",
       "      <td>ENT Specialist</td>\n",
       "      <td>100</td>\n",
       "      <td>Chennai</td>\n",
       "      <td>Greams Road</td>\n",
       "      <td>0</td>\n",
       "    </tr>\n",
       "  </tbody>\n",
       "</table>\n",
       "</div>"
      ],
      "text/plain": [
       "                                  Qualification  Experience  Rating  \\\n",
       "372  MBBS, Diploma in Otorhinolaryngology (DLO)          66       0   \n",
       "\n",
       "            Profile  Fees      City         Area  Has_M_info  \n",
       "372  ENT Specialist   100   Chennai  Greams Road           0  "
      ]
     },
     "execution_count": 529,
     "metadata": {},
     "output_type": "execute_result"
    }
   ],
   "source": [
    "df.loc[df['Experience'] == 66] #Checking the details of doctor"
   ]
  },
  {
   "cell_type": "code",
   "execution_count": 530,
   "metadata": {},
   "outputs": [
    {
     "data": {
      "image/png": "[encoded data removed]",
      "text/plain": [
       "<Figure size 720x360 with 1 Axes>"
      ]
     },
     "metadata": {
      "needs_background": "light"
     },
     "output_type": "display_data"
    }
   ],
   "source": [
    "#Univariate Analysis:\n",
    "#Checking Count of Profile:\n",
    "plt.figure(figsize=(10,5))\n",
    "plt.xticks(rotation=90)\n",
    "ax = sns.countplot(df['Profile'])\n",
    "plt.title('Count of profiles')\n",
    "for p in ax.patches:\n",
    "       ax.annotate(int(p.get_height()), (p.get_x()+0.25, p.get_height()+1), va='bottom',color= 'black')"
   ]
  },
  {
   "cell_type": "code",
   "execution_count": 531,
   "metadata": {},
   "outputs": [
    {
     "data": {
      "image/png": "[encoded data removed]",
      "text/plain": [
       "<Figure size 720x360 with 1 Axes>"
      ]
     },
     "metadata": {
      "needs_background": "light"
     },
     "output_type": "display_data"
    }
   ],
   "source": [
    "#Univariate Analysis:\n",
    "#Checking Count of City:\n",
    "plt.figure(figsize=(10,5))\n",
    "plt.xticks(rotation=90)\n",
    "ax = sns.countplot(df['City'])\n",
    "plt.title('Count of City')\n",
    "for p in ax.patches:\n",
    "       ax.annotate(int(p.get_height()), (p.get_x()+0.25, p.get_height()+1), va='bottom',color= 'black')"
   ]
  },
  {
   "cell_type": "code",
   "execution_count": 532,
   "metadata": {},
   "outputs": [
    {
     "data": {
      "text/plain": [
       "Text(0, 0.5, 'Fees')"
      ]
     },
     "execution_count": 532,
     "metadata": {},
     "output_type": "execute_result"
    },
    {
     "data": {
      "image/png": "[encoded data removed]",
      "text/plain": [
       "<Figure size 720x504 with 1 Axes>"
      ]
     },
     "metadata": {
      "needs_background": "light"
     },
     "output_type": "display_data"
    }
   ],
   "source": [
    "# Bivariate Analysis Linear regression with marginal distributions\n",
    "# Checking the relation Bewtween Experience and Fees:\n",
    "plt.figure(figsize=(10,7))\n",
    "sns.lineplot(x=\"Experience\", y=\"Fees\", data=df,color='red')\n",
    "plt.xlabel('Experience')\n",
    "plt.xticks(rotation=90)\n",
    "plt.title(\"Experience Vs Fees\")\n",
    "plt.ylabel('Fees')"
   ]
  },
  {
   "cell_type": "code",
   "execution_count": 533,
   "metadata": {},
   "outputs": [],
   "source": [
    "#Doctors having 30 to 40 years of experience are taking more fees.\n",
    "#Doctors having more than 50 years of experience are charging less fees.\n",
    "#We can conclude that the Fees of Doctor is increasing with increase in exp upto certain level afterwords its decreasing."
   ]
  },
  {
   "cell_type": "code",
   "execution_count": 534,
   "metadata": {},
   "outputs": [
    {
     "data": {
      "text/plain": [
       "Text(0, 0.5, 'Fees')"
      ]
     },
     "execution_count": 534,
     "metadata": {},
     "output_type": "execute_result"
    },
    {
     "data": {
      "image/png": "[encoded data removed]",
      "text/plain": [
       "<Figure size 720x504 with 1 Axes>"
      ]
     },
     "metadata": {
      "needs_background": "light"
     },
     "output_type": "display_data"
    }
   ],
   "source": [
    "# Bivariate Analysis Linear regression with marginal distributions\n",
    "# Checking the relation Bewtween Rating and Fees:\n",
    "plt.figure(figsize=(10,7))\n",
    "sns.lineplot(x=\"Rating\", y=\"Fees\", data=df,color='red')\n",
    "plt.xlabel('Rating')\n",
    "plt.xticks(rotation=90)\n",
    "plt.title(\"Rating Vs Fees\")\n",
    "plt.ylabel('Fees')"
   ]
  },
  {
   "cell_type": "code",
   "execution_count": 535,
   "metadata": {},
   "outputs": [],
   "source": [
    "#Most of the ratings are between 40% to 60 % with avegge fees of 750 to 800 rupees.\n",
    "#Rating are high for the Doctors those who are charging less fees."
   ]
  },
  {
   "cell_type": "code",
   "execution_count": 536,
   "metadata": {},
   "outputs": [
    {
     "data": {
      "text/plain": [
       "Text(-85.825, 0.5, 'City')"
      ]
     },
     "execution_count": 536,
     "metadata": {},
     "output_type": "execute_result"
    },
    {
     "data": {
      "image/png": "[encoded data removed]",
      "text/plain": [
       "<Figure size 720x360 with 1 Axes>"
      ]
     },
     "metadata": {
      "needs_background": "light"
     },
     "output_type": "display_data"
    }
   ],
   "source": [
    "# Bivariate Analysis Linear regression with marginal distributions\n",
    "# Checking the relation Bewtween City and Fees:\n",
    "sns.catplot(x=\"Fees\", y=\"City\", data=df.sort_values(\"City\"),kind='box',height=5,aspect= 2)\n",
    "plt.xlabel('Fees')\n",
    "plt.xticks(rotation=90)\n",
    "plt.title(\"City Vs Fees\")\n",
    "plt.ylabel('City')"
   ]
  },
  {
   "cell_type": "code",
   "execution_count": 537,
   "metadata": {},
   "outputs": [],
   "source": [
    "#Doctors from Bangalore and Chennai are charging more fees."
   ]
  },
  {
   "cell_type": "code",
   "execution_count": 538,
   "metadata": {},
   "outputs": [
    {
     "data": {
      "text/plain": [
       "Text(-64.7, 0.5, 'Profile')"
      ]
     },
     "execution_count": 538,
     "metadata": {},
     "output_type": "execute_result"
    },
    {
     "data": {
      "image/png": "[encoded data removed]",
      "text/plain": [
       "<Figure size 720x360 with 1 Axes>"
      ]
     },
     "metadata": {
      "needs_background": "light"
     },
     "output_type": "display_data"
    }
   ],
   "source": [
    "# Bivariate Analysis Linear regression with marginal distributions\n",
    "# Checking the relation Bewtween Profile and Fees:\n",
    "sns.catplot(x=\"Fees\", y=\"Profile\", data=df.sort_values(\"City\"),kind='box',height=5,aspect= 2)\n",
    "plt.xlabel('Fees')\n",
    "plt.xticks(rotation=90)\n",
    "plt.title(\"Profile Vs Fees\")\n",
    "plt.ylabel('Profile')"
   ]
  },
  {
   "cell_type": "code",
   "execution_count": 539,
   "metadata": {},
   "outputs": [],
   "source": [
    "#Genral Medicines Profile is more expensive than others.\n",
    "#Doctors from General Medicines Profile are charging more Fees."
   ]
  },
  {
   "cell_type": "markdown",
   "metadata": {},
   "source": [
    "Text Preprocessing: By Using TF-IDF"
   ]
  },
  {
   "cell_type": "code",
   "execution_count": 540,
   "metadata": {},
   "outputs": [
    {
     "data": {
      "text/plain": [
       "pandas.core.series.Series"
      ]
     },
     "execution_count": 540,
     "metadata": {},
     "output_type": "execute_result"
    }
   ],
   "source": [
    "#Lets workout with Qualification columns and preprocess the text data to neumeric:\n",
    "type(df['Qualification'])\n",
    "#Its in series format we have to convert it into Dataframe."
   ]
  },
  {
   "cell_type": "code",
   "execution_count": 541,
   "metadata": {},
   "outputs": [],
   "source": [
    "# Lets create a List Comprehension and merge it in Dataframe:\n",
    "x = pd.DataFrame(item for item in df['Qualification'].str.split(','))"
   ]
  },
  {
   "cell_type": "code",
   "execution_count": 542,
   "metadata": {},
   "outputs": [
    {
     "data": {
      "text/html": [
       "<div>\n",
       "<style scoped>\n",
       "    .dataframe tbody tr th:only-of-type {\n",
       "        vertical-align: middle;\n",
       "    }\n",
       "\n",
       "    .dataframe tbody tr th {\n",
       "        vertical-align: top;\n",
       "    }\n",
       "\n",
       "    .dataframe thead th {\n",
       "        text-align: right;\n",
       "    }\n",
       "</style>\n",
       "<table border=\"1\" class=\"dataframe\">\n",
       "  <thead>\n",
       "    <tr style=\"text-align: right;\">\n",
       "      <th></th>\n",
       "      <th>0</th>\n",
       "      <th>1</th>\n",
       "      <th>2</th>\n",
       "      <th>3</th>\n",
       "      <th>4</th>\n",
       "      <th>5</th>\n",
       "      <th>6</th>\n",
       "      <th>7</th>\n",
       "      <th>8</th>\n",
       "      <th>9</th>\n",
       "    </tr>\n",
       "  </thead>\n",
       "  <tbody>\n",
       "    <tr>\n",
       "      <th>0</th>\n",
       "      <td>BHMS</td>\n",
       "      <td>MD - Homeopathy</td>\n",
       "      <td>None</td>\n",
       "      <td>None</td>\n",
       "      <td>None</td>\n",
       "      <td>None</td>\n",
       "      <td>None</td>\n",
       "      <td>None</td>\n",
       "      <td>None</td>\n",
       "      <td>None</td>\n",
       "    </tr>\n",
       "    <tr>\n",
       "      <th>1</th>\n",
       "      <td>BAMS</td>\n",
       "      <td>MD - Ayurveda Medicine</td>\n",
       "      <td>None</td>\n",
       "      <td>None</td>\n",
       "      <td>None</td>\n",
       "      <td>None</td>\n",
       "      <td>None</td>\n",
       "      <td>None</td>\n",
       "      <td>None</td>\n",
       "      <td>None</td>\n",
       "    </tr>\n",
       "    <tr>\n",
       "      <th>2</th>\n",
       "      <td>MBBS</td>\n",
       "      <td>MS - Otorhinolaryngology</td>\n",
       "      <td>None</td>\n",
       "      <td>None</td>\n",
       "      <td>None</td>\n",
       "      <td>None</td>\n",
       "      <td>None</td>\n",
       "      <td>None</td>\n",
       "      <td>None</td>\n",
       "      <td>None</td>\n",
       "    </tr>\n",
       "    <tr>\n",
       "      <th>3</th>\n",
       "      <td>BSc - Zoology</td>\n",
       "      <td>BAMS</td>\n",
       "      <td>None</td>\n",
       "      <td>None</td>\n",
       "      <td>None</td>\n",
       "      <td>None</td>\n",
       "      <td>None</td>\n",
       "      <td>None</td>\n",
       "      <td>None</td>\n",
       "      <td>None</td>\n",
       "    </tr>\n",
       "    <tr>\n",
       "      <th>4</th>\n",
       "      <td>BAMS</td>\n",
       "      <td>None</td>\n",
       "      <td>None</td>\n",
       "      <td>None</td>\n",
       "      <td>None</td>\n",
       "      <td>None</td>\n",
       "      <td>None</td>\n",
       "      <td>None</td>\n",
       "      <td>None</td>\n",
       "      <td>None</td>\n",
       "    </tr>\n",
       "  </tbody>\n",
       "</table>\n",
       "</div>"
      ],
      "text/plain": [
       "               0                          1     2     3     4     5     6  \\\n",
       "0           BHMS            MD - Homeopathy  None  None  None  None  None   \n",
       "1           BAMS     MD - Ayurveda Medicine  None  None  None  None  None   \n",
       "2           MBBS   MS - Otorhinolaryngology  None  None  None  None  None   \n",
       "3  BSc - Zoology                       BAMS  None  None  None  None  None   \n",
       "4           BAMS                       None  None  None  None  None  None   \n",
       "\n",
       "      7     8     9  \n",
       "0  None  None  None  \n",
       "1  None  None  None  \n",
       "2  None  None  None  \n",
       "3  None  None  None  \n",
       "4  None  None  None  "
      ]
     },
     "execution_count": 542,
     "metadata": {},
     "output_type": "execute_result"
    }
   ],
   "source": [
    "x.head()"
   ]
  },
  {
   "cell_type": "code",
   "execution_count": 543,
   "metadata": {},
   "outputs": [
    {
     "data": {
      "text/plain": [
       "0       0\n",
       "1    1962\n",
       "2    4590\n",
       "3    5585\n",
       "4    5842\n",
       "5    5926\n",
       "6    5949\n",
       "7    5955\n",
       "8    5957\n",
       "9    5960\n",
       "dtype: int64"
      ]
     },
     "execution_count": 543,
     "metadata": {},
     "output_type": "execute_result"
    }
   ],
   "source": [
    "x.isnull().sum()"
   ]
  },
  {
   "cell_type": "code",
   "execution_count": 544,
   "metadata": {},
   "outputs": [],
   "source": [
    "#TF -IDF Term Frequency and Inverse Document Frequency:\n",
    "#TF $ IDF Main role is to find most significance word from the Documents.\n",
    "#TF: how frequently a term occour in Document.\n",
    "#IDF: the weight of rare words,the unique words that occour in corpus having high IDF Scores.\n",
    "\n",
    "#TF = (No of Times the term t occouring in the Document)/Total no of term in the Document.\n",
    "#IDF = log(Total no of Documents)/Number of Documents with term t in it.\n",
    "#TF-IDF = TF*IDF\n",
    "#IDF(t) = log1+n/1+df(t) + 1\n",
    "#where n is the total number of documents in the document set, and df(t) is the number of documents in the document set that contain term t"
   ]
  },
  {
   "cell_type": "code",
   "execution_count": 545,
   "metadata": {},
   "outputs": [],
   "source": [
    "from sklearn.feature_extraction.text import TfidfVectorizer\n",
    "vectorizer = TfidfVectorizer(analyzer='word')"
   ]
  },
  {
   "cell_type": "code",
   "execution_count": 546,
   "metadata": {},
   "outputs": [
    {
     "data": {
      "text/plain": [
       "TfidfVectorizer()"
      ]
     },
     "execution_count": 546,
     "metadata": {},
     "output_type": "execute_result"
    }
   ],
   "source": [
    "vectorizer.fit(df['Qualification'])"
   ]
  },
  {
   "cell_type": "code",
   "execution_count": 548,
   "metadata": {},
   "outputs": [
    {
     "data": {
      "text/plain": [
       "<5961x699 sparse matrix of type '<class 'numpy.float64'>'\n",
       "\twith 22663 stored elements in Compressed Sparse Row format>"
      ]
     },
     "execution_count": 548,
     "metadata": {},
     "output_type": "execute_result"
    }
   ],
   "source": [
    "x = vectorizer.transform(df['Qualification'])\n",
    "x"
   ]
  },
  {
   "cell_type": "code",
   "execution_count": 479,
   "metadata": {},
   "outputs": [
    {
     "name": "stdout",
     "output_type": "stream",
     "text": [
      "0.7305401448352161\n",
      "[0.06514611 0.0932571  0.08841786 0.09215534 0.06995137 0.04716524\n",
      " 0.04335796 0.0386357  0.0272682  0.02072663 0.0194236  0.01691483\n",
      " 0.01640639 0.0155553  0.01513253 0.01454731 0.01366462 0.01325776\n",
      " 0.01008353 0.00947277]\n"
     ]
    }
   ],
   "source": [
    "from sklearn.decomposition import TruncatedSVD\n",
    "svd = TruncatedSVD(n_components=20)\n",
    "svd.fit(x)\n",
    "print(svd.explained_variance_ratio_.sum())\n",
    "print(svd.explained_variance_ratio_)"
   ]
  },
  {
   "cell_type": "code",
   "execution_count": 480,
   "metadata": {},
   "outputs": [],
   "source": [
    "x = svd.transform(x)\n",
    "x = pd.DataFrame(x, columns=['svd_{}'.format(i) for i in range(20)])\n",
    "df = pd.concat((df, x), axis=1)"
   ]
  },
  {
   "cell_type": "code",
   "execution_count": 481,
   "metadata": {},
   "outputs": [],
   "source": [
    "df.drop(columns='Qualification',axis=1,inplace=True)"
   ]
  },
  {
   "cell_type": "code",
   "execution_count": 482,
   "metadata": {},
   "outputs": [],
   "source": [
    "# Handling the categorical Columns:\n",
    "df = pd.get_dummies(df,columns=[\"City\",\"Profile\"],prefix=[\"City\",\"Profile\"])"
   ]
  },
  {
   "cell_type": "code",
   "execution_count": 483,
   "metadata": {},
   "outputs": [],
   "source": [
    "#Dropping Area column:\n",
    "df.drop(columns='Area',axis=1,inplace=True)"
   ]
  },
  {
   "cell_type": "code",
   "execution_count": 484,
   "metadata": {},
   "outputs": [],
   "source": [
    "#Let Separate the input and output variable:\n",
    "#Let select input and output value:\n",
    "X = df.drop(\"Fees\",axis=1)\n",
    "y = df[\"Fees\"]"
   ]
  },
  {
   "cell_type": "code",
   "execution_count": 485,
   "metadata": {},
   "outputs": [],
   "source": [
    "# Encoding by using Ordinal Encoder:\n",
    "from sklearn.preprocessing import OrdinalEncoder\n",
    "enc = OrdinalEncoder()\n",
    "X = enc.fit_transform(X)\n",
    "X_train, X_test, y_train, y_test = train_test_split(X,y,test_size=0.2)"
   ]
  },
  {
   "cell_type": "code",
   "execution_count": 486,
   "metadata": {},
   "outputs": [],
   "source": [
    "# feature scaling\n",
    "scaler = StandardScaler()\n",
    "X_train = scaler.fit_transform(X_train)"
   ]
  },
  {
   "cell_type": "code",
   "execution_count": 487,
   "metadata": {},
   "outputs": [],
   "source": [
    "from sklearn.svm import SVR"
   ]
  },
  {
   "cell_type": "code",
   "execution_count": 488,
   "metadata": {},
   "outputs": [
    {
     "data": {
      "text/plain": [
       "SVR()"
      ]
     },
     "execution_count": 488,
     "metadata": {},
     "output_type": "execute_result"
    }
   ],
   "source": [
    "svr = SVR(gamma=\"scale\")\n",
    "svr.fit(scaler.transform(X_train),y_train)"
   ]
  },
  {
   "cell_type": "code",
   "execution_count": 489,
   "metadata": {},
   "outputs": [
    {
     "data": {
      "text/plain": [
       "0.7579231977092618"
      ]
     },
     "execution_count": 489,
     "metadata": {},
     "output_type": "execute_result"
    }
   ],
   "source": [
    "#Lets find RMSLE more specifically, 1-RMSLE.\n",
    "#Root Mean Squared Logarithmic Error (RMSLE)are the techniques to find out the difference between the actual value and predicted\n",
    "def score(y_pred,y):\n",
    "    y_pred = np.log(y_pred)\n",
    "    y = np.log(y)\n",
    "    return 1 - ((np.sum((y_pred-y)**2))/len(y))**1/2\n",
    "\n",
    "y_pred = svr.predict(scaler.transform(X_test))\n",
    "score(y_pred,y_test)"
   ]
  },
  {
   "cell_type": "code",
   "execution_count": 490,
   "metadata": {},
   "outputs": [
    {
     "data": {
      "text/plain": [
       "GridSearchCV(cv=5, estimator=SVR(), n_jobs=-1,\n",
       "             param_grid={'C': [0.1, 1, 10],\n",
       "                         'kernel': ['linear', 'rbf', 'poly']},\n",
       "             scoring='neg_mean_squared_error')"
      ]
     },
     "execution_count": 490,
     "metadata": {},
     "output_type": "execute_result"
    }
   ],
   "source": [
    "# Hyperparameter tunning To improve accuracy:\n",
    "from sklearn.model_selection import GridSearchCV\n",
    "parameters = {\"C\":[0.1,1,10],\"kernel\":[\"linear\",\"rbf\",\"poly\"]}\n",
    "reg = GridSearchCV(svr,param_grid=parameters,n_jobs=-1,scoring='neg_mean_squared_error',cv=5)\n",
    "reg.fit(X_train,y_train)"
   ]
  },
  {
   "cell_type": "code",
   "execution_count": 491,
   "metadata": {},
   "outputs": [
    {
     "data": {
      "text/plain": [
       "{'C': 10, 'kernel': 'rbf'}"
      ]
     },
     "execution_count": 491,
     "metadata": {},
     "output_type": "execute_result"
    }
   ],
   "source": [
    "reg.best_params_  #Fetching Best Parametre:"
   ]
  },
  {
   "cell_type": "code",
   "execution_count": 492,
   "metadata": {},
   "outputs": [
    {
     "data": {
      "text/plain": [
       "SVR(C=10)"
      ]
     },
     "execution_count": 492,
     "metadata": {},
     "output_type": "execute_result"
    }
   ],
   "source": [
    "#Fitting our Model with best parametre:\n",
    "svr = SVR(C=10,kernel='rbf')\n",
    "svr.fit(scaler.transform(X_train),y_train)"
   ]
  },
  {
   "cell_type": "code",
   "execution_count": 493,
   "metadata": {},
   "outputs": [
    {
     "data": {
      "text/plain": [
       "0.7726136097523125"
      ]
     },
     "execution_count": 493,
     "metadata": {},
     "output_type": "execute_result"
    }
   ],
   "source": [
    "#Defining our function for RMSLE:Root Mean Squared Logarithmic Error:\n",
    "def score(y_pred,y):\n",
    "    y_pred = np.log(y_pred)\n",
    "    y = np.log(y)\n",
    "    return 1 - ((np.sum((y_pred-y)**2))/len(y))**1/2\n",
    "\n",
    "y_pred = svr.predict(scaler.transform(X_test))\n",
    "score(y_pred,y_test)"
   ]
  },
  {
   "cell_type": "code",
   "execution_count": 494,
   "metadata": {},
   "outputs": [],
   "source": [
    "#We got a Score of RMSLE of 77% After hyperparametre Tuning Thats great."
   ]
  },
  {
   "cell_type": "code",
   "execution_count": null,
   "metadata": {},
   "outputs": [],
   "source": [
    "#Performing the opration for test data:\n",
    "\n",
    "#Importing Libraries.\n",
    "import pandas as pd\n",
    "import numpy as np\n",
    "import matplotlib.pyplot as plt\n",
    "import seaborn as sns\n",
    "import os\n",
    "#import warnings:\n",
    "import warnings\n",
    "warnings.filterwarnings('ignore')\n",
    "\n",
    "#Reading the Dataset:\n",
    "raw_data_csv = pd.read_excel('C:\\\\Users\\\\MI Laptop\\\\Downloads\\\\Final_Test.xlsx')\n",
    "\n",
    "type(raw_data_csv)\n",
    "\n",
    "raw_data_csv.head()\n",
    "\n",
    "#Taking a copy of main dataset:\n",
    "df = raw_data_csv.copy()\n",
    "\n",
    "#using Pd.options display max columns to check entire rows and columns in dataset.\n",
    "pd.options.display.max_columns = None\n",
    "pd.options.display.max_rows = None\n",
    "\n",
    "df.head()\n",
    "\n",
    "#Lets Check the shape of dataset:\n",
    "df.shape\n",
    "\n",
    "#Lets Check the datatypes:\n",
    "df.dtypes\n",
    "\n",
    "#Checking for categorical columns:\n",
    "cat_col = []\n",
    "for x in df.dtypes.index:\n",
    "    if df.dtypes[x] == 'object':\n",
    "        cat_col.append(x)\n",
    "print(\"Categorical Columns:\",cat_col)\n",
    "\n",
    "\n",
    "#Checking Unique value of different Features:\n",
    "print('Qualification:', df['Qualification'].nunique())\n",
    "print('Experience:', df['Experience'].nunique())\n",
    "print('Rating:', df['Rating'].nunique())\n",
    "print('Place:', df['Place'].nunique())\n",
    "print('Profile', df['Profile'].nunique())\n",
    "\n",
    "#Checking for null values:\n",
    "print(df.isnull().sum())\n",
    "sns.heatmap(df.isnull())\n",
    "\n",
    "#Before removing the null values lets do some Data-Preprocessing:\n",
    "\n",
    "#Extracting the no from year of Experience:\n",
    "df['Experience'] = df['Experience'].str.replace(\"years experience\",'').astype('int')#Converting to int datatype\n",
    "#we have replaced Year of experience with blank value.\n",
    "\n",
    "df['Experience'].head()\n",
    "\n",
    "#Removing the %Column from Rating and eventually filling up the null values with 0%:\n",
    "df['Rating'].fillna('0%',inplace = True) #Replacing the null values.\n",
    "df['Rating'] = df['Rating'].str.replace(\"%\",'').astype('int')\n",
    "#Replacing % with blank.\n",
    "\n",
    "df['Rating'].head()\n",
    "\n",
    "#Extracting City and Area from Place Column:\n",
    "df['City'] = df['Place'].str.split(',',1).str.get(1)\n",
    "df['Area'] = df['Place'].str.split(',',1).str.get(0)\n",
    "\n",
    "#Dropping Place column:\n",
    "df.drop(columns='Place',axis=1,inplace=True)\n",
    "\n",
    "#Cheking for null values Again:\n",
    "df.isnull().sum()\n",
    "\n",
    "#Filling up null values in City and Area Column:\n",
    "df['City'].fillna('unknown',inplace=True)\n",
    "df['Area'].fillna('unknown',inplace=True)\n",
    "#Here we replaced null values with unknown values:\n",
    "\n",
    "#Working With Miscellaneous_Info Column:\n",
    "#We are going to create new column that contain only Miscellaneous_Info:\n",
    "df['Has_M_info'] = (~df['Miscellaneous_Info'].isnull())\n",
    "df['Has_M_info'] = df['Has_M_info'].astype(int)\n",
    "\n",
    "df['Has_M_info'].value_counts()\n",
    "\n",
    "#Dropping Miscellaneous_Info Columns:\n",
    "df.drop(columns='Miscellaneous_Info',axis=1,inplace=True)\n",
    "\n",
    "# Final Checking for null values:\n",
    "print(df.isnull().sum())\n",
    "sns.heatmap(df.isnull(),cmap='summer')\n",
    "\n",
    "df.head()\n",
    "\n",
    "# Exploratory Data Analysis\n",
    "# \n",
    "# 1.Univarite Analysis\n",
    "# \n",
    "# 2.Bivariate Analysis\n",
    "# \n",
    "# 3.Mulvariate Analysis\n",
    "# \n",
    "# 4.Here we check the relationship between different independant and dependant variable\n",
    "\n",
    "#Univariate Analysis:\n",
    "#Checking Count of Target Varibale:\n",
    "plt.figure(figsize=(10,5))\n",
    "plt.xticks(rotation=90)\n",
    "sns.countplot(df['Fees'].sort_values())\n",
    "plt.title('Count of Fees')\n",
    "\n",
    "df['Fees'].max() #Checking Max Fees\n",
    "\n",
    "df.loc[df['Fees'] == 950] #Checking the details of doctor\n",
    "\n",
    "#Highest Fees is 950 rupees and the doctor having 29 years of experience.\n",
    "\n",
    "#Univariate Analysis:\n",
    "#Checking Count of Experience:\n",
    "plt.figure(figsize=(15,5))\n",
    "plt.xticks(rotation=90)\n",
    "sns.countplot(df['Experience'])\n",
    "plt.title('Experience in years')\n",
    "\n",
    "df['Experience'].max() #Checking Max years of Experience.\n",
    "\n",
    "df.loc[df['Experience'] == 66] #Checking the details of doctor\n",
    "\n",
    "#Univariate Analysis:\n",
    "#Checking Count of Profile:\n",
    "plt.figure(figsize=(10,5))\n",
    "plt.xticks(rotation=90)\n",
    "ax = sns.countplot(df['Profile'])\n",
    "plt.title('Count of profiles')\n",
    "for p in ax.patches:\n",
    "       ax.annotate(int(p.get_height()), (p.get_x()+0.25, p.get_height()+1), va='bottom',color= 'black')\n",
    "\n",
    "#Univariate Analysis:\n",
    "#Checking Count of City:\n",
    "plt.figure(figsize=(10,5))\n",
    "plt.xticks(rotation=90)\n",
    "ax = sns.countplot(df['City'])\n",
    "plt.title('Count of City')\n",
    "for p in ax.patches:\n",
    "       ax.annotate(int(p.get_height()), (p.get_x()+0.25, p.get_height()+1), va='bottom',color= 'black')\n",
    "\n",
    "# Bivariate Analysis Linear regression with marginal distributions\n",
    "# Checking the relation Bewtween Experience and Fees:\n",
    "plt.figure(figsize=(10,7))\n",
    "sns.lineplot(x=\"Experience\", y=\"Fees\", data=df,color='red')\n",
    "plt.xlabel('Experience')\n",
    "plt.xticks(rotation=90)\n",
    "plt.title(\"Experience Vs Fees\")\n",
    "plt.ylabel('Fees')\n",
    "\n",
    "#Doctors having 30 to 40 years of experience are taking more fees.\n",
    "#Doctors having more than 50 years of experience are charging less fees.\n",
    "#We can conclude that the Fees of Doctor is increasing with increase in exp upto certain level afterwords its decreasing.\n",
    "\n",
    "# Bivariate Analysis Linear regression with marginal distributions\n",
    "# Checking the relation Bewtween Rating and Fees:\n",
    "plt.figure(figsize=(10,7))\n",
    "sns.lineplot(x=\"Rating\", y=\"Fees\", data=df,color='red')\n",
    "plt.xlabel('Rating')\n",
    "plt.xticks(rotation=90)\n",
    "plt.title(\"Rating Vs Fees\")\n",
    "plt.ylabel('Fees')\n",
    "\n",
    "#Most of the ratings are between 40% to 60 % with avegge fees of 750 to 800 rupees.\n",
    "#Rating are high for the Doctors those who are charging less fees.\n",
    "\n",
    "# Bivariate Analysis Linear regression with marginal distributions\n",
    "# Checking the relation Bewtween City and Fees:\n",
    "sns.catplot(x=\"Fees\", y=\"City\", data=df.sort_values(\"City\"),kind='box',height=5,aspect= 2)\n",
    "plt.xlabel('Fees')\n",
    "plt.xticks(rotation=90)\n",
    "plt.title(\"City Vs Fees\")\n",
    "plt.ylabel('City')\n",
    "\n",
    "#Doctors from Bangalore and Chennai are charging more fees.\n",
    "\n",
    "# Bivariate Analysis Linear regression with marginal distributions\n",
    "# Checking the relation Bewtween Profile and Fees:\n",
    "sns.catplot(x=\"Fees\", y=\"Profile\", data=df.sort_values(\"City\"),kind='box',height=5,aspect= 2)\n",
    "plt.xlabel('Fees')\n",
    "plt.xticks(rotation=90)\n",
    "plt.title(\"Profile Vs Fees\")\n",
    "plt.ylabel('Profile')\n",
    "\n",
    "#Genral Medicines Profile is more expensive than others.\n",
    "#Doctors from General Medicines Profile are charging more Fees.\n",
    "\n",
    "# Text Preprocessing: By Using TF-IDF\n",
    "\n",
    "#Lets workout with Qualification columns and preprocess the text data to neumeric:\n",
    "type(df['Qualification'])\n",
    "#Its in series format we have to convert it into Dataframe.\n",
    "\n",
    "# Lets create a List Comprehension and merge it in Dataframe:\n",
    "x = pd.DataFrame(item for item in df['Qualification'].str.split(','))\n",
    "\n",
    "x.head()\n",
    "\n",
    "x.isnull().sum()\n",
    "\n",
    "#TF -IDF Term Frequency and Inverse Document Frequency:\n",
    "#TF $ IDF Main role is to find most significance word from the Documents.\n",
    "#TF: how frequently a term occour in Document.\n",
    "#IDF: the weight of rare words,the unique words that occour in corpus having high IDF Scores.\n",
    "\n",
    "#TF = (No of Times the term t occouring in the Document)/Total no of term in the Document.\n",
    "#IDF = log(Total no of Documents)/Number of Documents with term t in it.\n",
    "#TF-IDF = TF*IDF\n",
    "#IDF(t) = log1+n/1+df(t) + 1\n",
    "#where n is the total number of documents in the document set, and df(t) is the number of documents in the document set that contain term t\n",
    "\n",
    "from sklearn.feature_extraction.text import TfidfVectorizer\n",
    "vectorizer = TfidfVectorizer(analyzer='word')\n",
    "\n",
    "vectorizer.fit(df['Qualification'])\n",
    "\n",
    "x = vectorizer.transform(df['Qualification'])\n",
    "x\n",
    "\n",
    "from sklearn.decomposition import TruncatedSVD\n",
    "svd = TruncatedSVD(n_components=20)\n",
    "svd.fit(x)\n",
    "print(svd.explained_variance_ratio_.sum())\n",
    "print(svd.explained_variance_ratio_)\n",
    "\n",
    "x = svd.transform(x)\n",
    "x = pd.DataFrame(x, columns=['svd_{}'.format(i) for i in range(20)])\n",
    "df = pd.concat((df, x), axis=1)\n",
    "\n",
    "df.drop(columns='Qualification',axis=1,inplace=True)\n",
    "\n",
    "# Handling the categorical Columns:\n",
    "df = pd.get_dummies(df,columns=[\"City\",\"Profile\"],prefix=[\"City\",\"Profile\"])\n",
    "\n",
    "#Dropping Area column:\n",
    "df.drop(columns='Area',axis=1,inplace=True)\n"
   ]
  }
 ],
 "metadata": {
  "kernelspec": {
   "display_name": "Python 3",
   "language": "python",
   "name": "python3"
  },
  "language_info": {
   "codemirror_mode": {
    "name": "ipython",
    "version": 3
   },
   "file_extension": ".py",
   "mimetype": "text/x-python",
   "name": "python",
   "nbconvert_exporter": "python",
   "pygments_lexer": "ipython3",
   "version": "3.8.3"
  }
 },
 "nbformat": 4,
 "nbformat_minor": 4
}
