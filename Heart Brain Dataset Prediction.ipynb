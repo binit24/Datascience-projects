{
 "cells": [
  {
   "cell_type": "markdown",
   "metadata": {},
   "source": [
    "# Heart Brain Dataset"
   ]
  },
  {
   "cell_type": "markdown",
   "metadata": {},
   "source": [
    "# Importing Libraries"
   ]
  },
  {
   "cell_type": "code",
   "execution_count": 39,
   "metadata": {},
   "outputs": [],
   "source": [
    "import pandas as pd\n",
    "import numpy as np\n",
    "import seaborn as sns\n",
    "import matplotlib.pyplot as plt\n",
    "import warnings\n",
    "warnings.filterwarnings('ignore')\n",
    "from sklearn.metrics import mean_squared_error,mean_absolute_error\n",
    "from sklearn.model_selection import train_test_split\n",
    "from sklearn import linear_model\n",
    "from sklearn.metrics import r2_score"
   ]
  },
  {
   "cell_type": "markdown",
   "metadata": {},
   "source": [
    "# Reading the Dataset"
   ]
  },
  {
   "cell_type": "code",
   "execution_count": 40,
   "metadata": {},
   "outputs": [
    {
     "name": "stdout",
     "output_type": "stream",
     "text": [
      "(237, 4)\n"
     ]
    },
    {
     "data": {
      "text/html": [
       "<div>\n",
       "<style scoped>\n",
       "    .dataframe tbody tr th:only-of-type {\n",
       "        vertical-align: middle;\n",
       "    }\n",
       "\n",
       "    .dataframe tbody tr th {\n",
       "        vertical-align: top;\n",
       "    }\n",
       "\n",
       "    .dataframe thead th {\n",
       "        text-align: right;\n",
       "    }\n",
       "</style>\n",
       "<table border=\"1\" class=\"dataframe\">\n",
       "  <thead>\n",
       "    <tr style=\"text-align: right;\">\n",
       "      <th></th>\n",
       "      <th>Gender</th>\n",
       "      <th>Age Range</th>\n",
       "      <th>Head Size(cm^3)</th>\n",
       "      <th>Brain Weight(grams)</th>\n",
       "    </tr>\n",
       "  </thead>\n",
       "  <tbody>\n",
       "    <tr>\n",
       "      <th>0</th>\n",
       "      <td>1</td>\n",
       "      <td>1</td>\n",
       "      <td>4512</td>\n",
       "      <td>1530</td>\n",
       "    </tr>\n",
       "    <tr>\n",
       "      <th>1</th>\n",
       "      <td>1</td>\n",
       "      <td>1</td>\n",
       "      <td>3738</td>\n",
       "      <td>1297</td>\n",
       "    </tr>\n",
       "    <tr>\n",
       "      <th>2</th>\n",
       "      <td>1</td>\n",
       "      <td>1</td>\n",
       "      <td>4261</td>\n",
       "      <td>1335</td>\n",
       "    </tr>\n",
       "    <tr>\n",
       "      <th>3</th>\n",
       "      <td>1</td>\n",
       "      <td>1</td>\n",
       "      <td>3777</td>\n",
       "      <td>1282</td>\n",
       "    </tr>\n",
       "    <tr>\n",
       "      <th>4</th>\n",
       "      <td>1</td>\n",
       "      <td>1</td>\n",
       "      <td>4177</td>\n",
       "      <td>1590</td>\n",
       "    </tr>\n",
       "    <tr>\n",
       "      <th>5</th>\n",
       "      <td>1</td>\n",
       "      <td>1</td>\n",
       "      <td>3585</td>\n",
       "      <td>1300</td>\n",
       "    </tr>\n",
       "    <tr>\n",
       "      <th>6</th>\n",
       "      <td>1</td>\n",
       "      <td>1</td>\n",
       "      <td>3785</td>\n",
       "      <td>1400</td>\n",
       "    </tr>\n",
       "    <tr>\n",
       "      <th>7</th>\n",
       "      <td>1</td>\n",
       "      <td>1</td>\n",
       "      <td>3559</td>\n",
       "      <td>1255</td>\n",
       "    </tr>\n",
       "    <tr>\n",
       "      <th>8</th>\n",
       "      <td>1</td>\n",
       "      <td>1</td>\n",
       "      <td>3613</td>\n",
       "      <td>1355</td>\n",
       "    </tr>\n",
       "    <tr>\n",
       "      <th>9</th>\n",
       "      <td>1</td>\n",
       "      <td>1</td>\n",
       "      <td>3982</td>\n",
       "      <td>1375</td>\n",
       "    </tr>\n",
       "  </tbody>\n",
       "</table>\n",
       "</div>"
      ],
      "text/plain": [
       "   Gender  Age Range  Head Size(cm^3)  Brain Weight(grams)\n",
       "0       1          1             4512                 1530\n",
       "1       1          1             3738                 1297\n",
       "2       1          1             4261                 1335\n",
       "3       1          1             3777                 1282\n",
       "4       1          1             4177                 1590\n",
       "5       1          1             3585                 1300\n",
       "6       1          1             3785                 1400\n",
       "7       1          1             3559                 1255\n",
       "8       1          1             3613                 1355\n",
       "9       1          1             3982                 1375"
      ]
     },
     "execution_count": 40,
     "metadata": {},
     "output_type": "execute_result"
    }
   ],
   "source": [
    "df = pd.read_csv('heartbrain.csv')\n",
    "print(df.shape)\n",
    "df.head(10)"
   ]
  },
  {
   "cell_type": "code",
   "execution_count": 41,
   "metadata": {},
   "outputs": [
    {
     "data": {
      "text/plain": [
       "Gender                 int64\n",
       "Age Range              int64\n",
       "Head Size(cm^3)        int64\n",
       "Brain Weight(grams)    int64\n",
       "dtype: object"
      ]
     },
     "execution_count": 41,
     "metadata": {},
     "output_type": "execute_result"
    }
   ],
   "source": [
    "df.dtypes"
   ]
  },
  {
   "cell_type": "code",
   "execution_count": 42,
   "metadata": {},
   "outputs": [
    {
     "name": "stdout",
     "output_type": "stream",
     "text": [
      "[1 2]\n",
      "[1 2]\n"
     ]
    }
   ],
   "source": [
    "print(df['Gender'].unique())\n",
    "print(df['Age Range'].unique())"
   ]
  },
  {
   "cell_type": "markdown",
   "metadata": {},
   "source": [
    "# Checking for Null Values"
   ]
  },
  {
   "cell_type": "code",
   "execution_count": 43,
   "metadata": {},
   "outputs": [
    {
     "name": "stdout",
     "output_type": "stream",
     "text": [
      "Gender                 0\n",
      "Age Range              0\n",
      "Head Size(cm^3)        0\n",
      "Brain Weight(grams)    0\n",
      "dtype: int64\n"
     ]
    },
    {
     "data": {
      "text/plain": [
       "<matplotlib.axes._subplots.AxesSubplot at 0x2584dff8048>"
      ]
     },
     "execution_count": 43,
     "metadata": {},
     "output_type": "execute_result"
    },
    {
     "data": {
      "image/png": "[encoded data removed]",
      "text/plain": [
       "<Figure size 432x288 with 2 Axes>"
      ]
     },
     "metadata": {
      "needs_background": "light"
     },
     "output_type": "display_data"
    }
   ],
   "source": [
    "# Checking For null values\n",
    "print(df.isnull().sum())\n",
    "sns.heatmap(df.isnull(),annot=True)"
   ]
  },
  {
   "cell_type": "markdown",
   "metadata": {},
   "source": [
    "No Null Values are present"
   ]
  },
  {
   "cell_type": "markdown",
   "metadata": {},
   "source": [
    "# Lets Check for Outliers:"
   ]
  },
  {
   "cell_type": "code",
   "execution_count": 44,
   "metadata": {},
   "outputs": [
    {
     "data": {
      "text/html": [
       "<div>\n",
       "<style scoped>\n",
       "    .dataframe tbody tr th:only-of-type {\n",
       "        vertical-align: middle;\n",
       "    }\n",
       "\n",
       "    .dataframe tbody tr th {\n",
       "        vertical-align: top;\n",
       "    }\n",
       "\n",
       "    .dataframe thead th {\n",
       "        text-align: right;\n",
       "    }\n",
       "</style>\n",
       "<table border=\"1\" class=\"dataframe\">\n",
       "  <thead>\n",
       "    <tr style=\"text-align: right;\">\n",
       "      <th></th>\n",
       "      <th>Gender</th>\n",
       "      <th>Age Range</th>\n",
       "      <th>Head Size(cm^3)</th>\n",
       "      <th>Brain Weight(grams)</th>\n",
       "    </tr>\n",
       "  </thead>\n",
       "  <tbody>\n",
       "    <tr>\n",
       "      <th>count</th>\n",
       "      <td>237.000000</td>\n",
       "      <td>237.000000</td>\n",
       "      <td>237.000000</td>\n",
       "      <td>237.000000</td>\n",
       "    </tr>\n",
       "    <tr>\n",
       "      <th>mean</th>\n",
       "      <td>1.434599</td>\n",
       "      <td>1.535865</td>\n",
       "      <td>3633.991561</td>\n",
       "      <td>1282.873418</td>\n",
       "    </tr>\n",
       "    <tr>\n",
       "      <th>std</th>\n",
       "      <td>0.496753</td>\n",
       "      <td>0.499768</td>\n",
       "      <td>365.261422</td>\n",
       "      <td>120.340446</td>\n",
       "    </tr>\n",
       "    <tr>\n",
       "      <th>min</th>\n",
       "      <td>1.000000</td>\n",
       "      <td>1.000000</td>\n",
       "      <td>2720.000000</td>\n",
       "      <td>955.000000</td>\n",
       "    </tr>\n",
       "    <tr>\n",
       "      <th>25%</th>\n",
       "      <td>1.000000</td>\n",
       "      <td>1.000000</td>\n",
       "      <td>3389.000000</td>\n",
       "      <td>1207.000000</td>\n",
       "    </tr>\n",
       "    <tr>\n",
       "      <th>50%</th>\n",
       "      <td>1.000000</td>\n",
       "      <td>2.000000</td>\n",
       "      <td>3614.000000</td>\n",
       "      <td>1280.000000</td>\n",
       "    </tr>\n",
       "    <tr>\n",
       "      <th>75%</th>\n",
       "      <td>2.000000</td>\n",
       "      <td>2.000000</td>\n",
       "      <td>3876.000000</td>\n",
       "      <td>1350.000000</td>\n",
       "    </tr>\n",
       "    <tr>\n",
       "      <th>max</th>\n",
       "      <td>2.000000</td>\n",
       "      <td>2.000000</td>\n",
       "      <td>4747.000000</td>\n",
       "      <td>1635.000000</td>\n",
       "    </tr>\n",
       "  </tbody>\n",
       "</table>\n",
       "</div>"
      ],
      "text/plain": [
       "           Gender   Age Range  Head Size(cm^3)  Brain Weight(grams)\n",
       "count  237.000000  237.000000       237.000000           237.000000\n",
       "mean     1.434599    1.535865      3633.991561          1282.873418\n",
       "std      0.496753    0.499768       365.261422           120.340446\n",
       "min      1.000000    1.000000      2720.000000           955.000000\n",
       "25%      1.000000    1.000000      3389.000000          1207.000000\n",
       "50%      1.000000    2.000000      3614.000000          1280.000000\n",
       "75%      2.000000    2.000000      3876.000000          1350.000000\n",
       "max      2.000000    2.000000      4747.000000          1635.000000"
      ]
     },
     "execution_count": 44,
     "metadata": {},
     "output_type": "execute_result"
    }
   ],
   "source": [
    "df.describe()"
   ]
  },
  {
   "cell_type": "code",
   "execution_count": 46,
   "metadata": {},
   "outputs": [
    {
     "name": "stdout",
     "output_type": "stream",
     "text": [
      "(237, 4)\n",
      "(236, 4)\n"
     ]
    }
   ],
   "source": [
    "#Checking for outliers\n",
    "#outlier is a data point that differs significantly from other observations. \n",
    "#Any datapoint greater than +3 Standard Deviations and -3 SD are called Outliers\n",
    "#Zscore is Automated method used to handle outliers.\n",
    "#Let check wheather any outliers are present or not\n",
    "from scipy.stats import zscore\n",
    "zscore = abs(zscore(df))\n",
    "print(df.shape)\n",
    "df_final = df.loc[(zscore<3).all(axis=1)]\n",
    "print(df_final.shape)"
   ]
  },
  {
   "cell_type": "markdown",
   "metadata": {},
   "source": [
    "# Exploratory Data Analysis:\n",
    "    \n",
    "    1.Univariate Analysis.\n",
    "    \n",
    "    2.Bivariate Analysis.\n",
    "    \n",
    "    3.Multivariate Analysis"
   ]
  },
  {
   "cell_type": "code",
   "execution_count": 47,
   "metadata": {},
   "outputs": [
    {
     "data": {
      "image/png": "[encoded data removed]",
      "text/plain": [
       "<Figure size 432x288 with 1 Axes>"
      ]
     },
     "metadata": {
      "needs_background": "light"
     },
     "output_type": "display_data"
    }
   ],
   "source": [
    "# Impact of Head Size on Brain weight\n",
    "sns.lineplot(x=df['Head Size(cm^3)'],y=df['Brain Weight(grams)'],data=df)\n",
    "plt.title('Head Size VS Brain Weight(grams)')\n",
    "plt.show()"
   ]
  },
  {
   "cell_type": "code",
   "execution_count": 48,
   "metadata": {},
   "outputs": [
    {
     "data": {
      "image/png": "[encoded data removed]",
      "text/plain": [
       "<Figure size 432x288 with 1 Axes>"
      ]
     },
     "metadata": {
      "needs_background": "light"
     },
     "output_type": "display_data"
    }
   ],
   "source": [
    "# Bivariate Analysis:\n",
    "sns.barplot(x=df['Gender'],y=df['Brain Weight(grams)'],data=df)\n",
    "plt.title('Gender VS Brain Weight(grams)')\n",
    "plt.show()"
   ]
  },
  {
   "cell_type": "code",
   "execution_count": 49,
   "metadata": {},
   "outputs": [
    {
     "data": {
      "image/png": "[encoded data removed]",
      "text/plain": [
       "<Figure size 432x288 with 1 Axes>"
      ]
     },
     "metadata": {
      "needs_background": "light"
     },
     "output_type": "display_data"
    }
   ],
   "source": [
    "# Bivariate Analysis\n",
    "sns.barplot(x=df['Age Range'],y=df['Brain Weight(grams)'],data=df)\n",
    "plt.title('Age Range VS Brain Weight(grams)')\n",
    "plt.show()"
   ]
  },
  {
   "cell_type": "markdown",
   "metadata": {},
   "source": [
    "# Lets check the skewness"
   ]
  },
  {
   "cell_type": "code",
   "execution_count": 50,
   "metadata": {},
   "outputs": [
    {
     "data": {
      "image/png": "[encoded data removed]",
      "text/plain": [
       "<Figure size 432x288 with 1 Axes>"
      ]
     },
     "metadata": {
      "needs_background": "light"
     },
     "output_type": "display_data"
    }
   ],
   "source": [
    "#Lets draw the histogram\n",
    "plt.hist(x='Brain Weight(grams)',bins=10,data=df)\n",
    "plt.show()"
   ]
  },
  {
   "cell_type": "code",
   "execution_count": 51,
   "metadata": {},
   "outputs": [
    {
     "data": {
      "text/plain": [
       "Gender                 0.265554\n",
       "Age Range             -0.144748\n",
       "Head Size(cm^3)        0.238807\n",
       "Brain Weight(grams)    0.265478\n",
       "dtype: float64"
      ]
     },
     "execution_count": 51,
     "metadata": {},
     "output_type": "execute_result"
    }
   ],
   "source": [
    "df.skew()"
   ]
  },
  {
   "cell_type": "markdown",
   "metadata": {},
   "source": [
    "# Lets check the input and output variable:"
   ]
  },
  {
   "cell_type": "code",
   "execution_count": 52,
   "metadata": {},
   "outputs": [],
   "source": [
    "x = df[['Head Size(cm^3)']]\n",
    "y = df[['Brain Weight(grams)']]"
   ]
  },
  {
   "cell_type": "code",
   "execution_count": 53,
   "metadata": {},
   "outputs": [
    {
     "name": "stdout",
     "output_type": "stream",
     "text": [
      "(237, 1)\n",
      "(237, 1)\n"
     ]
    }
   ],
   "source": [
    "print(x.shape)\n",
    "print(y.shape)"
   ]
  },
  {
   "cell_type": "code",
   "execution_count": 54,
   "metadata": {},
   "outputs": [],
   "source": [
    "from sklearn.preprocessing import StandardScaler\n",
    "sc = StandardScaler()\n",
    "X = sc.fit_transform(x)"
   ]
  },
  {
   "cell_type": "code",
   "execution_count": 55,
   "metadata": {},
   "outputs": [],
   "source": [
    "# Training and Testing Split:\n",
    "X_train, X_test, y_train, y_test = train_test_split(X, y, test_size=0.2, random_state=42)"
   ]
  },
  {
   "cell_type": "code",
   "execution_count": 56,
   "metadata": {},
   "outputs": [],
   "source": [
    "def classify(regr,X,y):\n",
    "    max_r_score = 0\n",
    "    for r_state in range(42,101):\n",
    "        X_train, X_test, y_train, y_test = train_test_split(X, y, test_size=0.2, random_state=r_state)\n",
    "        regr.fit(X_train,y_train)\n",
    "        y_pred = regr.predict(X_test)\n",
    "        r2_scr = r2_score(y_test,y_pred)\n",
    "        print('r2_score corresponding to random state: ',r_state,\"is \",r2_scr)\n",
    "        if r2_scr>max_r_score:\n",
    "            max_r_score = r2_scr\n",
    "            final_r_state = r_state\n",
    "    print(\"max_r_score corresponding to:\",final_r_state,\"is\",max_r_score)\n",
    "    return final_r_state"
   ]
  },
  {
   "cell_type": "code",
   "execution_count": 57,
   "metadata": {},
   "outputs": [
    {
     "name": "stdout",
     "output_type": "stream",
     "text": [
      "r2_score corresponding to random state:  42 is  0.7149168473012075\n",
      "r2_score corresponding to random state:  43 is  0.6404165530671617\n",
      "r2_score corresponding to random state:  44 is  0.653010968876236\n",
      "r2_score corresponding to random state:  45 is  0.6939862623941999\n",
      "r2_score corresponding to random state:  46 is  0.5332650244375814\n",
      "r2_score corresponding to random state:  47 is  0.6201411206780885\n",
      "r2_score corresponding to random state:  48 is  0.6851449361873334\n",
      "r2_score corresponding to random state:  49 is  0.6433491336855989\n",
      "r2_score corresponding to random state:  50 is  0.7683161771318532\n",
      "r2_score corresponding to random state:  51 is  0.5935686929145347\n",
      "r2_score corresponding to random state:  52 is  0.6342022687682457\n",
      "r2_score corresponding to random state:  53 is  0.5909146568147448\n",
      "r2_score corresponding to random state:  54 is  0.6130331905389369\n",
      "r2_score corresponding to random state:  55 is  0.5884150240645216\n",
      "r2_score corresponding to random state:  56 is  0.7399588791116045\n",
      "r2_score corresponding to random state:  57 is  0.5071803243347979\n",
      "r2_score corresponding to random state:  58 is  0.6123621922042879\n",
      "r2_score corresponding to random state:  59 is  0.7318498972427991\n",
      "r2_score corresponding to random state:  60 is  0.670702983531536\n",
      "r2_score corresponding to random state:  61 is  0.6107719657611239\n",
      "r2_score corresponding to random state:  62 is  0.5886035640681522\n",
      "r2_score corresponding to random state:  63 is  0.6677040991373102\n",
      "r2_score corresponding to random state:  64 is  0.6296914854979072\n",
      "r2_score corresponding to random state:  65 is  0.71647493474892\n",
      "r2_score corresponding to random state:  66 is  0.6203738753194059\n",
      "r2_score corresponding to random state:  67 is  0.712612390279983\n",
      "r2_score corresponding to random state:  68 is  0.657656658919509\n",
      "r2_score corresponding to random state:  69 is  0.6703630883745614\n",
      "r2_score corresponding to random state:  70 is  0.5891175986445862\n",
      "r2_score corresponding to random state:  71 is  0.6417613976759238\n",
      "r2_score corresponding to random state:  72 is  0.5463136037595998\n",
      "r2_score corresponding to random state:  73 is  0.5045543063528727\n",
      "r2_score corresponding to random state:  74 is  0.6908546939589804\n",
      "r2_score corresponding to random state:  75 is  0.5839986897763758\n",
      "r2_score corresponding to random state:  76 is  0.5842914878403354\n",
      "r2_score corresponding to random state:  77 is  0.66166348734816\n",
      "r2_score corresponding to random state:  78 is  0.6473967116879223\n",
      "r2_score corresponding to random state:  79 is  0.7378058902454341\n",
      "r2_score corresponding to random state:  80 is  0.31163981871623503\n",
      "r2_score corresponding to random state:  81 is  0.6287492712541896\n",
      "r2_score corresponding to random state:  82 is  0.5498061635931804\n",
      "r2_score corresponding to random state:  83 is  0.7426892680367267\n",
      "r2_score corresponding to random state:  84 is  0.6841481547920669\n",
      "r2_score corresponding to random state:  85 is  0.6839611629631983\n",
      "r2_score corresponding to random state:  86 is  0.5705188355104969\n",
      "r2_score corresponding to random state:  87 is  0.5235044952071041\n",
      "r2_score corresponding to random state:  88 is  0.5212182362300138\n",
      "r2_score corresponding to random state:  89 is  0.6647722042837871\n",
      "r2_score corresponding to random state:  90 is  0.6925914283710493\n",
      "r2_score corresponding to random state:  91 is  0.7602597914098644\n",
      "r2_score corresponding to random state:  92 is  0.7279273279367926\n",
      "r2_score corresponding to random state:  93 is  0.6673454912138065\n",
      "r2_score corresponding to random state:  94 is  0.680198003060743\n",
      "r2_score corresponding to random state:  95 is  0.449616958785648\n",
      "r2_score corresponding to random state:  96 is  0.6854497779131984\n",
      "r2_score corresponding to random state:  97 is  0.5090577072170099\n",
      "r2_score corresponding to random state:  98 is  0.4944064453867718\n",
      "r2_score corresponding to random state:  99 is  0.531293315126045\n",
      "r2_score corresponding to random state:  100 is  0.6887976995086573\n",
      "max_r_score corresponding to: 50 is 0.7683161771318532\n"
     ]
    }
   ],
   "source": [
    "from sklearn.linear_model import LinearRegression\n",
    "lr = LinearRegression()\n",
    "r_state = classify(lr,X,y)"
   ]
  },
  {
   "cell_type": "code",
   "execution_count": 58,
   "metadata": {},
   "outputs": [
    {
     "name": "stdout",
     "output_type": "stream",
     "text": [
      "mean r2_score for Linear Regression: 0.4936984443261272\n",
      "standard deviation in r2_score for linear Regression: 0.1277355091299327\n"
     ]
    }
   ],
   "source": [
    "#Lets do cross Validation.\n",
    "from sklearn.model_selection import cross_val_score\n",
    "print(\"mean r2_score for Linear Regression:\",cross_val_score(lr,X,y,cv=5,scoring=\"r2\").mean())\n",
    "print(\"standard deviation in r2_score for linear Regression:\",cross_val_score(lr,X,y,cv=5,scoring=\"r2\").std())"
   ]
  },
  {
   "cell_type": "markdown",
   "metadata": {},
   "source": [
    " Lets try Lasso Regression:"
   ]
  },
  {
   "cell_type": "code",
   "execution_count": 59,
   "metadata": {},
   "outputs": [
    {
     "name": "stdout",
     "output_type": "stream",
     "text": [
      "r2_score corresponding to random state:  42 is  0.7144889028944099\n",
      "r2_score corresponding to random state:  43 is  0.6405455346310935\n",
      "r2_score corresponding to random state:  44 is  0.651482141082713\n",
      "r2_score corresponding to random state:  45 is  0.6940205832211771\n",
      "r2_score corresponding to random state:  46 is  0.5336407722657618\n",
      "r2_score corresponding to random state:  47 is  0.6188792123794971\n",
      "r2_score corresponding to random state:  48 is  0.6838742866394709\n",
      "r2_score corresponding to random state:  49 is  0.6435499930934203\n",
      "r2_score corresponding to random state:  50 is  0.7668230053462677\n",
      "r2_score corresponding to random state:  51 is  0.5930570273807617\n",
      "r2_score corresponding to random state:  52 is  0.6346688104602674\n",
      "r2_score corresponding to random state:  53 is  0.5902751900468339\n",
      "r2_score corresponding to random state:  54 is  0.6125810082675966\n",
      "r2_score corresponding to random state:  55 is  0.5896442015959302\n",
      "r2_score corresponding to random state:  56 is  0.7366479562977076\n",
      "r2_score corresponding to random state:  57 is  0.5132444171213133\n",
      "r2_score corresponding to random state:  58 is  0.6106647403961009\n",
      "r2_score corresponding to random state:  59 is  0.732356016460585\n",
      "r2_score corresponding to random state:  60 is  0.6698494674243536\n",
      "r2_score corresponding to random state:  61 is  0.6082030230929123\n",
      "r2_score corresponding to random state:  62 is  0.588158792947915\n",
      "r2_score corresponding to random state:  63 is  0.6664295397517055\n",
      "r2_score corresponding to random state:  64 is  0.6283821564840695\n",
      "r2_score corresponding to random state:  65 is  0.7180896151608398\n",
      "r2_score corresponding to random state:  66 is  0.6196378397262443\n",
      "r2_score corresponding to random state:  67 is  0.7124409609673956\n",
      "r2_score corresponding to random state:  68 is  0.6585114601964134\n",
      "r2_score corresponding to random state:  69 is  0.6697810041728824\n",
      "r2_score corresponding to random state:  70 is  0.5911248860759828\n",
      "r2_score corresponding to random state:  71 is  0.6409403498727764\n",
      "r2_score corresponding to random state:  72 is  0.5468054715180581\n",
      "r2_score corresponding to random state:  73 is  0.5071723696852597\n",
      "r2_score corresponding to random state:  74 is  0.69141136303082\n",
      "r2_score corresponding to random state:  75 is  0.5849887624754841\n",
      "r2_score corresponding to random state:  76 is  0.5878704240868762\n",
      "r2_score corresponding to random state:  77 is  0.6632481051145335\n",
      "r2_score corresponding to random state:  78 is  0.6459538271412415\n",
      "r2_score corresponding to random state:  79 is  0.7379027523192283\n",
      "r2_score corresponding to random state:  80 is  0.316225411465777\n",
      "r2_score corresponding to random state:  81 is  0.6286258368433386\n",
      "r2_score corresponding to random state:  82 is  0.5486450655005396\n",
      "r2_score corresponding to random state:  83 is  0.7409122761910741\n",
      "r2_score corresponding to random state:  84 is  0.6829126036386115\n",
      "r2_score corresponding to random state:  85 is  0.6827521942706334\n",
      "r2_score corresponding to random state:  86 is  0.5708154169790843\n",
      "r2_score corresponding to random state:  87 is  0.5238677813203825\n",
      "r2_score corresponding to random state:  88 is  0.5255349873945704\n",
      "r2_score corresponding to random state:  89 is  0.6645638923662481\n",
      "r2_score corresponding to random state:  90 is  0.6926540806692105\n",
      "r2_score corresponding to random state:  91 is  0.7596622708720568\n",
      "r2_score corresponding to random state:  92 is  0.7270095603070478\n",
      "r2_score corresponding to random state:  93 is  0.6650802622603508\n",
      "r2_score corresponding to random state:  94 is  0.6815445186624021\n",
      "r2_score corresponding to random state:  95 is  0.4526428558840313\n",
      "r2_score corresponding to random state:  96 is  0.6858957552834899\n",
      "r2_score corresponding to random state:  97 is  0.5112307163987024\n",
      "r2_score corresponding to random state:  98 is  0.4957505131018385\n",
      "r2_score corresponding to random state:  99 is  0.5307334703821334\n",
      "r2_score corresponding to random state:  100 is  0.6889626213378599\n",
      "max_r_score corresponding to: 50 is 0.7668230053462677\n"
     ]
    }
   ],
   "source": [
    "from sklearn.linear_model import Lasso\n",
    "lass = Lasso()\n",
    "r_state = classify(lass,X,y)"
   ]
  },
  {
   "cell_type": "code",
   "execution_count": 60,
   "metadata": {},
   "outputs": [
    {
     "name": "stdout",
     "output_type": "stream",
     "text": [
      "mean r2_score for Lasso Regression: 0.49265461538671307\n",
      "standard deviation in r2_score for lasso Regression: 0.1270573589801607\n"
     ]
    }
   ],
   "source": [
    "#Lets do cross Validation.\n",
    "from sklearn.model_selection import cross_val_score\n",
    "print(\"mean r2_score for Lasso Regression:\",cross_val_score(lass,X,y,cv=5,scoring=\"r2\").mean())\n",
    "print(\"standard deviation in r2_score for lasso Regression:\",cross_val_score(lass,X,y,cv=5,scoring=\"r2\").std())"
   ]
  },
  {
   "cell_type": "markdown",
   "metadata": {},
   "source": [
    "Lets try Ridge Regression:"
   ]
  },
  {
   "cell_type": "code",
   "execution_count": 61,
   "metadata": {},
   "outputs": [
    {
     "name": "stdout",
     "output_type": "stream",
     "text": [
      "r2_score corresponding to random state:  42 is  0.7144889028944099\n",
      "r2_score corresponding to random state:  43 is  0.6405455346310935\n",
      "r2_score corresponding to random state:  44 is  0.651482141082713\n",
      "r2_score corresponding to random state:  45 is  0.6940205832211771\n",
      "r2_score corresponding to random state:  46 is  0.5336407722657618\n",
      "r2_score corresponding to random state:  47 is  0.6188792123794971\n",
      "r2_score corresponding to random state:  48 is  0.6838742866394709\n",
      "r2_score corresponding to random state:  49 is  0.6435499930934203\n",
      "r2_score corresponding to random state:  50 is  0.7668230053462677\n",
      "r2_score corresponding to random state:  51 is  0.5930570273807617\n",
      "r2_score corresponding to random state:  52 is  0.6346688104602674\n",
      "r2_score corresponding to random state:  53 is  0.5902751900468339\n",
      "r2_score corresponding to random state:  54 is  0.6125810082675966\n",
      "r2_score corresponding to random state:  55 is  0.5896442015959302\n",
      "r2_score corresponding to random state:  56 is  0.7366479562977076\n",
      "r2_score corresponding to random state:  57 is  0.5132444171213133\n",
      "r2_score corresponding to random state:  58 is  0.6106647403961009\n",
      "r2_score corresponding to random state:  59 is  0.732356016460585\n",
      "r2_score corresponding to random state:  60 is  0.6698494674243536\n",
      "r2_score corresponding to random state:  61 is  0.6082030230929123\n",
      "r2_score corresponding to random state:  62 is  0.588158792947915\n",
      "r2_score corresponding to random state:  63 is  0.6664295397517055\n",
      "r2_score corresponding to random state:  64 is  0.6283821564840695\n",
      "r2_score corresponding to random state:  65 is  0.7180896151608398\n",
      "r2_score corresponding to random state:  66 is  0.6196378397262443\n",
      "r2_score corresponding to random state:  67 is  0.7124409609673956\n",
      "r2_score corresponding to random state:  68 is  0.6585114601964134\n",
      "r2_score corresponding to random state:  69 is  0.6697810041728824\n",
      "r2_score corresponding to random state:  70 is  0.5911248860759828\n",
      "r2_score corresponding to random state:  71 is  0.6409403498727764\n",
      "r2_score corresponding to random state:  72 is  0.5468054715180581\n",
      "r2_score corresponding to random state:  73 is  0.5071723696852597\n",
      "r2_score corresponding to random state:  74 is  0.69141136303082\n",
      "r2_score corresponding to random state:  75 is  0.5849887624754841\n",
      "r2_score corresponding to random state:  76 is  0.5878704240868762\n",
      "r2_score corresponding to random state:  77 is  0.6632481051145335\n",
      "r2_score corresponding to random state:  78 is  0.6459538271412415\n",
      "r2_score corresponding to random state:  79 is  0.7379027523192283\n",
      "r2_score corresponding to random state:  80 is  0.316225411465777\n",
      "r2_score corresponding to random state:  81 is  0.6286258368433386\n",
      "r2_score corresponding to random state:  82 is  0.5486450655005396\n",
      "r2_score corresponding to random state:  83 is  0.7409122761910741\n",
      "r2_score corresponding to random state:  84 is  0.6829126036386115\n",
      "r2_score corresponding to random state:  85 is  0.6827521942706334\n",
      "r2_score corresponding to random state:  86 is  0.5708154169790843\n",
      "r2_score corresponding to random state:  87 is  0.5238677813203825\n",
      "r2_score corresponding to random state:  88 is  0.5255349873945704\n",
      "r2_score corresponding to random state:  89 is  0.6645638923662481\n",
      "r2_score corresponding to random state:  90 is  0.6926540806692105\n",
      "r2_score corresponding to random state:  91 is  0.7596622708720568\n",
      "r2_score corresponding to random state:  92 is  0.7270095603070478\n",
      "r2_score corresponding to random state:  93 is  0.6650802622603508\n",
      "r2_score corresponding to random state:  94 is  0.6815445186624021\n",
      "r2_score corresponding to random state:  95 is  0.4526428558840313\n",
      "r2_score corresponding to random state:  96 is  0.6858957552834899\n",
      "r2_score corresponding to random state:  97 is  0.5112307163987024\n",
      "r2_score corresponding to random state:  98 is  0.4957505131018385\n",
      "r2_score corresponding to random state:  99 is  0.5307334703821334\n",
      "r2_score corresponding to random state:  100 is  0.6889626213378599\n",
      "max_r_score corresponding to: 50 is 0.7668230053462677\n"
     ]
    }
   ],
   "source": [
    "from sklearn.linear_model import Ridge\n",
    "ridge=Ridge()\n",
    "r_state = classify(lass,X,y)"
   ]
  },
  {
   "cell_type": "code",
   "execution_count": 62,
   "metadata": {},
   "outputs": [
    {
     "name": "stdout",
     "output_type": "stream",
     "text": [
      "mean r2_score for Ridge Regression: 0.4932485260336307\n",
      "standard deviation in r2_score for Ridge Regression: 0.12741596009132036\n"
     ]
    }
   ],
   "source": [
    "#Lets do cross Validation.\n",
    "from sklearn.model_selection import cross_val_score\n",
    "print(\"mean r2_score for Ridge Regression:\",cross_val_score(ridge,X,y,cv=5,scoring=\"r2\").mean())\n",
    "print(\"standard deviation in r2_score for Ridge Regression:\",cross_val_score(ridge,X,y,cv=5,scoring=\"r2\").std())"
   ]
  },
  {
   "cell_type": "markdown",
   "metadata": {},
   "source": [
    "Lets try Hyperparametre tuning on Laaso Regression to improve Accuracy."
   ]
  },
  {
   "cell_type": "code",
   "execution_count": 63,
   "metadata": {},
   "outputs": [],
   "source": [
    "from sklearn.linear_model import Lasso\n",
    "lasso = Lasso()"
   ]
  },
  {
   "cell_type": "code",
   "execution_count": 64,
   "metadata": {},
   "outputs": [],
   "source": [
    "# Lets try Hyperparametre Tuning:\n",
    "param = {'alpha':[0.001,0.01,0.1,1]}"
   ]
  },
  {
   "cell_type": "code",
   "execution_count": 65,
   "metadata": {},
   "outputs": [],
   "source": [
    "from sklearn.model_selection import GridSearchCV\n",
    "grid_score = GridSearchCV(lasso,param_grid=param,scoring='neg_mean_squared_error',cv=5)"
   ]
  },
  {
   "cell_type": "code",
   "execution_count": 66,
   "metadata": {},
   "outputs": [
    {
     "data": {
      "text/plain": [
       "GridSearchCV(cv=5, estimator=Lasso(),\n",
       "             param_grid={'alpha': [0.001, 0.01, 0.1, 1]},\n",
       "             scoring='neg_mean_squared_error')"
      ]
     },
     "execution_count": 66,
     "metadata": {},
     "output_type": "execute_result"
    }
   ],
   "source": [
    "grid_score.fit(X_train,y_train)"
   ]
  },
  {
   "cell_type": "code",
   "execution_count": 67,
   "metadata": {},
   "outputs": [
    {
     "data": {
      "text/plain": [
       "{'alpha': 0.001}"
      ]
     },
     "execution_count": 67,
     "metadata": {},
     "output_type": "execute_result"
    }
   ],
   "source": [
    "grid_score.best_params_"
   ]
  },
  {
   "cell_type": "code",
   "execution_count": 68,
   "metadata": {},
   "outputs": [],
   "source": [
    "lasso = Lasso(alpha=0.001)\n",
    "lasso.fit(X_train,y_train)\n",
    "y_pred = lasso.predict(X_test)"
   ]
  },
  {
   "cell_type": "code",
   "execution_count": 69,
   "metadata": {},
   "outputs": [
    {
     "data": {
      "image/png": "[encoded data removed]",
      "text/plain": [
       "<Figure size 432x288 with 1 Axes>"
      ]
     },
     "metadata": {
      "needs_background": "light"
     },
     "output_type": "display_data"
    }
   ],
   "source": [
    "plt.scatter(y_test, y_pred, alpha = 0.5)\n",
    "plt.xlabel(\"y_test\")\n",
    "plt.ylabel(\"y_pred\")\n",
    "plt.show()"
   ]
  },
  {
   "cell_type": "code",
   "execution_count": 70,
   "metadata": {},
   "outputs": [
    {
     "name": "stdout",
     "output_type": "stream",
     "text": [
      "MAE: 54.62619697570591\n",
      "MSE: 4672.049164242275\n",
      "RMSE: 68.35238960155142\n"
     ]
    }
   ],
   "source": [
    "from sklearn import metrics\n",
    "print('MAE:', metrics.mean_absolute_error(y_test, y_pred))\n",
    "print('MSE:', metrics.mean_squared_error(y_test, y_pred))\n",
    "print('RMSE:', np.sqrt(metrics.mean_squared_error(y_test, y_pred)))"
   ]
  },
  {
   "cell_type": "code",
   "execution_count": 71,
   "metadata": {},
   "outputs": [
    {
     "data": {
      "text/plain": [
       "0.7149165047043459"
      ]
     },
     "execution_count": 71,
     "metadata": {},
     "output_type": "execute_result"
    }
   ],
   "source": [
    "metrics.r2_score(y_test, y_pred)"
   ]
  },
  {
   "cell_type": "markdown",
   "metadata": {},
   "source": [
    "Max score we can obtain is 71 % in Hyperparametre tuning is Lasso Regression and we are going to consider Linear Regression"
   ]
  },
  {
   "cell_type": "markdown",
   "metadata": {},
   "source": [
    "# Saving Best Model"
   ]
  },
  {
   "cell_type": "code",
   "execution_count": 72,
   "metadata": {},
   "outputs": [
    {
     "data": {
      "text/plain": [
       "array([[1249.86135176],\n",
       "       [1349.53180634],\n",
       "       [1271.27595871],\n",
       "       [1221.30854249],\n",
       "       [1325.47342075],\n",
       "       [1156.27158804],\n",
       "       [1377.55585988],\n",
       "       [1081.98140836],\n",
       "       [1268.89655794],\n",
       "       [1218.66476385],\n",
       "       [1383.63655075],\n",
       "       [1197.77891263],\n",
       "       [1326.00217648],\n",
       "       [1299.56439012],\n",
       "       [1274.9772488 ],\n",
       "       [1239.02185935],\n",
       "       [1579.80492555],\n",
       "       [1300.88627944],\n",
       "       [1199.62955767],\n",
       "       [1494.4108756 ],\n",
       "       [1224.21669899],\n",
       "       [1223.4235654 ],\n",
       "       [1258.05706553],\n",
       "       [1179.53684004],\n",
       "       [1235.0561914 ],\n",
       "       [1188.79006526],\n",
       "       [1268.89655794],\n",
       "       [1495.99714278],\n",
       "       [1222.10167608],\n",
       "       [1494.14649774],\n",
       "       [1395.79793247],\n",
       "       [1287.66738625],\n",
       "       [1210.99780581],\n",
       "       [1143.05269486],\n",
       "       [1495.99714278],\n",
       "       [1346.8880277 ],\n",
       "       [1237.1712143 ],\n",
       "       [1135.65011468],\n",
       "       [1219.19351958],\n",
       "       [1397.38419965],\n",
       "       [1183.76688585],\n",
       "       [1391.30350879],\n",
       "       [1249.33259603],\n",
       "       [1355.6124972 ],\n",
       "       [1285.02360762],\n",
       "       [1212.58407299],\n",
       "       [1206.23900426],\n",
       "       [1150.7196529 ]])"
      ]
     },
     "execution_count": 72,
     "metadata": {},
     "output_type": "execute_result"
    }
   ],
   "source": [
    "import joblib\n",
    "joblib.dump(lr,'lr.obj')\n",
    "lr_from_joblib = joblib.load('lr.obj')\n",
    "lr_from_joblib.predict(X_test)"
   ]
  }
 ],
 "metadata": {
  "kernelspec": {
   "display_name": "Python 3",
   "language": "python",
   "name": "python3"
  },
  "language_info": {
   "codemirror_mode": {
    "name": "ipython",
    "version": 3
   },
   "file_extension": ".py",
   "mimetype": "text/x-python",
   "name": "python",
   "nbconvert_exporter": "python",
   "pygments_lexer": "ipython3",
   "version": "3.8.3"
  }
 },
 "nbformat": 4,
 "nbformat_minor": 2
}
