{
  "nbformat": 4,
  "nbformat_minor": 0,
  "metadata": {
    "colab": {
      "name": "NLP",
      "provenance": [],
      "authorship_tag": "ABX9TyPXa34ydDNfXPti+m4cl+48",
      "include_colab_link": true
    },
    "kernelspec": {
      "name": "python3",
      "display_name": "Python 3"
    }
  },
  "cells": [
    {
      "cell_type": "markdown",
      "metadata": {
        "id": "view-in-github",
        "colab_type": "text"
      },
      "source": [
        "<a href=\"https://colab.research.google.com/github/binit24/Datascience-projects/blob/main/NLP.ipynb\" target=\"_parent\"><img src=\"https://colab.research.google.com/assets/colab-badge.svg\" alt=\"Open In Colab\"/></a>"
      ]
    },
    {
      "cell_type": "code",
      "metadata": {
        "colab": {
          "base_uri": "https://localhost:8080/"
        },
        "id": "1_tEqmGFzRuh",
        "outputId": "8a66398b-3c34-43e6-d611-50ec93c11c00"
      },
      "source": [
        "pip install nltk"
      ],
      "execution_count": null,
      "outputs": [
        {
          "output_type": "stream",
          "text": [
            "Requirement already satisfied: nltk in /usr/local/lib/python3.6/dist-packages (3.2.5)\n",
            "Requirement already satisfied: six in /usr/local/lib/python3.6/dist-packages (from nltk) (1.15.0)\n"
          ],
          "name": "stdout"
        }
      ]
    },
    {
      "cell_type": "code",
      "metadata": {
        "id": "d478Ew0FzchP"
      },
      "source": [
        "import nltk\r\n",
        "from nltk.tokenize import word_tokenize"
      ],
      "execution_count": null,
      "outputs": []
    },
    {
      "cell_type": "code",
      "metadata": {
        "id": "g-jBeWyEzcnc"
      },
      "source": [
        "#Defining our text:\r\n",
        "text = \"I am Learning Natural Lanaguage Processing\""
      ],
      "execution_count": null,
      "outputs": []
    },
    {
      "cell_type": "code",
      "metadata": {
        "colab": {
          "base_uri": "https://localhost:8080/"
        },
        "id": "q1dHGdqX1SqT",
        "outputId": "862bfd09-115e-4901-ca26-0335eff6915b"
      },
      "source": [
        "import nltk\r\n",
        "nltk.download('punkt')"
      ],
      "execution_count": null,
      "outputs": [
        {
          "output_type": "stream",
          "text": [
            "[nltk_data] Downloading package punkt to /root/nltk_data...\n",
            "[nltk_data]   Unzipping tokenizers/punkt.zip.\n"
          ],
          "name": "stdout"
        },
        {
          "output_type": "execute_result",
          "data": {
            "text/plain": [
              "True"
            ]
          },
          "metadata": {
            "tags": []
          },
          "execution_count": 5
        }
      ]
    },
    {
      "cell_type": "code",
      "metadata": {
        "colab": {
          "base_uri": "https://localhost:8080/"
        },
        "id": "krKF8fBDzcqS",
        "outputId": "2961e5f3-0ff7-4d8d-dfcc-53f1503f02ac"
      },
      "source": [
        "#Tokenization:\r\n",
        "print(word_tokenize(text))"
      ],
      "execution_count": null,
      "outputs": [
        {
          "output_type": "stream",
          "text": [
            "['I', 'am', 'Learning', 'Natural', 'Lanaguage', 'Processing']\n"
          ],
          "name": "stdout"
        }
      ]
    },
    {
      "cell_type": "code",
      "metadata": {
        "id": "EM7m1eVF0X8g"
      },
      "source": [
        "from nltk.tokenize import sent_tokenize\r\n",
        "text = \"Our company annual growth rate is 25.50%. Good job Mr.Bajaj\""
      ],
      "execution_count": null,
      "outputs": []
    },
    {
      "cell_type": "code",
      "metadata": {
        "colab": {
          "base_uri": "https://localhost:8080/"
        },
        "id": "rjNdf-1v0YAl",
        "outputId": "a5fae66d-628a-4d6d-8077-7a14e32461e7"
      },
      "source": [
        "print(sent_tokenize(text))"
      ],
      "execution_count": null,
      "outputs": [
        {
          "output_type": "stream",
          "text": [
            "['Our company annual growth rate is 25.50%.', 'Good job Mr.Bajaj']\n"
          ],
          "name": "stdout"
        }
      ]
    },
    {
      "cell_type": "code",
      "metadata": {
        "id": "6pbGlpsH0YEe"
      },
      "source": [
        "#Regular Expression."
      ],
      "execution_count": null,
      "outputs": []
    },
    {
      "cell_type": "code",
      "metadata": {
        "id": "ZDSLgW790YKj"
      },
      "source": [
        "#Regular Expression:\r\n",
        "from nltk.tokenize import regexp_tokenize"
      ],
      "execution_count": null,
      "outputs": []
    },
    {
      "cell_type": "code",
      "metadata": {
        "id": "rg_W9VXlzcs6"
      },
      "source": [
        "text = \"NLP is fun and can't deal with text and sound, but cant deal with images. We have session at 11AM!.We can learn a lot of New Stuff\""
      ],
      "execution_count": 19,
      "outputs": []
    },
    {
      "cell_type": "code",
      "metadata": {
        "id": "TMCJSBOW61oI",
        "colab": {
          "base_uri": "https://localhost:8080/"
        },
        "outputId": "92b8e45e-a1ee-4053-cdc3-28edaa8cafff"
      },
      "source": [
        "#Print Word by word that contain all smaller cases and starts from a to z:\r\n",
        "regexp_tokenize(text,\"[a-z]+\")"
      ],
      "execution_count": 20,
      "outputs": [
        {
          "output_type": "execute_result",
          "data": {
            "text/plain": [
              "['is',\n",
              " 'fun',\n",
              " 'and',\n",
              " 'can',\n",
              " 't',\n",
              " 'deal',\n",
              " 'with',\n",
              " 'text',\n",
              " 'and',\n",
              " 'sound',\n",
              " 'but',\n",
              " 'cant',\n",
              " 'deal',\n",
              " 'with',\n",
              " 'images',\n",
              " 'e',\n",
              " 'have',\n",
              " 'session',\n",
              " 'at',\n",
              " 'e',\n",
              " 'can',\n",
              " 'learn',\n",
              " 'a',\n",
              " 'lot',\n",
              " 'of',\n",
              " 'ew',\n",
              " 'tuff']"
            ]
          },
          "metadata": {
            "tags": []
          },
          "execution_count": 20
        }
      ]
    },
    {
      "cell_type": "code",
      "metadata": {
        "id": "Qfvcz10Z61rr",
        "colab": {
          "base_uri": "https://localhost:8080/"
        },
        "outputId": "bef1e9e9-175e-47a4-d894-92632590f517"
      },
      "source": [
        "#Print Word by word that contain all caps and from A to Z:\r\n",
        "regexp_tokenize(text,\"[A-Z]+\")"
      ],
      "execution_count": 16,
      "outputs": [
        {
          "output_type": "execute_result",
          "data": {
            "text/plain": [
              "['NLP', 'W', 'AM', 'W', 'N', 'S']"
            ]
          },
          "metadata": {
            "tags": []
          },
          "execution_count": 16
        }
      ]
    },
    {
      "cell_type": "code",
      "metadata": {
        "colab": {
          "base_uri": "https://localhost:8080/"
        },
        "id": "hBkEeh7JMdhs",
        "outputId": "1e98d5b7-ed35-4b72-a04e-3175adb1d5ba"
      },
      "source": [
        "#Extra Quote gets your word like cant,t,don't:\r\n",
        "regexp_tokenize(text,\"[a-z']+\")"
      ],
      "execution_count": 21,
      "outputs": [
        {
          "output_type": "execute_result",
          "data": {
            "text/plain": [
              "['is',\n",
              " 'fun',\n",
              " 'and',\n",
              " \"can't\",\n",
              " 'deal',\n",
              " 'with',\n",
              " 'text',\n",
              " 'and',\n",
              " 'sound',\n",
              " 'but',\n",
              " 'cant',\n",
              " 'deal',\n",
              " 'with',\n",
              " 'images',\n",
              " 'e',\n",
              " 'have',\n",
              " 'session',\n",
              " 'at',\n",
              " 'e',\n",
              " 'can',\n",
              " 'learn',\n",
              " 'a',\n",
              " 'lot',\n",
              " 'of',\n",
              " 'ew',\n",
              " 'tuff']"
            ]
          },
          "metadata": {
            "tags": []
          },
          "execution_count": 21
        }
      ]
    },
    {
      "cell_type": "code",
      "metadata": {
        "colab": {
          "base_uri": "https://localhost:8080/"
        },
        "id": "YqByCwP4Mdkj",
        "outputId": "1651a217-d833-4d94-89bd-34ac5a52590d"
      },
      "source": [
        "#Everything in one Line:\r\n",
        "regexp_tokenize(text,\"[\\a-z]+\")"
      ],
      "execution_count": 22,
      "outputs": [
        {
          "output_type": "execute_result",
          "data": {
            "text/plain": [
              "[\"NLP is fun and can't deal with text and sound, but cant deal with images. We have session at 11AM!.We can learn a lot of New Stuff\"]"
            ]
          },
          "metadata": {
            "tags": []
          },
          "execution_count": 22
        }
      ]
    },
    {
      "cell_type": "code",
      "metadata": {
        "id": "gO15mbd9zcv4",
        "colab": {
          "base_uri": "https://localhost:8080/"
        },
        "outputId": "59269811-868b-4ae6-b8f8-6fb980213d6d"
      },
      "source": [
        "#Anything start with caret is not equal to:\r\n",
        "regexp_tokenize(text,\"[^a-z]+\")"
      ],
      "execution_count": 23,
      "outputs": [
        {
          "output_type": "execute_result",
          "data": {
            "text/plain": [
              "['NLP ',\n",
              " ' ',\n",
              " ' ',\n",
              " ' ',\n",
              " \"'\",\n",
              " ' ',\n",
              " ' ',\n",
              " ' ',\n",
              " ' ',\n",
              " ' ',\n",
              " ', ',\n",
              " ' ',\n",
              " ' ',\n",
              " ' ',\n",
              " ' ',\n",
              " '. W',\n",
              " ' ',\n",
              " ' ',\n",
              " ' ',\n",
              " ' 11AM!.W',\n",
              " ' ',\n",
              " ' ',\n",
              " ' ',\n",
              " ' ',\n",
              " ' ',\n",
              " ' N',\n",
              " ' S']"
            ]
          },
          "metadata": {
            "tags": []
          },
          "execution_count": 23
        }
      ]
    },
    {
      "cell_type": "code",
      "metadata": {
        "colab": {
          "base_uri": "https://localhost:8080/"
        },
        "id": "ily7YoHnQ_vh",
        "outputId": "7a974871-9239-4178-dc6c-479e6eaee7d0"
      },
      "source": [
        "#only number:\r\n",
        "regexp_tokenize(text,\"[0-9]+\")"
      ],
      "execution_count": 24,
      "outputs": [
        {
          "output_type": "execute_result",
          "data": {
            "text/plain": [
              "['11']"
            ]
          },
          "metadata": {
            "tags": []
          },
          "execution_count": 24
        }
      ]
    },
    {
      "cell_type": "code",
      "metadata": {
        "colab": {
          "base_uri": "https://localhost:8080/"
        },
        "id": "vpK2ZvhKQ_zV",
        "outputId": "eb9a3267-a535-4a22-c7ae-bd599ae43220"
      },
      "source": [
        "#without number:\r\n",
        "regexp_tokenize(text,\"[^0-9]+\")"
      ],
      "execution_count": 25,
      "outputs": [
        {
          "output_type": "execute_result",
          "data": {
            "text/plain": [
              "[\"NLP is fun and can't deal with text and sound, but cant deal with images. We have session at \",\n",
              " 'AM!.We can learn a lot of New Stuff']"
            ]
          },
          "metadata": {
            "tags": []
          },
          "execution_count": 25
        }
      ]
    }
  ]
}