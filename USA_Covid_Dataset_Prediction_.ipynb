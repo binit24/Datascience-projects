{
  "nbformat": 4,
  "nbformat_minor": 0,
  "metadata": {
    "colab": {
      "name": "USA Covid Dataset Prediction:",
      "provenance": [],
      "authorship_tag": "ABX9TyMmBcuH3CByiwfgvsnQTZJZ",
      "include_colab_link": true
    },
    "kernelspec": {
      "name": "python3",
      "display_name": "Python 3"
    }
  },
  "cells": [
    {
      "cell_type": "markdown",
      "metadata": {
        "id": "view-in-github",
        "colab_type": "text"
      },
      "source": [
        "<a href=\"https://colab.research.google.com/github/binit24/Datascience-projects/blob/main/USA_Covid_Dataset_Prediction_.ipynb\" target=\"_parent\"><img src=\"https://colab.research.google.com/assets/colab-badge.svg\" alt=\"Open In Colab\"/></a>"
      ]
    },
    {
      "cell_type": "code",
      "metadata": {
        "id": "eYUovmsa7sau"
      },
      "source": [
        "# importing Libraries:\r\n",
        "import pandas as pd\r\n",
        "import numpy as np\r\n",
        "import seaborn as sns\r\n",
        "import matplotlib.pyplot as plt\r\n",
        "import warnings\r\n",
        "warnings.filterwarnings('ignore')"
      ],
      "execution_count": 64,
      "outputs": []
    },
    {
      "cell_type": "code",
      "metadata": {
        "colab": {
          "base_uri": "https://localhost:8080/"
        },
        "id": "W1SmZAWQJnxv",
        "outputId": "5a36caeb-a0b2-4f48-d649-6ed3e7f194b3"
      },
      "source": [
        "from google.colab import drive\r\n",
        "drive.mount('/content/drive')"
      ],
      "execution_count": 65,
      "outputs": [
        {
          "output_type": "stream",
          "text": [
            "Drive already mounted at /content/drive; to attempt to forcibly remount, call drive.mount(\"/content/drive\", force_remount=True).\n"
          ],
          "name": "stdout"
        }
      ]
    },
    {
      "cell_type": "code",
      "metadata": {
        "id": "jKZ3_2LYKDZS"
      },
      "source": [
        "f = open(\"covid.csv\")"
      ],
      "execution_count": 66,
      "outputs": []
    },
    {
      "cell_type": "code",
      "metadata": {
        "colab": {
          "base_uri": "https://localhost:8080/",
          "height": 316
        },
        "id": "SncO2JCgKDdv",
        "outputId": "c1a551e1-bea5-4883-93ea-0b059e42d550"
      },
      "source": [
        "#Reading the Dataset:\r\n",
        "df = pd.read_csv('covid.csv')\r\n",
        "print(df.shape) #checking no of rows and columns in the dataset.\r\n",
        "df.head()"
      ],
      "execution_count": 67,
      "outputs": [
        {
          "output_type": "stream",
          "text": [
            "(58, 18)\n"
          ],
          "name": "stdout"
        },
        {
          "output_type": "execute_result",
          "data": {
            "text/html": [
              "<div>\n",
              "<style scoped>\n",
              "    .dataframe tbody tr th:only-of-type {\n",
              "        vertical-align: middle;\n",
              "    }\n",
              "\n",
              "    .dataframe tbody tr th {\n",
              "        vertical-align: top;\n",
              "    }\n",
              "\n",
              "    .dataframe thead th {\n",
              "        text-align: right;\n",
              "    }\n",
              "</style>\n",
              "<table border=\"1\" class=\"dataframe\">\n",
              "  <thead>\n",
              "    <tr style=\"text-align: right;\">\n",
              "      <th></th>\n",
              "      <th>Province_State</th>\n",
              "      <th>Country_Region</th>\n",
              "      <th>Last_Update</th>\n",
              "      <th>Lat</th>\n",
              "      <th>Long_</th>\n",
              "      <th>Confirmed</th>\n",
              "      <th>Deaths</th>\n",
              "      <th>Recovered</th>\n",
              "      <th>Active</th>\n",
              "      <th>FIPS</th>\n",
              "      <th>Incident_Rate</th>\n",
              "      <th>People_Tested</th>\n",
              "      <th>People_Hospitalized</th>\n",
              "      <th>Mortality_Rate</th>\n",
              "      <th>UID</th>\n",
              "      <th>ISO3</th>\n",
              "      <th>Testing_Rate</th>\n",
              "      <th>Hospitalization_Rate</th>\n",
              "    </tr>\n",
              "  </thead>\n",
              "  <tbody>\n",
              "    <tr>\n",
              "      <th>0</th>\n",
              "      <td>Alabama</td>\n",
              "      <td>US</td>\n",
              "      <td>2020-05-21 02:32:54</td>\n",
              "      <td>32.3182</td>\n",
              "      <td>-86.9023</td>\n",
              "      <td>13052</td>\n",
              "      <td>522</td>\n",
              "      <td>NaN</td>\n",
              "      <td>12530.0</td>\n",
              "      <td>1</td>\n",
              "      <td>266.194321</td>\n",
              "      <td>164450.0</td>\n",
              "      <td>1493.0</td>\n",
              "      <td>3.999387</td>\n",
              "      <td>84000001</td>\n",
              "      <td>USA</td>\n",
              "      <td>3353.942386</td>\n",
              "      <td>11.438860</td>\n",
              "    </tr>\n",
              "    <tr>\n",
              "      <th>1</th>\n",
              "      <td>Alaska</td>\n",
              "      <td>US</td>\n",
              "      <td>2020-05-21 02:32:54</td>\n",
              "      <td>61.3707</td>\n",
              "      <td>-152.4044</td>\n",
              "      <td>401</td>\n",
              "      <td>10</td>\n",
              "      <td>352.0</td>\n",
              "      <td>39.0</td>\n",
              "      <td>2</td>\n",
              "      <td>54.815493</td>\n",
              "      <td>37045.0</td>\n",
              "      <td>NaN</td>\n",
              "      <td>2.493766</td>\n",
              "      <td>84000002</td>\n",
              "      <td>USA</td>\n",
              "      <td>5063.940017</td>\n",
              "      <td>NaN</td>\n",
              "    </tr>\n",
              "    <tr>\n",
              "      <th>2</th>\n",
              "      <td>American Samoa</td>\n",
              "      <td>US</td>\n",
              "      <td>2020-05-21 02:32:54</td>\n",
              "      <td>-14.2710</td>\n",
              "      <td>-170.1320</td>\n",
              "      <td>0</td>\n",
              "      <td>0</td>\n",
              "      <td>NaN</td>\n",
              "      <td>0.0</td>\n",
              "      <td>60</td>\n",
              "      <td>0.000000</td>\n",
              "      <td>124.0</td>\n",
              "      <td>NaN</td>\n",
              "      <td>NaN</td>\n",
              "      <td>16</td>\n",
              "      <td>ASM</td>\n",
              "      <td>222.857246</td>\n",
              "      <td>NaN</td>\n",
              "    </tr>\n",
              "    <tr>\n",
              "      <th>3</th>\n",
              "      <td>Arizona</td>\n",
              "      <td>US</td>\n",
              "      <td>2020-05-21 02:32:54</td>\n",
              "      <td>33.7298</td>\n",
              "      <td>-111.4312</td>\n",
              "      <td>14906</td>\n",
              "      <td>747</td>\n",
              "      <td>3773.0</td>\n",
              "      <td>10386.0</td>\n",
              "      <td>4</td>\n",
              "      <td>204.788838</td>\n",
              "      <td>165435.0</td>\n",
              "      <td>1792.0</td>\n",
              "      <td>5.011405</td>\n",
              "      <td>84000004</td>\n",
              "      <td>USA</td>\n",
              "      <td>2272.859351</td>\n",
              "      <td>12.022005</td>\n",
              "    </tr>\n",
              "    <tr>\n",
              "      <th>4</th>\n",
              "      <td>Arkansas</td>\n",
              "      <td>US</td>\n",
              "      <td>2020-05-21 02:32:54</td>\n",
              "      <td>34.9697</td>\n",
              "      <td>-92.3731</td>\n",
              "      <td>5003</td>\n",
              "      <td>107</td>\n",
              "      <td>3852.0</td>\n",
              "      <td>1044.0</td>\n",
              "      <td>5</td>\n",
              "      <td>165.782801</td>\n",
              "      <td>96258.0</td>\n",
              "      <td>535.0</td>\n",
              "      <td>2.138717</td>\n",
              "      <td>84000005</td>\n",
              "      <td>USA</td>\n",
              "      <td>3189.670370</td>\n",
              "      <td>10.693584</td>\n",
              "    </tr>\n",
              "  </tbody>\n",
              "</table>\n",
              "</div>"
            ],
            "text/plain": [
              "   Province_State Country_Region  ... Testing_Rate  Hospitalization_Rate\n",
              "0         Alabama             US  ...  3353.942386             11.438860\n",
              "1          Alaska             US  ...  5063.940017                   NaN\n",
              "2  American Samoa             US  ...   222.857246                   NaN\n",
              "3         Arizona             US  ...  2272.859351             12.022005\n",
              "4        Arkansas             US  ...  3189.670370             10.693584\n",
              "\n",
              "[5 rows x 18 columns]"
            ]
          },
          "metadata": {
            "tags": []
          },
          "execution_count": 67
        }
      ]
    },
    {
      "cell_type": "code",
      "metadata": {
        "colab": {
          "base_uri": "https://localhost:8080/"
        },
        "id": "zy72Vq8pKDgo",
        "outputId": "0c7165a6-cdf0-41ed-b14c-6244d7b4d85b"
      },
      "source": [
        "#Checking datatypes:\r\n",
        "df.dtypes"
      ],
      "execution_count": 68,
      "outputs": [
        {
          "output_type": "execute_result",
          "data": {
            "text/plain": [
              "Province_State           object\n",
              "Country_Region           object\n",
              "Last_Update              object\n",
              "Lat                     float64\n",
              "Long_                   float64\n",
              "Confirmed                 int64\n",
              "Deaths                    int64\n",
              "Recovered               float64\n",
              "Active                  float64\n",
              "FIPS                      int64\n",
              "Incident_Rate           float64\n",
              "People_Tested           float64\n",
              "People_Hospitalized     float64\n",
              "Mortality_Rate          float64\n",
              "UID                       int64\n",
              "ISO3                     object\n",
              "Testing_Rate            float64\n",
              "Hospitalization_Rate    float64\n",
              "dtype: object"
            ]
          },
          "metadata": {
            "tags": []
          },
          "execution_count": 68
        }
      ]
    },
    {
      "cell_type": "code",
      "metadata": {
        "colab": {
          "base_uri": "https://localhost:8080/"
        },
        "id": "Bfoc4ghnKDl1",
        "outputId": "13ff845e-fd9e-402c-d575-5ba85fe73880"
      },
      "source": [
        "#Checking for categorical columns:\r\n",
        "cat_col = []\r\n",
        "for x in df.dtypes.index:\r\n",
        "    if df.dtypes[x] == 'object':\r\n",
        "        cat_col.append(x)\r\n",
        "print(\"Categorical Columns:\",cat_col)"
      ],
      "execution_count": 69,
      "outputs": [
        {
          "output_type": "stream",
          "text": [
            "Categorical Columns: ['Province_State', 'Country_Region', 'Last_Update', 'ISO3']\n"
          ],
          "name": "stdout"
        }
      ]
    },
    {
      "cell_type": "code",
      "metadata": {
        "colab": {
          "base_uri": "https://localhost:8080/"
        },
        "id": "FXOhLfbDKDok",
        "outputId": "c80581d9-d526-4f71-ff50-f0174bf71fd5"
      },
      "source": [
        "#Checking the value count and unique value of each categorical feature:\r\n",
        "for col in df.columns:\r\n",
        "    if df[col].dtypes == object:\r\n",
        "        print(str(col)+':'+str(df[col].unique()))\r\n",
        "        print(df[col].value_counts())\r\n",
        "        print('********************************************')"
      ],
      "execution_count": 70,
      "outputs": [
        {
          "output_type": "stream",
          "text": [
            "Province_State:['Alabama' 'Alaska' 'American Samoa' 'Arizona' 'Arkansas' 'California'\n",
            " 'Colorado' 'Connecticut' 'Delaware' 'Diamond Princess'\n",
            " 'District of Columbia' 'Florida' 'Georgia' 'Grand Princess' 'Guam'\n",
            " 'Hawaii' 'Idaho' 'Illinois' 'Indiana' 'Iowa' 'Kansas' 'Kentucky'\n",
            " 'Louisiana' 'Maine' 'Maryland' 'Massachusetts' 'Michigan' 'Minnesota'\n",
            " 'Mississippi' 'Missouri' 'Montana' 'Nebraska' 'Nevada' 'New Hampshire'\n",
            " 'New Jersey' 'New Mexico' 'New York' 'North Carolina' 'North Dakota'\n",
            " 'Northern Mariana Islands' 'Ohio' 'Oklahoma' 'Oregon' 'Pennsylvania'\n",
            " 'Puerto Rico' 'Rhode Island' 'South Carolina' 'South Dakota' 'Tennessee'\n",
            " 'Texas' 'Utah' 'Vermont' 'Virgin Islands' 'Virginia' 'Washington'\n",
            " 'West Virginia' 'Wisconsin' 'Wyoming']\n",
            "Guam                        1\n",
            "North Dakota                1\n",
            "New Jersey                  1\n",
            "Wisconsin                   1\n",
            "South Carolina              1\n",
            "North Carolina              1\n",
            "Iowa                        1\n",
            "Missouri                    1\n",
            "Diamond Princess            1\n",
            "Idaho                       1\n",
            "Montana                     1\n",
            "South Dakota                1\n",
            "Colorado                    1\n",
            "California                  1\n",
            "Indiana                     1\n",
            "Puerto Rico                 1\n",
            "Washington                  1\n",
            "Utah                        1\n",
            "Kentucky                    1\n",
            "Florida                     1\n",
            "New Hampshire               1\n",
            "Alabama                     1\n",
            "Virgin Islands              1\n",
            "Rhode Island                1\n",
            "West Virginia               1\n",
            "Nebraska                    1\n",
            "Illinois                    1\n",
            "Arkansas                    1\n",
            "Arizona                     1\n",
            "Massachusetts               1\n",
            "New York                    1\n",
            "Louisiana                   1\n",
            "Oklahoma                    1\n",
            "New Mexico                  1\n",
            "Oregon                      1\n",
            "District of Columbia        1\n",
            "Connecticut                 1\n",
            "Vermont                     1\n",
            "Alaska                      1\n",
            "Northern Mariana Islands    1\n",
            "Nevada                      1\n",
            "Georgia                     1\n",
            "Mississippi                 1\n",
            "Pennsylvania                1\n",
            "Delaware                    1\n",
            "Minnesota                   1\n",
            "Hawaii                      1\n",
            "Maryland                    1\n",
            "Michigan                    1\n",
            "Wyoming                     1\n",
            "American Samoa              1\n",
            "Grand Princess              1\n",
            "Maine                       1\n",
            "Ohio                        1\n",
            "Kansas                      1\n",
            "Virginia                    1\n",
            "Tennessee                   1\n",
            "Texas                       1\n",
            "Name: Province_State, dtype: int64\n",
            "********************************************\n",
            "Country_Region:['US']\n",
            "US    58\n",
            "Name: Country_Region, dtype: int64\n",
            "********************************************\n",
            "Last_Update:['2020-05-21 02:32:54']\n",
            "2020-05-21 02:32:54    58\n",
            "Name: Last_Update, dtype: int64\n",
            "********************************************\n",
            "ISO3:['USA' 'ASM' 'GUM' 'MNP' 'PRI' 'VIR']\n",
            "USA    53\n",
            "VIR     1\n",
            "GUM     1\n",
            "PRI     1\n",
            "ASM     1\n",
            "MNP     1\n",
            "Name: ISO3, dtype: int64\n",
            "********************************************\n"
          ],
          "name": "stdout"
        }
      ]
    },
    {
      "cell_type": "code",
      "metadata": {
        "colab": {
          "base_uri": "https://localhost:8080/",
          "height": 697
        },
        "id": "XQAyvyZWKDrt",
        "outputId": "d98a6bc3-031d-4a67-f8b5-1353079670a0"
      },
      "source": [
        "#Checking the null values in the dataset:\r\n",
        "missing_value = pd.DataFrame(df.isnull().sum(),columns=['Total Missing Value'])\r\n",
        "print(missing_value)\r\n",
        "sns.heatmap(df.isnull(),cmap='summer')"
      ],
      "execution_count": 71,
      "outputs": [
        {
          "output_type": "stream",
          "text": [
            "                      Total Missing Value\n",
            "Province_State                          0\n",
            "Country_Region                          0\n",
            "Last_Update                             0\n",
            "Lat                                     2\n",
            "Long_                                   2\n",
            "Confirmed                               0\n",
            "Deaths                                  0\n",
            "Recovered                              16\n",
            "Active                                  0\n",
            "FIPS                                    0\n",
            "Incident_Rate                           2\n",
            "People_Tested                           2\n",
            "People_Hospitalized                    25\n",
            "Mortality_Rate                          1\n",
            "UID                                     0\n",
            "ISO3                                    0\n",
            "Testing_Rate                            2\n",
            "Hospitalization_Rate                   25\n"
          ],
          "name": "stdout"
        },
        {
          "output_type": "execute_result",
          "data": {
            "text/plain": [
              "<matplotlib.axes._subplots.AxesSubplot at 0x7fd674e39fd0>"
            ]
          },
          "metadata": {
            "tags": []
          },
          "execution_count": 71
        },
        {
          "output_type": "display_data",
          "data": {
            "image/png": "[encoded data removed]",
            "text/plain": [
              "<Figure size 432x288 with 2 Axes>"
            ]
          },
          "metadata": {
            "tags": [],
            "needs_background": "light"
          }
        }
      ]
    },
    {
      "cell_type": "code",
      "metadata": {
        "id": "0z_iwkoyKDuX"
      },
      "source": [
        "#We can see there are some missing values present in dataset he we have to normalize them."
      ],
      "execution_count": 72,
      "outputs": []
    },
    {
      "cell_type": "code",
      "metadata": {
        "id": "HTvxvjSbKDxD"
      },
      "source": [
        "#we will use simple imputer function from sklearn to remove null values:\r\n",
        "from sklearn.impute import SimpleImputer\r\n",
        "imp = SimpleImputer(strategy=\"mean\")\r\n",
        "for col in['Recovered','People_Hospitalized','Hospitalization_Rate','Incident_Rate','Mortality_Rate','Testing_Rate','People_Tested']:\r\n",
        "  df[col] = imp.fit_transform(df[col].values.reshape(-1,1))"
      ],
      "execution_count": 73,
      "outputs": []
    },
    {
      "cell_type": "code",
      "metadata": {
        "id": "jvUBmdo2Jn5b"
      },
      "source": [
        "#Dropping Unnecessary Columns:\r\n",
        "df.drop(columns=['Lat','Long_'],axis=1,inplace=True)"
      ],
      "execution_count": 74,
      "outputs": []
    },
    {
      "cell_type": "code",
      "metadata": {
        "colab": {
          "base_uri": "https://localhost:8080/",
          "height": 394
        },
        "id": "SEI3TbfILZ4U",
        "outputId": "5ca5eba7-a7e3-4f69-d620-eb97d679b108"
      },
      "source": [
        "#Now again checking for missing values:\r\n",
        "print(\"Are There Missing Data? :\",df.isnull().any().any())\r\n",
        "sns.heatmap(df.isnull(),cmap='summer')"
      ],
      "execution_count": 75,
      "outputs": [
        {
          "output_type": "stream",
          "text": [
            "Are There Missing Data? : False\n"
          ],
          "name": "stdout"
        },
        {
          "output_type": "execute_result",
          "data": {
            "text/plain": [
              "<matplotlib.axes._subplots.AxesSubplot at 0x7fd674e2f518>"
            ]
          },
          "metadata": {
            "tags": []
          },
          "execution_count": 75
        },
        {
          "output_type": "display_data",
          "data": {
            "image/png": "[encoded data removed]",
            "text/plain": [
              "<Figure size 432x288 with 2 Axes>"
            ]
          },
          "metadata": {
            "tags": [],
            "needs_background": "light"
          }
        }
      ]
    },
    {
      "cell_type": "code",
      "metadata": {
        "colab": {
          "base_uri": "https://localhost:8080/"
        },
        "id": "mrhoIV6MLZ68",
        "outputId": "712831dc-a68d-41fa-d469-6bc46a6a0c5b"
      },
      "source": [
        "#checking the Columns:\r\n",
        "columns = list(df.columns)\r\n",
        "print(df.shape)\r\n",
        "print(columns)"
      ],
      "execution_count": 76,
      "outputs": [
        {
          "output_type": "stream",
          "text": [
            "(58, 16)\n",
            "['Province_State', 'Country_Region', 'Last_Update', 'Confirmed', 'Deaths', 'Recovered', 'Active', 'FIPS', 'Incident_Rate', 'People_Tested', 'People_Hospitalized', 'Mortality_Rate', 'UID', 'ISO3', 'Testing_Rate', 'Hospitalization_Rate']\n"
          ],
          "name": "stdout"
        }
      ]
    },
    {
      "cell_type": "code",
      "metadata": {
        "colab": {
          "base_uri": "https://localhost:8080/",
          "height": 304
        },
        "id": "5EphsilLLZ9l",
        "outputId": "18a7df88-ca5a-4a90-fe57-fe2b2c47319e"
      },
      "source": [
        "#Doing Statistical Analysis by using Describe Function\r\n",
        "#Checking interquantile range.\r\n",
        "#Checking mean median mode\r\n",
        "df.describe()"
      ],
      "execution_count": 77,
      "outputs": [
        {
          "output_type": "execute_result",
          "data": {
            "text/html": [
              "<div>\n",
              "<style scoped>\n",
              "    .dataframe tbody tr th:only-of-type {\n",
              "        vertical-align: middle;\n",
              "    }\n",
              "\n",
              "    .dataframe tbody tr th {\n",
              "        vertical-align: top;\n",
              "    }\n",
              "\n",
              "    .dataframe thead th {\n",
              "        text-align: right;\n",
              "    }\n",
              "</style>\n",
              "<table border=\"1\" class=\"dataframe\">\n",
              "  <thead>\n",
              "    <tr style=\"text-align: right;\">\n",
              "      <th></th>\n",
              "      <th>Confirmed</th>\n",
              "      <th>Deaths</th>\n",
              "      <th>Recovered</th>\n",
              "      <th>Active</th>\n",
              "      <th>FIPS</th>\n",
              "      <th>Incident_Rate</th>\n",
              "      <th>People_Tested</th>\n",
              "      <th>People_Hospitalized</th>\n",
              "      <th>Mortality_Rate</th>\n",
              "      <th>UID</th>\n",
              "      <th>Testing_Rate</th>\n",
              "      <th>Hospitalization_Rate</th>\n",
              "    </tr>\n",
              "  </thead>\n",
              "  <tbody>\n",
              "    <tr>\n",
              "      <th>count</th>\n",
              "      <td>58.000000</td>\n",
              "      <td>58.000000</td>\n",
              "      <td>58.000000</td>\n",
              "      <td>58.000000</td>\n",
              "      <td>58.000000</td>\n",
              "      <td>58.000000</td>\n",
              "      <td>5.800000e+01</td>\n",
              "      <td>58.000000</td>\n",
              "      <td>58.000000</td>\n",
              "      <td>5.800000e+01</td>\n",
              "      <td>58.000000</td>\n",
              "      <td>58.000000</td>\n",
              "    </tr>\n",
              "    <tr>\n",
              "      <th>mean</th>\n",
              "      <td>26756.086207</td>\n",
              "      <td>1611.017241</td>\n",
              "      <td>7007.428571</td>\n",
              "      <td>20070.724138</td>\n",
              "      <td>3288.086207</td>\n",
              "      <td>396.230806</td>\n",
              "      <td>2.258534e+05</td>\n",
              "      <td>4897.454545</td>\n",
              "      <td>4.458248</td>\n",
              "      <td>7.676194e+07</td>\n",
              "      <td>3894.186870</td>\n",
              "      <td>14.342541</td>\n",
              "    </tr>\n",
              "    <tr>\n",
              "      <th>std</th>\n",
              "      <td>52562.031122</td>\n",
              "      <td>4084.750891</td>\n",
              "      <td>9901.304545</td>\n",
              "      <td>41294.705318</td>\n",
              "      <td>17408.350591</td>\n",
              "      <td>395.554852</td>\n",
              "      <td>2.934948e+05</td>\n",
              "      <td>9879.577790</td>\n",
              "      <td>2.116191</td>\n",
              "      <td>2.378302e+07</td>\n",
              "      <td>1898.951207</td>\n",
              "      <td>3.781861</td>\n",
              "    </tr>\n",
              "    <tr>\n",
              "      <th>min</th>\n",
              "      <td>0.000000</td>\n",
              "      <td>0.000000</td>\n",
              "      <td>13.000000</td>\n",
              "      <td>0.000000</td>\n",
              "      <td>1.000000</td>\n",
              "      <td>0.000000</td>\n",
              "      <td>1.240000e+02</td>\n",
              "      <td>65.000000</td>\n",
              "      <td>0.000000</td>\n",
              "      <td>1.600000e+01</td>\n",
              "      <td>97.702058</td>\n",
              "      <td>6.778043</td>\n",
              "    </tr>\n",
              "    <tr>\n",
              "      <th>25%</th>\n",
              "      <td>2596.000000</td>\n",
              "      <td>74.000000</td>\n",
              "      <td>1281.750000</td>\n",
              "      <td>812.500000</td>\n",
              "      <td>18.250000</td>\n",
              "      <td>154.909239</td>\n",
              "      <td>4.745000e+04</td>\n",
              "      <td>1454.500000</td>\n",
              "      <td>3.116158</td>\n",
              "      <td>8.400001e+07</td>\n",
              "      <td>2741.843521</td>\n",
              "      <td>12.829963</td>\n",
              "    </tr>\n",
              "    <tr>\n",
              "      <th>50%</th>\n",
              "      <td>10148.500000</td>\n",
              "      <td>385.000000</td>\n",
              "      <td>4987.000000</td>\n",
              "      <td>5644.500000</td>\n",
              "      <td>32.500000</td>\n",
              "      <td>259.009335</td>\n",
              "      <td>1.433085e+05</td>\n",
              "      <td>4897.454545</td>\n",
              "      <td>4.409323</td>\n",
              "      <td>8.400003e+07</td>\n",
              "      <td>3501.526835</td>\n",
              "      <td>14.342541</td>\n",
              "    </tr>\n",
              "    <tr>\n",
              "      <th>75%</th>\n",
              "      <td>29395.500000</td>\n",
              "      <td>1394.250000</td>\n",
              "      <td>7007.428571</td>\n",
              "      <td>19291.250000</td>\n",
              "      <td>47.750000</td>\n",
              "      <td>462.828082</td>\n",
              "      <td>2.646656e+05</td>\n",
              "      <td>4897.454545</td>\n",
              "      <td>5.450908</td>\n",
              "      <td>8.400004e+07</td>\n",
              "      <td>4622.586404</td>\n",
              "      <td>15.552021</td>\n",
              "    </tr>\n",
              "    <tr>\n",
              "      <th>max</th>\n",
              "      <td>354370.000000</td>\n",
              "      <td>28636.000000</td>\n",
              "      <td>61886.000000</td>\n",
              "      <td>263848.000000</td>\n",
              "      <td>99999.000000</td>\n",
              "      <td>1821.620216</td>\n",
              "      <td>1.505836e+06</td>\n",
              "      <td>76410.000000</td>\n",
              "      <td>9.545549</td>\n",
              "      <td>8.410000e+07</td>\n",
              "      <td>11377.424693</td>\n",
              "      <td>28.054438</td>\n",
              "    </tr>\n",
              "  </tbody>\n",
              "</table>\n",
              "</div>"
            ],
            "text/plain": [
              "           Confirmed        Deaths  ...  Testing_Rate  Hospitalization_Rate\n",
              "count      58.000000     58.000000  ...     58.000000             58.000000\n",
              "mean    26756.086207   1611.017241  ...   3894.186870             14.342541\n",
              "std     52562.031122   4084.750891  ...   1898.951207              3.781861\n",
              "min         0.000000      0.000000  ...     97.702058              6.778043\n",
              "25%      2596.000000     74.000000  ...   2741.843521             12.829963\n",
              "50%     10148.500000    385.000000  ...   3501.526835             14.342541\n",
              "75%     29395.500000   1394.250000  ...   4622.586404             15.552021\n",
              "max    354370.000000  28636.000000  ...  11377.424693             28.054438\n",
              "\n",
              "[8 rows x 12 columns]"
            ]
          },
          "metadata": {
            "tags": []
          },
          "execution_count": 77
        }
      ]
    },
    {
      "cell_type": "code",
      "metadata": {
        "id": "l9YpmIMlLaAM"
      },
      "source": [
        "#Avg confirmed cases is 26756.086\r\n",
        "#Avg no of Deaths is around 1611\r\n",
        "#Avg active cases 20070.72\r\n",
        "#Avg mortality rate is 4.458248\r\n",
        "#Avg Testing rate is 3894.186870\r\n",
        "#There is possibility of presence of outliers as mean of some features are greater than median.\r\n",
        "#In some of features theres an huge difference between 75% and max which confirm the presence of outliers."
      ],
      "execution_count": 78,
      "outputs": []
    },
    {
      "cell_type": "code",
      "metadata": {
        "id": "sTfFOLDVLaC1"
      },
      "source": [
        "#Exploratory Data Analysis\r\n",
        "\r\n",
        "#.Univarite Analysis\r\n",
        "\r\n",
        "#.Multivariate Analysis\r\n",
        "\r\n",
        "#.Bivariate Analysis\r\n",
        "\r\n",
        "#.Here we check the relationship between different independant and dependant variable"
      ],
      "execution_count": 79,
      "outputs": []
    },
    {
      "cell_type": "code",
      "metadata": {
        "colab": {
          "base_uri": "https://localhost:8080/"
        },
        "id": "NJKJUCpQLaFt",
        "outputId": "6ae76539-a6bf-4e38-abd6-d72e32e317d4"
      },
      "source": [
        "#Univariate Analysis:\r\n",
        "#Checking the total deaths cases:\r\n",
        "df['Deaths'].sum()"
      ],
      "execution_count": 80,
      "outputs": [
        {
          "output_type": "execute_result",
          "data": {
            "text/plain": [
              "93439"
            ]
          },
          "metadata": {
            "tags": []
          },
          "execution_count": 80
        }
      ]
    },
    {
      "cell_type": "code",
      "metadata": {
        "colab": {
          "base_uri": "https://localhost:8080/",
          "height": 601
        },
        "id": "MPtlShm9LaK1",
        "outputId": "8a08b99a-0e07-4ba1-b929-81777f40ea7a"
      },
      "source": [
        "#Bivariate Analysis:\r\n",
        "#Checking top 10 sates with highest recoverd cases:\r\n",
        "top_10 = df.groupby(by ='Province_State')['Recovered'].sum().sort_values(ascending=False).head(10).reset_index()\r\n",
        "print(top_10)\r\n",
        "# Visualizing by bar plot:\r\n",
        "plt.figure(figsize=(10,5))\r\n",
        "plt.xticks(rotation=45)\r\n",
        "sns.barplot(top_10['Province_State'],top_10['Recovered'])\r\n",
        "plt.xlabel('Province_State')\r\n",
        "plt.ylabel('Recovered')\r\n",
        "plt.title('Top 10 sates with highest recoverd cases')"
      ],
      "execution_count": 81,
      "outputs": [
        {
          "output_type": "stream",
          "text": [
            "   Province_State  Recovered\n",
            "0        New York    61886.0\n",
            "1           Texas    30341.0\n",
            "2        Michigan    28234.0\n",
            "3       Louisiana    26249.0\n",
            "4      New Jersey    23945.0\n",
            "5       Minnesota    12227.0\n",
            "6       Tennessee    11783.0\n",
            "7  North Carolina    11637.0\n",
            "8            Iowa     8362.0\n",
            "9       Wisconsin     7728.0\n"
          ],
          "name": "stdout"
        },
        {
          "output_type": "execute_result",
          "data": {
            "text/plain": [
              "Text(0.5, 1.0, 'Top 10 sates with highest recoverd cases')"
            ]
          },
          "metadata": {
            "tags": []
          },
          "execution_count": 81
        },
        {
          "output_type": "display_data",
          "data": {
            "image/png": "[encoded data removed]",
            "text/plain": [
              "<Figure size 720x360 with 1 Axes>"
            ]
          },
          "metadata": {
            "tags": [],
            "needs_background": "light"
          }
        }
      ]
    },
    {
      "cell_type": "code",
      "metadata": {
        "colab": {
          "base_uri": "https://localhost:8080/",
          "height": 367
        },
        "id": "0gUpbDi_LaNf",
        "outputId": "81bec2ee-f8f3-4507-8dc1-8d12f698156d"
      },
      "source": [
        "# Bivariate Analysis Linear regression with marginal distributions\r\n",
        "# Checking the relation Bewtween Confirmed cases and Deaths\r\n",
        "plt.figure(figsize=(7,5))\r\n",
        "sns.lineplot(x=\"Confirmed\", y=\"Deaths\", data=df,color='red')\r\n",
        "plt.xlabel('Confirmed')\r\n",
        "plt.title(\"Confirmed cases and Deaths\")\r\n",
        "plt.ylabel('Deaths')"
      ],
      "execution_count": 82,
      "outputs": [
        {
          "output_type": "execute_result",
          "data": {
            "text/plain": [
              "Text(0, 0.5, 'Deaths')"
            ]
          },
          "metadata": {
            "tags": []
          },
          "execution_count": 82
        },
        {
          "output_type": "display_data",
          "data": {
            "image/png": "[encoded data removed]",
            "text/plain": [
              "<Figure size 504x360 with 1 Axes>"
            ]
          },
          "metadata": {
            "tags": [],
            "needs_background": "light"
          }
        }
      ]
    },
    {
      "cell_type": "code",
      "metadata": {
        "id": "Ng3YMgbZLaQA"
      },
      "source": [
        "#With increase in confirmed Cases Deaths is also incresing."
      ],
      "execution_count": 83,
      "outputs": []
    },
    {
      "cell_type": "code",
      "metadata": {
        "colab": {
          "base_uri": "https://localhost:8080/",
          "height": 513
        },
        "id": "t5Rx6K_BLaS3",
        "outputId": "51b24e4e-f928-46eb-a6b8-16cecc82b215"
      },
      "source": [
        "# Bivariate Analysis Linear regression with marginal distributions\r\n",
        "# Checking the relation Bewtween Active cases and Deaths\r\n",
        "plt.figure(figsize=(10,7))\r\n",
        "sns.pointplot(x=\"Active\", y=\"Deaths\", data=df,color='red')\r\n",
        "plt.xlabel('Confirmed')\r\n",
        "plt.xticks(rotation=90)\r\n",
        "plt.title(\"Active cases and Deaths\")\r\n",
        "plt.ylabel('Deaths')"
      ],
      "execution_count": 84,
      "outputs": [
        {
          "output_type": "execute_result",
          "data": {
            "text/plain": [
              "Text(0, 0.5, 'Deaths')"
            ]
          },
          "metadata": {
            "tags": []
          },
          "execution_count": 84
        },
        {
          "output_type": "display_data",
          "data": {
            "image/png": "[encoded data removed]",
            "text/plain": [
              "<Figure size 720x504 with 1 Axes>"
            ]
          },
          "metadata": {
            "tags": [],
            "needs_background": "light"
          }
        }
      ]
    },
    {
      "cell_type": "code",
      "metadata": {
        "id": "66cOdMSlLaWV"
      },
      "source": [
        "#With increase in Active Cases Death rate is also increasing."
      ],
      "execution_count": 85,
      "outputs": []
    },
    {
      "cell_type": "code",
      "metadata": {
        "colab": {
          "base_uri": "https://localhost:8080/",
          "height": 638
        },
        "id": "XKALZpBSLaZJ",
        "outputId": "db460ccd-b248-4bc9-f021-eb40055502a1"
      },
      "source": [
        "#Bivariate Analysis:\r\n",
        "#Checking top 10 sates with highest Testing Rates:\r\n",
        "top_10 = df.groupby(by ='Province_State')['Testing_Rate'].sum().sort_values(ascending=False).head(10).reset_index()\r\n",
        "print(top_10)\r\n",
        "# Visualizing by bar plot:\r\n",
        "plt.figure(figsize=(10,5))\r\n",
        "plt.xticks(rotation=45)\r\n",
        "sns.barplot(top_10['Province_State'],top_10['Testing_Rate'])\r\n",
        "plt.xlabel('Province_State')\r\n",
        "plt.ylabel('Testing_Rate')\r\n",
        "plt.title('Top 10 sates with highest Testing Rates')"
      ],
      "execution_count": 86,
      "outputs": [
        {
          "output_type": "stream",
          "text": [
            "             Province_State  Testing_Rate\n",
            "0              Rhode Island  11377.424693\n",
            "1              North Dakota   7768.396797\n",
            "2                  New York   7740.670204\n",
            "3             Massachusetts   7108.491647\n",
            "4  Northern Mariana Islands   6921.877267\n",
            "5                New Mexico   6783.862680\n",
            "6                 Louisiana   6151.487891\n",
            "7                New Jersey   5982.117023\n",
            "8      District of Columbia   5727.106946\n",
            "9                      Utah   5604.065930\n"
          ],
          "name": "stdout"
        },
        {
          "output_type": "execute_result",
          "data": {
            "text/plain": [
              "Text(0.5, 1.0, 'Top 10 sates with highest Testing Rates')"
            ]
          },
          "metadata": {
            "tags": []
          },
          "execution_count": 86
        },
        {
          "output_type": "display_data",
          "data": {
            "image/png": "[encoded data removed]",
            "text/plain": [
              "<Figure size 720x360 with 1 Axes>"
            ]
          },
          "metadata": {
            "tags": [],
            "needs_background": "light"
          }
        }
      ]
    },
    {
      "cell_type": "code",
      "metadata": {
        "colab": {
          "base_uri": "https://localhost:8080/",
          "height": 602
        },
        "id": "E1Kbhty6Labx",
        "outputId": "58735e24-4527-4680-874a-45929e2c6f43"
      },
      "source": [
        "#Bivariate Analysis:\r\n",
        "#Checking top 10 sates with highest Active Cases:\r\n",
        "top_10 = df.groupby(by ='Province_State')['Active'].sum().sort_values(ascending=False).head(10).reset_index()\r\n",
        "print(top_10)\r\n",
        "# Visualizing by bar plot:\r\n",
        "plt.figure(figsize=(10,5))\r\n",
        "plt.xticks(rotation=45)\r\n",
        "sns.barplot(top_10['Province_State'],top_10['Active'])\r\n",
        "plt.xlabel('Province_State')\r\n",
        "plt.ylabel('Recovered')\r\n",
        "plt.title('Top 10 sates with highest Active cases')"
      ],
      "execution_count": 87,
      "outputs": [
        {
          "output_type": "stream",
          "text": [
            "  Province_State    Active\n",
            "0       New York  263848.0\n",
            "1     New Jersey  116082.0\n",
            "2       Illinois   95893.0\n",
            "3  Massachusetts   82904.0\n",
            "4     California   82500.0\n",
            "5   Pennsylvania   63356.0\n",
            "6        Florida   45375.0\n",
            "7        Georgia   38104.0\n",
            "8       Maryland   37207.0\n",
            "9    Connecticut   29224.0\n"
          ],
          "name": "stdout"
        },
        {
          "output_type": "execute_result",
          "data": {
            "text/plain": [
              "Text(0.5, 1.0, 'Top 10 sates with highest Active cases')"
            ]
          },
          "metadata": {
            "tags": []
          },
          "execution_count": 87
        },
        {
          "output_type": "display_data",
          "data": {
            "image/png": "[encoded data removed]",
            "text/plain": [
              "<Figure size 720x360 with 1 Axes>"
            ]
          },
          "metadata": {
            "tags": [],
            "needs_background": "light"
          }
        }
      ]
    },
    {
      "cell_type": "code",
      "metadata": {
        "colab": {
          "base_uri": "https://localhost:8080/",
          "height": 343
        },
        "id": "cDMqlaTdJn8z",
        "outputId": "43ed02df-edf7-4b22-b5e1-b69a72b36185"
      },
      "source": [
        "#Checking State wise total confirmed and Recovered and Deaths Cases.\r\n",
        "df.groupby('Province_State')['Confirmed','Recovered','Deaths'].sum().sort_values(ascending=False,by='Deaths').reset_index().head(10)"
      ],
      "execution_count": 88,
      "outputs": [
        {
          "output_type": "execute_result",
          "data": {
            "text/html": [
              "<div>\n",
              "<style scoped>\n",
              "    .dataframe tbody tr th:only-of-type {\n",
              "        vertical-align: middle;\n",
              "    }\n",
              "\n",
              "    .dataframe tbody tr th {\n",
              "        vertical-align: top;\n",
              "    }\n",
              "\n",
              "    .dataframe thead th {\n",
              "        text-align: right;\n",
              "    }\n",
              "</style>\n",
              "<table border=\"1\" class=\"dataframe\">\n",
              "  <thead>\n",
              "    <tr style=\"text-align: right;\">\n",
              "      <th></th>\n",
              "      <th>Province_State</th>\n",
              "      <th>Confirmed</th>\n",
              "      <th>Recovered</th>\n",
              "      <th>Deaths</th>\n",
              "    </tr>\n",
              "  </thead>\n",
              "  <tbody>\n",
              "    <tr>\n",
              "      <th>0</th>\n",
              "      <td>New York</td>\n",
              "      <td>354370</td>\n",
              "      <td>61886.000000</td>\n",
              "      <td>28636</td>\n",
              "    </tr>\n",
              "    <tr>\n",
              "      <th>1</th>\n",
              "      <td>New Jersey</td>\n",
              "      <td>150776</td>\n",
              "      <td>23945.000000</td>\n",
              "      <td>10749</td>\n",
              "    </tr>\n",
              "    <tr>\n",
              "      <th>2</th>\n",
              "      <td>Massachusetts</td>\n",
              "      <td>88970</td>\n",
              "      <td>7007.428571</td>\n",
              "      <td>6066</td>\n",
              "    </tr>\n",
              "    <tr>\n",
              "      <th>3</th>\n",
              "      <td>Michigan</td>\n",
              "      <td>53009</td>\n",
              "      <td>28234.000000</td>\n",
              "      <td>5060</td>\n",
              "    </tr>\n",
              "    <tr>\n",
              "      <th>4</th>\n",
              "      <td>Pennsylvania</td>\n",
              "      <td>68126</td>\n",
              "      <td>7007.428571</td>\n",
              "      <td>4770</td>\n",
              "    </tr>\n",
              "    <tr>\n",
              "      <th>5</th>\n",
              "      <td>Illinois</td>\n",
              "      <td>100418</td>\n",
              "      <td>7007.428571</td>\n",
              "      <td>4525</td>\n",
              "    </tr>\n",
              "    <tr>\n",
              "      <th>6</th>\n",
              "      <td>Connecticut</td>\n",
              "      <td>39017</td>\n",
              "      <td>6264.000000</td>\n",
              "      <td>3529</td>\n",
              "    </tr>\n",
              "    <tr>\n",
              "      <th>7</th>\n",
              "      <td>California</td>\n",
              "      <td>85997</td>\n",
              "      <td>7007.428571</td>\n",
              "      <td>3497</td>\n",
              "    </tr>\n",
              "    <tr>\n",
              "      <th>8</th>\n",
              "      <td>Louisiana</td>\n",
              "      <td>35316</td>\n",
              "      <td>26249.000000</td>\n",
              "      <td>2608</td>\n",
              "    </tr>\n",
              "    <tr>\n",
              "      <th>9</th>\n",
              "      <td>Maryland</td>\n",
              "      <td>42323</td>\n",
              "      <td>2993.000000</td>\n",
              "      <td>2123</td>\n",
              "    </tr>\n",
              "  </tbody>\n",
              "</table>\n",
              "</div>"
            ],
            "text/plain": [
              "  Province_State  Confirmed     Recovered  Deaths\n",
              "0       New York     354370  61886.000000   28636\n",
              "1     New Jersey     150776  23945.000000   10749\n",
              "2  Massachusetts      88970   7007.428571    6066\n",
              "3       Michigan      53009  28234.000000    5060\n",
              "4   Pennsylvania      68126   7007.428571    4770\n",
              "5       Illinois     100418   7007.428571    4525\n",
              "6    Connecticut      39017   6264.000000    3529\n",
              "7     California      85997   7007.428571    3497\n",
              "8      Louisiana      35316  26249.000000    2608\n",
              "9       Maryland      42323   2993.000000    2123"
            ]
          },
          "metadata": {
            "tags": []
          },
          "execution_count": 88
        }
      ]
    },
    {
      "cell_type": "code",
      "metadata": {
        "colab": {
          "base_uri": "https://localhost:8080/",
          "height": 602
        },
        "id": "lXYuhMH9JoAI",
        "outputId": "8ef16dd1-50ab-44b5-d18c-43ca61759a25"
      },
      "source": [
        "#Bivariate Analysis:\r\n",
        "#Checking top 10 sates with highest Deaths:\r\n",
        "top_10 = df.groupby(by ='Province_State')['Deaths'].sum().sort_values(ascending=False).head(10).reset_index()\r\n",
        "print(top_10)\r\n",
        "# Visualizing by bar plot:\r\n",
        "plt.figure(figsize=(10,5))\r\n",
        "plt.xticks(rotation=45)\r\n",
        "sns.barplot(top_10['Province_State'],top_10['Deaths'])\r\n",
        "plt.xlabel('Province_State')\r\n",
        "plt.ylabel('Recovered')\r\n",
        "plt.title('Top 10 sates with highest Deaths')"
      ],
      "execution_count": 89,
      "outputs": [
        {
          "output_type": "stream",
          "text": [
            "  Province_State  Deaths\n",
            "0       New York   28636\n",
            "1     New Jersey   10749\n",
            "2  Massachusetts    6066\n",
            "3       Michigan    5060\n",
            "4   Pennsylvania    4770\n",
            "5       Illinois    4525\n",
            "6    Connecticut    3529\n",
            "7     California    3497\n",
            "8      Louisiana    2608\n",
            "9       Maryland    2123\n"
          ],
          "name": "stdout"
        },
        {
          "output_type": "execute_result",
          "data": {
            "text/plain": [
              "Text(0.5, 1.0, 'Top 10 sates with highest Deaths')"
            ]
          },
          "metadata": {
            "tags": []
          },
          "execution_count": 89
        },
        {
          "output_type": "display_data",
          "data": {
            "image/png": "[encoded data removed]",
            "text/plain": [
              "<Figure size 720x360 with 1 Axes>"
            ]
          },
          "metadata": {
            "tags": [],
            "needs_background": "light"
          }
        }
      ]
    },
    {
      "cell_type": "code",
      "metadata": {
        "colab": {
          "base_uri": "https://localhost:8080/",
          "height": 77
        },
        "id": "XMJfNpBTMZDV",
        "outputId": "558ce167-791e-44c3-84e3-87b77f461470"
      },
      "source": [
        "#Checking no of confirmed Active and Deaths cases on Newyork:\r\n",
        "new_york = df.loc[df['Province_State'] == 'New York']\r\n",
        "new_york.groupby(by='Confirmed')['Active','Deaths'].sum().head().reset_index()"
      ],
      "execution_count": 90,
      "outputs": [
        {
          "output_type": "execute_result",
          "data": {
            "text/html": [
              "<div>\n",
              "<style scoped>\n",
              "    .dataframe tbody tr th:only-of-type {\n",
              "        vertical-align: middle;\n",
              "    }\n",
              "\n",
              "    .dataframe tbody tr th {\n",
              "        vertical-align: top;\n",
              "    }\n",
              "\n",
              "    .dataframe thead th {\n",
              "        text-align: right;\n",
              "    }\n",
              "</style>\n",
              "<table border=\"1\" class=\"dataframe\">\n",
              "  <thead>\n",
              "    <tr style=\"text-align: right;\">\n",
              "      <th></th>\n",
              "      <th>Confirmed</th>\n",
              "      <th>Active</th>\n",
              "      <th>Deaths</th>\n",
              "    </tr>\n",
              "  </thead>\n",
              "  <tbody>\n",
              "    <tr>\n",
              "      <th>0</th>\n",
              "      <td>354370</td>\n",
              "      <td>263848.0</td>\n",
              "      <td>28636</td>\n",
              "    </tr>\n",
              "  </tbody>\n",
              "</table>\n",
              "</div>"
            ],
            "text/plain": [
              "   Confirmed    Active  Deaths\n",
              "0     354370  263848.0   28636"
            ]
          },
          "metadata": {
            "tags": []
          },
          "execution_count": 90
        }
      ]
    },
    {
      "cell_type": "code",
      "metadata": {
        "colab": {
          "base_uri": "https://localhost:8080/",
          "height": 77
        },
        "id": "vLw2YmEaMZGD",
        "outputId": "b5cee8d1-2a29-424e-f331-0ec4710a2af7"
      },
      "source": [
        "#Checking no of confirmed Active and Deaths cases on New Jersey:\r\n",
        "New_Jersey = df.loc[df['Province_State'] == 'New Jersey']\r\n",
        "New_Jersey.groupby(by='Confirmed')['Active','Deaths'].sum().head().reset_index()"
      ],
      "execution_count": 91,
      "outputs": [
        {
          "output_type": "execute_result",
          "data": {
            "text/html": [
              "<div>\n",
              "<style scoped>\n",
              "    .dataframe tbody tr th:only-of-type {\n",
              "        vertical-align: middle;\n",
              "    }\n",
              "\n",
              "    .dataframe tbody tr th {\n",
              "        vertical-align: top;\n",
              "    }\n",
              "\n",
              "    .dataframe thead th {\n",
              "        text-align: right;\n",
              "    }\n",
              "</style>\n",
              "<table border=\"1\" class=\"dataframe\">\n",
              "  <thead>\n",
              "    <tr style=\"text-align: right;\">\n",
              "      <th></th>\n",
              "      <th>Confirmed</th>\n",
              "      <th>Active</th>\n",
              "      <th>Deaths</th>\n",
              "    </tr>\n",
              "  </thead>\n",
              "  <tbody>\n",
              "    <tr>\n",
              "      <th>0</th>\n",
              "      <td>150776</td>\n",
              "      <td>116082.0</td>\n",
              "      <td>10749</td>\n",
              "    </tr>\n",
              "  </tbody>\n",
              "</table>\n",
              "</div>"
            ],
            "text/plain": [
              "   Confirmed    Active  Deaths\n",
              "0     150776  116082.0   10749"
            ]
          },
          "metadata": {
            "tags": []
          },
          "execution_count": 91
        }
      ]
    },
    {
      "cell_type": "code",
      "metadata": {
        "colab": {
          "base_uri": "https://localhost:8080/",
          "height": 77
        },
        "id": "Z0iLsrzOM0-9",
        "outputId": "d7b655a3-71f3-494b-9bbf-db339e71c241"
      },
      "source": [
        "#Checking no of confirmed Active and Deaths cases on California:\r\n",
        "california = df.loc[df['Province_State'] == 'California']\r\n",
        "california.groupby(by='Confirmed')['Active','Deaths'].sum().head().reset_index()"
      ],
      "execution_count": 92,
      "outputs": [
        {
          "output_type": "execute_result",
          "data": {
            "text/html": [
              "<div>\n",
              "<style scoped>\n",
              "    .dataframe tbody tr th:only-of-type {\n",
              "        vertical-align: middle;\n",
              "    }\n",
              "\n",
              "    .dataframe tbody tr th {\n",
              "        vertical-align: top;\n",
              "    }\n",
              "\n",
              "    .dataframe thead th {\n",
              "        text-align: right;\n",
              "    }\n",
              "</style>\n",
              "<table border=\"1\" class=\"dataframe\">\n",
              "  <thead>\n",
              "    <tr style=\"text-align: right;\">\n",
              "      <th></th>\n",
              "      <th>Confirmed</th>\n",
              "      <th>Active</th>\n",
              "      <th>Deaths</th>\n",
              "    </tr>\n",
              "  </thead>\n",
              "  <tbody>\n",
              "    <tr>\n",
              "      <th>0</th>\n",
              "      <td>85997</td>\n",
              "      <td>82500.0</td>\n",
              "      <td>3497</td>\n",
              "    </tr>\n",
              "  </tbody>\n",
              "</table>\n",
              "</div>"
            ],
            "text/plain": [
              "   Confirmed   Active  Deaths\n",
              "0      85997  82500.0    3497"
            ]
          },
          "metadata": {
            "tags": []
          },
          "execution_count": 92
        }
      ]
    },
    {
      "cell_type": "code",
      "metadata": {
        "colab": {
          "base_uri": "https://localhost:8080/",
          "height": 77
        },
        "id": "_8fIEN1WM1Kp",
        "outputId": "7ef2eaa9-5017-41c9-e7c3-2befebc56631"
      },
      "source": [
        "#Checking no of confirmed Active and Deaths cases on Indiana:\r\n",
        "indiana = df.loc[df['Province_State'] == 'Indiana']\r\n",
        "indiana.groupby(by='Confirmed')['Active','Deaths'].sum().head().reset_index()"
      ],
      "execution_count": 93,
      "outputs": [
        {
          "output_type": "execute_result",
          "data": {
            "text/html": [
              "<div>\n",
              "<style scoped>\n",
              "    .dataframe tbody tr th:only-of-type {\n",
              "        vertical-align: middle;\n",
              "    }\n",
              "\n",
              "    .dataframe tbody tr th {\n",
              "        vertical-align: top;\n",
              "    }\n",
              "\n",
              "    .dataframe thead th {\n",
              "        text-align: right;\n",
              "    }\n",
              "</style>\n",
              "<table border=\"1\" class=\"dataframe\">\n",
              "  <thead>\n",
              "    <tr style=\"text-align: right;\">\n",
              "      <th></th>\n",
              "      <th>Confirmed</th>\n",
              "      <th>Active</th>\n",
              "      <th>Deaths</th>\n",
              "    </tr>\n",
              "  </thead>\n",
              "  <tbody>\n",
              "    <tr>\n",
              "      <th>0</th>\n",
              "      <td>29274</td>\n",
              "      <td>27410.0</td>\n",
              "      <td>1864</td>\n",
              "    </tr>\n",
              "  </tbody>\n",
              "</table>\n",
              "</div>"
            ],
            "text/plain": [
              "   Confirmed   Active  Deaths\n",
              "0      29274  27410.0    1864"
            ]
          },
          "metadata": {
            "tags": []
          },
          "execution_count": 93
        }
      ]
    },
    {
      "cell_type": "code",
      "metadata": {
        "colab": {
          "base_uri": "https://localhost:8080/",
          "height": 669
        },
        "id": "dO3zsln3M1Sh",
        "outputId": "9d14b3c0-72a0-434b-bbe9-230c479608d9"
      },
      "source": [
        "#Bivariate Analysis:\r\n",
        "#Checking top 10 states with highest Mortality_Rate:\r\n",
        "top_10 = df.groupby(by ='Province_State')['Mortality_Rate'].sum().sort_values(ascending=False).head(10).reset_index()\r\n",
        "print(top_10)\r\n",
        "# Visualizing by bar plot:\r\n",
        "plt.figure(figsize=(10,5))\r\n",
        "plt.xticks(rotation=90)\r\n",
        "sns.barplot(top_10['Province_State'],top_10['Mortality_Rate'])\r\n",
        "plt.xlabel('Province_State')\r\n",
        "plt.ylabel('Mortality_Rate')\r\n",
        "plt.title('Top 10 states highest Mortality_Rate')"
      ],
      "execution_count": 94,
      "outputs": [
        {
          "output_type": "stream",
          "text": [
            "             Province_State  Mortality_Rate\n",
            "0                  Michigan        9.545549\n",
            "1  Northern Mariana Islands        9.523810\n",
            "2               Connecticut        9.044775\n",
            "3            Virgin Islands        8.695652\n",
            "4                  New York        8.080819\n",
            "5                 Louisiana        7.384755\n",
            "6                New Jersey        7.129119\n",
            "7              Pennsylvania        7.001732\n",
            "8             Massachusetts        6.818029\n",
            "9                   Indiana        6.367425\n"
          ],
          "name": "stdout"
        },
        {
          "output_type": "execute_result",
          "data": {
            "text/plain": [
              "Text(0.5, 1.0, 'Top 10 states highest Mortality_Rate')"
            ]
          },
          "metadata": {
            "tags": []
          },
          "execution_count": 94
        },
        {
          "output_type": "display_data",
          "data": {
            "image/png": "[encoded data removed]",
            "text/plain": [
              "<Figure size 720x360 with 1 Axes>"
            ]
          },
          "metadata": {
            "tags": [],
            "needs_background": "light"
          }
        }
      ]
    },
    {
      "cell_type": "code",
      "metadata": {
        "id": "ALvwZzyVNEjK"
      },
      "source": [
        "#Checking the coerelation:\r\n",
        "#how the different neumerical features are corelated to each other \r\n",
        "#Their strength of relationship\r\n",
        "#Their influence on target variable."
      ],
      "execution_count": 95,
      "outputs": []
    },
    {
      "cell_type": "code",
      "metadata": {
        "id": "aAyXbmkpNErW"
      },
      "source": [
        "#Handling Categorical Data One can find many ways to handle categorical data. Some of them categorical data are,\r\n",
        "\r\n",
        "#Nominal data : data are not in any order : OneHotEncoder is used in this case\r\n",
        "\r\n",
        "#Ordinal data : data are in order : LabelEncoder is used in this case"
      ],
      "execution_count": 96,
      "outputs": []
    },
    {
      "cell_type": "code",
      "metadata": {
        "id": "lxYyc1YoNEuv"
      },
      "source": [
        "df.drop(columns=['Last_Update','Country_Region','ISO3'],axis=1,inplace=True)"
      ],
      "execution_count": 97,
      "outputs": []
    },
    {
      "cell_type": "code",
      "metadata": {
        "colab": {
          "base_uri": "https://localhost:8080/"
        },
        "id": "KXauC-CYNEw7",
        "outputId": "96165209-5ba3-4547-e326-a024d6e1f8cb"
      },
      "source": [
        "df[\"Province_State\"].value_counts().sort_values(ascending = True).head()"
      ],
      "execution_count": 98,
      "outputs": [
        {
          "output_type": "execute_result",
          "data": {
            "text/plain": [
              "Guam          1\n",
              "Louisiana     1\n",
              "Oklahoma      1\n",
              "New Mexico    1\n",
              "Oregon        1\n",
              "Name: Province_State, dtype: int64"
            ]
          },
          "metadata": {
            "tags": []
          },
          "execution_count": 98
        }
      ]
    },
    {
      "cell_type": "code",
      "metadata": {
        "id": "ChoqPTOyNEz8"
      },
      "source": [
        "#using Label Encoder to convert Categorical data into neumeric:\r\n",
        "from sklearn.preprocessing import LabelEncoder\r\n",
        "le = LabelEncoder()\r\n",
        "columns = [\"Province_State\"]\r\n",
        "for col in columns:\r\n",
        "    df[col] = le.fit_transform(df[col])"
      ],
      "execution_count": 99,
      "outputs": []
    },
    {
      "cell_type": "code",
      "metadata": {
        "colab": {
          "base_uri": "https://localhost:8080/"
        },
        "id": "TszN2MyWNE2c",
        "outputId": "39f361b8-fd80-4104-81d8-cacadb857660"
      },
      "source": [
        "#Checking for skewness:\r\n",
        "#whether the features are right or left skewed.\r\n",
        "#for right and left skewed we can use logarthim transformation.\r\n",
        "#if the skewness value is greater than o.55 then the features are skewed.\r\n",
        "print(df.skew())\r\n",
        "print(\"Skewed features: \",len(df.skew().loc[abs(df.skew())>0.55]))"
      ],
      "execution_count": 100,
      "outputs": [
        {
          "output_type": "stream",
          "text": [
            "Province_State          0.000000\n",
            "Confirmed               4.708614\n",
            "Deaths                  5.489201\n",
            "Recovered               3.647693\n",
            "Active                  4.180953\n",
            "FIPS                    5.269070\n",
            "Incident_Rate           1.988351\n",
            "People_Tested           2.829700\n",
            "People_Hospitalized     6.869437\n",
            "Mortality_Rate          0.496115\n",
            "UID                    -3.027480\n",
            "Testing_Rate            1.313407\n",
            "Hospitalization_Rate    0.867341\n",
            "dtype: float64\n",
            "Skewed features:  11\n"
          ],
          "name": "stdout"
        }
      ]
    },
    {
      "cell_type": "code",
      "metadata": {
        "id": "Gin05LXrNE5Z"
      },
      "source": [
        "import scipy.stats as stat\r\n",
        "import pylab"
      ],
      "execution_count": 101,
      "outputs": []
    },
    {
      "cell_type": "code",
      "metadata": {
        "id": "vkjjfFBQNFRc"
      },
      "source": [
        "#If you want to check whether feature is guassian or normal distributed\r\n",
        "# Q-Q plot is used to check wheather the data are normally distributed or not by graphically.\r\n",
        "def plot_data(df,feature):\r\n",
        "    plt.figure(figsize=(12,6))\r\n",
        "    plt.subplot(1,2,1)\r\n",
        "    df[feature].hist()\r\n",
        "    plt.subplot(1,2,2)\r\n",
        "    stat.probplot(df[feature],dist='norm',plot=pylab)\r\n",
        "    plt.show()"
      ],
      "execution_count": 102,
      "outputs": []
    },
    {
      "cell_type": "code",
      "metadata": {
        "colab": {
          "base_uri": "https://localhost:8080/",
          "height": 421
        },
        "id": "NWGkDoEFNFUo",
        "outputId": "0eaacebf-0776-4ab8-b90a-51b2b90e8268"
      },
      "source": [
        "#Checking distribution of Target class:\r\n",
        "plt.figure(figsize=(5,5))\r\n",
        "plot_data(df,'Deaths')"
      ],
      "execution_count": 103,
      "outputs": [
        {
          "output_type": "display_data",
          "data": {
            "text/plain": [
              "<Figure size 360x360 with 0 Axes>"
            ]
          },
          "metadata": {
            "tags": []
          }
        },
        {
          "output_type": "display_data",
          "data": {
            "image/png": "[encoded data removed]",
            "text/plain": [
              "<Figure size 864x432 with 2 Axes>"
            ]
          },
          "metadata": {
            "tags": [],
            "needs_background": "light"
          }
        }
      ]
    },
    {
      "cell_type": "code",
      "metadata": {
        "colab": {
          "base_uri": "https://localhost:8080/",
          "height": 421
        },
        "id": "z2mK7rnCNFW0",
        "outputId": "ba8133b2-6fd7-46b3-ed2a-539e90cb2d05"
      },
      "source": [
        "#Checking Distribution of People Tested:\r\n",
        "plt.figure(figsize=(5,5))\r\n",
        "plot_data(df,'People_Tested')"
      ],
      "execution_count": 104,
      "outputs": [
        {
          "output_type": "display_data",
          "data": {
            "text/plain": [
              "<Figure size 360x360 with 0 Axes>"
            ]
          },
          "metadata": {
            "tags": []
          }
        },
        {
          "output_type": "display_data",
          "data": {
            "image/png": "[encoded data removed]",
            "text/plain": [
              "<Figure size 864x432 with 2 Axes>"
            ]
          },
          "metadata": {
            "tags": [],
            "needs_background": "light"
          }
        }
      ]
    },
    {
      "cell_type": "code",
      "metadata": {
        "id": "Ng8s2wvGM1Yv"
      },
      "source": [
        "# We can clearly see data points are not been normally distributed.\r\n",
        "for col in df.columns:\r\n",
        "        if df.skew().loc[col]>0.55:\r\n",
        "            df[col] = np.log1p(df[col])"
      ],
      "execution_count": 105,
      "outputs": []
    },
    {
      "cell_type": "code",
      "metadata": {
        "id": "9i7asLwPON6g"
      },
      "source": [
        "#Checking for outliers\r\n",
        "#outlier is a data point that differs significantly from other observations. \r\n",
        "#Any datapoint greater than +3 Standard Deviations and -3 SD are called Outliers\r\n",
        "#Zscore is Automated method used to handle outliers."
      ],
      "execution_count": 106,
      "outputs": []
    },
    {
      "cell_type": "code",
      "metadata": {
        "colab": {
          "base_uri": "https://localhost:8080/"
        },
        "id": "riI_BGC7ON9t",
        "outputId": "b96a7d06-690e-4736-892e-aaba10dfbbfe"
      },
      "source": [
        "#Let check wheather any outliers are present or not:\r\n",
        "from scipy.stats import zscore\r\n",
        "zscore = abs(zscore(df))\r\n",
        "print(\"Before removal of outliers:\",df.shape)\r\n",
        "df_final = df.loc[(zscore<3).all(axis=1)]\r\n",
        "print(\"After removal of outliers:\",df_final.shape)"
      ],
      "execution_count": 107,
      "outputs": [
        {
          "output_type": "stream",
          "text": [
            "Before removal of outliers: (58, 13)\n",
            "After removal of outliers: (51, 13)\n"
          ],
          "name": "stdout"
        }
      ]
    },
    {
      "cell_type": "code",
      "metadata": {
        "colab": {
          "base_uri": "https://localhost:8080/"
        },
        "id": "QpGX1MCiOOAT",
        "outputId": "3a59caa3-3f86-445e-c1e1-5fdb418afbc5"
      },
      "source": [
        "#Let Separate the input and output variable:\r\n",
        "#Let select input and output value:\r\n",
        "X = df_final.drop('Deaths',axis=1)\r\n",
        "y = df_final['Deaths']\r\n",
        "print('shape of X is {}'.format(X.shape))\r\n",
        "print('shape of y is {}'.format(y.shape))"
      ],
      "execution_count": 108,
      "outputs": [
        {
          "output_type": "stream",
          "text": [
            "shape of X is (51, 12)\n",
            "shape of y is (51,)\n"
          ],
          "name": "stdout"
        }
      ]
    },
    {
      "cell_type": "code",
      "metadata": {
        "id": "MDMqIQAFOODW"
      },
      "source": [
        "#Breaking the model into training and testing split:\r\n",
        "from sklearn.model_selection import train_test_split\r\n",
        "X_train, X_test, y_train, y_test = train_test_split(X,y,test_size=0.2,random_state=42)"
      ],
      "execution_count": 109,
      "outputs": []
    },
    {
      "cell_type": "code",
      "metadata": {
        "colab": {
          "base_uri": "https://localhost:8080/"
        },
        "id": "8jCR7uM3OOKU",
        "outputId": "f03441c0-350b-4091-cbda-d7cafa361d0d"
      },
      "source": [
        "print(X_train.shape,'\\t',X_test.shape)"
      ],
      "execution_count": 110,
      "outputs": [
        {
          "output_type": "stream",
          "text": [
            "(40, 12) \t (11, 12)\n"
          ],
          "name": "stdout"
        }
      ]
    },
    {
      "cell_type": "code",
      "metadata": {
        "colab": {
          "base_uri": "https://localhost:8080/"
        },
        "id": "rOi26vOgOONT",
        "outputId": "79a6575b-28fb-4c0d-9335-9d8ffa7f1cd2"
      },
      "source": [
        "print(y_train.shape,'\\t',y_test.shape)"
      ],
      "execution_count": 111,
      "outputs": [
        {
          "output_type": "stream",
          "text": [
            "(40,) \t (11,)\n"
          ],
          "name": "stdout"
        }
      ]
    },
    {
      "cell_type": "code",
      "metadata": {
        "id": "gmlh_5ZJOORw"
      },
      "source": [
        "#Checking the coerelation:\r\n",
        "#how the different neumerical features are corelated to each other \r\n",
        "#Their strength of relationship\r\n",
        "#Their influence on target variable.\r\n",
        "corrmat = X_train.corr()"
      ],
      "execution_count": 112,
      "outputs": []
    },
    {
      "cell_type": "code",
      "metadata": {
        "colab": {
          "base_uri": "https://localhost:8080/",
          "height": 687
        },
        "id": "fP6YdQEBOOWD",
        "outputId": "7a8ef8bc-1b76-4cdf-d322-f9418345a385"
      },
      "source": [
        "f,ax=plt.subplots(figsize=(15,10))\r\n",
        "sns.heatmap(corrmat,annot=True,fmt=\".1f\",linewidths=.2,cmap=\"Spectral\",ax=ax,linecolor=\"black\")\r\n",
        "plt.show()"
      ],
      "execution_count": 113,
      "outputs": [
        {
          "output_type": "display_data",
          "data": {
            "image/png": "[encoded data removed]",
            "text/plain": [
              "<Figure size 1080x720 with 2 Axes>"
            ]
          },
          "metadata": {
            "tags": [],
            "needs_background": "light"
          }
        }
      ]
    },
    {
      "cell_type": "code",
      "metadata": {
        "id": "PQWfMs_oOOb4"
      },
      "source": [
        "#Here we can see that some of the features are highly corealted with each hence these both feature will act as same.\r\n",
        "#so as these features are highly corelated with each other they can behave as duplicate feature.\r\n",
        "#Lets define a function and set a minimum threshold value to tackle the highly corelated feature:\r\n",
        "def get_corelations(data, threshold):\r\n",
        "    corr_col = set()  \r\n",
        "    corrmat = data.corr()\r\n",
        "    for i in range(len(corrmat.columns)):\r\n",
        "        for j in range(i):\r\n",
        "            if abs(corrmat.iloc[i, j]) > threshold:\r\n",
        "                colname = corrmat.columns[i]\r\n",
        "                corr_col.add(colname)\r\n",
        "    return corr_col"
      ],
      "execution_count": 114,
      "outputs": []
    },
    {
      "cell_type": "code",
      "metadata": {
        "colab": {
          "base_uri": "https://localhost:8080/",
          "height": 444
        },
        "id": "DDu6_jgEP6Xe",
        "outputId": "61844567-5d22-44e8-c018-87b332e8aa67"
      },
      "source": [
        "#corelation with target column:\r\n",
        "plt.figure(figsize=(8,5))\r\n",
        "df.drop('Deaths',axis=1).corrwith(df['Deaths']).plot(kind='bar',grid=True)\r\n",
        "plt.xticks(rotation='vertical')\r\n",
        "plt.title('corelation with target variable')"
      ],
      "execution_count": 115,
      "outputs": [
        {
          "output_type": "execute_result",
          "data": {
            "text/plain": [
              "Text(0.5, 1.0, 'corelation with target variable')"
            ]
          },
          "metadata": {
            "tags": []
          },
          "execution_count": 115
        },
        {
          "output_type": "display_data",
          "data": {
            "image/png": "[encoded data removed]",
            "text/plain": [
              "<Figure size 576x360 with 1 Axes>"
            ]
          },
          "metadata": {
            "tags": [],
            "needs_background": "light"
          }
        }
      ]
    },
    {
      "cell_type": "code",
      "metadata": {
        "colab": {
          "base_uri": "https://localhost:8080/"
        },
        "id": "qZk2ApoCOOf6",
        "outputId": "4bef3458-a557-4035-b79a-d89861fd54b8"
      },
      "source": [
        "corr_features = get_corelations(X_train, 0.85)\r\n",
        "len(set(corr_features))"
      ],
      "execution_count": 116,
      "outputs": [
        {
          "output_type": "execute_result",
          "data": {
            "text/plain": [
              "4"
            ]
          },
          "metadata": {
            "tags": []
          },
          "execution_count": 116
        }
      ]
    },
    {
      "cell_type": "code",
      "metadata": {
        "id": "skaV0L7vOOiz"
      },
      "source": [
        "#Dropping the highly corelated columns:\r\n",
        "X_train_uncorr = X_train.drop(labels=corr_features,axis=1)\r\n",
        "X_test_uncorr =  X_test.drop(labels=corr_features,axis=1)"
      ],
      "execution_count": 117,
      "outputs": []
    },
    {
      "cell_type": "code",
      "metadata": {
        "colab": {
          "base_uri": "https://localhost:8080/"
        },
        "id": "KK3tBrwBM1cs",
        "outputId": "edac8468-ccd8-4daa-a27c-530df1b4d444"
      },
      "source": [
        "X_train_uncorr.shape, X_test_uncorr.shape"
      ],
      "execution_count": 118,
      "outputs": [
        {
          "output_type": "execute_result",
          "data": {
            "text/plain": [
              "((40, 8), (11, 8))"
            ]
          },
          "metadata": {
            "tags": []
          },
          "execution_count": 118
        }
      ]
    },
    {
      "cell_type": "code",
      "metadata": {
        "id": "gDFq6wJWMZJM"
      },
      "source": [
        "#Redefining traing and testing data:\r\n",
        "X_train_uncorr, X_test_uncorr, y_train, y_test = train_test_split(X,y,test_size=0.2,random_state=42)"
      ],
      "execution_count": 119,
      "outputs": []
    },
    {
      "cell_type": "code",
      "metadata": {
        "id": "_N6FKyWhMZNG"
      },
      "source": [
        "#Using StandardScaler to Preprocess the data:\r\n",
        "#StandardScaler is used to bring the datapoints to standard normal distribution where mean = 0 and SD(+-)1:\r\n",
        "from sklearn.preprocessing import StandardScaler\r\n",
        "scaler = StandardScaler()\r\n",
        "scaler.fit(X_train_uncorr)\r\n",
        "X_train_uncorr = scaler.transform(X_train_uncorr)\r\n",
        "X_test_uncorr = scaler.transform(X_test_uncorr)"
      ],
      "execution_count": 120,
      "outputs": []
    },
    {
      "cell_type": "code",
      "metadata": {
        "id": "05D67LAgQBO6"
      },
      "source": [
        "#Importing the Model for Predictions Process:\r\n",
        "from sklearn.linear_model import LinearRegression,Lasso,Ridge,ElasticNet\r\n",
        "from sklearn.svm import SVR\r\n",
        "from sklearn.neighbors import KNeighborsRegressor\r\n",
        "from sklearn.tree import DecisionTreeRegressor\r\n",
        "from sklearn.ensemble import RandomForestRegressor\r\n",
        "#Import Error Metrics:\r\n",
        "from sklearn.metrics import mean_squared_error,mean_absolute_error\r\n",
        "from sklearn.metrics import r2_score"
      ],
      "execution_count": 121,
      "outputs": []
    },
    {
      "cell_type": "code",
      "metadata": {
        "colab": {
          "base_uri": "https://localhost:8080/"
        },
        "id": "3FLswcOcQaC5",
        "outputId": "5633f2c7-055b-4617-81bf-2065c3dbdae0"
      },
      "source": [
        "model = [LinearRegression(),Lasso(),Ridge(),ElasticNet(),SVR(),KNeighborsRegressor(),DecisionTreeRegressor(),RandomForestRegressor()]\r\n",
        "for m in model:\r\n",
        "    m.fit(X_train_uncorr,y_train)\r\n",
        "    print(\"Score of\",m, \"is:\",m.score(X_train_uncorr,y_train))\r\n",
        "    y_predict = m.predict(X_test_uncorr)\r\n",
        "    print(\"Error:\")\r\n",
        "    print('Mean absolute error:',mean_absolute_error(y_test,y_predict))\r\n",
        "    print('Mean squared error:',mean_squared_error(y_test,y_predict))\r\n",
        "    print('Root mean squared is ',np.sqrt(mean_squared_error(y_test,y_predict)))\r\n",
        "    print('r2 score is:',r2_score(y_test,y_predict))\r\n",
        "    print('******************************************************************')\r\n",
        "    print('\\n')"
      ],
      "execution_count": 122,
      "outputs": [
        {
          "output_type": "stream",
          "text": [
            "Score of LinearRegression(copy_X=True, fit_intercept=True, n_jobs=None, normalize=False) is: 0.9939199190549102\n",
            "Error:\n",
            "Mean absolute error: 0.094208808718196\n",
            "Mean squared error: 0.010796990570187853\n",
            "Root mean squared is  0.1039085683194021\n",
            "r2 score is: 0.9965437135267035\n",
            "******************************************************************\n",
            "\n",
            "\n",
            "Score of Lasso(alpha=1.0, copy_X=True, fit_intercept=True, max_iter=1000,\n",
            "      normalize=False, positive=False, precompute=False, random_state=None,\n",
            "      selection='cyclic', tol=0.0001, warm_start=False) is: 0.5853555114331302\n",
            "Error:\n",
            "Mean absolute error: 0.8825091542149758\n",
            "Mean squared error: 1.4587329707406127\n",
            "Root mean squared is  1.207780183121338\n",
            "r2 score is: 0.5330366362601381\n",
            "******************************************************************\n",
            "\n",
            "\n",
            "Score of Ridge(alpha=1.0, copy_X=True, fit_intercept=True, max_iter=None,\n",
            "      normalize=False, random_state=None, solver='auto', tol=0.001) is: 0.9930833041393307\n",
            "Error:\n",
            "Mean absolute error: 0.11061251017738982\n",
            "Mean squared error: 0.017612881998611878\n",
            "Root mean squared is  0.13271353359251603\n",
            "r2 score is: 0.9943618394948258\n",
            "******************************************************************\n",
            "\n",
            "\n",
            "Score of ElasticNet(alpha=1.0, copy_X=True, fit_intercept=True, l1_ratio=0.5,\n",
            "           max_iter=1000, normalize=False, positive=False, precompute=False,\n",
            "           random_state=None, selection='cyclic', tol=0.0001, warm_start=False) is: 0.8013509167178378\n",
            "Error:\n",
            "Mean absolute error: 0.6437000828492809\n",
            "Mean squared error: 0.7320394481905962\n",
            "Root mean squared is  0.855593038886243\n",
            "r2 score is: 0.7656626606967004\n",
            "******************************************************************\n",
            "\n",
            "\n",
            "Score of SVR(C=1.0, cache_size=200, coef0=0.0, degree=3, epsilon=0.1, gamma='scale',\n",
            "    kernel='rbf', max_iter=-1, shrinking=True, tol=0.001, verbose=False) is: 0.9335676593225655\n",
            "Error:\n",
            "Mean absolute error: 0.7998318127899563\n",
            "Mean squared error: 1.7354290708375826\n",
            "Root mean squared is  1.3173568502260815\n",
            "r2 score is: 0.44446186333964743\n",
            "******************************************************************\n",
            "\n",
            "\n",
            "Score of KNeighborsRegressor(algorithm='auto', leaf_size=30, metric='minkowski',\n",
            "                    metric_params=None, n_jobs=None, n_neighbors=5, p=2,\n",
            "                    weights='uniform') is: 0.8987865579948479\n",
            "Error:\n",
            "Mean absolute error: 0.5223355262071444\n",
            "Mean squared error: 0.5841982805847851\n",
            "Root mean squared is  0.7643286469737903\n",
            "r2 score is: 0.8129889433743229\n",
            "******************************************************************\n",
            "\n",
            "\n",
            "Score of DecisionTreeRegressor(ccp_alpha=0.0, criterion='mse', max_depth=None,\n",
            "                      max_features=None, max_leaf_nodes=None,\n",
            "                      min_impurity_decrease=0.0, min_impurity_split=None,\n",
            "                      min_samples_leaf=1, min_samples_split=2,\n",
            "                      min_weight_fraction_leaf=0.0, presort='deprecated',\n",
            "                      random_state=None, splitter='best') is: 1.0\n",
            "Error:\n",
            "Mean absolute error: 0.5809549973886188\n",
            "Mean squared error: 0.6115359719552552\n",
            "Root mean squared is  0.7820076546653845\n",
            "r2 score is: 0.8042377184583908\n",
            "******************************************************************\n",
            "\n",
            "\n",
            "Score of RandomForestRegressor(bootstrap=True, ccp_alpha=0.0, criterion='mse',\n",
            "                      max_depth=None, max_features='auto', max_leaf_nodes=None,\n",
            "                      max_samples=None, min_impurity_decrease=0.0,\n",
            "                      min_impurity_split=None, min_samples_leaf=1,\n",
            "                      min_samples_split=2, min_weight_fraction_leaf=0.0,\n",
            "                      n_estimators=100, n_jobs=None, oob_score=False,\n",
            "                      random_state=None, verbose=0, warm_start=False) is: 0.9868034945409274\n",
            "Error:\n",
            "Mean absolute error: 0.5431229363243809\n",
            "Mean squared error: 0.5387671883420998\n",
            "Root mean squared is  0.7340076214468756\n",
            "r2 score is: 0.827532150443434\n",
            "******************************************************************\n",
            "\n",
            "\n"
          ],
          "name": "stdout"
        }
      ]
    },
    {
      "cell_type": "code",
      "metadata": {
        "id": "sSLiPhmqQaFx"
      },
      "source": [
        "#We are getting Max R2 Score with linear Regression Lets Implement It with Cross Validation:"
      ],
      "execution_count": 123,
      "outputs": []
    },
    {
      "cell_type": "code",
      "metadata": {
        "id": "4wMhgT50MZRN"
      },
      "source": [
        "from sklearn.linear_model import LinearRegression\r\n",
        "lr = LinearRegression()\r\n",
        "lr.fit(X_train,y_train)\r\n",
        "y_pred = lr.predict(X_test)"
      ],
      "execution_count": 124,
      "outputs": []
    },
    {
      "cell_type": "code",
      "metadata": {
        "colab": {
          "base_uri": "https://localhost:8080/"
        },
        "id": "TWnc8zUCQ7O5",
        "outputId": "16e6fc8f-bbd8-403c-b166-fa8a7f4cd09a"
      },
      "source": [
        "#Lets do cross Validation and check the mean r2 score.\r\n",
        "from sklearn.model_selection import cross_val_score\r\n",
        "print(\"mean r2_score for Linear Regression:\",cross_val_score(lr,X,y,cv=5,scoring=\"r2\").mean())\r\n",
        "print(\"standard deviation in r2_score for linear Regression:\",cross_val_score(lr,X,y,cv=5,scoring=\"r2\").std())"
      ],
      "execution_count": 125,
      "outputs": [
        {
          "output_type": "stream",
          "text": [
            "mean r2_score for Linear Regression: 0.9842910306941871\n",
            "standard deviation in r2_score for linear Regression: 0.01075598970849752\n"
          ],
          "name": "stdout"
        }
      ]
    },
    {
      "cell_type": "code",
      "metadata": {
        "colab": {
          "base_uri": "https://localhost:8080/"
        },
        "id": "aJOf1SIkQ7Rd",
        "outputId": "238ce1b3-1bd0-48c3-d5e9-e82bc5d7c910"
      },
      "source": [
        "from sklearn import metrics\r\n",
        "print('MAE:', metrics.mean_absolute_error(y_test, y_pred))\r\n",
        "print('MSE:', metrics.mean_squared_error(y_test, y_pred))\r\n",
        "print('RMSE:', np.sqrt(metrics.mean_squared_error(y_test, y_pred)))"
      ],
      "execution_count": 126,
      "outputs": [
        {
          "output_type": "stream",
          "text": [
            "MAE: 0.09420880860577094\n",
            "MSE: 0.010796990542966959\n",
            "RMSE: 0.10390856818841726\n"
          ],
          "name": "stdout"
        }
      ]
    },
    {
      "cell_type": "code",
      "metadata": {
        "colab": {
          "base_uri": "https://localhost:8080/"
        },
        "id": "fzqugtsSQ7T6",
        "outputId": "6d0bd402-443c-422e-f057-605d4a14dfb5"
      },
      "source": [
        "#Saving the best Model for future predictions:\r\n",
        "import joblib\r\n",
        "joblib.dump(lr,'lr.obj')\r\n",
        "lr_from_joblib = joblib.load('lr.obj')\r\n",
        "lr_from_joblib.predict(X_test)"
      ],
      "execution_count": 127,
      "outputs": [
        {
          "output_type": "execute_result",
          "data": {
            "text/plain": [
              "array([ 7.13365606,  5.87687773,  6.86933905,  4.27699993,  6.18318987,\n",
              "        5.59299928,  5.96971328, 10.28731586,  4.73621291,  9.15072385,\n",
              "        8.30525778])"
            ]
          },
          "metadata": {
            "tags": []
          },
          "execution_count": 127
        }
      ]
    }
  ]
}