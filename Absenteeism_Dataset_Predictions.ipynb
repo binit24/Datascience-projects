{
  "nbformat": 4,
  "nbformat_minor": 0,
  "metadata": {
    "colab": {
      "name": "Absenteeism Dataset Predictions ",
      "provenance": []
    },
    "kernelspec": {
      "name": "python3",
      "display_name": "Python 3"
    }
  },
  "cells": [
    {
      "cell_type": "code",
      "metadata": {
        "id": "QYhOUc49QZim"
      },
      "source": [
        "#Importing Libraries.\n",
        "import pandas as pd\n",
        "import numpy as np\n",
        "import matplotlib.pyplot as plt\n",
        "import seaborn as sns\n",
        "import os\n",
        "#import warnings:\n",
        "import warnings\n",
        "warnings.filterwarnings('ignore')"
      ],
      "execution_count": 118,
      "outputs": []
    },
    {
      "cell_type": "code",
      "metadata": {
        "colab": {
          "base_uri": "https://localhost:8080/"
        },
        "id": "9TH103q9QuXB",
        "outputId": "179a9fc4-e5b0-4dbc-afdb-02fa8a454176"
      },
      "source": [
        "from google.colab import drive\n",
        "drive.mount('/content/drive')"
      ],
      "execution_count": 27,
      "outputs": [
        {
          "output_type": "stream",
          "text": [
            "Drive already mounted at /content/drive; to attempt to forcibly remount, call drive.mount(\"/content/drive\", force_remount=True).\n"
          ],
          "name": "stdout"
        }
      ]
    },
    {
      "cell_type": "code",
      "metadata": {
        "id": "A-uSAWrYQuaT"
      },
      "source": [
        "f = open(\"Absenteeism_at_work.xls\")"
      ],
      "execution_count": 28,
      "outputs": []
    },
    {
      "cell_type": "code",
      "metadata": {
        "colab": {
          "base_uri": "https://localhost:8080/",
          "height": 282
        },
        "id": "QLHv7H1jQudc",
        "outputId": "bf9a9c4f-7584-4681-ec1f-ad1f1818802b"
      },
      "source": [
        "#Reading the Dataset:\n",
        "raw_data = pd.read_excel('Absenteeism_at_work.xls')\n",
        "print(raw_data.shape) #checking no of rows and columns in the dataset.\n",
        "raw_data.head()"
      ],
      "execution_count": 204,
      "outputs": [
        {
          "output_type": "stream",
          "text": [
            "(740, 21)\n"
          ],
          "name": "stdout"
        },
        {
          "output_type": "execute_result",
          "data": {
            "text/html": [
              "<div>\n",
              "<style scoped>\n",
              "    .dataframe tbody tr th:only-of-type {\n",
              "        vertical-align: middle;\n",
              "    }\n",
              "\n",
              "    .dataframe tbody tr th {\n",
              "        vertical-align: top;\n",
              "    }\n",
              "\n",
              "    .dataframe thead th {\n",
              "        text-align: right;\n",
              "    }\n",
              "</style>\n",
              "<table border=\"1\" class=\"dataframe\">\n",
              "  <thead>\n",
              "    <tr style=\"text-align: right;\">\n",
              "      <th></th>\n",
              "      <th>ID</th>\n",
              "      <th>Reason for absence</th>\n",
              "      <th>Month of absence</th>\n",
              "      <th>Day of the week</th>\n",
              "      <th>Seasons</th>\n",
              "      <th>Transportation expense</th>\n",
              "      <th>Distance from Residence to Work</th>\n",
              "      <th>Service time</th>\n",
              "      <th>Age</th>\n",
              "      <th>Work load Average/day</th>\n",
              "      <th>Hit target</th>\n",
              "      <th>Disciplinary failure</th>\n",
              "      <th>Education</th>\n",
              "      <th>Son</th>\n",
              "      <th>Social drinker</th>\n",
              "      <th>Social smoker</th>\n",
              "      <th>Pet</th>\n",
              "      <th>Weight</th>\n",
              "      <th>Height</th>\n",
              "      <th>Body mass index</th>\n",
              "      <th>Absenteeism time in hours</th>\n",
              "    </tr>\n",
              "  </thead>\n",
              "  <tbody>\n",
              "    <tr>\n",
              "      <th>0</th>\n",
              "      <td>11</td>\n",
              "      <td>26</td>\n",
              "      <td>7</td>\n",
              "      <td>3</td>\n",
              "      <td>1</td>\n",
              "      <td>289</td>\n",
              "      <td>36</td>\n",
              "      <td>13</td>\n",
              "      <td>33</td>\n",
              "      <td>239554</td>\n",
              "      <td>97</td>\n",
              "      <td>0</td>\n",
              "      <td>1</td>\n",
              "      <td>2</td>\n",
              "      <td>1</td>\n",
              "      <td>0</td>\n",
              "      <td>1</td>\n",
              "      <td>90</td>\n",
              "      <td>172</td>\n",
              "      <td>30</td>\n",
              "      <td>4</td>\n",
              "    </tr>\n",
              "    <tr>\n",
              "      <th>1</th>\n",
              "      <td>36</td>\n",
              "      <td>0</td>\n",
              "      <td>7</td>\n",
              "      <td>3</td>\n",
              "      <td>1</td>\n",
              "      <td>118</td>\n",
              "      <td>13</td>\n",
              "      <td>18</td>\n",
              "      <td>50</td>\n",
              "      <td>239554</td>\n",
              "      <td>97</td>\n",
              "      <td>1</td>\n",
              "      <td>1</td>\n",
              "      <td>1</td>\n",
              "      <td>1</td>\n",
              "      <td>0</td>\n",
              "      <td>0</td>\n",
              "      <td>98</td>\n",
              "      <td>178</td>\n",
              "      <td>31</td>\n",
              "      <td>0</td>\n",
              "    </tr>\n",
              "    <tr>\n",
              "      <th>2</th>\n",
              "      <td>3</td>\n",
              "      <td>23</td>\n",
              "      <td>7</td>\n",
              "      <td>4</td>\n",
              "      <td>1</td>\n",
              "      <td>179</td>\n",
              "      <td>51</td>\n",
              "      <td>18</td>\n",
              "      <td>38</td>\n",
              "      <td>239554</td>\n",
              "      <td>97</td>\n",
              "      <td>0</td>\n",
              "      <td>1</td>\n",
              "      <td>0</td>\n",
              "      <td>1</td>\n",
              "      <td>0</td>\n",
              "      <td>0</td>\n",
              "      <td>89</td>\n",
              "      <td>170</td>\n",
              "      <td>31</td>\n",
              "      <td>2</td>\n",
              "    </tr>\n",
              "    <tr>\n",
              "      <th>3</th>\n",
              "      <td>7</td>\n",
              "      <td>7</td>\n",
              "      <td>7</td>\n",
              "      <td>5</td>\n",
              "      <td>1</td>\n",
              "      <td>279</td>\n",
              "      <td>5</td>\n",
              "      <td>14</td>\n",
              "      <td>39</td>\n",
              "      <td>239554</td>\n",
              "      <td>97</td>\n",
              "      <td>0</td>\n",
              "      <td>1</td>\n",
              "      <td>2</td>\n",
              "      <td>1</td>\n",
              "      <td>1</td>\n",
              "      <td>0</td>\n",
              "      <td>68</td>\n",
              "      <td>168</td>\n",
              "      <td>24</td>\n",
              "      <td>4</td>\n",
              "    </tr>\n",
              "    <tr>\n",
              "      <th>4</th>\n",
              "      <td>11</td>\n",
              "      <td>23</td>\n",
              "      <td>7</td>\n",
              "      <td>5</td>\n",
              "      <td>1</td>\n",
              "      <td>289</td>\n",
              "      <td>36</td>\n",
              "      <td>13</td>\n",
              "      <td>33</td>\n",
              "      <td>239554</td>\n",
              "      <td>97</td>\n",
              "      <td>0</td>\n",
              "      <td>1</td>\n",
              "      <td>2</td>\n",
              "      <td>1</td>\n",
              "      <td>0</td>\n",
              "      <td>1</td>\n",
              "      <td>90</td>\n",
              "      <td>172</td>\n",
              "      <td>30</td>\n",
              "      <td>2</td>\n",
              "    </tr>\n",
              "  </tbody>\n",
              "</table>\n",
              "</div>"
            ],
            "text/plain": [
              "   ID  Reason for absence  Month of absence  Day of the week  Seasons  \\\n",
              "0  11                  26                 7                3        1   \n",
              "1  36                   0                 7                3        1   \n",
              "2   3                  23                 7                4        1   \n",
              "3   7                   7                 7                5        1   \n",
              "4  11                  23                 7                5        1   \n",
              "\n",
              "   Transportation expense  Distance from Residence to Work  Service time  Age  \\\n",
              "0                     289                               36            13   33   \n",
              "1                     118                               13            18   50   \n",
              "2                     179                               51            18   38   \n",
              "3                     279                                5            14   39   \n",
              "4                     289                               36            13   33   \n",
              "\n",
              "   Work load Average/day   Hit target  Disciplinary failure  Education  Son  \\\n",
              "0                  239554          97                     0          1    2   \n",
              "1                  239554          97                     1          1    1   \n",
              "2                  239554          97                     0          1    0   \n",
              "3                  239554          97                     0          1    2   \n",
              "4                  239554          97                     0          1    2   \n",
              "\n",
              "   Social drinker  Social smoker  Pet  Weight  Height  Body mass index  \\\n",
              "0               1              0    1      90     172               30   \n",
              "1               1              0    0      98     178               31   \n",
              "2               1              0    0      89     170               31   \n",
              "3               1              1    0      68     168               24   \n",
              "4               1              0    1      90     172               30   \n",
              "\n",
              "   Absenteeism time in hours  \n",
              "0                          4  \n",
              "1                          0  \n",
              "2                          2  \n",
              "3                          4  \n",
              "4                          2  "
            ]
          },
          "metadata": {
            "tags": []
          },
          "execution_count": 204
        }
      ]
    },
    {
      "cell_type": "code",
      "metadata": {
        "id": "lsjTGLdTQug5"
      },
      "source": [
        "#Taking a copy of Dataset:\n",
        "df = raw_data.copy()"
      ],
      "execution_count": 206,
      "outputs": []
    },
    {
      "cell_type": "code",
      "metadata": {
        "id": "HsL269dlQuj8"
      },
      "source": [
        "#using Pd.options display max columns to check entire rows and columns in dataset.\n",
        "pd.options.display.max_columns = None\n",
        "pd.options.display.max_rows = None"
      ],
      "execution_count": 207,
      "outputs": []
    },
    {
      "cell_type": "code",
      "metadata": {
        "colab": {
          "base_uri": "https://localhost:8080/"
        },
        "id": "FbNh5i-_QupU",
        "outputId": "e8f30760-6744-47d3-8cf5-9f78265ca859"
      },
      "source": [
        "#Checking the info:\n",
        "df.info()"
      ],
      "execution_count": 208,
      "outputs": [
        {
          "output_type": "stream",
          "text": [
            "<class 'pandas.core.frame.DataFrame'>\n",
            "RangeIndex: 740 entries, 0 to 739\n",
            "Data columns (total 21 columns):\n",
            " #   Column                           Non-Null Count  Dtype\n",
            "---  ------                           --------------  -----\n",
            " 0   ID                               740 non-null    int64\n",
            " 1   Reason for absence               740 non-null    int64\n",
            " 2   Month of absence                 740 non-null    int64\n",
            " 3   Day of the week                  740 non-null    int64\n",
            " 4   Seasons                          740 non-null    int64\n",
            " 5   Transportation expense           740 non-null    int64\n",
            " 6   Distance from Residence to Work  740 non-null    int64\n",
            " 7   Service time                     740 non-null    int64\n",
            " 8   Age                              740 non-null    int64\n",
            " 9   Work load Average/day            740 non-null    int64\n",
            " 10  Hit target                       740 non-null    int64\n",
            " 11  Disciplinary failure             740 non-null    int64\n",
            " 12  Education                        740 non-null    int64\n",
            " 13  Son                              740 non-null    int64\n",
            " 14  Social drinker                   740 non-null    int64\n",
            " 15  Social smoker                    740 non-null    int64\n",
            " 16  Pet                              740 non-null    int64\n",
            " 17  Weight                           740 non-null    int64\n",
            " 18  Height                           740 non-null    int64\n",
            " 19  Body mass index                  740 non-null    int64\n",
            " 20  Absenteeism time in hours        740 non-null    int64\n",
            "dtypes: int64(21)\n",
            "memory usage: 121.5 KB\n"
          ],
          "name": "stdout"
        }
      ]
    },
    {
      "cell_type": "code",
      "metadata": {
        "id": "2CnwxR6fQusO"
      },
      "source": [
        "#All features are in neumerical features thats great!"
      ],
      "execution_count": 209,
      "outputs": []
    },
    {
      "cell_type": "code",
      "metadata": {
        "id": "Dzr7ogTDQuu8"
      },
      "source": [
        "#Drop 'ID':\n",
        "df.drop(['ID'], axis =1,inplace=True)"
      ],
      "execution_count": 210,
      "outputs": []
    },
    {
      "cell_type": "code",
      "metadata": {
        "colab": {
          "base_uri": "https://localhost:8080/"
        },
        "id": "dpVeXnxVQuxS",
        "outputId": "4cbe0537-ce00-4ce4-f397-e57651fef148"
      },
      "source": [
        "#cheking Duplicate columns:\n",
        "df.duplicated().sum()"
      ],
      "execution_count": 211,
      "outputs": [
        {
          "output_type": "execute_result",
          "data": {
            "text/plain": [
              "34"
            ]
          },
          "metadata": {
            "tags": []
          },
          "execution_count": 211
        }
      ]
    },
    {
      "cell_type": "code",
      "metadata": {
        "colab": {
          "base_uri": "https://localhost:8080/",
          "height": 794
        },
        "id": "-A3Yna55cXk7",
        "outputId": "84200ae7-cb7e-43ad-881b-cd0db8483e00"
      },
      "source": [
        "#Checking the null values in the dataset:\n",
        "missing_value = pd.DataFrame(df.isnull().sum(),columns=['Total Missing Value'])\n",
        "print(missing_value)\n",
        "sns.heatmap(df.isnull(),cmap='summer')"
      ],
      "execution_count": 212,
      "outputs": [
        {
          "output_type": "stream",
          "text": [
            "                                 Total Missing Value\n",
            "Reason for absence                                 0\n",
            "Month of absence                                   0\n",
            "Day of the week                                    0\n",
            "Seasons                                            0\n",
            "Transportation expense                             0\n",
            "Distance from Residence to Work                    0\n",
            "Service time                                       0\n",
            "Age                                                0\n",
            "Work load Average/day                              0\n",
            "Hit target                                         0\n",
            "Disciplinary failure                               0\n",
            "Education                                          0\n",
            "Son                                                0\n",
            "Social drinker                                     0\n",
            "Social smoker                                      0\n",
            "Pet                                                0\n",
            "Weight                                             0\n",
            "Height                                             0\n",
            "Body mass index                                    0\n",
            "Absenteeism time in hours                          0\n"
          ],
          "name": "stdout"
        },
        {
          "output_type": "execute_result",
          "data": {
            "text/plain": [
              "<matplotlib.axes._subplots.AxesSubplot at 0x7fe6ef18ee48>"
            ]
          },
          "metadata": {
            "tags": []
          },
          "execution_count": 212
        },
        {
          "output_type": "display_data",
          "data": {
            "image/png": "[encoded data removed]",
            "text/plain": [
              "<Figure size 432x288 with 2 Axes>"
            ]
          },
          "metadata": {
            "tags": []
          }
        }
      ]
    },
    {
      "cell_type": "code",
      "metadata": {
        "id": "632iq3mScXrR"
      },
      "source": [
        "#Wow no missing values,its an well balanced dataset thats great!"
      ],
      "execution_count": 213,
      "outputs": []
    },
    {
      "cell_type": "code",
      "metadata": {
        "id": "uHSctzgBQu3P"
      },
      "source": [
        "#'Reason for Absence' Column lets work out in it.\n",
        "#'Unknown'.\n",
        "#'Certain infectious and parasitic diseases'.\n",
        "#'Neoplasms'.\n",
        "#'Diseases of the blood and blood-forming organs and certain disorders involving the immune mechanism'.\n",
        "#'Endocrine, nutritional and metabolic diseases'.\n",
        "#'Mental and behavioural disorders'.\n",
        "#'Diseases of the nervous system'.\n",
        "#'Diseases of the eye and adnexa'.\n",
        "#'Diseases of the ear and mastoid process'.\n",
        "#'Diseases of the circulatory system'.\n",
        "#'Diseases of the respiratory system'.\n",
        "#'Diseases of the digestive system'.\n",
        "#'Diseases of the skin and subcutaneous tissue'.\n",
        "#'Diseases of the musculoskeletal system and connective tissue'.\n",
        "#'Diseases of the genitourinary system'.\n",
        "#'Pregnancy, childbirth and the puerperium'.\n",
        "#'Certain conditions originating in the perinatal period'.\n",
        "#'Congenital malformations, deformations and chromosomal abnormalities'.\n",
        "#'Symptoms, signs and abnormal clinical and laboratory findings, not elsewhere classified'.\n",
        "#'Injury, poisoning and certain other consequences of external causes'.\n",
        "#'External causes of morbidity and mortality'.\n",
        "#'Factors influencing health status and contact with health services'.\n",
        "#'Patient follow-up'.\n",
        "#'Medical consultation'.\n",
        "#'Blood donation'.\n",
        "#'Laboratory examination'.\n",
        "#'Unjustified absence'.\n",
        "#'Physiotherapy'.\n",
        "#'Dental consultation."
      ],
      "execution_count": 214,
      "outputs": []
    },
    {
      "cell_type": "code",
      "metadata": {
        "colab": {
          "base_uri": "https://localhost:8080/"
        },
        "id": "LqLqfl9WXOw3",
        "outputId": "e00c3260-d56a-4644-e634-df6259ca7735"
      },
      "source": [
        "df['Reason for absence'].min()"
      ],
      "execution_count": 215,
      "outputs": [
        {
          "output_type": "execute_result",
          "data": {
            "text/plain": [
              "0"
            ]
          },
          "metadata": {
            "tags": []
          },
          "execution_count": 215
        }
      ]
    },
    {
      "cell_type": "code",
      "metadata": {
        "colab": {
          "base_uri": "https://localhost:8080/"
        },
        "id": "zb8N70czXO0d",
        "outputId": "cd4374fb-e3a7-48e5-d08b-71bd50441ecb"
      },
      "source": [
        "df['Reason for absence'].max()"
      ],
      "execution_count": 216,
      "outputs": [
        {
          "output_type": "execute_result",
          "data": {
            "text/plain": [
              "28"
            ]
          },
          "metadata": {
            "tags": []
          },
          "execution_count": 216
        }
      ]
    },
    {
      "cell_type": "code",
      "metadata": {
        "id": "J12jOBtNXO4i"
      },
      "source": [
        "#Ok there are 29 reason for absence which all are mentioned above so lets rearrange all this data together:\n",
        "#For this we need to convert the reason for absence in dummy column:\n",
        "#After that we can create four categories of that."
      ],
      "execution_count": 217,
      "outputs": []
    },
    {
      "cell_type": "code",
      "metadata": {
        "colab": {
          "base_uri": "https://localhost:8080/"
        },
        "id": "RDS5sLcqXO7s",
        "outputId": "89e5621c-b031-4820-ad52-ef6122cc6a4a"
      },
      "source": [
        "#Checking the unique value:\n",
        "df['Reason for absence'].unique()"
      ],
      "execution_count": 218,
      "outputs": [
        {
          "output_type": "execute_result",
          "data": {
            "text/plain": [
              "array([26,  0, 23,  7, 22, 19,  1, 11, 14, 21, 10, 13, 28, 18, 25, 24,  6,\n",
              "       27, 17,  8, 12,  5,  9, 15,  4,  3,  2, 16])"
            ]
          },
          "metadata": {
            "tags": []
          },
          "execution_count": 218
        }
      ]
    },
    {
      "cell_type": "code",
      "metadata": {
        "colab": {
          "base_uri": "https://localhost:8080/"
        },
        "id": "PZEr_bfyXO-h",
        "outputId": "0224f93e-043d-4aac-a810-79de8571679a"
      },
      "source": [
        "len(df['Reason for absence'].unique())"
      ],
      "execution_count": 219,
      "outputs": [
        {
          "output_type": "execute_result",
          "data": {
            "text/plain": [
              "28"
            ]
          },
          "metadata": {
            "tags": []
          },
          "execution_count": 219
        }
      ]
    },
    {
      "cell_type": "code",
      "metadata": {
        "colab": {
          "base_uri": "https://localhost:8080/"
        },
        "id": "_yVJd-kkXPBr",
        "outputId": "2b3cd49c-b580-4aa0-ed3b-64453a29de23"
      },
      "source": [
        "#we can see that one data is absent lets chek which one:\n",
        "sorted(df['Reason for absence'].unique())"
      ],
      "execution_count": 220,
      "outputs": [
        {
          "output_type": "execute_result",
          "data": {
            "text/plain": [
              "[0,\n",
              " 1,\n",
              " 2,\n",
              " 3,\n",
              " 4,\n",
              " 5,\n",
              " 6,\n",
              " 7,\n",
              " 8,\n",
              " 9,\n",
              " 10,\n",
              " 11,\n",
              " 12,\n",
              " 13,\n",
              " 14,\n",
              " 15,\n",
              " 16,\n",
              " 17,\n",
              " 18,\n",
              " 19,\n",
              " 21,\n",
              " 22,\n",
              " 23,\n",
              " 24,\n",
              " 25,\n",
              " 26,\n",
              " 27,\n",
              " 28]"
            ]
          },
          "metadata": {
            "tags": []
          },
          "execution_count": 220
        }
      ]
    },
    {
      "cell_type": "code",
      "metadata": {
        "id": "2p5rteSJXPGd"
      },
      "source": [
        "#We can see that 20 is absent:"
      ],
      "execution_count": 134,
      "outputs": []
    },
    {
      "cell_type": "code",
      "metadata": {
        "id": "G-nrdBUVXPJv"
      },
      "source": [
        "#Lets use get dummies method:\n",
        "reason_columns = pd.get_dummies(df['Reason for absence'])"
      ],
      "execution_count": 221,
      "outputs": []
    },
    {
      "cell_type": "code",
      "metadata": {
        "id": "1iZErrY8XPP1"
      },
      "source": [
        "#We are summing up and saving the data in check column to check whether theres any null values or not:\n",
        "reason_columns['check'] = reason_columns.sum(axis=1)"
      ],
      "execution_count": 222,
      "outputs": []
    },
    {
      "cell_type": "code",
      "metadata": {
        "colab": {
          "base_uri": "https://localhost:8080/"
        },
        "id": "rQ7Q6Y0SbLiq",
        "outputId": "d893cdb6-ca9e-40b0-a534-9cc88f7ba53e"
      },
      "source": [
        "reason_columns['check'].sum(axis=0)"
      ],
      "execution_count": 223,
      "outputs": [
        {
          "output_type": "execute_result",
          "data": {
            "text/plain": [
              "740"
            ]
          },
          "metadata": {
            "tags": []
          },
          "execution_count": 223
        }
      ]
    },
    {
      "cell_type": "code",
      "metadata": {
        "colab": {
          "base_uri": "https://localhost:8080/"
        },
        "id": "HgzpSrbVbLmZ",
        "outputId": "720863c7-a635-4430-a5cc-cb772c62b6a4"
      },
      "source": [
        "reason_columns['check'].unique()"
      ],
      "execution_count": 224,
      "outputs": [
        {
          "output_type": "execute_result",
          "data": {
            "text/plain": [
              "array([1])"
            ]
          },
          "metadata": {
            "tags": []
          },
          "execution_count": 224
        }
      ]
    },
    {
      "cell_type": "code",
      "metadata": {
        "id": "kKhqUg26bLqD"
      },
      "source": [
        "#We dont need 0 reason of absence so we are going to drop it\n",
        "reason_columns = pd.get_dummies(df['Reason for absence'], drop_first = True)"
      ],
      "execution_count": 225,
      "outputs": []
    },
    {
      "cell_type": "code",
      "metadata": {
        "id": "yuPIhIhPbLtb"
      },
      "source": [
        "#Lets drop the Reson for absence columns:\n",
        "df = df.drop(['Reason for absence'], axis = 1)"
      ],
      "execution_count": 226,
      "outputs": []
    },
    {
      "cell_type": "code",
      "metadata": {
        "colab": {
          "base_uri": "https://localhost:8080/"
        },
        "id": "Gdb_-qnQbLwJ",
        "outputId": "55a6e4ae-3cdf-48ed-d9ec-de6ba2055d17"
      },
      "source": [
        "#Checking the Columns:\n",
        "column = list(df.columns)\n",
        "print(column)"
      ],
      "execution_count": 227,
      "outputs": [
        {
          "output_type": "stream",
          "text": [
            "['Month of absence', 'Day of the week', 'Seasons', 'Transportation expense', 'Distance from Residence to Work', 'Service time', 'Age', 'Work load Average/day ', 'Hit target', 'Disciplinary failure', 'Education', 'Son', 'Social drinker', 'Social smoker', 'Pet', 'Weight', 'Height', 'Body mass index', 'Absenteeism time in hours']\n"
          ],
          "name": "stdout"
        }
      ]
    },
    {
      "cell_type": "code",
      "metadata": {
        "id": "s75rYf_LfjF4"
      },
      "source": [
        "#Summing of the dummies values into four categories:\n",
        "reason_type_1 = reason_columns.loc[:, 1:14].max(axis=1)\n",
        "reason_type_2 = reason_columns.loc[:, 15:17].max(axis=1)\n",
        "reason_type_3 = reason_columns.loc[:, 18:21].max(axis=1)\n",
        "reason_type_4 = reason_columns.loc[:, 22:].max(axis=1)"
      ],
      "execution_count": 228,
      "outputs": []
    },
    {
      "cell_type": "code",
      "metadata": {
        "id": "owqMSROwf3f5"
      },
      "source": [
        "#Using the concat Method to to combine the reason column and dataset:\n",
        "df = pd.concat([df, reason_type_1, reason_type_2, reason_type_3, reason_type_4], axis = 1)"
      ],
      "execution_count": 229,
      "outputs": []
    },
    {
      "cell_type": "code",
      "metadata": {
        "colab": {
          "base_uri": "https://localhost:8080/",
          "height": 266
        },
        "id": "uu0o4691f3iy",
        "outputId": "85ab7915-b9b5-4cc5-e66a-97c8876b484a"
      },
      "source": [
        "df.head()"
      ],
      "execution_count": 230,
      "outputs": [
        {
          "output_type": "execute_result",
          "data": {
            "text/html": [
              "<div>\n",
              "<style scoped>\n",
              "    .dataframe tbody tr th:only-of-type {\n",
              "        vertical-align: middle;\n",
              "    }\n",
              "\n",
              "    .dataframe tbody tr th {\n",
              "        vertical-align: top;\n",
              "    }\n",
              "\n",
              "    .dataframe thead th {\n",
              "        text-align: right;\n",
              "    }\n",
              "</style>\n",
              "<table border=\"1\" class=\"dataframe\">\n",
              "  <thead>\n",
              "    <tr style=\"text-align: right;\">\n",
              "      <th></th>\n",
              "      <th>Month of absence</th>\n",
              "      <th>Day of the week</th>\n",
              "      <th>Seasons</th>\n",
              "      <th>Transportation expense</th>\n",
              "      <th>Distance from Residence to Work</th>\n",
              "      <th>Service time</th>\n",
              "      <th>Age</th>\n",
              "      <th>Work load Average/day</th>\n",
              "      <th>Hit target</th>\n",
              "      <th>Disciplinary failure</th>\n",
              "      <th>Education</th>\n",
              "      <th>Son</th>\n",
              "      <th>Social drinker</th>\n",
              "      <th>Social smoker</th>\n",
              "      <th>Pet</th>\n",
              "      <th>Weight</th>\n",
              "      <th>Height</th>\n",
              "      <th>Body mass index</th>\n",
              "      <th>Absenteeism time in hours</th>\n",
              "      <th>0</th>\n",
              "      <th>1</th>\n",
              "      <th>2</th>\n",
              "      <th>3</th>\n",
              "    </tr>\n",
              "  </thead>\n",
              "  <tbody>\n",
              "    <tr>\n",
              "      <th>0</th>\n",
              "      <td>7</td>\n",
              "      <td>3</td>\n",
              "      <td>1</td>\n",
              "      <td>289</td>\n",
              "      <td>36</td>\n",
              "      <td>13</td>\n",
              "      <td>33</td>\n",
              "      <td>239554</td>\n",
              "      <td>97</td>\n",
              "      <td>0</td>\n",
              "      <td>1</td>\n",
              "      <td>2</td>\n",
              "      <td>1</td>\n",
              "      <td>0</td>\n",
              "      <td>1</td>\n",
              "      <td>90</td>\n",
              "      <td>172</td>\n",
              "      <td>30</td>\n",
              "      <td>4</td>\n",
              "      <td>0</td>\n",
              "      <td>0</td>\n",
              "      <td>0</td>\n",
              "      <td>1</td>\n",
              "    </tr>\n",
              "    <tr>\n",
              "      <th>1</th>\n",
              "      <td>7</td>\n",
              "      <td>3</td>\n",
              "      <td>1</td>\n",
              "      <td>118</td>\n",
              "      <td>13</td>\n",
              "      <td>18</td>\n",
              "      <td>50</td>\n",
              "      <td>239554</td>\n",
              "      <td>97</td>\n",
              "      <td>1</td>\n",
              "      <td>1</td>\n",
              "      <td>1</td>\n",
              "      <td>1</td>\n",
              "      <td>0</td>\n",
              "      <td>0</td>\n",
              "      <td>98</td>\n",
              "      <td>178</td>\n",
              "      <td>31</td>\n",
              "      <td>0</td>\n",
              "      <td>0</td>\n",
              "      <td>0</td>\n",
              "      <td>0</td>\n",
              "      <td>0</td>\n",
              "    </tr>\n",
              "    <tr>\n",
              "      <th>2</th>\n",
              "      <td>7</td>\n",
              "      <td>4</td>\n",
              "      <td>1</td>\n",
              "      <td>179</td>\n",
              "      <td>51</td>\n",
              "      <td>18</td>\n",
              "      <td>38</td>\n",
              "      <td>239554</td>\n",
              "      <td>97</td>\n",
              "      <td>0</td>\n",
              "      <td>1</td>\n",
              "      <td>0</td>\n",
              "      <td>1</td>\n",
              "      <td>0</td>\n",
              "      <td>0</td>\n",
              "      <td>89</td>\n",
              "      <td>170</td>\n",
              "      <td>31</td>\n",
              "      <td>2</td>\n",
              "      <td>0</td>\n",
              "      <td>0</td>\n",
              "      <td>0</td>\n",
              "      <td>1</td>\n",
              "    </tr>\n",
              "    <tr>\n",
              "      <th>3</th>\n",
              "      <td>7</td>\n",
              "      <td>5</td>\n",
              "      <td>1</td>\n",
              "      <td>279</td>\n",
              "      <td>5</td>\n",
              "      <td>14</td>\n",
              "      <td>39</td>\n",
              "      <td>239554</td>\n",
              "      <td>97</td>\n",
              "      <td>0</td>\n",
              "      <td>1</td>\n",
              "      <td>2</td>\n",
              "      <td>1</td>\n",
              "      <td>1</td>\n",
              "      <td>0</td>\n",
              "      <td>68</td>\n",
              "      <td>168</td>\n",
              "      <td>24</td>\n",
              "      <td>4</td>\n",
              "      <td>1</td>\n",
              "      <td>0</td>\n",
              "      <td>0</td>\n",
              "      <td>0</td>\n",
              "    </tr>\n",
              "    <tr>\n",
              "      <th>4</th>\n",
              "      <td>7</td>\n",
              "      <td>5</td>\n",
              "      <td>1</td>\n",
              "      <td>289</td>\n",
              "      <td>36</td>\n",
              "      <td>13</td>\n",
              "      <td>33</td>\n",
              "      <td>239554</td>\n",
              "      <td>97</td>\n",
              "      <td>0</td>\n",
              "      <td>1</td>\n",
              "      <td>2</td>\n",
              "      <td>1</td>\n",
              "      <td>0</td>\n",
              "      <td>1</td>\n",
              "      <td>90</td>\n",
              "      <td>172</td>\n",
              "      <td>30</td>\n",
              "      <td>2</td>\n",
              "      <td>0</td>\n",
              "      <td>0</td>\n",
              "      <td>0</td>\n",
              "      <td>1</td>\n",
              "    </tr>\n",
              "  </tbody>\n",
              "</table>\n",
              "</div>"
            ],
            "text/plain": [
              "   Month of absence  Day of the week  Seasons  Transportation expense  \\\n",
              "0                 7                3        1                     289   \n",
              "1                 7                3        1                     118   \n",
              "2                 7                4        1                     179   \n",
              "3                 7                5        1                     279   \n",
              "4                 7                5        1                     289   \n",
              "\n",
              "   Distance from Residence to Work  Service time  Age  Work load Average/day   \\\n",
              "0                               36            13   33                  239554   \n",
              "1                               13            18   50                  239554   \n",
              "2                               51            18   38                  239554   \n",
              "3                                5            14   39                  239554   \n",
              "4                               36            13   33                  239554   \n",
              "\n",
              "   Hit target  Disciplinary failure  Education  Son  Social drinker  \\\n",
              "0          97                     0          1    2               1   \n",
              "1          97                     1          1    1               1   \n",
              "2          97                     0          1    0               1   \n",
              "3          97                     0          1    2               1   \n",
              "4          97                     0          1    2               1   \n",
              "\n",
              "   Social smoker  Pet  Weight  Height  Body mass index  \\\n",
              "0              0    1      90     172               30   \n",
              "1              0    0      98     178               31   \n",
              "2              0    0      89     170               31   \n",
              "3              1    0      68     168               24   \n",
              "4              0    1      90     172               30   \n",
              "\n",
              "   Absenteeism time in hours  0  1  2  3  \n",
              "0                          4  0  0  0  1  \n",
              "1                          0  0  0  0  0  \n",
              "2                          2  0  0  0  1  \n",
              "3                          4  1  0  0  0  \n",
              "4                          2  0  0  0  1  "
            ]
          },
          "metadata": {
            "tags": []
          },
          "execution_count": 230
        }
      ]
    },
    {
      "cell_type": "code",
      "metadata": {
        "id": "g_gTotGZf3mJ"
      },
      "source": [
        "#Rearranging the Columns:\n",
        "column_names = ['Month of absence', 'Day of the week', 'Seasons', 'Transportation expense', 'Distance from Residence to Work', 'Service time', 'Age', 'Work load Average/day ', 'Hit target', 'Disciplinary failure', 'Education', 'Son', 'Social drinker', 'Social smoker', 'Pet', 'Weight', 'Height', 'Body mass index', 'Absenteeism time in hours', 'Reason_1', 'Reason_2', 'Reason_3', 'Reason_4']"
      ],
      "execution_count": 231,
      "outputs": []
    },
    {
      "cell_type": "code",
      "metadata": {
        "id": "wduKAwkjf3pm"
      },
      "source": [
        "df.columns = column_names"
      ],
      "execution_count": 232,
      "outputs": []
    },
    {
      "cell_type": "code",
      "metadata": {
        "colab": {
          "base_uri": "https://localhost:8080/",
          "height": 266
        },
        "id": "0l0oL60Pf3vA",
        "outputId": "9e865b67-6edb-42c6-951f-1a1d18155e87"
      },
      "source": [
        "df.head()"
      ],
      "execution_count": 233,
      "outputs": [
        {
          "output_type": "execute_result",
          "data": {
            "text/html": [
              "<div>\n",
              "<style scoped>\n",
              "    .dataframe tbody tr th:only-of-type {\n",
              "        vertical-align: middle;\n",
              "    }\n",
              "\n",
              "    .dataframe tbody tr th {\n",
              "        vertical-align: top;\n",
              "    }\n",
              "\n",
              "    .dataframe thead th {\n",
              "        text-align: right;\n",
              "    }\n",
              "</style>\n",
              "<table border=\"1\" class=\"dataframe\">\n",
              "  <thead>\n",
              "    <tr style=\"text-align: right;\">\n",
              "      <th></th>\n",
              "      <th>Month of absence</th>\n",
              "      <th>Day of the week</th>\n",
              "      <th>Seasons</th>\n",
              "      <th>Transportation expense</th>\n",
              "      <th>Distance from Residence to Work</th>\n",
              "      <th>Service time</th>\n",
              "      <th>Age</th>\n",
              "      <th>Work load Average/day</th>\n",
              "      <th>Hit target</th>\n",
              "      <th>Disciplinary failure</th>\n",
              "      <th>Education</th>\n",
              "      <th>Son</th>\n",
              "      <th>Social drinker</th>\n",
              "      <th>Social smoker</th>\n",
              "      <th>Pet</th>\n",
              "      <th>Weight</th>\n",
              "      <th>Height</th>\n",
              "      <th>Body mass index</th>\n",
              "      <th>Absenteeism time in hours</th>\n",
              "      <th>Reason_1</th>\n",
              "      <th>Reason_2</th>\n",
              "      <th>Reason_3</th>\n",
              "      <th>Reason_4</th>\n",
              "    </tr>\n",
              "  </thead>\n",
              "  <tbody>\n",
              "    <tr>\n",
              "      <th>0</th>\n",
              "      <td>7</td>\n",
              "      <td>3</td>\n",
              "      <td>1</td>\n",
              "      <td>289</td>\n",
              "      <td>36</td>\n",
              "      <td>13</td>\n",
              "      <td>33</td>\n",
              "      <td>239554</td>\n",
              "      <td>97</td>\n",
              "      <td>0</td>\n",
              "      <td>1</td>\n",
              "      <td>2</td>\n",
              "      <td>1</td>\n",
              "      <td>0</td>\n",
              "      <td>1</td>\n",
              "      <td>90</td>\n",
              "      <td>172</td>\n",
              "      <td>30</td>\n",
              "      <td>4</td>\n",
              "      <td>0</td>\n",
              "      <td>0</td>\n",
              "      <td>0</td>\n",
              "      <td>1</td>\n",
              "    </tr>\n",
              "    <tr>\n",
              "      <th>1</th>\n",
              "      <td>7</td>\n",
              "      <td>3</td>\n",
              "      <td>1</td>\n",
              "      <td>118</td>\n",
              "      <td>13</td>\n",
              "      <td>18</td>\n",
              "      <td>50</td>\n",
              "      <td>239554</td>\n",
              "      <td>97</td>\n",
              "      <td>1</td>\n",
              "      <td>1</td>\n",
              "      <td>1</td>\n",
              "      <td>1</td>\n",
              "      <td>0</td>\n",
              "      <td>0</td>\n",
              "      <td>98</td>\n",
              "      <td>178</td>\n",
              "      <td>31</td>\n",
              "      <td>0</td>\n",
              "      <td>0</td>\n",
              "      <td>0</td>\n",
              "      <td>0</td>\n",
              "      <td>0</td>\n",
              "    </tr>\n",
              "    <tr>\n",
              "      <th>2</th>\n",
              "      <td>7</td>\n",
              "      <td>4</td>\n",
              "      <td>1</td>\n",
              "      <td>179</td>\n",
              "      <td>51</td>\n",
              "      <td>18</td>\n",
              "      <td>38</td>\n",
              "      <td>239554</td>\n",
              "      <td>97</td>\n",
              "      <td>0</td>\n",
              "      <td>1</td>\n",
              "      <td>0</td>\n",
              "      <td>1</td>\n",
              "      <td>0</td>\n",
              "      <td>0</td>\n",
              "      <td>89</td>\n",
              "      <td>170</td>\n",
              "      <td>31</td>\n",
              "      <td>2</td>\n",
              "      <td>0</td>\n",
              "      <td>0</td>\n",
              "      <td>0</td>\n",
              "      <td>1</td>\n",
              "    </tr>\n",
              "    <tr>\n",
              "      <th>3</th>\n",
              "      <td>7</td>\n",
              "      <td>5</td>\n",
              "      <td>1</td>\n",
              "      <td>279</td>\n",
              "      <td>5</td>\n",
              "      <td>14</td>\n",
              "      <td>39</td>\n",
              "      <td>239554</td>\n",
              "      <td>97</td>\n",
              "      <td>0</td>\n",
              "      <td>1</td>\n",
              "      <td>2</td>\n",
              "      <td>1</td>\n",
              "      <td>1</td>\n",
              "      <td>0</td>\n",
              "      <td>68</td>\n",
              "      <td>168</td>\n",
              "      <td>24</td>\n",
              "      <td>4</td>\n",
              "      <td>1</td>\n",
              "      <td>0</td>\n",
              "      <td>0</td>\n",
              "      <td>0</td>\n",
              "    </tr>\n",
              "    <tr>\n",
              "      <th>4</th>\n",
              "      <td>7</td>\n",
              "      <td>5</td>\n",
              "      <td>1</td>\n",
              "      <td>289</td>\n",
              "      <td>36</td>\n",
              "      <td>13</td>\n",
              "      <td>33</td>\n",
              "      <td>239554</td>\n",
              "      <td>97</td>\n",
              "      <td>0</td>\n",
              "      <td>1</td>\n",
              "      <td>2</td>\n",
              "      <td>1</td>\n",
              "      <td>0</td>\n",
              "      <td>1</td>\n",
              "      <td>90</td>\n",
              "      <td>172</td>\n",
              "      <td>30</td>\n",
              "      <td>2</td>\n",
              "      <td>0</td>\n",
              "      <td>0</td>\n",
              "      <td>0</td>\n",
              "      <td>1</td>\n",
              "    </tr>\n",
              "  </tbody>\n",
              "</table>\n",
              "</div>"
            ],
            "text/plain": [
              "   Month of absence  Day of the week  Seasons  Transportation expense  \\\n",
              "0                 7                3        1                     289   \n",
              "1                 7                3        1                     118   \n",
              "2                 7                4        1                     179   \n",
              "3                 7                5        1                     279   \n",
              "4                 7                5        1                     289   \n",
              "\n",
              "   Distance from Residence to Work  Service time  Age  Work load Average/day   \\\n",
              "0                               36            13   33                  239554   \n",
              "1                               13            18   50                  239554   \n",
              "2                               51            18   38                  239554   \n",
              "3                                5            14   39                  239554   \n",
              "4                               36            13   33                  239554   \n",
              "\n",
              "   Hit target  Disciplinary failure  Education  Son  Social drinker  \\\n",
              "0          97                     0          1    2               1   \n",
              "1          97                     1          1    1               1   \n",
              "2          97                     0          1    0               1   \n",
              "3          97                     0          1    2               1   \n",
              "4          97                     0          1    2               1   \n",
              "\n",
              "   Social smoker  Pet  Weight  Height  Body mass index  \\\n",
              "0              0    1      90     172               30   \n",
              "1              0    0      98     178               31   \n",
              "2              0    0      89     170               31   \n",
              "3              1    0      68     168               24   \n",
              "4              0    1      90     172               30   \n",
              "\n",
              "   Absenteeism time in hours  Reason_1  Reason_2  Reason_3  Reason_4  \n",
              "0                          4         0         0         0         1  \n",
              "1                          0         0         0         0         0  \n",
              "2                          2         0         0         0         1  \n",
              "3                          4         1         0         0         0  \n",
              "4                          2         0         0         0         1  "
            ]
          },
          "metadata": {
            "tags": []
          },
          "execution_count": 233
        }
      ]
    },
    {
      "cell_type": "code",
      "metadata": {
        "id": "S9MJDXZFf31O"
      },
      "source": [
        "#Reordering Columns:\n",
        "column_names_reordered = ['Reason_1', 'Reason_2', 'Reason_3', 'Reason_4','Month of absence', 'Day of the week', 'Seasons', 'Transportation expense', 'Distance from Residence to Work', 'Service time', 'Age', 'Work load Average/day ', 'Hit target', 'Disciplinary failure', 'Education', 'Son', 'Social drinker', 'Social smoker', 'Pet', 'Weight', 'Height', 'Body mass index', 'Absenteeism time in hours']"
      ],
      "execution_count": 234,
      "outputs": []
    },
    {
      "cell_type": "code",
      "metadata": {
        "id": "CUIzGJHzf33e"
      },
      "source": [
        "df.columns = column_names_reordered"
      ],
      "execution_count": 235,
      "outputs": []
    },
    {
      "cell_type": "code",
      "metadata": {
        "colab": {
          "base_uri": "https://localhost:8080/",
          "height": 266
        },
        "id": "7EsOIKJaf37e",
        "outputId": "07b499f0-2282-4621-bf7a-441cf6de01ef"
      },
      "source": [
        "df.head()"
      ],
      "execution_count": 236,
      "outputs": [
        {
          "output_type": "execute_result",
          "data": {
            "text/html": [
              "<div>\n",
              "<style scoped>\n",
              "    .dataframe tbody tr th:only-of-type {\n",
              "        vertical-align: middle;\n",
              "    }\n",
              "\n",
              "    .dataframe tbody tr th {\n",
              "        vertical-align: top;\n",
              "    }\n",
              "\n",
              "    .dataframe thead th {\n",
              "        text-align: right;\n",
              "    }\n",
              "</style>\n",
              "<table border=\"1\" class=\"dataframe\">\n",
              "  <thead>\n",
              "    <tr style=\"text-align: right;\">\n",
              "      <th></th>\n",
              "      <th>Reason_1</th>\n",
              "      <th>Reason_2</th>\n",
              "      <th>Reason_3</th>\n",
              "      <th>Reason_4</th>\n",
              "      <th>Month of absence</th>\n",
              "      <th>Day of the week</th>\n",
              "      <th>Seasons</th>\n",
              "      <th>Transportation expense</th>\n",
              "      <th>Distance from Residence to Work</th>\n",
              "      <th>Service time</th>\n",
              "      <th>Age</th>\n",
              "      <th>Work load Average/day</th>\n",
              "      <th>Hit target</th>\n",
              "      <th>Disciplinary failure</th>\n",
              "      <th>Education</th>\n",
              "      <th>Son</th>\n",
              "      <th>Social drinker</th>\n",
              "      <th>Social smoker</th>\n",
              "      <th>Pet</th>\n",
              "      <th>Weight</th>\n",
              "      <th>Height</th>\n",
              "      <th>Body mass index</th>\n",
              "      <th>Absenteeism time in hours</th>\n",
              "    </tr>\n",
              "  </thead>\n",
              "  <tbody>\n",
              "    <tr>\n",
              "      <th>0</th>\n",
              "      <td>7</td>\n",
              "      <td>3</td>\n",
              "      <td>1</td>\n",
              "      <td>289</td>\n",
              "      <td>36</td>\n",
              "      <td>13</td>\n",
              "      <td>33</td>\n",
              "      <td>239554</td>\n",
              "      <td>97</td>\n",
              "      <td>0</td>\n",
              "      <td>1</td>\n",
              "      <td>2</td>\n",
              "      <td>1</td>\n",
              "      <td>0</td>\n",
              "      <td>1</td>\n",
              "      <td>90</td>\n",
              "      <td>172</td>\n",
              "      <td>30</td>\n",
              "      <td>4</td>\n",
              "      <td>0</td>\n",
              "      <td>0</td>\n",
              "      <td>0</td>\n",
              "      <td>1</td>\n",
              "    </tr>\n",
              "    <tr>\n",
              "      <th>1</th>\n",
              "      <td>7</td>\n",
              "      <td>3</td>\n",
              "      <td>1</td>\n",
              "      <td>118</td>\n",
              "      <td>13</td>\n",
              "      <td>18</td>\n",
              "      <td>50</td>\n",
              "      <td>239554</td>\n",
              "      <td>97</td>\n",
              "      <td>1</td>\n",
              "      <td>1</td>\n",
              "      <td>1</td>\n",
              "      <td>1</td>\n",
              "      <td>0</td>\n",
              "      <td>0</td>\n",
              "      <td>98</td>\n",
              "      <td>178</td>\n",
              "      <td>31</td>\n",
              "      <td>0</td>\n",
              "      <td>0</td>\n",
              "      <td>0</td>\n",
              "      <td>0</td>\n",
              "      <td>0</td>\n",
              "    </tr>\n",
              "    <tr>\n",
              "      <th>2</th>\n",
              "      <td>7</td>\n",
              "      <td>4</td>\n",
              "      <td>1</td>\n",
              "      <td>179</td>\n",
              "      <td>51</td>\n",
              "      <td>18</td>\n",
              "      <td>38</td>\n",
              "      <td>239554</td>\n",
              "      <td>97</td>\n",
              "      <td>0</td>\n",
              "      <td>1</td>\n",
              "      <td>0</td>\n",
              "      <td>1</td>\n",
              "      <td>0</td>\n",
              "      <td>0</td>\n",
              "      <td>89</td>\n",
              "      <td>170</td>\n",
              "      <td>31</td>\n",
              "      <td>2</td>\n",
              "      <td>0</td>\n",
              "      <td>0</td>\n",
              "      <td>0</td>\n",
              "      <td>1</td>\n",
              "    </tr>\n",
              "    <tr>\n",
              "      <th>3</th>\n",
              "      <td>7</td>\n",
              "      <td>5</td>\n",
              "      <td>1</td>\n",
              "      <td>279</td>\n",
              "      <td>5</td>\n",
              "      <td>14</td>\n",
              "      <td>39</td>\n",
              "      <td>239554</td>\n",
              "      <td>97</td>\n",
              "      <td>0</td>\n",
              "      <td>1</td>\n",
              "      <td>2</td>\n",
              "      <td>1</td>\n",
              "      <td>1</td>\n",
              "      <td>0</td>\n",
              "      <td>68</td>\n",
              "      <td>168</td>\n",
              "      <td>24</td>\n",
              "      <td>4</td>\n",
              "      <td>1</td>\n",
              "      <td>0</td>\n",
              "      <td>0</td>\n",
              "      <td>0</td>\n",
              "    </tr>\n",
              "    <tr>\n",
              "      <th>4</th>\n",
              "      <td>7</td>\n",
              "      <td>5</td>\n",
              "      <td>1</td>\n",
              "      <td>289</td>\n",
              "      <td>36</td>\n",
              "      <td>13</td>\n",
              "      <td>33</td>\n",
              "      <td>239554</td>\n",
              "      <td>97</td>\n",
              "      <td>0</td>\n",
              "      <td>1</td>\n",
              "      <td>2</td>\n",
              "      <td>1</td>\n",
              "      <td>0</td>\n",
              "      <td>1</td>\n",
              "      <td>90</td>\n",
              "      <td>172</td>\n",
              "      <td>30</td>\n",
              "      <td>2</td>\n",
              "      <td>0</td>\n",
              "      <td>0</td>\n",
              "      <td>0</td>\n",
              "      <td>1</td>\n",
              "    </tr>\n",
              "  </tbody>\n",
              "</table>\n",
              "</div>"
            ],
            "text/plain": [
              "   Reason_1  Reason_2  Reason_3  Reason_4  Month of absence  Day of the week  \\\n",
              "0         7         3         1       289                36               13   \n",
              "1         7         3         1       118                13               18   \n",
              "2         7         4         1       179                51               18   \n",
              "3         7         5         1       279                 5               14   \n",
              "4         7         5         1       289                36               13   \n",
              "\n",
              "   Seasons  Transportation expense  Distance from Residence to Work  \\\n",
              "0       33                  239554                               97   \n",
              "1       50                  239554                               97   \n",
              "2       38                  239554                               97   \n",
              "3       39                  239554                               97   \n",
              "4       33                  239554                               97   \n",
              "\n",
              "   Service time  Age  Work load Average/day   Hit target  \\\n",
              "0             0    1                       2           1   \n",
              "1             1    1                       1           1   \n",
              "2             0    1                       0           1   \n",
              "3             0    1                       2           1   \n",
              "4             0    1                       2           1   \n",
              "\n",
              "   Disciplinary failure  Education  Son  Social drinker  Social smoker  Pet  \\\n",
              "0                     0          1   90             172             30    4   \n",
              "1                     0          0   98             178             31    0   \n",
              "2                     0          0   89             170             31    2   \n",
              "3                     1          0   68             168             24    4   \n",
              "4                     0          1   90             172             30    2   \n",
              "\n",
              "   Weight  Height  Body mass index  Absenteeism time in hours  \n",
              "0       0       0                0                          1  \n",
              "1       0       0                0                          0  \n",
              "2       0       0                0                          1  \n",
              "3       1       0                0                          0  \n",
              "4       0       0                0                          1  "
            ]
          },
          "metadata": {
            "tags": []
          },
          "execution_count": 236
        }
      ]
    },
    {
      "cell_type": "code",
      "metadata": {
        "colab": {
          "base_uri": "https://localhost:8080/"
        },
        "id": "96g-Ib40iRy1",
        "outputId": "5bd8f2b5-d05e-43ff-dab9-65494504b932"
      },
      "source": [
        "#checking the value count of some features:\n",
        "print(df['Education'].value_counts())"
      ],
      "execution_count": 237,
      "outputs": [
        {
          "output_type": "stream",
          "text": [
            "0    460\n",
            "1    138\n",
            "2     96\n",
            "4     32\n",
            "8      8\n",
            "5      6\n",
            "Name: Education, dtype: int64\n"
          ],
          "name": "stdout"
        }
      ]
    },
    {
      "cell_type": "code",
      "metadata": {
        "colab": {
          "base_uri": "https://localhost:8080/"
        },
        "id": "rnuMkRIbihda",
        "outputId": "c47d8b3a-b139-488d-e047-f7b1465bd4e4"
      },
      "source": [
        "#Checking value count for target variable:\n",
        "df['Absenteeism time in hours'].value_counts()"
      ],
      "execution_count": 238,
      "outputs": [
        {
          "output_type": "execute_result",
          "data": {
            "text/plain": [
              "1    435\n",
              "0    305\n",
              "Name: Absenteeism time in hours, dtype: int64"
            ]
          },
          "metadata": {
            "tags": []
          },
          "execution_count": 238
        }
      ]
    },
    {
      "cell_type": "code",
      "metadata": {
        "colab": {
          "base_uri": "https://localhost:8080/",
          "height": 354
        },
        "id": "8TEJj67Lihfz",
        "outputId": "01a59adc-b072-4b85-f2de-522165fa5240"
      },
      "source": [
        "#Statistical Analysis:\n",
        "#Doing Statistical Analysis by using Describe Function\n",
        "#Checking interquantile range.\n",
        "#Checking mean median mode\n",
        "df.describe()"
      ],
      "execution_count": 239,
      "outputs": [
        {
          "output_type": "execute_result",
          "data": {
            "text/html": [
              "<div>\n",
              "<style scoped>\n",
              "    .dataframe tbody tr th:only-of-type {\n",
              "        vertical-align: middle;\n",
              "    }\n",
              "\n",
              "    .dataframe tbody tr th {\n",
              "        vertical-align: top;\n",
              "    }\n",
              "\n",
              "    .dataframe thead th {\n",
              "        text-align: right;\n",
              "    }\n",
              "</style>\n",
              "<table border=\"1\" class=\"dataframe\">\n",
              "  <thead>\n",
              "    <tr style=\"text-align: right;\">\n",
              "      <th></th>\n",
              "      <th>Reason_1</th>\n",
              "      <th>Reason_2</th>\n",
              "      <th>Reason_3</th>\n",
              "      <th>Reason_4</th>\n",
              "      <th>Month of absence</th>\n",
              "      <th>Day of the week</th>\n",
              "      <th>Seasons</th>\n",
              "      <th>Transportation expense</th>\n",
              "      <th>Distance from Residence to Work</th>\n",
              "      <th>Service time</th>\n",
              "      <th>Age</th>\n",
              "      <th>Work load Average/day</th>\n",
              "      <th>Hit target</th>\n",
              "      <th>Disciplinary failure</th>\n",
              "      <th>Education</th>\n",
              "      <th>Son</th>\n",
              "      <th>Social drinker</th>\n",
              "      <th>Social smoker</th>\n",
              "      <th>Pet</th>\n",
              "      <th>Weight</th>\n",
              "      <th>Height</th>\n",
              "      <th>Body mass index</th>\n",
              "      <th>Absenteeism time in hours</th>\n",
              "    </tr>\n",
              "  </thead>\n",
              "  <tbody>\n",
              "    <tr>\n",
              "      <th>count</th>\n",
              "      <td>740.000000</td>\n",
              "      <td>740.000000</td>\n",
              "      <td>740.000000</td>\n",
              "      <td>740.000000</td>\n",
              "      <td>740.000000</td>\n",
              "      <td>740.000000</td>\n",
              "      <td>740.000000</td>\n",
              "      <td>740.000000</td>\n",
              "      <td>740.000000</td>\n",
              "      <td>740.000000</td>\n",
              "      <td>740.000000</td>\n",
              "      <td>740.000000</td>\n",
              "      <td>740.000000</td>\n",
              "      <td>740.000000</td>\n",
              "      <td>740.000000</td>\n",
              "      <td>740.000000</td>\n",
              "      <td>740.000000</td>\n",
              "      <td>740.000000</td>\n",
              "      <td>740.000000</td>\n",
              "      <td>740.000000</td>\n",
              "      <td>740.000000</td>\n",
              "      <td>740.000000</td>\n",
              "      <td>740.000000</td>\n",
              "    </tr>\n",
              "    <tr>\n",
              "      <th>mean</th>\n",
              "      <td>6.324324</td>\n",
              "      <td>3.914865</td>\n",
              "      <td>2.544595</td>\n",
              "      <td>221.329730</td>\n",
              "      <td>29.631081</td>\n",
              "      <td>12.554054</td>\n",
              "      <td>36.450000</td>\n",
              "      <td>271490.235135</td>\n",
              "      <td>94.587838</td>\n",
              "      <td>0.054054</td>\n",
              "      <td>1.291892</td>\n",
              "      <td>1.018919</td>\n",
              "      <td>0.567568</td>\n",
              "      <td>0.072973</td>\n",
              "      <td>0.745946</td>\n",
              "      <td>79.035135</td>\n",
              "      <td>172.114865</td>\n",
              "      <td>26.677027</td>\n",
              "      <td>6.924324</td>\n",
              "      <td>0.255405</td>\n",
              "      <td>0.008108</td>\n",
              "      <td>0.090541</td>\n",
              "      <td>0.587838</td>\n",
              "    </tr>\n",
              "    <tr>\n",
              "      <th>std</th>\n",
              "      <td>3.436287</td>\n",
              "      <td>1.421675</td>\n",
              "      <td>1.111831</td>\n",
              "      <td>66.952223</td>\n",
              "      <td>14.836788</td>\n",
              "      <td>4.384873</td>\n",
              "      <td>6.478772</td>\n",
              "      <td>39058.116188</td>\n",
              "      <td>3.779313</td>\n",
              "      <td>0.226277</td>\n",
              "      <td>0.673238</td>\n",
              "      <td>1.098489</td>\n",
              "      <td>0.495749</td>\n",
              "      <td>0.260268</td>\n",
              "      <td>1.318258</td>\n",
              "      <td>12.883211</td>\n",
              "      <td>6.034995</td>\n",
              "      <td>4.285452</td>\n",
              "      <td>13.330998</td>\n",
              "      <td>0.436384</td>\n",
              "      <td>0.089740</td>\n",
              "      <td>0.287149</td>\n",
              "      <td>0.492557</td>\n",
              "    </tr>\n",
              "    <tr>\n",
              "      <th>min</th>\n",
              "      <td>0.000000</td>\n",
              "      <td>2.000000</td>\n",
              "      <td>1.000000</td>\n",
              "      <td>118.000000</td>\n",
              "      <td>5.000000</td>\n",
              "      <td>1.000000</td>\n",
              "      <td>27.000000</td>\n",
              "      <td>205917.000000</td>\n",
              "      <td>81.000000</td>\n",
              "      <td>0.000000</td>\n",
              "      <td>1.000000</td>\n",
              "      <td>0.000000</td>\n",
              "      <td>0.000000</td>\n",
              "      <td>0.000000</td>\n",
              "      <td>0.000000</td>\n",
              "      <td>56.000000</td>\n",
              "      <td>163.000000</td>\n",
              "      <td>19.000000</td>\n",
              "      <td>0.000000</td>\n",
              "      <td>0.000000</td>\n",
              "      <td>0.000000</td>\n",
              "      <td>0.000000</td>\n",
              "      <td>0.000000</td>\n",
              "    </tr>\n",
              "    <tr>\n",
              "      <th>25%</th>\n",
              "      <td>3.000000</td>\n",
              "      <td>3.000000</td>\n",
              "      <td>2.000000</td>\n",
              "      <td>179.000000</td>\n",
              "      <td>16.000000</td>\n",
              "      <td>9.000000</td>\n",
              "      <td>31.000000</td>\n",
              "      <td>244387.000000</td>\n",
              "      <td>93.000000</td>\n",
              "      <td>0.000000</td>\n",
              "      <td>1.000000</td>\n",
              "      <td>0.000000</td>\n",
              "      <td>0.000000</td>\n",
              "      <td>0.000000</td>\n",
              "      <td>0.000000</td>\n",
              "      <td>69.000000</td>\n",
              "      <td>169.000000</td>\n",
              "      <td>24.000000</td>\n",
              "      <td>2.000000</td>\n",
              "      <td>0.000000</td>\n",
              "      <td>0.000000</td>\n",
              "      <td>0.000000</td>\n",
              "      <td>0.000000</td>\n",
              "    </tr>\n",
              "    <tr>\n",
              "      <th>50%</th>\n",
              "      <td>6.000000</td>\n",
              "      <td>4.000000</td>\n",
              "      <td>3.000000</td>\n",
              "      <td>225.000000</td>\n",
              "      <td>26.000000</td>\n",
              "      <td>13.000000</td>\n",
              "      <td>37.000000</td>\n",
              "      <td>264249.000000</td>\n",
              "      <td>95.000000</td>\n",
              "      <td>0.000000</td>\n",
              "      <td>1.000000</td>\n",
              "      <td>1.000000</td>\n",
              "      <td>1.000000</td>\n",
              "      <td>0.000000</td>\n",
              "      <td>0.000000</td>\n",
              "      <td>83.000000</td>\n",
              "      <td>170.000000</td>\n",
              "      <td>25.000000</td>\n",
              "      <td>3.000000</td>\n",
              "      <td>0.000000</td>\n",
              "      <td>0.000000</td>\n",
              "      <td>0.000000</td>\n",
              "      <td>1.000000</td>\n",
              "    </tr>\n",
              "    <tr>\n",
              "      <th>75%</th>\n",
              "      <td>9.000000</td>\n",
              "      <td>5.000000</td>\n",
              "      <td>4.000000</td>\n",
              "      <td>260.000000</td>\n",
              "      <td>50.000000</td>\n",
              "      <td>16.000000</td>\n",
              "      <td>40.000000</td>\n",
              "      <td>294217.000000</td>\n",
              "      <td>97.000000</td>\n",
              "      <td>0.000000</td>\n",
              "      <td>1.000000</td>\n",
              "      <td>2.000000</td>\n",
              "      <td>1.000000</td>\n",
              "      <td>0.000000</td>\n",
              "      <td>1.000000</td>\n",
              "      <td>89.000000</td>\n",
              "      <td>172.000000</td>\n",
              "      <td>31.000000</td>\n",
              "      <td>8.000000</td>\n",
              "      <td>1.000000</td>\n",
              "      <td>0.000000</td>\n",
              "      <td>0.000000</td>\n",
              "      <td>1.000000</td>\n",
              "    </tr>\n",
              "    <tr>\n",
              "      <th>max</th>\n",
              "      <td>12.000000</td>\n",
              "      <td>6.000000</td>\n",
              "      <td>4.000000</td>\n",
              "      <td>388.000000</td>\n",
              "      <td>52.000000</td>\n",
              "      <td>29.000000</td>\n",
              "      <td>58.000000</td>\n",
              "      <td>378884.000000</td>\n",
              "      <td>100.000000</td>\n",
              "      <td>1.000000</td>\n",
              "      <td>4.000000</td>\n",
              "      <td>4.000000</td>\n",
              "      <td>1.000000</td>\n",
              "      <td>1.000000</td>\n",
              "      <td>8.000000</td>\n",
              "      <td>108.000000</td>\n",
              "      <td>196.000000</td>\n",
              "      <td>38.000000</td>\n",
              "      <td>120.000000</td>\n",
              "      <td>1.000000</td>\n",
              "      <td>1.000000</td>\n",
              "      <td>1.000000</td>\n",
              "      <td>1.000000</td>\n",
              "    </tr>\n",
              "  </tbody>\n",
              "</table>\n",
              "</div>"
            ],
            "text/plain": [
              "         Reason_1    Reason_2    Reason_3    Reason_4  Month of absence  \\\n",
              "count  740.000000  740.000000  740.000000  740.000000        740.000000   \n",
              "mean     6.324324    3.914865    2.544595  221.329730         29.631081   \n",
              "std      3.436287    1.421675    1.111831   66.952223         14.836788   \n",
              "min      0.000000    2.000000    1.000000  118.000000          5.000000   \n",
              "25%      3.000000    3.000000    2.000000  179.000000         16.000000   \n",
              "50%      6.000000    4.000000    3.000000  225.000000         26.000000   \n",
              "75%      9.000000    5.000000    4.000000  260.000000         50.000000   \n",
              "max     12.000000    6.000000    4.000000  388.000000         52.000000   \n",
              "\n",
              "       Day of the week     Seasons  Transportation expense  \\\n",
              "count       740.000000  740.000000              740.000000   \n",
              "mean         12.554054   36.450000           271490.235135   \n",
              "std           4.384873    6.478772            39058.116188   \n",
              "min           1.000000   27.000000           205917.000000   \n",
              "25%           9.000000   31.000000           244387.000000   \n",
              "50%          13.000000   37.000000           264249.000000   \n",
              "75%          16.000000   40.000000           294217.000000   \n",
              "max          29.000000   58.000000           378884.000000   \n",
              "\n",
              "       Distance from Residence to Work  Service time         Age  \\\n",
              "count                       740.000000    740.000000  740.000000   \n",
              "mean                         94.587838      0.054054    1.291892   \n",
              "std                           3.779313      0.226277    0.673238   \n",
              "min                          81.000000      0.000000    1.000000   \n",
              "25%                          93.000000      0.000000    1.000000   \n",
              "50%                          95.000000      0.000000    1.000000   \n",
              "75%                          97.000000      0.000000    1.000000   \n",
              "max                         100.000000      1.000000    4.000000   \n",
              "\n",
              "       Work load Average/day   Hit target  Disciplinary failure   Education  \\\n",
              "count              740.000000  740.000000            740.000000  740.000000   \n",
              "mean                 1.018919    0.567568              0.072973    0.745946   \n",
              "std                  1.098489    0.495749              0.260268    1.318258   \n",
              "min                  0.000000    0.000000              0.000000    0.000000   \n",
              "25%                  0.000000    0.000000              0.000000    0.000000   \n",
              "50%                  1.000000    1.000000              0.000000    0.000000   \n",
              "75%                  2.000000    1.000000              0.000000    1.000000   \n",
              "max                  4.000000    1.000000              1.000000    8.000000   \n",
              "\n",
              "              Son  Social drinker  Social smoker         Pet      Weight  \\\n",
              "count  740.000000      740.000000     740.000000  740.000000  740.000000   \n",
              "mean    79.035135      172.114865      26.677027    6.924324    0.255405   \n",
              "std     12.883211        6.034995       4.285452   13.330998    0.436384   \n",
              "min     56.000000      163.000000      19.000000    0.000000    0.000000   \n",
              "25%     69.000000      169.000000      24.000000    2.000000    0.000000   \n",
              "50%     83.000000      170.000000      25.000000    3.000000    0.000000   \n",
              "75%     89.000000      172.000000      31.000000    8.000000    1.000000   \n",
              "max    108.000000      196.000000      38.000000  120.000000    1.000000   \n",
              "\n",
              "           Height  Body mass index  Absenteeism time in hours  \n",
              "count  740.000000       740.000000                 740.000000  \n",
              "mean     0.008108         0.090541                   0.587838  \n",
              "std      0.089740         0.287149                   0.492557  \n",
              "min      0.000000         0.000000                   0.000000  \n",
              "25%      0.000000         0.000000                   0.000000  \n",
              "50%      0.000000         0.000000                   1.000000  \n",
              "75%      0.000000         0.000000                   1.000000  \n",
              "max      1.000000         1.000000                   1.000000  "
            ]
          },
          "metadata": {
            "tags": []
          },
          "execution_count": 239
        }
      ]
    },
    {
      "cell_type": "code",
      "metadata": {
        "id": "PB74LeulihiQ"
      },
      "source": [
        "#its looks an balance dataset:\n",
        "#In pet column theres a huge difference between max and 75% possibility of outliers:\n"
      ],
      "execution_count": 240,
      "outputs": []
    },
    {
      "cell_type": "code",
      "metadata": {
        "id": "ZKJwZw6Vihkg"
      },
      "source": [
        "#Exploratory Data Analysis\n",
        "\n",
        "#Univarite Analysis\n",
        "\n",
        "#Multivariate Analysis\n",
        "\n",
        "#Bivariate Analysis\n",
        "\n",
        "#Here we check the relationship between different independant and dependant variable."
      ],
      "execution_count": 241,
      "outputs": []
    },
    {
      "cell_type": "code",
      "metadata": {
        "colab": {
          "base_uri": "https://localhost:8080/",
          "height": 452
        },
        "id": "HinBLWLNq8f1",
        "outputId": "f00cd5fc-f57c-4624-90c2-3e6fbcc47881"
      },
      "source": [
        "#Univariate Analysis:\n",
        "#Checking Count of Education Column:\n",
        "sns.set_style('ticks')\n",
        "plt.figure(figsize=(10,5))\n",
        "ax = sns.countplot(df['Education'])\n",
        "for p in ax.patches:\n",
        "       ax.annotate(int(p.get_height()), (p.get_x()+0.25, p.get_height()+1), va='bottom',color= 'black')\n",
        "\n",
        "print(df['Education'].value_counts())"
      ],
      "execution_count": null,
      "outputs": [
        {
          "output_type": "stream",
          "text": [
            "0    460\n",
            "1    138\n",
            "2     96\n",
            "4     32\n",
            "8      8\n",
            "5      6\n",
            "Name: Education, dtype: int64\n"
          ],
          "name": "stdout"
        },
        {
          "output_type": "display_data",
          "data": {
            "image/png": "[encoded data removed]",
            "text/plain": [
              "<Figure size 720x360 with 1 Axes>"
            ]
          },
          "metadata": {
            "tags": []
          }
        }
      ]
    },
    {
      "cell_type": "code",
      "metadata": {
        "colab": {
          "base_uri": "https://localhost:8080/",
          "height": 330
        },
        "id": "CPWIAC93qjEn",
        "outputId": "336cc7aa-dd82-4589-b43b-3500e40f2cf5"
      },
      "source": [
        "#Univariate Analysis:\n",
        "#Checking Count of Target Varibale:\n",
        "sns.set_style('ticks')\n",
        "ax = sns.countplot(df['Absenteeism time in hours'])\n",
        "for p in ax.patches:\n",
        "       ax.annotate(int(p.get_height()), (p.get_x()+0.25, p.get_height()+1), va='bottom',color= 'black')\n",
        "\n",
        "df['Absenteeism time in hours'].value_counts()"
      ],
      "execution_count": null,
      "outputs": [
        {
          "output_type": "execute_result",
          "data": {
            "text/plain": [
              "1    435\n",
              "0    305\n",
              "Name: Absenteeism time in hours, dtype: int64"
            ]
          },
          "metadata": {
            "tags": []
          },
          "execution_count": 164
        },
        {
          "output_type": "display_data",
          "data": {
            "image/png": "[encoded data removed]",
            "text/plain": [
              "<Figure size 432x288 with 1 Axes>"
            ]
          },
          "metadata": {
            "tags": []
          }
        }
      ]
    },
    {
      "cell_type": "code",
      "metadata": {
        "colab": {
          "base_uri": "https://localhost:8080/",
          "height": 558
        },
        "id": "GkhkyhsYp5xi",
        "outputId": "c32032e0-0c35-4f57-f063-4bc7be6e058b"
      },
      "source": [
        "#Bivariate Analysis:\n",
        "#Checking relationship between Absenteeism time in hours vs Education:\n",
        "plt.figure(figsize=(7,5))\n",
        "sns.barplot(x='Education',y='Absenteeism time in hours',data=df)\n",
        "plt.xlabel('Absenteeism time in hours')\n",
        "plt.ylabel('Absenteeism time in hours')\n",
        "plt.title('Absenteeism time in hours vs Education')\n",
        "pd.crosstab(index=df['Education'],columns=df['Absenteeism time in hours'],normalize='index').head()"
      ],
      "execution_count": 187,
      "outputs": [
        {
          "output_type": "execute_result",
          "data": {
            "text/html": [
              "<div>\n",
              "<style scoped>\n",
              "    .dataframe tbody tr th:only-of-type {\n",
              "        vertical-align: middle;\n",
              "    }\n",
              "\n",
              "    .dataframe tbody tr th {\n",
              "        vertical-align: top;\n",
              "    }\n",
              "\n",
              "    .dataframe thead th {\n",
              "        text-align: right;\n",
              "    }\n",
              "</style>\n",
              "<table border=\"1\" class=\"dataframe\">\n",
              "  <thead>\n",
              "    <tr style=\"text-align: right;\">\n",
              "      <th>Absenteeism time in hours</th>\n",
              "      <th>0</th>\n",
              "      <th>1</th>\n",
              "    </tr>\n",
              "    <tr>\n",
              "      <th>Education</th>\n",
              "      <th></th>\n",
              "      <th></th>\n",
              "    </tr>\n",
              "  </thead>\n",
              "  <tbody>\n",
              "    <tr>\n",
              "      <th>0</th>\n",
              "      <td>0.415217</td>\n",
              "      <td>0.584783</td>\n",
              "    </tr>\n",
              "    <tr>\n",
              "      <th>1</th>\n",
              "      <td>0.427536</td>\n",
              "      <td>0.572464</td>\n",
              "    </tr>\n",
              "    <tr>\n",
              "      <th>2</th>\n",
              "      <td>0.343750</td>\n",
              "      <td>0.656250</td>\n",
              "    </tr>\n",
              "    <tr>\n",
              "      <th>4</th>\n",
              "      <td>0.375000</td>\n",
              "      <td>0.625000</td>\n",
              "    </tr>\n",
              "    <tr>\n",
              "      <th>5</th>\n",
              "      <td>0.666667</td>\n",
              "      <td>0.333333</td>\n",
              "    </tr>\n",
              "  </tbody>\n",
              "</table>\n",
              "</div>"
            ],
            "text/plain": [
              "Absenteeism time in hours         0         1\n",
              "Education                                    \n",
              "0                          0.415217  0.584783\n",
              "1                          0.427536  0.572464\n",
              "2                          0.343750  0.656250\n",
              "4                          0.375000  0.625000\n",
              "5                          0.666667  0.333333"
            ]
          },
          "metadata": {
            "tags": []
          },
          "execution_count": 187
        },
        {
          "output_type": "display_data",
          "data": {
            "image/png": "[encoded data removed]",
            "text/plain": [
              "<Figure size 504x360 with 1 Axes>"
            ]
          },
          "metadata": {
            "tags": []
          }
        }
      ]
    },
    {
      "cell_type": "code",
      "metadata": {
        "colab": {
          "base_uri": "https://localhost:8080/",
          "height": 558
        },
        "id": "6iQ_M32otb3b",
        "outputId": "8b4bcd48-a7f8-460d-cdc1-372e50ab4792"
      },
      "source": [
        "#Bivariate Analysis:\n",
        "#Checking relationship between Absenteeism time in hours vs Education:\n",
        "plt.figure(figsize=(7,5))\n",
        "sns.boxplot(x='Absenteeism time in hours',y='Social drinker',data=df)\n",
        "plt.xlabel('Absenteeism time in hours')\n",
        "plt.ylabel('Social drinker')\n",
        "plt.title('Absenteeism time in hours vs Work load Average/day')\n",
        "pd.crosstab(index=df['Social drinker'],columns=df['Absenteeism time in hours'],normalize='index').head()"
      ],
      "execution_count": 190,
      "outputs": [
        {
          "output_type": "execute_result",
          "data": {
            "text/html": [
              "<div>\n",
              "<style scoped>\n",
              "    .dataframe tbody tr th:only-of-type {\n",
              "        vertical-align: middle;\n",
              "    }\n",
              "\n",
              "    .dataframe tbody tr th {\n",
              "        vertical-align: top;\n",
              "    }\n",
              "\n",
              "    .dataframe thead th {\n",
              "        text-align: right;\n",
              "    }\n",
              "</style>\n",
              "<table border=\"1\" class=\"dataframe\">\n",
              "  <thead>\n",
              "    <tr style=\"text-align: right;\">\n",
              "      <th>Absenteeism time in hours</th>\n",
              "      <th>0</th>\n",
              "      <th>1</th>\n",
              "    </tr>\n",
              "    <tr>\n",
              "      <th>Social drinker</th>\n",
              "      <th></th>\n",
              "      <th></th>\n",
              "    </tr>\n",
              "  </thead>\n",
              "  <tbody>\n",
              "    <tr>\n",
              "      <th>163</th>\n",
              "      <td>0.666667</td>\n",
              "      <td>0.333333</td>\n",
              "    </tr>\n",
              "    <tr>\n",
              "      <th>165</th>\n",
              "      <td>0.333333</td>\n",
              "      <td>0.666667</td>\n",
              "    </tr>\n",
              "    <tr>\n",
              "      <th>167</th>\n",
              "      <td>0.382353</td>\n",
              "      <td>0.617647</td>\n",
              "    </tr>\n",
              "    <tr>\n",
              "      <th>168</th>\n",
              "      <td>0.416667</td>\n",
              "      <td>0.583333</td>\n",
              "    </tr>\n",
              "    <tr>\n",
              "      <th>169</th>\n",
              "      <td>0.336842</td>\n",
              "      <td>0.663158</td>\n",
              "    </tr>\n",
              "  </tbody>\n",
              "</table>\n",
              "</div>"
            ],
            "text/plain": [
              "Absenteeism time in hours         0         1\n",
              "Social drinker                               \n",
              "163                        0.666667  0.333333\n",
              "165                        0.333333  0.666667\n",
              "167                        0.382353  0.617647\n",
              "168                        0.416667  0.583333\n",
              "169                        0.336842  0.663158"
            ]
          },
          "metadata": {
            "tags": []
          },
          "execution_count": 190
        },
        {
          "output_type": "display_data",
          "data": {
            "image/png": "[encoded data removed]",
            "text/plain": [
              "<Figure size 504x360 with 1 Axes>"
            ]
          },
          "metadata": {
            "tags": []
          }
        }
      ]
    },
    {
      "cell_type": "code",
      "metadata": {
        "colab": {
          "base_uri": "https://localhost:8080/",
          "height": 558
        },
        "id": "CmOnKSfAtb8N",
        "outputId": "8b57c958-539a-4210-dc3e-ad7363f73f11"
      },
      "source": [
        "#Bivariate Analysis:\n",
        "#Checking relationship between Absenteeism time in hours vs Education:\n",
        "plt.figure(figsize=(7,5))\n",
        "sns.barplot(x='Absenteeism time in hours',y='Social smoker',data=df)\n",
        "plt.xlabel('Absenteeism time in hours')\n",
        "plt.ylabel('Social smoker')\n",
        "plt.title('Absenteeism time in hours vs Work load Average/day')\n",
        "pd.crosstab(index=df['Social smoker'],columns=df['Absenteeism time in hours'],normalize='index').head()"
      ],
      "execution_count": 193,
      "outputs": [
        {
          "output_type": "execute_result",
          "data": {
            "text/html": [
              "<div>\n",
              "<style scoped>\n",
              "    .dataframe tbody tr th:only-of-type {\n",
              "        vertical-align: middle;\n",
              "    }\n",
              "\n",
              "    .dataframe tbody tr th {\n",
              "        vertical-align: top;\n",
              "    }\n",
              "\n",
              "    .dataframe thead th {\n",
              "        text-align: right;\n",
              "    }\n",
              "</style>\n",
              "<table border=\"1\" class=\"dataframe\">\n",
              "  <thead>\n",
              "    <tr style=\"text-align: right;\">\n",
              "      <th>Absenteeism time in hours</th>\n",
              "      <th>0</th>\n",
              "      <th>1</th>\n",
              "    </tr>\n",
              "    <tr>\n",
              "      <th>Social smoker</th>\n",
              "      <th></th>\n",
              "      <th></th>\n",
              "    </tr>\n",
              "  </thead>\n",
              "  <tbody>\n",
              "    <tr>\n",
              "      <th>19</th>\n",
              "      <td>0.413043</td>\n",
              "      <td>0.586957</td>\n",
              "    </tr>\n",
              "    <tr>\n",
              "      <th>21</th>\n",
              "      <td>0.545455</td>\n",
              "      <td>0.454545</td>\n",
              "    </tr>\n",
              "    <tr>\n",
              "      <th>22</th>\n",
              "      <td>0.628571</td>\n",
              "      <td>0.371429</td>\n",
              "    </tr>\n",
              "    <tr>\n",
              "      <th>23</th>\n",
              "      <td>0.453333</td>\n",
              "      <td>0.546667</td>\n",
              "    </tr>\n",
              "    <tr>\n",
              "      <th>24</th>\n",
              "      <td>0.360465</td>\n",
              "      <td>0.639535</td>\n",
              "    </tr>\n",
              "  </tbody>\n",
              "</table>\n",
              "</div>"
            ],
            "text/plain": [
              "Absenteeism time in hours         0         1\n",
              "Social smoker                                \n",
              "19                         0.413043  0.586957\n",
              "21                         0.545455  0.454545\n",
              "22                         0.628571  0.371429\n",
              "23                         0.453333  0.546667\n",
              "24                         0.360465  0.639535"
            ]
          },
          "metadata": {
            "tags": []
          },
          "execution_count": 193
        },
        {
          "output_type": "display_data",
          "data": {
            "image/png": "[encoded data removed]",
            "text/plain": [
              "<Figure size 504x360 with 1 Axes>"
            ]
          },
          "metadata": {
            "tags": []
          }
        }
      ]
    },
    {
      "cell_type": "code",
      "metadata": {
        "colab": {
          "base_uri": "https://localhost:8080/",
          "height": 751
        },
        "id": "fgSi0_AktcAb",
        "outputId": "bb0d7899-c615-41a6-df16-ab926850d2e3"
      },
      "source": [
        "#Checking the coerelation:\n",
        "#how the different neumerical features are corelated to each other \n",
        "#Their strength of relationship\n",
        "#Their influence on target variable.\n",
        "f,ax=plt.subplots(figsize=(15,10))\n",
        "sns.heatmap(df.corr(),annot=True,fmt=\".1f\",linewidths=.2,cmap=\"Spectral\",ax=ax,linecolor=\"black\")\n",
        "plt.show()"
      ],
      "execution_count": 194,
      "outputs": [
        {
          "output_type": "display_data",
          "data": {
            "image/png": "[encoded data removed]",
            "text/plain": [
              "<Figure size 1080x720 with 2 Axes>"
            ]
          },
          "metadata": {
            "tags": []
          }
        }
      ]
    },
    {
      "cell_type": "code",
      "metadata": {
        "colab": {
          "base_uri": "https://localhost:8080/"
        },
        "id": "5pHPDlxStcEW",
        "outputId": "8c7652c5-c8d2-4cef-bbf3-c8f9ebfd380b"
      },
      "source": [
        "#Checking for outliers\n",
        "#outlier is a data point that differs significantly from other observations. \n",
        "#Any datapoint greater than +3 Standard Deviations and -3 SD are called Outliers\n",
        "#Zscore is Automated method used to handle outliers.\n",
        "#Let check wheather any outliers are present or not and if yes lets normalize them:\n",
        "from scipy.stats import zscore\n",
        "zscore = abs(zscore(df))\n",
        "print(\"Before removal of outliers:\",df.shape)\n",
        "df_final = df.loc[(zscore<3).all(axis=1)]\n",
        "print(\"After removal of outliers:\",df_final.shape)"
      ],
      "execution_count": 242,
      "outputs": [
        {
          "output_type": "stream",
          "text": [
            "Before removal of outliers: (740, 23)\n",
            "After removal of outliers: (534, 23)\n"
          ],
          "name": "stdout"
        }
      ]
    },
    {
      "cell_type": "code",
      "metadata": {
        "colab": {
          "base_uri": "https://localhost:8080/"
        },
        "id": "rKkfDL17tcIS",
        "outputId": "f4fd0b01-e7b9-4cb1-9e95-9f8e3059fdd3"
      },
      "source": [
        "#Checking for skewness:\n",
        "#whether the features are right or left skewed.\n",
        "#for right and left skewed we can use logarthim transformation.\n",
        "#if the skewness value is greater than o.55 then the features are skewed.\n",
        "df_final.skew()"
      ],
      "execution_count": 243,
      "outputs": [
        {
          "output_type": "execute_result",
          "data": {
            "text/plain": [
              "Reason_1                           0.096967\n",
              "Reason_2                           0.060336\n",
              "Reason_3                          -0.039199\n",
              "Reason_4                           0.367578\n",
              "Month of absence                   0.202285\n",
              "Day of the week                   -0.137786\n",
              "Seasons                            0.494239\n",
              "Transportation expense             1.024323\n",
              "Distance from Residence to Work   -0.484630\n",
              "Service time                       0.000000\n",
              "Age                                2.017973\n",
              "Work load Average/day              1.496776\n",
              "Hit target                        -0.173415\n",
              "Disciplinary failure               0.000000\n",
              "Education                          1.726293\n",
              "Son                               -0.114798\n",
              "Social drinker                     1.465245\n",
              "Social smoker                      0.048352\n",
              "Pet                                3.391885\n",
              "Weight                             1.009066\n",
              "Height                             0.000000\n",
              "Body mass index                    0.000000\n",
              "Absenteeism time in hours         -0.988123\n",
              "dtype: float64"
            ]
          },
          "metadata": {
            "tags": []
          },
          "execution_count": 243
        }
      ]
    },
    {
      "cell_type": "code",
      "metadata": {
        "id": "jAZjB-9XtcPC"
      },
      "source": [
        "import scipy.stats as stat\n",
        "import pylab"
      ],
      "execution_count": 197,
      "outputs": []
    },
    {
      "cell_type": "code",
      "metadata": {
        "id": "bp3HLxyLtcTH"
      },
      "source": [
        "#If you want to check whether feature is guassian or normal distributed\n",
        "# Q-Q plot is used to check wheather the data are normally distributed or not by graphically.\n",
        "def plot_data(df,feature):\n",
        "    plt.figure(figsize=(10,6))\n",
        "    plt.subplot(1,2,1)\n",
        "    df[feature].hist()\n",
        "    plt.subplot(1,2,2)\n",
        "    stat.probplot(df[feature],dist='norm',plot=pylab)\n",
        "    plt.show()"
      ],
      "execution_count": 198,
      "outputs": []
    },
    {
      "cell_type": "code",
      "metadata": {
        "colab": {
          "base_uri": "https://localhost:8080/",
          "height": 404
        },
        "id": "VX0HOYSRp5_M",
        "outputId": "4d2efaed-61e4-4c36-d567-e36353234edd"
      },
      "source": [
        "#We can check for skewness by using Distrution plot:\n",
        "plot_data(df,'Age')"
      ],
      "execution_count": 199,
      "outputs": [
        {
          "output_type": "display_data",
          "data": {
            "image/png": "[encoded data removed]",
            "text/plain": [
              "<Figure size 720x432 with 2 Axes>"
            ]
          },
          "metadata": {
            "tags": []
          }
        }
      ]
    },
    {
      "cell_type": "code",
      "metadata": {
        "colab": {
          "base_uri": "https://localhost:8080/",
          "height": 404
        },
        "id": "XyWunGfEzfHZ",
        "outputId": "c888200f-cc6c-4514-9506-3c0621cb650f"
      },
      "source": [
        "#We can check for skewness by using Distrution plot:\n",
        "plot_data(df,'Social drinker')"
      ],
      "execution_count": 200,
      "outputs": [
        {
          "output_type": "display_data",
          "data": {
            "image/png": "[encoded data removed]",
            "text/plain": [
              "<Figure size 720x432 with 2 Axes>"
            ]
          },
          "metadata": {
            "tags": []
          }
        }
      ]
    },
    {
      "cell_type": "code",
      "metadata": {
        "colab": {
          "base_uri": "https://localhost:8080/",
          "height": 404
        },
        "id": "iSbC-mTOzfKq",
        "outputId": "508f39e5-b3dc-404c-a87e-716bb7957123"
      },
      "source": [
        "#We can check for skewness by using Distrution plot:\n",
        "plot_data(df,'Pet')"
      ],
      "execution_count": 201,
      "outputs": [
        {
          "output_type": "display_data",
          "data": {
            "image/png": "[encoded data removed]",
            "text/plain": [
              "<Figure size 720x432 with 2 Axes>"
            ]
          },
          "metadata": {
            "tags": []
          }
        }
      ]
    },
    {
      "cell_type": "code",
      "metadata": {
        "colab": {
          "base_uri": "https://localhost:8080/",
          "height": 404
        },
        "id": "uItRp6-kzfNt",
        "outputId": "5bb5a80a-293b-4264-9f1b-a01c67770705"
      },
      "source": [
        "#We can check for skewness by using Distrution plot:\n",
        "plot_data(df,'Education')"
      ],
      "execution_count": 202,
      "outputs": [
        {
          "output_type": "display_data",
          "data": {
            "image/png": "[encoded data removed]",
            "text/plain": [
              "<Figure size 720x432 with 2 Axes>"
            ]
          },
          "metadata": {
            "tags": []
          }
        }
      ]
    },
    {
      "cell_type": "code",
      "metadata": {
        "id": "0ebvzsBFzfWi"
      },
      "source": [
        "df_final.drop('Body mass index',axis=1,inplace=True)"
      ],
      "execution_count": 244,
      "outputs": []
    },
    {
      "cell_type": "code",
      "metadata": {
        "id": "07sL7EsezfaJ"
      },
      "source": [
        "#We can see that some of the features are not normally distributed skewness is present \n",
        "#for skewed Data Logarthim Tranformation works fine or we can also use Boxcox Method.\n",
        "#If the skewness value is greater than 0.55 we consider that the feature is skewed.\n",
        "for col in df.columns:\n",
        "    if col!= 'Absenteeism time in hours':\n",
        "        if df.skew().loc[col]>0.55:\n",
        "            df[col] = np.log1p(df[col])"
      ],
      "execution_count": 245,
      "outputs": []
    },
    {
      "cell_type": "code",
      "metadata": {
        "colab": {
          "base_uri": "https://localhost:8080/"
        },
        "id": "yLH3xAXMzfc4",
        "outputId": "4298bfc0-e2a4-481c-c35d-e6fbb2f87a74"
      },
      "source": [
        "#Let Separate the input and output variable:\n",
        "#Let select input and output value:\n",
        "X = df_final.drop('Absenteeism time in hours',axis=1)\n",
        "y = df_final['Absenteeism time in hours']\n",
        "print('shape of X is {}'.format(X.shape))\n",
        "print('shape of y is {}'.format(y.shape))"
      ],
      "execution_count": 246,
      "outputs": [
        {
          "output_type": "stream",
          "text": [
            "shape of X is (534, 21)\n",
            "shape of y is (534,)\n"
          ],
          "name": "stdout"
        }
      ]
    },
    {
      "cell_type": "code",
      "metadata": {
        "id": "9JHeex32zffj"
      },
      "source": [
        "#Breaking the model into training and testing split:\n",
        "from sklearn.model_selection import train_test_split\n",
        "X_train, X_test, y_train, y_test = train_test_split(X,y,test_size=0.2,random_state=42)"
      ],
      "execution_count": 247,
      "outputs": []
    },
    {
      "cell_type": "code",
      "metadata": {
        "id": "kvD-rd2Zzfli"
      },
      "source": [
        "#Using StandardScaler to Preprocess the data:\n",
        "#StandardScaler is used to bring the datapoints to standard normal distribution where mean = 0 and SD(+-)1:\n",
        "from sklearn.preprocessing import StandardScaler\n",
        "scaler = StandardScaler()\n",
        "scaler.fit(X_train)\n",
        "X_train = scaler.transform(X_train)\n",
        "X_test = scaler.transform(X_test)"
      ],
      "execution_count": 248,
      "outputs": []
    },
    {
      "cell_type": "code",
      "metadata": {
        "id": "hymitXcBp6Cm"
      },
      "source": [
        "from sklearn.linear_model import LogisticRegression\n",
        "from sklearn.svm import SVC\n",
        "from sklearn.neighbors import KNeighborsClassifier\n",
        "from sklearn.tree import DecisionTreeClassifier\n",
        "from sklearn.ensemble import RandomForestClassifier\n",
        "from sklearn.model_selection import cross_val_score\n",
        "#import metrics\n",
        "from sklearn.metrics import classification_report,confusion_matrix\n",
        "from sklearn.metrics import classification_report\n",
        "from sklearn.metrics import accuracy_score"
      ],
      "execution_count": 249,
      "outputs": []
    },
    {
      "cell_type": "code",
      "metadata": {
        "colab": {
          "base_uri": "https://localhost:8080/"
        },
        "id": "mAd6kRgl2X8W",
        "outputId": "c2395952-9c66-4cff-ac52-6e1c921a569a"
      },
      "source": [
        "model = [LogisticRegression(),SVC(),KNeighborsClassifier(),DecisionTreeClassifier(),RandomForestClassifier()]\n",
        "for m in model:\n",
        "    m.fit(X_train,y_train)\n",
        "    print(\"Score of\",m, \"is:\",m.score(X_train,y_train))\n",
        "    y_predict= m.predict(X_test)\n",
        "    print(\"accuracy_score:\",accuracy_score(y_test,y_predict))\n",
        "    score = cross_val_score(m,X,y,cv=5,scoring='accuracy').mean()\n",
        "    print(\"Cross validation is\",np.mean(score)*100)\n",
        "    print(confusion_matrix(y_test,y_predict))\n",
        "    print(classification_report(y_test,y_predict))\n",
        "    print(confusion_matrix(y_test,y_predict))\n",
        "    print('******************************************************************')\n",
        "    print('\\n')"
      ],
      "execution_count": 250,
      "outputs": [
        {
          "output_type": "stream",
          "text": [
            "Score of LogisticRegression(C=1.0, class_weight=None, dual=False, fit_intercept=True,\n",
            "                   intercept_scaling=1, l1_ratio=None, max_iter=100,\n",
            "                   multi_class='auto', n_jobs=None, penalty='l2',\n",
            "                   random_state=None, solver='lbfgs', tol=0.0001, verbose=0,\n",
            "                   warm_start=False) is: 0.9976580796252927\n",
            "accuracy_score: 0.9906542056074766\n",
            "Cross validation is 75.83671310174572\n",
            "[[30  1]\n",
            " [ 0 76]]\n",
            "              precision    recall  f1-score   support\n",
            "\n",
            "           0       1.00      0.97      0.98        31\n",
            "           1       0.99      1.00      0.99        76\n",
            "\n",
            "    accuracy                           0.99       107\n",
            "   macro avg       0.99      0.98      0.99       107\n",
            "weighted avg       0.99      0.99      0.99       107\n",
            "\n",
            "[[30  1]\n",
            " [ 0 76]]\n",
            "******************************************************************\n",
            "\n",
            "\n",
            "Score of SVC(C=1.0, break_ties=False, cache_size=200, class_weight=None, coef0=0.0,\n",
            "    decision_function_shape='ovr', degree=3, gamma='scale', kernel='rbf',\n",
            "    max_iter=-1, probability=False, random_state=None, shrinking=True,\n",
            "    tol=0.001, verbose=False) is: 0.9976580796252927\n",
            "accuracy_score: 0.9906542056074766\n",
            "Cross validation is 72.09839534473637\n",
            "[[30  1]\n",
            " [ 0 76]]\n",
            "              precision    recall  f1-score   support\n",
            "\n",
            "           0       1.00      0.97      0.98        31\n",
            "           1       0.99      1.00      0.99        76\n",
            "\n",
            "    accuracy                           0.99       107\n",
            "   macro avg       0.99      0.98      0.99       107\n",
            "weighted avg       0.99      0.99      0.99       107\n",
            "\n",
            "[[30  1]\n",
            " [ 0 76]]\n",
            "******************************************************************\n",
            "\n",
            "\n",
            "Score of KNeighborsClassifier(algorithm='auto', leaf_size=30, metric='minkowski',\n",
            "                     metric_params=None, n_jobs=None, n_neighbors=5, p=2,\n",
            "                     weights='uniform') is: 0.9414519906323185\n",
            "accuracy_score: 0.9626168224299065\n",
            "Cross validation is 58.970199259389865\n",
            "[[27  4]\n",
            " [ 0 76]]\n",
            "              precision    recall  f1-score   support\n",
            "\n",
            "           0       1.00      0.87      0.93        31\n",
            "           1       0.95      1.00      0.97        76\n",
            "\n",
            "    accuracy                           0.96       107\n",
            "   macro avg       0.97      0.94      0.95       107\n",
            "weighted avg       0.96      0.96      0.96       107\n",
            "\n",
            "[[27  4]\n",
            " [ 0 76]]\n",
            "******************************************************************\n",
            "\n",
            "\n",
            "Score of DecisionTreeClassifier(ccp_alpha=0.0, class_weight=None, criterion='gini',\n",
            "                       max_depth=None, max_features=None, max_leaf_nodes=None,\n",
            "                       min_impurity_decrease=0.0, min_impurity_split=None,\n",
            "                       min_samples_leaf=1, min_samples_split=2,\n",
            "                       min_weight_fraction_leaf=0.0, presort='deprecated',\n",
            "                       random_state=None, splitter='best') is: 1.0\n",
            "accuracy_score: 1.0\n",
            "Cross validation is 99.62264150943396\n",
            "[[31  0]\n",
            " [ 0 76]]\n",
            "              precision    recall  f1-score   support\n",
            "\n",
            "           0       1.00      1.00      1.00        31\n",
            "           1       1.00      1.00      1.00        76\n",
            "\n",
            "    accuracy                           1.00       107\n",
            "   macro avg       1.00      1.00      1.00       107\n",
            "weighted avg       1.00      1.00      1.00       107\n",
            "\n",
            "[[31  0]\n",
            " [ 0 76]]\n",
            "******************************************************************\n",
            "\n",
            "\n",
            "Score of RandomForestClassifier(bootstrap=True, ccp_alpha=0.0, class_weight=None,\n",
            "                       criterion='gini', max_depth=None, max_features='auto',\n",
            "                       max_leaf_nodes=None, max_samples=None,\n",
            "                       min_impurity_decrease=0.0, min_impurity_split=None,\n",
            "                       min_samples_leaf=1, min_samples_split=2,\n",
            "                       min_weight_fraction_leaf=0.0, n_estimators=100,\n",
            "                       n_jobs=None, oob_score=False, random_state=None,\n",
            "                       verbose=0, warm_start=False) is: 1.0\n",
            "accuracy_score: 0.9906542056074766\n",
            "Cross validation is 99.62264150943396\n",
            "[[30  1]\n",
            " [ 0 76]]\n",
            "              precision    recall  f1-score   support\n",
            "\n",
            "           0       1.00      0.97      0.98        31\n",
            "           1       0.99      1.00      0.99        76\n",
            "\n",
            "    accuracy                           0.99       107\n",
            "   macro avg       0.99      0.98      0.99       107\n",
            "weighted avg       0.99      0.99      0.99       107\n",
            "\n",
            "[[30  1]\n",
            " [ 0 76]]\n",
            "******************************************************************\n",
            "\n",
            "\n"
          ],
          "name": "stdout"
        }
      ]
    },
    {
      "cell_type": "code",
      "metadata": {
        "id": "9nMzVL272X_Y"
      },
      "source": [
        "#It looks like the Logistic Regression has a perfect F1 score on the test set, but keep in mind this is just a single training/test split; we need to confirm this performance holds for other splits. In addition, we need to tune the regularization hyperparameter. \n",
        "#Fortunately, there's a way to tackle both at the same time without introducing additional bias"
      ],
      "execution_count": null,
      "outputs": []
    },
    {
      "cell_type": "code",
      "metadata": {
        "id": "G0F0Cnol2YC5"
      },
      "source": [
        "from sklearn.model_selection import cross_val_score\n",
        "from sklearn.model_selection import GridSearchCV\n",
        "from sklearn.model_selection import StratifiedShuffleSplit\n",
        "param_grid = [{'C': np.logspace(-3, 3, 10)}]\n",
        "grid_search = GridSearchCV(estimator=LogisticRegression(),param_grid=param_grid,cv=StratifiedShuffleSplit(n_splits=10, test_size=0.2, random_state=42),scoring='f1',n_jobs=-1)"
      ],
      "execution_count": 251,
      "outputs": []
    },
    {
      "cell_type": "code",
      "metadata": {
        "colab": {
          "base_uri": "https://localhost:8080/"
        },
        "id": "7va5s8lk2YIo",
        "outputId": "16661636-3fbe-4c33-e1da-a40e8c6fecef"
      },
      "source": [
        "grid_search.fit(X_train,y_train)\n",
        "grid_search.best_params_"
      ],
      "execution_count": 252,
      "outputs": [
        {
          "output_type": "execute_result",
          "data": {
            "text/plain": [
              "{'C': 0.021544346900318832}"
            ]
          },
          "metadata": {
            "tags": []
          },
          "execution_count": 252
        }
      ]
    },
    {
      "cell_type": "code",
      "metadata": {
        "id": "kD6p3-dQ2YOP"
      },
      "source": [
        "model = LogisticRegression(C=0.021544346900318832)\n",
        "model.fit(X_train,y_train)\n",
        "y_predict= model.predict(X_test)"
      ],
      "execution_count": 253,
      "outputs": []
    },
    {
      "cell_type": "code",
      "metadata": {
        "id": "hUgSYA582YRD"
      },
      "source": [
        "scores = cross_val_score(model,X,y,cv=StratifiedShuffleSplit(n_splits=10, test_size=0.2, random_state=0),scoring='f1',n_jobs=-1)"
      ],
      "execution_count": 254,
      "outputs": []
    },
    {
      "cell_type": "code",
      "metadata": {
        "colab": {
          "base_uri": "https://localhost:8080/"
        },
        "id": "5z_Hysdm2YTr",
        "outputId": "75171b00-6302-452e-8fe2-636e306f44e4"
      },
      "source": [
        "scores.mean()"
      ],
      "execution_count": 255,
      "outputs": [
        {
          "output_type": "execute_result",
          "data": {
            "text/plain": [
              "0.8559378238917844"
            ]
          },
          "metadata": {
            "tags": []
          },
          "execution_count": 255
        }
      ]
    },
    {
      "cell_type": "code",
      "metadata": {
        "id": "-XXAxDUsp6Ge"
      },
      "source": [
        "#Its our final model score performance:"
      ],
      "execution_count": 256,
      "outputs": []
    },
    {
      "cell_type": "code",
      "metadata": {
        "colab": {
          "base_uri": "https://localhost:8080/",
          "height": 312
        },
        "id": "DooWsqrR4fa_",
        "outputId": "713a5ffb-e65c-4a65-8ac3-17303f6d90a5"
      },
      "source": [
        "#AUC and ROC Curve:\n",
        "from sklearn.metrics import roc_curve\n",
        "from sklearn.metrics import roc_auc_score\n",
        "y_pred_prob = model.predict_proba(X_test)[:,1]\n",
        "tpr,fpr,thresholds = roc_curve(y_test,y_pred_prob)\n",
        "plt.plot([0,1],[0,1],'k--')\n",
        "plt.plot(tpr,fpr,label ='LogisticRegression')\n",
        "plt.xlabel('False positive Rate')\n",
        "plt.ylabel('True Positive Rate')\n",
        "plt.title('LogisticRegression')\n",
        "plt.show()\n",
        "\n",
        "auc_score = roc_auc_score(y_test,y_predict)\n",
        "print(auc_score)"
      ],
      "execution_count": 258,
      "outputs": [
        {
          "output_type": "display_data",
          "data": {
            "image/png": "[encoded data removed]",
            "text/plain": [
              "<Figure size 432x288 with 1 Axes>"
            ]
          },
          "metadata": {
            "tags": []
          }
        },
        {
          "output_type": "stream",
          "text": [
            "0.9838709677419355\n"
          ],
          "name": "stdout"
        }
      ]
    },
    {
      "cell_type": "code",
      "metadata": {
        "colab": {
          "base_uri": "https://localhost:8080/"
        },
        "id": "skflakDI4fhV",
        "outputId": "fb27169d-27b8-4e60-880d-4a36d4faf0fb"
      },
      "source": [
        "#Saving the best Model:\n",
        "import joblib\n",
        "joblib.dump(model,'model.obj')\n",
        "model_from_joblib = joblib.load('model.obj')\n",
        "model_from_joblib.predict(X_test)"
      ],
      "execution_count": 259,
      "outputs": [
        {
          "output_type": "execute_result",
          "data": {
            "text/plain": [
              "array([0, 1, 1, 0, 1, 0, 1, 1, 0, 1, 1, 1, 1, 1, 1, 0, 0, 1, 1, 1, 0, 0,\n",
              "       0, 1, 1, 1, 0, 0, 1, 0, 1, 1, 1, 1, 1, 1, 1, 1, 1, 0, 1, 0, 1, 1,\n",
              "       1, 1, 0, 1, 1, 1, 0, 0, 0, 1, 1, 1, 1, 1, 1, 1, 1, 1, 1, 1, 1, 1,\n",
              "       1, 1, 1, 1, 0, 0, 1, 1, 1, 0, 1, 1, 1, 1, 1, 1, 1, 1, 1, 1, 0, 0,\n",
              "       1, 0, 1, 0, 0, 1, 0, 1, 0, 1, 1, 1, 1, 1, 1, 1, 0, 1, 0],\n",
              "      dtype=uint8)"
            ]
          },
          "metadata": {
            "tags": []
          },
          "execution_count": 259
        }
      ]
    }
  ]
}