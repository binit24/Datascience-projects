{
  "nbformat": 4,
  "nbformat_minor": 0,
  "metadata": {
    "colab": {
      "name": "Brazil Covid Dataset Predictions EDA Analysis:",
      "provenance": [],
      "authorship_tag": "ABX9TyNCc2/lvFZgIowqo3RZ7D/h",
      "include_colab_link": true
    },
    "kernelspec": {
      "name": "python3",
      "display_name": "Python 3"
    }
  },
  "cells": [
    {
      "cell_type": "markdown",
      "metadata": {
        "id": "view-in-github",
        "colab_type": "text"
      },
      "source": [
        "<a href=\"https://colab.research.google.com/github/binit24/Datascience-projects/blob/main/Brazil_Covid_Dataset_Predictions_EDA_Analysis_.ipynb\" target=\"_parent\"><img src=\"https://colab.research.google.com/assets/colab-badge.svg\" alt=\"Open In Colab\"/></a>"
      ]
    },
    {
      "cell_type": "code",
      "metadata": {
        "id": "TVi-4jgKfjVt"
      },
      "source": [
        "#Importing Libraries.\r\n",
        "import pandas as pd\r\n",
        "import numpy as np\r\n",
        "import matplotlib.pyplot as plt\r\n",
        "import seaborn as sns\r\n",
        "import os\r\n",
        "#import warnings:\r\n",
        "import warnings\r\n",
        "warnings.filterwarnings('ignore')"
      ],
      "execution_count": 4,
      "outputs": []
    },
    {
      "cell_type": "code",
      "metadata": {
        "colab": {
          "base_uri": "https://localhost:8080/"
        },
        "id": "U7ZLH9X4frwq",
        "outputId": "f8828d82-e57f-4ab7-fc52-d518526cbb29"
      },
      "source": [
        "from google.colab import drive\r\n",
        "drive.mount('/content/drive')"
      ],
      "execution_count": 1,
      "outputs": [
        {
          "output_type": "stream",
          "text": [
            "Mounted at /content/drive\n"
          ],
          "name": "stdout"
        }
      ]
    },
    {
      "cell_type": "code",
      "metadata": {
        "id": "qycMGLlZfrzh"
      },
      "source": [
        "f = open(\"covid19_clinical_dataset.xlsx\")"
      ],
      "execution_count": 2,
      "outputs": []
    },
    {
      "cell_type": "code",
      "metadata": {
        "colab": {
          "base_uri": "https://localhost:8080/",
          "height": 362
        },
        "id": "F2qT2Tz5fr15",
        "outputId": "f1ab4fb4-e5bf-4175-e73d-20c60127aa19"
      },
      "source": [
        "#Reading the Dataset:\r\n",
        "df = pd.read_excel('covid19_clinical_dataset.xlsx')\r\n",
        "print(df.shape) #checking no of rows and columns in the dataset.\r\n",
        "df.head()"
      ],
      "execution_count": 5,
      "outputs": [
        {
          "output_type": "stream",
          "text": [
            "(5644, 111)\n"
          ],
          "name": "stdout"
        },
        {
          "output_type": "execute_result",
          "data": {
            "text/html": [
              "<div>\n",
              "<style scoped>\n",
              "    .dataframe tbody tr th:only-of-type {\n",
              "        vertical-align: middle;\n",
              "    }\n",
              "\n",
              "    .dataframe tbody tr th {\n",
              "        vertical-align: top;\n",
              "    }\n",
              "\n",
              "    .dataframe thead th {\n",
              "        text-align: right;\n",
              "    }\n",
              "</style>\n",
              "<table border=\"1\" class=\"dataframe\">\n",
              "  <thead>\n",
              "    <tr style=\"text-align: right;\">\n",
              "      <th></th>\n",
              "      <th>Patient ID</th>\n",
              "      <th>Patient age quantile</th>\n",
              "      <th>SARS-Cov-2 exam result</th>\n",
              "      <th>Patient addmited to regular ward (1=yes, 0=no)</th>\n",
              "      <th>Patient addmited to semi-intensive unit (1=yes, 0=no)</th>\n",
              "      <th>Patient addmited to intensive care unit (1=yes, 0=no)</th>\n",
              "      <th>Hematocrit</th>\n",
              "      <th>Hemoglobin</th>\n",
              "      <th>Platelets</th>\n",
              "      <th>Mean platelet volume</th>\n",
              "      <th>Red blood Cells</th>\n",
              "      <th>Lymphocytes</th>\n",
              "      <th>Mean corpuscular hemoglobin concentration (MCHC)</th>\n",
              "      <th>Leukocytes</th>\n",
              "      <th>Basophils</th>\n",
              "      <th>Mean corpuscular hemoglobin (MCH)</th>\n",
              "      <th>Eosinophils</th>\n",
              "      <th>Mean corpuscular volume (MCV)</th>\n",
              "      <th>Monocytes</th>\n",
              "      <th>Red blood cell distribution width (RDW)</th>\n",
              "      <th>Serum Glucose</th>\n",
              "      <th>Respiratory Syncytial Virus</th>\n",
              "      <th>Influenza A</th>\n",
              "      <th>Influenza B</th>\n",
              "      <th>Parainfluenza 1</th>\n",
              "      <th>CoronavirusNL63</th>\n",
              "      <th>Rhinovirus/Enterovirus</th>\n",
              "      <th>Mycoplasma pneumoniae</th>\n",
              "      <th>Coronavirus HKU1</th>\n",
              "      <th>Parainfluenza 3</th>\n",
              "      <th>Chlamydophila pneumoniae</th>\n",
              "      <th>Adenovirus</th>\n",
              "      <th>Parainfluenza 4</th>\n",
              "      <th>Coronavirus229E</th>\n",
              "      <th>CoronavirusOC43</th>\n",
              "      <th>Inf A H1N1 2009</th>\n",
              "      <th>Bordetella pertussis</th>\n",
              "      <th>Metapneumovirus</th>\n",
              "      <th>Parainfluenza 2</th>\n",
              "      <th>Neutrophils</th>\n",
              "      <th>...</th>\n",
              "      <th>Urine - Esterase</th>\n",
              "      <th>Urine - Aspect</th>\n",
              "      <th>Urine - pH</th>\n",
              "      <th>Urine - Hemoglobin</th>\n",
              "      <th>Urine - Bile pigments</th>\n",
              "      <th>Urine - Ketone Bodies</th>\n",
              "      <th>Urine - Nitrite</th>\n",
              "      <th>Urine - Density</th>\n",
              "      <th>Urine - Urobilinogen</th>\n",
              "      <th>Urine - Protein</th>\n",
              "      <th>Urine - Sugar</th>\n",
              "      <th>Urine - Leukocytes</th>\n",
              "      <th>Urine - Crystals</th>\n",
              "      <th>Urine - Red blood cells</th>\n",
              "      <th>Urine - Hyaline cylinders</th>\n",
              "      <th>Urine - Granular cylinders</th>\n",
              "      <th>Urine - Yeasts</th>\n",
              "      <th>Urine - Color</th>\n",
              "      <th>Partial thromboplastin time (PTT)</th>\n",
              "      <th>Relationship (Patient/Normal)</th>\n",
              "      <th>International normalized ratio (INR)</th>\n",
              "      <th>Lactic Dehydrogenase</th>\n",
              "      <th>Prothrombin time (PT), Activity</th>\n",
              "      <th>Vitamin B12</th>\n",
              "      <th>Creatine phosphokinase (CPK)</th>\n",
              "      <th>Ferritin</th>\n",
              "      <th>Arterial Lactic Acid</th>\n",
              "      <th>Lipase dosage</th>\n",
              "      <th>D-Dimer</th>\n",
              "      <th>Albumin</th>\n",
              "      <th>Hb saturation (arterial blood gases)</th>\n",
              "      <th>pCO2 (arterial blood gas analysis)</th>\n",
              "      <th>Base excess (arterial blood gas analysis)</th>\n",
              "      <th>pH (arterial blood gas analysis)</th>\n",
              "      <th>Total CO2 (arterial blood gas analysis)</th>\n",
              "      <th>HCO3 (arterial blood gas analysis)</th>\n",
              "      <th>pO2 (arterial blood gas analysis)</th>\n",
              "      <th>Arteiral Fio2</th>\n",
              "      <th>Phosphor</th>\n",
              "      <th>ctO2 (arterial blood gas analysis)</th>\n",
              "    </tr>\n",
              "  </thead>\n",
              "  <tbody>\n",
              "    <tr>\n",
              "      <th>0</th>\n",
              "      <td>44477f75e8169d2</td>\n",
              "      <td>13</td>\n",
              "      <td>negative</td>\n",
              "      <td>0</td>\n",
              "      <td>0</td>\n",
              "      <td>0</td>\n",
              "      <td>NaN</td>\n",
              "      <td>NaN</td>\n",
              "      <td>NaN</td>\n",
              "      <td>NaN</td>\n",
              "      <td>NaN</td>\n",
              "      <td>NaN</td>\n",
              "      <td>NaN</td>\n",
              "      <td>NaN</td>\n",
              "      <td>NaN</td>\n",
              "      <td>NaN</td>\n",
              "      <td>NaN</td>\n",
              "      <td>NaN</td>\n",
              "      <td>NaN</td>\n",
              "      <td>NaN</td>\n",
              "      <td>NaN</td>\n",
              "      <td>NaN</td>\n",
              "      <td>NaN</td>\n",
              "      <td>NaN</td>\n",
              "      <td>NaN</td>\n",
              "      <td>NaN</td>\n",
              "      <td>NaN</td>\n",
              "      <td>NaN</td>\n",
              "      <td>NaN</td>\n",
              "      <td>NaN</td>\n",
              "      <td>NaN</td>\n",
              "      <td>NaN</td>\n",
              "      <td>NaN</td>\n",
              "      <td>NaN</td>\n",
              "      <td>NaN</td>\n",
              "      <td>NaN</td>\n",
              "      <td>NaN</td>\n",
              "      <td>NaN</td>\n",
              "      <td>NaN</td>\n",
              "      <td>NaN</td>\n",
              "      <td>...</td>\n",
              "      <td>NaN</td>\n",
              "      <td>NaN</td>\n",
              "      <td>NaN</td>\n",
              "      <td>NaN</td>\n",
              "      <td>NaN</td>\n",
              "      <td>NaN</td>\n",
              "      <td>NaN</td>\n",
              "      <td>NaN</td>\n",
              "      <td>NaN</td>\n",
              "      <td>NaN</td>\n",
              "      <td>NaN</td>\n",
              "      <td>NaN</td>\n",
              "      <td>NaN</td>\n",
              "      <td>NaN</td>\n",
              "      <td>NaN</td>\n",
              "      <td>NaN</td>\n",
              "      <td>NaN</td>\n",
              "      <td>NaN</td>\n",
              "      <td>NaN</td>\n",
              "      <td>NaN</td>\n",
              "      <td>NaN</td>\n",
              "      <td>NaN</td>\n",
              "      <td>NaN</td>\n",
              "      <td>NaN</td>\n",
              "      <td>NaN</td>\n",
              "      <td>NaN</td>\n",
              "      <td>NaN</td>\n",
              "      <td>NaN</td>\n",
              "      <td>NaN</td>\n",
              "      <td>NaN</td>\n",
              "      <td>NaN</td>\n",
              "      <td>NaN</td>\n",
              "      <td>NaN</td>\n",
              "      <td>NaN</td>\n",
              "      <td>NaN</td>\n",
              "      <td>NaN</td>\n",
              "      <td>NaN</td>\n",
              "      <td>NaN</td>\n",
              "      <td>NaN</td>\n",
              "      <td>NaN</td>\n",
              "    </tr>\n",
              "    <tr>\n",
              "      <th>1</th>\n",
              "      <td>126e9dd13932f68</td>\n",
              "      <td>17</td>\n",
              "      <td>negative</td>\n",
              "      <td>0</td>\n",
              "      <td>0</td>\n",
              "      <td>0</td>\n",
              "      <td>0.236515</td>\n",
              "      <td>-0.02234</td>\n",
              "      <td>-0.517413</td>\n",
              "      <td>0.010677</td>\n",
              "      <td>0.102004</td>\n",
              "      <td>0.318366</td>\n",
              "      <td>-0.95079</td>\n",
              "      <td>-0.09461</td>\n",
              "      <td>-0.223767</td>\n",
              "      <td>-0.292269</td>\n",
              "      <td>1.482158</td>\n",
              "      <td>0.166192</td>\n",
              "      <td>0.357547</td>\n",
              "      <td>-0.625073</td>\n",
              "      <td>-0.140648</td>\n",
              "      <td>not_detected</td>\n",
              "      <td>not_detected</td>\n",
              "      <td>not_detected</td>\n",
              "      <td>not_detected</td>\n",
              "      <td>not_detected</td>\n",
              "      <td>detected</td>\n",
              "      <td>NaN</td>\n",
              "      <td>not_detected</td>\n",
              "      <td>not_detected</td>\n",
              "      <td>not_detected</td>\n",
              "      <td>not_detected</td>\n",
              "      <td>not_detected</td>\n",
              "      <td>not_detected</td>\n",
              "      <td>not_detected</td>\n",
              "      <td>not_detected</td>\n",
              "      <td>not_detected</td>\n",
              "      <td>not_detected</td>\n",
              "      <td>not_detected</td>\n",
              "      <td>-0.619086</td>\n",
              "      <td>...</td>\n",
              "      <td>NaN</td>\n",
              "      <td>NaN</td>\n",
              "      <td>NaN</td>\n",
              "      <td>NaN</td>\n",
              "      <td>NaN</td>\n",
              "      <td>NaN</td>\n",
              "      <td>NaN</td>\n",
              "      <td>NaN</td>\n",
              "      <td>NaN</td>\n",
              "      <td>NaN</td>\n",
              "      <td>NaN</td>\n",
              "      <td>NaN</td>\n",
              "      <td>NaN</td>\n",
              "      <td>NaN</td>\n",
              "      <td>NaN</td>\n",
              "      <td>NaN</td>\n",
              "      <td>NaN</td>\n",
              "      <td>NaN</td>\n",
              "      <td>NaN</td>\n",
              "      <td>NaN</td>\n",
              "      <td>NaN</td>\n",
              "      <td>NaN</td>\n",
              "      <td>NaN</td>\n",
              "      <td>NaN</td>\n",
              "      <td>NaN</td>\n",
              "      <td>NaN</td>\n",
              "      <td>NaN</td>\n",
              "      <td>NaN</td>\n",
              "      <td>NaN</td>\n",
              "      <td>NaN</td>\n",
              "      <td>NaN</td>\n",
              "      <td>NaN</td>\n",
              "      <td>NaN</td>\n",
              "      <td>NaN</td>\n",
              "      <td>NaN</td>\n",
              "      <td>NaN</td>\n",
              "      <td>NaN</td>\n",
              "      <td>NaN</td>\n",
              "      <td>NaN</td>\n",
              "      <td>NaN</td>\n",
              "    </tr>\n",
              "    <tr>\n",
              "      <th>2</th>\n",
              "      <td>a46b4402a0e5696</td>\n",
              "      <td>8</td>\n",
              "      <td>negative</td>\n",
              "      <td>0</td>\n",
              "      <td>0</td>\n",
              "      <td>0</td>\n",
              "      <td>NaN</td>\n",
              "      <td>NaN</td>\n",
              "      <td>NaN</td>\n",
              "      <td>NaN</td>\n",
              "      <td>NaN</td>\n",
              "      <td>NaN</td>\n",
              "      <td>NaN</td>\n",
              "      <td>NaN</td>\n",
              "      <td>NaN</td>\n",
              "      <td>NaN</td>\n",
              "      <td>NaN</td>\n",
              "      <td>NaN</td>\n",
              "      <td>NaN</td>\n",
              "      <td>NaN</td>\n",
              "      <td>NaN</td>\n",
              "      <td>NaN</td>\n",
              "      <td>NaN</td>\n",
              "      <td>NaN</td>\n",
              "      <td>NaN</td>\n",
              "      <td>NaN</td>\n",
              "      <td>NaN</td>\n",
              "      <td>NaN</td>\n",
              "      <td>NaN</td>\n",
              "      <td>NaN</td>\n",
              "      <td>NaN</td>\n",
              "      <td>NaN</td>\n",
              "      <td>NaN</td>\n",
              "      <td>NaN</td>\n",
              "      <td>NaN</td>\n",
              "      <td>NaN</td>\n",
              "      <td>NaN</td>\n",
              "      <td>NaN</td>\n",
              "      <td>NaN</td>\n",
              "      <td>NaN</td>\n",
              "      <td>...</td>\n",
              "      <td>NaN</td>\n",
              "      <td>NaN</td>\n",
              "      <td>NaN</td>\n",
              "      <td>NaN</td>\n",
              "      <td>NaN</td>\n",
              "      <td>NaN</td>\n",
              "      <td>NaN</td>\n",
              "      <td>NaN</td>\n",
              "      <td>NaN</td>\n",
              "      <td>NaN</td>\n",
              "      <td>NaN</td>\n",
              "      <td>NaN</td>\n",
              "      <td>NaN</td>\n",
              "      <td>NaN</td>\n",
              "      <td>NaN</td>\n",
              "      <td>NaN</td>\n",
              "      <td>NaN</td>\n",
              "      <td>NaN</td>\n",
              "      <td>NaN</td>\n",
              "      <td>NaN</td>\n",
              "      <td>NaN</td>\n",
              "      <td>NaN</td>\n",
              "      <td>NaN</td>\n",
              "      <td>NaN</td>\n",
              "      <td>NaN</td>\n",
              "      <td>NaN</td>\n",
              "      <td>NaN</td>\n",
              "      <td>NaN</td>\n",
              "      <td>NaN</td>\n",
              "      <td>NaN</td>\n",
              "      <td>NaN</td>\n",
              "      <td>NaN</td>\n",
              "      <td>NaN</td>\n",
              "      <td>NaN</td>\n",
              "      <td>NaN</td>\n",
              "      <td>NaN</td>\n",
              "      <td>NaN</td>\n",
              "      <td>NaN</td>\n",
              "      <td>NaN</td>\n",
              "      <td>NaN</td>\n",
              "    </tr>\n",
              "    <tr>\n",
              "      <th>3</th>\n",
              "      <td>f7d619a94f97c45</td>\n",
              "      <td>5</td>\n",
              "      <td>negative</td>\n",
              "      <td>0</td>\n",
              "      <td>0</td>\n",
              "      <td>0</td>\n",
              "      <td>NaN</td>\n",
              "      <td>NaN</td>\n",
              "      <td>NaN</td>\n",
              "      <td>NaN</td>\n",
              "      <td>NaN</td>\n",
              "      <td>NaN</td>\n",
              "      <td>NaN</td>\n",
              "      <td>NaN</td>\n",
              "      <td>NaN</td>\n",
              "      <td>NaN</td>\n",
              "      <td>NaN</td>\n",
              "      <td>NaN</td>\n",
              "      <td>NaN</td>\n",
              "      <td>NaN</td>\n",
              "      <td>NaN</td>\n",
              "      <td>NaN</td>\n",
              "      <td>NaN</td>\n",
              "      <td>NaN</td>\n",
              "      <td>NaN</td>\n",
              "      <td>NaN</td>\n",
              "      <td>NaN</td>\n",
              "      <td>NaN</td>\n",
              "      <td>NaN</td>\n",
              "      <td>NaN</td>\n",
              "      <td>NaN</td>\n",
              "      <td>NaN</td>\n",
              "      <td>NaN</td>\n",
              "      <td>NaN</td>\n",
              "      <td>NaN</td>\n",
              "      <td>NaN</td>\n",
              "      <td>NaN</td>\n",
              "      <td>NaN</td>\n",
              "      <td>NaN</td>\n",
              "      <td>NaN</td>\n",
              "      <td>...</td>\n",
              "      <td>NaN</td>\n",
              "      <td>NaN</td>\n",
              "      <td>NaN</td>\n",
              "      <td>NaN</td>\n",
              "      <td>NaN</td>\n",
              "      <td>NaN</td>\n",
              "      <td>NaN</td>\n",
              "      <td>NaN</td>\n",
              "      <td>NaN</td>\n",
              "      <td>NaN</td>\n",
              "      <td>NaN</td>\n",
              "      <td>NaN</td>\n",
              "      <td>NaN</td>\n",
              "      <td>NaN</td>\n",
              "      <td>NaN</td>\n",
              "      <td>NaN</td>\n",
              "      <td>NaN</td>\n",
              "      <td>NaN</td>\n",
              "      <td>NaN</td>\n",
              "      <td>NaN</td>\n",
              "      <td>NaN</td>\n",
              "      <td>NaN</td>\n",
              "      <td>NaN</td>\n",
              "      <td>NaN</td>\n",
              "      <td>NaN</td>\n",
              "      <td>NaN</td>\n",
              "      <td>NaN</td>\n",
              "      <td>NaN</td>\n",
              "      <td>NaN</td>\n",
              "      <td>NaN</td>\n",
              "      <td>NaN</td>\n",
              "      <td>NaN</td>\n",
              "      <td>NaN</td>\n",
              "      <td>NaN</td>\n",
              "      <td>NaN</td>\n",
              "      <td>NaN</td>\n",
              "      <td>NaN</td>\n",
              "      <td>NaN</td>\n",
              "      <td>NaN</td>\n",
              "      <td>NaN</td>\n",
              "    </tr>\n",
              "    <tr>\n",
              "      <th>4</th>\n",
              "      <td>d9e41465789c2b5</td>\n",
              "      <td>15</td>\n",
              "      <td>negative</td>\n",
              "      <td>0</td>\n",
              "      <td>0</td>\n",
              "      <td>0</td>\n",
              "      <td>NaN</td>\n",
              "      <td>NaN</td>\n",
              "      <td>NaN</td>\n",
              "      <td>NaN</td>\n",
              "      <td>NaN</td>\n",
              "      <td>NaN</td>\n",
              "      <td>NaN</td>\n",
              "      <td>NaN</td>\n",
              "      <td>NaN</td>\n",
              "      <td>NaN</td>\n",
              "      <td>NaN</td>\n",
              "      <td>NaN</td>\n",
              "      <td>NaN</td>\n",
              "      <td>NaN</td>\n",
              "      <td>NaN</td>\n",
              "      <td>not_detected</td>\n",
              "      <td>not_detected</td>\n",
              "      <td>not_detected</td>\n",
              "      <td>not_detected</td>\n",
              "      <td>not_detected</td>\n",
              "      <td>detected</td>\n",
              "      <td>NaN</td>\n",
              "      <td>not_detected</td>\n",
              "      <td>not_detected</td>\n",
              "      <td>not_detected</td>\n",
              "      <td>not_detected</td>\n",
              "      <td>not_detected</td>\n",
              "      <td>not_detected</td>\n",
              "      <td>not_detected</td>\n",
              "      <td>not_detected</td>\n",
              "      <td>not_detected</td>\n",
              "      <td>not_detected</td>\n",
              "      <td>not_detected</td>\n",
              "      <td>NaN</td>\n",
              "      <td>...</td>\n",
              "      <td>NaN</td>\n",
              "      <td>NaN</td>\n",
              "      <td>NaN</td>\n",
              "      <td>NaN</td>\n",
              "      <td>NaN</td>\n",
              "      <td>NaN</td>\n",
              "      <td>NaN</td>\n",
              "      <td>NaN</td>\n",
              "      <td>NaN</td>\n",
              "      <td>NaN</td>\n",
              "      <td>NaN</td>\n",
              "      <td>NaN</td>\n",
              "      <td>NaN</td>\n",
              "      <td>NaN</td>\n",
              "      <td>NaN</td>\n",
              "      <td>NaN</td>\n",
              "      <td>NaN</td>\n",
              "      <td>NaN</td>\n",
              "      <td>NaN</td>\n",
              "      <td>NaN</td>\n",
              "      <td>NaN</td>\n",
              "      <td>NaN</td>\n",
              "      <td>NaN</td>\n",
              "      <td>NaN</td>\n",
              "      <td>NaN</td>\n",
              "      <td>NaN</td>\n",
              "      <td>NaN</td>\n",
              "      <td>NaN</td>\n",
              "      <td>NaN</td>\n",
              "      <td>NaN</td>\n",
              "      <td>NaN</td>\n",
              "      <td>NaN</td>\n",
              "      <td>NaN</td>\n",
              "      <td>NaN</td>\n",
              "      <td>NaN</td>\n",
              "      <td>NaN</td>\n",
              "      <td>NaN</td>\n",
              "      <td>NaN</td>\n",
              "      <td>NaN</td>\n",
              "      <td>NaN</td>\n",
              "    </tr>\n",
              "  </tbody>\n",
              "</table>\n",
              "<p>5 rows × 111 columns</p>\n",
              "</div>"
            ],
            "text/plain": [
              "        Patient ID  ...  ctO2 (arterial blood gas analysis)\n",
              "0  44477f75e8169d2  ...                                 NaN\n",
              "1  126e9dd13932f68  ...                                 NaN\n",
              "2  a46b4402a0e5696  ...                                 NaN\n",
              "3  f7d619a94f97c45  ...                                 NaN\n",
              "4  d9e41465789c2b5  ...                                 NaN\n",
              "\n",
              "[5 rows x 111 columns]"
            ]
          },
          "metadata": {
            "tags": []
          },
          "execution_count": 5
        }
      ]
    },
    {
      "cell_type": "code",
      "metadata": {
        "id": "1MrLhhXPfr4O"
      },
      "source": [
        "#using Pd.options display max columns to check entire rows and columns in dataset.\r\n",
        "pd.options.display.max_columns = None\r\n",
        "pd.options.display.max_rows = None"
      ],
      "execution_count": 6,
      "outputs": []
    },
    {
      "cell_type": "code",
      "metadata": {
        "colab": {
          "base_uri": "https://localhost:8080/"
        },
        "id": "QbKpGOHngX7l",
        "outputId": "7e5df1a7-7852-4ae2-add5-d0d270f7f1ca"
      },
      "source": [
        "#Checking the info:\r\n",
        "df.info()"
      ],
      "execution_count": 7,
      "outputs": [
        {
          "output_type": "stream",
          "text": [
            "<class 'pandas.core.frame.DataFrame'>\n",
            "RangeIndex: 5644 entries, 0 to 5643\n",
            "Columns: 111 entries, Patient ID to ctO2 (arterial blood gas analysis)\n",
            "dtypes: float64(70), int64(4), object(37)\n",
            "memory usage: 4.8+ MB\n"
          ],
          "name": "stdout"
        }
      ]
    },
    {
      "cell_type": "code",
      "metadata": {
        "colab": {
          "base_uri": "https://localhost:8080/"
        },
        "id": "8do1-ae7gX-c",
        "outputId": "1d2687be-c6c1-445c-a619-b385869eba40"
      },
      "source": [
        "#Checking datatypes:\r\n",
        "df.dtypes"
      ],
      "execution_count": 8,
      "outputs": [
        {
          "output_type": "execute_result",
          "data": {
            "text/plain": [
              "Patient ID                                                object\n",
              "Patient age quantile                                       int64\n",
              "SARS-Cov-2 exam result                                    object\n",
              "Patient addmited to regular ward (1=yes, 0=no)             int64\n",
              "Patient addmited to semi-intensive unit (1=yes, 0=no)      int64\n",
              "Patient addmited to intensive care unit (1=yes, 0=no)      int64\n",
              "Hematocrit                                               float64\n",
              "Hemoglobin                                               float64\n",
              "Platelets                                                float64\n",
              "Mean platelet volume                                     float64\n",
              "Red blood Cells                                          float64\n",
              "Lymphocytes                                              float64\n",
              "Mean corpuscular hemoglobin concentration (MCHC)         float64\n",
              "Leukocytes                                               float64\n",
              "Basophils                                                float64\n",
              "Mean corpuscular hemoglobin (MCH)                        float64\n",
              "Eosinophils                                              float64\n",
              "Mean corpuscular volume (MCV)                            float64\n",
              "Monocytes                                                float64\n",
              "Red blood cell distribution width (RDW)                  float64\n",
              "Serum Glucose                                            float64\n",
              "Respiratory Syncytial Virus                               object\n",
              "Influenza A                                               object\n",
              "Influenza B                                               object\n",
              "Parainfluenza 1                                           object\n",
              "CoronavirusNL63                                           object\n",
              "Rhinovirus/Enterovirus                                    object\n",
              "Mycoplasma pneumoniae                                    float64\n",
              "Coronavirus HKU1                                          object\n",
              "Parainfluenza 3                                           object\n",
              "Chlamydophila pneumoniae                                  object\n",
              "Adenovirus                                                object\n",
              "Parainfluenza 4                                           object\n",
              "Coronavirus229E                                           object\n",
              "CoronavirusOC43                                           object\n",
              "Inf A H1N1 2009                                           object\n",
              "Bordetella pertussis                                      object\n",
              "Metapneumovirus                                           object\n",
              "Parainfluenza 2                                           object\n",
              "Neutrophils                                              float64\n",
              "Urea                                                     float64\n",
              "Proteina C reativa mg/dL                                 float64\n",
              "Creatinine                                               float64\n",
              "Potassium                                                float64\n",
              "Sodium                                                   float64\n",
              "Influenza B, rapid test                                   object\n",
              "Influenza A, rapid test                                   object\n",
              "Alanine transaminase                                     float64\n",
              "Aspartate transaminase                                   float64\n",
              "Gamma-glutamyltransferase                                float64\n",
              "Total Bilirubin                                          float64\n",
              "Direct Bilirubin                                         float64\n",
              "Indirect Bilirubin                                       float64\n",
              "Alkaline phosphatase                                     float64\n",
              "Ionized calcium                                          float64\n",
              "Strepto A                                                 object\n",
              "Magnesium                                                float64\n",
              "pCO2 (venous blood gas analysis)                         float64\n",
              "Hb saturation (venous blood gas analysis)                float64\n",
              "Base excess (venous blood gas analysis)                  float64\n",
              "pO2 (venous blood gas analysis)                          float64\n",
              "Fio2 (venous blood gas analysis)                         float64\n",
              "Total CO2 (venous blood gas analysis)                    float64\n",
              "pH (venous blood gas analysis)                           float64\n",
              "HCO3 (venous blood gas analysis)                         float64\n",
              "Rods #                                                   float64\n",
              "Segmented                                                float64\n",
              "Promyelocytes                                            float64\n",
              "Metamyelocytes                                           float64\n",
              "Myelocytes                                               float64\n",
              "Myeloblasts                                              float64\n",
              "Urine - Esterase                                          object\n",
              "Urine - Aspect                                            object\n",
              "Urine - pH                                                object\n",
              "Urine - Hemoglobin                                        object\n",
              "Urine - Bile pigments                                     object\n",
              "Urine - Ketone Bodies                                     object\n",
              "Urine - Nitrite                                           object\n",
              "Urine - Density                                          float64\n",
              "Urine - Urobilinogen                                      object\n",
              "Urine - Protein                                           object\n",
              "Urine - Sugar                                            float64\n",
              "Urine - Leukocytes                                        object\n",
              "Urine - Crystals                                          object\n",
              "Urine - Red blood cells                                  float64\n",
              "Urine - Hyaline cylinders                                 object\n",
              "Urine - Granular cylinders                                object\n",
              "Urine - Yeasts                                            object\n",
              "Urine - Color                                             object\n",
              "Partial thromboplastin time (PTT)                        float64\n",
              "Relationship (Patient/Normal)                            float64\n",
              "International normalized ratio (INR)                     float64\n",
              "Lactic Dehydrogenase                                     float64\n",
              "Prothrombin time (PT), Activity                          float64\n",
              "Vitamin B12                                              float64\n",
              "Creatine phosphokinase (CPK)                             float64\n",
              "Ferritin                                                 float64\n",
              "Arterial Lactic Acid                                     float64\n",
              "Lipase dosage                                            float64\n",
              "D-Dimer                                                  float64\n",
              "Albumin                                                  float64\n",
              "Hb saturation (arterial blood gases)                     float64\n",
              "pCO2 (arterial blood gas analysis)                       float64\n",
              "Base excess (arterial blood gas analysis)                float64\n",
              "pH (arterial blood gas analysis)                         float64\n",
              "Total CO2 (arterial blood gas analysis)                  float64\n",
              "HCO3 (arterial blood gas analysis)                       float64\n",
              "pO2 (arterial blood gas analysis)                        float64\n",
              "Arteiral Fio2                                            float64\n",
              "Phosphor                                                 float64\n",
              "ctO2 (arterial blood gas analysis)                       float64\n",
              "dtype: object"
            ]
          },
          "metadata": {
            "tags": []
          },
          "execution_count": 8
        }
      ]
    },
    {
      "cell_type": "code",
      "metadata": {
        "colab": {
          "base_uri": "https://localhost:8080/"
        },
        "id": "D0_YhcDKgYBy",
        "outputId": "4f87832a-5ee2-40be-83da-c2287886857c"
      },
      "source": [
        "#Checking for categorical columns:\r\n",
        "cat_col = []\r\n",
        "for x in df.dtypes.index:\r\n",
        "    if df.dtypes[x] == 'object':\r\n",
        "        cat_col.append(x)\r\n",
        "print(\"Categorical Columns:\",cat_col)"
      ],
      "execution_count": 9,
      "outputs": [
        {
          "output_type": "stream",
          "text": [
            "Categorical Columns: ['Patient ID', 'SARS-Cov-2 exam result', 'Respiratory Syncytial Virus', 'Influenza A', 'Influenza B', 'Parainfluenza 1', 'CoronavirusNL63', 'Rhinovirus/Enterovirus', 'Coronavirus HKU1', 'Parainfluenza 3', 'Chlamydophila pneumoniae', 'Adenovirus', 'Parainfluenza 4', 'Coronavirus229E', 'CoronavirusOC43', 'Inf A H1N1 2009', 'Bordetella pertussis', 'Metapneumovirus', 'Parainfluenza 2', 'Influenza B, rapid test', 'Influenza A, rapid test', 'Strepto A', 'Urine - Esterase', 'Urine - Aspect', 'Urine - pH', 'Urine - Hemoglobin', 'Urine - Bile pigments', 'Urine - Ketone Bodies', 'Urine - Nitrite', 'Urine - Urobilinogen', 'Urine - Protein', 'Urine - Leukocytes', 'Urine - Crystals', 'Urine - Hyaline cylinders', 'Urine - Granular cylinders', 'Urine - Yeasts', 'Urine - Color']\n"
          ],
          "name": "stdout"
        }
      ]
    },
    {
      "cell_type": "code",
      "metadata": {
        "colab": {
          "base_uri": "https://localhost:8080/"
        },
        "id": "uhSBO4U1gYEw",
        "outputId": "c4a8ae10-76de-452a-c025-efc4bb5ed14e"
      },
      "source": [
        "#Checking the value count and unique value of each categorical feature:\r\n",
        "for col in df.columns:\r\n",
        "    if df[col].dtypes == object:\r\n",
        "        print(str(col)+':'+str(df[col].unique()))\r\n",
        "        print('********************************************')"
      ],
      "execution_count": 10,
      "outputs": [
        {
          "output_type": "stream",
          "text": [
            "Patient ID:['44477f75e8169d2' '126e9dd13932f68' 'a46b4402a0e5696' ...\n",
            " '5c57d6037fe266d' 'c20c44766f28291' '2697fdccbfeb7f7']\n",
            "********************************************\n",
            "SARS-Cov-2 exam result:['negative' 'positive']\n",
            "********************************************\n",
            "Respiratory Syncytial Virus:[nan 'not_detected' 'detected']\n",
            "********************************************\n",
            "Influenza A:[nan 'not_detected' 'detected']\n",
            "********************************************\n",
            "Influenza B:[nan 'not_detected' 'detected']\n",
            "********************************************\n",
            "Parainfluenza 1:[nan 'not_detected' 'detected']\n",
            "********************************************\n",
            "CoronavirusNL63:[nan 'not_detected' 'detected']\n",
            "********************************************\n",
            "Rhinovirus/Enterovirus:[nan 'detected' 'not_detected']\n",
            "********************************************\n",
            "Coronavirus HKU1:[nan 'not_detected' 'detected']\n",
            "********************************************\n",
            "Parainfluenza 3:[nan 'not_detected' 'detected']\n",
            "********************************************\n",
            "Chlamydophila pneumoniae:[nan 'not_detected' 'detected']\n",
            "********************************************\n",
            "Adenovirus:[nan 'not_detected' 'detected']\n",
            "********************************************\n",
            "Parainfluenza 4:[nan 'not_detected' 'detected']\n",
            "********************************************\n",
            "Coronavirus229E:[nan 'not_detected' 'detected']\n",
            "********************************************\n",
            "CoronavirusOC43:[nan 'not_detected' 'detected']\n",
            "********************************************\n",
            "Inf A H1N1 2009:[nan 'not_detected' 'detected']\n",
            "********************************************\n",
            "Bordetella pertussis:[nan 'not_detected' 'detected']\n",
            "********************************************\n",
            "Metapneumovirus:[nan 'not_detected' 'detected']\n",
            "********************************************\n",
            "Parainfluenza 2:[nan 'not_detected']\n",
            "********************************************\n",
            "Influenza B, rapid test:[nan 'negative' 'positive']\n",
            "********************************************\n",
            "Influenza A, rapid test:[nan 'negative' 'positive']\n",
            "********************************************\n",
            "Strepto A:[nan 'positive' 'negative' 'not_done']\n",
            "********************************************\n",
            "Urine - Esterase:[nan 'absent' 'not_done']\n",
            "********************************************\n",
            "Urine - Aspect:[nan 'clear' 'cloudy' 'altered_coloring' 'lightly_cloudy']\n",
            "********************************************\n",
            "Urine - pH:[nan '6.5' '6.0' 'Não Realizado' '5.0' '7.0' '5' '5.5' '7.5' '6' '8.0' 6\n",
            " 6.5 7 5 5.5]\n",
            "********************************************\n",
            "Urine - Hemoglobin:[nan 'absent' 'present' 'not_done']\n",
            "********************************************\n",
            "Urine - Bile pigments:[nan 'absent' 'not_done']\n",
            "********************************************\n",
            "Urine - Ketone Bodies:[nan 'absent' 'not_done']\n",
            "********************************************\n",
            "Urine - Nitrite:[nan 'not_done']\n",
            "********************************************\n",
            "Urine - Urobilinogen:[nan 'normal' 'not_done']\n",
            "********************************************\n",
            "Urine - Protein:[nan 'absent' 'not_done']\n",
            "********************************************\n",
            "Urine - Leukocytes:[nan '38000' '5942000' '32000' '22000' '<1000' '3000' '16000' '7000'\n",
            " '5300' '1000' '4000' '5000' '10600' '6000' '2500' '2600' '23000' '124000'\n",
            " '8000' '29000' '2000' '624000' '40000' '3310000' '229000' '19000' '28000'\n",
            " '10000' '4600' '77000' '43000']\n",
            "********************************************\n",
            "Urine - Crystals:[nan 'Ausentes' 'Urato Amorfo --+' 'Oxalato de Cálcio +++'\n",
            " 'Oxalato de Cálcio -++' 'Urato Amorfo +++']\n",
            "********************************************\n",
            "Urine - Hyaline cylinders:[nan 'absent']\n",
            "********************************************\n",
            "Urine - Granular cylinders:[nan 'absent']\n",
            "********************************************\n",
            "Urine - Yeasts:[nan 'absent']\n",
            "********************************************\n",
            "Urine - Color:[nan 'light_yellow' 'yellow' 'orange' 'citrus_yellow']\n",
            "********************************************\n"
          ],
          "name": "stdout"
        }
      ]
    },
    {
      "cell_type": "code",
      "metadata": {
        "colab": {
          "base_uri": "https://localhost:8080/",
          "height": 1000
        },
        "id": "w203TOvggYH5",
        "outputId": "a1269ee3-c389-41e8-c560-5ffaf6bba8ae"
      },
      "source": [
        "#Checking the null values in the dataset:\r\n",
        "missing_value = pd.DataFrame(df.isnull().sum(),columns=['Total Missing Value'])\r\n",
        "print(missing_value)\r\n",
        "plt.figure(figsize=(20,5))\r\n",
        "sns.heatmap(df.isnull(),yticklabels=False,cbar=False,cmap='summer')"
      ],
      "execution_count": 13,
      "outputs": [
        {
          "output_type": "stream",
          "text": [
            "                                                    Total Missing Value\n",
            "Patient ID                                                            0\n",
            "Patient age quantile                                                  0\n",
            "SARS-Cov-2 exam result                                                0\n",
            "Patient addmited to regular ward (1=yes, 0=no)                        0\n",
            "Patient addmited to semi-intensive unit (1=yes,...                    0\n",
            "Patient addmited to intensive care unit (1=yes,...                    0\n",
            "Hematocrit                                                         5041\n",
            "Hemoglobin                                                         5041\n",
            "Platelets                                                          5042\n",
            "Mean platelet volume                                               5045\n",
            "Red blood Cells                                                    5042\n",
            "Lymphocytes                                                        5042\n",
            "Mean corpuscular hemoglobin concentration (MCHC)                   5042\n",
            "Leukocytes                                                         5042\n",
            "Basophils                                                          5042\n",
            "Mean corpuscular hemoglobin (MCH)                                  5042\n",
            "Eosinophils                                                        5042\n",
            "Mean corpuscular volume (MCV)                                      5042\n",
            "Monocytes                                                          5043\n",
            "Red blood cell distribution width (RDW)                            5042\n",
            "Serum Glucose                                                      5436\n",
            "Respiratory Syncytial Virus                                        4290\n",
            "Influenza A                                                        4290\n",
            "Influenza B                                                        4290\n",
            "Parainfluenza 1                                                    4292\n",
            "CoronavirusNL63                                                    4292\n",
            "Rhinovirus/Enterovirus                                             4292\n",
            "Mycoplasma pneumoniae                                              5644\n",
            "Coronavirus HKU1                                                   4292\n",
            "Parainfluenza 3                                                    4292\n",
            "Chlamydophila pneumoniae                                           4292\n",
            "Adenovirus                                                         4292\n",
            "Parainfluenza 4                                                    4292\n",
            "Coronavirus229E                                                    4292\n",
            "CoronavirusOC43                                                    4292\n",
            "Inf A H1N1 2009                                                    4292\n",
            "Bordetella pertussis                                               4292\n",
            "Metapneumovirus                                                    4292\n",
            "Parainfluenza 2                                                    4292\n",
            "Neutrophils                                                        5131\n",
            "Urea                                                               5247\n",
            "Proteina C reativa mg/dL                                           5138\n",
            "Creatinine                                                         5220\n",
            "Potassium                                                          5273\n",
            "Sodium                                                             5274\n",
            "Influenza B, rapid test                                            4824\n",
            "Influenza A, rapid test                                            4824\n",
            "Alanine transaminase                                               5419\n",
            "Aspartate transaminase                                             5418\n",
            "Gamma-glutamyltransferase                                          5491\n",
            "Total Bilirubin                                                    5462\n",
            "Direct Bilirubin                                                   5462\n",
            "Indirect Bilirubin                                                 5462\n",
            "Alkaline phosphatase                                               5500\n",
            "Ionized calcium                                                    5594\n",
            "Strepto A                                                          5312\n",
            "Magnesium                                                          5604\n",
            "pCO2 (venous blood gas analysis)                                   5508\n",
            "Hb saturation (venous blood gas analysis)                          5508\n",
            "Base excess (venous blood gas analysis)                            5508\n",
            "pO2 (venous blood gas analysis)                                    5508\n",
            "Fio2 (venous blood gas analysis)                                   5643\n",
            "Total CO2 (venous blood gas analysis)                              5508\n",
            "pH (venous blood gas analysis)                                     5508\n",
            "HCO3 (venous blood gas analysis)                                   5508\n",
            "Rods #                                                             5547\n",
            "Segmented                                                          5547\n",
            "Promyelocytes                                                      5547\n",
            "Metamyelocytes                                                     5547\n",
            "Myelocytes                                                         5547\n",
            "Myeloblasts                                                        5547\n",
            "Urine - Esterase                                                   5584\n",
            "Urine - Aspect                                                     5574\n",
            "Urine - pH                                                         5574\n",
            "Urine - Hemoglobin                                                 5574\n",
            "Urine - Bile pigments                                              5574\n",
            "Urine - Ketone Bodies                                              5587\n",
            "Urine - Nitrite                                                    5643\n",
            "Urine - Density                                                    5574\n",
            "Urine - Urobilinogen                                               5575\n",
            "Urine - Protein                                                    5584\n",
            "Urine - Sugar                                                      5644\n",
            "Urine - Leukocytes                                                 5574\n",
            "Urine - Crystals                                                   5574\n",
            "Urine - Red blood cells                                            5574\n",
            "Urine - Hyaline cylinders                                          5577\n",
            "Urine - Granular cylinders                                         5575\n",
            "Urine - Yeasts                                                     5574\n",
            "Urine - Color                                                      5574\n",
            "Partial thromboplastin time (PTT)                                  5644\n",
            "Relationship (Patient/Normal)                                      5553\n",
            "International normalized ratio (INR)                               5511\n",
            "Lactic Dehydrogenase                                               5543\n",
            "Prothrombin time (PT), Activity                                    5644\n",
            "Vitamin B12                                                        5641\n",
            "Creatine phosphokinase (CPK)                                       5540\n",
            "Ferritin                                                           5621\n",
            "Arterial Lactic Acid                                               5617\n",
            "Lipase dosage                                                      5636\n",
            "D-Dimer                                                            5644\n",
            "Albumin                                                            5631\n",
            "Hb saturation (arterial blood gases)                               5617\n",
            "pCO2 (arterial blood gas analysis)                                 5617\n",
            "Base excess (arterial blood gas analysis)                          5617\n",
            "pH (arterial blood gas analysis)                                   5617\n",
            "Total CO2 (arterial blood gas analysis)                            5617\n",
            "HCO3 (arterial blood gas analysis)                                 5617\n",
            "pO2 (arterial blood gas analysis)                                  5617\n",
            "Arteiral Fio2                                                      5624\n",
            "Phosphor                                                           5624\n",
            "ctO2 (arterial blood gas analysis)                                 5617\n"
          ],
          "name": "stdout"
        },
        {
          "output_type": "execute_result",
          "data": {
            "text/plain": [
              "<matplotlib.axes._subplots.AxesSubplot at 0x7f039904d208>"
            ]
          },
          "metadata": {
            "tags": []
          },
          "execution_count": 13
        },
        {
          "output_type": "display_data",
          "data": {
            "image/png": "[encoded data removed]",
            "text/plain": [
              "<Figure size 1440x360 with 1 Axes>"
            ]
          },
          "metadata": {
            "tags": [],
            "needs_background": "light"
          }
        }
      ]
    },
    {
      "cell_type": "code",
      "metadata": {
        "id": "hNSJPiyggYKg"
      },
      "source": [
        "#Thers a huge amount of Missing Data present in the Dataset Lets normalize them."
      ],
      "execution_count": null,
      "outputs": []
    },
    {
      "cell_type": "code",
      "metadata": {
        "colab": {
          "base_uri": "https://localhost:8080/"
        },
        "id": "xVoYnu6dgYNf",
        "outputId": "e5f2fdb6-703c-464d-cd57-13752d22f212"
      },
      "source": [
        "#Checking the columns having Missing value:\r\n",
        "col_missing = (df.isnull().sum() == df.shape[0])\r\n",
        "col_nan_values = col_missing[col_missing == True].index\r\n",
        "print(\"Columns with all null values:\",col_nan_values)"
      ],
      "execution_count": 14,
      "outputs": [
        {
          "output_type": "stream",
          "text": [
            "Columns with all null values: Index(['Mycoplasma pneumoniae', 'Urine - Sugar',\n",
            "       'Partial thromboplastin time (PTT) ', 'Prothrombin time (PT), Activity',\n",
            "       'D-Dimer'],\n",
            "      dtype='object')\n"
          ],
          "name": "stdout"
        }
      ]
    },
    {
      "cell_type": "code",
      "metadata": {
        "id": "aHF6VLPqgYQb"
      },
      "source": [
        "#Dropping the columns which contains all the null values.\r\n",
        "df.drop(col_nan_values, axis=1, inplace=True)"
      ],
      "execution_count": 15,
      "outputs": []
    },
    {
      "cell_type": "code",
      "metadata": {
        "colab": {
          "base_uri": "https://localhost:8080/"
        },
        "id": "S9zyrwiOgYWj",
        "outputId": "430dfeee-b6d9-427f-86eb-b0941f4c21a4"
      },
      "source": [
        "#Again checking for null values in ratio\r\n",
        "(df.isnull().sum() / df.shape[0]).sort_values(ascending=False).head(10)"
      ],
      "execution_count": 19,
      "outputs": [
        {
          "output_type": "execute_result",
          "data": {
            "text/plain": [
              "Fio2 (venous blood gas analysis)      0.999823\n",
              "Urine - Nitrite                       0.999823\n",
              "Vitamin B12                           0.999468\n",
              "Lipase dosage                         0.998583\n",
              "Albumin                               0.997697\n",
              "Phosphor                              0.996456\n",
              "Arteiral Fio2                         0.996456\n",
              "Ferritin                              0.995925\n",
              "Arterial Lactic Acid                  0.995216\n",
              "ctO2 (arterial blood gas analysis)    0.995216\n",
              "dtype: float64"
            ]
          },
          "metadata": {
            "tags": []
          },
          "execution_count": 19
        }
      ]
    },
    {
      "cell_type": "code",
      "metadata": {
        "colab": {
          "base_uri": "https://localhost:8080/"
        },
        "id": "c4XrD-LYgYY-",
        "outputId": "cffe0dfd-3d3d-4eed-9dc3-682405ef06f4"
      },
      "source": [
        "#Lets check the value count of target variable:\r\n",
        "print(df['SARS-Cov-2 exam result'].value_counts())\r\n",
        "print('*************************************')\r\n",
        "print(df['SARS-Cov-2 exam result'].unique())"
      ],
      "execution_count": 20,
      "outputs": [
        {
          "output_type": "stream",
          "text": [
            "negative    5086\n",
            "positive     558\n",
            "Name: SARS-Cov-2 exam result, dtype: int64\n",
            "*************************************\n",
            "['negative' 'positive']\n"
          ],
          "name": "stdout"
        }
      ]
    },
    {
      "cell_type": "code",
      "metadata": {
        "colab": {
          "base_uri": "https://localhost:8080/"
        },
        "id": "3Fv-ss3KgYcj",
        "outputId": "dc5d1139-3e90-40c1-d367-792e5258dc9b"
      },
      "source": [
        "#Nows lets check the column that dont have null values in it:\r\n",
        "col_notnull = (df.isnull().sum() == 0)\r\n",
        "col_without_nanvalues = col_notnull[col_notnull == True].index\r\n",
        "print(\"Columns without any null values:\",col_without_nanvalues)"
      ],
      "execution_count": 21,
      "outputs": [
        {
          "output_type": "stream",
          "text": [
            "Columns without any null values: Index(['Patient ID', 'Patient age quantile', 'SARS-Cov-2 exam result',\n",
            "       'Patient addmited to regular ward (1=yes, 0=no)',\n",
            "       'Patient addmited to semi-intensive unit (1=yes, 0=no)',\n",
            "       'Patient addmited to intensive care unit (1=yes, 0=no)'],\n",
            "      dtype='object')\n"
          ],
          "name": "stdout"
        }
      ]
    },
    {
      "cell_type": "code",
      "metadata": {
        "id": "rX6xwIMkgYfs"
      },
      "source": [
        "#Exploratory Data Analysis\r\n",
        "\r\n",
        "#Univarite Analysis\r\n",
        "\r\n",
        "#Multivariate Analysis\r\n",
        "\r\n",
        "#Bivariate Analysis\r\n",
        "\r\n",
        "#Here we check the relationship between different independant and dependant variable"
      ],
      "execution_count": 22,
      "outputs": []
    },
    {
      "cell_type": "code",
      "metadata": {
        "colab": {
          "base_uri": "https://localhost:8080/",
          "height": 427
        },
        "id": "ogalIDEBgYi9",
        "outputId": "41d9cdf1-5d7d-4b75-8b26-6193de9d1c97"
      },
      "source": [
        "# univariate Analysis: checking customer chrun breakdown:\r\n",
        "# Cheking Count of target variable:\r\n",
        "from pylab import rcParams\r\n",
        "labels = df['SARS-Cov-2 exam result'].value_counts(sort = True).index\r\n",
        "sizes = df['SARS-Cov-2 exam result'].value_counts(sort = True)\r\n",
        "\r\n",
        "colors = [\"lightblue\",\"red\"]\r\n",
        "explode = (0.05,0)\r\n",
        "\r\n",
        "rcParams['figure.figsize'] = 7,7\r\n",
        "plt.pie(sizes, explode=explode, labels=labels, colors=colors, autopct='%1.1f%%', shadow=True, startangle=90,)\r\n",
        "plt.title('Covid Breakdown')\r\n",
        "plt.show()"
      ],
      "execution_count": 23,
      "outputs": [
        {
          "output_type": "display_data",
          "data": {
            "image/png": "[encoded data removed]",
            "text/plain": [
              "<Figure size 504x504 with 1 Axes>"
            ]
          },
          "metadata": {
            "tags": []
          }
        }
      ]
    },
    {
      "cell_type": "code",
      "metadata": {
        "colab": {
          "base_uri": "https://localhost:8080/",
          "height": 401
        },
        "id": "HK-_3kkggYlh",
        "outputId": "9e74db80-48db-46ed-8c5c-3fcd858817dd"
      },
      "source": [
        "#Counting target variable:\r\n",
        "plt.figure(figsize=(5,5))\r\n",
        "sns.countplot(x='SARS-Cov-2 exam result',data=df)\r\n",
        "plt.title(\"Counting of SARS-Cov-2 exam result\")\r\n",
        "plt.show()\r\n",
        "\r\n",
        "print(df['SARS-Cov-2 exam result'].value_counts())"
      ],
      "execution_count": 25,
      "outputs": [
        {
          "output_type": "display_data",
          "data": {
            "image/png": "[encoded data removed]",
            "text/plain": [
              "<Figure size 360x360 with 1 Axes>"
            ]
          },
          "metadata": {
            "tags": [],
            "needs_background": "light"
          }
        },
        {
          "output_type": "stream",
          "text": [
            "negative    5086\n",
            "positive     558\n",
            "Name: SARS-Cov-2 exam result, dtype: int64\n"
          ],
          "name": "stdout"
        }
      ]
    },
    {
      "cell_type": "code",
      "metadata": {
        "colab": {
          "base_uri": "https://localhost:8080/",
          "height": 401
        },
        "id": "X8XDXpIUgYrT",
        "outputId": "e169c8e6-6805-42f2-bb73-2866394fcf30"
      },
      "source": [
        "#Univariate Analysis:\r\n",
        "plt.figure(figsize=(5,5))\r\n",
        "sns.countplot(x='Patient addmited to regular ward (1=yes, 0=no)',data=df)\r\n",
        "plt.title(\"Admission of Patient in regular ward\")\r\n",
        "plt.show()\r\n",
        "\r\n",
        "print(df['SARS-Cov-2 exam result'].value_counts())"
      ],
      "execution_count": 27,
      "outputs": [
        {
          "output_type": "display_data",
          "data": {
            "image/png": "[encoded data removed]",
            "text/plain": [
              "<Figure size 360x360 with 1 Axes>"
            ]
          },
          "metadata": {
            "tags": [],
            "needs_background": "light"
          }
        },
        {
          "output_type": "stream",
          "text": [
            "negative    5086\n",
            "positive     558\n",
            "Name: SARS-Cov-2 exam result, dtype: int64\n"
          ],
          "name": "stdout"
        }
      ]
    },
    {
      "cell_type": "code",
      "metadata": {
        "colab": {
          "base_uri": "https://localhost:8080/",
          "height": 454
        },
        "id": "Wk4uYlBfgYt5",
        "outputId": "d39fee21-ce66-4b54-f789-0f205a9aa916"
      },
      "source": [
        "#Univariate Analysis\r\n",
        "plt.figure(figsize=(5,6))\r\n",
        "sns.countplot(x='Patient addmited to semi-intensive unit (1=yes, 0=no)',data=df)\r\n",
        "plt.title(\"No of Patient admitted to semi-ICU\")\r\n",
        "plt.show()\r\n",
        "\r\n",
        "print(df['Patient addmited to semi-intensive unit (1=yes, 0=no)'].value_counts())"
      ],
      "execution_count": 30,
      "outputs": [
        {
          "output_type": "display_data",
          "data": {
            "image/png": "[encoded data removed]",
            "text/plain": [
              "<Figure size 360x432 with 1 Axes>"
            ]
          },
          "metadata": {
            "tags": [],
            "needs_background": "light"
          }
        },
        {
          "output_type": "stream",
          "text": [
            "0    5594\n",
            "1      50\n",
            "Name: Patient addmited to semi-intensive unit (1=yes, 0=no), dtype: int64\n"
          ],
          "name": "stdout"
        }
      ]
    },
    {
      "cell_type": "code",
      "metadata": {
        "colab": {
          "base_uri": "https://localhost:8080/",
          "height": 402
        },
        "id": "zBJrW-R2gYwo",
        "outputId": "7a2c1873-ebb1-4a8e-a9e8-c1f8b810dcf2"
      },
      "source": [
        "#Univariate Analysis\r\n",
        "plt.figure(figsize=(5,5))\r\n",
        "sns.countplot(x='Respiratory Syncytial Virus',data=df)\r\n",
        "plt.title(\"Number of Patient having Respiratory Syncytial Virus\")\r\n",
        "plt.show()\r\n",
        "\r\n",
        "print(df['Respiratory Syncytial Virus'].value_counts())"
      ],
      "execution_count": 31,
      "outputs": [
        {
          "output_type": "display_data",
          "data": {
            "image/png": "[encoded data removed]",
            "text/plain": [
              "<Figure size 360x360 with 1 Axes>"
            ]
          },
          "metadata": {
            "tags": [],
            "needs_background": "light"
          }
        },
        {
          "output_type": "stream",
          "text": [
            "not_detected    1302\n",
            "detected          52\n",
            "Name: Respiratory Syncytial Virus, dtype: int64\n"
          ],
          "name": "stdout"
        }
      ]
    },
    {
      "cell_type": "code",
      "metadata": {
        "colab": {
          "base_uri": "https://localhost:8080/",
          "height": 402
        },
        "id": "F3AnhDr5fsC-",
        "outputId": "1a14211b-cb08-4b73-dd2f-215d87fa9dda"
      },
      "source": [
        "#univarite Analysis\r\n",
        "plt.figure(figsize=(5,5))\r\n",
        "sns.countplot(x='Coronavirus HKU1',data=df)\r\n",
        "plt.title(\"Number of Patient having Coronavirus HKU1\")\r\n",
        "plt.show()\r\n",
        "\r\n",
        "print(df['Coronavirus HKU1'].value_counts())"
      ],
      "execution_count": 33,
      "outputs": [
        {
          "output_type": "display_data",
          "data": {
            "image/png": "[encoded data removed]",
            "text/plain": [
              "<Figure size 360x360 with 1 Axes>"
            ]
          },
          "metadata": {
            "tags": [],
            "needs_background": "light"
          }
        },
        {
          "output_type": "stream",
          "text": [
            "not_detected    1332\n",
            "detected          20\n",
            "Name: Coronavirus HKU1, dtype: int64\n"
          ],
          "name": "stdout"
        }
      ]
    },
    {
      "cell_type": "code",
      "metadata": {
        "id": "T1c-UBPUqhN9"
      },
      "source": [
        "#Using label encoder to covert catagorical columns into neumerical\r\n",
        "from sklearn.preprocessing import LabelEncoder\r\n",
        "le=LabelEncoder()\r\n",
        "for column in df.columns:\r\n",
        "    if df[column].dtype==np.number:\r\n",
        "      df[column]=le.fit_transform(df[column])"
      ],
      "execution_count": 39,
      "outputs": []
    }
  ]
}