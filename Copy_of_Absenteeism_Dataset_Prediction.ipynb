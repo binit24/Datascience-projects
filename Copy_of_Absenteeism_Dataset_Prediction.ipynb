{
  "nbformat": 4,
  "nbformat_minor": 0,
  "metadata": {
    "colab": {
      "name": "Copy of Absenteeism Dataset Prediction",
      "provenance": [],
      "authorship_tag": "ABX9TyPaud0V+X3mjGgTBQB2qYly",
      "include_colab_link": true
    },
    "kernelspec": {
      "name": "python3",
      "display_name": "Python 3"
    }
  },
  "cells": [
    {
      "cell_type": "markdown",
      "metadata": {
        "id": "view-in-github",
        "colab_type": "text"
      },
      "source": [
        "<a href=\"https://colab.research.google.com/github/binit24/Datascience.com/blob/main/Copy_of_Absenteeism_Dataset_Prediction.ipynb\" target=\"_parent\"><img src=\"https://colab.research.google.com/assets/colab-badge.svg\" alt=\"Open In Colab\"/></a>"
      ]
    },
    {
      "cell_type": "code",
      "metadata": {
        "id": "HIC-dmQatbgi"
      },
      "source": [
        "#Importing Libraries.\n",
        "import pandas as pd\n",
        "import numpy as np\n",
        "import matplotlib.pyplot as plt\n",
        "import seaborn as sns\n",
        "import os\n",
        "#import warnings:\n",
        "import warnings\n",
        "warnings.filterwarnings('ignore')"
      ],
      "execution_count": 2,
      "outputs": []
    },
    {
      "cell_type": "code",
      "metadata": {
        "colab": {
          "base_uri": "https://localhost:8080/"
        },
        "id": "OSuEyieLuCXe",
        "outputId": "2687e19a-187f-4f73-8323-6206ef09987c"
      },
      "source": [
        "from google.colab import drive\n",
        "drive.mount('/content/drive')"
      ],
      "execution_count": null,
      "outputs": [
        {
          "output_type": "stream",
          "text": [
            "Mounted at /content/drive\n"
          ],
          "name": "stdout"
        }
      ]
    },
    {
      "cell_type": "code",
      "metadata": {
        "id": "S1B2efsFuCdt"
      },
      "source": [
        "f = open(\"Absenteeism_at_work.xls\")"
      ],
      "execution_count": 3,
      "outputs": []
    },
    {
      "cell_type": "code",
      "metadata": {
        "colab": {
          "base_uri": "https://localhost:8080/",
          "height": 282
        },
        "id": "aEA_pF4ruChT",
        "outputId": "8ec4be91-55f7-43d3-86de-43346d929212"
      },
      "source": [
        "#Reading the Dataset:\n",
        "df = pd.read_excel('Absenteeism_at_work.xls')\n",
        "print(df.shape) #checking no of rows and columns in the dataset.\n",
        "df.head()"
      ],
      "execution_count": 4,
      "outputs": [
        {
          "output_type": "stream",
          "text": [
            "(740, 21)\n"
          ],
          "name": "stdout"
        },
        {
          "output_type": "execute_result",
          "data": {
            "text/html": [
              "<div>\n",
              "<style scoped>\n",
              "    .dataframe tbody tr th:only-of-type {\n",
              "        vertical-align: middle;\n",
              "    }\n",
              "\n",
              "    .dataframe tbody tr th {\n",
              "        vertical-align: top;\n",
              "    }\n",
              "\n",
              "    .dataframe thead th {\n",
              "        text-align: right;\n",
              "    }\n",
              "</style>\n",
              "<table border=\"1\" class=\"dataframe\">\n",
              "  <thead>\n",
              "    <tr style=\"text-align: right;\">\n",
              "      <th></th>\n",
              "      <th>ID</th>\n",
              "      <th>Reason for absence</th>\n",
              "      <th>Month of absence</th>\n",
              "      <th>Day of the week</th>\n",
              "      <th>Seasons</th>\n",
              "      <th>Transportation expense</th>\n",
              "      <th>Distance from Residence to Work</th>\n",
              "      <th>Service time</th>\n",
              "      <th>Age</th>\n",
              "      <th>Work load Average/day</th>\n",
              "      <th>Hit target</th>\n",
              "      <th>Disciplinary failure</th>\n",
              "      <th>Education</th>\n",
              "      <th>Son</th>\n",
              "      <th>Social drinker</th>\n",
              "      <th>Social smoker</th>\n",
              "      <th>Pet</th>\n",
              "      <th>Weight</th>\n",
              "      <th>Height</th>\n",
              "      <th>Body mass index</th>\n",
              "      <th>Absenteeism time in hours</th>\n",
              "    </tr>\n",
              "  </thead>\n",
              "  <tbody>\n",
              "    <tr>\n",
              "      <th>0</th>\n",
              "      <td>11</td>\n",
              "      <td>26</td>\n",
              "      <td>7</td>\n",
              "      <td>3</td>\n",
              "      <td>1</td>\n",
              "      <td>289</td>\n",
              "      <td>36</td>\n",
              "      <td>13</td>\n",
              "      <td>33</td>\n",
              "      <td>239554</td>\n",
              "      <td>97</td>\n",
              "      <td>0</td>\n",
              "      <td>1</td>\n",
              "      <td>2</td>\n",
              "      <td>1</td>\n",
              "      <td>0</td>\n",
              "      <td>1</td>\n",
              "      <td>90</td>\n",
              "      <td>172</td>\n",
              "      <td>30</td>\n",
              "      <td>4</td>\n",
              "    </tr>\n",
              "    <tr>\n",
              "      <th>1</th>\n",
              "      <td>36</td>\n",
              "      <td>0</td>\n",
              "      <td>7</td>\n",
              "      <td>3</td>\n",
              "      <td>1</td>\n",
              "      <td>118</td>\n",
              "      <td>13</td>\n",
              "      <td>18</td>\n",
              "      <td>50</td>\n",
              "      <td>239554</td>\n",
              "      <td>97</td>\n",
              "      <td>1</td>\n",
              "      <td>1</td>\n",
              "      <td>1</td>\n",
              "      <td>1</td>\n",
              "      <td>0</td>\n",
              "      <td>0</td>\n",
              "      <td>98</td>\n",
              "      <td>178</td>\n",
              "      <td>31</td>\n",
              "      <td>0</td>\n",
              "    </tr>\n",
              "    <tr>\n",
              "      <th>2</th>\n",
              "      <td>3</td>\n",
              "      <td>23</td>\n",
              "      <td>7</td>\n",
              "      <td>4</td>\n",
              "      <td>1</td>\n",
              "      <td>179</td>\n",
              "      <td>51</td>\n",
              "      <td>18</td>\n",
              "      <td>38</td>\n",
              "      <td>239554</td>\n",
              "      <td>97</td>\n",
              "      <td>0</td>\n",
              "      <td>1</td>\n",
              "      <td>0</td>\n",
              "      <td>1</td>\n",
              "      <td>0</td>\n",
              "      <td>0</td>\n",
              "      <td>89</td>\n",
              "      <td>170</td>\n",
              "      <td>31</td>\n",
              "      <td>2</td>\n",
              "    </tr>\n",
              "    <tr>\n",
              "      <th>3</th>\n",
              "      <td>7</td>\n",
              "      <td>7</td>\n",
              "      <td>7</td>\n",
              "      <td>5</td>\n",
              "      <td>1</td>\n",
              "      <td>279</td>\n",
              "      <td>5</td>\n",
              "      <td>14</td>\n",
              "      <td>39</td>\n",
              "      <td>239554</td>\n",
              "      <td>97</td>\n",
              "      <td>0</td>\n",
              "      <td>1</td>\n",
              "      <td>2</td>\n",
              "      <td>1</td>\n",
              "      <td>1</td>\n",
              "      <td>0</td>\n",
              "      <td>68</td>\n",
              "      <td>168</td>\n",
              "      <td>24</td>\n",
              "      <td>4</td>\n",
              "    </tr>\n",
              "    <tr>\n",
              "      <th>4</th>\n",
              "      <td>11</td>\n",
              "      <td>23</td>\n",
              "      <td>7</td>\n",
              "      <td>5</td>\n",
              "      <td>1</td>\n",
              "      <td>289</td>\n",
              "      <td>36</td>\n",
              "      <td>13</td>\n",
              "      <td>33</td>\n",
              "      <td>239554</td>\n",
              "      <td>97</td>\n",
              "      <td>0</td>\n",
              "      <td>1</td>\n",
              "      <td>2</td>\n",
              "      <td>1</td>\n",
              "      <td>0</td>\n",
              "      <td>1</td>\n",
              "      <td>90</td>\n",
              "      <td>172</td>\n",
              "      <td>30</td>\n",
              "      <td>2</td>\n",
              "    </tr>\n",
              "  </tbody>\n",
              "</table>\n",
              "</div>"
            ],
            "text/plain": [
              "   ID  Reason for absence  ...  Body mass index  Absenteeism time in hours\n",
              "0  11                  26  ...               30                          4\n",
              "1  36                   0  ...               31                          0\n",
              "2   3                  23  ...               31                          2\n",
              "3   7                   7  ...               24                          4\n",
              "4  11                  23  ...               30                          2\n",
              "\n",
              "[5 rows x 21 columns]"
            ]
          },
          "metadata": {
            "tags": []
          },
          "execution_count": 4
        }
      ]
    },
    {
      "cell_type": "code",
      "metadata": {
        "id": "ECFU1B7nuCk7"
      },
      "source": [
        "#using Pd.options display max columns to check entire rows and columns in dataset.\n",
        "pd.options.display.max_columns = None\n",
        "pd.options.display.max_rows = None"
      ],
      "execution_count": 5,
      "outputs": []
    },
    {
      "cell_type": "code",
      "metadata": {
        "colab": {
          "base_uri": "https://localhost:8080/"
        },
        "id": "OIS8nCGKuCoO",
        "outputId": "f13475f8-bf1b-401c-968c-6b8726a61e10"
      },
      "source": [
        "#Checking the info:\n",
        "df.info()"
      ],
      "execution_count": 6,
      "outputs": [
        {
          "output_type": "stream",
          "text": [
            "<class 'pandas.core.frame.DataFrame'>\n",
            "RangeIndex: 740 entries, 0 to 739\n",
            "Data columns (total 21 columns):\n",
            " #   Column                           Non-Null Count  Dtype\n",
            "---  ------                           --------------  -----\n",
            " 0   ID                               740 non-null    int64\n",
            " 1   Reason for absence               740 non-null    int64\n",
            " 2   Month of absence                 740 non-null    int64\n",
            " 3   Day of the week                  740 non-null    int64\n",
            " 4   Seasons                          740 non-null    int64\n",
            " 5   Transportation expense           740 non-null    int64\n",
            " 6   Distance from Residence to Work  740 non-null    int64\n",
            " 7   Service time                     740 non-null    int64\n",
            " 8   Age                              740 non-null    int64\n",
            " 9   Work load Average/day            740 non-null    int64\n",
            " 10  Hit target                       740 non-null    int64\n",
            " 11  Disciplinary failure             740 non-null    int64\n",
            " 12  Education                        740 non-null    int64\n",
            " 13  Son                              740 non-null    int64\n",
            " 14  Social drinker                   740 non-null    int64\n",
            " 15  Social smoker                    740 non-null    int64\n",
            " 16  Pet                              740 non-null    int64\n",
            " 17  Weight                           740 non-null    int64\n",
            " 18  Height                           740 non-null    int64\n",
            " 19  Body mass index                  740 non-null    int64\n",
            " 20  Absenteeism time in hours        740 non-null    int64\n",
            "dtypes: int64(21)\n",
            "memory usage: 121.5 KB\n"
          ],
          "name": "stdout"
        }
      ]
    },
    {
      "cell_type": "code",
      "metadata": {
        "id": "5bn98xH3ujqp"
      },
      "source": [
        "#All features are in neumerical features thats great! but we know that Reason for absence is categorical lets figure that out:"
      ],
      "execution_count": 7,
      "outputs": []
    },
    {
      "cell_type": "code",
      "metadata": {
        "id": "jDfMgESIujtr"
      },
      "source": [
        "#Drop 'ID':\n",
        "df.drop(['ID'], axis =1,inplace=True)"
      ],
      "execution_count": 8,
      "outputs": []
    },
    {
      "cell_type": "code",
      "metadata": {
        "colab": {
          "base_uri": "https://localhost:8080/"
        },
        "id": "4g9OcDSTujxQ",
        "outputId": "5936259d-72be-46c8-a501-19aa0743a1fe"
      },
      "source": [
        "#cheking Duplicate columns:\n",
        "df.duplicated().sum()"
      ],
      "execution_count": 9,
      "outputs": [
        {
          "output_type": "execute_result",
          "data": {
            "text/plain": [
              "34"
            ]
          },
          "metadata": {
            "tags": []
          },
          "execution_count": 9
        }
      ]
    },
    {
      "cell_type": "code",
      "metadata": {
        "colab": {
          "base_uri": "https://localhost:8080/",
          "height": 794
        },
        "id": "Cgqkz1T1uj3U",
        "outputId": "0bbc6331-9558-4679-bc98-f20179948a4e"
      },
      "source": [
        "#Checking the null values in the dataset:\n",
        "missing_value = pd.DataFrame(df.isnull().sum(),columns=['Total Missing Value'])\n",
        "print(missing_value)\n",
        "sns.heatmap(df.isnull(),cmap='summer')"
      ],
      "execution_count": 10,
      "outputs": [
        {
          "output_type": "stream",
          "text": [
            "                                 Total Missing Value\n",
            "Reason for absence                                 0\n",
            "Month of absence                                   0\n",
            "Day of the week                                    0\n",
            "Seasons                                            0\n",
            "Transportation expense                             0\n",
            "Distance from Residence to Work                    0\n",
            "Service time                                       0\n",
            "Age                                                0\n",
            "Work load Average/day                              0\n",
            "Hit target                                         0\n",
            "Disciplinary failure                               0\n",
            "Education                                          0\n",
            "Son                                                0\n",
            "Social drinker                                     0\n",
            "Social smoker                                      0\n",
            "Pet                                                0\n",
            "Weight                                             0\n",
            "Height                                             0\n",
            "Body mass index                                    0\n",
            "Absenteeism time in hours                          0\n"
          ],
          "name": "stdout"
        },
        {
          "output_type": "execute_result",
          "data": {
            "text/plain": [
              "<matplotlib.axes._subplots.AxesSubplot at 0x7f62d7b7d4a8>"
            ]
          },
          "metadata": {
            "tags": []
          },
          "execution_count": 10
        },
        {
          "output_type": "display_data",
          "data": {
            "image/png": "[encoded data removed]",
            "text/plain": [
              "<Figure size 432x288 with 2 Axes>"
            ]
          },
          "metadata": {
            "tags": [],
            "needs_background": "light"
          }
        }
      ]
    },
    {
      "cell_type": "code",
      "metadata": {
        "id": "TaVprVNquj6w"
      },
      "source": [
        "#Wow no missing values,its an well balanced dataset thats great!"
      ],
      "execution_count": 11,
      "outputs": []
    },
    {
      "cell_type": "code",
      "metadata": {
        "id": "nhhQxu1duj9y"
      },
      "source": [
        "#'Reason for Absence' Column lets work out in it.\n",
        "#'Unknown'.\n",
        "#'Certain infectious and parasitic diseases'.\n",
        "#'Neoplasms'.\n",
        "#'Diseases of the blood and blood-forming organs and certain disorders involving the immune mechanism'.\n",
        "#'Endocrine, nutritional and metabolic diseases'.\n",
        "#'Mental and behavioural disorders'.\n",
        "#'Diseases of the nervous system'.\n",
        "#'Diseases of the eye and adnexa'.\n",
        "#'Diseases of the ear and mastoid process'.\n",
        "#'Diseases of the circulatory system'.\n",
        "#'Diseases of the respiratory system'.\n",
        "#'Diseases of the digestive system'.\n",
        "#'Diseases of the skin and subcutaneous tissue'.\n",
        "#'Diseases of the musculoskeletal system and connective tissue'.\n",
        "#'Diseases of the genitourinary system'.\n",
        "#'Pregnancy, childbirth and the puerperium'.\n",
        "#'Certain conditions originating in the perinatal period'.\n",
        "#'Congenital malformations, deformations and chromosomal abnormalities'.\n",
        "#'Symptoms, signs and abnormal clinical and laboratory findings, not elsewhere classified'.\n",
        "#'Injury, poisoning and certain other consequences of external causes'.\n",
        "#'External causes of morbidity and mortality'.\n",
        "#'Factors influencing health status and contact with health services'.\n",
        "#'Patient follow-up'.\n",
        "#'Medical consultation'.\n",
        "#'Blood donation'.\n",
        "#'Laboratory examination'.\n",
        "#'Unjustified absence'.\n",
        "#'Physiotherapy'.\n",
        "#'Dental consultation."
      ],
      "execution_count": 12,
      "outputs": []
    },
    {
      "cell_type": "code",
      "metadata": {
        "colab": {
          "base_uri": "https://localhost:8080/"
        },
        "id": "OvDFfMSjukA9",
        "outputId": "4ba61b07-3449-4d14-f684-b31c0a3a6e2a"
      },
      "source": [
        "df['Reason for absence'].min()"
      ],
      "execution_count": 13,
      "outputs": [
        {
          "output_type": "execute_result",
          "data": {
            "text/plain": [
              "0"
            ]
          },
          "metadata": {
            "tags": []
          },
          "execution_count": 13
        }
      ]
    },
    {
      "cell_type": "code",
      "metadata": {
        "colab": {
          "base_uri": "https://localhost:8080/"
        },
        "id": "N1M2Iv-MukEL",
        "outputId": "ad8f1a0b-6a1f-4ee9-c542-5a95ded4265e"
      },
      "source": [
        "df['Reason for absence'].max()"
      ],
      "execution_count": 14,
      "outputs": [
        {
          "output_type": "execute_result",
          "data": {
            "text/plain": [
              "28"
            ]
          },
          "metadata": {
            "tags": []
          },
          "execution_count": 14
        }
      ]
    },
    {
      "cell_type": "code",
      "metadata": {
        "id": "_Q053ugCukMY"
      },
      "source": [
        "#Ok there are 28 reason for absence which all are mentioned above so lets rearrange all this data together:\n",
        "#For this we need to convert the reason for absence in dummy column:\n",
        "#After that we can create different categories of that."
      ],
      "execution_count": 15,
      "outputs": []
    },
    {
      "cell_type": "code",
      "metadata": {
        "colab": {
          "base_uri": "https://localhost:8080/"
        },
        "id": "UU52HrngukPx",
        "outputId": "5810f14f-c0d1-4e19-b8ed-bc437b5967eb"
      },
      "source": [
        "#Checking the unique value:\n",
        "df['Reason for absence'].unique()"
      ],
      "execution_count": 16,
      "outputs": [
        {
          "output_type": "execute_result",
          "data": {
            "text/plain": [
              "array([26,  0, 23,  7, 22, 19,  1, 11, 14, 21, 10, 13, 28, 18, 25, 24,  6,\n",
              "       27, 17,  8, 12,  5,  9, 15,  4,  3,  2, 16])"
            ]
          },
          "metadata": {
            "tags": []
          },
          "execution_count": 16
        }
      ]
    },
    {
      "cell_type": "code",
      "metadata": {
        "colab": {
          "base_uri": "https://localhost:8080/"
        },
        "id": "UdMdwEQ5ukTO",
        "outputId": "521d1c8d-0830-461f-a4f4-1038fcd0d5e2"
      },
      "source": [
        "len(df['Reason for absence'].unique())"
      ],
      "execution_count": 17,
      "outputs": [
        {
          "output_type": "execute_result",
          "data": {
            "text/plain": [
              "28"
            ]
          },
          "metadata": {
            "tags": []
          },
          "execution_count": 17
        }
      ]
    },
    {
      "cell_type": "code",
      "metadata": {
        "colab": {
          "base_uri": "https://localhost:8080/"
        },
        "id": "B7mOugz7vXpO",
        "outputId": "f6057ccd-7d3d-4e5e-adde-ddb19733235e"
      },
      "source": [
        "#we can see that one data is absent lets chek which one:\n",
        "sorted(df['Reason for absence'].unique())"
      ],
      "execution_count": 18,
      "outputs": [
        {
          "output_type": "execute_result",
          "data": {
            "text/plain": [
              "[0,\n",
              " 1,\n",
              " 2,\n",
              " 3,\n",
              " 4,\n",
              " 5,\n",
              " 6,\n",
              " 7,\n",
              " 8,\n",
              " 9,\n",
              " 10,\n",
              " 11,\n",
              " 12,\n",
              " 13,\n",
              " 14,\n",
              " 15,\n",
              " 16,\n",
              " 17,\n",
              " 18,\n",
              " 19,\n",
              " 21,\n",
              " 22,\n",
              " 23,\n",
              " 24,\n",
              " 25,\n",
              " 26,\n",
              " 27,\n",
              " 28]"
            ]
          },
          "metadata": {
            "tags": []
          },
          "execution_count": 18
        }
      ]
    },
    {
      "cell_type": "code",
      "metadata": {
        "colab": {
          "base_uri": "https://localhost:8080/"
        },
        "id": "773JzdZ3vXsR",
        "outputId": "e4c20cbb-d305-43a6-b147-507e3f380e35"
      },
      "source": [
        "#Lets use get dummies method:\n",
        "reason_columns = pd.get_dummies(df['Reason for absence'])\n",
        "print(reason_columns.head())"
      ],
      "execution_count": 19,
      "outputs": [
        {
          "output_type": "stream",
          "text": [
            "   0   1   2   3   4   5   6   7   8   9   10  11  12  13  14  15  16  17  18  \\\n",
            "0   0   0   0   0   0   0   0   0   0   0   0   0   0   0   0   0   0   0   0   \n",
            "1   1   0   0   0   0   0   0   0   0   0   0   0   0   0   0   0   0   0   0   \n",
            "2   0   0   0   0   0   0   0   0   0   0   0   0   0   0   0   0   0   0   0   \n",
            "3   0   0   0   0   0   0   0   1   0   0   0   0   0   0   0   0   0   0   0   \n",
            "4   0   0   0   0   0   0   0   0   0   0   0   0   0   0   0   0   0   0   0   \n",
            "\n",
            "   19  21  22  23  24  25  26  27  28  \n",
            "0   0   0   0   0   0   0   1   0   0  \n",
            "1   0   0   0   0   0   0   0   0   0  \n",
            "2   0   0   0   1   0   0   0   0   0  \n",
            "3   0   0   0   0   0   0   0   0   0  \n",
            "4   0   0   0   1   0   0   0   0   0  \n"
          ],
          "name": "stdout"
        }
      ]
    },
    {
      "cell_type": "code",
      "metadata": {
        "id": "i1ona2-ivXu9"
      },
      "source": [
        "#We are summing up and saving the data in check column to check whether theres any null values or not:\n",
        "reason_columns['check'] = reason_columns.sum(axis=1)"
      ],
      "execution_count": 20,
      "outputs": []
    },
    {
      "cell_type": "code",
      "metadata": {
        "colab": {
          "base_uri": "https://localhost:8080/"
        },
        "id": "lsxMrW4fvXx6",
        "outputId": "77ece851-7683-491f-fe31-957a5535f5a5"
      },
      "source": [
        "reason_columns['check'].sum(axis=0)"
      ],
      "execution_count": 21,
      "outputs": [
        {
          "output_type": "execute_result",
          "data": {
            "text/plain": [
              "740"
            ]
          },
          "metadata": {
            "tags": []
          },
          "execution_count": 21
        }
      ]
    },
    {
      "cell_type": "code",
      "metadata": {
        "colab": {
          "base_uri": "https://localhost:8080/"
        },
        "id": "UylBZcCdvX3S",
        "outputId": "56dc3003-63a9-4e20-9c6c-ff5fced618c3"
      },
      "source": [
        "reason_columns['check'].unique()"
      ],
      "execution_count": 22,
      "outputs": [
        {
          "output_type": "execute_result",
          "data": {
            "text/plain": [
              "array([1])"
            ]
          },
          "metadata": {
            "tags": []
          },
          "execution_count": 22
        }
      ]
    },
    {
      "cell_type": "code",
      "metadata": {
        "id": "jGXlLr9PvX6S"
      },
      "source": [
        "#We dont need 0 reason of absence so we are going to drop it\n",
        "reason_columns = pd.get_dummies(df['Reason for absence'], drop_first = True)"
      ],
      "execution_count": 23,
      "outputs": []
    },
    {
      "cell_type": "code",
      "metadata": {
        "id": "66C7x5WjvX9s"
      },
      "source": [
        "#Lets drop the Reson for absence columns:\n",
        "df = df.drop(['Reason for absence'], axis = 1)"
      ],
      "execution_count": 24,
      "outputs": []
    },
    {
      "cell_type": "code",
      "metadata": {
        "colab": {
          "base_uri": "https://localhost:8080/"
        },
        "id": "WSAOuyCXvX_4",
        "outputId": "acc34b79-6e66-42b1-d8d5-696f67564954"
      },
      "source": [
        "#Checking the Columns:\n",
        "column = list(df.columns)\n",
        "print(column)"
      ],
      "execution_count": 25,
      "outputs": [
        {
          "output_type": "stream",
          "text": [
            "['Month of absence', 'Day of the week', 'Seasons', 'Transportation expense', 'Distance from Residence to Work', 'Service time', 'Age', 'Work load Average/day ', 'Hit target', 'Disciplinary failure', 'Education', 'Son', 'Social drinker', 'Social smoker', 'Pet', 'Weight', 'Height', 'Body mass index', 'Absenteeism time in hours']\n"
          ],
          "name": "stdout"
        }
      ]
    },
    {
      "cell_type": "code",
      "metadata": {
        "id": "X4NfCMi6vYDK"
      },
      "source": [
        "#Summing of the dummies values into four categories:\n",
        "reason_type_1 = reason_columns.loc[:, 1:14].max(axis=1)\n",
        "reason_type_2 = reason_columns.loc[:, 15:17].max(axis=1)\n",
        "reason_type_3 = reason_columns.loc[:, 18:21].max(axis=1)\n",
        "reason_type_4 = reason_columns.loc[:, 22:].max(axis=1)"
      ],
      "execution_count": 26,
      "outputs": []
    },
    {
      "cell_type": "code",
      "metadata": {
        "id": "nhG9L8jjvYIc"
      },
      "source": [
        "#Using the concat Method to to combine the reason column and dataset:\n",
        "df = pd.concat([df, reason_type_1, reason_type_2, reason_type_3, reason_type_4], axis = 1)"
      ],
      "execution_count": 27,
      "outputs": []
    },
    {
      "cell_type": "code",
      "metadata": {
        "colab": {
          "base_uri": "https://localhost:8080/",
          "height": 266
        },
        "id": "hynoOxxvvYLn",
        "outputId": "9fb401d1-3741-4df5-bac8-310ac39b88d8"
      },
      "source": [
        "df.head()"
      ],
      "execution_count": 28,
      "outputs": [
        {
          "output_type": "execute_result",
          "data": {
            "text/html": [
              "<div>\n",
              "<style scoped>\n",
              "    .dataframe tbody tr th:only-of-type {\n",
              "        vertical-align: middle;\n",
              "    }\n",
              "\n",
              "    .dataframe tbody tr th {\n",
              "        vertical-align: top;\n",
              "    }\n",
              "\n",
              "    .dataframe thead th {\n",
              "        text-align: right;\n",
              "    }\n",
              "</style>\n",
              "<table border=\"1\" class=\"dataframe\">\n",
              "  <thead>\n",
              "    <tr style=\"text-align: right;\">\n",
              "      <th></th>\n",
              "      <th>Month of absence</th>\n",
              "      <th>Day of the week</th>\n",
              "      <th>Seasons</th>\n",
              "      <th>Transportation expense</th>\n",
              "      <th>Distance from Residence to Work</th>\n",
              "      <th>Service time</th>\n",
              "      <th>Age</th>\n",
              "      <th>Work load Average/day</th>\n",
              "      <th>Hit target</th>\n",
              "      <th>Disciplinary failure</th>\n",
              "      <th>Education</th>\n",
              "      <th>Son</th>\n",
              "      <th>Social drinker</th>\n",
              "      <th>Social smoker</th>\n",
              "      <th>Pet</th>\n",
              "      <th>Weight</th>\n",
              "      <th>Height</th>\n",
              "      <th>Body mass index</th>\n",
              "      <th>Absenteeism time in hours</th>\n",
              "      <th>0</th>\n",
              "      <th>1</th>\n",
              "      <th>2</th>\n",
              "      <th>3</th>\n",
              "    </tr>\n",
              "  </thead>\n",
              "  <tbody>\n",
              "    <tr>\n",
              "      <th>0</th>\n",
              "      <td>7</td>\n",
              "      <td>3</td>\n",
              "      <td>1</td>\n",
              "      <td>289</td>\n",
              "      <td>36</td>\n",
              "      <td>13</td>\n",
              "      <td>33</td>\n",
              "      <td>239554</td>\n",
              "      <td>97</td>\n",
              "      <td>0</td>\n",
              "      <td>1</td>\n",
              "      <td>2</td>\n",
              "      <td>1</td>\n",
              "      <td>0</td>\n",
              "      <td>1</td>\n",
              "      <td>90</td>\n",
              "      <td>172</td>\n",
              "      <td>30</td>\n",
              "      <td>4</td>\n",
              "      <td>0</td>\n",
              "      <td>0</td>\n",
              "      <td>0</td>\n",
              "      <td>1</td>\n",
              "    </tr>\n",
              "    <tr>\n",
              "      <th>1</th>\n",
              "      <td>7</td>\n",
              "      <td>3</td>\n",
              "      <td>1</td>\n",
              "      <td>118</td>\n",
              "      <td>13</td>\n",
              "      <td>18</td>\n",
              "      <td>50</td>\n",
              "      <td>239554</td>\n",
              "      <td>97</td>\n",
              "      <td>1</td>\n",
              "      <td>1</td>\n",
              "      <td>1</td>\n",
              "      <td>1</td>\n",
              "      <td>0</td>\n",
              "      <td>0</td>\n",
              "      <td>98</td>\n",
              "      <td>178</td>\n",
              "      <td>31</td>\n",
              "      <td>0</td>\n",
              "      <td>0</td>\n",
              "      <td>0</td>\n",
              "      <td>0</td>\n",
              "      <td>0</td>\n",
              "    </tr>\n",
              "    <tr>\n",
              "      <th>2</th>\n",
              "      <td>7</td>\n",
              "      <td>4</td>\n",
              "      <td>1</td>\n",
              "      <td>179</td>\n",
              "      <td>51</td>\n",
              "      <td>18</td>\n",
              "      <td>38</td>\n",
              "      <td>239554</td>\n",
              "      <td>97</td>\n",
              "      <td>0</td>\n",
              "      <td>1</td>\n",
              "      <td>0</td>\n",
              "      <td>1</td>\n",
              "      <td>0</td>\n",
              "      <td>0</td>\n",
              "      <td>89</td>\n",
              "      <td>170</td>\n",
              "      <td>31</td>\n",
              "      <td>2</td>\n",
              "      <td>0</td>\n",
              "      <td>0</td>\n",
              "      <td>0</td>\n",
              "      <td>1</td>\n",
              "    </tr>\n",
              "    <tr>\n",
              "      <th>3</th>\n",
              "      <td>7</td>\n",
              "      <td>5</td>\n",
              "      <td>1</td>\n",
              "      <td>279</td>\n",
              "      <td>5</td>\n",
              "      <td>14</td>\n",
              "      <td>39</td>\n",
              "      <td>239554</td>\n",
              "      <td>97</td>\n",
              "      <td>0</td>\n",
              "      <td>1</td>\n",
              "      <td>2</td>\n",
              "      <td>1</td>\n",
              "      <td>1</td>\n",
              "      <td>0</td>\n",
              "      <td>68</td>\n",
              "      <td>168</td>\n",
              "      <td>24</td>\n",
              "      <td>4</td>\n",
              "      <td>1</td>\n",
              "      <td>0</td>\n",
              "      <td>0</td>\n",
              "      <td>0</td>\n",
              "    </tr>\n",
              "    <tr>\n",
              "      <th>4</th>\n",
              "      <td>7</td>\n",
              "      <td>5</td>\n",
              "      <td>1</td>\n",
              "      <td>289</td>\n",
              "      <td>36</td>\n",
              "      <td>13</td>\n",
              "      <td>33</td>\n",
              "      <td>239554</td>\n",
              "      <td>97</td>\n",
              "      <td>0</td>\n",
              "      <td>1</td>\n",
              "      <td>2</td>\n",
              "      <td>1</td>\n",
              "      <td>0</td>\n",
              "      <td>1</td>\n",
              "      <td>90</td>\n",
              "      <td>172</td>\n",
              "      <td>30</td>\n",
              "      <td>2</td>\n",
              "      <td>0</td>\n",
              "      <td>0</td>\n",
              "      <td>0</td>\n",
              "      <td>1</td>\n",
              "    </tr>\n",
              "  </tbody>\n",
              "</table>\n",
              "</div>"
            ],
            "text/plain": [
              "   Month of absence  Day of the week  Seasons  Transportation expense  \\\n",
              "0                 7                3        1                     289   \n",
              "1                 7                3        1                     118   \n",
              "2                 7                4        1                     179   \n",
              "3                 7                5        1                     279   \n",
              "4                 7                5        1                     289   \n",
              "\n",
              "   Distance from Residence to Work  Service time  Age  Work load Average/day   \\\n",
              "0                               36            13   33                  239554   \n",
              "1                               13            18   50                  239554   \n",
              "2                               51            18   38                  239554   \n",
              "3                                5            14   39                  239554   \n",
              "4                               36            13   33                  239554   \n",
              "\n",
              "   Hit target  Disciplinary failure  Education  Son  Social drinker  \\\n",
              "0          97                     0          1    2               1   \n",
              "1          97                     1          1    1               1   \n",
              "2          97                     0          1    0               1   \n",
              "3          97                     0          1    2               1   \n",
              "4          97                     0          1    2               1   \n",
              "\n",
              "   Social smoker  Pet  Weight  Height  Body mass index  \\\n",
              "0              0    1      90     172               30   \n",
              "1              0    0      98     178               31   \n",
              "2              0    0      89     170               31   \n",
              "3              1    0      68     168               24   \n",
              "4              0    1      90     172               30   \n",
              "\n",
              "   Absenteeism time in hours  0  1  2  3  \n",
              "0                          4  0  0  0  1  \n",
              "1                          0  0  0  0  0  \n",
              "2                          2  0  0  0  1  \n",
              "3                          4  1  0  0  0  \n",
              "4                          2  0  0  0  1  "
            ]
          },
          "metadata": {
            "tags": []
          },
          "execution_count": 28
        }
      ]
    },
    {
      "cell_type": "code",
      "metadata": {
        "colab": {
          "base_uri": "https://localhost:8080/"
        },
        "id": "gayZ5QYBvYOZ",
        "outputId": "d2d2ce08-72e0-4e1f-ba4e-e78b0a894d5f"
      },
      "source": [
        "columns = list(df.columns)\n",
        "print(columns)\n",
        "print(df.shape)"
      ],
      "execution_count": 29,
      "outputs": [
        {
          "output_type": "stream",
          "text": [
            "['Month of absence', 'Day of the week', 'Seasons', 'Transportation expense', 'Distance from Residence to Work', 'Service time', 'Age', 'Work load Average/day ', 'Hit target', 'Disciplinary failure', 'Education', 'Son', 'Social drinker', 'Social smoker', 'Pet', 'Weight', 'Height', 'Body mass index', 'Absenteeism time in hours', 0, 1, 2, 3]\n",
            "(740, 23)\n"
          ],
          "name": "stdout"
        }
      ]
    },
    {
      "cell_type": "code",
      "metadata": {
        "id": "Xg7PhCRsvYT9"
      },
      "source": [
        "#Rearranging the Columns:\n",
        "column_names = ['Month of absence', 'Day of the week', 'Seasons', 'Transportation expense', 'Distance from Residence to Work', 'Service time', 'Age', 'Work load Average/day ', 'Hit target', 'Disciplinary failure', 'Education', 'Son', 'Social drinker', 'Social smoker', 'Pet', 'Weight', 'Height', 'Body mass index', 'Absenteeism time in hours', 'Reason_1', 'Reason_2', 'Reason_3', 'Reason_4']"
      ],
      "execution_count": 30,
      "outputs": []
    },
    {
      "cell_type": "code",
      "metadata": {
        "id": "aIdnUdRqvYXN"
      },
      "source": [
        "df.columns = column_names"
      ],
      "execution_count": 31,
      "outputs": []
    },
    {
      "cell_type": "code",
      "metadata": {
        "colab": {
          "base_uri": "https://localhost:8080/",
          "height": 266
        },
        "id": "hRunGOJ_vYZP",
        "outputId": "7c47f4a9-458c-444b-b1e6-b2b0c895341e"
      },
      "source": [
        "df.head()"
      ],
      "execution_count": 32,
      "outputs": [
        {
          "output_type": "execute_result",
          "data": {
            "text/html": [
              "<div>\n",
              "<style scoped>\n",
              "    .dataframe tbody tr th:only-of-type {\n",
              "        vertical-align: middle;\n",
              "    }\n",
              "\n",
              "    .dataframe tbody tr th {\n",
              "        vertical-align: top;\n",
              "    }\n",
              "\n",
              "    .dataframe thead th {\n",
              "        text-align: right;\n",
              "    }\n",
              "</style>\n",
              "<table border=\"1\" class=\"dataframe\">\n",
              "  <thead>\n",
              "    <tr style=\"text-align: right;\">\n",
              "      <th></th>\n",
              "      <th>Month of absence</th>\n",
              "      <th>Day of the week</th>\n",
              "      <th>Seasons</th>\n",
              "      <th>Transportation expense</th>\n",
              "      <th>Distance from Residence to Work</th>\n",
              "      <th>Service time</th>\n",
              "      <th>Age</th>\n",
              "      <th>Work load Average/day</th>\n",
              "      <th>Hit target</th>\n",
              "      <th>Disciplinary failure</th>\n",
              "      <th>Education</th>\n",
              "      <th>Son</th>\n",
              "      <th>Social drinker</th>\n",
              "      <th>Social smoker</th>\n",
              "      <th>Pet</th>\n",
              "      <th>Weight</th>\n",
              "      <th>Height</th>\n",
              "      <th>Body mass index</th>\n",
              "      <th>Absenteeism time in hours</th>\n",
              "      <th>Reason_1</th>\n",
              "      <th>Reason_2</th>\n",
              "      <th>Reason_3</th>\n",
              "      <th>Reason_4</th>\n",
              "    </tr>\n",
              "  </thead>\n",
              "  <tbody>\n",
              "    <tr>\n",
              "      <th>0</th>\n",
              "      <td>7</td>\n",
              "      <td>3</td>\n",
              "      <td>1</td>\n",
              "      <td>289</td>\n",
              "      <td>36</td>\n",
              "      <td>13</td>\n",
              "      <td>33</td>\n",
              "      <td>239554</td>\n",
              "      <td>97</td>\n",
              "      <td>0</td>\n",
              "      <td>1</td>\n",
              "      <td>2</td>\n",
              "      <td>1</td>\n",
              "      <td>0</td>\n",
              "      <td>1</td>\n",
              "      <td>90</td>\n",
              "      <td>172</td>\n",
              "      <td>30</td>\n",
              "      <td>4</td>\n",
              "      <td>0</td>\n",
              "      <td>0</td>\n",
              "      <td>0</td>\n",
              "      <td>1</td>\n",
              "    </tr>\n",
              "    <tr>\n",
              "      <th>1</th>\n",
              "      <td>7</td>\n",
              "      <td>3</td>\n",
              "      <td>1</td>\n",
              "      <td>118</td>\n",
              "      <td>13</td>\n",
              "      <td>18</td>\n",
              "      <td>50</td>\n",
              "      <td>239554</td>\n",
              "      <td>97</td>\n",
              "      <td>1</td>\n",
              "      <td>1</td>\n",
              "      <td>1</td>\n",
              "      <td>1</td>\n",
              "      <td>0</td>\n",
              "      <td>0</td>\n",
              "      <td>98</td>\n",
              "      <td>178</td>\n",
              "      <td>31</td>\n",
              "      <td>0</td>\n",
              "      <td>0</td>\n",
              "      <td>0</td>\n",
              "      <td>0</td>\n",
              "      <td>0</td>\n",
              "    </tr>\n",
              "    <tr>\n",
              "      <th>2</th>\n",
              "      <td>7</td>\n",
              "      <td>4</td>\n",
              "      <td>1</td>\n",
              "      <td>179</td>\n",
              "      <td>51</td>\n",
              "      <td>18</td>\n",
              "      <td>38</td>\n",
              "      <td>239554</td>\n",
              "      <td>97</td>\n",
              "      <td>0</td>\n",
              "      <td>1</td>\n",
              "      <td>0</td>\n",
              "      <td>1</td>\n",
              "      <td>0</td>\n",
              "      <td>0</td>\n",
              "      <td>89</td>\n",
              "      <td>170</td>\n",
              "      <td>31</td>\n",
              "      <td>2</td>\n",
              "      <td>0</td>\n",
              "      <td>0</td>\n",
              "      <td>0</td>\n",
              "      <td>1</td>\n",
              "    </tr>\n",
              "    <tr>\n",
              "      <th>3</th>\n",
              "      <td>7</td>\n",
              "      <td>5</td>\n",
              "      <td>1</td>\n",
              "      <td>279</td>\n",
              "      <td>5</td>\n",
              "      <td>14</td>\n",
              "      <td>39</td>\n",
              "      <td>239554</td>\n",
              "      <td>97</td>\n",
              "      <td>0</td>\n",
              "      <td>1</td>\n",
              "      <td>2</td>\n",
              "      <td>1</td>\n",
              "      <td>1</td>\n",
              "      <td>0</td>\n",
              "      <td>68</td>\n",
              "      <td>168</td>\n",
              "      <td>24</td>\n",
              "      <td>4</td>\n",
              "      <td>1</td>\n",
              "      <td>0</td>\n",
              "      <td>0</td>\n",
              "      <td>0</td>\n",
              "    </tr>\n",
              "    <tr>\n",
              "      <th>4</th>\n",
              "      <td>7</td>\n",
              "      <td>5</td>\n",
              "      <td>1</td>\n",
              "      <td>289</td>\n",
              "      <td>36</td>\n",
              "      <td>13</td>\n",
              "      <td>33</td>\n",
              "      <td>239554</td>\n",
              "      <td>97</td>\n",
              "      <td>0</td>\n",
              "      <td>1</td>\n",
              "      <td>2</td>\n",
              "      <td>1</td>\n",
              "      <td>0</td>\n",
              "      <td>1</td>\n",
              "      <td>90</td>\n",
              "      <td>172</td>\n",
              "      <td>30</td>\n",
              "      <td>2</td>\n",
              "      <td>0</td>\n",
              "      <td>0</td>\n",
              "      <td>0</td>\n",
              "      <td>1</td>\n",
              "    </tr>\n",
              "  </tbody>\n",
              "</table>\n",
              "</div>"
            ],
            "text/plain": [
              "   Month of absence  Day of the week  Seasons  Transportation expense  \\\n",
              "0                 7                3        1                     289   \n",
              "1                 7                3        1                     118   \n",
              "2                 7                4        1                     179   \n",
              "3                 7                5        1                     279   \n",
              "4                 7                5        1                     289   \n",
              "\n",
              "   Distance from Residence to Work  Service time  Age  Work load Average/day   \\\n",
              "0                               36            13   33                  239554   \n",
              "1                               13            18   50                  239554   \n",
              "2                               51            18   38                  239554   \n",
              "3                                5            14   39                  239554   \n",
              "4                               36            13   33                  239554   \n",
              "\n",
              "   Hit target  Disciplinary failure  Education  Son  Social drinker  \\\n",
              "0          97                     0          1    2               1   \n",
              "1          97                     1          1    1               1   \n",
              "2          97                     0          1    0               1   \n",
              "3          97                     0          1    2               1   \n",
              "4          97                     0          1    2               1   \n",
              "\n",
              "   Social smoker  Pet  Weight  Height  Body mass index  \\\n",
              "0              0    1      90     172               30   \n",
              "1              0    0      98     178               31   \n",
              "2              0    0      89     170               31   \n",
              "3              1    0      68     168               24   \n",
              "4              0    1      90     172               30   \n",
              "\n",
              "   Absenteeism time in hours  Reason_1  Reason_2  Reason_3  Reason_4  \n",
              "0                          4         0         0         0         1  \n",
              "1                          0         0         0         0         0  \n",
              "2                          2         0         0         0         1  \n",
              "3                          4         1         0         0         0  \n",
              "4                          2         0         0         0         1  "
            ]
          },
          "metadata": {
            "tags": []
          },
          "execution_count": 32
        }
      ]
    },
    {
      "cell_type": "code",
      "metadata": {
        "id": "oT5Jvp5SvYcG"
      },
      "source": [
        "#Reordering Columns:\n",
        "column_names_reordered = ['Reason_1', 'Reason_2', 'Reason_3', 'Reason_4', 'Month of absence', 'Day of the week', 'Seasons', 'Transportation expense', 'Distance from Residence to Work', 'Service time', 'Age', 'Work load Average/day ', 'Hit target', 'Disciplinary failure', 'Education', 'Son', 'Social drinker', 'Social smoker', 'Pet', 'Weight', 'Height', 'Body mass index', 'Absenteeism time in hours']"
      ],
      "execution_count": 33,
      "outputs": []
    },
    {
      "cell_type": "code",
      "metadata": {
        "id": "rMprHespvYev"
      },
      "source": [
        "df = df[column_names_reordered]"
      ],
      "execution_count": 34,
      "outputs": []
    },
    {
      "cell_type": "code",
      "metadata": {
        "colab": {
          "base_uri": "https://localhost:8080/",
          "height": 266
        },
        "id": "PNOwGE7DvYhk",
        "outputId": "7e5a59a7-d49b-44cb-823c-1ff86441acd7"
      },
      "source": [
        "df.head()"
      ],
      "execution_count": 35,
      "outputs": [
        {
          "output_type": "execute_result",
          "data": {
            "text/html": [
              "<div>\n",
              "<style scoped>\n",
              "    .dataframe tbody tr th:only-of-type {\n",
              "        vertical-align: middle;\n",
              "    }\n",
              "\n",
              "    .dataframe tbody tr th {\n",
              "        vertical-align: top;\n",
              "    }\n",
              "\n",
              "    .dataframe thead th {\n",
              "        text-align: right;\n",
              "    }\n",
              "</style>\n",
              "<table border=\"1\" class=\"dataframe\">\n",
              "  <thead>\n",
              "    <tr style=\"text-align: right;\">\n",
              "      <th></th>\n",
              "      <th>Reason_1</th>\n",
              "      <th>Reason_2</th>\n",
              "      <th>Reason_3</th>\n",
              "      <th>Reason_4</th>\n",
              "      <th>Month of absence</th>\n",
              "      <th>Day of the week</th>\n",
              "      <th>Seasons</th>\n",
              "      <th>Transportation expense</th>\n",
              "      <th>Distance from Residence to Work</th>\n",
              "      <th>Service time</th>\n",
              "      <th>Age</th>\n",
              "      <th>Work load Average/day</th>\n",
              "      <th>Hit target</th>\n",
              "      <th>Disciplinary failure</th>\n",
              "      <th>Education</th>\n",
              "      <th>Son</th>\n",
              "      <th>Social drinker</th>\n",
              "      <th>Social smoker</th>\n",
              "      <th>Pet</th>\n",
              "      <th>Weight</th>\n",
              "      <th>Height</th>\n",
              "      <th>Body mass index</th>\n",
              "      <th>Absenteeism time in hours</th>\n",
              "    </tr>\n",
              "  </thead>\n",
              "  <tbody>\n",
              "    <tr>\n",
              "      <th>0</th>\n",
              "      <td>0</td>\n",
              "      <td>0</td>\n",
              "      <td>0</td>\n",
              "      <td>1</td>\n",
              "      <td>7</td>\n",
              "      <td>3</td>\n",
              "      <td>1</td>\n",
              "      <td>289</td>\n",
              "      <td>36</td>\n",
              "      <td>13</td>\n",
              "      <td>33</td>\n",
              "      <td>239554</td>\n",
              "      <td>97</td>\n",
              "      <td>0</td>\n",
              "      <td>1</td>\n",
              "      <td>2</td>\n",
              "      <td>1</td>\n",
              "      <td>0</td>\n",
              "      <td>1</td>\n",
              "      <td>90</td>\n",
              "      <td>172</td>\n",
              "      <td>30</td>\n",
              "      <td>4</td>\n",
              "    </tr>\n",
              "    <tr>\n",
              "      <th>1</th>\n",
              "      <td>0</td>\n",
              "      <td>0</td>\n",
              "      <td>0</td>\n",
              "      <td>0</td>\n",
              "      <td>7</td>\n",
              "      <td>3</td>\n",
              "      <td>1</td>\n",
              "      <td>118</td>\n",
              "      <td>13</td>\n",
              "      <td>18</td>\n",
              "      <td>50</td>\n",
              "      <td>239554</td>\n",
              "      <td>97</td>\n",
              "      <td>1</td>\n",
              "      <td>1</td>\n",
              "      <td>1</td>\n",
              "      <td>1</td>\n",
              "      <td>0</td>\n",
              "      <td>0</td>\n",
              "      <td>98</td>\n",
              "      <td>178</td>\n",
              "      <td>31</td>\n",
              "      <td>0</td>\n",
              "    </tr>\n",
              "    <tr>\n",
              "      <th>2</th>\n",
              "      <td>0</td>\n",
              "      <td>0</td>\n",
              "      <td>0</td>\n",
              "      <td>1</td>\n",
              "      <td>7</td>\n",
              "      <td>4</td>\n",
              "      <td>1</td>\n",
              "      <td>179</td>\n",
              "      <td>51</td>\n",
              "      <td>18</td>\n",
              "      <td>38</td>\n",
              "      <td>239554</td>\n",
              "      <td>97</td>\n",
              "      <td>0</td>\n",
              "      <td>1</td>\n",
              "      <td>0</td>\n",
              "      <td>1</td>\n",
              "      <td>0</td>\n",
              "      <td>0</td>\n",
              "      <td>89</td>\n",
              "      <td>170</td>\n",
              "      <td>31</td>\n",
              "      <td>2</td>\n",
              "    </tr>\n",
              "    <tr>\n",
              "      <th>3</th>\n",
              "      <td>1</td>\n",
              "      <td>0</td>\n",
              "      <td>0</td>\n",
              "      <td>0</td>\n",
              "      <td>7</td>\n",
              "      <td>5</td>\n",
              "      <td>1</td>\n",
              "      <td>279</td>\n",
              "      <td>5</td>\n",
              "      <td>14</td>\n",
              "      <td>39</td>\n",
              "      <td>239554</td>\n",
              "      <td>97</td>\n",
              "      <td>0</td>\n",
              "      <td>1</td>\n",
              "      <td>2</td>\n",
              "      <td>1</td>\n",
              "      <td>1</td>\n",
              "      <td>0</td>\n",
              "      <td>68</td>\n",
              "      <td>168</td>\n",
              "      <td>24</td>\n",
              "      <td>4</td>\n",
              "    </tr>\n",
              "    <tr>\n",
              "      <th>4</th>\n",
              "      <td>0</td>\n",
              "      <td>0</td>\n",
              "      <td>0</td>\n",
              "      <td>1</td>\n",
              "      <td>7</td>\n",
              "      <td>5</td>\n",
              "      <td>1</td>\n",
              "      <td>289</td>\n",
              "      <td>36</td>\n",
              "      <td>13</td>\n",
              "      <td>33</td>\n",
              "      <td>239554</td>\n",
              "      <td>97</td>\n",
              "      <td>0</td>\n",
              "      <td>1</td>\n",
              "      <td>2</td>\n",
              "      <td>1</td>\n",
              "      <td>0</td>\n",
              "      <td>1</td>\n",
              "      <td>90</td>\n",
              "      <td>172</td>\n",
              "      <td>30</td>\n",
              "      <td>2</td>\n",
              "    </tr>\n",
              "  </tbody>\n",
              "</table>\n",
              "</div>"
            ],
            "text/plain": [
              "   Reason_1  Reason_2  Reason_3  Reason_4  Month of absence  Day of the week  \\\n",
              "0         0         0         0         1                 7                3   \n",
              "1         0         0         0         0                 7                3   \n",
              "2         0         0         0         1                 7                4   \n",
              "3         1         0         0         0                 7                5   \n",
              "4         0         0         0         1                 7                5   \n",
              "\n",
              "   Seasons  Transportation expense  Distance from Residence to Work  \\\n",
              "0        1                     289                               36   \n",
              "1        1                     118                               13   \n",
              "2        1                     179                               51   \n",
              "3        1                     279                                5   \n",
              "4        1                     289                               36   \n",
              "\n",
              "   Service time  Age  Work load Average/day   Hit target  \\\n",
              "0            13   33                  239554          97   \n",
              "1            18   50                  239554          97   \n",
              "2            18   38                  239554          97   \n",
              "3            14   39                  239554          97   \n",
              "4            13   33                  239554          97   \n",
              "\n",
              "   Disciplinary failure  Education  Son  Social drinker  Social smoker  Pet  \\\n",
              "0                     0          1    2               1              0    1   \n",
              "1                     1          1    1               1              0    0   \n",
              "2                     0          1    0               1              0    0   \n",
              "3                     0          1    2               1              1    0   \n",
              "4                     0          1    2               1              0    1   \n",
              "\n",
              "   Weight  Height  Body mass index  Absenteeism time in hours  \n",
              "0      90     172               30                          4  \n",
              "1      98     178               31                          0  \n",
              "2      89     170               31                          2  \n",
              "3      68     168               24                          4  \n",
              "4      90     172               30                          2  "
            ]
          },
          "metadata": {
            "tags": []
          },
          "execution_count": 35
        }
      ]
    },
    {
      "cell_type": "code",
      "metadata": {
        "colab": {
          "base_uri": "https://localhost:8080/"
        },
        "id": "j75C39XovYj_",
        "outputId": "fceb54c9-aa6d-4676-8670-9d086726fd70"
      },
      "source": [
        "#checking the value count of some features:\n",
        "print(df['Education'].value_counts())"
      ],
      "execution_count": 36,
      "outputs": [
        {
          "output_type": "stream",
          "text": [
            "1    611\n",
            "3     79\n",
            "2     46\n",
            "4      4\n",
            "Name: Education, dtype: int64\n"
          ],
          "name": "stdout"
        }
      ]
    },
    {
      "cell_type": "code",
      "metadata": {
        "id": "5pzQ_D7SvYmv"
      },
      "source": [
        "df['Education'] = df['Education'].map({1:0,3:1,2:1,4:1})"
      ],
      "execution_count": 37,
      "outputs": []
    },
    {
      "cell_type": "code",
      "metadata": {
        "colab": {
          "base_uri": "https://localhost:8080/"
        },
        "id": "yoOEIZ5svYpF",
        "outputId": "365536e7-c5ae-48a8-a1f8-79262fb498c7"
      },
      "source": [
        "df['Education'].value_counts()"
      ],
      "execution_count": 38,
      "outputs": [
        {
          "output_type": "execute_result",
          "data": {
            "text/plain": [
              "0    611\n",
              "1    129\n",
              "Name: Education, dtype: int64"
            ]
          },
          "metadata": {
            "tags": []
          },
          "execution_count": 38
        }
      ]
    },
    {
      "cell_type": "code",
      "metadata": {
        "colab": {
          "base_uri": "https://localhost:8080/"
        },
        "id": "6TH6zOb6vYr_",
        "outputId": "7edb70b1-ab15-4cad-fe56-8fa6b95094cc"
      },
      "source": [
        "#Checking value count for target variable:\n",
        "df['Absenteeism time in hours'].value_counts()"
      ],
      "execution_count": 39,
      "outputs": [
        {
          "output_type": "execute_result",
          "data": {
            "text/plain": [
              "8      208\n",
              "2      157\n",
              "3      112\n",
              "1       88\n",
              "4       60\n",
              "0       44\n",
              "16      19\n",
              "24      16\n",
              "40       7\n",
              "5        7\n",
              "32       6\n",
              "64       3\n",
              "80       3\n",
              "120      3\n",
              "112      2\n",
              "56       2\n",
              "48       1\n",
              "7        1\n",
              "104      1\n",
              "Name: Absenteeism time in hours, dtype: int64"
            ]
          },
          "metadata": {
            "tags": []
          },
          "execution_count": 39
        }
      ]
    },
    {
      "cell_type": "code",
      "metadata": {
        "colab": {
          "base_uri": "https://localhost:8080/"
        },
        "id": "iXGZ3JhLvYug",
        "outputId": "33176458-f395-4e3a-ba22-b1444efad8c5"
      },
      "source": [
        "#lLets work on Target Variable:\n",
        "df['Absenteeism time in hours'].median()"
      ],
      "execution_count": 40,
      "outputs": [
        {
          "output_type": "execute_result",
          "data": {
            "text/plain": [
              "3.0"
            ]
          },
          "metadata": {
            "tags": []
          },
          "execution_count": 40
        }
      ]
    },
    {
      "cell_type": "code",
      "metadata": {
        "id": "3mqTcDSc2Q4L"
      },
      "source": [
        "#Lets consider 3 as threhold value all values below 3 is 0 and above 3 is 1:\n",
        "output = np.where(df['Absenteeism time in hours']>df['Absenteeism time in hours'].median(), 1,0)"
      ],
      "execution_count": 41,
      "outputs": []
    },
    {
      "cell_type": "code",
      "metadata": {
        "id": "svZrQyKevY2n"
      },
      "source": [
        "df['Absenteesim'] = output\n",
        "df.drop('Absenteeism time in hours',axis=1,inplace=True)"
      ],
      "execution_count": 42,
      "outputs": []
    },
    {
      "cell_type": "code",
      "metadata": {
        "colab": {
          "base_uri": "https://localhost:8080/",
          "height": 266
        },
        "id": "zGS21XiXvY5V",
        "outputId": "27e78e6a-f6cf-44e3-ae58-5f17b046ddce"
      },
      "source": [
        "df.head()"
      ],
      "execution_count": 43,
      "outputs": [
        {
          "output_type": "execute_result",
          "data": {
            "text/html": [
              "<div>\n",
              "<style scoped>\n",
              "    .dataframe tbody tr th:only-of-type {\n",
              "        vertical-align: middle;\n",
              "    }\n",
              "\n",
              "    .dataframe tbody tr th {\n",
              "        vertical-align: top;\n",
              "    }\n",
              "\n",
              "    .dataframe thead th {\n",
              "        text-align: right;\n",
              "    }\n",
              "</style>\n",
              "<table border=\"1\" class=\"dataframe\">\n",
              "  <thead>\n",
              "    <tr style=\"text-align: right;\">\n",
              "      <th></th>\n",
              "      <th>Reason_1</th>\n",
              "      <th>Reason_2</th>\n",
              "      <th>Reason_3</th>\n",
              "      <th>Reason_4</th>\n",
              "      <th>Month of absence</th>\n",
              "      <th>Day of the week</th>\n",
              "      <th>Seasons</th>\n",
              "      <th>Transportation expense</th>\n",
              "      <th>Distance from Residence to Work</th>\n",
              "      <th>Service time</th>\n",
              "      <th>Age</th>\n",
              "      <th>Work load Average/day</th>\n",
              "      <th>Hit target</th>\n",
              "      <th>Disciplinary failure</th>\n",
              "      <th>Education</th>\n",
              "      <th>Son</th>\n",
              "      <th>Social drinker</th>\n",
              "      <th>Social smoker</th>\n",
              "      <th>Pet</th>\n",
              "      <th>Weight</th>\n",
              "      <th>Height</th>\n",
              "      <th>Body mass index</th>\n",
              "      <th>Absenteesim</th>\n",
              "    </tr>\n",
              "  </thead>\n",
              "  <tbody>\n",
              "    <tr>\n",
              "      <th>0</th>\n",
              "      <td>0</td>\n",
              "      <td>0</td>\n",
              "      <td>0</td>\n",
              "      <td>1</td>\n",
              "      <td>7</td>\n",
              "      <td>3</td>\n",
              "      <td>1</td>\n",
              "      <td>289</td>\n",
              "      <td>36</td>\n",
              "      <td>13</td>\n",
              "      <td>33</td>\n",
              "      <td>239554</td>\n",
              "      <td>97</td>\n",
              "      <td>0</td>\n",
              "      <td>0</td>\n",
              "      <td>2</td>\n",
              "      <td>1</td>\n",
              "      <td>0</td>\n",
              "      <td>1</td>\n",
              "      <td>90</td>\n",
              "      <td>172</td>\n",
              "      <td>30</td>\n",
              "      <td>1</td>\n",
              "    </tr>\n",
              "    <tr>\n",
              "      <th>1</th>\n",
              "      <td>0</td>\n",
              "      <td>0</td>\n",
              "      <td>0</td>\n",
              "      <td>0</td>\n",
              "      <td>7</td>\n",
              "      <td>3</td>\n",
              "      <td>1</td>\n",
              "      <td>118</td>\n",
              "      <td>13</td>\n",
              "      <td>18</td>\n",
              "      <td>50</td>\n",
              "      <td>239554</td>\n",
              "      <td>97</td>\n",
              "      <td>1</td>\n",
              "      <td>0</td>\n",
              "      <td>1</td>\n",
              "      <td>1</td>\n",
              "      <td>0</td>\n",
              "      <td>0</td>\n",
              "      <td>98</td>\n",
              "      <td>178</td>\n",
              "      <td>31</td>\n",
              "      <td>0</td>\n",
              "    </tr>\n",
              "    <tr>\n",
              "      <th>2</th>\n",
              "      <td>0</td>\n",
              "      <td>0</td>\n",
              "      <td>0</td>\n",
              "      <td>1</td>\n",
              "      <td>7</td>\n",
              "      <td>4</td>\n",
              "      <td>1</td>\n",
              "      <td>179</td>\n",
              "      <td>51</td>\n",
              "      <td>18</td>\n",
              "      <td>38</td>\n",
              "      <td>239554</td>\n",
              "      <td>97</td>\n",
              "      <td>0</td>\n",
              "      <td>0</td>\n",
              "      <td>0</td>\n",
              "      <td>1</td>\n",
              "      <td>0</td>\n",
              "      <td>0</td>\n",
              "      <td>89</td>\n",
              "      <td>170</td>\n",
              "      <td>31</td>\n",
              "      <td>0</td>\n",
              "    </tr>\n",
              "    <tr>\n",
              "      <th>3</th>\n",
              "      <td>1</td>\n",
              "      <td>0</td>\n",
              "      <td>0</td>\n",
              "      <td>0</td>\n",
              "      <td>7</td>\n",
              "      <td>5</td>\n",
              "      <td>1</td>\n",
              "      <td>279</td>\n",
              "      <td>5</td>\n",
              "      <td>14</td>\n",
              "      <td>39</td>\n",
              "      <td>239554</td>\n",
              "      <td>97</td>\n",
              "      <td>0</td>\n",
              "      <td>0</td>\n",
              "      <td>2</td>\n",
              "      <td>1</td>\n",
              "      <td>1</td>\n",
              "      <td>0</td>\n",
              "      <td>68</td>\n",
              "      <td>168</td>\n",
              "      <td>24</td>\n",
              "      <td>1</td>\n",
              "    </tr>\n",
              "    <tr>\n",
              "      <th>4</th>\n",
              "      <td>0</td>\n",
              "      <td>0</td>\n",
              "      <td>0</td>\n",
              "      <td>1</td>\n",
              "      <td>7</td>\n",
              "      <td>5</td>\n",
              "      <td>1</td>\n",
              "      <td>289</td>\n",
              "      <td>36</td>\n",
              "      <td>13</td>\n",
              "      <td>33</td>\n",
              "      <td>239554</td>\n",
              "      <td>97</td>\n",
              "      <td>0</td>\n",
              "      <td>0</td>\n",
              "      <td>2</td>\n",
              "      <td>1</td>\n",
              "      <td>0</td>\n",
              "      <td>1</td>\n",
              "      <td>90</td>\n",
              "      <td>172</td>\n",
              "      <td>30</td>\n",
              "      <td>0</td>\n",
              "    </tr>\n",
              "  </tbody>\n",
              "</table>\n",
              "</div>"
            ],
            "text/plain": [
              "   Reason_1  Reason_2  Reason_3  Reason_4  Month of absence  Day of the week  \\\n",
              "0         0         0         0         1                 7                3   \n",
              "1         0         0         0         0                 7                3   \n",
              "2         0         0         0         1                 7                4   \n",
              "3         1         0         0         0                 7                5   \n",
              "4         0         0         0         1                 7                5   \n",
              "\n",
              "   Seasons  Transportation expense  Distance from Residence to Work  \\\n",
              "0        1                     289                               36   \n",
              "1        1                     118                               13   \n",
              "2        1                     179                               51   \n",
              "3        1                     279                                5   \n",
              "4        1                     289                               36   \n",
              "\n",
              "   Service time  Age  Work load Average/day   Hit target  \\\n",
              "0            13   33                  239554          97   \n",
              "1            18   50                  239554          97   \n",
              "2            18   38                  239554          97   \n",
              "3            14   39                  239554          97   \n",
              "4            13   33                  239554          97   \n",
              "\n",
              "   Disciplinary failure  Education  Son  Social drinker  Social smoker  Pet  \\\n",
              "0                     0          0    2               1              0    1   \n",
              "1                     1          0    1               1              0    0   \n",
              "2                     0          0    0               1              0    0   \n",
              "3                     0          0    2               1              1    0   \n",
              "4                     0          0    2               1              0    1   \n",
              "\n",
              "   Weight  Height  Body mass index  Absenteesim  \n",
              "0      90     172               30            1  \n",
              "1      98     178               31            0  \n",
              "2      89     170               31            0  \n",
              "3      68     168               24            1  \n",
              "4      90     172               30            0  "
            ]
          },
          "metadata": {
            "tags": []
          },
          "execution_count": 43
        }
      ]
    },
    {
      "cell_type": "code",
      "metadata": {
        "colab": {
          "base_uri": "https://localhost:8080/",
          "height": 354
        },
        "id": "PQ7KPXqXvY8T",
        "outputId": "b45ac52f-fd58-4f7f-dd54-a7fa50470bf4"
      },
      "source": [
        "#Doing Statistical Analysis by using Describe Function\n",
        "#Checking interquantile range.\n",
        "#Checking mean median mode\n",
        "df.describe()"
      ],
      "execution_count": 44,
      "outputs": [
        {
          "output_type": "execute_result",
          "data": {
            "text/html": [
              "<div>\n",
              "<style scoped>\n",
              "    .dataframe tbody tr th:only-of-type {\n",
              "        vertical-align: middle;\n",
              "    }\n",
              "\n",
              "    .dataframe tbody tr th {\n",
              "        vertical-align: top;\n",
              "    }\n",
              "\n",
              "    .dataframe thead th {\n",
              "        text-align: right;\n",
              "    }\n",
              "</style>\n",
              "<table border=\"1\" class=\"dataframe\">\n",
              "  <thead>\n",
              "    <tr style=\"text-align: right;\">\n",
              "      <th></th>\n",
              "      <th>Reason_1</th>\n",
              "      <th>Reason_2</th>\n",
              "      <th>Reason_3</th>\n",
              "      <th>Reason_4</th>\n",
              "      <th>Month of absence</th>\n",
              "      <th>Day of the week</th>\n",
              "      <th>Seasons</th>\n",
              "      <th>Transportation expense</th>\n",
              "      <th>Distance from Residence to Work</th>\n",
              "      <th>Service time</th>\n",
              "      <th>Age</th>\n",
              "      <th>Work load Average/day</th>\n",
              "      <th>Hit target</th>\n",
              "      <th>Disciplinary failure</th>\n",
              "      <th>Education</th>\n",
              "      <th>Son</th>\n",
              "      <th>Social drinker</th>\n",
              "      <th>Social smoker</th>\n",
              "      <th>Pet</th>\n",
              "      <th>Weight</th>\n",
              "      <th>Height</th>\n",
              "      <th>Body mass index</th>\n",
              "      <th>Absenteesim</th>\n",
              "    </tr>\n",
              "  </thead>\n",
              "  <tbody>\n",
              "    <tr>\n",
              "      <th>count</th>\n",
              "      <td>740.000000</td>\n",
              "      <td>740.000000</td>\n",
              "      <td>740.000000</td>\n",
              "      <td>740.000000</td>\n",
              "      <td>740.000000</td>\n",
              "      <td>740.000000</td>\n",
              "      <td>740.000000</td>\n",
              "      <td>740.000000</td>\n",
              "      <td>740.000000</td>\n",
              "      <td>740.000000</td>\n",
              "      <td>740.000000</td>\n",
              "      <td>740.000000</td>\n",
              "      <td>740.000000</td>\n",
              "      <td>740.000000</td>\n",
              "      <td>740.000000</td>\n",
              "      <td>740.000000</td>\n",
              "      <td>740.000000</td>\n",
              "      <td>740.000000</td>\n",
              "      <td>740.000000</td>\n",
              "      <td>740.000000</td>\n",
              "      <td>740.000000</td>\n",
              "      <td>740.000000</td>\n",
              "      <td>740.000000</td>\n",
              "    </tr>\n",
              "    <tr>\n",
              "      <th>mean</th>\n",
              "      <td>0.255405</td>\n",
              "      <td>0.008108</td>\n",
              "      <td>0.090541</td>\n",
              "      <td>0.587838</td>\n",
              "      <td>6.324324</td>\n",
              "      <td>3.914865</td>\n",
              "      <td>2.544595</td>\n",
              "      <td>221.329730</td>\n",
              "      <td>29.631081</td>\n",
              "      <td>12.554054</td>\n",
              "      <td>36.450000</td>\n",
              "      <td>271490.235135</td>\n",
              "      <td>94.587838</td>\n",
              "      <td>0.054054</td>\n",
              "      <td>0.174324</td>\n",
              "      <td>1.018919</td>\n",
              "      <td>0.567568</td>\n",
              "      <td>0.072973</td>\n",
              "      <td>0.745946</td>\n",
              "      <td>79.035135</td>\n",
              "      <td>172.114865</td>\n",
              "      <td>26.677027</td>\n",
              "      <td>0.458108</td>\n",
              "    </tr>\n",
              "    <tr>\n",
              "      <th>std</th>\n",
              "      <td>0.436384</td>\n",
              "      <td>0.089740</td>\n",
              "      <td>0.287149</td>\n",
              "      <td>0.492557</td>\n",
              "      <td>3.436287</td>\n",
              "      <td>1.421675</td>\n",
              "      <td>1.111831</td>\n",
              "      <td>66.952223</td>\n",
              "      <td>14.836788</td>\n",
              "      <td>4.384873</td>\n",
              "      <td>6.478772</td>\n",
              "      <td>39058.116188</td>\n",
              "      <td>3.779313</td>\n",
              "      <td>0.226277</td>\n",
              "      <td>0.379645</td>\n",
              "      <td>1.098489</td>\n",
              "      <td>0.495749</td>\n",
              "      <td>0.260268</td>\n",
              "      <td>1.318258</td>\n",
              "      <td>12.883211</td>\n",
              "      <td>6.034995</td>\n",
              "      <td>4.285452</td>\n",
              "      <td>0.498579</td>\n",
              "    </tr>\n",
              "    <tr>\n",
              "      <th>min</th>\n",
              "      <td>0.000000</td>\n",
              "      <td>0.000000</td>\n",
              "      <td>0.000000</td>\n",
              "      <td>0.000000</td>\n",
              "      <td>0.000000</td>\n",
              "      <td>2.000000</td>\n",
              "      <td>1.000000</td>\n",
              "      <td>118.000000</td>\n",
              "      <td>5.000000</td>\n",
              "      <td>1.000000</td>\n",
              "      <td>27.000000</td>\n",
              "      <td>205917.000000</td>\n",
              "      <td>81.000000</td>\n",
              "      <td>0.000000</td>\n",
              "      <td>0.000000</td>\n",
              "      <td>0.000000</td>\n",
              "      <td>0.000000</td>\n",
              "      <td>0.000000</td>\n",
              "      <td>0.000000</td>\n",
              "      <td>56.000000</td>\n",
              "      <td>163.000000</td>\n",
              "      <td>19.000000</td>\n",
              "      <td>0.000000</td>\n",
              "    </tr>\n",
              "    <tr>\n",
              "      <th>25%</th>\n",
              "      <td>0.000000</td>\n",
              "      <td>0.000000</td>\n",
              "      <td>0.000000</td>\n",
              "      <td>0.000000</td>\n",
              "      <td>3.000000</td>\n",
              "      <td>3.000000</td>\n",
              "      <td>2.000000</td>\n",
              "      <td>179.000000</td>\n",
              "      <td>16.000000</td>\n",
              "      <td>9.000000</td>\n",
              "      <td>31.000000</td>\n",
              "      <td>244387.000000</td>\n",
              "      <td>93.000000</td>\n",
              "      <td>0.000000</td>\n",
              "      <td>0.000000</td>\n",
              "      <td>0.000000</td>\n",
              "      <td>0.000000</td>\n",
              "      <td>0.000000</td>\n",
              "      <td>0.000000</td>\n",
              "      <td>69.000000</td>\n",
              "      <td>169.000000</td>\n",
              "      <td>24.000000</td>\n",
              "      <td>0.000000</td>\n",
              "    </tr>\n",
              "    <tr>\n",
              "      <th>50%</th>\n",
              "      <td>0.000000</td>\n",
              "      <td>0.000000</td>\n",
              "      <td>0.000000</td>\n",
              "      <td>1.000000</td>\n",
              "      <td>6.000000</td>\n",
              "      <td>4.000000</td>\n",
              "      <td>3.000000</td>\n",
              "      <td>225.000000</td>\n",
              "      <td>26.000000</td>\n",
              "      <td>13.000000</td>\n",
              "      <td>37.000000</td>\n",
              "      <td>264249.000000</td>\n",
              "      <td>95.000000</td>\n",
              "      <td>0.000000</td>\n",
              "      <td>0.000000</td>\n",
              "      <td>1.000000</td>\n",
              "      <td>1.000000</td>\n",
              "      <td>0.000000</td>\n",
              "      <td>0.000000</td>\n",
              "      <td>83.000000</td>\n",
              "      <td>170.000000</td>\n",
              "      <td>25.000000</td>\n",
              "      <td>0.000000</td>\n",
              "    </tr>\n",
              "    <tr>\n",
              "      <th>75%</th>\n",
              "      <td>1.000000</td>\n",
              "      <td>0.000000</td>\n",
              "      <td>0.000000</td>\n",
              "      <td>1.000000</td>\n",
              "      <td>9.000000</td>\n",
              "      <td>5.000000</td>\n",
              "      <td>4.000000</td>\n",
              "      <td>260.000000</td>\n",
              "      <td>50.000000</td>\n",
              "      <td>16.000000</td>\n",
              "      <td>40.000000</td>\n",
              "      <td>294217.000000</td>\n",
              "      <td>97.000000</td>\n",
              "      <td>0.000000</td>\n",
              "      <td>0.000000</td>\n",
              "      <td>2.000000</td>\n",
              "      <td>1.000000</td>\n",
              "      <td>0.000000</td>\n",
              "      <td>1.000000</td>\n",
              "      <td>89.000000</td>\n",
              "      <td>172.000000</td>\n",
              "      <td>31.000000</td>\n",
              "      <td>1.000000</td>\n",
              "    </tr>\n",
              "    <tr>\n",
              "      <th>max</th>\n",
              "      <td>1.000000</td>\n",
              "      <td>1.000000</td>\n",
              "      <td>1.000000</td>\n",
              "      <td>1.000000</td>\n",
              "      <td>12.000000</td>\n",
              "      <td>6.000000</td>\n",
              "      <td>4.000000</td>\n",
              "      <td>388.000000</td>\n",
              "      <td>52.000000</td>\n",
              "      <td>29.000000</td>\n",
              "      <td>58.000000</td>\n",
              "      <td>378884.000000</td>\n",
              "      <td>100.000000</td>\n",
              "      <td>1.000000</td>\n",
              "      <td>1.000000</td>\n",
              "      <td>4.000000</td>\n",
              "      <td>1.000000</td>\n",
              "      <td>1.000000</td>\n",
              "      <td>8.000000</td>\n",
              "      <td>108.000000</td>\n",
              "      <td>196.000000</td>\n",
              "      <td>38.000000</td>\n",
              "      <td>1.000000</td>\n",
              "    </tr>\n",
              "  </tbody>\n",
              "</table>\n",
              "</div>"
            ],
            "text/plain": [
              "         Reason_1    Reason_2    Reason_3    Reason_4  Month of absence  \\\n",
              "count  740.000000  740.000000  740.000000  740.000000        740.000000   \n",
              "mean     0.255405    0.008108    0.090541    0.587838          6.324324   \n",
              "std      0.436384    0.089740    0.287149    0.492557          3.436287   \n",
              "min      0.000000    0.000000    0.000000    0.000000          0.000000   \n",
              "25%      0.000000    0.000000    0.000000    0.000000          3.000000   \n",
              "50%      0.000000    0.000000    0.000000    1.000000          6.000000   \n",
              "75%      1.000000    0.000000    0.000000    1.000000          9.000000   \n",
              "max      1.000000    1.000000    1.000000    1.000000         12.000000   \n",
              "\n",
              "       Day of the week     Seasons  Transportation expense  \\\n",
              "count       740.000000  740.000000              740.000000   \n",
              "mean          3.914865    2.544595              221.329730   \n",
              "std           1.421675    1.111831               66.952223   \n",
              "min           2.000000    1.000000              118.000000   \n",
              "25%           3.000000    2.000000              179.000000   \n",
              "50%           4.000000    3.000000              225.000000   \n",
              "75%           5.000000    4.000000              260.000000   \n",
              "max           6.000000    4.000000              388.000000   \n",
              "\n",
              "       Distance from Residence to Work  Service time         Age  \\\n",
              "count                       740.000000    740.000000  740.000000   \n",
              "mean                         29.631081     12.554054   36.450000   \n",
              "std                          14.836788      4.384873    6.478772   \n",
              "min                           5.000000      1.000000   27.000000   \n",
              "25%                          16.000000      9.000000   31.000000   \n",
              "50%                          26.000000     13.000000   37.000000   \n",
              "75%                          50.000000     16.000000   40.000000   \n",
              "max                          52.000000     29.000000   58.000000   \n",
              "\n",
              "       Work load Average/day   Hit target  Disciplinary failure   Education  \\\n",
              "count              740.000000  740.000000            740.000000  740.000000   \n",
              "mean            271490.235135   94.587838              0.054054    0.174324   \n",
              "std              39058.116188    3.779313              0.226277    0.379645   \n",
              "min             205917.000000   81.000000              0.000000    0.000000   \n",
              "25%             244387.000000   93.000000              0.000000    0.000000   \n",
              "50%             264249.000000   95.000000              0.000000    0.000000   \n",
              "75%             294217.000000   97.000000              0.000000    0.000000   \n",
              "max             378884.000000  100.000000              1.000000    1.000000   \n",
              "\n",
              "              Son  Social drinker  Social smoker         Pet      Weight  \\\n",
              "count  740.000000      740.000000     740.000000  740.000000  740.000000   \n",
              "mean     1.018919        0.567568       0.072973    0.745946   79.035135   \n",
              "std      1.098489        0.495749       0.260268    1.318258   12.883211   \n",
              "min      0.000000        0.000000       0.000000    0.000000   56.000000   \n",
              "25%      0.000000        0.000000       0.000000    0.000000   69.000000   \n",
              "50%      1.000000        1.000000       0.000000    0.000000   83.000000   \n",
              "75%      2.000000        1.000000       0.000000    1.000000   89.000000   \n",
              "max      4.000000        1.000000       1.000000    8.000000  108.000000   \n",
              "\n",
              "           Height  Body mass index  Absenteesim  \n",
              "count  740.000000       740.000000   740.000000  \n",
              "mean   172.114865        26.677027     0.458108  \n",
              "std      6.034995         4.285452     0.498579  \n",
              "min    163.000000        19.000000     0.000000  \n",
              "25%    169.000000        24.000000     0.000000  \n",
              "50%    170.000000        25.000000     0.000000  \n",
              "75%    172.000000        31.000000     1.000000  \n",
              "max    196.000000        38.000000     1.000000  "
            ]
          },
          "metadata": {
            "tags": []
          },
          "execution_count": 44
        }
      ]
    },
    {
      "cell_type": "code",
      "metadata": {
        "id": "gd9PTCPTvY_A"
      },
      "source": [
        "#There is possibility of presence of outliers as mean of some features are greater than median.\n",
        "#In some of features theres an huge difference between 75% and max which confirm the presence of outliers."
      ],
      "execution_count": null,
      "outputs": []
    },
    {
      "cell_type": "code",
      "metadata": {
        "id": "5gdxRV2QvZBy"
      },
      "source": [
        "#Exploratory Data Analysis\n",
        "\n",
        "#Univarite Analysis\n",
        "\n",
        "#Multivariate Analysis\n",
        "\n",
        "#Bivariate Analysis\n",
        "\n",
        "#Here we check the relationship between different independant and dependant variable"
      ],
      "execution_count": null,
      "outputs": []
    },
    {
      "cell_type": "code",
      "metadata": {
        "colab": {
          "base_uri": "https://localhost:8080/",
          "height": 295
        },
        "id": "WuHW-Fd9vZIW",
        "outputId": "aa6e5ab4-602d-4bb3-ddc0-5019bc55806c"
      },
      "source": [
        "#Univariate Analysis:\n",
        "#Checking the count of target variable:\n",
        "sns.set_style('ticks')\n",
        "ax = sns.countplot(df['Absenteesim'])\n",
        "plt.title(\"Absenteesim Count\")\n",
        "for p in ax.patches:\n",
        "       ax.annotate(int(p.get_height()), (p.get_x()+0.25, p.get_height()+1), va='bottom',color= 'black')"
      ],
      "execution_count": null,
      "outputs": [
        {
          "output_type": "display_data",
          "data": {
            "image/png": "[encoded data removed]",
            "text/plain": [
              "<Figure size 432x288 with 1 Axes>"
            ]
          },
          "metadata": {
            "tags": []
          }
        }
      ]
    },
    {
      "cell_type": "code",
      "metadata": {
        "colab": {
          "base_uri": "https://localhost:8080/",
          "height": 295
        },
        "id": "HQn3Gt4RvZK3",
        "outputId": "cb12ccdb-8e20-4911-d9b2-c986c0471e0d"
      },
      "source": [
        "#Univariate Analysis:\n",
        "#Checking the count of Social smoker:\n",
        "sns.set_style('ticks')\n",
        "ax = sns.countplot(df['Social smoker'])\n",
        "plt.title(\"Social smoker Count\")\n",
        "for p in ax.patches:\n",
        "       ax.annotate(int(p.get_height()), (p.get_x()+0.25, p.get_height()+1), va='bottom',color= 'black')"
      ],
      "execution_count": null,
      "outputs": [
        {
          "output_type": "display_data",
          "data": {
            "image/png": "[encoded data removed]",
            "text/plain": [
              "<Figure size 432x288 with 1 Axes>"
            ]
          },
          "metadata": {
            "tags": []
          }
        }
      ]
    },
    {
      "cell_type": "code",
      "metadata": {
        "colab": {
          "base_uri": "https://localhost:8080/",
          "height": 295
        },
        "id": "c8tOdz9kvZOX",
        "outputId": "4ab6be83-a812-4d48-9363-3367d5b2e8cb"
      },
      "source": [
        "#Univariate Analysis:\n",
        "#Checking the count of Social drinker:\n",
        "sns.set_style('ticks')\n",
        "ax = sns.countplot(df['Social drinker'])\n",
        "plt.title(\"Social drinker Count\")\n",
        "for p in ax.patches:\n",
        "       ax.annotate(int(p.get_height()), (p.get_x()+0.25, p.get_height()+1), va='bottom',color= 'black')"
      ],
      "execution_count": null,
      "outputs": [
        {
          "output_type": "display_data",
          "data": {
            "image/png": "[encoded data removed]",
            "text/plain": [
              "<Figure size 432x288 with 1 Axes>"
            ]
          },
          "metadata": {
            "tags": []
          }
        }
      ]
    },
    {
      "cell_type": "code",
      "metadata": {
        "colab": {
          "base_uri": "https://localhost:8080/",
          "height": 295
        },
        "id": "e-w8QUovvZRz",
        "outputId": "5bda4ba0-1c77-4110-dc67-ed2300452b1e"
      },
      "source": [
        "#Univariate Analysis:\n",
        "#Checking the count of Education:\n",
        "sns.set_style('ticks')\n",
        "ax = sns.countplot(df['Education'])\n",
        "plt.title(\"Education Count\")\n",
        "for p in ax.patches:\n",
        "       ax.annotate(int(p.get_height()), (p.get_x()+0.25, p.get_height()+1), va='bottom',color= 'black')"
      ],
      "execution_count": null,
      "outputs": [
        {
          "output_type": "display_data",
          "data": {
            "image/png": "[encoded data removed]",
            "text/plain": [
              "<Figure size 432x288 with 1 Axes>"
            ]
          },
          "metadata": {
            "tags": []
          }
        }
      ]
    },
    {
      "cell_type": "code",
      "metadata": {
        "colab": {
          "base_uri": "https://localhost:8080/",
          "height": 350
        },
        "id": "rnn1eHTwvZVT",
        "outputId": "f6b79804-d7c3-4d2e-8cc5-b72ec0392845"
      },
      "source": [
        "#Univariate Analysis:\n",
        "#Checking the count of Education:\n",
        "sns.set_style('ticks')\n",
        "plt.figure(figsize=(7,5))\n",
        "ax = sns.countplot(df['Pet'])\n",
        "plt.title(\"Pet Count\")\n",
        "for p in ax.patches:\n",
        "       ax.annotate(int(p.get_height()), (p.get_x()+0.25, p.get_height()+1), va='bottom',color= 'black')"
      ],
      "execution_count": null,
      "outputs": [
        {
          "output_type": "display_data",
          "data": {
            "image/png": "[encoded data removed]",
            "text/plain": [
              "<Figure size 504x360 with 1 Axes>"
            ]
          },
          "metadata": {
            "tags": []
          }
        }
      ]
    },
    {
      "cell_type": "code",
      "metadata": {
        "colab": {
          "base_uri": "https://localhost:8080/",
          "height": 279
        },
        "id": "8VQkYmbTvZYs",
        "outputId": "06cde8b2-5e4d-4d68-f765-67380d5567aa"
      },
      "source": [
        "#Univariate Analysis:\n",
        "#Checking the mean of Age and the distribution:\n",
        "age = df['Age'].hist(bins=60)\n",
        "means_val = np.mean(df['Age'])\n",
        "plt.axvline(means_val,linewidth=4,color='red',label='mean_age')\n",
        "plt.xlabel('age')\n",
        "plt.ylabel('count')\n",
        "plt.legend()\n",
        "plt.show()"
      ],
      "execution_count": null,
      "outputs": [
        {
          "output_type": "display_data",
          "data": {
            "image/png": "[encoded data removed]",
            "text/plain": [
              "<Figure size 432x288 with 1 Axes>"
            ]
          },
          "metadata": {
            "tags": []
          }
        }
      ]
    },
    {
      "cell_type": "code",
      "metadata": {
        "colab": {
          "base_uri": "https://localhost:8080/",
          "height": 279
        },
        "id": "NAko0Y4wuCt5",
        "outputId": "2c4042ed-54b6-4e4a-f3f3-39250ab9c1ed"
      },
      "source": [
        "#Univariate Analysis:\n",
        "#Checking the mean of Transportation expense and the distribution:\n",
        "age = df['Transportation expense'].hist(bins=60)\n",
        "means_val = np.mean(df['Transportation expense'])\n",
        "plt.axvline(means_val,linewidth=4,color='red',label='mean_age')\n",
        "plt.xlabel('Transportation expense')\n",
        "plt.ylabel('count')\n",
        "plt.legend()\n",
        "plt.show()"
      ],
      "execution_count": null,
      "outputs": [
        {
          "output_type": "display_data",
          "data": {
            "image/png": "[encoded data removed]",
            "text/plain": [
              "<Figure size 432x288 with 1 Axes>"
            ]
          },
          "metadata": {
            "tags": []
          }
        }
      ]
    },
    {
      "cell_type": "code",
      "metadata": {
        "colab": {
          "base_uri": "https://localhost:8080/",
          "height": 468
        },
        "id": "09QjFw-A85lN",
        "outputId": "dc4f6903-90bb-4ece-e44c-41d9a7942238"
      },
      "source": [
        "#Bivariate Analysis:\n",
        "#Checking the realationship between Absenteesim and Age:\n",
        "plt.subplots(figsize=(15,5))\n",
        "plt.title('Age Vs Absenteesim')\n",
        "sns.countplot(x='Age',hue='Absenteesim',data=df,palette='colorblind')\n",
        "df.groupby('Age')['Absenteesim'].value_counts().head()"
      ],
      "execution_count": null,
      "outputs": [
        {
          "output_type": "execute_result",
          "data": {
            "text/plain": [
              "Age  Absenteesim\n",
              "27   0               4\n",
              "     1               3\n",
              "28   0              70\n",
              "     1              47\n",
              "29   0               5\n",
              "Name: Absenteesim, dtype: int64"
            ]
          },
          "metadata": {
            "tags": []
          },
          "execution_count": 80
        },
        {
          "output_type": "display_data",
          "data": {
            "image/png": "[encoded data removed]",
            "text/plain": [
              "<Figure size 1080x360 with 1 Axes>"
            ]
          },
          "metadata": {
            "tags": []
          }
        }
      ]
    },
    {
      "cell_type": "code",
      "metadata": {
        "colab": {
          "base_uri": "https://localhost:8080/",
          "height": 367
        },
        "id": "VQENknXX85ou",
        "outputId": "b536537e-e9d3-47ad-adcc-f0f8fcc61624"
      },
      "source": [
        "#Bivariate Analysis:\n",
        "#Checking the realationship between Absenteesim and Pet:\n",
        "plt.subplots(figsize=(10,5))\n",
        "plt.title('Pet Vs Absenteesim')\n",
        "sns.countplot(x='Pet',hue='Absenteesim',data=df,palette='colorblind')"
      ],
      "execution_count": null,
      "outputs": [
        {
          "output_type": "execute_result",
          "data": {
            "text/plain": [
              "<matplotlib.axes._subplots.AxesSubplot at 0x7fac93b96c18>"
            ]
          },
          "metadata": {
            "tags": []
          },
          "execution_count": 83
        },
        {
          "output_type": "display_data",
          "data": {
            "image/png": "[encoded data removed]",
            "text/plain": [
              "<Figure size 720x360 with 1 Axes>"
            ]
          },
          "metadata": {
            "tags": []
          }
        }
      ]
    },
    {
      "cell_type": "code",
      "metadata": {
        "colab": {
          "base_uri": "https://localhost:8080/",
          "height": 468
        },
        "id": "YYSHoVU085sn",
        "outputId": "bcc43edd-7858-4286-9e85-e7556e0620d3"
      },
      "source": [
        "#Bivariate Analysis:\n",
        "#Checking the realationship between Absenteesim and Body mass index:\n",
        "plt.subplots(figsize=(10,5))\n",
        "plt.title('Body mass index Vs Absenteesim')\n",
        "sns.countplot(x='Body mass index',hue='Absenteesim',data=df,palette='colorblind')\n",
        "df.groupby('Body mass index')['Absenteesim'].value_counts().head()"
      ],
      "execution_count": null,
      "outputs": [
        {
          "output_type": "execute_result",
          "data": {
            "text/plain": [
              "Body mass index  Absenteesim\n",
              "19               0              34\n",
              "                 1              12\n",
              "21               0              11\n",
              "                 1              11\n",
              "22               0              19\n",
              "Name: Absenteesim, dtype: int64"
            ]
          },
          "metadata": {
            "tags": []
          },
          "execution_count": 85
        },
        {
          "output_type": "display_data",
          "data": {
            "image/png": "[encoded data removed]",
            "text/plain": [
              "<Figure size 720x360 with 1 Axes>"
            ]
          },
          "metadata": {
            "tags": []
          }
        }
      ]
    },
    {
      "cell_type": "code",
      "metadata": {
        "colab": {
          "base_uri": "https://localhost:8080/",
          "height": 451
        },
        "id": "3IO7tS9A85v_",
        "outputId": "45745b2d-fe65-40e1-95a7-5c6919ddd26d"
      },
      "source": [
        "#Bivariate Analysis:\n",
        "#Checking the realationship between Absenteesim and Education:\n",
        "plt.subplots(figsize=(8,5))\n",
        "plt.title('Education Vs Absenteesim')\n",
        "sns.countplot(x='Education',hue='Absenteesim',data=df,palette='colorblind')\n",
        "df.groupby('Education')['Absenteesim'].value_counts().head()"
      ],
      "execution_count": null,
      "outputs": [
        {
          "output_type": "execute_result",
          "data": {
            "text/plain": [
              "Education  Absenteesim\n",
              "0          0              330\n",
              "           1              281\n",
              "1          0               71\n",
              "           1               58\n",
              "Name: Absenteesim, dtype: int64"
            ]
          },
          "metadata": {
            "tags": []
          },
          "execution_count": 89
        },
        {
          "output_type": "display_data",
          "data": {
            "image/png": "[encoded data removed]",
            "text/plain": [
              "<Figure size 576x360 with 1 Axes>"
            ]
          },
          "metadata": {
            "tags": []
          }
        }
      ]
    },
    {
      "cell_type": "code",
      "metadata": {
        "colab": {
          "base_uri": "https://localhost:8080/",
          "height": 367
        },
        "id": "CeXIyT8t852s",
        "outputId": "c22988d2-e9a2-4434-8e3f-dd4d7892c757"
      },
      "source": [
        "#Bivariate Analysis:\n",
        "#Checking the realationship between Absenteesim and Social drinker:\n",
        "plt.subplots(figsize=(7,5))\n",
        "plt.title('Social drinker Vs Absenteesim')\n",
        "sns.countplot(x='Social drinker',hue='Absenteesim',data=df,palette='colorblind')"
      ],
      "execution_count": null,
      "outputs": [
        {
          "output_type": "execute_result",
          "data": {
            "text/plain": [
              "<matplotlib.axes._subplots.AxesSubplot at 0x7fac942f68d0>"
            ]
          },
          "metadata": {
            "tags": []
          },
          "execution_count": 91
        },
        {
          "output_type": "display_data",
          "data": {
            "image/png": "[encoded data removed]",
            "text/plain": [
              "<Figure size 504x360 with 1 Axes>"
            ]
          },
          "metadata": {
            "tags": []
          }
        }
      ]
    },
    {
      "cell_type": "code",
      "metadata": {
        "colab": {
          "base_uri": "https://localhost:8080/",
          "height": 367
        },
        "id": "R5UvzzuJ8554",
        "outputId": "659c0238-0cd2-41f6-e068-376023312c1e"
      },
      "source": [
        "#Bivariate Analysis:\n",
        "#Checking the realationship between Absenteesim and Social smoker:\n",
        "plt.subplots(figsize=(8,5))\n",
        "plt.title('Social smoker Vs Absenteesim')\n",
        "sns.countplot(x='Social smoker',hue='Absenteesim',data=df,palette='colorblind')"
      ],
      "execution_count": null,
      "outputs": [
        {
          "output_type": "execute_result",
          "data": {
            "text/plain": [
              "<matplotlib.axes._subplots.AxesSubplot at 0x7fac94124cf8>"
            ]
          },
          "metadata": {
            "tags": []
          },
          "execution_count": 92
        },
        {
          "output_type": "display_data",
          "data": {
            "image/png": "[encoded data removed]",
            "text/plain": [
              "<Figure size 576x360 with 1 Axes>"
            ]
          },
          "metadata": {
            "tags": []
          }
        }
      ]
    },
    {
      "cell_type": "code",
      "metadata": {
        "colab": {
          "base_uri": "https://localhost:8080/",
          "height": 344
        },
        "id": "6cKs-f2P86DW",
        "outputId": "009f6ad0-86de-4d53-b958-09c9afc133c9"
      },
      "source": [
        "#Multivariate Analysis\n",
        "sns.factorplot(x='Absenteesim',y='Age',hue='Education',data=df,kind=\"violin\",size=4,palette=\"magma\",aspect=3)\n",
        "plt.title(\"Age VS Absenteesim on basis of Education\")\n",
        "plt.xlabel('Absenteesim')\n",
        "plt.ylabel('Age')"
      ],
      "execution_count": null,
      "outputs": [
        {
          "output_type": "execute_result",
          "data": {
            "text/plain": [
              "Text(8.841970486111116, 0.5, 'Age')"
            ]
          },
          "metadata": {
            "tags": []
          },
          "execution_count": 98
        },
        {
          "output_type": "display_data",
          "data": {
            "image/png": "[encoded data removed]",
            "text/plain": [
              "<Figure size 921.75x288 with 1 Axes>"
            ]
          },
          "metadata": {
            "tags": []
          }
        }
      ]
    },
    {
      "cell_type": "code",
      "metadata": {
        "colab": {
          "base_uri": "https://localhost:8080/",
          "height": 751
        },
        "id": "ZEov_HZlGHJ2",
        "outputId": "f277cc08-b387-4c5c-8b33-46988e9c5136"
      },
      "source": [
        "#Checking the coerelation:\n",
        "#how the different neumerical features are corelated to each other \n",
        "#Their strength of relationship\n",
        "#Their influence on target variable.\n",
        "f,ax=plt.subplots(figsize=(15,10))\n",
        "sns.heatmap(df.corr(),annot=True,fmt=\".1f\",linewidths=.2,cmap=\"Spectral\",ax=ax,linecolor=\"black\")\n",
        "plt.show()"
      ],
      "execution_count": null,
      "outputs": [
        {
          "output_type": "display_data",
          "data": {
            "image/png": "[encoded data removed]",
            "text/plain": [
              "<Figure size 1080x720 with 2 Axes>"
            ]
          },
          "metadata": {
            "tags": []
          }
        }
      ]
    },
    {
      "cell_type": "code",
      "metadata": {
        "colab": {
          "base_uri": "https://localhost:8080/",
          "height": 671
        },
        "id": "7v0rqU8pGHMw",
        "outputId": "6b8866cb-faf7-4e5d-9e7c-72433517444b"
      },
      "source": [
        "#corelation with target column:\n",
        "plt.figure(figsize=(10,8))\n",
        "df.drop('Absenteesim',axis=1).corrwith(df['Absenteesim']).plot(kind='bar',grid=True)\n",
        "plt.xticks(rotation='vertical')\n",
        "plt.title('corelation with target variable')"
      ],
      "execution_count": null,
      "outputs": [
        {
          "output_type": "execute_result",
          "data": {
            "text/plain": [
              "Text(0.5, 1.0, 'corelation with target variable')"
            ]
          },
          "metadata": {
            "tags": []
          },
          "execution_count": 101
        },
        {
          "output_type": "display_data",
          "data": {
            "image/png": "[encoded data removed]",
            "text/plain": [
              "<Figure size 720x576 with 1 Axes>"
            ]
          },
          "metadata": {
            "tags": []
          }
        }
      ]
    },
    {
      "cell_type": "code",
      "metadata": {
        "colab": {
          "base_uri": "https://localhost:8080/"
        },
        "id": "hlMzUoOeGHQY",
        "outputId": "346699f6-7326-4462-df53-bac3b88f7fec"
      },
      "source": [
        "#Checking for outliers\n",
        "#outlier is a data point that differs significantly from other observations. \n",
        "#Any datapoint greater than +3 Standard Deviations and -3 SD are called Outliers\n",
        "#Zscore is Automated method used to handle outliers.\n",
        "#Let check wheather any outliers are present or not and if yes lets normalize them:\n",
        "from scipy.stats import zscore\n",
        "zscore = abs(zscore(df))\n",
        "print(\"Before removal of outliers:\",df.shape)\n",
        "df_final = df.loc[(zscore<3).all(axis=1)]\n",
        "print(\"After removal of outliers:\",df_final.shape)"
      ],
      "execution_count": 45,
      "outputs": [
        {
          "output_type": "stream",
          "text": [
            "Before removal of outliers: (740, 23)\n",
            "After removal of outliers: (542, 23)\n"
          ],
          "name": "stdout"
        }
      ]
    },
    {
      "cell_type": "code",
      "metadata": {
        "colab": {
          "base_uri": "https://localhost:8080/"
        },
        "id": "OETIuHFNGHSu",
        "outputId": "0df6b9a1-87e0-4d5f-d26a-29b93198b2ab"
      },
      "source": [
        "#Checking for skewness:\n",
        "#whether the features are right or left skewed.\n",
        "#for right and left skewed we can use logarthim transformation.\n",
        "#if the skewness value is greater than o.55 then the features are skewed.\n",
        "df_final.skew()"
      ],
      "execution_count": 46,
      "outputs": [
        {
          "output_type": "execute_result",
          "data": {
            "text/plain": [
              "Reason_1                           0.970054\n",
              "Reason_2                           0.000000\n",
              "Reason_3                           0.000000\n",
              "Reason_4                          -0.949885\n",
              "Month of absence                   0.101825\n",
              "Day of the week                    0.056784\n",
              "Seasons                           -0.042350\n",
              "Transportation expense             0.373132\n",
              "Distance from Residence to Work    0.224680\n",
              "Service time                      -0.144186\n",
              "Age                                0.496737\n",
              "Work load Average/day              1.044067\n",
              "Hit target                        -0.486158\n",
              "Disciplinary failure               0.000000\n",
              "Education                          1.817866\n",
              "Son                                1.469291\n",
              "Social drinker                    -0.185807\n",
              "Social smoker                      0.000000\n",
              "Pet                                1.697092\n",
              "Weight                            -0.118390\n",
              "Height                             1.479018\n",
              "Body mass index                    0.039616\n",
              "Absenteesim                        0.261208\n",
              "dtype: float64"
            ]
          },
          "metadata": {
            "tags": []
          },
          "execution_count": 46
        }
      ]
    },
    {
      "cell_type": "code",
      "metadata": {
        "id": "G_HnsuGnGHVs"
      },
      "source": [
        "import scipy.stats as stat\n",
        "import pylab"
      ],
      "execution_count": 47,
      "outputs": []
    },
    {
      "cell_type": "code",
      "metadata": {
        "id": "xwNpPG1mGHYd"
      },
      "source": [
        "#If you want to check whether feature is guassian or normal distributed\n",
        "# Q-Q plot is used to check wheather the data are normally distributed or not by graphically.\n",
        "def plot_data(df,feature):\n",
        "    plt.figure(figsize=(10,6))\n",
        "    plt.subplot(1,2,1)\n",
        "    df[feature].hist()\n",
        "    plt.subplot(1,2,2)\n",
        "    stat.probplot(df[feature],dist='norm',plot=pylab)\n",
        "    plt.show()"
      ],
      "execution_count": 48,
      "outputs": []
    },
    {
      "cell_type": "code",
      "metadata": {
        "colab": {
          "base_uri": "https://localhost:8080/",
          "height": 404
        },
        "id": "Y1Jun_3hGHa_",
        "outputId": "6ab77497-ae1a-4476-9bbe-4a9f0a1e17cc"
      },
      "source": [
        "#We can check for skewness by using Distrution plot:\n",
        "plot_data(df,'Age')"
      ],
      "execution_count": 49,
      "outputs": [
        {
          "output_type": "display_data",
          "data": {
            "image/png": "[encoded data removed]",
            "text/plain": [
              "<Figure size 720x432 with 2 Axes>"
            ]
          },
          "metadata": {
            "tags": [],
            "needs_background": "light"
          }
        }
      ]
    },
    {
      "cell_type": "code",
      "metadata": {
        "colab": {
          "base_uri": "https://localhost:8080/",
          "height": 404
        },
        "id": "nK-AqPUNL2cf",
        "outputId": "40939046-9cbb-4300-92d9-d54d9ede85be"
      },
      "source": [
        "#We can check for skewness by using Distrution plot:\n",
        "plot_data(df,'Service time')"
      ],
      "execution_count": 50,
      "outputs": [
        {
          "output_type": "display_data",
          "data": {
            "image/png": "[encoded data removed]",
            "text/plain": [
              "<Figure size 720x432 with 2 Axes>"
            ]
          },
          "metadata": {
            "tags": [],
            "needs_background": "light"
          }
        }
      ]
    },
    {
      "cell_type": "code",
      "metadata": {
        "id": "bOSBJ_nNLpyL"
      },
      "source": [
        "#Dropping unwanted column:\n",
        "df.drop(columns=['Disciplinary failure','Service time'],axis=1,inplace=True)"
      ],
      "execution_count": 51,
      "outputs": []
    },
    {
      "cell_type": "code",
      "metadata": {
        "colab": {
          "base_uri": "https://localhost:8080/"
        },
        "id": "iKrCQT0JNHkE",
        "outputId": "570e3528-fded-4e7c-ed81-752638054adb"
      },
      "source": [
        "#Let Separate the input and output variable:\n",
        "#Let select input and output value:\n",
        "X = df_final.drop('Absenteesim',axis=1)\n",
        "y = df_final['Absenteesim']\n",
        "print('shape of X is {}'.format(X.shape))\n",
        "print('shape of y is {}'.format(y.shape))"
      ],
      "execution_count": 52,
      "outputs": [
        {
          "output_type": "stream",
          "text": [
            "shape of X is (542, 22)\n",
            "shape of y is (542,)\n"
          ],
          "name": "stdout"
        }
      ]
    },
    {
      "cell_type": "code",
      "metadata": {
        "id": "u2nuY7PzLp8J"
      },
      "source": [
        "#Breaking the model into training and testing split:\n",
        "from sklearn.model_selection import train_test_split\n",
        "X_train, X_test, y_train, y_test = train_test_split(X,y,test_size=0.2,random_state=42)"
      ],
      "execution_count": 53,
      "outputs": []
    },
    {
      "cell_type": "code",
      "metadata": {
        "id": "hk3LL9d1Lp_u"
      },
      "source": [
        "#Using StandardScaler to Preprocess the data:\n",
        "#StandardScaler is used to bring the datapoints to standard normal distribution where mean = 0 and SD(+-)1:\n",
        "from sklearn.preprocessing import StandardScaler\n",
        "scaler = StandardScaler()\n",
        "X = scaler.fit_transform(X)"
      ],
      "execution_count": 54,
      "outputs": []
    },
    {
      "cell_type": "code",
      "metadata": {
        "id": "eEErLJFyGHd-"
      },
      "source": [
        "from sklearn.linear_model import LogisticRegression\n",
        "from sklearn.svm import SVC\n",
        "from sklearn.neighbors import KNeighborsClassifier\n",
        "from sklearn.tree import DecisionTreeClassifier\n",
        "from sklearn.ensemble import RandomForestClassifier\n",
        "from sklearn.model_selection import cross_val_score\n",
        "#import metrics\n",
        "from sklearn.metrics import classification_report,confusion_matrix\n",
        "from sklearn.metrics import classification_report\n",
        "from sklearn.metrics import accuracy_score"
      ],
      "execution_count": 55,
      "outputs": []
    },
    {
      "cell_type": "code",
      "metadata": {
        "colab": {
          "base_uri": "https://localhost:8080/"
        },
        "id": "N0kZMYeuGHhu",
        "outputId": "fd4560b0-e60c-43f1-fc6d-11be2f4c627e"
      },
      "source": [
        "model = [LogisticRegression(),SVC(),KNeighborsClassifier(),DecisionTreeClassifier(),RandomForestClassifier()]\n",
        "for m in model:\n",
        "    m.fit(X_train,y_train)\n",
        "    print(\"Score of\",m, \"is:\",m.score(X_train,y_train))\n",
        "    y_predict= m.predict(X_test)\n",
        "    print(\"accuracy_score:\",accuracy_score(y_test,y_predict))\n",
        "    score = cross_val_score(m,X,y,cv=5,scoring='accuracy').mean()\n",
        "    print(\"Cross validation is\",np.mean(score)*100)\n",
        "    print(confusion_matrix(y_test,y_predict))\n",
        "    print(classification_report(y_test,y_predict))\n",
        "    print(confusion_matrix(y_test,y_predict))\n",
        "    print('******************************************************************')\n",
        "    print('\\n')"
      ],
      "execution_count": 56,
      "outputs": [
        {
          "output_type": "stream",
          "text": [
            "Score of LogisticRegression(C=1.0, class_weight=None, dual=False, fit_intercept=True,\n",
            "                   intercept_scaling=1, l1_ratio=None, max_iter=100,\n",
            "                   multi_class='auto', n_jobs=None, penalty='l2',\n",
            "                   random_state=None, solver='lbfgs', tol=0.0001, verbose=0,\n",
            "                   warm_start=False) is: 0.6651270207852193\n",
            "accuracy_score: 0.6788990825688074\n",
            "Cross validation is 73.7920489296636\n",
            "[[45 17]\n",
            " [18 29]]\n",
            "              precision    recall  f1-score   support\n",
            "\n",
            "           0       0.71      0.73      0.72        62\n",
            "           1       0.63      0.62      0.62        47\n",
            "\n",
            "    accuracy                           0.68       109\n",
            "   macro avg       0.67      0.67      0.67       109\n",
            "weighted avg       0.68      0.68      0.68       109\n",
            "\n",
            "[[45 17]\n",
            " [18 29]]\n",
            "******************************************************************\n",
            "\n",
            "\n",
            "Score of SVC(C=1.0, break_ties=False, cache_size=200, class_weight=None, coef0=0.0,\n",
            "    decision_function_shape='ovr', degree=3, gamma='scale', kernel='rbf',\n",
            "    max_iter=-1, probability=False, random_state=None, shrinking=True,\n",
            "    tol=0.001, verbose=False) is: 0.5635103926096998\n",
            "accuracy_score: 0.5688073394495413\n",
            "Cross validation is 75.08834522595991\n",
            "[[62  0]\n",
            " [47  0]]\n",
            "              precision    recall  f1-score   support\n",
            "\n",
            "           0       0.57      1.00      0.73        62\n",
            "           1       0.00      0.00      0.00        47\n",
            "\n",
            "    accuracy                           0.57       109\n",
            "   macro avg       0.28      0.50      0.36       109\n",
            "weighted avg       0.32      0.57      0.41       109\n",
            "\n",
            "[[62  0]\n",
            " [47  0]]\n",
            "******************************************************************\n",
            "\n",
            "\n",
            "Score of KNeighborsClassifier(algorithm='auto', leaf_size=30, metric='minkowski',\n",
            "                     metric_params=None, n_jobs=None, n_neighbors=5, p=2,\n",
            "                     weights='uniform') is: 0.7482678983833718\n",
            "accuracy_score: 0.6605504587155964\n",
            "Cross validation is 68.80224260958207\n",
            "[[47 15]\n",
            " [22 25]]\n",
            "              precision    recall  f1-score   support\n",
            "\n",
            "           0       0.68      0.76      0.72        62\n",
            "           1       0.62      0.53      0.57        47\n",
            "\n",
            "    accuracy                           0.66       109\n",
            "   macro avg       0.65      0.64      0.65       109\n",
            "weighted avg       0.66      0.66      0.66       109\n",
            "\n",
            "[[47 15]\n",
            " [22 25]]\n",
            "******************************************************************\n",
            "\n",
            "\n",
            "Score of DecisionTreeClassifier(ccp_alpha=0.0, class_weight=None, criterion='gini',\n",
            "                       max_depth=None, max_features=None, max_leaf_nodes=None,\n",
            "                       min_impurity_decrease=0.0, min_impurity_split=None,\n",
            "                       min_samples_leaf=1, min_samples_split=2,\n",
            "                       min_weight_fraction_leaf=0.0, presort='deprecated',\n",
            "                       random_state=None, splitter='best') is: 0.9792147806004619\n",
            "accuracy_score: 0.6513761467889908\n",
            "Cross validation is 63.83452259599049\n",
            "[[45 17]\n",
            " [21 26]]\n",
            "              precision    recall  f1-score   support\n",
            "\n",
            "           0       0.68      0.73      0.70        62\n",
            "           1       0.60      0.55      0.58        47\n",
            "\n",
            "    accuracy                           0.65       109\n",
            "   macro avg       0.64      0.64      0.64       109\n",
            "weighted avg       0.65      0.65      0.65       109\n",
            "\n",
            "[[45 17]\n",
            " [21 26]]\n",
            "******************************************************************\n",
            "\n",
            "\n",
            "Score of RandomForestClassifier(bootstrap=True, ccp_alpha=0.0, class_weight=None,\n",
            "                       criterion='gini', max_depth=None, max_features='auto',\n",
            "                       max_leaf_nodes=None, max_samples=None,\n",
            "                       min_impurity_decrease=0.0, min_impurity_split=None,\n",
            "                       min_samples_leaf=1, min_samples_split=2,\n",
            "                       min_weight_fraction_leaf=0.0, n_estimators=100,\n",
            "                       n_jobs=None, oob_score=False, random_state=None,\n",
            "                       verbose=0, warm_start=False) is: 0.9792147806004619\n",
            "accuracy_score: 0.7798165137614679\n",
            "Cross validation is 69.36289500509683\n",
            "[[49 13]\n",
            " [11 36]]\n",
            "              precision    recall  f1-score   support\n",
            "\n",
            "           0       0.82      0.79      0.80        62\n",
            "           1       0.73      0.77      0.75        47\n",
            "\n",
            "    accuracy                           0.78       109\n",
            "   macro avg       0.78      0.78      0.78       109\n",
            "weighted avg       0.78      0.78      0.78       109\n",
            "\n",
            "[[49 13]\n",
            " [11 36]]\n",
            "******************************************************************\n",
            "\n",
            "\n"
          ],
          "name": "stdout"
        }
      ]
    },
    {
      "cell_type": "code",
      "metadata": {
        "id": "FRXgMkeUN20Z"
      },
      "source": [
        "#It looks like the Random Forest Regression has a good F1 score on the test set, but keep in mind this is just a single training/test split; we need to confirm this performance holds for other splits. In addition, we need to tune the regularization hyperparameter. \n",
        "#Fortunately, there's a way to tackle both at the same time without introducing additional bias"
      ],
      "execution_count": 57,
      "outputs": []
    },
    {
      "cell_type": "code",
      "metadata": {
        "colab": {
          "base_uri": "https://localhost:8080/"
        },
        "id": "kY_UuNa4N23_",
        "outputId": "effa9547-6034-4271-dbce-5d931f82c245"
      },
      "source": [
        "from sklearn.ensemble import RandomForestClassifier\n",
        "classifier = RandomForestClassifier()\n",
        "classifier.fit(X_train, y_train)"
      ],
      "execution_count": 58,
      "outputs": [
        {
          "output_type": "execute_result",
          "data": {
            "text/plain": [
              "RandomForestClassifier(bootstrap=True, ccp_alpha=0.0, class_weight=None,\n",
              "                       criterion='gini', max_depth=None, max_features='auto',\n",
              "                       max_leaf_nodes=None, max_samples=None,\n",
              "                       min_impurity_decrease=0.0, min_impurity_split=None,\n",
              "                       min_samples_leaf=1, min_samples_split=2,\n",
              "                       min_weight_fraction_leaf=0.0, n_estimators=100,\n",
              "                       n_jobs=None, oob_score=False, random_state=None,\n",
              "                       verbose=0, warm_start=False)"
            ]
          },
          "metadata": {
            "tags": []
          },
          "execution_count": 58
        }
      ]
    },
    {
      "cell_type": "code",
      "metadata": {
        "id": "2i71Ua_9N27a"
      },
      "source": [
        "from sklearn.model_selection import RandomizedSearchCV\n",
        "from scipy.stats import randint\n",
        "from sklearn.model_selection import StratifiedShuffleSplit"
      ],
      "execution_count": 59,
      "outputs": []
    },
    {
      "cell_type": "code",
      "metadata": {
        "id": "1pys9DPHN2_L"
      },
      "source": [
        "# Create Hyperparametre tuning\n",
        "param_grid = {'max_depth':[3,5,10,None],\n",
        "              'n_estimators':[10,100,200,300,400,500],\n",
        "              'max_features':randint(1,3),\n",
        "              'criterion':['gini','entropy'],\n",
        "              'bootstrap':[True,False],\n",
        "              'min_samples_leaf':randint(1,4)}"
      ],
      "execution_count": 60,
      "outputs": []
    },
    {
      "cell_type": "code",
      "metadata": {
        "colab": {
          "base_uri": "https://localhost:8080/"
        },
        "id": "zkI9txuoN3Pv",
        "outputId": "d60fca01-6b77-4f0e-9dba-05a1c5f7d511"
      },
      "source": [
        "random_grid = RandomizedSearchCV(classifier,param_distributions= param_grid,cv=StratifiedShuffleSplit(n_splits=10, test_size=0.2, random_state=42),scoring='f1',n_jobs=-1)\n",
        "random_grid.fit(X_train,y_train)"
      ],
      "execution_count": 61,
      "outputs": [
        {
          "output_type": "execute_result",
          "data": {
            "text/plain": [
              "RandomizedSearchCV(cv=StratifiedShuffleSplit(n_splits=10, random_state=42, test_size=0.2,\n",
              "            train_size=None),\n",
              "                   error_score=nan,\n",
              "                   estimator=RandomForestClassifier(bootstrap=True,\n",
              "                                                    ccp_alpha=0.0,\n",
              "                                                    class_weight=None,\n",
              "                                                    criterion='gini',\n",
              "                                                    max_depth=None,\n",
              "                                                    max_features='auto',\n",
              "                                                    max_leaf_nodes=None,\n",
              "                                                    max_samples=None,\n",
              "                                                    min_impurity_decrease=0.0,\n",
              "                                                    min_impurity_split=None,\n",
              "                                                    min_samples...\n",
              "                                        'criterion': ['gini', 'entropy'],\n",
              "                                        'max_depth': [3, 5, 10, None],\n",
              "                                        'max_features': <scipy.stats._distn_infrastructure.rv_frozen object at 0x7f62d0386208>,\n",
              "                                        'min_samples_leaf': <scipy.stats._distn_infrastructure.rv_frozen object at 0x7f62d0386128>,\n",
              "                                        'n_estimators': [10, 100, 200, 300, 400,\n",
              "                                                         500]},\n",
              "                   pre_dispatch='2*n_jobs', random_state=None, refit=True,\n",
              "                   return_train_score=False, scoring='f1', verbose=0)"
            ]
          },
          "metadata": {
            "tags": []
          },
          "execution_count": 61
        }
      ]
    },
    {
      "cell_type": "code",
      "metadata": {
        "colab": {
          "base_uri": "https://localhost:8080/"
        },
        "id": "EIKsuLGoPR-Q",
        "outputId": "8ee17cb1-51f2-43a0-8580-d8f275b223f5"
      },
      "source": [
        "#Fetching best parametre:\n",
        "random_grid.best_params_"
      ],
      "execution_count": 62,
      "outputs": [
        {
          "output_type": "execute_result",
          "data": {
            "text/plain": [
              "{'bootstrap': False,\n",
              " 'criterion': 'gini',\n",
              " 'max_depth': None,\n",
              " 'max_features': 2,\n",
              " 'min_samples_leaf': 2,\n",
              " 'n_estimators': 400}"
            ]
          },
          "metadata": {
            "tags": []
          },
          "execution_count": 62
        }
      ]
    },
    {
      "cell_type": "code",
      "metadata": {
        "colab": {
          "base_uri": "https://localhost:8080/",
          "height": 498
        },
        "id": "ftiB9QiJPSCi",
        "outputId": "4d8689db-0686-401f-d8b9-9f9916c002ae"
      },
      "source": [
        "classifier = RandomForestClassifier(bootstrap=False,criterion='gini',max_features=2,min_samples_leaf=2,n_estimators=400)\n",
        "classifier.fit(X_train,y_train)\n",
        "y_predict= classifier.predict(X_test)\n",
        "print(\"accuracy_score:\",accuracy_score(y_test,y_predict))\n",
        "print(confusion_matrix(y_test,y_predict))\n",
        "print(classification_report(y_test,y_predict))\n",
        "cm = confusion_matrix(y_test,y_predict)\n",
        "sns.heatmap(cm, annot=True, annot_kws={\"size\":10}, cmap='Blues', square=True, fmt='.3f')\n",
        "plt.ylabel('True label')\n",
        "plt.xlabel('Predicted label')"
      ],
      "execution_count": 63,
      "outputs": [
        {
          "output_type": "stream",
          "text": [
            "accuracy_score: 0.7889908256880734\n",
            "[[51 11]\n",
            " [12 35]]\n",
            "              precision    recall  f1-score   support\n",
            "\n",
            "           0       0.81      0.82      0.82        62\n",
            "           1       0.76      0.74      0.75        47\n",
            "\n",
            "    accuracy                           0.79       109\n",
            "   macro avg       0.79      0.78      0.78       109\n",
            "weighted avg       0.79      0.79      0.79       109\n",
            "\n"
          ],
          "name": "stdout"
        },
        {
          "output_type": "execute_result",
          "data": {
            "text/plain": [
              "Text(0.5, 15.0, 'Predicted label')"
            ]
          },
          "metadata": {
            "tags": []
          },
          "execution_count": 63
        },
        {
          "output_type": "display_data",
          "data": {
            "image/png": "[encoded data removed]",
            "text/plain": [
              "<Figure size 432x288 with 2 Axes>"
            ]
          },
          "metadata": {
            "tags": [],
            "needs_background": "light"
          }
        }
      ]
    },
    {
      "cell_type": "code",
      "metadata": {
        "id": "TKXIhtQ0PSG3"
      },
      "source": [
        "from sklearn.model_selection import cross_val_score\n",
        "scores = cross_val_score(classifier,X,y,cv=StratifiedShuffleSplit(n_splits=10, test_size=0.2, random_state=42),scoring='f1',n_jobs=-1)"
      ],
      "execution_count": 66,
      "outputs": []
    },
    {
      "cell_type": "code",
      "metadata": {
        "colab": {
          "base_uri": "https://localhost:8080/"
        },
        "id": "jPtB8MGoPSKO",
        "outputId": "e679959b-d1e9-42ab-85ea-4e6027a05c1e"
      },
      "source": [
        "scores.mean()"
      ],
      "execution_count": 65,
      "outputs": [
        {
          "output_type": "execute_result",
          "data": {
            "text/plain": [
              "0.7158317337379122"
            ]
          },
          "metadata": {
            "tags": []
          },
          "execution_count": 65
        }
      ]
    },
    {
      "cell_type": "code",
      "metadata": {
        "id": "uJxrQ9C8PSNU"
      },
      "source": [
        "#Its our final model score performance:"
      ],
      "execution_count": 67,
      "outputs": []
    },
    {
      "cell_type": "code",
      "metadata": {
        "colab": {
          "base_uri": "https://localhost:8080/",
          "height": 312
        },
        "id": "U2Z1nkEXPSVi",
        "outputId": "481c4927-522c-4de5-bc19-7ea03b10e1cf"
      },
      "source": [
        "#AUC and ROC Curve:\n",
        "from sklearn.metrics import roc_curve\n",
        "from sklearn.metrics import roc_auc_score\n",
        "y_pred_prob = classifier.predict_proba(X_test)[:,1]\n",
        "tpr,fpr,thresholds = roc_curve(y_test,y_pred_prob)\n",
        "plt.plot([0,1],[0,1],'k--')\n",
        "plt.plot(tpr,fpr,label ='Random Forest Regression')\n",
        "plt.xlabel('False positive Rate')\n",
        "plt.ylabel('True Positive Rate')\n",
        "plt.title('Random Forest Regression')\n",
        "plt.show()\n",
        "\n",
        "auc_score = roc_auc_score(y_test,y_predict)\n",
        "print(auc_score)"
      ],
      "execution_count": 68,
      "outputs": [
        {
          "output_type": "display_data",
          "data": {
            "image/png": "[encoded data removed]",
            "text/plain": [
              "<Figure size 432x288 with 1 Axes>"
            ]
          },
          "metadata": {
            "tags": [],
            "needs_background": "light"
          }
        },
        {
          "output_type": "stream",
          "text": [
            "0.78363074811256\n"
          ],
          "name": "stdout"
        }
      ]
    },
    {
      "cell_type": "code",
      "metadata": {
        "colab": {
          "base_uri": "https://localhost:8080/"
        },
        "id": "WjEKUb5RN3VV",
        "outputId": "677c61b3-9215-4e38-ba93-c61a79c14b3b"
      },
      "source": [
        "#Saving the best Model:\n",
        "import joblib\n",
        "joblib.dump(classifier,'classifier.obj')\n",
        "classifier_from_joblib = joblib.load('classifier.obj')\n",
        "classifier_from_joblib.predict(X_test)"
      ],
      "execution_count": 69,
      "outputs": [
        {
          "output_type": "execute_result",
          "data": {
            "text/plain": [
              "array([1, 0, 0, 0, 0, 0, 0, 0, 1, 0, 1, 1, 0, 0, 1, 0, 0, 0, 1, 0, 1, 0,\n",
              "       0, 1, 0, 1, 0, 0, 1, 1, 1, 1, 1, 1, 0, 1, 0, 1, 0, 0, 1, 1, 0, 1,\n",
              "       0, 0, 0, 1, 0, 0, 0, 0, 1, 1, 1, 0, 1, 0, 0, 1, 0, 0, 0, 1, 0, 1,\n",
              "       0, 0, 0, 0, 1, 1, 1, 1, 0, 1, 1, 1, 1, 1, 0, 1, 0, 1, 1, 0, 0, 0,\n",
              "       0, 0, 0, 0, 0, 0, 0, 1, 0, 1, 0, 1, 0, 1, 0, 0, 0, 0, 0, 1, 1])"
            ]
          },
          "metadata": {
            "tags": []
          },
          "execution_count": 69
        }
      ]
    }
  ]
}