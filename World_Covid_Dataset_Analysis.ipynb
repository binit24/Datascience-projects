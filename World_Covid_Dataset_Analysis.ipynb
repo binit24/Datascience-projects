{
  "nbformat": 4,
  "nbformat_minor": 0,
  "metadata": {
    "colab": {
      "name": "World Covid Dataset Analysis",
      "provenance": [],
      "authorship_tag": "ABX9TyMiuUXS7Q51ewcd4TZ8gNNg",
      "include_colab_link": true
    },
    "kernelspec": {
      "name": "python3",
      "display_name": "Python 3"
    }
  },
  "cells": [
    {
      "cell_type": "markdown",
      "metadata": {
        "id": "view-in-github",
        "colab_type": "text"
      },
      "source": [
        "<a href=\"https://colab.research.google.com/github/binit24/Datascience.com/blob/main/World_Covid_Dataset_Analysis.ipynb\" target=\"_parent\"><img src=\"https://colab.research.google.com/assets/colab-badge.svg\" alt=\"Open In Colab\"/></a>"
      ]
    },
    {
      "cell_type": "code",
      "metadata": {
        "id": "p69Y9R7mmQ-V"
      },
      "source": [
        "#Importing Libraries.\r\n",
        "import pandas as pd\r\n",
        "import numpy as np\r\n",
        "import matplotlib.pyplot as plt\r\n",
        "import seaborn as sns\r\n",
        "import os\r\n",
        "#import warnings:\r\n",
        "import warnings\r\n",
        "warnings.filterwarnings('ignore')"
      ],
      "execution_count": 1,
      "outputs": []
    },
    {
      "cell_type": "code",
      "metadata": {
        "colab": {
          "base_uri": "https://localhost:8080/"
        },
        "id": "3Frg_L8Vmj8B",
        "outputId": "9a685d40-9921-439d-e690-95f6f839c82e"
      },
      "source": [
        "from google.colab import drive\r\n",
        "drive.mount('/content/drive')"
      ],
      "execution_count": null,
      "outputs": [
        {
          "output_type": "stream",
          "text": [
            "Mounted at /content/drive\n"
          ],
          "name": "stdout"
        }
      ]
    },
    {
      "cell_type": "code",
      "metadata": {
        "id": "piIvjr-0mj_f"
      },
      "source": [
        "f = open(\"worldcovid.csv\")"
      ],
      "execution_count": 2,
      "outputs": []
    },
    {
      "cell_type": "code",
      "metadata": {
        "id": "KmjBZtotmkCp"
      },
      "source": [
        "f = open(\"worldcovid2.csv\")"
      ],
      "execution_count": 3,
      "outputs": []
    },
    {
      "cell_type": "code",
      "metadata": {
        "colab": {
          "base_uri": "https://localhost:8080/",
          "height": 212
        },
        "id": "NCV8X8KGnFKB",
        "outputId": "5e0a2f2b-1b7c-41f0-c03f-cde8ac11687b"
      },
      "source": [
        "#Reading the first Dataset:\r\n",
        "df = pd.read_csv('worldcovid.csv')\r\n",
        "print(df.shape) #checking no of rows and columns in the dataset.\r\n",
        "df1.head()"
      ],
      "execution_count": 52,
      "outputs": [
        {
          "output_type": "stream",
          "text": [
            "(6603, 9)\n"
          ],
          "name": "stdout"
        },
        {
          "output_type": "execute_result",
          "data": {
            "text/html": [
              "<div>\n",
              "<style scoped>\n",
              "    .dataframe tbody tr th:only-of-type {\n",
              "        vertical-align: middle;\n",
              "    }\n",
              "\n",
              "    .dataframe tbody tr th {\n",
              "        vertical-align: top;\n",
              "    }\n",
              "\n",
              "    .dataframe thead th {\n",
              "        text-align: right;\n",
              "    }\n",
              "</style>\n",
              "<table border=\"1\" class=\"dataframe\">\n",
              "  <thead>\n",
              "    <tr style=\"text-align: right;\">\n",
              "      <th></th>\n",
              "      <th>Date</th>\n",
              "      <th>Country</th>\n",
              "      <th>Population</th>\n",
              "      <th>Total Tests</th>\n",
              "      <th>Total Cases</th>\n",
              "      <th>Total Deaths</th>\n",
              "      <th>Total Recovered</th>\n",
              "      <th>Serious or Critical</th>\n",
              "      <th>Active Cases</th>\n",
              "    </tr>\n",
              "  </thead>\n",
              "  <tbody>\n",
              "    <tr>\n",
              "      <th>0</th>\n",
              "      <td>2020-04-18</td>\n",
              "      <td>USA</td>\n",
              "      <td>330774664</td>\n",
              "      <td>3722145.0</td>\n",
              "      <td>738792.0</td>\n",
              "      <td>39014.0</td>\n",
              "      <td>68269.0</td>\n",
              "      <td>13551.0</td>\n",
              "      <td>631509.0</td>\n",
              "    </tr>\n",
              "    <tr>\n",
              "      <th>1</th>\n",
              "      <td>2020-04-18</td>\n",
              "      <td>Russia</td>\n",
              "      <td>145927292</td>\n",
              "      <td>1831892.0</td>\n",
              "      <td>36793.0</td>\n",
              "      <td>313.0</td>\n",
              "      <td>3057.0</td>\n",
              "      <td>8.0</td>\n",
              "      <td>33423.0</td>\n",
              "    </tr>\n",
              "    <tr>\n",
              "      <th>2</th>\n",
              "      <td>2020-04-18</td>\n",
              "      <td>Spain</td>\n",
              "      <td>46752703</td>\n",
              "      <td>930230.0</td>\n",
              "      <td>194416.0</td>\n",
              "      <td>20043.0</td>\n",
              "      <td>74797.0</td>\n",
              "      <td>7371.0</td>\n",
              "      <td>99576.0</td>\n",
              "    </tr>\n",
              "    <tr>\n",
              "      <th>3</th>\n",
              "      <td>2020-04-18</td>\n",
              "      <td>Brazil</td>\n",
              "      <td>212380932</td>\n",
              "      <td>62985.0</td>\n",
              "      <td>36722.0</td>\n",
              "      <td>2361.0</td>\n",
              "      <td>14026.0</td>\n",
              "      <td>6634.0</td>\n",
              "      <td>20335.0</td>\n",
              "    </tr>\n",
              "    <tr>\n",
              "      <th>4</th>\n",
              "      <td>2020-04-18</td>\n",
              "      <td>UK</td>\n",
              "      <td>67844241</td>\n",
              "      <td>460437.0</td>\n",
              "      <td>114217.0</td>\n",
              "      <td>15464.0</td>\n",
              "      <td>NaN</td>\n",
              "      <td>1559.0</td>\n",
              "      <td>98409.0</td>\n",
              "    </tr>\n",
              "  </tbody>\n",
              "</table>\n",
              "</div>"
            ],
            "text/plain": [
              "         Date Country  ...  Serious or Critical  Active Cases\n",
              "0  2020-04-18     USA  ...              13551.0      631509.0\n",
              "1  2020-04-18  Russia  ...                  8.0       33423.0\n",
              "2  2020-04-18   Spain  ...               7371.0       99576.0\n",
              "3  2020-04-18  Brazil  ...               6634.0       20335.0\n",
              "4  2020-04-18      UK  ...               1559.0       98409.0\n",
              "\n",
              "[5 rows x 9 columns]"
            ]
          },
          "metadata": {
            "tags": []
          },
          "execution_count": 52
        }
      ]
    },
    {
      "cell_type": "code",
      "metadata": {
        "colab": {
          "base_uri": "https://localhost:8080/",
          "height": 212
        },
        "id": "bs2xad90nFM8",
        "outputId": "d681abd9-b258-452d-f681-efdf216f1061"
      },
      "source": [
        "#Reading the Second Dataset:\r\n",
        "df1 = pd.read_csv('worldcovid2.csv')\r\n",
        "print(df.shape) #checking no of rows and columns in the dataset.\r\n",
        "df1.head()"
      ],
      "execution_count": 53,
      "outputs": [
        {
          "output_type": "stream",
          "text": [
            "(6603, 9)\n"
          ],
          "name": "stdout"
        },
        {
          "output_type": "execute_result",
          "data": {
            "text/html": [
              "<div>\n",
              "<style scoped>\n",
              "    .dataframe tbody tr th:only-of-type {\n",
              "        vertical-align: middle;\n",
              "    }\n",
              "\n",
              "    .dataframe tbody tr th {\n",
              "        vertical-align: top;\n",
              "    }\n",
              "\n",
              "    .dataframe thead th {\n",
              "        text-align: right;\n",
              "    }\n",
              "</style>\n",
              "<table border=\"1\" class=\"dataframe\">\n",
              "  <thead>\n",
              "    <tr style=\"text-align: right;\">\n",
              "      <th></th>\n",
              "      <th>Country</th>\n",
              "      <th>Fraction age 0-14 years</th>\n",
              "      <th>Fraction age 15-64 years</th>\n",
              "      <th>Fraction age 65+ years</th>\n",
              "    </tr>\n",
              "  </thead>\n",
              "  <tbody>\n",
              "    <tr>\n",
              "      <th>0</th>\n",
              "      <td>USA</td>\n",
              "      <td>0.189</td>\n",
              "      <td>0.657</td>\n",
              "      <td>0.154</td>\n",
              "    </tr>\n",
              "    <tr>\n",
              "      <th>1</th>\n",
              "      <td>Russia</td>\n",
              "      <td>0.176</td>\n",
              "      <td>0.682</td>\n",
              "      <td>0.142</td>\n",
              "    </tr>\n",
              "    <tr>\n",
              "      <th>2</th>\n",
              "      <td>Spain</td>\n",
              "      <td>0.147</td>\n",
              "      <td>0.659</td>\n",
              "      <td>0.194</td>\n",
              "    </tr>\n",
              "    <tr>\n",
              "      <th>3</th>\n",
              "      <td>Brazil</td>\n",
              "      <td>0.217</td>\n",
              "      <td>0.697</td>\n",
              "      <td>0.086</td>\n",
              "    </tr>\n",
              "    <tr>\n",
              "      <th>4</th>\n",
              "      <td>UK</td>\n",
              "      <td>0.177</td>\n",
              "      <td>0.638</td>\n",
              "      <td>0.185</td>\n",
              "    </tr>\n",
              "  </tbody>\n",
              "</table>\n",
              "</div>"
            ],
            "text/plain": [
              "  Country  ...  Fraction age 65+ years\n",
              "0     USA  ...                   0.154\n",
              "1  Russia  ...                   0.142\n",
              "2   Spain  ...                   0.194\n",
              "3  Brazil  ...                   0.086\n",
              "4      UK  ...                   0.185\n",
              "\n",
              "[5 rows x 4 columns]"
            ]
          },
          "metadata": {
            "tags": []
          },
          "execution_count": 53
        }
      ]
    },
    {
      "cell_type": "code",
      "metadata": {
        "colab": {
          "base_uri": "https://localhost:8080/"
        },
        "id": "omT0dPGeyb7u",
        "outputId": "9e4979d8-e3c2-4050-9234-368bea02772c"
      },
      "source": [
        "#Checking the info:\r\n",
        "df.info()"
      ],
      "execution_count": 54,
      "outputs": [
        {
          "output_type": "stream",
          "text": [
            "<class 'pandas.core.frame.DataFrame'>\n",
            "RangeIndex: 6603 entries, 0 to 6602\n",
            "Data columns (total 9 columns):\n",
            " #   Column               Non-Null Count  Dtype  \n",
            "---  ------               --------------  -----  \n",
            " 0   Date                 6603 non-null   object \n",
            " 1   Country              6603 non-null   object \n",
            " 2   Population           6603 non-null   int64  \n",
            " 3   Total Tests          5505 non-null   float64\n",
            " 4   Total Cases          6554 non-null   float64\n",
            " 5   Total Deaths         5367 non-null   float64\n",
            " 6   Total Recovered      6318 non-null   float64\n",
            " 7   Serious or Critical  4117 non-null   float64\n",
            " 8   Active Cases         6544 non-null   float64\n",
            "dtypes: float64(6), int64(1), object(2)\n",
            "memory usage: 464.4+ KB\n"
          ],
          "name": "stdout"
        }
      ]
    },
    {
      "cell_type": "code",
      "metadata": {
        "colab": {
          "base_uri": "https://localhost:8080/"
        },
        "id": "kgZ3Fxcsyb_E",
        "outputId": "98143201-02d0-4f60-90a1-1fceba61dab2"
      },
      "source": [
        "#Checking for categorical columns:\r\n",
        "cat_col = []\r\n",
        "for x in df.dtypes.index:\r\n",
        "    if df.dtypes[x] == 'object':\r\n",
        "        cat_col.append(x)\r\n",
        "print(\"Categorical Columns:\",cat_col)"
      ],
      "execution_count": 15,
      "outputs": [
        {
          "output_type": "stream",
          "text": [
            "Categorical Columns: ['Date', 'Country']\n"
          ],
          "name": "stdout"
        }
      ]
    },
    {
      "cell_type": "code",
      "metadata": {
        "colab": {
          "base_uri": "https://localhost:8080/"
        },
        "id": "r7uD9GtcycC0",
        "outputId": "6e7c38e6-acce-43f3-f977-414feb4ecbeb"
      },
      "source": [
        "#Checking the value count and unique value of each categorical feature:\r\n",
        "for col in df.columns:\r\n",
        "    if df[col].dtypes == object:\r\n",
        "        print(str(col)+':'+str(df[col].unique()))\r\n",
        "        print(df[col].value_counts())\r\n",
        "        print('********************************************')"
      ],
      "execution_count": 16,
      "outputs": [
        {
          "output_type": "stream",
          "text": [
            "Date:['2020-04-18' '2020-04-19' '2020-04-20' '2020-04-21' '2020-04-22'\n",
            " '2020-04-23' '2020-04-24' '2020-04-25' '2020-04-26' '2020-04-27'\n",
            " '2020-04-28' '2020-04-29' '2020-04-30' '2020-05-01' '2020-05-02'\n",
            " '2020-05-03' '2020-05-04' '2020-05-05' '2020-05-06' '2020-05-07'\n",
            " '2020-05-08' '2020-05-09' '2020-05-10' '2020-05-11' '2020-05-12'\n",
            " '2020-05-13' '2020-05-14' '2020-05-15' '2020-05-16' '2020-05-17'\n",
            " '2020-05-18']\n",
            "2020-05-11    213\n",
            "2020-05-03    213\n",
            "2020-05-05    213\n",
            "2020-04-22    213\n",
            "2020-05-02    213\n",
            "2020-04-23    213\n",
            "2020-04-20    213\n",
            "2020-05-16    213\n",
            "2020-04-25    213\n",
            "2020-05-09    213\n",
            "2020-04-30    213\n",
            "2020-04-21    213\n",
            "2020-05-18    213\n",
            "2020-05-07    213\n",
            "2020-05-04    213\n",
            "2020-05-01    213\n",
            "2020-05-15    213\n",
            "2020-05-06    213\n",
            "2020-05-14    213\n",
            "2020-04-19    213\n",
            "2020-04-24    213\n",
            "2020-05-08    213\n",
            "2020-04-18    213\n",
            "2020-05-12    213\n",
            "2020-04-29    213\n",
            "2020-05-17    213\n",
            "2020-04-27    213\n",
            "2020-04-26    213\n",
            "2020-04-28    213\n",
            "2020-05-13    213\n",
            "2020-05-10    213\n",
            "Name: Date, dtype: int64\n",
            "********************************************\n",
            "Country:['USA' 'Russia' 'Spain' 'Brazil' 'UK' 'Italy' 'France' 'Germany' 'Turkey'\n",
            " 'Iran' 'India' 'Peru' 'China' 'Canada' 'Saudi Arabia' 'Belgium' 'Mexico'\n",
            " 'Chile' 'Netherlands' 'Pakistan' 'Qatar' 'Ecuador' 'Switzerland'\n",
            " 'Belarus' 'Sweden' 'Portugal' 'Singapore' 'Ireland' 'UAE' 'Bangladesh'\n",
            " 'Poland' 'Ukraine' 'Indonesia' 'Romania' 'Israel' 'South Africa' 'Japan'\n",
            " 'Colombia' 'Austria' 'Kuwait' 'Egypt' 'Dominican Republic' 'Philippines'\n",
            " 'S. Korea' 'Denmark' 'Serbia' 'Panama' 'Czechia' 'Argentina' 'Norway'\n",
            " 'Algeria' 'Bahrain' 'Afghanistan' 'Australia' 'Morocco' 'Malaysia'\n",
            " 'Kazakhstan' 'Finland' 'Nigeria' 'Moldova' 'Ghana' 'Oman' 'Armenia'\n",
            " 'Bolivia' 'Luxembourg' 'Iraq' 'Hungary' 'Cameroon' 'Azerbaijan'\n",
            " 'Thailand' 'Greece' 'Guinea' 'Uzbekistan' 'Honduras' 'Sudan' 'Senegal'\n",
            " 'Bosnia and Herzegovina' 'Bulgaria' 'Croatia' 'Ivory Coast' 'Guatemala'\n",
            " 'Cuba' 'North Macedonia' 'Iceland' 'Estonia' 'Tajikistan' 'Lithuania'\n",
            " 'DRC' 'Djibouti' 'New Zealand' 'Slovakia' 'Slovenia' 'Somalia' 'Gabon'\n",
            " 'El Salvador' 'Mayotte' 'Kyrgyzstan' 'Maldives' 'Hong Kong' 'Tunisia'\n",
            " 'Guinea-Bissau' 'Latvia' 'Sri Lanka' 'Albania' 'Lebanon' 'Cyprus' 'Kenya'\n",
            " 'Niger' 'Mali' 'Costa Rica' 'Burkina Faso' 'Paraguay' 'Andorra' 'Zambia'\n",
            " 'Uruguay' 'Equatorial Guinea' 'Georgia' 'San Marino' 'Jordan' 'Venezuela'\n",
            " 'Malta' 'Channel Islands' 'Haiti' 'Jamaica' 'Chad' 'Sierra Leone'\n",
            " 'Tanzania' 'Réunion' 'Taiwan' 'Congo' 'Palestine' 'Nepal' 'Ethiopia'\n",
            " 'Benin' 'Isle of Man' 'Mauritius' 'Togo' 'Cabo Verde' 'CAR' 'Montenegro'\n",
            " 'Vietnam' 'Madagascar' 'Rwanda' 'South Sudan' 'Uganda'\n",
            " 'Sao Tome and Principe' 'Liberia' 'French Guiana' 'Eswatini' 'Martinique'\n",
            " 'Myanmar' 'Faeroe Islands' 'Guadeloupe' 'Gibraltar' 'Mozambique' 'Brunei'\n",
            " 'Mongolia' 'Yemen' 'Bermuda' 'Guyana' 'Cambodia' 'Trinidad and Tobago'\n",
            " 'Aruba' 'Monaco' 'Bahamas' 'Cayman Islands' 'Barbados' 'Liechtenstein'\n",
            " 'Mauritania' 'Sint Maarten' 'Malawi' 'Libya' 'French Polynesia' 'Syria'\n",
            " 'Angola' 'Zimbabwe' 'Macao' 'Burundi' 'Saint Martin' 'Eritrea'\n",
            " 'Nicaragua' 'Antigua and Barbuda' 'Botswana' 'Gambia' 'Timor-Leste'\n",
            " 'Grenada' 'Bhutan' 'Laos' 'Belize' 'Fiji' 'New Caledonia' 'Saint Lucia'\n",
            " 'St. Vincent Grenadines' 'Curaçao' 'Dominica' 'Namibia'\n",
            " 'Saint Kitts and Nevis' 'Falkland Islands' 'Turks and Caicos'\n",
            " 'Vatican City' 'Comoros' 'Montserrat' 'Suriname' 'Greenland' 'Seychelles'\n",
            " 'British Virgin Islands' 'Papua New Guinea' 'Caribbean Netherlands'\n",
            " 'St. Barth' 'Western Sahara' 'Anguilla' 'Lesotho' 'Saint Pierre Miquelon']\n",
            "Bahrain         31\n",
            "Zimbabwe        31\n",
            "Haiti           31\n",
            "Canada          31\n",
            "Kuwait          31\n",
            "                ..\n",
            "Iran            31\n",
            "St. Barth       31\n",
            "Sierra Leone    31\n",
            "Saudi Arabia    31\n",
            "Bolivia         31\n",
            "Name: Country, Length: 213, dtype: int64\n",
            "********************************************\n"
          ],
          "name": "stdout"
        }
      ]
    },
    {
      "cell_type": "code",
      "metadata": {
        "colab": {
          "base_uri": "https://localhost:8080/",
          "height": 533
        },
        "id": "OWsSO5YyycF9",
        "outputId": "503d90a5-c322-4507-e524-ba2a96130822"
      },
      "source": [
        "#Checking the null values in the dataset:\r\n",
        "missing_value = pd.DataFrame(df.isnull().sum(),columns=['Total Missing Value'])\r\n",
        "print(missing_value)\r\n",
        "sns.heatmap(df.isnull(),cmap='summer')"
      ],
      "execution_count": 55,
      "outputs": [
        {
          "output_type": "stream",
          "text": [
            "                     Total Missing Value\n",
            "Date                                   0\n",
            "Country                                0\n",
            "Population                             0\n",
            "Total Tests                         1098\n",
            "Total Cases                           49\n",
            "Total Deaths                        1236\n",
            "Total Recovered                      285\n",
            "Serious or Critical                 2486\n",
            "Active Cases                          59\n"
          ],
          "name": "stdout"
        },
        {
          "output_type": "execute_result",
          "data": {
            "text/plain": [
              "<matplotlib.axes._subplots.AxesSubplot at 0x7fc7c60d13c8>"
            ]
          },
          "metadata": {
            "tags": []
          },
          "execution_count": 55
        },
        {
          "output_type": "display_data",
          "data": {
            "image/png": "[encoded data removed]",
            "text/plain": [
              "<Figure size 432x288 with 2 Axes>"
            ]
          },
          "metadata": {
            "tags": [],
            "needs_background": "light"
          }
        }
      ]
    },
    {
      "cell_type": "code",
      "metadata": {
        "id": "e3sQKIZenFl1"
      },
      "source": [
        "#we will use simple imputer function from sklearn to remove null values:\r\n",
        "from sklearn.impute import SimpleImputer\r\n",
        "imp = SimpleImputer(strategy=\"mean\")\r\n",
        "for col in ['Active Cases','Total Cases','Total Tests','Total Deaths','Total Recovered','Serious or Critical']:\r\n",
        "  df[col] = imp.fit_transform(df[col].values.reshape(-1,1))"
      ],
      "execution_count": 56,
      "outputs": []
    },
    {
      "cell_type": "code",
      "metadata": {
        "colab": {
          "base_uri": "https://localhost:8080/",
          "height": 382
        },
        "id": "xM-XySImnFoU",
        "outputId": "739a3b8c-3641-4734-a9a2-5d0b7b879477"
      },
      "source": [
        "#Now again checking for missing values:\r\n",
        "print(\"Are There Missing Data? :\",df.isnull().any().any())\r\n",
        "sns.heatmap(df.isnull(),cmap='summer')"
      ],
      "execution_count": 57,
      "outputs": [
        {
          "output_type": "stream",
          "text": [
            "Are There Missing Data? : False\n"
          ],
          "name": "stdout"
        },
        {
          "output_type": "execute_result",
          "data": {
            "text/plain": [
              "<matplotlib.axes._subplots.AxesSubplot at 0x7fc7c6018438>"
            ]
          },
          "metadata": {
            "tags": []
          },
          "execution_count": 57
        },
        {
          "output_type": "display_data",
          "data": {
            "image/png": "[encoded data removed]",
            "text/plain": [
              "<Figure size 432x288 with 2 Axes>"
            ]
          },
          "metadata": {
            "tags": [],
            "needs_background": "light"
          }
        }
      ]
    },
    {
      "cell_type": "code",
      "metadata": {
        "colab": {
          "base_uri": "https://localhost:8080/"
        },
        "id": "XaoGlQsVnFtj",
        "outputId": "421b7bcf-ef6f-469e-e7ad-4493c80ab067"
      },
      "source": [
        "#checking the Columns:\r\n",
        "columns = list(df.columns)\r\n",
        "print(df.shape)\r\n",
        "print(columns)"
      ],
      "execution_count": 58,
      "outputs": [
        {
          "output_type": "stream",
          "text": [
            "(6603, 9)\n",
            "['Date', 'Country', 'Population', 'Total Tests', 'Total Cases', 'Total Deaths', 'Total Recovered', 'Serious or Critical', 'Active Cases']\n"
          ],
          "name": "stdout"
        }
      ]
    },
    {
      "cell_type": "code",
      "metadata": {
        "colab": {
          "base_uri": "https://localhost:8080/",
          "height": 284
        },
        "id": "w_HyLg2qnFwT",
        "outputId": "3b52927d-a2a7-463e-b76d-eade3c0d1c16"
      },
      "source": [
        "#Doing Statistical Analysis by using Describe Function\r\n",
        "#Checking interquantile range.\r\n",
        "#Checking mean median mode\r\n",
        "df.describe()"
      ],
      "execution_count": 59,
      "outputs": [
        {
          "output_type": "execute_result",
          "data": {
            "text/html": [
              "<div>\n",
              "<style scoped>\n",
              "    .dataframe tbody tr th:only-of-type {\n",
              "        vertical-align: middle;\n",
              "    }\n",
              "\n",
              "    .dataframe tbody tr th {\n",
              "        vertical-align: top;\n",
              "    }\n",
              "\n",
              "    .dataframe thead th {\n",
              "        text-align: right;\n",
              "    }\n",
              "</style>\n",
              "<table border=\"1\" class=\"dataframe\">\n",
              "  <thead>\n",
              "    <tr style=\"text-align: right;\">\n",
              "      <th></th>\n",
              "      <th>Population</th>\n",
              "      <th>Total Tests</th>\n",
              "      <th>Total Cases</th>\n",
              "      <th>Total Deaths</th>\n",
              "      <th>Total Recovered</th>\n",
              "      <th>Serious or Critical</th>\n",
              "      <th>Active Cases</th>\n",
              "    </tr>\n",
              "  </thead>\n",
              "  <tbody>\n",
              "    <tr>\n",
              "      <th>count</th>\n",
              "      <td>6.603000e+03</td>\n",
              "      <td>6.603000e+03</td>\n",
              "      <td>6.603000e+03</td>\n",
              "      <td>6603.000000</td>\n",
              "      <td>6603.000000</td>\n",
              "      <td>6603.000000</td>\n",
              "      <td>6.603000e+03</td>\n",
              "    </tr>\n",
              "    <tr>\n",
              "      <th>mean</th>\n",
              "      <td>3.637913e+07</td>\n",
              "      <td>2.167252e+05</td>\n",
              "      <td>1.692968e+04</td>\n",
              "      <td>1416.252096</td>\n",
              "      <td>5855.424185</td>\n",
              "      <td>386.748360</td>\n",
              "      <td>9.964142e+03</td>\n",
              "    </tr>\n",
              "    <tr>\n",
              "      <th>std</th>\n",
              "      <td>1.411537e+08</td>\n",
              "      <td>6.934856e+05</td>\n",
              "      <td>8.828521e+04</td>\n",
              "      <td>5990.992214</td>\n",
              "      <td>22955.519135</td>\n",
              "      <td>1309.473245</td>\n",
              "      <td>6.511732e+04</td>\n",
              "    </tr>\n",
              "    <tr>\n",
              "      <th>min</th>\n",
              "      <td>8.010000e+02</td>\n",
              "      <td>1.000000e+01</td>\n",
              "      <td>1.000000e+00</td>\n",
              "      <td>0.000000</td>\n",
              "      <td>1.000000</td>\n",
              "      <td>1.000000</td>\n",
              "      <td>0.000000e+00</td>\n",
              "    </tr>\n",
              "    <tr>\n",
              "      <th>25%</th>\n",
              "      <td>8.672680e+05</td>\n",
              "      <td>4.733000e+03</td>\n",
              "      <td>8.000000e+01</td>\n",
              "      <td>8.000000</td>\n",
              "      <td>29.000000</td>\n",
              "      <td>7.000000</td>\n",
              "      <td>2.700000e+01</td>\n",
              "    </tr>\n",
              "    <tr>\n",
              "      <th>50%</th>\n",
              "      <td>6.859926e+06</td>\n",
              "      <td>5.419500e+04</td>\n",
              "      <td>6.320000e+02</td>\n",
              "      <td>55.000000</td>\n",
              "      <td>253.000000</td>\n",
              "      <td>137.000000</td>\n",
              "      <td>2.840000e+02</td>\n",
              "    </tr>\n",
              "    <tr>\n",
              "      <th>75%</th>\n",
              "      <td>2.546422e+07</td>\n",
              "      <td>2.167252e+05</td>\n",
              "      <td>5.222500e+03</td>\n",
              "      <td>1416.252096</td>\n",
              "      <td>1786.500000</td>\n",
              "      <td>386.748360</td>\n",
              "      <td>2.230500e+03</td>\n",
              "    </tr>\n",
              "    <tr>\n",
              "      <th>max</th>\n",
              "      <td>1.439324e+09</td>\n",
              "      <td>1.230074e+07</td>\n",
              "      <td>1.550294e+06</td>\n",
              "      <td>91981.000000</td>\n",
              "      <td>356383.000000</td>\n",
              "      <td>18671.000000</td>\n",
              "      <td>1.101930e+06</td>\n",
              "    </tr>\n",
              "  </tbody>\n",
              "</table>\n",
              "</div>"
            ],
            "text/plain": [
              "         Population   Total Tests  ...  Serious or Critical  Active Cases\n",
              "count  6.603000e+03  6.603000e+03  ...          6603.000000  6.603000e+03\n",
              "mean   3.637913e+07  2.167252e+05  ...           386.748360  9.964142e+03\n",
              "std    1.411537e+08  6.934856e+05  ...          1309.473245  6.511732e+04\n",
              "min    8.010000e+02  1.000000e+01  ...             1.000000  0.000000e+00\n",
              "25%    8.672680e+05  4.733000e+03  ...             7.000000  2.700000e+01\n",
              "50%    6.859926e+06  5.419500e+04  ...           137.000000  2.840000e+02\n",
              "75%    2.546422e+07  2.167252e+05  ...           386.748360  2.230500e+03\n",
              "max    1.439324e+09  1.230074e+07  ...         18671.000000  1.101930e+06\n",
              "\n",
              "[8 rows x 7 columns]"
            ]
          },
          "metadata": {
            "tags": []
          },
          "execution_count": 59
        }
      ]
    },
    {
      "cell_type": "code",
      "metadata": {
        "id": "bNKdiHddnFym"
      },
      "source": [
        "#Avg Total Recovered cases is 5855.424185\r\n",
        "#Avg no of Deaths is around 1416.252096\r\n",
        "#Avg Serious or Critical cases 386.748360\r\n",
        "#There is possibility of presence of outliers as mean of some features are greater than median.\r\n",
        "#In some of features theres an huge difference between 75% and max which confirm the presence of outliers."
      ],
      "execution_count": null,
      "outputs": []
    },
    {
      "cell_type": "code",
      "metadata": {
        "id": "zo4gFGehnF1w"
      },
      "source": [
        "#Exploratory Data Analysis\r\n",
        "\r\n",
        "#Univarite Analysis\r\n",
        "\r\n",
        "#Multivariate Analysis\r\n",
        "\r\n",
        "#Bivariate Analysis\r\n",
        "\r\n",
        "#Here we check the relationship between different independant and dependant variable"
      ],
      "execution_count": null,
      "outputs": []
    },
    {
      "cell_type": "code",
      "metadata": {
        "colab": {
          "base_uri": "https://localhost:8080/"
        },
        "id": "WY40S_8vnF64",
        "outputId": "b2da216f-43e5-46ba-b551-3959e80b8f97"
      },
      "source": [
        "#Univariate Analysis:\r\n",
        "#Checking the total deaths cases:\r\n",
        "df['Total Deaths'].sum()"
      ],
      "execution_count": 22,
      "outputs": [
        {
          "output_type": "execute_result",
          "data": {
            "text/plain": [
              "9351512.590832867"
            ]
          },
          "metadata": {
            "tags": []
          },
          "execution_count": 22
        }
      ]
    },
    {
      "cell_type": "code",
      "metadata": {
        "colab": {
          "base_uri": "https://localhost:8080/",
          "height": 581
        },
        "id": "_8PgLEH4mkGI",
        "outputId": "b3e4eeb0-a668-4333-da8b-8b5cf2365a8b"
      },
      "source": [
        "#Bivariate Analysis:\r\n",
        "#Checking top 10 countries with highest recoverd cases:\r\n",
        "top_10 = df.groupby(by ='Country')['Total Recovered'].sum().sort_values(ascending=False).head(10).reset_index()\r\n",
        "print(top_10)\r\n",
        "# Visualizing by bar plot:\r\n",
        "plt.figure(figsize=(10,5))\r\n",
        "plt.xticks(rotation=45)\r\n",
        "sns.barplot(top_10['Country'],top_10['Total Recovered'])\r\n",
        "plt.xlabel('Country')\r\n",
        "plt.ylabel('Total Recovered')\r\n",
        "plt.title('Top 10 countries with highest recoverd cases')"
      ],
      "execution_count": null,
      "outputs": [
        {
          "output_type": "stream",
          "text": [
            "   Country  Total Recovered\n",
            "0      USA        6004896.0\n",
            "1    Spain        4401203.0\n",
            "2  Germany        3934213.0\n",
            "3    Italy        2621286.0\n",
            "4    China        2409176.0\n",
            "5     Iran        2401164.0\n",
            "6   Turkey        1915267.0\n",
            "7   France        1565154.0\n",
            "8   Brazil        1533045.0\n",
            "9   Canada         773248.0\n"
          ],
          "name": "stdout"
        },
        {
          "output_type": "execute_result",
          "data": {
            "text/plain": [
              "Text(0.5, 1.0, 'Top 10 countries with highest recoverd cases')"
            ]
          },
          "metadata": {
            "tags": []
          },
          "execution_count": 18
        },
        {
          "output_type": "display_data",
          "data": {
            "image/png": "[encoded data removed]",
            "text/plain": [
              "<Figure size 720x360 with 1 Axes>"
            ]
          },
          "metadata": {
            "tags": [],
            "needs_background": "light"
          }
        }
      ]
    },
    {
      "cell_type": "code",
      "metadata": {
        "colab": {
          "base_uri": "https://localhost:8080/",
          "height": 415
        },
        "id": "mSS5FSMMbWzs",
        "outputId": "513c03b6-a3c2-4ab6-fd14-70c342e297b4"
      },
      "source": [
        "# Bivariate Analysis Linear regression with marginal distributions\r\n",
        "# Checking the relation Bewtween Confirmed cases and Deaths\r\n",
        "plt.figure(figsize=(8,5))\r\n",
        "sns.pointplot(x=\"Date\", y=\"Total Deaths\", data=df,color='red')\r\n",
        "plt.xlabel('Date')\r\n",
        "plt.xticks(rotation=90)\r\n",
        "plt.title(\"Date Vs Deaths\")\r\n",
        "plt.ylabel('Deaths')\r\n",
        "#With increase in confirmed cases Death Rate is also rising"
      ],
      "execution_count": null,
      "outputs": [
        {
          "output_type": "execute_result",
          "data": {
            "text/plain": [
              "Text(0, 0.5, 'Deaths')"
            ]
          },
          "metadata": {
            "tags": []
          },
          "execution_count": 59
        },
        {
          "output_type": "display_data",
          "data": {
            "image/png": "[encoded data removed]",
            "text/plain": [
              "<Figure size 576x360 with 1 Axes>"
            ]
          },
          "metadata": {
            "tags": [],
            "needs_background": "light"
          }
        }
      ]
    },
    {
      "cell_type": "code",
      "metadata": {
        "id": "X1uobzzXtKw1",
        "colab": {
          "base_uri": "https://localhost:8080/",
          "height": 581
        },
        "outputId": "342f9279-ccc2-4237-ef0a-48e352a7875d"
      },
      "source": [
        "#Bivariate Analysis:\r\n",
        "#Checking top 10 countries with highest covid cases:\r\n",
        "top_10 = df.groupby(by ='Country')['Total Cases'].sum().sort_values(ascending=False).head(10).reset_index()\r\n",
        "print(top_10)\r\n",
        "# Visualizing by bar plot:\r\n",
        "plt.figure(figsize=(10,5))\r\n",
        "plt.xticks(rotation=45)\r\n",
        "sns.barplot(top_10['Country'],top_10['Total Cases'])\r\n",
        "plt.xlabel('Country')\r\n",
        "plt.ylabel('Total Cases')\r\n",
        "plt.title('Top 10 countries with highest cases')"
      ],
      "execution_count": null,
      "outputs": [
        {
          "output_type": "stream",
          "text": [
            "   Country  Total Cases\n",
            "0      USA   36196503.0\n",
            "1    Spain    7547975.0\n",
            "2    Italy    6416833.0\n",
            "3       UK    5723955.0\n",
            "4   France    5239029.0\n",
            "5  Germany    5081214.0\n",
            "6   Russia    4579604.0\n",
            "7   Turkey    3813621.0\n",
            "8   Brazil    3660023.0\n",
            "9     Iran    3081226.0\n"
          ],
          "name": "stdout"
        },
        {
          "output_type": "execute_result",
          "data": {
            "text/plain": [
              "Text(0.5, 1.0, 'Top 10 countries with highest cases')"
            ]
          },
          "metadata": {
            "tags": []
          },
          "execution_count": 60
        },
        {
          "output_type": "display_data",
          "data": {
            "image/png": "[encoded data removed]",
            "text/plain": [
              "<Figure size 720x360 with 1 Axes>"
            ]
          },
          "metadata": {
            "tags": [],
            "needs_background": "light"
          }
        }
      ]
    },
    {
      "cell_type": "code",
      "metadata": {
        "colab": {
          "base_uri": "https://localhost:8080/",
          "height": 592
        },
        "id": "KDx2j_jja3v7",
        "outputId": "6a91d59f-b424-4bbd-ba69-4354b630ee75"
      },
      "source": [
        "#Bivariate Analysis:\r\n",
        "#Checking top 10 countries with highest Total Deaths:\r\n",
        "top_10 = df.groupby(by ='Country')['Total Deaths'].sum().sort_values(ascending=False).head(10).reset_index()\r\n",
        "print(top_10)\r\n",
        "# Visualizing by bar plot:\r\n",
        "plt.figure(figsize=(10,5))\r\n",
        "plt.xticks(rotation=45)\r\n",
        "sns.barplot(top_10['Country'],top_10['Total Deaths'])\r\n",
        "plt.xlabel('Country')\r\n",
        "plt.ylabel('Total Deaths')\r\n",
        "plt.title('Top 10 countries with highest Total Deaths')"
      ],
      "execution_count": null,
      "outputs": [
        {
          "output_type": "stream",
          "text": [
            "       Country  Total Deaths\n",
            "0          USA     2102393.0\n",
            "1        Italy      881699.0\n",
            "2           UK      825478.0\n",
            "3        Spain      767305.0\n",
            "4       France      761760.0\n",
            "5       Brazil      248971.0\n",
            "6      Belgium      239111.0\n",
            "7      Germany      208244.0\n",
            "8         Iran      190809.0\n",
            "9  Netherlands      151650.0\n"
          ],
          "name": "stdout"
        },
        {
          "output_type": "execute_result",
          "data": {
            "text/plain": [
              "Text(0.5, 1.0, 'Top 10 countries with highest Total Deaths')"
            ]
          },
          "metadata": {
            "tags": []
          },
          "execution_count": 61
        },
        {
          "output_type": "display_data",
          "data": {
            "image/png": "[encoded data removed]",
            "text/plain": [
              "<Figure size 720x360 with 1 Axes>"
            ]
          },
          "metadata": {
            "tags": [],
            "needs_background": "light"
          }
        }
      ]
    },
    {
      "cell_type": "code",
      "metadata": {
        "colab": {
          "base_uri": "https://localhost:8080/",
          "height": 581
        },
        "id": "n434l4KMa3z1",
        "outputId": "6de19066-2d23-45b2-9dab-15589b266adf"
      },
      "source": [
        "#Bivariate Analysis:\r\n",
        "#Checking top 10 countries with highest Serious or Critical cases:\r\n",
        "top_10 = df.groupby(by ='Country')['Serious or Critical'].sum().sort_values(ascending=False).head(10).reset_index()\r\n",
        "print(top_10)\r\n",
        "# Visualizing by bar plot:\r\n",
        "plt.figure(figsize=(10,5))\r\n",
        "plt.xticks(rotation=45)\r\n",
        "sns.barplot(top_10['Country'],top_10['Serious or Critical'])\r\n",
        "plt.xlabel('Country')\r\n",
        "plt.ylabel('Serious or Critical')\r\n",
        "plt.title('Top 10 countries with highest Serious or Critical cases')"
      ],
      "execution_count": null,
      "outputs": [
        {
          "output_type": "stream",
          "text": [
            "   Country  Serious or Critical\n",
            "0      USA             488102.0\n",
            "1   Brazil             254091.0\n",
            "2    Spain             126692.0\n",
            "3   France             116069.0\n",
            "4     Iran              89898.0\n",
            "5  Germany              64827.0\n",
            "6   Russia              61916.0\n",
            "7    Italy              48807.0\n",
            "8       UK              48329.0\n",
            "9   Turkey              43941.0\n"
          ],
          "name": "stdout"
        },
        {
          "output_type": "execute_result",
          "data": {
            "text/plain": [
              "Text(0.5, 1.0, 'Top 10 countries with highest Serious or Critical cases')"
            ]
          },
          "metadata": {
            "tags": []
          },
          "execution_count": 62
        },
        {
          "output_type": "display_data",
          "data": {
            "image/png": "[encoded data removed]",
            "text/plain": [
              "<Figure size 720x360 with 1 Axes>"
            ]
          },
          "metadata": {
            "tags": [],
            "needs_background": "light"
          }
        }
      ]
    },
    {
      "cell_type": "code",
      "metadata": {
        "colab": {
          "base_uri": "https://localhost:8080/",
          "height": 572
        },
        "id": "PJzjntyra34N",
        "outputId": "69ef37a5-2f05-47c1-d647-257cd4b05ed9"
      },
      "source": [
        "#Bivariate Analysis:\r\n",
        "#Checking top 10 countries with highest Active Cases:\r\n",
        "top_10 = df.groupby(by ='Country')['Active Cases'].sum().sort_values(ascending=False).head(10).reset_index()\r\n",
        "print(top_10)\r\n",
        "# Visualizing by bar plot:\r\n",
        "plt.figure(figsize=(10,5))\r\n",
        "plt.xticks(rotation=45)\r\n",
        "sns.barplot(top_10['Country'],top_10['Active Cases'])\r\n",
        "plt.xlabel('Country')\r\n",
        "plt.ylabel('Active Cases')\r\n",
        "plt.title('Top 10 countries with highest Active Cases')"
      ],
      "execution_count": null,
      "outputs": [
        {
          "output_type": "stream",
          "text": [
            "  Country  Active Cases\n",
            "0     USA    28115408.0\n",
            "1      UK     3864943.0\n",
            "2  Russia     3802264.0\n",
            "3   Italy     2915063.0\n",
            "4  France     2912277.0\n",
            "5   Spain     2380836.0\n",
            "6  Brazil     1882320.0\n",
            "7  Turkey     1798965.0\n",
            "8   India     1004717.0\n",
            "9    Peru      986286.0\n"
          ],
          "name": "stdout"
        },
        {
          "output_type": "execute_result",
          "data": {
            "text/plain": [
              "Text(0.5, 1.0, 'Top 10 countries with highest Active Cases')"
            ]
          },
          "metadata": {
            "tags": []
          },
          "execution_count": 70
        },
        {
          "output_type": "display_data",
          "data": {
            "image/png": "[encoded data removed]",
            "text/plain": [
              "<Figure size 720x360 with 1 Axes>"
            ]
          },
          "metadata": {
            "tags": [],
            "needs_background": "light"
          }
        }
      ]
    },
    {
      "cell_type": "code",
      "metadata": {
        "colab": {
          "base_uri": "https://localhost:8080/",
          "height": 581
        },
        "id": "oqaywaIXpgF9",
        "outputId": "57bf8ded-46bd-4ba2-d579-faa7e388e28e"
      },
      "source": [
        "#Bivariate Analysis:\r\n",
        "#Checking top 10 countries with highest Total Tests:\r\n",
        "top_10 = df.groupby(by ='Country')['Total Tests'].sum().sort_values(ascending=False).head(10).reset_index()\r\n",
        "print(top_10)\r\n",
        "# Visualizing by bar plot:\r\n",
        "plt.figure(figsize=(10,5))\r\n",
        "plt.xticks(rotation=45)\r\n",
        "sns.barplot(top_10['Country'],top_10['Total Tests'])\r\n",
        "plt.xlabel('Country')\r\n",
        "plt.ylabel('Total Tests')\r\n",
        "plt.title('Top 10 countries with highest Total Tests')"
      ],
      "execution_count": null,
      "outputs": [
        {
          "output_type": "stream",
          "text": [
            "   Country  Total Tests\n",
            "0      USA  232000501.0\n",
            "1   Russia  130214963.0\n",
            "2  Germany   77428491.0\n",
            "3    Italy   66944808.0\n",
            "4    Spain   55646156.0\n",
            "5       UK   40873492.0\n",
            "6      UAE   36006919.0\n",
            "7    India   35718028.0\n",
            "8   Turkey   35117203.0\n",
            "9   France   29505482.0\n"
          ],
          "name": "stdout"
        },
        {
          "output_type": "execute_result",
          "data": {
            "text/plain": [
              "Text(0.5, 1.0, 'Top 10 countries with highest Total Tests')"
            ]
          },
          "metadata": {
            "tags": []
          },
          "execution_count": 71
        },
        {
          "output_type": "display_data",
          "data": {
            "image/png": "[encoded data removed]",
            "text/plain": [
              "<Figure size 720x360 with 1 Axes>"
            ]
          },
          "metadata": {
            "tags": [],
            "needs_background": "light"
          }
        }
      ]
    },
    {
      "cell_type": "code",
      "metadata": {
        "colab": {
          "base_uri": "https://localhost:8080/",
          "height": 343
        },
        "id": "WiB_l9LQa4Bm",
        "outputId": "57a44d09-1dcd-4e4a-b7ba-accb0fbaef93"
      },
      "source": [
        "#Checking city wise total confirmed and Recovered and Deaths Cases.\r\n",
        "df.groupby('Country')['Total Cases','Total Recovered','Total Deaths'].sum().sort_values(ascending=False,by='Total Deaths').reset_index().head(10)"
      ],
      "execution_count": null,
      "outputs": [
        {
          "output_type": "execute_result",
          "data": {
            "text/html": [
              "<div>\n",
              "<style scoped>\n",
              "    .dataframe tbody tr th:only-of-type {\n",
              "        vertical-align: middle;\n",
              "    }\n",
              "\n",
              "    .dataframe tbody tr th {\n",
              "        vertical-align: top;\n",
              "    }\n",
              "\n",
              "    .dataframe thead th {\n",
              "        text-align: right;\n",
              "    }\n",
              "</style>\n",
              "<table border=\"1\" class=\"dataframe\">\n",
              "  <thead>\n",
              "    <tr style=\"text-align: right;\">\n",
              "      <th></th>\n",
              "      <th>Country</th>\n",
              "      <th>Total Cases</th>\n",
              "      <th>Total Recovered</th>\n",
              "      <th>Total Deaths</th>\n",
              "    </tr>\n",
              "  </thead>\n",
              "  <tbody>\n",
              "    <tr>\n",
              "      <th>0</th>\n",
              "      <td>USA</td>\n",
              "      <td>36196503.0</td>\n",
              "      <td>6004896.0</td>\n",
              "      <td>2102393.0</td>\n",
              "    </tr>\n",
              "    <tr>\n",
              "      <th>1</th>\n",
              "      <td>Italy</td>\n",
              "      <td>6416833.0</td>\n",
              "      <td>2621286.0</td>\n",
              "      <td>881699.0</td>\n",
              "    </tr>\n",
              "    <tr>\n",
              "      <th>2</th>\n",
              "      <td>UK</td>\n",
              "      <td>5723955.0</td>\n",
              "      <td>0.0</td>\n",
              "      <td>825478.0</td>\n",
              "    </tr>\n",
              "    <tr>\n",
              "      <th>3</th>\n",
              "      <td>Spain</td>\n",
              "      <td>7547975.0</td>\n",
              "      <td>4401203.0</td>\n",
              "      <td>767305.0</td>\n",
              "    </tr>\n",
              "    <tr>\n",
              "      <th>4</th>\n",
              "      <td>France</td>\n",
              "      <td>5239029.0</td>\n",
              "      <td>1565154.0</td>\n",
              "      <td>761760.0</td>\n",
              "    </tr>\n",
              "    <tr>\n",
              "      <th>5</th>\n",
              "      <td>Brazil</td>\n",
              "      <td>3660023.0</td>\n",
              "      <td>1533045.0</td>\n",
              "      <td>248971.0</td>\n",
              "    </tr>\n",
              "    <tr>\n",
              "      <th>6</th>\n",
              "      <td>Belgium</td>\n",
              "      <td>1512544.0</td>\n",
              "      <td>371058.0</td>\n",
              "      <td>239111.0</td>\n",
              "    </tr>\n",
              "    <tr>\n",
              "      <th>7</th>\n",
              "      <td>Germany</td>\n",
              "      <td>5081214.0</td>\n",
              "      <td>3934213.0</td>\n",
              "      <td>208244.0</td>\n",
              "    </tr>\n",
              "    <tr>\n",
              "      <th>8</th>\n",
              "      <td>Iran</td>\n",
              "      <td>3081226.0</td>\n",
              "      <td>2401164.0</td>\n",
              "      <td>190809.0</td>\n",
              "    </tr>\n",
              "    <tr>\n",
              "      <th>9</th>\n",
              "      <td>Netherlands</td>\n",
              "      <td>1229504.0</td>\n",
              "      <td>0.0</td>\n",
              "      <td>151650.0</td>\n",
              "    </tr>\n",
              "  </tbody>\n",
              "</table>\n",
              "</div>"
            ],
            "text/plain": [
              "       Country  Total Cases  Total Recovered  Total Deaths\n",
              "0          USA   36196503.0        6004896.0     2102393.0\n",
              "1        Italy    6416833.0        2621286.0      881699.0\n",
              "2           UK    5723955.0              0.0      825478.0\n",
              "3        Spain    7547975.0        4401203.0      767305.0\n",
              "4       France    5239029.0        1565154.0      761760.0\n",
              "5       Brazil    3660023.0        1533045.0      248971.0\n",
              "6      Belgium    1512544.0         371058.0      239111.0\n",
              "7      Germany    5081214.0        3934213.0      208244.0\n",
              "8         Iran    3081226.0        2401164.0      190809.0\n",
              "9  Netherlands    1229504.0              0.0      151650.0"
            ]
          },
          "metadata": {
            "tags": []
          },
          "execution_count": 68
        }
      ]
    },
    {
      "cell_type": "code",
      "metadata": {
        "colab": {
          "base_uri": "https://localhost:8080/",
          "height": 439
        },
        "id": "2BKRKe2SsY3t",
        "outputId": "4db97cb4-fb6e-45f1-c5ef-0cd2395c5802"
      },
      "source": [
        "#Multivariate Analysis for world Covid Analysis:\r\n",
        "#Checking World Covid Analyis by drawing Stack Plot:\r\n",
        "colors = [\"#215968\", \"#31859C\", \"#FFC000\"]\r\n",
        "labels = [\"Total Cases\", \"Total Recovered\", \"Total Deaths\"]\r\n",
        "sns.set_style(\"white\")\r\n",
        "plt.figure(figsize = (12, 6))\r\n",
        "plt.stackplot(df[\"Date\"],df[\"Total Cases\"],df[\"Total Recovered\"],df[\"Total Deaths\"],colors = colors,edgecolor = 'none')\r\n",
        "plt.xticks(df[\"Date\"], rotation = 90)\r\n",
        "plt.legend(labels = labels, loc = \"upper left\")\r\n",
        "plt.ylabel(\"World covid Analysis\", fontsize = 13)\r\n",
        "plt.title(\"World Covid Analysis Report\", fontsize = 14, weight = \"bold\")\r\n",
        "sns.despine()\r\n",
        "plt.show()"
      ],
      "execution_count": null,
      "outputs": [
        {
          "output_type": "display_data",
          "data": {
            "image/png": "[encoded data removed]",
            "text/plain": [
              "<Figure size 864x432 with 1 Axes>"
            ]
          },
          "metadata": {
            "tags": []
          }
        }
      ]
    },
    {
      "cell_type": "code",
      "metadata": {
        "colab": {
          "base_uri": "https://localhost:8080/",
          "height": 343
        },
        "id": "jKnkFK_owBpK",
        "outputId": "a22acc04-75b6-4338-c2a6-8160a3e2a939"
      },
      "source": [
        "#Checking no of confirmed Active and Deaths cases of India:\r\n",
        "India = df.loc[df['Country'] == 'India']\r\n",
        "India.groupby(by=['Date','Total Cases'])['Active Cases','Total Deaths'].sum().head(10).reset_index()"
      ],
      "execution_count": null,
      "outputs": [
        {
          "output_type": "execute_result",
          "data": {
            "text/html": [
              "<div>\n",
              "<style scoped>\n",
              "    .dataframe tbody tr th:only-of-type {\n",
              "        vertical-align: middle;\n",
              "    }\n",
              "\n",
              "    .dataframe tbody tr th {\n",
              "        vertical-align: top;\n",
              "    }\n",
              "\n",
              "    .dataframe thead th {\n",
              "        text-align: right;\n",
              "    }\n",
              "</style>\n",
              "<table border=\"1\" class=\"dataframe\">\n",
              "  <thead>\n",
              "    <tr style=\"text-align: right;\">\n",
              "      <th></th>\n",
              "      <th>Date</th>\n",
              "      <th>Total Cases</th>\n",
              "      <th>Active Cases</th>\n",
              "      <th>Total Deaths</th>\n",
              "    </tr>\n",
              "  </thead>\n",
              "  <tbody>\n",
              "    <tr>\n",
              "      <th>0</th>\n",
              "      <td>2020-04-18</td>\n",
              "      <td>16365.0</td>\n",
              "      <td>13381.0</td>\n",
              "      <td>521.0</td>\n",
              "    </tr>\n",
              "    <tr>\n",
              "      <th>1</th>\n",
              "      <td>2020-04-19</td>\n",
              "      <td>17615.0</td>\n",
              "      <td>14202.0</td>\n",
              "      <td>559.0</td>\n",
              "    </tr>\n",
              "    <tr>\n",
              "      <th>2</th>\n",
              "      <td>2020-04-20</td>\n",
              "      <td>18539.0</td>\n",
              "      <td>14674.0</td>\n",
              "      <td>592.0</td>\n",
              "    </tr>\n",
              "    <tr>\n",
              "      <th>3</th>\n",
              "      <td>2020-04-21</td>\n",
              "      <td>20080.0</td>\n",
              "      <td>15460.0</td>\n",
              "      <td>645.0</td>\n",
              "    </tr>\n",
              "    <tr>\n",
              "      <th>4</th>\n",
              "      <td>2020-04-22</td>\n",
              "      <td>21370.0</td>\n",
              "      <td>16319.0</td>\n",
              "      <td>681.0</td>\n",
              "    </tr>\n",
              "    <tr>\n",
              "      <th>5</th>\n",
              "      <td>2020-04-23</td>\n",
              "      <td>23039.0</td>\n",
              "      <td>17306.0</td>\n",
              "      <td>721.0</td>\n",
              "    </tr>\n",
              "    <tr>\n",
              "      <th>6</th>\n",
              "      <td>2020-04-24</td>\n",
              "      <td>24447.0</td>\n",
              "      <td>18171.0</td>\n",
              "      <td>780.0</td>\n",
              "    </tr>\n",
              "    <tr>\n",
              "      <th>7</th>\n",
              "      <td>2020-04-25</td>\n",
              "      <td>26283.0</td>\n",
              "      <td>19519.0</td>\n",
              "      <td>825.0</td>\n",
              "    </tr>\n",
              "    <tr>\n",
              "      <th>8</th>\n",
              "      <td>2020-04-26</td>\n",
              "      <td>27890.0</td>\n",
              "      <td>20486.0</td>\n",
              "      <td>881.0</td>\n",
              "    </tr>\n",
              "    <tr>\n",
              "      <th>9</th>\n",
              "      <td>2020-04-27</td>\n",
              "      <td>29451.0</td>\n",
              "      <td>21375.0</td>\n",
              "      <td>939.0</td>\n",
              "    </tr>\n",
              "  </tbody>\n",
              "</table>\n",
              "</div>"
            ],
            "text/plain": [
              "         Date  Total Cases  Active Cases  Total Deaths\n",
              "0  2020-04-18      16365.0       13381.0         521.0\n",
              "1  2020-04-19      17615.0       14202.0         559.0\n",
              "2  2020-04-20      18539.0       14674.0         592.0\n",
              "3  2020-04-21      20080.0       15460.0         645.0\n",
              "4  2020-04-22      21370.0       16319.0         681.0\n",
              "5  2020-04-23      23039.0       17306.0         721.0\n",
              "6  2020-04-24      24447.0       18171.0         780.0\n",
              "7  2020-04-25      26283.0       19519.0         825.0\n",
              "8  2020-04-26      27890.0       20486.0         881.0\n",
              "9  2020-04-27      29451.0       21375.0         939.0"
            ]
          },
          "metadata": {
            "tags": []
          },
          "execution_count": 23
        }
      ]
    },
    {
      "cell_type": "code",
      "metadata": {
        "colab": {
          "base_uri": "https://localhost:8080/",
          "height": 439
        },
        "id": "iHRf4Q65w5a3",
        "outputId": "71939aad-b800-4cfc-c757-991fe04be51c"
      },
      "source": [
        "#Multivariate Analysis for India Covid Analysis:\r\n",
        "#Checking India Covid Analyis by drawing Stack Plot:\r\n",
        "colors = [\"#011638\", \"#7e2987\", \"ef2026\"]\r\n",
        "labels = [\"Total Cases\", \"Active Cases\", \"Total Deaths\"]\r\n",
        "sns.set_style(\"white\")\r\n",
        "plt.figure(figsize = (12, 6))\r\n",
        "plt.stackplot(India[\"Date\"],India[\"Total Cases\"],India[\"Active Cases\"],India[\"Total Deaths\"],colors = colors,edgecolor = 'none')\r\n",
        "plt.xticks(India[\"Date\"], rotation = 90)\r\n",
        "plt.legend(labels = labels, loc = \"upper left\")\r\n",
        "plt.ylabel(\"India covid Analysis\", fontsize = 13)\r\n",
        "plt.title(\"India Covid Analysis Report\", fontsize = 14, weight = \"bold\")\r\n",
        "sns.despine()\r\n",
        "plt.show()"
      ],
      "execution_count": null,
      "outputs": [
        {
          "output_type": "display_data",
          "data": {
            "image/png": "[encoded data removed]",
            "text/plain": [
              "<Figure size 864x432 with 1 Axes>"
            ]
          },
          "metadata": {
            "tags": []
          }
        }
      ]
    },
    {
      "cell_type": "code",
      "metadata": {
        "id": "wfcGdWWOtK30",
        "colab": {
          "base_uri": "https://localhost:8080/",
          "height": 343
        },
        "outputId": "76898f4d-92f8-45d6-b3a7-13d3553aee7c"
      },
      "source": [
        "#Checking no of confirmed Active and Deaths cases of USA:\r\n",
        "USA = df.loc[df['Country'] == 'India']\r\n",
        "USA.groupby(by=['Date','Total Cases'])['Active Cases','Total Deaths'].sum().head(10).reset_index()"
      ],
      "execution_count": null,
      "outputs": [
        {
          "output_type": "execute_result",
          "data": {
            "text/html": [
              "<div>\n",
              "<style scoped>\n",
              "    .dataframe tbody tr th:only-of-type {\n",
              "        vertical-align: middle;\n",
              "    }\n",
              "\n",
              "    .dataframe tbody tr th {\n",
              "        vertical-align: top;\n",
              "    }\n",
              "\n",
              "    .dataframe thead th {\n",
              "        text-align: right;\n",
              "    }\n",
              "</style>\n",
              "<table border=\"1\" class=\"dataframe\">\n",
              "  <thead>\n",
              "    <tr style=\"text-align: right;\">\n",
              "      <th></th>\n",
              "      <th>Date</th>\n",
              "      <th>Total Cases</th>\n",
              "      <th>Active Cases</th>\n",
              "      <th>Total Deaths</th>\n",
              "    </tr>\n",
              "  </thead>\n",
              "  <tbody>\n",
              "    <tr>\n",
              "      <th>0</th>\n",
              "      <td>2020-04-18</td>\n",
              "      <td>16365.0</td>\n",
              "      <td>13381.0</td>\n",
              "      <td>521.0</td>\n",
              "    </tr>\n",
              "    <tr>\n",
              "      <th>1</th>\n",
              "      <td>2020-04-19</td>\n",
              "      <td>17615.0</td>\n",
              "      <td>14202.0</td>\n",
              "      <td>559.0</td>\n",
              "    </tr>\n",
              "    <tr>\n",
              "      <th>2</th>\n",
              "      <td>2020-04-20</td>\n",
              "      <td>18539.0</td>\n",
              "      <td>14674.0</td>\n",
              "      <td>592.0</td>\n",
              "    </tr>\n",
              "    <tr>\n",
              "      <th>3</th>\n",
              "      <td>2020-04-21</td>\n",
              "      <td>20080.0</td>\n",
              "      <td>15460.0</td>\n",
              "      <td>645.0</td>\n",
              "    </tr>\n",
              "    <tr>\n",
              "      <th>4</th>\n",
              "      <td>2020-04-22</td>\n",
              "      <td>21370.0</td>\n",
              "      <td>16319.0</td>\n",
              "      <td>681.0</td>\n",
              "    </tr>\n",
              "    <tr>\n",
              "      <th>5</th>\n",
              "      <td>2020-04-23</td>\n",
              "      <td>23039.0</td>\n",
              "      <td>17306.0</td>\n",
              "      <td>721.0</td>\n",
              "    </tr>\n",
              "    <tr>\n",
              "      <th>6</th>\n",
              "      <td>2020-04-24</td>\n",
              "      <td>24447.0</td>\n",
              "      <td>18171.0</td>\n",
              "      <td>780.0</td>\n",
              "    </tr>\n",
              "    <tr>\n",
              "      <th>7</th>\n",
              "      <td>2020-04-25</td>\n",
              "      <td>26283.0</td>\n",
              "      <td>19519.0</td>\n",
              "      <td>825.0</td>\n",
              "    </tr>\n",
              "    <tr>\n",
              "      <th>8</th>\n",
              "      <td>2020-04-26</td>\n",
              "      <td>27890.0</td>\n",
              "      <td>20486.0</td>\n",
              "      <td>881.0</td>\n",
              "    </tr>\n",
              "    <tr>\n",
              "      <th>9</th>\n",
              "      <td>2020-04-27</td>\n",
              "      <td>29451.0</td>\n",
              "      <td>21375.0</td>\n",
              "      <td>939.0</td>\n",
              "    </tr>\n",
              "  </tbody>\n",
              "</table>\n",
              "</div>"
            ],
            "text/plain": [
              "         Date  Total Cases  Active Cases  Total Deaths\n",
              "0  2020-04-18      16365.0       13381.0         521.0\n",
              "1  2020-04-19      17615.0       14202.0         559.0\n",
              "2  2020-04-20      18539.0       14674.0         592.0\n",
              "3  2020-04-21      20080.0       15460.0         645.0\n",
              "4  2020-04-22      21370.0       16319.0         681.0\n",
              "5  2020-04-23      23039.0       17306.0         721.0\n",
              "6  2020-04-24      24447.0       18171.0         780.0\n",
              "7  2020-04-25      26283.0       19519.0         825.0\n",
              "8  2020-04-26      27890.0       20486.0         881.0\n",
              "9  2020-04-27      29451.0       21375.0         939.0"
            ]
          },
          "metadata": {
            "tags": []
          },
          "execution_count": 20
        }
      ]
    },
    {
      "cell_type": "code",
      "metadata": {
        "id": "1hDOOOevtK7W",
        "colab": {
          "base_uri": "https://localhost:8080/",
          "height": 456
        },
        "outputId": "be4ec515-c8bd-47ab-c300-f977a8d2d41e"
      },
      "source": [
        "#Multivariate Analysis for usa Covid Analysis:\r\n",
        "#Checking India Covid Analyis by drawing Stack Plot:\r\n",
        "colors = [\"#215968\", \"#31859C\", \"#FFC000\"]\r\n",
        "labels = [\"Total Cases\", \"Active Cases\", \"Total Deaths\"]\r\n",
        "sns.set_style(\"white\")\r\n",
        "plt.figure(figsize = (12, 6))\r\n",
        "plt.stackplot(USA[\"Date\"],USA[\"Total Cases\"],USA[\"Active Cases\"],USA[\"Total Deaths\"],colors = colors,edgecolor = 'none')\r\n",
        "plt.xticks(USA[\"Date\"], rotation = 90)\r\n",
        "plt.legend(labels = labels, loc = \"upper left\")\r\n",
        "plt.ylabel(\"USA covid Analysis\", fontsize = 13)\r\n",
        "plt.title(\"USA Covid Analysis Report\", fontsize = 14, weight = \"bold\")\r\n",
        "sns.despine()\r\n",
        "plt.show"
      ],
      "execution_count": null,
      "outputs": [
        {
          "output_type": "execute_result",
          "data": {
            "text/plain": [
              "<function matplotlib.pyplot.show>"
            ]
          },
          "metadata": {
            "tags": []
          },
          "execution_count": 28
        },
        {
          "output_type": "display_data",
          "data": {
            "image/png": "[encoded data removed]",
            "text/plain": [
              "<Figure size 864x432 with 1 Axes>"
            ]
          },
          "metadata": {
            "tags": []
          }
        }
      ]
    },
    {
      "cell_type": "code",
      "metadata": {
        "id": "CyObFSkdtK-Y",
        "colab": {
          "base_uri": "https://localhost:8080/",
          "height": 737
        },
        "outputId": "6a70c0a3-f2d6-448d-b415-ce3559c43a48"
      },
      "source": [
        "#Checking for outliers\r\n",
        "#outlier is a data point that differs significantly from other observations. \r\n",
        "#Any datapoint greater than +3 Standard Deviations and -3 SD are called Outliers\r\n",
        "#Zscore is Automated method used to handle outliers.\r\n",
        "# Checking for Outliers by using boxplot:.\r\n",
        "df.plot(kind='box',subplots=True,layout=(3,3),figsize=(10,10))"
      ],
      "execution_count": 62,
      "outputs": [
        {
          "output_type": "execute_result",
          "data": {
            "text/plain": [
              "Population                AxesSubplot(0.125,0.657941;0.227941x0.222059)\n",
              "Total Tests            AxesSubplot(0.398529,0.657941;0.227941x0.222059)\n",
              "Total Cases            AxesSubplot(0.672059,0.657941;0.227941x0.222059)\n",
              "Total Deaths              AxesSubplot(0.125,0.391471;0.227941x0.222059)\n",
              "Total Recovered        AxesSubplot(0.398529,0.391471;0.227941x0.222059)\n",
              "Serious or Critical    AxesSubplot(0.672059,0.391471;0.227941x0.222059)\n",
              "Active Cases                 AxesSubplot(0.125,0.125;0.227941x0.222059)\n",
              "dtype: object"
            ]
          },
          "metadata": {
            "tags": []
          },
          "execution_count": 62
        },
        {
          "output_type": "display_data",
          "data": {
            "image/png": "[encoded data removed]",
            "text/plain": [
              "<Figure size 720x720 with 9 Axes>"
            ]
          },
          "metadata": {
            "tags": [],
            "needs_background": "light"
          }
        }
      ]
    },
    {
      "cell_type": "code",
      "metadata": {
        "id": "6EkEqdi4rFyT"
      },
      "source": [
        "#We can clearly see the presence of Outliers in ample amount:"
      ],
      "execution_count": null,
      "outputs": []
    },
    {
      "cell_type": "code",
      "metadata": {
        "id": "vy1M6mWHrF17"
      },
      "source": [
        "#From description we can see that Date is a object data type,Therefore, we have to convert this datatype into timestamp so as to use this column properly for prediction\r\n",
        "df['Day'] = pd.to_datetime(df['Date'], format=\"%Y/%m/%d\").dt.day"
      ],
      "execution_count": 63,
      "outputs": []
    },
    {
      "cell_type": "code",
      "metadata": {
        "id": "dHdrwarVrF6I"
      },
      "source": [
        "#Extracting Month\r\n",
        "df['month'] = pd.to_datetime(df['Date'], format=\"%Y/%m/%d\").dt.month"
      ],
      "execution_count": 64,
      "outputs": []
    },
    {
      "cell_type": "code",
      "metadata": {
        "id": "XC7axrfFrGAW"
      },
      "source": [
        "#Dropping Date Column:\r\n",
        "df.drop('Date',axis=1,inplace=True)"
      ],
      "execution_count": 65,
      "outputs": []
    },
    {
      "cell_type": "code",
      "metadata": {
        "id": "QLQxdbjbvn8D"
      },
      "source": [
        "#Dropping Country Column:\r\n",
        "df.drop('Country',axis=1,inplace=True)"
      ],
      "execution_count": 66,
      "outputs": []
    },
    {
      "cell_type": "code",
      "metadata": {
        "colab": {
          "base_uri": "https://localhost:8080/"
        },
        "id": "nEXR51RwrGDx",
        "outputId": "e87817a2-9354-4f94-f8ab-48044a9c9578"
      },
      "source": [
        "#Checking for skewness:\r\n",
        "#whether the features are right or left skewed.\r\n",
        "#for right and left skewed we can use logarthim transformation.\r\n",
        "#if the skewness value is greater than o.55 then the features are skewed.\r\n",
        "df.skew()"
      ],
      "execution_count": 67,
      "outputs": [
        {
          "output_type": "execute_result",
          "data": {
            "text/plain": [
              "Population              8.743503\n",
              "Total Tests             9.340104\n",
              "Total Cases            12.079982\n",
              "Total Deaths            8.951957\n",
              "Total Recovered         7.220713\n",
              "Serious or Critical     9.199670\n",
              "Active Cases           13.301517\n",
              "Day                    -0.027570\n",
              "month                  -0.326934\n",
              "dtype: float64"
            ]
          },
          "metadata": {
            "tags": []
          },
          "execution_count": 67
        }
      ]
    },
    {
      "cell_type": "code",
      "metadata": {
        "id": "eiEPo0n2rGHw"
      },
      "source": [
        "import scipy.stats as stat\r\n",
        "import pylab"
      ],
      "execution_count": null,
      "outputs": []
    },
    {
      "cell_type": "code",
      "metadata": {
        "id": "m5ekit-SrGOQ"
      },
      "source": [
        "#If you want to check whether feature is guassian or normal distributed\r\n",
        "# Q-Q plot is used to check wheather the data are normally distributed or not by graphically.\r\n",
        "def plot_data(df,feature):\r\n",
        "    plt.figure(figsize=(10,6))\r\n",
        "    plt.subplot(1,2,1)\r\n",
        "    df[feature].hist()\r\n",
        "    plt.subplot(1,2,2)\r\n",
        "    stat.probplot(df[feature],dist='norm',plot=pylab)\r\n",
        "    plt.show()"
      ],
      "execution_count": null,
      "outputs": []
    },
    {
      "cell_type": "code",
      "metadata": {
        "colab": {
          "base_uri": "https://localhost:8080/",
          "height": 404
        },
        "id": "7Wcnd4zkrGQ3",
        "outputId": "fb28d3f7-149d-47d4-ae1b-45563e3872b1"
      },
      "source": [
        "#We can check for skewness by using Distrution plot:\r\n",
        "plot_data(df,'Total Tests')"
      ],
      "execution_count": null,
      "outputs": [
        {
          "output_type": "display_data",
          "data": {
            "image/png": "[encoded data removed]",
            "text/plain": [
              "<Figure size 720x432 with 2 Axes>"
            ]
          },
          "metadata": {
            "tags": [],
            "needs_background": "light"
          }
        }
      ]
    },
    {
      "cell_type": "code",
      "metadata": {
        "colab": {
          "base_uri": "https://localhost:8080/",
          "height": 404
        },
        "id": "w-O-d-13rGU7",
        "outputId": "df57fe23-adc4-4b83-dc32-6515827761db"
      },
      "source": [
        "#We can check for skewness by using Distrution plot:\r\n",
        "plot_data(df,'Total Deaths')"
      ],
      "execution_count": null,
      "outputs": [
        {
          "output_type": "display_data",
          "data": {
            "image/png": "[encoded data removed]",
            "text/plain": [
              "<Figure size 720x432 with 2 Axes>"
            ]
          },
          "metadata": {
            "tags": [],
            "needs_background": "light"
          }
        }
      ]
    },
    {
      "cell_type": "code",
      "metadata": {
        "id": "hkOqCKQfrGZS"
      },
      "source": [
        "#We can see that some of the features are not normally distributed skewness is present \r\n",
        "#for skewed Data Logarthim Tranformation works fine or we can also use Boxcox Method.\r\n",
        "#If the skewness value is greater than 0.55 we consider that the feature is skewed.\r\n",
        "for col in df.columns:\r\n",
        "        if df.skew().loc[col]>0.55:\r\n",
        "            df[col] = np.log1p(df[col])"
      ],
      "execution_count": 68,
      "outputs": []
    },
    {
      "cell_type": "code",
      "metadata": {
        "colab": {
          "base_uri": "https://localhost:8080/"
        },
        "id": "qD4Y7F0lrGcj",
        "outputId": "8a0f1066-9430-4e57-e3c6-d176527270af"
      },
      "source": [
        "#Checking for outliers\r\n",
        "#outlier is a data point that differs significantly from other observations. \r\n",
        "#Any datapoint greater than +3 Standard Deviations and -3 SD are called Outliers\r\n",
        "#Zscore is Automated method used to handle outliers.\r\n",
        "#Let check wheather any outliers are present or not\r\n",
        "from scipy.stats import zscore\r\n",
        "zscore = abs(zscore(df))\r\n",
        "print(\"Before removal of outliers:\",df.shape)\r\n",
        "df_final = df.loc[(zscore<3).all(axis=1)]\r\n",
        "print(\"After removal of outliers:\",df_final.shape)"
      ],
      "execution_count": 69,
      "outputs": [
        {
          "output_type": "stream",
          "text": [
            "Before removal of outliers: (6603, 9)\n",
            "After removal of outliers: (6571, 9)\n"
          ],
          "name": "stdout"
        }
      ]
    },
    {
      "cell_type": "code",
      "metadata": {
        "id": "TfSbAVCrrGgA"
      },
      "source": [
        "#Let Separate the input and output variable:\r\n",
        "#Let select input and output value:\r\n",
        "X = df_final.drop(['Total Deaths'],axis=1)\r\n",
        "y = df_final[['Total Deaths']]"
      ],
      "execution_count": 70,
      "outputs": []
    },
    {
      "cell_type": "code",
      "metadata": {
        "colab": {
          "base_uri": "https://localhost:8080/"
        },
        "id": "hXN1-p1xrGjb",
        "outputId": "4c7bd482-b97e-4b65-f826-5b0765fc0f65"
      },
      "source": [
        "#Lets check the shape of input and output values:\r\n",
        "print(X.shape)\r\n",
        "print(y.shape)"
      ],
      "execution_count": 71,
      "outputs": [
        {
          "output_type": "stream",
          "text": [
            "(6571, 8)\n",
            "(6571, 1)\n"
          ],
          "name": "stdout"
        }
      ]
    },
    {
      "cell_type": "code",
      "metadata": {
        "id": "_bx7S2D2rGmx"
      },
      "source": [
        "#Breaking the model into training and testing split:\r\n",
        "from sklearn.model_selection import train_test_split\r\n",
        "X_train, X_test, y_train, y_test = train_test_split(X,y,test_size=0.2,random_state=42)"
      ],
      "execution_count": 72,
      "outputs": []
    },
    {
      "cell_type": "code",
      "metadata": {
        "colab": {
          "base_uri": "https://localhost:8080/"
        },
        "id": "nGjTwhWcrGqa",
        "outputId": "44fa3fc0-b826-40ae-9bb6-a5ac6eaa93e7"
      },
      "source": [
        "print(X_train.shape,'\\t',X_test.shape)"
      ],
      "execution_count": 73,
      "outputs": [
        {
          "output_type": "stream",
          "text": [
            "(5256, 8) \t (1315, 8)\n"
          ],
          "name": "stdout"
        }
      ]
    },
    {
      "cell_type": "code",
      "metadata": {
        "colab": {
          "base_uri": "https://localhost:8080/"
        },
        "id": "BxqiqswRrGt-",
        "outputId": "acf61908-d72e-4820-8124-a61331eedd79"
      },
      "source": [
        "print(y_train.shape,'\\t',y_test.shape)"
      ],
      "execution_count": 74,
      "outputs": [
        {
          "output_type": "stream",
          "text": [
            "(5256, 1) \t (1315, 1)\n"
          ],
          "name": "stdout"
        }
      ]
    },
    {
      "cell_type": "code",
      "metadata": {
        "id": "QTBDPUpBtLDw"
      },
      "source": [
        "#Checking the coerelation:\r\n",
        "#how the different neumerical features are corelated to each other \r\n",
        "#Their strength of relationship\r\n",
        "#Their influence on target variable.\r\n",
        "corrmat = X_train.corr()"
      ],
      "execution_count": 75,
      "outputs": []
    },
    {
      "cell_type": "code",
      "metadata": {
        "id": "daE_tmvYtLGn",
        "colab": {
          "base_uri": "https://localhost:8080/",
          "height": 596
        },
        "outputId": "4b9b3c62-6230-4fe6-f07e-652b14ec4a02"
      },
      "source": [
        "f,ax=plt.subplots(figsize=(15,10))\r\n",
        "sns.heatmap(corrmat,annot=True,fmt=\".1f\",linewidths=.2,cmap=\"Spectral\",ax=ax,linecolor=\"black\")\r\n",
        "plt.show()"
      ],
      "execution_count": 76,
      "outputs": [
        {
          "output_type": "display_data",
          "data": {
            "image/png": "[encoded data removed]",
            "text/plain": [
              "<Figure size 1080x720 with 2 Axes>"
            ]
          },
          "metadata": {
            "tags": [],
            "needs_background": "light"
          }
        }
      ]
    },
    {
      "cell_type": "code",
      "metadata": {
        "id": "Vm92TpbABmzg"
      },
      "source": [
        "#Dropping Day and Month Column as they are highly negatively corelated:\r\n",
        "df.drop(columns=['Day','month'],axis=1,inplace=True)"
      ],
      "execution_count": 77,
      "outputs": []
    },
    {
      "cell_type": "code",
      "metadata": {
        "colab": {
          "base_uri": "https://localhost:8080/",
          "height": 359
        },
        "id": "pqUfBDeLwZmu",
        "outputId": "4ea8a363-4c08-4b41-b17f-a7fbe510a5d7"
      },
      "source": [
        "#corelation with target column:\r\n",
        "plt.figure(figsize=(8,5))\r\n",
        "df.drop('Total Deaths',axis=1).corrwith(df['Total Deaths']).plot(kind='barh',grid=True)\r\n",
        "plt.xticks(rotation='vertical')\r\n",
        "plt.title('corelation with target variable')"
      ],
      "execution_count": 79,
      "outputs": [
        {
          "output_type": "execute_result",
          "data": {
            "text/plain": [
              "Text(0.5, 1.0, 'corelation with target variable')"
            ]
          },
          "metadata": {
            "tags": []
          },
          "execution_count": 79
        },
        {
          "output_type": "display_data",
          "data": {
            "image/png": "[encoded data removed]",
            "text/plain": [
              "<Figure size 576x360 with 1 Axes>"
            ]
          },
          "metadata": {
            "tags": [],
            "needs_background": "light"
          }
        }
      ]
    },
    {
      "cell_type": "code",
      "metadata": {
        "id": "MT_GU-GYwZxg"
      },
      "source": [
        "#Importing the Model for Predictions Process:\r\n",
        "from sklearn.linear_model import LinearRegression,Lasso,Ridge,ElasticNet\r\n",
        "from sklearn.ensemble import RandomForestRegressor\r\n",
        "#Import Error Metrics:\r\n",
        "from sklearn.metrics import mean_squared_error,mean_absolute_error\r\n",
        "from sklearn.metrics import r2_score"
      ],
      "execution_count": 80,
      "outputs": []
    },
    {
      "cell_type": "code",
      "metadata": {
        "id": "xZYQq5xUwZ06"
      },
      "source": [
        "#Defining a function of getting the perfect random state for max r2 score:\r\n",
        "def maxr2_score(regr,X,y):\r\n",
        "    max_r_score = 0\r\n",
        "    for r_state in range(42,101):\r\n",
        "        X_train, X_test, y_train, y_test = train_test_split(X,y,test_size=0.2,random_state=42)\r\n",
        "        regr.fit(X_train,y_train)\r\n",
        "        y_pred = regr.predict(X_test)\r\n",
        "        r2_scr = r2_score(y_test,y_pred)\r\n",
        "        print('r2_score corresponding to random state: ',r_state,\"is \",r2_scr)\r\n",
        "        if r2_scr>max_r_score:\r\n",
        "            max_r_score = r2_scr\r\n",
        "            final_r_state = r_state\r\n",
        "    print(\"max_r_score corresponding to:\",final_r_state,\"is\",max_r_score)\r\n",
        "    return final_r_state"
      ],
      "execution_count": 81,
      "outputs": []
    },
    {
      "cell_type": "code",
      "metadata": {
        "colab": {
          "base_uri": "https://localhost:8080/"
        },
        "id": "NOuBg-VvwZ3r",
        "outputId": "9fe802ca-7db9-4fb3-9110-a4382018c47e"
      },
      "source": [
        "#Import Linear Regression:\r\n",
        "from sklearn.linear_model import LinearRegression\r\n",
        "lr = LinearRegression()\r\n",
        "r_state = maxr2_score(lr,X,y)"
      ],
      "execution_count": 82,
      "outputs": [
        {
          "output_type": "stream",
          "text": [
            "r2_score corresponding to random state:  42 is  0.30341213391539634\n",
            "r2_score corresponding to random state:  43 is  0.30341213391539634\n",
            "r2_score corresponding to random state:  44 is  0.30341213391539634\n",
            "r2_score corresponding to random state:  45 is  0.30341213391539634\n",
            "r2_score corresponding to random state:  46 is  0.30341213391539634\n",
            "r2_score corresponding to random state:  47 is  0.30341213391539634\n",
            "r2_score corresponding to random state:  48 is  0.30341213391539634\n",
            "r2_score corresponding to random state:  49 is  0.30341213391539634\n",
            "r2_score corresponding to random state:  50 is  0.30341213391539634\n",
            "r2_score corresponding to random state:  51 is  0.30341213391539634\n",
            "r2_score corresponding to random state:  52 is  0.30341213391539634\n",
            "r2_score corresponding to random state:  53 is  0.30341213391539634\n",
            "r2_score corresponding to random state:  54 is  0.30341213391539634\n",
            "r2_score corresponding to random state:  55 is  0.30341213391539634\n",
            "r2_score corresponding to random state:  56 is  0.30341213391539634\n",
            "r2_score corresponding to random state:  57 is  0.30341213391539634\n",
            "r2_score corresponding to random state:  58 is  0.30341213391539634\n",
            "r2_score corresponding to random state:  59 is  0.30341213391539634\n",
            "r2_score corresponding to random state:  60 is  0.30341213391539634\n",
            "r2_score corresponding to random state:  61 is  0.30341213391539634\n",
            "r2_score corresponding to random state:  62 is  0.30341213391539634\n",
            "r2_score corresponding to random state:  63 is  0.30341213391539634\n",
            "r2_score corresponding to random state:  64 is  0.30341213391539634\n",
            "r2_score corresponding to random state:  65 is  0.30341213391539634\n",
            "r2_score corresponding to random state:  66 is  0.30341213391539634\n",
            "r2_score corresponding to random state:  67 is  0.30341213391539634\n",
            "r2_score corresponding to random state:  68 is  0.30341213391539634\n",
            "r2_score corresponding to random state:  69 is  0.30341213391539634\n",
            "r2_score corresponding to random state:  70 is  0.30341213391539634\n",
            "r2_score corresponding to random state:  71 is  0.30341213391539634\n",
            "r2_score corresponding to random state:  72 is  0.30341213391539634\n",
            "r2_score corresponding to random state:  73 is  0.30341213391539634\n",
            "r2_score corresponding to random state:  74 is  0.30341213391539634\n",
            "r2_score corresponding to random state:  75 is  0.30341213391539634\n",
            "r2_score corresponding to random state:  76 is  0.30341213391539634\n",
            "r2_score corresponding to random state:  77 is  0.30341213391539634\n",
            "r2_score corresponding to random state:  78 is  0.30341213391539634\n",
            "r2_score corresponding to random state:  79 is  0.30341213391539634\n",
            "r2_score corresponding to random state:  80 is  0.30341213391539634\n",
            "r2_score corresponding to random state:  81 is  0.30341213391539634\n",
            "r2_score corresponding to random state:  82 is  0.30341213391539634\n",
            "r2_score corresponding to random state:  83 is  0.30341213391539634\n",
            "r2_score corresponding to random state:  84 is  0.30341213391539634\n",
            "r2_score corresponding to random state:  85 is  0.30341213391539634\n",
            "r2_score corresponding to random state:  86 is  0.30341213391539634\n",
            "r2_score corresponding to random state:  87 is  0.30341213391539634\n",
            "r2_score corresponding to random state:  88 is  0.30341213391539634\n",
            "r2_score corresponding to random state:  89 is  0.30341213391539634\n",
            "r2_score corresponding to random state:  90 is  0.30341213391539634\n",
            "r2_score corresponding to random state:  91 is  0.30341213391539634\n",
            "r2_score corresponding to random state:  92 is  0.30341213391539634\n",
            "r2_score corresponding to random state:  93 is  0.30341213391539634\n",
            "r2_score corresponding to random state:  94 is  0.30341213391539634\n",
            "r2_score corresponding to random state:  95 is  0.30341213391539634\n",
            "r2_score corresponding to random state:  96 is  0.30341213391539634\n",
            "r2_score corresponding to random state:  97 is  0.30341213391539634\n",
            "r2_score corresponding to random state:  98 is  0.30341213391539634\n",
            "r2_score corresponding to random state:  99 is  0.30341213391539634\n",
            "r2_score corresponding to random state:  100 is  0.30341213391539634\n",
            "max_r_score corresponding to: 42 is 0.30341213391539634\n"
          ],
          "name": "stdout"
        }
      ]
    },
    {
      "cell_type": "code",
      "metadata": {
        "colab": {
          "base_uri": "https://localhost:8080/"
        },
        "id": "m3fthtJGwZ6I",
        "outputId": "9effcf7e-0620-48d4-c21b-04f22067d8bb"
      },
      "source": [
        "#Lets do cross Validation.\r\n",
        "from sklearn.model_selection import cross_val_score\r\n",
        "print(\"mean r2_score for Linear Regression:\",cross_val_score(lr,X,y,cv=5,scoring=\"r2\").mean())\r\n",
        "print(\"standard deviation in r2_score for linear Regression:\",cross_val_score(lr,X,y,cv=5,scoring=\"r2\").std())"
      ],
      "execution_count": 83,
      "outputs": [
        {
          "output_type": "stream",
          "text": [
            "mean r2_score for Linear Regression: 0.29354640901624107\n",
            "standard deviation in r2_score for linear Regression: 0.02192557409486765\n"
          ],
          "name": "stdout"
        }
      ]
    },
    {
      "cell_type": "code",
      "metadata": {
        "id": "nkqaLYVdwZ99"
      },
      "source": [
        "#Lets Ckeck with Lasso Regression by performing hyperparametre Tuning:\r\n",
        "from sklearn.linear_model import Lasso\r\n",
        "lasso = Lasso()"
      ],
      "execution_count": 84,
      "outputs": []
    },
    {
      "cell_type": "code",
      "metadata": {
        "id": "HvTavwEftLKC",
        "colab": {
          "base_uri": "https://localhost:8080/"
        },
        "outputId": "cc236416-f627-48cd-a59a-a46214eff61d"
      },
      "source": [
        "#Selecting the best alpha value:\r\n",
        "from sklearn.model_selection import cross_val_score\r\n",
        "from sklearn.model_selection import GridSearchCV\r\n",
        "param = {'alpha':[0.001,0.01,0.1,1]}\r\n",
        "grid = GridSearchCV(estimator=lasso,param_grid=param,cv=5,return_train_score=False)\r\n",
        "grid.fit(X_train,y_train)"
      ],
      "execution_count": 85,
      "outputs": [
        {
          "output_type": "execute_result",
          "data": {
            "text/plain": [
              "GridSearchCV(cv=5, error_score=nan,\n",
              "             estimator=Lasso(alpha=1.0, copy_X=True, fit_intercept=True,\n",
              "                             max_iter=1000, normalize=False, positive=False,\n",
              "                             precompute=False, random_state=None,\n",
              "                             selection='cyclic', tol=0.0001, warm_start=False),\n",
              "             iid='deprecated', n_jobs=None,\n",
              "             param_grid={'alpha': [0.001, 0.01, 0.1, 1]},\n",
              "             pre_dispatch='2*n_jobs', refit=True, return_train_score=False,\n",
              "             scoring=None, verbose=0)"
            ]
          },
          "metadata": {
            "tags": []
          },
          "execution_count": 85
        }
      ]
    },
    {
      "cell_type": "code",
      "metadata": {
        "colab": {
          "base_uri": "https://localhost:8080/"
        },
        "id": "hwb0-NwP0PD5",
        "outputId": "ea7e3741-7424-401d-dc82-8d0af50c5b47"
      },
      "source": [
        "print(grid.best_params_)\r\n",
        "print(grid.best_score_)"
      ],
      "execution_count": 86,
      "outputs": [
        {
          "output_type": "stream",
          "text": [
            "{'alpha': 0.001}\n",
            "0.30019957175144973\n"
          ],
          "name": "stdout"
        }
      ]
    },
    {
      "cell_type": "code",
      "metadata": {
        "colab": {
          "base_uri": "https://localhost:8080/"
        },
        "id": "4OiwZkl-0PGx",
        "outputId": "960f1cee-1e99-4e8c-a83b-137b23c2bbb1"
      },
      "source": [
        "#Using Best alpha value:\r\n",
        "lasso = Lasso(alpha=0.001)\r\n",
        "r_state = maxr2_score(lasso,X,y)"
      ],
      "execution_count": 87,
      "outputs": [
        {
          "output_type": "stream",
          "text": [
            "r2_score corresponding to random state:  42 is  0.3033836959762076\n",
            "r2_score corresponding to random state:  43 is  0.3033836959762076\n",
            "r2_score corresponding to random state:  44 is  0.3033836959762076\n",
            "r2_score corresponding to random state:  45 is  0.3033836959762076\n",
            "r2_score corresponding to random state:  46 is  0.3033836959762076\n",
            "r2_score corresponding to random state:  47 is  0.3033836959762076\n",
            "r2_score corresponding to random state:  48 is  0.3033836959762076\n",
            "r2_score corresponding to random state:  49 is  0.3033836959762076\n",
            "r2_score corresponding to random state:  50 is  0.3033836959762076\n",
            "r2_score corresponding to random state:  51 is  0.3033836959762076\n",
            "r2_score corresponding to random state:  52 is  0.3033836959762076\n",
            "r2_score corresponding to random state:  53 is  0.3033836959762076\n",
            "r2_score corresponding to random state:  54 is  0.3033836959762076\n",
            "r2_score corresponding to random state:  55 is  0.3033836959762076\n",
            "r2_score corresponding to random state:  56 is  0.3033836959762076\n",
            "r2_score corresponding to random state:  57 is  0.3033836959762076\n",
            "r2_score corresponding to random state:  58 is  0.3033836959762076\n",
            "r2_score corresponding to random state:  59 is  0.3033836959762076\n",
            "r2_score corresponding to random state:  60 is  0.3033836959762076\n",
            "r2_score corresponding to random state:  61 is  0.3033836959762076\n",
            "r2_score corresponding to random state:  62 is  0.3033836959762076\n",
            "r2_score corresponding to random state:  63 is  0.3033836959762076\n",
            "r2_score corresponding to random state:  64 is  0.3033836959762076\n",
            "r2_score corresponding to random state:  65 is  0.3033836959762076\n",
            "r2_score corresponding to random state:  66 is  0.3033836959762076\n",
            "r2_score corresponding to random state:  67 is  0.3033836959762076\n",
            "r2_score corresponding to random state:  68 is  0.3033836959762076\n",
            "r2_score corresponding to random state:  69 is  0.3033836959762076\n",
            "r2_score corresponding to random state:  70 is  0.3033836959762076\n",
            "r2_score corresponding to random state:  71 is  0.3033836959762076\n",
            "r2_score corresponding to random state:  72 is  0.3033836959762076\n",
            "r2_score corresponding to random state:  73 is  0.3033836959762076\n",
            "r2_score corresponding to random state:  74 is  0.3033836959762076\n",
            "r2_score corresponding to random state:  75 is  0.3033836959762076\n",
            "r2_score corresponding to random state:  76 is  0.3033836959762076\n",
            "r2_score corresponding to random state:  77 is  0.3033836959762076\n",
            "r2_score corresponding to random state:  78 is  0.3033836959762076\n",
            "r2_score corresponding to random state:  79 is  0.3033836959762076\n",
            "r2_score corresponding to random state:  80 is  0.3033836959762076\n",
            "r2_score corresponding to random state:  81 is  0.3033836959762076\n",
            "r2_score corresponding to random state:  82 is  0.3033836959762076\n",
            "r2_score corresponding to random state:  83 is  0.3033836959762076\n",
            "r2_score corresponding to random state:  84 is  0.3033836959762076\n",
            "r2_score corresponding to random state:  85 is  0.3033836959762076\n",
            "r2_score corresponding to random state:  86 is  0.3033836959762076\n",
            "r2_score corresponding to random state:  87 is  0.3033836959762076\n",
            "r2_score corresponding to random state:  88 is  0.3033836959762076\n",
            "r2_score corresponding to random state:  89 is  0.3033836959762076\n",
            "r2_score corresponding to random state:  90 is  0.3033836959762076\n",
            "r2_score corresponding to random state:  91 is  0.3033836959762076\n",
            "r2_score corresponding to random state:  92 is  0.3033836959762076\n",
            "r2_score corresponding to random state:  93 is  0.3033836959762076\n",
            "r2_score corresponding to random state:  94 is  0.3033836959762076\n",
            "r2_score corresponding to random state:  95 is  0.3033836959762076\n",
            "r2_score corresponding to random state:  96 is  0.3033836959762076\n",
            "r2_score corresponding to random state:  97 is  0.3033836959762076\n",
            "r2_score corresponding to random state:  98 is  0.3033836959762076\n",
            "r2_score corresponding to random state:  99 is  0.3033836959762076\n",
            "r2_score corresponding to random state:  100 is  0.3033836959762076\n",
            "max_r_score corresponding to: 42 is 0.3033836959762076\n"
          ],
          "name": "stdout"
        }
      ]
    },
    {
      "cell_type": "code",
      "metadata": {
        "colab": {
          "base_uri": "https://localhost:8080/"
        },
        "id": "O6Efa1z50PJg",
        "outputId": "1269b30e-eba4-45ed-d167-56f2598f5dca"
      },
      "source": [
        "#Lets do cross Validation.\r\n",
        "from sklearn.model_selection import cross_val_score\r\n",
        "print(\"mean r2_score for Lasso Regression:\",cross_val_score(lasso,X,y,cv=5,scoring=\"r2\").mean())\r\n",
        "print(\"standard deviation in r2_score for lasso Regression:\",cross_val_score(lasso,X,y,cv=5,scoring=\"r2\").std())"
      ],
      "execution_count": 88,
      "outputs": [
        {
          "output_type": "stream",
          "text": [
            "mean r2_score for Lasso Regression: 0.2935935429987272\n",
            "standard deviation in r2_score for lasso Regression: 0.022244409103331773\n"
          ],
          "name": "stdout"
        }
      ]
    },
    {
      "cell_type": "code",
      "metadata": {
        "id": "wg1EMepM0PMz"
      },
      "source": [
        "#Lets Ckeck with Ridge Regression by performing hyperparametre Tuning:\r\n",
        "from sklearn.linear_model import Ridge\r\n",
        "ridge = Ridge()"
      ],
      "execution_count": 89,
      "outputs": []
    },
    {
      "cell_type": "code",
      "metadata": {
        "colab": {
          "base_uri": "https://localhost:8080/"
        },
        "id": "f8F6ZrTq0PO6",
        "outputId": "db61ad56-0790-4f3a-f214-40906aea6c6f"
      },
      "source": [
        "#Selecting the best alpha value:\r\n",
        "from sklearn.model_selection import cross_val_score\r\n",
        "from sklearn.model_selection import GridSearchCV\r\n",
        "param = {'alpha':[0.001,0.01,0.1,1]}\r\n",
        "grid = GridSearchCV(estimator=ridge,param_grid=param,cv=5,return_train_score=False)\r\n",
        "grid.fit(X_train,y_train)"
      ],
      "execution_count": 90,
      "outputs": [
        {
          "output_type": "execute_result",
          "data": {
            "text/plain": [
              "GridSearchCV(cv=5, error_score=nan,\n",
              "             estimator=Ridge(alpha=1.0, copy_X=True, fit_intercept=True,\n",
              "                             max_iter=None, normalize=False, random_state=None,\n",
              "                             solver='auto', tol=0.001),\n",
              "             iid='deprecated', n_jobs=None,\n",
              "             param_grid={'alpha': [0.001, 0.01, 0.1, 1]},\n",
              "             pre_dispatch='2*n_jobs', refit=True, return_train_score=False,\n",
              "             scoring=None, verbose=0)"
            ]
          },
          "metadata": {
            "tags": []
          },
          "execution_count": 90
        }
      ]
    },
    {
      "cell_type": "code",
      "metadata": {
        "colab": {
          "base_uri": "https://localhost:8080/"
        },
        "id": "HYrLxX1L0PTa",
        "outputId": "9a66c836-e197-42e3-b593-c545f93de47a"
      },
      "source": [
        "print(grid.best_params_)\r\n",
        "print(grid.best_score_)"
      ],
      "execution_count": 91,
      "outputs": [
        {
          "output_type": "stream",
          "text": [
            "{'alpha': 1}\n",
            "0.30019845622645935\n"
          ],
          "name": "stdout"
        }
      ]
    },
    {
      "cell_type": "code",
      "metadata": {
        "colab": {
          "base_uri": "https://localhost:8080/"
        },
        "id": "X_hLVptd0PYq",
        "outputId": "670ccad5-4d4e-4bdc-8fbc-acef83b12897"
      },
      "source": [
        "#Using Best alpha value:\r\n",
        "ridge = Ridge(alpha=1)\r\n",
        "r_state = maxr2_score(ridge,X,y)"
      ],
      "execution_count": 92,
      "outputs": [
        {
          "output_type": "stream",
          "text": [
            "r2_score corresponding to random state:  42 is  0.30341351824715523\n",
            "r2_score corresponding to random state:  43 is  0.30341351824715523\n",
            "r2_score corresponding to random state:  44 is  0.30341351824715523\n",
            "r2_score corresponding to random state:  45 is  0.30341351824715523\n",
            "r2_score corresponding to random state:  46 is  0.30341351824715523\n",
            "r2_score corresponding to random state:  47 is  0.30341351824715523\n",
            "r2_score corresponding to random state:  48 is  0.30341351824715523\n",
            "r2_score corresponding to random state:  49 is  0.30341351824715523\n",
            "r2_score corresponding to random state:  50 is  0.30341351824715523\n",
            "r2_score corresponding to random state:  51 is  0.30341351824715523\n",
            "r2_score corresponding to random state:  52 is  0.30341351824715523\n",
            "r2_score corresponding to random state:  53 is  0.30341351824715523\n",
            "r2_score corresponding to random state:  54 is  0.30341351824715523\n",
            "r2_score corresponding to random state:  55 is  0.30341351824715523\n",
            "r2_score corresponding to random state:  56 is  0.30341351824715523\n",
            "r2_score corresponding to random state:  57 is  0.30341351824715523\n",
            "r2_score corresponding to random state:  58 is  0.30341351824715523\n",
            "r2_score corresponding to random state:  59 is  0.30341351824715523\n",
            "r2_score corresponding to random state:  60 is  0.30341351824715523\n",
            "r2_score corresponding to random state:  61 is  0.30341351824715523\n",
            "r2_score corresponding to random state:  62 is  0.30341351824715523\n",
            "r2_score corresponding to random state:  63 is  0.30341351824715523\n",
            "r2_score corresponding to random state:  64 is  0.30341351824715523\n",
            "r2_score corresponding to random state:  65 is  0.30341351824715523\n",
            "r2_score corresponding to random state:  66 is  0.30341351824715523\n",
            "r2_score corresponding to random state:  67 is  0.30341351824715523\n",
            "r2_score corresponding to random state:  68 is  0.30341351824715523\n",
            "r2_score corresponding to random state:  69 is  0.30341351824715523\n",
            "r2_score corresponding to random state:  70 is  0.30341351824715523\n",
            "r2_score corresponding to random state:  71 is  0.30341351824715523\n",
            "r2_score corresponding to random state:  72 is  0.30341351824715523\n",
            "r2_score corresponding to random state:  73 is  0.30341351824715523\n",
            "r2_score corresponding to random state:  74 is  0.30341351824715523\n",
            "r2_score corresponding to random state:  75 is  0.30341351824715523\n",
            "r2_score corresponding to random state:  76 is  0.30341351824715523\n",
            "r2_score corresponding to random state:  77 is  0.30341351824715523\n",
            "r2_score corresponding to random state:  78 is  0.30341351824715523\n",
            "r2_score corresponding to random state:  79 is  0.30341351824715523\n",
            "r2_score corresponding to random state:  80 is  0.30341351824715523\n",
            "r2_score corresponding to random state:  81 is  0.30341351824715523\n",
            "r2_score corresponding to random state:  82 is  0.30341351824715523\n",
            "r2_score corresponding to random state:  83 is  0.30341351824715523\n",
            "r2_score corresponding to random state:  84 is  0.30341351824715523\n",
            "r2_score corresponding to random state:  85 is  0.30341351824715523\n",
            "r2_score corresponding to random state:  86 is  0.30341351824715523\n",
            "r2_score corresponding to random state:  87 is  0.30341351824715523\n",
            "r2_score corresponding to random state:  88 is  0.30341351824715523\n",
            "r2_score corresponding to random state:  89 is  0.30341351824715523\n",
            "r2_score corresponding to random state:  90 is  0.30341351824715523\n",
            "r2_score corresponding to random state:  91 is  0.30341351824715523\n",
            "r2_score corresponding to random state:  92 is  0.30341351824715523\n",
            "r2_score corresponding to random state:  93 is  0.30341351824715523\n",
            "r2_score corresponding to random state:  94 is  0.30341351824715523\n",
            "r2_score corresponding to random state:  95 is  0.30341351824715523\n",
            "r2_score corresponding to random state:  96 is  0.30341351824715523\n",
            "r2_score corresponding to random state:  97 is  0.30341351824715523\n",
            "r2_score corresponding to random state:  98 is  0.30341351824715523\n",
            "r2_score corresponding to random state:  99 is  0.30341351824715523\n",
            "r2_score corresponding to random state:  100 is  0.30341351824715523\n",
            "max_r_score corresponding to: 42 is 0.30341351824715523\n"
          ],
          "name": "stdout"
        }
      ]
    },
    {
      "cell_type": "code",
      "metadata": {
        "colab": {
          "base_uri": "https://localhost:8080/"
        },
        "id": "g98glaCC6yUx",
        "outputId": "463fd930-6e02-4091-a497-85ab42e3795b"
      },
      "source": [
        "#Lets do cross Validation.\r\n",
        "from sklearn.model_selection import cross_val_score\r\n",
        "print(\"mean r2_score for Ridge Regression:\",cross_val_score(ridge,X,y,cv=5,scoring=\"r2\").mean())\r\n",
        "print(\"standard deviation in r2_score for Ridge Regression:\",cross_val_score(ridge,X,y,cv=5,scoring=\"r2\").std())"
      ],
      "execution_count": 93,
      "outputs": [
        {
          "output_type": "stream",
          "text": [
            "mean r2_score for Ridge Regression: 0.29355534877707173\n",
            "standard deviation in r2_score for Ridge Regression: 0.02193919736165567\n"
          ],
          "name": "stdout"
        }
      ]
    },
    {
      "cell_type": "code",
      "metadata": {
        "id": "wuNU073O0PbU"
      },
      "source": [
        "#Any of the Model is not Providing us good Score lets go for Ensemble Technique. \r\n",
        "#Lets Try with Random Forest:"
      ],
      "execution_count": 94,
      "outputs": []
    },
    {
      "cell_type": "code",
      "metadata": {
        "colab": {
          "base_uri": "https://localhost:8080/"
        },
        "id": "YYZzyOlo0Pd-",
        "outputId": "e29e8f05-15db-44b4-ab0d-5ea56f3ec332"
      },
      "source": [
        "from sklearn.ensemble import RandomForestRegressor\r\n",
        "reg_rf = RandomForestRegressor()\r\n",
        "reg_rf.fit(X_train, y_train)"
      ],
      "execution_count": 95,
      "outputs": [
        {
          "output_type": "execute_result",
          "data": {
            "text/plain": [
              "RandomForestRegressor(bootstrap=True, ccp_alpha=0.0, criterion='mse',\n",
              "                      max_depth=None, max_features='auto', max_leaf_nodes=None,\n",
              "                      max_samples=None, min_impurity_decrease=0.0,\n",
              "                      min_impurity_split=None, min_samples_leaf=1,\n",
              "                      min_samples_split=2, min_weight_fraction_leaf=0.0,\n",
              "                      n_estimators=100, n_jobs=None, oob_score=False,\n",
              "                      random_state=None, verbose=0, warm_start=False)"
            ]
          },
          "metadata": {
            "tags": []
          },
          "execution_count": 95
        }
      ]
    },
    {
      "cell_type": "code",
      "metadata": {
        "id": "11yZ9L9o1vt6"
      },
      "source": [
        "#Doing Prediction:\r\n",
        "y_pred = reg_rf.predict(X_test)"
      ],
      "execution_count": 96,
      "outputs": []
    },
    {
      "cell_type": "code",
      "metadata": {
        "colab": {
          "base_uri": "https://localhost:8080/"
        },
        "id": "Us7FV3Cx1vws",
        "outputId": "00caed99-7b78-4297-d7f4-cf7375a11b08"
      },
      "source": [
        "#Checking Test Score:\r\n",
        "reg_rf.score(X_test, y_test)"
      ],
      "execution_count": 97,
      "outputs": [
        {
          "output_type": "execute_result",
          "data": {
            "text/plain": [
              "0.940019687327549"
            ]
          },
          "metadata": {
            "tags": []
          },
          "execution_count": 97
        }
      ]
    },
    {
      "cell_type": "code",
      "metadata": {
        "id": "pJb8Q3IR1v4w"
      },
      "source": [
        "from sklearn import metrics"
      ],
      "execution_count": 98,
      "outputs": []
    },
    {
      "cell_type": "code",
      "metadata": {
        "colab": {
          "base_uri": "https://localhost:8080/"
        },
        "id": "oB7VeDHo1v7T",
        "outputId": "d1a021e0-9b4a-4b93-da08-c443c1bc6247"
      },
      "source": [
        "print('MAE:', metrics.mean_absolute_error(y_test, y_pred))\r\n",
        "print('MSE:', metrics.mean_squared_error(y_test, y_pred))\r\n",
        "print('RMSE:', np.sqrt(metrics.mean_squared_error(y_test, y_pred)))"
      ],
      "execution_count": 99,
      "outputs": [
        {
          "output_type": "stream",
          "text": [
            "MAE: 0.20900337909267833\n",
            "MSE: 0.4104694070012814\n",
            "RMSE: 0.6406788641755566\n"
          ],
          "name": "stdout"
        }
      ]
    },
    {
      "cell_type": "code",
      "metadata": {
        "id": "edwJNP5y1v-s"
      },
      "source": [
        "#Lets perform Hyperparametre Tuning and check the Results:"
      ],
      "execution_count": null,
      "outputs": []
    },
    {
      "cell_type": "code",
      "metadata": {
        "id": "Sfs2C2o81wDu"
      },
      "source": [
        "from sklearn.model_selection import RandomizedSearchCV"
      ],
      "execution_count": 100,
      "outputs": []
    },
    {
      "cell_type": "code",
      "metadata": {
        "id": "4jydTKnW2Mt6"
      },
      "source": [
        "#Hyperparametre Tuning by using RandomizedSearch CV\r\n",
        "\r\n",
        "n_estimators = [int(x) for x in np.linspace(start = 100, stop = 1200, num = 12)]\r\n",
        "max_features = ['auto', 'sqrt']\r\n",
        "max_depth = [int(x) for x in np.linspace(5, 30, num = 6)]\r\n",
        "min_samples_split = [2, 5, 10, 15, 100]\r\n",
        "min_samples_leaf = [1, 2, 5, 10]"
      ],
      "execution_count": 101,
      "outputs": []
    },
    {
      "cell_type": "code",
      "metadata": {
        "id": "rBZD6JPH2MxA"
      },
      "source": [
        "#Create the random grid and input the values:\r\n",
        "random_grid = {'n_estimators': n_estimators,'max_features': max_features,'max_depth': max_depth,'min_samples_split': min_samples_split,'min_samples_leaf': min_samples_leaf}"
      ],
      "execution_count": 102,
      "outputs": []
    },
    {
      "cell_type": "code",
      "metadata": {
        "id": "Z_5szQNw2Mzr"
      },
      "source": [
        "# Random search of parameters, using 5 fold cross validation, \r\n",
        "rf_random = RandomizedSearchCV(estimator = reg_rf, param_distributions = random_grid,scoring='neg_mean_squared_error',n_iter = 10, cv = 5, verbose=2, random_state=42, n_jobs = 1)"
      ],
      "execution_count": 103,
      "outputs": []
    },
    {
      "cell_type": "code",
      "metadata": {
        "colab": {
          "base_uri": "https://localhost:8080/"
        },
        "id": "hJkV4rNW2M2q",
        "outputId": "4567a303-5a90-47de-f3f0-01c509ecce23"
      },
      "source": [
        "#Lets Fit Our Model:\r\n",
        "rf_random.fit(X_train,y_train)"
      ],
      "execution_count": 104,
      "outputs": [
        {
          "output_type": "stream",
          "text": [
            "Fitting 5 folds for each of 10 candidates, totalling 50 fits\n",
            "[CV] n_estimators=900, min_samples_split=5, min_samples_leaf=5, max_features=sqrt, max_depth=10 \n"
          ],
          "name": "stdout"
        },
        {
          "output_type": "stream",
          "text": [
            "[Parallel(n_jobs=1)]: Using backend SequentialBackend with 1 concurrent workers.\n"
          ],
          "name": "stderr"
        },
        {
          "output_type": "stream",
          "text": [
            "[CV]  n_estimators=900, min_samples_split=5, min_samples_leaf=5, max_features=sqrt, max_depth=10, total=   4.1s\n",
            "[CV] n_estimators=900, min_samples_split=5, min_samples_leaf=5, max_features=sqrt, max_depth=10 \n"
          ],
          "name": "stdout"
        },
        {
          "output_type": "stream",
          "text": [
            "[Parallel(n_jobs=1)]: Done   1 out of   1 | elapsed:    4.1s remaining:    0.0s\n"
          ],
          "name": "stderr"
        },
        {
          "output_type": "stream",
          "text": [
            "[CV]  n_estimators=900, min_samples_split=5, min_samples_leaf=5, max_features=sqrt, max_depth=10, total=   4.1s\n",
            "[CV] n_estimators=900, min_samples_split=5, min_samples_leaf=5, max_features=sqrt, max_depth=10 \n",
            "[CV]  n_estimators=900, min_samples_split=5, min_samples_leaf=5, max_features=sqrt, max_depth=10, total=   4.1s\n",
            "[CV] n_estimators=900, min_samples_split=5, min_samples_leaf=5, max_features=sqrt, max_depth=10 \n",
            "[CV]  n_estimators=900, min_samples_split=5, min_samples_leaf=5, max_features=sqrt, max_depth=10, total=   4.1s\n",
            "[CV] n_estimators=900, min_samples_split=5, min_samples_leaf=5, max_features=sqrt, max_depth=10 \n",
            "[CV]  n_estimators=900, min_samples_split=5, min_samples_leaf=5, max_features=sqrt, max_depth=10, total=   4.1s\n",
            "[CV] n_estimators=1100, min_samples_split=10, min_samples_leaf=2, max_features=sqrt, max_depth=15 \n",
            "[CV]  n_estimators=1100, min_samples_split=10, min_samples_leaf=2, max_features=sqrt, max_depth=15, total=   5.9s\n",
            "[CV] n_estimators=1100, min_samples_split=10, min_samples_leaf=2, max_features=sqrt, max_depth=15 \n",
            "[CV]  n_estimators=1100, min_samples_split=10, min_samples_leaf=2, max_features=sqrt, max_depth=15, total=   5.9s\n",
            "[CV] n_estimators=1100, min_samples_split=10, min_samples_leaf=2, max_features=sqrt, max_depth=15 \n",
            "[CV]  n_estimators=1100, min_samples_split=10, min_samples_leaf=2, max_features=sqrt, max_depth=15, total=   5.8s\n",
            "[CV] n_estimators=1100, min_samples_split=10, min_samples_leaf=2, max_features=sqrt, max_depth=15 \n",
            "[CV]  n_estimators=1100, min_samples_split=10, min_samples_leaf=2, max_features=sqrt, max_depth=15, total=   5.9s\n",
            "[CV] n_estimators=1100, min_samples_split=10, min_samples_leaf=2, max_features=sqrt, max_depth=15 \n",
            "[CV]  n_estimators=1100, min_samples_split=10, min_samples_leaf=2, max_features=sqrt, max_depth=15, total=   5.9s\n",
            "[CV] n_estimators=300, min_samples_split=100, min_samples_leaf=5, max_features=auto, max_depth=15 \n",
            "[CV]  n_estimators=300, min_samples_split=100, min_samples_leaf=5, max_features=auto, max_depth=15, total=   3.5s\n",
            "[CV] n_estimators=300, min_samples_split=100, min_samples_leaf=5, max_features=auto, max_depth=15 \n",
            "[CV]  n_estimators=300, min_samples_split=100, min_samples_leaf=5, max_features=auto, max_depth=15, total=   3.5s\n",
            "[CV] n_estimators=300, min_samples_split=100, min_samples_leaf=5, max_features=auto, max_depth=15 \n",
            "[CV]  n_estimators=300, min_samples_split=100, min_samples_leaf=5, max_features=auto, max_depth=15, total=   3.5s\n",
            "[CV] n_estimators=300, min_samples_split=100, min_samples_leaf=5, max_features=auto, max_depth=15 \n",
            "[CV]  n_estimators=300, min_samples_split=100, min_samples_leaf=5, max_features=auto, max_depth=15, total=   3.5s\n",
            "[CV] n_estimators=300, min_samples_split=100, min_samples_leaf=5, max_features=auto, max_depth=15 \n",
            "[CV]  n_estimators=300, min_samples_split=100, min_samples_leaf=5, max_features=auto, max_depth=15, total=   3.5s\n",
            "[CV] n_estimators=400, min_samples_split=5, min_samples_leaf=5, max_features=auto, max_depth=15 \n",
            "[CV]  n_estimators=400, min_samples_split=5, min_samples_leaf=5, max_features=auto, max_depth=15, total=   5.9s\n",
            "[CV] n_estimators=400, min_samples_split=5, min_samples_leaf=5, max_features=auto, max_depth=15 \n",
            "[CV]  n_estimators=400, min_samples_split=5, min_samples_leaf=5, max_features=auto, max_depth=15, total=   5.8s\n",
            "[CV] n_estimators=400, min_samples_split=5, min_samples_leaf=5, max_features=auto, max_depth=15 \n",
            "[CV]  n_estimators=400, min_samples_split=5, min_samples_leaf=5, max_features=auto, max_depth=15, total=   5.8s\n",
            "[CV] n_estimators=400, min_samples_split=5, min_samples_leaf=5, max_features=auto, max_depth=15 \n",
            "[CV]  n_estimators=400, min_samples_split=5, min_samples_leaf=5, max_features=auto, max_depth=15, total=   5.8s\n",
            "[CV] n_estimators=400, min_samples_split=5, min_samples_leaf=5, max_features=auto, max_depth=15 \n",
            "[CV]  n_estimators=400, min_samples_split=5, min_samples_leaf=5, max_features=auto, max_depth=15, total=   5.8s\n",
            "[CV] n_estimators=700, min_samples_split=5, min_samples_leaf=10, max_features=auto, max_depth=20 \n",
            "[CV]  n_estimators=700, min_samples_split=5, min_samples_leaf=10, max_features=auto, max_depth=20, total=   9.8s\n",
            "[CV] n_estimators=700, min_samples_split=5, min_samples_leaf=10, max_features=auto, max_depth=20 \n",
            "[CV]  n_estimators=700, min_samples_split=5, min_samples_leaf=10, max_features=auto, max_depth=20, total=   9.8s\n",
            "[CV] n_estimators=700, min_samples_split=5, min_samples_leaf=10, max_features=auto, max_depth=20 \n",
            "[CV]  n_estimators=700, min_samples_split=5, min_samples_leaf=10, max_features=auto, max_depth=20, total=   9.9s\n",
            "[CV] n_estimators=700, min_samples_split=5, min_samples_leaf=10, max_features=auto, max_depth=20 \n",
            "[CV]  n_estimators=700, min_samples_split=5, min_samples_leaf=10, max_features=auto, max_depth=20, total=   9.7s\n",
            "[CV] n_estimators=700, min_samples_split=5, min_samples_leaf=10, max_features=auto, max_depth=20 \n",
            "[CV]  n_estimators=700, min_samples_split=5, min_samples_leaf=10, max_features=auto, max_depth=20, total=   9.8s\n",
            "[CV] n_estimators=1000, min_samples_split=2, min_samples_leaf=1, max_features=sqrt, max_depth=25 \n",
            "[CV]  n_estimators=1000, min_samples_split=2, min_samples_leaf=1, max_features=sqrt, max_depth=25, total=   6.7s\n",
            "[CV] n_estimators=1000, min_samples_split=2, min_samples_leaf=1, max_features=sqrt, max_depth=25 \n",
            "[CV]  n_estimators=1000, min_samples_split=2, min_samples_leaf=1, max_features=sqrt, max_depth=25, total=   6.7s\n",
            "[CV] n_estimators=1000, min_samples_split=2, min_samples_leaf=1, max_features=sqrt, max_depth=25 \n",
            "[CV]  n_estimators=1000, min_samples_split=2, min_samples_leaf=1, max_features=sqrt, max_depth=25, total=   6.7s\n",
            "[CV] n_estimators=1000, min_samples_split=2, min_samples_leaf=1, max_features=sqrt, max_depth=25 \n",
            "[CV]  n_estimators=1000, min_samples_split=2, min_samples_leaf=1, max_features=sqrt, max_depth=25, total=   6.8s\n",
            "[CV] n_estimators=1000, min_samples_split=2, min_samples_leaf=1, max_features=sqrt, max_depth=25 \n",
            "[CV]  n_estimators=1000, min_samples_split=2, min_samples_leaf=1, max_features=sqrt, max_depth=25, total=   6.7s\n",
            "[CV] n_estimators=1100, min_samples_split=15, min_samples_leaf=10, max_features=sqrt, max_depth=5 \n",
            "[CV]  n_estimators=1100, min_samples_split=15, min_samples_leaf=10, max_features=sqrt, max_depth=5, total=   3.4s\n",
            "[CV] n_estimators=1100, min_samples_split=15, min_samples_leaf=10, max_features=sqrt, max_depth=5 \n",
            "[CV]  n_estimators=1100, min_samples_split=15, min_samples_leaf=10, max_features=sqrt, max_depth=5, total=   3.4s\n",
            "[CV] n_estimators=1100, min_samples_split=15, min_samples_leaf=10, max_features=sqrt, max_depth=5 \n",
            "[CV]  n_estimators=1100, min_samples_split=15, min_samples_leaf=10, max_features=sqrt, max_depth=5, total=   3.4s\n",
            "[CV] n_estimators=1100, min_samples_split=15, min_samples_leaf=10, max_features=sqrt, max_depth=5 \n",
            "[CV]  n_estimators=1100, min_samples_split=15, min_samples_leaf=10, max_features=sqrt, max_depth=5, total=   3.4s\n",
            "[CV] n_estimators=1100, min_samples_split=15, min_samples_leaf=10, max_features=sqrt, max_depth=5 \n",
            "[CV]  n_estimators=1100, min_samples_split=15, min_samples_leaf=10, max_features=sqrt, max_depth=5, total=   3.4s\n",
            "[CV] n_estimators=300, min_samples_split=15, min_samples_leaf=1, max_features=sqrt, max_depth=15 \n",
            "[CV]  n_estimators=300, min_samples_split=15, min_samples_leaf=1, max_features=sqrt, max_depth=15, total=   1.6s\n",
            "[CV] n_estimators=300, min_samples_split=15, min_samples_leaf=1, max_features=sqrt, max_depth=15 \n",
            "[CV]  n_estimators=300, min_samples_split=15, min_samples_leaf=1, max_features=sqrt, max_depth=15, total=   1.6s\n",
            "[CV] n_estimators=300, min_samples_split=15, min_samples_leaf=1, max_features=sqrt, max_depth=15 \n",
            "[CV]  n_estimators=300, min_samples_split=15, min_samples_leaf=1, max_features=sqrt, max_depth=15, total=   1.6s\n",
            "[CV] n_estimators=300, min_samples_split=15, min_samples_leaf=1, max_features=sqrt, max_depth=15 \n",
            "[CV]  n_estimators=300, min_samples_split=15, min_samples_leaf=1, max_features=sqrt, max_depth=15, total=   1.6s\n",
            "[CV] n_estimators=300, min_samples_split=15, min_samples_leaf=1, max_features=sqrt, max_depth=15 \n",
            "[CV]  n_estimators=300, min_samples_split=15, min_samples_leaf=1, max_features=sqrt, max_depth=15, total=   1.6s\n",
            "[CV] n_estimators=700, min_samples_split=10, min_samples_leaf=2, max_features=sqrt, max_depth=5 \n",
            "[CV]  n_estimators=700, min_samples_split=10, min_samples_leaf=2, max_features=sqrt, max_depth=5, total=   2.2s\n",
            "[CV] n_estimators=700, min_samples_split=10, min_samples_leaf=2, max_features=sqrt, max_depth=5 \n",
            "[CV]  n_estimators=700, min_samples_split=10, min_samples_leaf=2, max_features=sqrt, max_depth=5, total=   2.2s\n",
            "[CV] n_estimators=700, min_samples_split=10, min_samples_leaf=2, max_features=sqrt, max_depth=5 \n",
            "[CV]  n_estimators=700, min_samples_split=10, min_samples_leaf=2, max_features=sqrt, max_depth=5, total=   2.1s\n",
            "[CV] n_estimators=700, min_samples_split=10, min_samples_leaf=2, max_features=sqrt, max_depth=5 \n",
            "[CV]  n_estimators=700, min_samples_split=10, min_samples_leaf=2, max_features=sqrt, max_depth=5, total=   2.2s\n",
            "[CV] n_estimators=700, min_samples_split=10, min_samples_leaf=2, max_features=sqrt, max_depth=5 \n",
            "[CV]  n_estimators=700, min_samples_split=10, min_samples_leaf=2, max_features=sqrt, max_depth=5, total=   2.2s\n",
            "[CV] n_estimators=700, min_samples_split=15, min_samples_leaf=1, max_features=auto, max_depth=20 \n",
            "[CV]  n_estimators=700, min_samples_split=15, min_samples_leaf=1, max_features=auto, max_depth=20, total=  10.8s\n",
            "[CV] n_estimators=700, min_samples_split=15, min_samples_leaf=1, max_features=auto, max_depth=20 \n",
            "[CV]  n_estimators=700, min_samples_split=15, min_samples_leaf=1, max_features=auto, max_depth=20, total=  10.9s\n",
            "[CV] n_estimators=700, min_samples_split=15, min_samples_leaf=1, max_features=auto, max_depth=20 \n",
            "[CV]  n_estimators=700, min_samples_split=15, min_samples_leaf=1, max_features=auto, max_depth=20, total=  11.0s\n",
            "[CV] n_estimators=700, min_samples_split=15, min_samples_leaf=1, max_features=auto, max_depth=20 \n",
            "[CV]  n_estimators=700, min_samples_split=15, min_samples_leaf=1, max_features=auto, max_depth=20, total=  10.9s\n",
            "[CV] n_estimators=700, min_samples_split=15, min_samples_leaf=1, max_features=auto, max_depth=20 \n",
            "[CV]  n_estimators=700, min_samples_split=15, min_samples_leaf=1, max_features=auto, max_depth=20, total=  10.9s\n"
          ],
          "name": "stdout"
        },
        {
          "output_type": "stream",
          "text": [
            "[Parallel(n_jobs=1)]: Done  50 out of  50 | elapsed:  4.5min finished\n"
          ],
          "name": "stderr"
        },
        {
          "output_type": "execute_result",
          "data": {
            "text/plain": [
              "RandomizedSearchCV(cv=5, error_score=nan,\n",
              "                   estimator=RandomForestRegressor(bootstrap=True,\n",
              "                                                   ccp_alpha=0.0,\n",
              "                                                   criterion='mse',\n",
              "                                                   max_depth=None,\n",
              "                                                   max_features='auto',\n",
              "                                                   max_leaf_nodes=None,\n",
              "                                                   max_samples=None,\n",
              "                                                   min_impurity_decrease=0.0,\n",
              "                                                   min_impurity_split=None,\n",
              "                                                   min_samples_leaf=1,\n",
              "                                                   min_samples_split=2,\n",
              "                                                   min_weight_fraction_leaf=0.0,\n",
              "                                                   n_estimators=100,\n",
              "                                                   n_jobs=None, oob_score=Fals...\n",
              "                   iid='deprecated', n_iter=10, n_jobs=1,\n",
              "                   param_distributions={'max_depth': [5, 10, 15, 20, 25, 30],\n",
              "                                        'max_features': ['auto', 'sqrt'],\n",
              "                                        'min_samples_leaf': [1, 2, 5, 10],\n",
              "                                        'min_samples_split': [2, 5, 10, 15,\n",
              "                                                              100],\n",
              "                                        'n_estimators': [100, 200, 300, 400,\n",
              "                                                         500, 600, 700, 800,\n",
              "                                                         900, 1000, 1100,\n",
              "                                                         1200]},\n",
              "                   pre_dispatch='2*n_jobs', random_state=42, refit=True,\n",
              "                   return_train_score=False, scoring='neg_mean_squared_error',\n",
              "                   verbose=2)"
            ]
          },
          "metadata": {
            "tags": []
          },
          "execution_count": 104
        }
      ]
    },
    {
      "cell_type": "code",
      "metadata": {
        "colab": {
          "base_uri": "https://localhost:8080/"
        },
        "id": "rx0eMaOZ2M5f",
        "outputId": "ed914d54-8725-4dd8-8c63-30aa8338237f"
      },
      "source": [
        "#Fetching Best Parametre\r\n",
        "print(rf_random.best_params_)"
      ],
      "execution_count": 105,
      "outputs": [
        {
          "output_type": "stream",
          "text": [
            "{'n_estimators': 1000, 'min_samples_split': 2, 'min_samples_leaf': 1, 'max_features': 'sqrt', 'max_depth': 25}\n"
          ],
          "name": "stdout"
        }
      ]
    },
    {
      "cell_type": "code",
      "metadata": {
        "colab": {
          "base_uri": "https://localhost:8080/"
        },
        "id": "NGWNKh0i4q1t",
        "outputId": "acf8d2c3-4aac-4a59-d9d1-469aa478fb5d"
      },
      "source": [
        "#Importing Alogorithim and initializing values:\r\n",
        "reg_rf = RandomForestRegressor(max_depth=25,max_features='sqrt',min_samples_leaf=1,min_samples_split=2,n_estimators=1000)\r\n",
        "reg_rf.fit(X_train, y_train)"
      ],
      "execution_count": 106,
      "outputs": [
        {
          "output_type": "execute_result",
          "data": {
            "text/plain": [
              "RandomForestRegressor(bootstrap=True, ccp_alpha=0.0, criterion='mse',\n",
              "                      max_depth=25, max_features='sqrt', max_leaf_nodes=None,\n",
              "                      max_samples=None, min_impurity_decrease=0.0,\n",
              "                      min_impurity_split=None, min_samples_leaf=1,\n",
              "                      min_samples_split=2, min_weight_fraction_leaf=0.0,\n",
              "                      n_estimators=1000, n_jobs=None, oob_score=False,\n",
              "                      random_state=None, verbose=0, warm_start=False)"
            ]
          },
          "metadata": {
            "tags": []
          },
          "execution_count": 106
        }
      ]
    },
    {
      "cell_type": "code",
      "metadata": {
        "id": "uYQRdFls2M8i"
      },
      "source": [
        "prediction = reg_rf.predict(X_test)"
      ],
      "execution_count": 107,
      "outputs": []
    },
    {
      "cell_type": "code",
      "metadata": {
        "colab": {
          "base_uri": "https://localhost:8080/"
        },
        "id": "Lz4RPnDG2NFH",
        "outputId": "4538825e-258e-4981-9477-94dbc162ea47"
      },
      "source": [
        "print('MAE:', metrics.mean_absolute_error(y_test, prediction))\r\n",
        "print('MSE:', metrics.mean_squared_error(y_test, prediction))\r\n",
        "print('RMSE:', np.sqrt(metrics.mean_squared_error(y_test, prediction)))"
      ],
      "execution_count": 108,
      "outputs": [
        {
          "output_type": "stream",
          "text": [
            "MAE: 0.2809549115880355\n",
            "MSE: 0.4991138634044576\n",
            "RMSE: 0.706479910120916\n"
          ],
          "name": "stdout"
        }
      ]
    },
    {
      "cell_type": "code",
      "metadata": {
        "colab": {
          "base_uri": "https://localhost:8080/"
        },
        "id": "pDR-B5iE2NHE",
        "outputId": "ead6221c-490a-453f-9d9d-0a0619cff212"
      },
      "source": [
        "metrics.r2_score(y_test, prediction)"
      ],
      "execution_count": 109,
      "outputs": [
        {
          "output_type": "execute_result",
          "data": {
            "text/plain": [
              "0.9270664145109823"
            ]
          },
          "metadata": {
            "tags": []
          },
          "execution_count": 109
        }
      ]
    },
    {
      "cell_type": "code",
      "metadata": {
        "colab": {
          "base_uri": "https://localhost:8080/"
        },
        "id": "cduosItG58Pe",
        "outputId": "3c9dc98d-6113-4aca-ceab-97a5252bebab"
      },
      "source": [
        "#Lets do cross Validation.\r\n",
        "from sklearn.model_selection import cross_val_score\r\n",
        "print(\"mean r2_score for Random Forest Regression:\",cross_val_score(reg_rf,X,y,cv=5,scoring=\"r2\").mean())\r\n",
        "print(\"standard deviation in r2_score for Random Forest Regression:\",cross_val_score(reg_rf,X,y,cv=5,scoring=\"r2\").std())"
      ],
      "execution_count": 110,
      "outputs": [
        {
          "output_type": "stream",
          "text": [
            "mean r2_score for Random Forest Regression: 0.833226897449762\n",
            "standard deviation in r2_score for Random Forest Regression: 0.08405196585907658\n"
          ],
          "name": "stdout"
        }
      ]
    },
    {
      "cell_type": "code",
      "metadata": {
        "colab": {
          "base_uri": "https://localhost:8080/"
        },
        "id": "crlrr6Rc2NYP",
        "outputId": "6a37c1f2-3b1f-42e0-eef8-c47715f71342"
      },
      "source": [
        "#Saving the best Model for future predictions:\r\n",
        "import joblib\r\n",
        "joblib.dump(lr,'reg_rf.obj')\r\n",
        "reg_rf_from_joblib = joblib.load('reg_rf.obj')\r\n",
        "reg_rf_from_joblib.predict(X_test)"
      ],
      "execution_count": 111,
      "outputs": [
        {
          "output_type": "execute_result",
          "data": {
            "text/plain": [
              "array([[3.7432803 ],\n",
              "       [5.24109075],\n",
              "       [3.89119401],\n",
              "       ...,\n",
              "       [5.36966365],\n",
              "       [6.43595543],\n",
              "       [3.03076484]])"
            ]
          },
          "metadata": {
            "tags": []
          },
          "execution_count": 111
        }
      ]
    }
  ]
}